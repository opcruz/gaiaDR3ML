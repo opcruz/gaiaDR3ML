{
 "cells": [
  {
   "cell_type": "code",
   "execution_count": 7,
   "metadata": {},
   "outputs": [],
   "source": [
    "import pandas as pd\n",
    "import os\n",
    "import numpy as np\n",
    "from scipy.interpolate import interp1d\n"
   ]
  },
  {
   "cell_type": "code",
   "execution_count": 8,
   "metadata": {},
   "outputs": [],
   "source": [
    "# Definir las rutas de la carpeta de entrada y la carpeta de salida\n",
    "ruta_entrada = '../DATA/SIMULADOS/Procesados_Simbioticas/'\n",
    "ruta_salida = '../DATA/SIMULADOS/Interpoladas_Simbioticas/'\n"
   ]
  },
  {
   "cell_type": "code",
   "execution_count": 5,
   "metadata": {},
   "outputs": [],
   "source": [
    "# Crear la carpeta de salida si no existe\n",
    "if not os.path.exists(ruta_salida):\n",
    "    os.makedirs(ruta_salida)\n"
   ]
  },
  {
   "cell_type": "code",
   "execution_count": 11,
   "metadata": {},
   "outputs": [],
   "source": [
    "# Iterar sobre todos los archivos CSV en la carpeta de entrada\n",
    "for nombre_archivo in os.listdir(ruta_entrada):\n",
    "    if nombre_archivo.endswith('.csv'):\n",
    "        # Leer los datos del archivo actual\n",
    "        datos = pd.read_csv(os.path.join(ruta_entrada, nombre_archivo))\n",
    "        \n",
    "        # Definir los nuevos valores de Wave deseados\n",
    "        nuevos_wave = pd.Series(range(336, 1000, 2))\n",
    "        \n",
    "        # Realizar la interpolación cúbica sobre los valores de Flux\n",
    "        f = interp1d(datos['wave'], datos['flux'], kind='cubic')\n",
    "        nuevos_flux = f(nuevos_wave)\n",
    "        \n",
    "        # Crear un nuevo data frame con los valores interpolados\n",
    "        nuevos_datos = pd.DataFrame({'wave': nuevos_wave, 'flux': nuevos_flux})\n",
    "        \n",
    "        # Guardar los datos interpolados en un nuevo archivo en la carpeta de salida\n",
    "        nuevo_nombre_archivo = nombre_archivo.split('.')[0] + '_interpolado.csv'\n",
    "        nuevos_datos.to_csv(os.path.join(ruta_salida, nuevo_nombre_archivo), index=False)"
   ]
  }
 ],
 "metadata": {
  "kernelspec": {
   "display_name": "Python 3",
   "language": "python",
   "name": "python3"
  },
  "language_info": {
   "codemirror_mode": {
    "name": "ipython",
    "version": 3
   },
   "file_extension": ".py",
   "mimetype": "text/x-python",
   "name": "python",
   "nbconvert_exporter": "python",
   "pygments_lexer": "ipython3",
   "version": "3.8.6"
  },
  "orig_nbformat": 4
 },
 "nbformat": 4,
 "nbformat_minor": 2
}
