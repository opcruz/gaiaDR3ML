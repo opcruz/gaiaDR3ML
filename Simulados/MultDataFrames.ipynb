{
 "cells": [
  {
   "cell_type": "code",
   "execution_count": 2,
   "metadata": {},
   "outputs": [],
   "source": [
    "import numpy as np\n",
    "import pandas as pd\n",
    "from pandas import Series, DataFrame"
   ]
  },
  {
   "cell_type": "code",
   "execution_count": 5,
   "metadata": {},
   "outputs": [
    {
     "data": {
      "text/plain": "['../DATA/SIMULADOS21/WW\\\\A12_BP.csv',\n '../DATA/SIMULADOS21/WW\\\\A14_BP.csv',\n '../DATA/SIMULADOS21/WW\\\\A2_BP.csv',\n '../DATA/SIMULADOS21/WW\\\\A8_BP.csv',\n '../DATA/SIMULADOS21/WW\\\\BB1_BP.csv',\n '../DATA/SIMULADOS21/WW\\\\BV5_2_BP.csv',\n '../DATA/SIMULADOS21/WW\\\\Cn2_1_BP.csv',\n '../DATA/SIMULADOS21/WW\\\\Cn3_1_BP.csv',\n '../DATA/SIMULADOS21/WW\\\\DDDM1_BP.csv',\n '../DATA/SIMULADOS21/WW\\\\FG1_BP.csv',\n '../DATA/SIMULADOS21/WW\\\\H3_75_BP.csv',\n '../DATA/SIMULADOS21/WW\\\\H4_1_BP.csv',\n '../DATA/SIMULADOS21/WW\\\\HB12_BP.csv',\n '../DATA/SIMULADOS21/WW\\\\HB4_BP.csv',\n '../DATA/SIMULADOS21/WW\\\\HB6_BP.csv',\n '../DATA/SIMULADOS21/WW\\\\HE2_111_BP.csv',\n '../DATA/SIMULADOS21/WW\\\\HE2_115_BP.csv',\n '../DATA/SIMULADOS21/WW\\\\HE2_123_BP.csv',\n '../DATA/SIMULADOS21/WW\\\\HE2_138_BP.csv',\n '../DATA/SIMULADOS21/WW\\\\HE2_140_BP.csv',\n '../DATA/SIMULADOS21/WW\\\\HE2_141_BP.csv',\n '../DATA/SIMULADOS21/WW\\\\HE2_157_BP.csv',\n '../DATA/SIMULADOS21/WW\\\\HE2_158_BP.csv',\n '../DATA/SIMULADOS21/WW\\\\HE2_15_BP.csv',\n '../DATA/SIMULADOS21/WW\\\\HE2_21_BP.csv',\n '../DATA/SIMULADOS21/WW\\\\HE2_37_BP.csv',\n '../DATA/SIMULADOS21/WW\\\\HE2_48_BP.csv',\n '../DATA/SIMULADOS21/WW\\\\HE2_55_BP.csv',\n '../DATA/SIMULADOS21/WW\\\\HU1_2_BP.csv',\n '../DATA/SIMULADOS21/WW\\\\HU2_1_BP.csv',\n '../DATA/SIMULADOS21/WW\\\\IC1297_BP.csv',\n '../DATA/SIMULADOS21/WW\\\\IC1747_BP.csv',\n '../DATA/SIMULADOS21/WW\\\\IC2149_BP.csv',\n '../DATA/SIMULADOS21/WW\\\\IC2165_BP.csv',\n '../DATA/SIMULADOS21/WW\\\\IC2448_BP.csv',\n '../DATA/SIMULADOS21/WW\\\\IC2501_BP.csv',\n '../DATA/SIMULADOS21/WW\\\\IC2621_BP.csv',\n '../DATA/SIMULADOS21/WW\\\\IC289_BP.csv',\n '../DATA/SIMULADOS21/WW\\\\IC3568_BP.csv',\n '../DATA/SIMULADOS21/WW\\\\IC418_BP.csv',\n '../DATA/SIMULADOS21/WW\\\\IC4593_BP.csv',\n '../DATA/SIMULADOS21/WW\\\\IC4776_BP.csv',\n '../DATA/SIMULADOS21/WW\\\\IC5217_BP.csv',\n '../DATA/SIMULADOS21/WW\\\\J320_BP.csv',\n '../DATA/SIMULADOS21/WW\\\\J900_BP.csv',\n '../DATA/SIMULADOS21/WW\\\\K3_61_BP.csv',\n '../DATA/SIMULADOS21/WW\\\\K3_66_BP.csv',\n '../DATA/SIMULADOS21/WW\\\\K3_67_BP.csv',\n '../DATA/SIMULADOS21/WW\\\\K3_70_BP.csv',\n '../DATA/SIMULADOS21/WW\\\\K3_90_BP.csv',\n '../DATA/SIMULADOS21/WW\\\\K3_91_BP.csv',\n '../DATA/SIMULADOS21/WW\\\\K3_93_BP.csv',\n '../DATA/SIMULADOS21/WW\\\\K4_47_BP.csv',\n '../DATA/SIMULADOS21/WW\\\\K4_48_BP.csv',\n '../DATA/SIMULADOS21/WW\\\\M1_11_BP.csv',\n '../DATA/SIMULADOS21/WW\\\\M1_12_BP.csv',\n '../DATA/SIMULADOS21/WW\\\\M1_13_BP.csv',\n '../DATA/SIMULADOS21/WW\\\\M1_14_BP.csv',\n '../DATA/SIMULADOS21/WW\\\\M1_16_BP.csv',\n '../DATA/SIMULADOS21/WW\\\\M1_17_BP.csv',\n '../DATA/SIMULADOS21/WW\\\\M1_25_BP.csv',\n '../DATA/SIMULADOS21/WW\\\\M1_34_BP.csv',\n '../DATA/SIMULADOS21/WW\\\\M1_38_BP.csv',\n '../DATA/SIMULADOS21/WW\\\\M1_40_BP.csv',\n '../DATA/SIMULADOS21/WW\\\\M1_42_BP.csv',\n '../DATA/SIMULADOS21/WW\\\\M1_4_BP.csv',\n '../DATA/SIMULADOS21/WW\\\\M1_50_BP.csv',\n '../DATA/SIMULADOS21/WW\\\\M1_51_BP.csv',\n '../DATA/SIMULADOS21/WW\\\\M1_57_BP.csv',\n '../DATA/SIMULADOS21/WW\\\\M1_5_BP.csv',\n '../DATA/SIMULADOS21/WW\\\\M1_6_BP.csv',\n '../DATA/SIMULADOS21/WW\\\\M1_74_BP.csv',\n '../DATA/SIMULADOS21/WW\\\\M1_7_BP.csv',\n '../DATA/SIMULADOS21/WW\\\\M1_80_BP.csv',\n '../DATA/SIMULADOS21/WW\\\\M1_9_BP.csv',\n '../DATA/SIMULADOS21/WW\\\\M2_10_BP.csv',\n '../DATA/SIMULADOS21/WW\\\\M2_2_BP.csv',\n '../DATA/SIMULADOS21/WW\\\\M3_15_BP.csv',\n '../DATA/SIMULADOS21/WW\\\\M3_2_BP.csv',\n '../DATA/SIMULADOS21/WW\\\\M3_4_BP.csv',\n '../DATA/SIMULADOS21/WW\\\\M3_5_BP.csv',\n '../DATA/SIMULADOS21/WW\\\\M3_6_BP.csv',\n '../DATA/SIMULADOS21/WW\\\\M4_18_BP.csv',\n '../DATA/SIMULADOS21/WW\\\\ME1_1_BP.csv',\n '../DATA/SIMULADOS21/WW\\\\ME2_2_BP.csv',\n '../DATA/SIMULADOS21/WW\\\\MZ2_BP.csv',\n '../DATA/SIMULADOS21/WW\\\\MZ3_BP.csv',\n '../DATA/SIMULADOS21/WW\\\\NGC1501_BP.csv',\n '../DATA/SIMULADOS21/WW\\\\NGC1535_BP.csv',\n '../DATA/SIMULADOS21/WW\\\\NGC2022_BP.csv',\n '../DATA/SIMULADOS21/WW\\\\NGC2346_BP.csv',\n '../DATA/SIMULADOS21/WW\\\\NGC2371_BP.csv',\n '../DATA/SIMULADOS21/WW\\\\NGC2392_BP.csv',\n '../DATA/SIMULADOS21/WW\\\\NGC2438_BP.csv',\n '../DATA/SIMULADOS21/WW\\\\NGC2452_BP.csv',\n '../DATA/SIMULADOS21/WW\\\\NGC2792_BP.csv',\n '../DATA/SIMULADOS21/WW\\\\NGC2867_BP.csv',\n '../DATA/SIMULADOS21/WW\\\\NGC3211_BP.csv',\n '../DATA/SIMULADOS21/WW\\\\NGC3242_BP.csv',\n '../DATA/SIMULADOS21/WW\\\\NGC3587_BP.csv',\n '../DATA/SIMULADOS21/WW\\\\NGC3918_BP.csv',\n '../DATA/SIMULADOS21/WW\\\\NGC40_BP.csv',\n '../DATA/SIMULADOS21/WW\\\\NGC5307_BP.csv',\n '../DATA/SIMULADOS21/WW\\\\NGC5315_BP.csv',\n '../DATA/SIMULADOS21/WW\\\\NGC5882_BP.csv',\n '../DATA/SIMULADOS21/WW\\\\NGC6210_BP.csv',\n '../DATA/SIMULADOS21/WW\\\\NGC6302_BP.csv',\n '../DATA/SIMULADOS21/WW\\\\NGC6309_BP.csv',\n '../DATA/SIMULADOS21/WW\\\\NGC6369_BP.csv',\n '../DATA/SIMULADOS21/WW\\\\NGC6439_BP.csv',\n '../DATA/SIMULADOS21/WW\\\\NGC650_BP.csv',\n '../DATA/SIMULADOS21/WW\\\\NGC6537_BP.csv',\n '../DATA/SIMULADOS21/WW\\\\NGC6563_BP.csv',\n '../DATA/SIMULADOS21/WW\\\\NGC6565_BP.csv',\n '../DATA/SIMULADOS21/WW\\\\NGC6567_BP.csv',\n '../DATA/SIMULADOS21/WW\\\\NGC6572_BP.csv',\n '../DATA/SIMULADOS21/WW\\\\NGC6620_BP.csv',\n '../DATA/SIMULADOS21/WW\\\\NGC6629_BP.csv',\n '../DATA/SIMULADOS21/WW\\\\NGC6720_BP.csv',\n '../DATA/SIMULADOS21/WW\\\\NGC6741_BP.csv',\n '../DATA/SIMULADOS21/WW\\\\NGC6751_BP.csv',\n '../DATA/SIMULADOS21/WW\\\\NGC6778_BP.csv',\n '../DATA/SIMULADOS21/WW\\\\NGC6790_BP.csv',\n '../DATA/SIMULADOS21/WW\\\\NGC6803_BP.csv',\n '../DATA/SIMULADOS21/WW\\\\NGC6804_BP.csv',\n '../DATA/SIMULADOS21/WW\\\\NGC6826_BP.csv',\n '../DATA/SIMULADOS21/WW\\\\NGC6853_BP.csv',\n '../DATA/SIMULADOS21/WW\\\\NGC6879_BP.csv',\n '../DATA/SIMULADOS21/WW\\\\NGC6881_BP.csv',\n '../DATA/SIMULADOS21/WW\\\\NGC6884_BP.csv',\n '../DATA/SIMULADOS21/WW\\\\NGC6886_BP.csv',\n '../DATA/SIMULADOS21/WW\\\\NGC6891_BP.csv',\n '../DATA/SIMULADOS21/WW\\\\NGC7008_BP.csv',\n '../DATA/SIMULADOS21/WW\\\\NGC7009_BP.csv',\n '../DATA/SIMULADOS21/WW\\\\NGC7026_BP.csv',\n '../DATA/SIMULADOS21/WW\\\\NGC7027_BP.csv',\n '../DATA/SIMULADOS21/WW\\\\NGC7293_BP.csv',\n '../DATA/SIMULADOS21/WW\\\\NGC7354_BP.csv',\n '../DATA/SIMULADOS21/WW\\\\NGC7662_BP.csv',\n '../DATA/SIMULADOS21/WW\\\\PC14_BP.csv',\n '../DATA/SIMULADOS21/WW\\\\PE1_18_BP.csv',\n '../DATA/SIMULADOS21/WW\\\\ST3_1_BP.csv',\n '../DATA/SIMULADOS21/WW\\\\TH2_A_BP.csv',\n '../DATA/SIMULADOS21/WW\\\\VY1_1_BP.csv',\n '../DATA/SIMULADOS21/WW\\\\YC2_5_BP.csv']"
     },
     "execution_count": 5,
     "metadata": {},
     "output_type": "execute_result"
    }
   ],
   "source": [
    "import glob\n",
    "glob.glob('../DATA/SIMULADOS21/WW/*_BP.csv')"
   ]
  },
  {
   "cell_type": "code",
   "execution_count": 6,
   "metadata": {},
   "outputs": [],
   "source": [
    "#Cargamos todo en un array\n",
    "all_dfs = [pd.read_csv(one_filename,\n",
    "                    usecols=['wave',\n",
    "                            'flux'])\n",
    "        for one_filename in glob.glob('../DATA/SIMULADOS21/WW/*_BP.csv')\n",
    "]"
   ]
  },
  {
   "cell_type": "code",
   "execution_count": 7,
   "outputs": [
    {
     "data": {
      "text/plain": "145"
     },
     "execution_count": 7,
     "metadata": {},
     "output_type": "execute_result"
    }
   ],
   "source": [
    "len(all_dfs)"
   ],
   "metadata": {
    "collapsed": false
   }
  },
  {
   "cell_type": "code",
   "execution_count": 8,
   "metadata": {},
   "outputs": [],
   "source": [
    "#Juntamos todo en un solo archivo\n",
    "df = pd.concat(all_dfs)"
   ]
  },
  {
   "cell_type": "code",
   "execution_count": 9,
   "metadata": {},
   "outputs": [
    {
     "data": {
      "text/plain": "(69310, 2)"
     },
     "execution_count": 9,
     "metadata": {},
     "output_type": "execute_result"
    }
   ],
   "source": [
    "#Verificamos ahora cuantas filas hay\n",
    "df.shape"
   ]
  },
  {
   "cell_type": "code",
   "execution_count": 10,
   "metadata": {},
   "outputs": [
    {
     "data": {
      "text/plain": "1817.164934    145\n378.652418     145\n371.182444     145\n371.786329     145\n372.393501     145\n              ... \n565.660674     145\n567.821529     145\n570.004793     145\n572.210800     145\n306.250451     145\nName: wave, Length: 478, dtype: int64"
     },
     "execution_count": 10,
     "metadata": {},
     "output_type": "execute_result"
    }
   ],
   "source": [
    "df['wave'].value_counts()"
   ]
  }
 ],
 "metadata": {
  "kernelspec": {
   "display_name": "Python 3",
   "language": "python",
   "name": "python3"
  },
  "language_info": {
   "codemirror_mode": {
    "name": "ipython",
    "version": 3
   },
   "file_extension": ".py",
   "mimetype": "text/x-python",
   "name": "python",
   "nbconvert_exporter": "python",
   "pygments_lexer": "ipython3",
   "version": "3.8.6"
  },
  "orig_nbformat": 4,
  "vscode": {
   "interpreter": {
    "hash": "909aad8b3caab94464a35783c6f3c266e79a98289cdf4afa7e79bc234dcef510"
   }
  }
 },
 "nbformat": 4,
 "nbformat_minor": 2
}
