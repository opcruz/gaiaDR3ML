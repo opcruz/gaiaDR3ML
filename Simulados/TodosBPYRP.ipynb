{
 "cells": [
  {
   "cell_type": "code",
   "execution_count": 78,
   "metadata": {},
   "outputs": [],
   "source": [
    "import pandas as pd\n",
    "import os\n",
    "import numpy as np\n",
    "import seaborn as sns\n",
    "import matplotlib.pyplot as plt"
   ]
  },
  {
   "cell_type": "code",
   "execution_count": 90,
   "metadata": {},
   "outputs": [],
   "source": [
    "# Ruta de la carpeta donde se encuentran los archivos\n",
    "carpeta = '../DATA/SIMULADOS21/WW/'"
   ]
  },
  {
   "cell_type": "code",
   "execution_count": 91,
   "metadata": {},
   "outputs": [],
   "source": [
    "carpeta_destino = '../DATA/SIMULADOS21/Convertidos/'"
   ]
  },
  {
   "cell_type": "code",
   "execution_count": 92,
   "metadata": {},
   "outputs": [],
   "source": [
    "carpeta_temporal = '../DATA/SIMULADOS21/Temporal/'"
   ]
  },
  {
   "cell_type": "code",
   "execution_count": 82,
   "metadata": {},
   "outputs": [],
   "source": [
    "# Calcula la diferencia entre las dos columnas en cada dataframe\n",
    "def combinar_dataframes(df1,df2):\n",
    "    diff_col1 = np.abs(df1['wave'].values.reshape(-1, 1) - df2['wave'].values)\n",
    "    diff_col2 = np.abs(df1['flux'].values.reshape(-1, 1) - df2['flux'].values)\n",
    "    # Encuentra la posición donde la suma de las diferencias es mínima\n",
    "    min_diff = (diff_col1 + diff_col2).min()\n",
    "    min_idx = np.argwhere((diff_col1 + diff_col2) == min_diff)[0]\n",
    "\n",
    "    # Corta los dataframes originales en la fila con la mínima diferencia\n",
    "    df1_cortado = df1.iloc[min_idx[0]:]\n",
    "    df2_cortado = df2.iloc[min_idx[1]:]\n",
    "    # Une los dataframes cortados en uno solo\n",
    "    df_final = pd.concat([df1_cortado, df2_cortado], axis=0)\n",
    "    # Crea un nuevo dataframe con solo las columnas columna1 y columna2\n",
    "    df_final_2col = df_final[['wave', 'flux']]\n",
    "    # Ordena el dataframe por columna1 de menor a mayor\n",
    "    df_final_2col = df_final_2col.sort_values(by='wave')\n",
    "    return df_final_2col\n"
   ]
  },
  {
   "cell_type": "code",
   "execution_count": 93,
   "metadata": {},
   "outputs": [],
   "source": [
    "resultados = {}"
   ]
  },
  {
   "cell_type": "code",
   "execution_count": 94,
   "metadata": {},
   "outputs": [],
   "source": [
    "# Itera hasta que no queden más archivos para combinar\n",
    "while True:\n",
    "\n",
    "    # Lista los archivos en la carpeta de origen\n",
    "    archivos = os.listdir(carpeta)\n",
    "\n",
    "    # Bandera para verificar si se generó algún archivo nuevo en esta iteración\n",
    "    archivo_nuevo_generado = False\n",
    "     # Diccionario para almacenar los dataframes resultantes de esta iteración\n",
    "    resultados_temporales = {}\n",
    "    # Itera sobre los archivos en la lista y busca los archivos que tengan nombres parecidos\n",
    "    for i, archivo1 in enumerate(archivos):\n",
    "        # Extrae el nombre del archivo hasta el último guión bajo\n",
    "        nombre_archivo1 = '_'.join(archivo1.split('_')[:-1])\n",
    "\n",
    "        for j, archivo2 in enumerate(archivos):\n",
    "            if i < j:\n",
    "                # Extrae el nombre del archivo hasta el último guión bajo\n",
    "                nombre_archivo2 = '_'.join(archivo2.split('_')[:-1])\n",
    "\n",
    "                if nombre_archivo1 == nombre_archivo2:\n",
    "                    # Verifica que no se haya generado un archivo nuevo con estos dos archivos\n",
    "                    nombre_resultado = f'{nombre_archivo1}_{archivo1.split(\"_\")[-1]}_{archivo2.split(\"_\")[-1]}'\n",
    "                    if nombre_resultado not in resultados.keys() and nombre_resultado not in resultados_temporales.keys():\n",
    "                        # Carga los dataframes\n",
    "                        df1 = pd.read_csv(os.path.join(carpeta, archivo1))\n",
    "                        df2 = pd.read_csv(os.path.join(carpeta, archivo2))\n",
    "\n",
    "                        # Combina los dataframes y encuentra la posición donde existe la mínima diferencia\n",
    "                        df3 = combinar_dataframes(df1, df2)\n",
    "\n",
    "                        # Almacena el dataframe resultante en el diccionario\n",
    "                        resultados[nombre_resultado] = df3\n",
    "\n",
    "                        # Guarda el dataframe resultante en un archivo CSV en la carpeta temporal\n",
    "                        nombre_archivo = f'{nombre_resultado}.csv'\n",
    "                        ruta_archivo = os.path.join(carpeta_temporal, nombre_archivo)\n",
    "                        df3.to_csv(ruta_archivo, index=False)\n",
    "\n",
    "                        # Cambia la bandera para indicar que se generó un archivo nuevo\n",
    "                        archivo_nuevo_generado = True\n",
    "\n",
    "    # Si no se generó ningún archivo nuevo, termina el ciclo\n",
    "    if not archivo_nuevo_generado:\n",
    "        break\n",
    "\n",
    "    # Si se generó al menos un archivo nuevo, mueve los archivos originales a la carpeta temporal\n",
    "    #for archivo in archivos:\n",
    "        #ruta_origen = os.path.join(carpeta, archivo)\n",
    "        #ruta_destino = os.path.join(carpeta_temporal, archivo)\n",
    "        #os.rename(ruta_origen, ruta_destino)\n",
    "\n",
    "    # Lista los archivos en la carpeta temporal y los mueve a la carpeta de destino\n",
    "    archivos_temporales = os.listdir(carpeta_temporal)\n",
    "    for archivo_temporal in archivos_temporales:\n",
    "        ruta_temporal = os.path.join(carpeta_temporal, archivo_temporal)\n",
    "        ruta_destino = os.path.join(carpeta_destino, archivo_temporal)\n",
    "        os.rename(ruta_temporal, ruta_destino)"
   ]
  },
  {
   "attachments": {},
   "cell_type": "markdown",
   "metadata": {},
   "source": [
    "*SIMBIOTICAS*\n"
   ]
  },
  {
   "cell_type": "code",
   "execution_count": 95,
   "metadata": {},
   "outputs": [],
   "source": [
    "# Calcula la diferencia entre las dos columnas en cada dataframe\n",
    "def combinar_dataframes(df1,df2):\n",
    "     # Selecciona solo las filas donde el valor de la columna 'wave' es menor que 1000\n",
    "    df1 = df1[(df1['wave'] < 1000)]\n",
    "    df2 = df2[(df2['wave'] < 1000)]\n",
    "    \n",
    "    diff_col1 = np.abs(df1['wave'].values.reshape(-1, 1) - df2['wave'].values)\n",
    "    diff_col2 = np.abs(df1['flux'].values.reshape(-1, 1) - df2['flux'].values)\n",
    "    # Encuentra la posición donde la suma de las diferencias es mínima\n",
    "    min_diff = (diff_col1 + diff_col2).min()\n",
    "    min_idx = np.argwhere((diff_col1 + diff_col2) == min_diff)[0]\n",
    "\n",
    "    # Corta los dataframes originales en la fila con la mínima diferencia\n",
    "    df1_cortado = df1.iloc[min_idx[0]:]\n",
    "    df2_cortado = df2.iloc[min_idx[1]:]\n",
    "    # Une los dataframes cortados en uno solo\n",
    "    df_final = pd.concat([df1_cortado, df2_cortado], axis=0)\n",
    "    # Crea un nuevo dataframe con solo las columnas columna1 y columna2\n",
    "    df_final_2col = df_final[['wave', 'flux']]\n",
    "    # Ordena el dataframe por columna1 de menor a mayor\n",
    "    df_final_2col = df_final_2col.sort_values(by='wave')\n",
    "    return df_final_2col"
   ]
  },
  {
   "cell_type": "code",
   "execution_count": 96,
   "metadata": {},
   "outputs": [],
   "source": [
    "# Definir el diccionario para almacenar los dataframes resultantes\n",
    "resultados = {}"
   ]
  },
  {
   "cell_type": "code",
   "execution_count": 97,
   "metadata": {},
   "outputs": [],
   "source": [
    "# Ruta de la carpeta donde se encuentran los archivos\n",
    "carpeta = '../DATA/SIMULADOS/O94_MARZO20/'\n",
    "carpeta_temporal = '../DATA/SIMULADOS/temp/'\n",
    "carpeta_destino = '../DATA/SIMULADOS/Procesados/'"
   ]
  },
  {
   "cell_type": "code",
   "execution_count": 98,
   "metadata": {},
   "outputs": [],
   "source": [
    "# Itera hasta que no queden más archivos para combinar\n",
    "while True:\n",
    "\n",
    "    # Lista los archivos en la carpeta de origen\n",
    "    archivos = os.listdir(carpeta)\n",
    "\n",
    "    # Bandera para verificar si se generó algún archivo nuevo en esta iteración\n",
    "    archivo_nuevo_generado = False\n",
    "     # Diccionario para almacenar los dataframes resultantes de esta iteración\n",
    "    resultados_temporales = {}\n",
    "    # Itera sobre los archivos en la lista y busca los archivos que tengan nombres parecidos\n",
    "    for i, archivo1 in enumerate(archivos):\n",
    "        # Extrae el nombre del archivo después del primer guion bajo\n",
    "        nombre_archivo1 = archivo1.split('_')[1]\n",
    "\n",
    "        for j, archivo2 in enumerate(archivos):\n",
    "            if i < j:\n",
    "                 # Extrae el nombre del archivo después del primer guion bajo\n",
    "                nombre_archivo2 = archivo2.split('_')[1]\n",
    "\n",
    "                if nombre_archivo1 == nombre_archivo2:\n",
    "                    # Verifica que no se haya generado un archivo nuevo con estos dos archivos\n",
    "                    nombre_resultado = f'{nombre_archivo1}_{archivo1.split(\"_\")[-1]}_{archivo2.split(\"_\")[-1]}'\n",
    "                    if nombre_resultado not in resultados.keys() and nombre_resultado not in resultados_temporales.keys():\n",
    "                        # Carga los dataframes\n",
    "                        df1 = pd.read_csv(os.path.join(carpeta, archivo1))\n",
    "                        df2 = pd.read_csv(os.path.join(carpeta, archivo2))\n",
    "                        df1 = df1[(df1['wave'] < 1000)]\n",
    "                        df2 = df2[(df2['wave'] < 1000)]\n",
    "\n",
    "                        # Combina los dataframes y encuentra la posición donde existe la mínima diferencia\n",
    "                        df3 = combinar_dataframes(df1, df2)\n",
    "\n",
    "                        # Almacena el dataframe resultante en el diccionario\n",
    "                        resultados[nombre_resultado] = df3\n",
    "\n",
    "                        # Guarda el dataframe resultante en un archivo CSV en la carpeta temporal\n",
    "                        nombre_archivo = f'{nombre_resultado}.csv'\n",
    "                        ruta_archivo = os.path.join(carpeta_temporal, nombre_archivo)\n",
    "                        df3.to_csv(ruta_archivo, index=False)\n",
    "\n",
    "                        # Cambia la bandera para indicar que se generó un archivo nuevo\n",
    "                        archivo_nuevo_generado = True\n",
    "\n",
    "    # Si no se generó ningún archivo nuevo, termina el ciclo\n",
    "    if not archivo_nuevo_generado:\n",
    "        break\n",
    "\n",
    "    # Si se generó al menos un archivo nuevo, mueve los archivos originales a la carpeta temporal\n",
    "    #for archivo in archivos:\n",
    "        #ruta_origen = os.path.join(carpeta, archivo)\n",
    "        #ruta_destino = os.path.join(carpeta_temporal, archivo)\n",
    "        #os.rename(ruta_origen, ruta_destino)\n",
    "\n",
    "    # Lista los archivos en la carpeta temporal y los mueve a la carpeta de destino\n",
    "    archivos_temporales = os.listdir(carpeta_temporal)\n",
    "    for archivo_temporal in archivos_temporales:\n",
    "        ruta_temporal = os.path.join(carpeta_temporal, archivo_temporal)\n",
    "        ruta_destino = os.path.join(carpeta_destino, archivo_temporal)\n",
    "        os.rename(ruta_temporal, ruta_destino)"
   ]
  }
 ],
 "metadata": {
  "kernelspec": {
   "display_name": "Python 3",
   "language": "python",
   "name": "python3"
  },
  "language_info": {
   "codemirror_mode": {
    "name": "ipython",
    "version": 3
   },
   "file_extension": ".py",
   "mimetype": "text/x-python",
   "name": "python",
   "nbconvert_exporter": "python",
   "pygments_lexer": "ipython3",
   "version": "3.8.6"
  },
  "orig_nbformat": 4,
  "vscode": {
   "interpreter": {
    "hash": "909aad8b3caab94464a35783c6f3c266e79a98289cdf4afa7e79bc234dcef510"
   }
  }
 },
 "nbformat": 4,
 "nbformat_minor": 2
}
