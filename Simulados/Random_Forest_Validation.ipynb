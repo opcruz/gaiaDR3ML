{
 "cells": [
  {
   "cell_type": "code",
   "execution_count": 1,
   "metadata": {
    "collapsed": true
   },
   "outputs": [],
   "source": [
    "import pandas as pd\n",
    "import numpy as np\n",
    "from sklearn.ensemble import RandomForestClassifier\n",
    "from sklearn.model_selection import train_test_split\n",
    "from sklearn.metrics import accuracy_score\n",
    "from sklearn.model_selection import cross_val_score\n",
    "from sklearn.metrics import confusion_matrix, accuracy_score\n",
    "from sklearn.metrics import cohen_kappa_score\n",
    "from sklearn.metrics import classification_report, balanced_accuracy_score\n",
    "from sklearn.model_selection import GridSearchCV"
   ]
  },
  {
   "cell_type": "code",
   "execution_count": 24,
   "metadata": {
    "collapsed": false
   },
   "outputs": [],
   "source": [
    "#Cargar el archivo que contiene los datos de los tres tipos de espectros\n",
    "# (Simbioticas-1, Nebulosas-2, Gigantes Rojas-3) DESPUÉS DE LA REDUCCIÓN DE DATOS (1000 APROX. POR CADA UNO)\n",
    "\n",
    "data = pd.read_csv('../Simulados/RandomForest.csv')"
   ]
  },
  {
   "cell_type": "code",
   "execution_count": 25,
   "metadata": {
    "collapsed": false
   },
   "outputs": [],
   "source": [
    "# Separamos las características y la variable objetivo\n",
    "\n",
    "X = data.drop(data.columns[-1],  axis=1)\n",
    "y = data.iloc[:, -1]"
   ]
  },
  {
   "cell_type": "code",
   "execution_count": 26,
   "metadata": {
    "collapsed": false
   },
   "outputs": [],
   "source": [
    "X_train, X_test, y_train, y_test = train_test_split(X, y, test_size=0.2, random_state=1)"
   ]
  },
  {
   "cell_type": "code",
   "execution_count": 27,
   "metadata": {
    "collapsed": false
   },
   "outputs": [
    {
     "name": "stdout",
     "output_type": "stream",
     "text": [
      "Precisión: 0.96 (+/- 0.15)\n"
     ]
    }
   ],
   "source": [
    "# Creamos el modelo de clasificación de Random Forest\n",
    "rf = RandomForestClassifier(n_estimators=500, random_state=42)\n",
    "scores = cross_val_score(rf, X, y, cv=5)\n",
    "print(\"Precisión: %0.2f (+/- %0.2f)\" % (scores.mean(), scores.std() * 2))"
   ]
  },
  {
   "cell_type": "code",
   "execution_count": 28,
   "metadata": {
    "collapsed": false
   },
   "outputs": [
    {
     "data": {
      "text/html": [
       "<style>#sk-container-id-4 {color: black;background-color: white;}#sk-container-id-4 pre{padding: 0;}#sk-container-id-4 div.sk-toggleable {background-color: white;}#sk-container-id-4 label.sk-toggleable__label {cursor: pointer;display: block;width: 100%;margin-bottom: 0;padding: 0.3em;box-sizing: border-box;text-align: center;}#sk-container-id-4 label.sk-toggleable__label-arrow:before {content: \"▸\";float: left;margin-right: 0.25em;color: #696969;}#sk-container-id-4 label.sk-toggleable__label-arrow:hover:before {color: black;}#sk-container-id-4 div.sk-estimator:hover label.sk-toggleable__label-arrow:before {color: black;}#sk-container-id-4 div.sk-toggleable__content {max-height: 0;max-width: 0;overflow: hidden;text-align: left;background-color: #f0f8ff;}#sk-container-id-4 div.sk-toggleable__content pre {margin: 0.2em;color: black;border-radius: 0.25em;background-color: #f0f8ff;}#sk-container-id-4 input.sk-toggleable__control:checked~div.sk-toggleable__content {max-height: 200px;max-width: 100%;overflow: auto;}#sk-container-id-4 input.sk-toggleable__control:checked~label.sk-toggleable__label-arrow:before {content: \"▾\";}#sk-container-id-4 div.sk-estimator input.sk-toggleable__control:checked~label.sk-toggleable__label {background-color: #d4ebff;}#sk-container-id-4 div.sk-label input.sk-toggleable__control:checked~label.sk-toggleable__label {background-color: #d4ebff;}#sk-container-id-4 input.sk-hidden--visually {border: 0;clip: rect(1px 1px 1px 1px);clip: rect(1px, 1px, 1px, 1px);height: 1px;margin: -1px;overflow: hidden;padding: 0;position: absolute;width: 1px;}#sk-container-id-4 div.sk-estimator {font-family: monospace;background-color: #f0f8ff;border: 1px dotted black;border-radius: 0.25em;box-sizing: border-box;margin-bottom: 0.5em;}#sk-container-id-4 div.sk-estimator:hover {background-color: #d4ebff;}#sk-container-id-4 div.sk-parallel-item::after {content: \"\";width: 100%;border-bottom: 1px solid gray;flex-grow: 1;}#sk-container-id-4 div.sk-label:hover label.sk-toggleable__label {background-color: #d4ebff;}#sk-container-id-4 div.sk-serial::before {content: \"\";position: absolute;border-left: 1px solid gray;box-sizing: border-box;top: 0;bottom: 0;left: 50%;z-index: 0;}#sk-container-id-4 div.sk-serial {display: flex;flex-direction: column;align-items: center;background-color: white;padding-right: 0.2em;padding-left: 0.2em;position: relative;}#sk-container-id-4 div.sk-item {position: relative;z-index: 1;}#sk-container-id-4 div.sk-parallel {display: flex;align-items: stretch;justify-content: center;background-color: white;position: relative;}#sk-container-id-4 div.sk-item::before, #sk-container-id-4 div.sk-parallel-item::before {content: \"\";position: absolute;border-left: 1px solid gray;box-sizing: border-box;top: 0;bottom: 0;left: 50%;z-index: -1;}#sk-container-id-4 div.sk-parallel-item {display: flex;flex-direction: column;z-index: 1;position: relative;background-color: white;}#sk-container-id-4 div.sk-parallel-item:first-child::after {align-self: flex-end;width: 50%;}#sk-container-id-4 div.sk-parallel-item:last-child::after {align-self: flex-start;width: 50%;}#sk-container-id-4 div.sk-parallel-item:only-child::after {width: 0;}#sk-container-id-4 div.sk-dashed-wrapped {border: 1px dashed gray;margin: 0 0.4em 0.5em 0.4em;box-sizing: border-box;padding-bottom: 0.4em;background-color: white;}#sk-container-id-4 div.sk-label label {font-family: monospace;font-weight: bold;display: inline-block;line-height: 1.2em;}#sk-container-id-4 div.sk-label-container {text-align: center;}#sk-container-id-4 div.sk-container {/* jupyter's `normalize.less` sets `[hidden] { display: none; }` but bootstrap.min.css set `[hidden] { display: none !important; }` so we also need the `!important` here to be able to override the default hidden behavior on the sphinx rendered scikit-learn.org. See: https://github.com/scikit-learn/scikit-learn/issues/21755 */display: inline-block !important;position: relative;}#sk-container-id-4 div.sk-text-repr-fallback {display: none;}</style><div id=\"sk-container-id-4\" class=\"sk-top-container\"><div class=\"sk-text-repr-fallback\"><pre>RandomForestClassifier(n_estimators=500, random_state=42)</pre><b>In a Jupyter environment, please rerun this cell to show the HTML representation or trust the notebook. <br />On GitHub, the HTML representation is unable to render, please try loading this page with nbviewer.org.</b></div><div class=\"sk-container\" hidden><div class=\"sk-item\"><div class=\"sk-estimator sk-toggleable\"><input class=\"sk-toggleable__control sk-hidden--visually\" id=\"sk-estimator-id-4\" type=\"checkbox\" checked><label for=\"sk-estimator-id-4\" class=\"sk-toggleable__label sk-toggleable__label-arrow\">RandomForestClassifier</label><div class=\"sk-toggleable__content\"><pre>RandomForestClassifier(n_estimators=500, random_state=42)</pre></div></div></div></div></div>"
      ],
      "text/plain": [
       "RandomForestClassifier(n_estimators=500, random_state=42)"
      ]
     },
     "execution_count": 28,
     "metadata": {},
     "output_type": "execute_result"
    }
   ],
   "source": [
    "# Entrenamos el modelo utilizando el conjunto de entrenamiento\n",
    "rf.fit(X_train, y_train)"
   ]
  },
  {
   "cell_type": "code",
   "execution_count": 29,
   "metadata": {
    "collapsed": false
   },
   "outputs": [
    {
     "data": {
      "text/html": [
       "<div>\n",
       "<style scoped>\n",
       "    .dataframe tbody tr th:only-of-type {\n",
       "        vertical-align: middle;\n",
       "    }\n",
       "\n",
       "    .dataframe tbody tr th {\n",
       "        vertical-align: top;\n",
       "    }\n",
       "\n",
       "    .dataframe thead th {\n",
       "        text-align: right;\n",
       "    }\n",
       "</style>\n",
       "<table border=\"1\" class=\"dataframe\">\n",
       "  <thead>\n",
       "    <tr style=\"text-align: right;\">\n",
       "      <th></th>\n",
       "      <th>0</th>\n",
       "      <th>1</th>\n",
       "      <th>2</th>\n",
       "      <th>3</th>\n",
       "      <th>4</th>\n",
       "      <th>5</th>\n",
       "      <th>6</th>\n",
       "      <th>7</th>\n",
       "      <th>8</th>\n",
       "      <th>9</th>\n",
       "      <th>...</th>\n",
       "      <th>322</th>\n",
       "      <th>323</th>\n",
       "      <th>324</th>\n",
       "      <th>325</th>\n",
       "      <th>326</th>\n",
       "      <th>327</th>\n",
       "      <th>328</th>\n",
       "      <th>329</th>\n",
       "      <th>330</th>\n",
       "      <th>331</th>\n",
       "    </tr>\n",
       "  </thead>\n",
       "  <tbody>\n",
       "    <tr>\n",
       "      <th>996</th>\n",
       "      <td>6.113679e-04</td>\n",
       "      <td>1.095292e-03</td>\n",
       "      <td>1.735736e-03</td>\n",
       "      <td>2.529477e-03</td>\n",
       "      <td>3.511439e-03</td>\n",
       "      <td>4.737385e-03</td>\n",
       "      <td>6.216059e-03</td>\n",
       "      <td>7.918126e-03</td>\n",
       "      <td>9.852826e-03</td>\n",
       "      <td>1.209093e-02</td>\n",
       "      <td>...</td>\n",
       "      <td>2.841850e-08</td>\n",
       "      <td>9.736089e-08</td>\n",
       "      <td>8.139476e-07</td>\n",
       "      <td>4.086347e-08</td>\n",
       "      <td>7.229946e-07</td>\n",
       "      <td>1.802127e-07</td>\n",
       "      <td>9.636972e-08</td>\n",
       "      <td>3.652154e-08</td>\n",
       "      <td>5.153274e-07</td>\n",
       "      <td>6.837509e-07</td>\n",
       "    </tr>\n",
       "    <tr>\n",
       "      <th>201</th>\n",
       "      <td>5.435489e-04</td>\n",
       "      <td>6.888938e-04</td>\n",
       "      <td>8.498698e-04</td>\n",
       "      <td>1.028667e-03</td>\n",
       "      <td>1.230753e-03</td>\n",
       "      <td>1.465846e-03</td>\n",
       "      <td>1.727896e-03</td>\n",
       "      <td>2.043479e-03</td>\n",
       "      <td>2.497660e-03</td>\n",
       "      <td>3.277436e-03</td>\n",
       "      <td>...</td>\n",
       "      <td>2.842004e-08</td>\n",
       "      <td>9.736615e-08</td>\n",
       "      <td>8.139915e-07</td>\n",
       "      <td>4.086568e-08</td>\n",
       "      <td>7.230337e-07</td>\n",
       "      <td>1.802224e-07</td>\n",
       "      <td>9.637493e-08</td>\n",
       "      <td>3.652351e-08</td>\n",
       "      <td>5.153552e-07</td>\n",
       "      <td>6.837878e-07</td>\n",
       "    </tr>\n",
       "    <tr>\n",
       "      <th>594</th>\n",
       "      <td>1.734445e-03</td>\n",
       "      <td>2.431256e-03</td>\n",
       "      <td>3.239533e-03</td>\n",
       "      <td>4.168063e-03</td>\n",
       "      <td>5.228340e-03</td>\n",
       "      <td>6.437913e-03</td>\n",
       "      <td>7.871792e-03</td>\n",
       "      <td>9.585465e-03</td>\n",
       "      <td>1.155468e-02</td>\n",
       "      <td>1.384332e-02</td>\n",
       "      <td>...</td>\n",
       "      <td>2.842151e-08</td>\n",
       "      <td>9.737120e-08</td>\n",
       "      <td>8.140337e-07</td>\n",
       "      <td>4.086780e-08</td>\n",
       "      <td>7.230711e-07</td>\n",
       "      <td>1.802318e-07</td>\n",
       "      <td>9.637993e-08</td>\n",
       "      <td>3.652540e-08</td>\n",
       "      <td>5.153819e-07</td>\n",
       "      <td>6.838233e-07</td>\n",
       "    </tr>\n",
       "    <tr>\n",
       "      <th>375</th>\n",
       "      <td>2.642916e-04</td>\n",
       "      <td>4.258333e-04</td>\n",
       "      <td>6.136688e-04</td>\n",
       "      <td>8.314924e-04</td>\n",
       "      <td>1.107566e-03</td>\n",
       "      <td>1.422974e-03</td>\n",
       "      <td>1.771544e-03</td>\n",
       "      <td>2.181073e-03</td>\n",
       "      <td>2.667617e-03</td>\n",
       "      <td>3.219135e-03</td>\n",
       "      <td>...</td>\n",
       "      <td>2.841405e-08</td>\n",
       "      <td>9.734563e-08</td>\n",
       "      <td>8.138200e-07</td>\n",
       "      <td>4.085707e-08</td>\n",
       "      <td>7.228813e-07</td>\n",
       "      <td>1.801844e-07</td>\n",
       "      <td>9.635462e-08</td>\n",
       "      <td>3.651581e-08</td>\n",
       "      <td>5.152466e-07</td>\n",
       "      <td>6.836437e-07</td>\n",
       "    </tr>\n",
       "    <tr>\n",
       "      <th>1041</th>\n",
       "      <td>9.902995e-09</td>\n",
       "      <td>6.077103e-07</td>\n",
       "      <td>1.697103e-06</td>\n",
       "      <td>4.820393e-06</td>\n",
       "      <td>5.691818e-06</td>\n",
       "      <td>6.087752e-06</td>\n",
       "      <td>7.083258e-06</td>\n",
       "      <td>8.922266e-06</td>\n",
       "      <td>1.215554e-05</td>\n",
       "      <td>1.252716e-05</td>\n",
       "      <td>...</td>\n",
       "      <td>2.841717e-08</td>\n",
       "      <td>9.735634e-08</td>\n",
       "      <td>8.139095e-07</td>\n",
       "      <td>4.086156e-08</td>\n",
       "      <td>7.229608e-07</td>\n",
       "      <td>1.802043e-07</td>\n",
       "      <td>9.636522e-08</td>\n",
       "      <td>3.651983e-08</td>\n",
       "      <td>5.153033e-07</td>\n",
       "      <td>6.837189e-07</td>\n",
       "    </tr>\n",
       "    <tr>\n",
       "      <th>...</th>\n",
       "      <td>...</td>\n",
       "      <td>...</td>\n",
       "      <td>...</td>\n",
       "      <td>...</td>\n",
       "      <td>...</td>\n",
       "      <td>...</td>\n",
       "      <td>...</td>\n",
       "      <td>...</td>\n",
       "      <td>...</td>\n",
       "      <td>...</td>\n",
       "      <td>...</td>\n",
       "      <td>...</td>\n",
       "      <td>...</td>\n",
       "      <td>...</td>\n",
       "      <td>...</td>\n",
       "      <td>...</td>\n",
       "      <td>...</td>\n",
       "      <td>...</td>\n",
       "      <td>...</td>\n",
       "      <td>...</td>\n",
       "      <td>...</td>\n",
       "    </tr>\n",
       "    <tr>\n",
       "      <th>154</th>\n",
       "      <td>6.716899e-02</td>\n",
       "      <td>7.997861e-02</td>\n",
       "      <td>9.394289e-02</td>\n",
       "      <td>1.161011e-01</td>\n",
       "      <td>1.511986e-01</td>\n",
       "      <td>1.997018e-01</td>\n",
       "      <td>2.515253e-01</td>\n",
       "      <td>2.857546e-01</td>\n",
       "      <td>2.925210e-01</td>\n",
       "      <td>2.838713e-01</td>\n",
       "      <td>...</td>\n",
       "      <td>2.841318e-08</td>\n",
       "      <td>9.734265e-08</td>\n",
       "      <td>8.137951e-07</td>\n",
       "      <td>4.085581e-08</td>\n",
       "      <td>7.228591e-07</td>\n",
       "      <td>1.801789e-07</td>\n",
       "      <td>9.635167e-08</td>\n",
       "      <td>3.651470e-08</td>\n",
       "      <td>5.152308e-07</td>\n",
       "      <td>6.836228e-07</td>\n",
       "    </tr>\n",
       "    <tr>\n",
       "      <th>1018</th>\n",
       "      <td>1.562895e-06</td>\n",
       "      <td>3.440521e-06</td>\n",
       "      <td>5.704840e-06</td>\n",
       "      <td>6.375069e-06</td>\n",
       "      <td>9.118311e-06</td>\n",
       "      <td>2.429091e-05</td>\n",
       "      <td>5.542148e-05</td>\n",
       "      <td>9.491699e-05</td>\n",
       "      <td>1.271632e-04</td>\n",
       "      <td>1.468758e-04</td>\n",
       "      <td>...</td>\n",
       "      <td>2.842211e-08</td>\n",
       "      <td>9.737327e-08</td>\n",
       "      <td>8.140510e-07</td>\n",
       "      <td>4.086867e-08</td>\n",
       "      <td>7.230865e-07</td>\n",
       "      <td>1.802356e-07</td>\n",
       "      <td>9.638197e-08</td>\n",
       "      <td>3.652618e-08</td>\n",
       "      <td>5.153929e-07</td>\n",
       "      <td>6.838378e-07</td>\n",
       "    </tr>\n",
       "    <tr>\n",
       "      <th>315</th>\n",
       "      <td>5.882013e-07</td>\n",
       "      <td>5.148459e-07</td>\n",
       "      <td>4.911890e-07</td>\n",
       "      <td>9.027505e-07</td>\n",
       "      <td>8.795670e-07</td>\n",
       "      <td>3.012351e-07</td>\n",
       "      <td>6.948477e-07</td>\n",
       "      <td>1.145989e-07</td>\n",
       "      <td>3.382447e-07</td>\n",
       "      <td>4.548886e-07</td>\n",
       "      <td>...</td>\n",
       "      <td>2.841451e-08</td>\n",
       "      <td>9.734723e-08</td>\n",
       "      <td>8.138333e-07</td>\n",
       "      <td>4.085774e-08</td>\n",
       "      <td>7.228931e-07</td>\n",
       "      <td>1.801874e-07</td>\n",
       "      <td>9.635620e-08</td>\n",
       "      <td>3.651641e-08</td>\n",
       "      <td>5.152551e-07</td>\n",
       "      <td>6.836549e-07</td>\n",
       "    </tr>\n",
       "    <tr>\n",
       "      <th>259</th>\n",
       "      <td>6.445589e-07</td>\n",
       "      <td>4.023749e-07</td>\n",
       "      <td>2.524432e-08</td>\n",
       "      <td>7.224658e-06</td>\n",
       "      <td>7.880185e-05</td>\n",
       "      <td>2.539730e-04</td>\n",
       "      <td>4.971831e-04</td>\n",
       "      <td>7.529315e-04</td>\n",
       "      <td>1.010397e-03</td>\n",
       "      <td>1.311235e-03</td>\n",
       "      <td>...</td>\n",
       "      <td>2.841460e-08</td>\n",
       "      <td>9.734752e-08</td>\n",
       "      <td>8.138357e-07</td>\n",
       "      <td>4.085786e-08</td>\n",
       "      <td>7.228953e-07</td>\n",
       "      <td>1.801879e-07</td>\n",
       "      <td>9.635648e-08</td>\n",
       "      <td>3.651652e-08</td>\n",
       "      <td>5.152566e-07</td>\n",
       "      <td>6.836570e-07</td>\n",
       "    </tr>\n",
       "    <tr>\n",
       "      <th>111</th>\n",
       "      <td>3.611809e-02</td>\n",
       "      <td>6.187878e-02</td>\n",
       "      <td>8.545506e-02</td>\n",
       "      <td>9.902698e-02</td>\n",
       "      <td>1.160686e-01</td>\n",
       "      <td>1.414115e-01</td>\n",
       "      <td>1.693018e-01</td>\n",
       "      <td>2.008185e-01</td>\n",
       "      <td>2.380170e-01</td>\n",
       "      <td>2.808734e-01</td>\n",
       "      <td>...</td>\n",
       "      <td>3.325565e-02</td>\n",
       "      <td>3.295746e-02</td>\n",
       "      <td>3.263492e-02</td>\n",
       "      <td>3.228837e-02</td>\n",
       "      <td>3.191783e-02</td>\n",
       "      <td>3.152335e-02</td>\n",
       "      <td>3.110492e-02</td>\n",
       "      <td>3.066245e-02</td>\n",
       "      <td>3.019581e-02</td>\n",
       "      <td>2.970489e-02</td>\n",
       "    </tr>\n",
       "  </tbody>\n",
       "</table>\n",
       "<p>255 rows × 332 columns</p>\n",
       "</div>"
      ],
      "text/plain": [
       "                 0             1             2             3             4  \\\n",
       "996   6.113679e-04  1.095292e-03  1.735736e-03  2.529477e-03  3.511439e-03   \n",
       "201   5.435489e-04  6.888938e-04  8.498698e-04  1.028667e-03  1.230753e-03   \n",
       "594   1.734445e-03  2.431256e-03  3.239533e-03  4.168063e-03  5.228340e-03   \n",
       "375   2.642916e-04  4.258333e-04  6.136688e-04  8.314924e-04  1.107566e-03   \n",
       "1041  9.902995e-09  6.077103e-07  1.697103e-06  4.820393e-06  5.691818e-06   \n",
       "...            ...           ...           ...           ...           ...   \n",
       "154   6.716899e-02  7.997861e-02  9.394289e-02  1.161011e-01  1.511986e-01   \n",
       "1018  1.562895e-06  3.440521e-06  5.704840e-06  6.375069e-06  9.118311e-06   \n",
       "315   5.882013e-07  5.148459e-07  4.911890e-07  9.027505e-07  8.795670e-07   \n",
       "259   6.445589e-07  4.023749e-07  2.524432e-08  7.224658e-06  7.880185e-05   \n",
       "111   3.611809e-02  6.187878e-02  8.545506e-02  9.902698e-02  1.160686e-01   \n",
       "\n",
       "                 5             6             7             8             9  \\\n",
       "996   4.737385e-03  6.216059e-03  7.918126e-03  9.852826e-03  1.209093e-02   \n",
       "201   1.465846e-03  1.727896e-03  2.043479e-03  2.497660e-03  3.277436e-03   \n",
       "594   6.437913e-03  7.871792e-03  9.585465e-03  1.155468e-02  1.384332e-02   \n",
       "375   1.422974e-03  1.771544e-03  2.181073e-03  2.667617e-03  3.219135e-03   \n",
       "1041  6.087752e-06  7.083258e-06  8.922266e-06  1.215554e-05  1.252716e-05   \n",
       "...            ...           ...           ...           ...           ...   \n",
       "154   1.997018e-01  2.515253e-01  2.857546e-01  2.925210e-01  2.838713e-01   \n",
       "1018  2.429091e-05  5.542148e-05  9.491699e-05  1.271632e-04  1.468758e-04   \n",
       "315   3.012351e-07  6.948477e-07  1.145989e-07  3.382447e-07  4.548886e-07   \n",
       "259   2.539730e-04  4.971831e-04  7.529315e-04  1.010397e-03  1.311235e-03   \n",
       "111   1.414115e-01  1.693018e-01  2.008185e-01  2.380170e-01  2.808734e-01   \n",
       "\n",
       "      ...           322           323           324           325  \\\n",
       "996   ...  2.841850e-08  9.736089e-08  8.139476e-07  4.086347e-08   \n",
       "201   ...  2.842004e-08  9.736615e-08  8.139915e-07  4.086568e-08   \n",
       "594   ...  2.842151e-08  9.737120e-08  8.140337e-07  4.086780e-08   \n",
       "375   ...  2.841405e-08  9.734563e-08  8.138200e-07  4.085707e-08   \n",
       "1041  ...  2.841717e-08  9.735634e-08  8.139095e-07  4.086156e-08   \n",
       "...   ...           ...           ...           ...           ...   \n",
       "154   ...  2.841318e-08  9.734265e-08  8.137951e-07  4.085581e-08   \n",
       "1018  ...  2.842211e-08  9.737327e-08  8.140510e-07  4.086867e-08   \n",
       "315   ...  2.841451e-08  9.734723e-08  8.138333e-07  4.085774e-08   \n",
       "259   ...  2.841460e-08  9.734752e-08  8.138357e-07  4.085786e-08   \n",
       "111   ...  3.325565e-02  3.295746e-02  3.263492e-02  3.228837e-02   \n",
       "\n",
       "               326           327           328           329           330  \\\n",
       "996   7.229946e-07  1.802127e-07  9.636972e-08  3.652154e-08  5.153274e-07   \n",
       "201   7.230337e-07  1.802224e-07  9.637493e-08  3.652351e-08  5.153552e-07   \n",
       "594   7.230711e-07  1.802318e-07  9.637993e-08  3.652540e-08  5.153819e-07   \n",
       "375   7.228813e-07  1.801844e-07  9.635462e-08  3.651581e-08  5.152466e-07   \n",
       "1041  7.229608e-07  1.802043e-07  9.636522e-08  3.651983e-08  5.153033e-07   \n",
       "...            ...           ...           ...           ...           ...   \n",
       "154   7.228591e-07  1.801789e-07  9.635167e-08  3.651470e-08  5.152308e-07   \n",
       "1018  7.230865e-07  1.802356e-07  9.638197e-08  3.652618e-08  5.153929e-07   \n",
       "315   7.228931e-07  1.801874e-07  9.635620e-08  3.651641e-08  5.152551e-07   \n",
       "259   7.228953e-07  1.801879e-07  9.635648e-08  3.651652e-08  5.152566e-07   \n",
       "111   3.191783e-02  3.152335e-02  3.110492e-02  3.066245e-02  3.019581e-02   \n",
       "\n",
       "               331  \n",
       "996   6.837509e-07  \n",
       "201   6.837878e-07  \n",
       "594   6.838233e-07  \n",
       "375   6.836437e-07  \n",
       "1041  6.837189e-07  \n",
       "...            ...  \n",
       "154   6.836228e-07  \n",
       "1018  6.838378e-07  \n",
       "315   6.836549e-07  \n",
       "259   6.836570e-07  \n",
       "111   2.970489e-02  \n",
       "\n",
       "[255 rows x 332 columns]"
      ]
     },
     "execution_count": 29,
     "metadata": {},
     "output_type": "execute_result"
    }
   ],
   "source": [
    "X_test"
   ]
  },
  {
   "cell_type": "code",
   "execution_count": 30,
   "metadata": {
    "collapsed": false
   },
   "outputs": [],
   "source": [
    "#Datos Reales\n",
    "\n",
    "val = pd.read_csv('../Data/Espectros_Normalizados_SN.csv')"
   ]
  },
  {
   "cell_type": "code",
   "execution_count": 31,
   "metadata": {
    "collapsed": false
   },
   "outputs": [],
   "source": [
    "X1 = val.drop(val.columns[-1],  axis=1)\n",
    "y1 = val.iloc[:, -1]"
   ]
  },
  {
   "cell_type": "code",
   "execution_count": 32,
   "metadata": {
    "collapsed": false
   },
   "outputs": [
    {
     "name": "stderr",
     "output_type": "stream",
     "text": [
      "c:\\Users\\Danie\\AppData\\Local\\Programs\\Python\\Python38\\lib\\site-packages\\sklearn\\base.py:493: FutureWarning: The feature names should match those that were passed during fit. Starting version 1.2, an error will be raised.\n",
      "Feature names unseen at fit time:\n",
      "- 0.1492891972045036\n",
      "- 0.1518486870632204\n",
      "- 0.1571368231782049\n",
      "- 0.1577230249236846\n",
      "- 0.1624676846650356\n",
      "- ...\n",
      "Feature names seen at fit time, yet now missing:\n",
      "- 0\n",
      "- 1\n",
      "- 10\n",
      "- 100\n",
      "- 101\n",
      "- ...\n",
      "\n",
      "  warnings.warn(message, FutureWarning)\n"
     ]
    }
   ],
   "source": [
    "y_pred = rf.predict(X1)"
   ]
  },
  {
   "cell_type": "code",
   "execution_count": 33,
   "metadata": {
    "collapsed": false
   },
   "outputs": [
    {
     "name": "stdout",
     "output_type": "stream",
     "text": [
      "[[42  7]\n",
      " [23 28]]\n"
     ]
    }
   ],
   "source": [
    "#Matriz de confusión\n",
    "cm = confusion_matrix(y1, y_pred)\n",
    "print(cm)"
   ]
  },
  {
   "cell_type": "code",
   "execution_count": 34,
   "metadata": {
    "collapsed": false
   },
   "outputs": [
    {
     "name": "stdout",
     "output_type": "stream",
     "text": [
      "Cohen's kappa:  0.4035785288270377\n",
      "\n",
      "              precision    recall  f1-score   support\n",
      "\n",
      "           1     0.6462    0.8571    0.7368        49\n",
      "           2     0.8000    0.5490    0.6512        51\n",
      "\n",
      "    accuracy                         0.7000       100\n",
      "   macro avg     0.7231    0.7031    0.6940       100\n",
      "weighted avg     0.7246    0.7000    0.6931       100\n",
      "\n"
     ]
    }
   ],
   "source": [
    "print(\"Cohen's kappa: \", cohen_kappa_score(y1,y_pred))\n",
    "print()\n",
    "print(classification_report(y1, y_pred, labels=[1,2], digits=4))"
   ]
  }
 ],
 "metadata": {
  "kernelspec": {
   "display_name": "Python 3",
   "language": "python",
   "name": "python3"
  },
  "language_info": {
   "codemirror_mode": {
    "name": "ipython",
    "version": 3
   },
   "file_extension": ".py",
   "mimetype": "text/x-python",
   "name": "python",
   "nbconvert_exporter": "python",
   "pygments_lexer": "ipython3",
   "version": "3.8.6"
  }
 },
 "nbformat": 4,
 "nbformat_minor": 0
}
