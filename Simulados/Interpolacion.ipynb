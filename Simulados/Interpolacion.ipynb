{
 "cells": [
  {
   "cell_type": "code",
   "execution_count": 1,
   "metadata": {},
   "outputs": [],
   "source": [
    "import pandas as pd\n",
    "import numpy as np\n",
    "from scipy.interpolate import interp1d\n",
    "import matplotlib.pyplot as plt\n",
    "import seaborn as sns"
   ]
  },
  {
   "cell_type": "code",
   "execution_count": 2,
   "metadata": {},
   "outputs": [],
   "source": [
    "data = pd.read_csv('../DATA/SIMULADOS/Procesados_Simbioticas/f043_WAKUDA.csv_WAKUDA.csv.csv')"
   ]
  },
  {
   "cell_type": "code",
   "execution_count": 3,
   "metadata": {},
   "outputs": [
    {
     "data": {
      "text/html": [
       "<div>\n",
       "<style scoped>\n",
       "    .dataframe tbody tr th:only-of-type {\n",
       "        vertical-align: middle;\n",
       "    }\n",
       "\n",
       "    .dataframe tbody tr th {\n",
       "        vertical-align: top;\n",
       "    }\n",
       "\n",
       "    .dataframe thead th {\n",
       "        text-align: right;\n",
       "    }\n",
       "</style>\n",
       "<table border=\"1\" class=\"dataframe\">\n",
       "  <thead>\n",
       "    <tr style=\"text-align: right;\">\n",
       "      <th></th>\n",
       "      <th>wave</th>\n",
       "      <th>flux</th>\n",
       "    </tr>\n",
       "  </thead>\n",
       "  <tbody>\n",
       "    <tr>\n",
       "      <th>0</th>\n",
       "      <td>306.250451</td>\n",
       "      <td>0.514061</td>\n",
       "    </tr>\n",
       "    <tr>\n",
       "      <th>1</th>\n",
       "      <td>306.560424</td>\n",
       "      <td>0.856610</td>\n",
       "    </tr>\n",
       "    <tr>\n",
       "      <th>2</th>\n",
       "      <td>306.871524</td>\n",
       "      <td>0.451315</td>\n",
       "    </tr>\n",
       "    <tr>\n",
       "      <th>3</th>\n",
       "      <td>307.183757</td>\n",
       "      <td>1.566576</td>\n",
       "    </tr>\n",
       "    <tr>\n",
       "      <th>4</th>\n",
       "      <td>307.497130</td>\n",
       "      <td>2.051773</td>\n",
       "    </tr>\n",
       "    <tr>\n",
       "      <th>...</th>\n",
       "      <td>...</td>\n",
       "      <td>...</td>\n",
       "    </tr>\n",
       "    <tr>\n",
       "      <th>604</th>\n",
       "      <td>992.537973</td>\n",
       "      <td>98.214769</td>\n",
       "    </tr>\n",
       "    <tr>\n",
       "      <th>605</th>\n",
       "      <td>994.363175</td>\n",
       "      <td>103.927040</td>\n",
       "    </tr>\n",
       "    <tr>\n",
       "      <th>606</th>\n",
       "      <td>996.191835</td>\n",
       "      <td>90.254799</td>\n",
       "    </tr>\n",
       "    <tr>\n",
       "      <th>607</th>\n",
       "      <td>998.023944</td>\n",
       "      <td>93.647199</td>\n",
       "    </tr>\n",
       "    <tr>\n",
       "      <th>608</th>\n",
       "      <td>999.859493</td>\n",
       "      <td>83.473352</td>\n",
       "    </tr>\n",
       "  </tbody>\n",
       "</table>\n",
       "<p>609 rows × 2 columns</p>\n",
       "</div>"
      ],
      "text/plain": [
       "           wave        flux\n",
       "0    306.250451    0.514061\n",
       "1    306.560424    0.856610\n",
       "2    306.871524    0.451315\n",
       "3    307.183757    1.566576\n",
       "4    307.497130    2.051773\n",
       "..          ...         ...\n",
       "604  992.537973   98.214769\n",
       "605  994.363175  103.927040\n",
       "606  996.191835   90.254799\n",
       "607  998.023944   93.647199\n",
       "608  999.859493   83.473352\n",
       "\n",
       "[609 rows x 2 columns]"
      ]
     },
     "execution_count": 3,
     "metadata": {},
     "output_type": "execute_result"
    }
   ],
   "source": [
    "data"
   ]
  },
  {
   "cell_type": "code",
   "execution_count": 7,
   "metadata": {},
   "outputs": [],
   "source": [
    "# Definir los nuevos valores de Wave deseados\n",
    "new_wave = pd.Series(range(336, 1000, 2))"
   ]
  },
  {
   "cell_type": "code",
   "execution_count": 8,
   "metadata": {},
   "outputs": [],
   "source": [
    "# Crear una función de interpolación\n",
    "f = interp1d(data['wave'], data['flux'], kind='cubic')"
   ]
  },
  {
   "cell_type": "code",
   "execution_count": 9,
   "metadata": {},
   "outputs": [],
   "source": [
    "# Aplicar la interpolación para estimar los valores de Flux correspondientes a los nuevos valores de Wave\n",
    "new_flux = f(new_wave)"
   ]
  },
  {
   "cell_type": "code",
   "execution_count": 10,
   "metadata": {},
   "outputs": [],
   "source": [
    "# Crear un nuevo data frame con los valores de Wave y Flux reducidos\n",
    "new_data = pd.DataFrame({'wave': new_wave, 'flux': new_flux})\n",
    "\n",
    "# Seleccionar las primeras 343 filas del nuevo data frame\n",
    "#data_reduced = new_data.iloc[:343, :]"
   ]
  },
  {
   "cell_type": "code",
   "execution_count": 8,
   "metadata": {},
   "outputs": [
    {
     "name": "stdout",
     "output_type": "stream",
     "text": [
      "Data frame original:\n",
      "             wave        flux\n",
      "0     306.250451  -27.940977\n",
      "1     306.560424  607.398935\n",
      "2     306.871524  558.024501\n",
      "3     307.183757  346.405376\n",
      "4     307.497130  688.179947\n",
      "..           ...         ...\n",
      "682  1233.899503   -3.183613\n",
      "683  1236.085904    0.122692\n",
      "684  1238.275078   -0.994981\n",
      "685  1240.467024    1.657589\n",
      "686  1242.661741   -2.493778\n",
      "\n",
      "[687 rows x 2 columns]\n"
     ]
    }
   ],
   "source": [
    "# Mostrar los resultados de Data Original\n",
    "print(\"Data frame original:\\n\", data)"
   ]
  },
  {
   "cell_type": "code",
   "execution_count": 9,
   "metadata": {},
   "outputs": [
    {
     "name": "stdout",
     "output_type": "stream",
     "text": [
      "Data frame reducido:\n",
      "      wave          flux\n",
      "0     336  6.041875e+06\n",
      "1     338  6.040103e+06\n",
      "2     340  6.041309e+06\n",
      "3     342  6.042519e+06\n",
      "4     344  6.040950e+06\n",
      "..    ...           ...\n",
      "337  1010  4.838618e+06\n",
      "338  1012  4.475249e+06\n",
      "339  1014  4.105931e+06\n",
      "340  1016  3.748972e+06\n",
      "341  1018  3.418341e+06\n",
      "\n",
      "[342 rows x 2 columns]\n"
     ]
    }
   ],
   "source": [
    "#Mostramos el DataFrame Reducido\n",
    "print(\"Data frame reducido:\\n\", new_data)"
   ]
  },
  {
   "cell_type": "code",
   "execution_count": 11,
   "metadata": {},
   "outputs": [
    {
     "data": {
      "text/plain": [
       "Text(0.5, 1.0, 'BP Y RP INTERPOLADOS')"
      ]
     },
     "execution_count": 11,
     "metadata": {},
     "output_type": "execute_result"
    },
    {
     "data": {
      "image/png": "[encoded data removed]",
      "text/plain": [
       "<Figure size 900x450 with 1 Axes>"
      ]
     },
     "metadata": {},
     "output_type": "display_data"
    }
   ],
   "source": [
    "fig, ax = plt.subplots(figsize=(10, 5), dpi=90)\n",
    "sns.lineplot(data=new_data, x=\"wave\", y=\"flux\", errorbar=None,  color=\"green\")\n",
    "plt.title('BP Y RP INTERPOLADOS')"
   ]
  }
 ],
 "metadata": {
  "kernelspec": {
   "display_name": "Python 3",
   "language": "python",
   "name": "python3"
  },
  "language_info": {
   "codemirror_mode": {
    "name": "ipython",
    "version": 3
   },
   "file_extension": ".py",
   "mimetype": "text/x-python",
   "name": "python",
   "nbconvert_exporter": "python",
   "pygments_lexer": "ipython3",
   "version": "3.8.6"
  },
  "orig_nbformat": 4
 },
 "nbformat": 4,
 "nbformat_minor": 2
}
