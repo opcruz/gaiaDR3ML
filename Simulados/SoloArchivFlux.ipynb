{
 "cells": [
  {
   "cell_type": "code",
   "execution_count": 12,
   "metadata": {},
   "outputs": [],
   "source": [
    "import pandas as pd\n",
    "import os\n",
    "import numpy as np"
   ]
  },
  {
   "cell_type": "code",
   "execution_count": 17,
   "metadata": {},
   "outputs": [],
   "source": [
    "# Definir la ruta de la carpeta de entrada y el nombre del archivo de salida\n",
    "ruta_entrada1 = '../DATA/SIMULADOS21/Interpolados_Nebulosas/'\n",
    "ruta_entrada2 = '../DATA/SIMULADOS/Interpoladas_Simbioticas/'\n",
    "nombre_archivo_salida = 'RandomForest.csv'"
   ]
  },
  {
   "cell_type": "code",
   "execution_count": 18,
   "metadata": {},
   "outputs": [],
   "source": [
    "# Crear una lista vacía para almacenar los datos de cada archivo\n",
    "datos_totales1 = []\n",
    "# Iterar sobre todos los archivos CSV en la carpeta de entrada\n",
    "for nombre_archivo in os.listdir(ruta_entrada1):\n",
    "    if nombre_archivo.endswith('.csv'):\n",
    "        # Leer los datos del archivo actual\n",
    "        datos = pd.read_csv(os.path.join(ruta_entrada1, nombre_archivo))\n",
    "        \n",
    "        # Agregar los valores de flux y el nombre del espectro a las listas\n",
    "        datos_totales1.append(','.join(map(str, datos['flux'].values)))\n",
    "        #nombres_espectros.append(os.path.splitext(nombre_archivo)[0])\n",
    "\n",
    "# Crear un nuevo data frame con las columnas 'id' y 'flux'\n",
    "datos_nuevos1 = pd.DataFrame({'id': [1] * len(datos_totales1), 'flux': datos_totales1})\n",
    "\n",
    "#SEGUNDO ARCHIVO\n",
    "\n",
    "# Crear una lista vacía para almacenar los datos de cada archivo\n",
    "datos_totales2 = []\n",
    "# Iterar sobre todos los archivos CSV en la carpeta de entrada\n",
    "for nombre_archivo in os.listdir(ruta_entrada2):\n",
    "    if nombre_archivo.endswith('.csv'):\n",
    "        # Leer los datos del archivo actual\n",
    "        datos = pd.read_csv(os.path.join(ruta_entrada2, nombre_archivo))\n",
    "        \n",
    "        # Agregar los valores de flux y el nombre del espectro a las listas\n",
    "        datos_totales2.append(','.join(map(str, datos['flux'].values)))\n",
    "        #nombres_espectros.append(os.path.splitext(nombre_archivo)[0])\n",
    "# Crear un nuevo data frame con las columnas 'id' y 'flux'\n",
    "datos_nuevos2 = pd.DataFrame({'id': [2] * len(datos_totales2), 'flux': datos_totales2})\n",
    "\n",
    "# Concatenar los datos nuevos al DataFrame existente\n",
    "datos_finales = pd.concat([datos_nuevos1, datos_nuevos2], ignore_index=True)\n",
    "\n",
    "# Guardar los datos finales en un archivo CSV\n",
    "datos_finales.to_csv(nombre_archivo_salida, index=False)"
   ]
  }
 ],
 "metadata": {
  "kernelspec": {
   "display_name": "Python 3",
   "language": "python",
   "name": "python3"
  },
  "language_info": {
   "codemirror_mode": {
    "name": "ipython",
    "version": 3
   },
   "file_extension": ".py",
   "mimetype": "text/x-python",
   "name": "python",
   "nbconvert_exporter": "python",
   "pygments_lexer": "ipython3",
   "version": "3.8.6"
  },
  "orig_nbformat": 4
 },
 "nbformat": 4,
 "nbformat_minor": 2
}
