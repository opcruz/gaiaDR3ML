{
 "cells": [
  {
   "cell_type": "code",
   "execution_count": 42,
   "outputs": [],
   "source": [
    "import pandas as pd\n",
    "import tensorflow as tf\n",
    "from sklearn.model_selection import train_test_split\n",
    "from sklearn.preprocessing import LabelEncoder\n",
    "import matplotlib.pyplot as plt\n",
    "import os\n",
    "from tensorflow.keras.utils import to_categorical\n",
    "\n",
    "# cargar los datos\n",
    "df = pd.read_csv(\"./datasets/unbalanced_1000.csv\", header=None)\n",
    "\n",
    "# separar las características (X) y la etiqueta (y)\n",
    "X = df.drop(columns=343, axis=1)\n",
    "y = df.iloc[:, 343]\n",
    "\n",
    "# codificar la etiqueta (y)\n",
    "# encoder = LabelEncoder()\n",
    "# y = encoder.fit_transform(y)\n",
    "\n",
    "# Convierte las etiquetas a codificación one-hot\n",
    "y_one_hot = to_categorical(y, num_classes=10)\n",
    "\n",
    "# dividir el conjunto de datos en entrenamiento y prueba\n",
    "X_train, X_test, y_train, y_test = train_test_split(X, y, test_size=0.2, random_state=5, stratify=y)\n",
    "# X_train, X_test, y_train, y_test = train_test_split(X, y, test_size=0.2, random_state=5)\n"
   ],
   "metadata": {
    "collapsed": false,
    "ExecuteTime": {
     "start_time": "2023-04-18T12:10:54.760450Z",
     "end_time": "2023-04-18T12:11:01.117743Z"
    }
   }
  },
  {
   "cell_type": "code",
   "execution_count": 52,
   "outputs": [
    {
     "data": {
      "text/plain": "[0, 1, 2, 3, 4, 5, 6, 7, 8, 9]"
     },
     "execution_count": 52,
     "metadata": {},
     "output_type": "execute_result"
    }
   ],
   "source": [
    "list(range(0, 10))"
   ],
   "metadata": {
    "collapsed": false
   }
  },
  {
   "cell_type": "code",
   "execution_count": 56,
   "outputs": [],
   "source": [
    "# Calcula los pesos de las clases\n",
    "from sklearn.utils.class_weight import compute_class_weight\n",
    "import numpy as np\n",
    "\n",
    "class_weights = compute_class_weight('balanced', classes=list(range(0, 10)), y=y_train)\n",
    "class_weight_dict = dict(enumerate(class_weights))"
   ],
   "metadata": {
    "collapsed": false
   }
  },
  {
   "cell_type": "code",
   "execution_count": 59,
   "outputs": [],
   "source": [
    "# crear el modelo\n",
    "model = tf.keras.models.Sequential([\n",
    "    tf.keras.layers.Dense(64, input_dim=343, activation='relu'),\n",
    "    # tf.keras.layers.Dropout(0.2),\n",
    "    tf.keras.layers.Dense(32, activation='relu'),\n",
    "    # tf.keras.layers.Dropout(0.2),\n",
    "    # tf.keras.layers.Dense(32, activation='relu'),\n",
    "    # tf.keras.layers.Dropout(0.2),\n",
    "    tf.keras.layers.Dense(10, activation='softmax')\n",
    "])\n",
    "\n",
    "# compilar el modelo\n",
    "model.compile(optimizer='adam',\n",
    "              loss='sparse_categorical_crossentropy',\n",
    "              metrics=['accuracy'])"
   ],
   "metadata": {
    "collapsed": false,
    "ExecuteTime": {
     "start_time": "2023-04-18T12:11:06.746549Z",
     "end_time": "2023-04-18T12:11:10.139974Z"
    }
   }
  },
  {
   "cell_type": "code",
   "execution_count": 61,
   "outputs": [
    {
     "name": "stdout",
     "output_type": "stream",
     "text": [
      "Epoch 1/100\n",
      "84/84 [==============================] - 0s 3ms/step - loss: 0.5539 - accuracy: 0.8039 - val_loss: 0.7210 - val_accuracy: 0.7640\n",
      "Epoch 2/100\n",
      "84/84 [==============================] - 0s 3ms/step - loss: 0.5401 - accuracy: 0.8053 - val_loss: 0.6962 - val_accuracy: 0.7713\n",
      "Epoch 3/100\n",
      "84/84 [==============================] - 0s 2ms/step - loss: 0.5676 - accuracy: 0.7997 - val_loss: 0.6870 - val_accuracy: 0.7785\n",
      "Epoch 4/100\n",
      "84/84 [==============================] - 0s 3ms/step - loss: 0.5428 - accuracy: 0.8079 - val_loss: 0.7117 - val_accuracy: 0.7809\n",
      "Epoch 5/100\n",
      "84/84 [==============================] - 0s 3ms/step - loss: 0.5537 - accuracy: 0.8007 - val_loss: 0.6676 - val_accuracy: 0.7785\n",
      "Epoch 6/100\n",
      "84/84 [==============================] - 0s 2ms/step - loss: 0.5334 - accuracy: 0.8087 - val_loss: 0.7283 - val_accuracy: 0.7681\n",
      "Epoch 7/100\n",
      "84/84 [==============================] - 0s 3ms/step - loss: 0.5339 - accuracy: 0.8071 - val_loss: 0.6891 - val_accuracy: 0.7833\n",
      "Epoch 8/100\n",
      "84/84 [==============================] - 0s 3ms/step - loss: 0.5405 - accuracy: 0.8087 - val_loss: 0.7086 - val_accuracy: 0.7616\n",
      "Epoch 9/100\n",
      "84/84 [==============================] - 0s 3ms/step - loss: 0.5315 - accuracy: 0.8097 - val_loss: 0.7027 - val_accuracy: 0.7657\n",
      "Epoch 10/100\n",
      "84/84 [==============================] - 0s 3ms/step - loss: 0.5343 - accuracy: 0.8095 - val_loss: 0.7355 - val_accuracy: 0.7632\n",
      "Epoch 11/100\n",
      "84/84 [==============================] - 0s 3ms/step - loss: 0.5277 - accuracy: 0.8077 - val_loss: 0.6701 - val_accuracy: 0.7817\n",
      "Epoch 12/100\n",
      "84/84 [==============================] - 0s 3ms/step - loss: 0.5506 - accuracy: 0.8035 - val_loss: 0.6992 - val_accuracy: 0.7681\n",
      "Epoch 13/100\n",
      "84/84 [==============================] - 0s 2ms/step - loss: 0.5293 - accuracy: 0.8089 - val_loss: 0.8209 - val_accuracy: 0.7327\n",
      "Epoch 14/100\n",
      "84/84 [==============================] - 0s 2ms/step - loss: 0.5763 - accuracy: 0.7840 - val_loss: 0.7106 - val_accuracy: 0.7681\n",
      "Epoch 15/100\n",
      "84/84 [==============================] - 0s 3ms/step - loss: 0.5437 - accuracy: 0.8057 - val_loss: 0.7307 - val_accuracy: 0.7536\n",
      "Epoch 16/100\n",
      "84/84 [==============================] - 0s 3ms/step - loss: 0.5258 - accuracy: 0.8083 - val_loss: 0.7172 - val_accuracy: 0.7640\n",
      "Epoch 17/100\n",
      "84/84 [==============================] - 0s 3ms/step - loss: 0.5202 - accuracy: 0.8135 - val_loss: 0.7179 - val_accuracy: 0.7616\n",
      "Epoch 18/100\n",
      "84/84 [==============================] - 0s 2ms/step - loss: 0.5381 - accuracy: 0.8037 - val_loss: 0.7201 - val_accuracy: 0.7584\n",
      "Epoch 19/100\n",
      "84/84 [==============================] - 0s 2ms/step - loss: 0.5457 - accuracy: 0.8063 - val_loss: 0.7926 - val_accuracy: 0.7432\n",
      "Epoch 20/100\n",
      "84/84 [==============================] - 0s 3ms/step - loss: 0.5221 - accuracy: 0.8073 - val_loss: 0.7918 - val_accuracy: 0.7432\n",
      "Epoch 21/100\n",
      "84/84 [==============================] - 0s 2ms/step - loss: 0.5864 - accuracy: 0.7892 - val_loss: 0.7172 - val_accuracy: 0.7520\n",
      "Epoch 22/100\n",
      "84/84 [==============================] - 0s 2ms/step - loss: 0.5386 - accuracy: 0.8111 - val_loss: 0.7279 - val_accuracy: 0.7632\n",
      "Epoch 23/100\n",
      "84/84 [==============================] - 0s 3ms/step - loss: 0.5343 - accuracy: 0.8055 - val_loss: 0.7767 - val_accuracy: 0.7360\n",
      "Epoch 24/100\n",
      "84/84 [==============================] - 0s 3ms/step - loss: 0.5323 - accuracy: 0.8041 - val_loss: 0.7501 - val_accuracy: 0.7560\n",
      "Epoch 25/100\n",
      "84/84 [==============================] - 0s 3ms/step - loss: 0.5378 - accuracy: 0.8035 - val_loss: 0.7126 - val_accuracy: 0.7616\n",
      "Epoch 26/100\n",
      "84/84 [==============================] - 0s 3ms/step - loss: 0.5166 - accuracy: 0.8177 - val_loss: 0.7609 - val_accuracy: 0.7568\n",
      "Epoch 27/100\n",
      "84/84 [==============================] - 0s 3ms/step - loss: 0.5133 - accuracy: 0.8129 - val_loss: 0.7564 - val_accuracy: 0.7432\n",
      "Epoch 28/100\n",
      "84/84 [==============================] - 0s 3ms/step - loss: 0.5602 - accuracy: 0.7914 - val_loss: 0.6857 - val_accuracy: 0.7793\n",
      "Epoch 29/100\n",
      "84/84 [==============================] - 0s 3ms/step - loss: 0.5242 - accuracy: 0.8153 - val_loss: 0.7644 - val_accuracy: 0.7480\n",
      "Epoch 30/100\n",
      "84/84 [==============================] - 0s 3ms/step - loss: 0.5114 - accuracy: 0.8131 - val_loss: 0.7789 - val_accuracy: 0.7496\n",
      "Epoch 31/100\n",
      "84/84 [==============================] - 0s 3ms/step - loss: 0.5337 - accuracy: 0.8063 - val_loss: 0.6585 - val_accuracy: 0.7913\n",
      "Epoch 32/100\n",
      "84/84 [==============================] - 0s 3ms/step - loss: 0.5177 - accuracy: 0.8097 - val_loss: 0.7334 - val_accuracy: 0.7592\n",
      "Epoch 33/100\n",
      "84/84 [==============================] - 0s 2ms/step - loss: 0.5269 - accuracy: 0.8055 - val_loss: 0.7279 - val_accuracy: 0.7665\n",
      "Epoch 34/100\n",
      "84/84 [==============================] - 0s 3ms/step - loss: 0.5218 - accuracy: 0.8059 - val_loss: 0.6845 - val_accuracy: 0.7857\n",
      "Epoch 35/100\n",
      "84/84 [==============================] - 0s 3ms/step - loss: 0.5192 - accuracy: 0.8099 - val_loss: 0.7532 - val_accuracy: 0.7496\n",
      "Epoch 36/100\n",
      "84/84 [==============================] - 0s 3ms/step - loss: 0.5539 - accuracy: 0.7983 - val_loss: 0.6983 - val_accuracy: 0.7729\n",
      "Epoch 37/100\n",
      "84/84 [==============================] - 0s 3ms/step - loss: 0.5106 - accuracy: 0.8113 - val_loss: 0.7625 - val_accuracy: 0.7616\n",
      "Epoch 38/100\n",
      "84/84 [==============================] - 0s 2ms/step - loss: 0.5131 - accuracy: 0.8193 - val_loss: 0.8312 - val_accuracy: 0.7343\n",
      "Epoch 39/100\n",
      "84/84 [==============================] - 0s 3ms/step - loss: 0.6528 - accuracy: 0.7812 - val_loss: 0.7367 - val_accuracy: 0.7600\n",
      "Epoch 40/100\n",
      "84/84 [==============================] - 0s 3ms/step - loss: 0.5674 - accuracy: 0.7957 - val_loss: 0.8081 - val_accuracy: 0.7488\n",
      "Epoch 41/100\n",
      "84/84 [==============================] - 0s 3ms/step - loss: 0.6579 - accuracy: 0.7680 - val_loss: 0.6768 - val_accuracy: 0.7825\n",
      "Epoch 42/100\n",
      "84/84 [==============================] - 0s 3ms/step - loss: 0.5095 - accuracy: 0.8171 - val_loss: 0.6748 - val_accuracy: 0.7785\n",
      "Epoch 43/100\n",
      "84/84 [==============================] - 0s 2ms/step - loss: 0.5254 - accuracy: 0.8089 - val_loss: 0.7158 - val_accuracy: 0.7753\n",
      "Epoch 44/100\n",
      "84/84 [==============================] - 0s 2ms/step - loss: 0.5031 - accuracy: 0.8121 - val_loss: 0.6657 - val_accuracy: 0.7857\n",
      "Epoch 45/100\n",
      "84/84 [==============================] - 0s 2ms/step - loss: 0.5022 - accuracy: 0.8187 - val_loss: 0.7015 - val_accuracy: 0.7737\n",
      "Epoch 46/100\n",
      "84/84 [==============================] - 0s 2ms/step - loss: 0.4976 - accuracy: 0.8185 - val_loss: 0.6881 - val_accuracy: 0.7801\n",
      "Epoch 47/100\n",
      "84/84 [==============================] - 0s 3ms/step - loss: 0.4918 - accuracy: 0.8135 - val_loss: 0.7516 - val_accuracy: 0.7504\n",
      "Epoch 48/100\n",
      "84/84 [==============================] - 0s 3ms/step - loss: 0.5323 - accuracy: 0.8041 - val_loss: 0.7378 - val_accuracy: 0.7464\n",
      "Epoch 49/100\n",
      "84/84 [==============================] - 0s 3ms/step - loss: 0.7101 - accuracy: 0.7535 - val_loss: 0.7226 - val_accuracy: 0.7689\n",
      "Epoch 50/100\n",
      "84/84 [==============================] - 0s 3ms/step - loss: 0.6058 - accuracy: 0.7842 - val_loss: 0.7086 - val_accuracy: 0.7713\n",
      "Epoch 51/100\n",
      "84/84 [==============================] - 0s 2ms/step - loss: 0.5352 - accuracy: 0.8045 - val_loss: 0.6907 - val_accuracy: 0.7777\n",
      "Epoch 52/100\n",
      "84/84 [==============================] - 0s 3ms/step - loss: 0.5160 - accuracy: 0.8159 - val_loss: 0.7416 - val_accuracy: 0.7416\n",
      "Epoch 53/100\n",
      "84/84 [==============================] - 0s 3ms/step - loss: 0.5010 - accuracy: 0.8167 - val_loss: 0.7105 - val_accuracy: 0.7769\n",
      "Epoch 54/100\n",
      "84/84 [==============================] - 0s 3ms/step - loss: 0.5058 - accuracy: 0.8153 - val_loss: 0.7434 - val_accuracy: 0.7536\n",
      "Epoch 55/100\n",
      "84/84 [==============================] - 0s 3ms/step - loss: 0.5164 - accuracy: 0.8089 - val_loss: 0.7546 - val_accuracy: 0.7432\n",
      "Epoch 56/100\n",
      "84/84 [==============================] - 0s 3ms/step - loss: 0.5159 - accuracy: 0.8109 - val_loss: 0.7588 - val_accuracy: 0.7392\n",
      "Epoch 57/100\n",
      "84/84 [==============================] - 0s 3ms/step - loss: 0.4983 - accuracy: 0.8135 - val_loss: 0.8649 - val_accuracy: 0.7207\n",
      "Epoch 58/100\n",
      "84/84 [==============================] - 0s 3ms/step - loss: 0.5518 - accuracy: 0.7967 - val_loss: 0.7095 - val_accuracy: 0.7648\n",
      "Epoch 59/100\n",
      "84/84 [==============================] - 0s 3ms/step - loss: 0.5150 - accuracy: 0.8099 - val_loss: 0.7055 - val_accuracy: 0.7640\n",
      "Epoch 60/100\n",
      "84/84 [==============================] - 0s 3ms/step - loss: 0.5593 - accuracy: 0.8015 - val_loss: 0.7055 - val_accuracy: 0.7665\n",
      "Epoch 61/100\n",
      "84/84 [==============================] - 0s 3ms/step - loss: 0.4894 - accuracy: 0.8226 - val_loss: 0.7188 - val_accuracy: 0.7632\n",
      "Epoch 62/100\n",
      "84/84 [==============================] - 0s 3ms/step - loss: 0.4863 - accuracy: 0.8224 - val_loss: 0.7250 - val_accuracy: 0.7640\n",
      "Epoch 63/100\n",
      "84/84 [==============================] - 0s 3ms/step - loss: 0.4884 - accuracy: 0.8169 - val_loss: 0.7340 - val_accuracy: 0.7737\n",
      "Epoch 64/100\n",
      "84/84 [==============================] - 0s 3ms/step - loss: 0.4770 - accuracy: 0.8232 - val_loss: 0.7490 - val_accuracy: 0.7640\n",
      "Epoch 65/100\n",
      "84/84 [==============================] - 0s 2ms/step - loss: 0.7149 - accuracy: 0.7646 - val_loss: 0.7035 - val_accuracy: 0.7753\n",
      "Epoch 66/100\n",
      "84/84 [==============================] - 0s 3ms/step - loss: 0.5112 - accuracy: 0.8087 - val_loss: 0.6870 - val_accuracy: 0.7801\n",
      "Epoch 67/100\n",
      "84/84 [==============================] - 0s 2ms/step - loss: 0.4781 - accuracy: 0.8226 - val_loss: 0.7143 - val_accuracy: 0.7761\n",
      "Epoch 68/100\n",
      "84/84 [==============================] - 0s 3ms/step - loss: 0.5245 - accuracy: 0.8055 - val_loss: 0.6952 - val_accuracy: 0.7761\n",
      "Epoch 69/100\n",
      "84/84 [==============================] - 0s 2ms/step - loss: 0.4920 - accuracy: 0.8196 - val_loss: 0.7842 - val_accuracy: 0.7376\n",
      "Epoch 70/100\n",
      "84/84 [==============================] - 0s 3ms/step - loss: 0.4925 - accuracy: 0.8175 - val_loss: 0.7569 - val_accuracy: 0.7496\n",
      "Epoch 71/100\n",
      "84/84 [==============================] - 0s 2ms/step - loss: 0.4894 - accuracy: 0.8179 - val_loss: 0.7266 - val_accuracy: 0.7600\n",
      "Epoch 72/100\n",
      "84/84 [==============================] - 0s 2ms/step - loss: 0.4672 - accuracy: 0.8252 - val_loss: 0.7026 - val_accuracy: 0.7681\n",
      "Epoch 73/100\n",
      "84/84 [==============================] - 0s 2ms/step - loss: 0.4721 - accuracy: 0.8185 - val_loss: 0.7782 - val_accuracy: 0.7440\n",
      "Epoch 74/100\n",
      "84/84 [==============================] - 0s 2ms/step - loss: 0.4768 - accuracy: 0.8240 - val_loss: 0.7720 - val_accuracy: 0.7432\n",
      "Epoch 75/100\n",
      "84/84 [==============================] - 0s 2ms/step - loss: 0.4934 - accuracy: 0.8119 - val_loss: 0.7391 - val_accuracy: 0.7608\n",
      "Epoch 76/100\n",
      "84/84 [==============================] - 0s 2ms/step - loss: 0.4757 - accuracy: 0.8185 - val_loss: 0.7160 - val_accuracy: 0.7737\n",
      "Epoch 77/100\n",
      "84/84 [==============================] - 0s 2ms/step - loss: 0.4651 - accuracy: 0.8226 - val_loss: 0.7627 - val_accuracy: 0.7560\n",
      "Epoch 78/100\n",
      "84/84 [==============================] - 0s 3ms/step - loss: 0.4758 - accuracy: 0.8179 - val_loss: 0.7180 - val_accuracy: 0.7624\n",
      "Epoch 79/100\n",
      "84/84 [==============================] - 0s 3ms/step - loss: 0.4719 - accuracy: 0.8204 - val_loss: 0.7188 - val_accuracy: 0.7713\n",
      "Epoch 80/100\n",
      "84/84 [==============================] - 0s 3ms/step - loss: 0.4768 - accuracy: 0.8234 - val_loss: 0.7046 - val_accuracy: 0.7729\n",
      "Epoch 81/100\n",
      "84/84 [==============================] - 0s 3ms/step - loss: 0.4769 - accuracy: 0.8193 - val_loss: 0.6885 - val_accuracy: 0.7673\n",
      "Epoch 82/100\n",
      "84/84 [==============================] - 0s 3ms/step - loss: 0.4877 - accuracy: 0.8145 - val_loss: 0.7089 - val_accuracy: 0.7713\n",
      "Epoch 83/100\n",
      "84/84 [==============================] - 0s 3ms/step - loss: 0.4656 - accuracy: 0.8198 - val_loss: 0.6974 - val_accuracy: 0.7793\n",
      "Epoch 84/100\n",
      "84/84 [==============================] - 0s 2ms/step - loss: 0.4791 - accuracy: 0.8208 - val_loss: 0.7240 - val_accuracy: 0.7576\n",
      "Epoch 85/100\n",
      "84/84 [==============================] - 0s 2ms/step - loss: 0.4672 - accuracy: 0.8240 - val_loss: 0.7351 - val_accuracy: 0.7568\n",
      "Epoch 86/100\n",
      "84/84 [==============================] - 0s 2ms/step - loss: 0.4694 - accuracy: 0.8222 - val_loss: 0.7090 - val_accuracy: 0.7673\n",
      "Epoch 87/100\n",
      "84/84 [==============================] - 0s 2ms/step - loss: 0.5417 - accuracy: 0.8011 - val_loss: 0.7394 - val_accuracy: 0.7464\n",
      "Epoch 88/100\n",
      "84/84 [==============================] - 0s 2ms/step - loss: 0.6233 - accuracy: 0.7772 - val_loss: 0.8248 - val_accuracy: 0.7191\n",
      "Epoch 89/100\n",
      "84/84 [==============================] - 0s 3ms/step - loss: 0.5586 - accuracy: 0.7912 - val_loss: 0.7276 - val_accuracy: 0.7657\n",
      "Epoch 90/100\n",
      "84/84 [==============================] - 0s 3ms/step - loss: 0.4929 - accuracy: 0.8139 - val_loss: 0.6945 - val_accuracy: 0.7648\n",
      "Epoch 91/100\n",
      "84/84 [==============================] - 0s 3ms/step - loss: 0.4969 - accuracy: 0.8119 - val_loss: 0.7631 - val_accuracy: 0.7576\n",
      "Epoch 92/100\n",
      "84/84 [==============================] - 0s 3ms/step - loss: 0.4818 - accuracy: 0.8210 - val_loss: 0.7259 - val_accuracy: 0.7673\n",
      "Epoch 93/100\n",
      "84/84 [==============================] - 0s 2ms/step - loss: 0.4745 - accuracy: 0.8238 - val_loss: 0.6898 - val_accuracy: 0.7833\n",
      "Epoch 94/100\n",
      "84/84 [==============================] - 0s 2ms/step - loss: 0.4749 - accuracy: 0.8191 - val_loss: 0.6761 - val_accuracy: 0.7857\n",
      "Epoch 95/100\n",
      "84/84 [==============================] - 0s 3ms/step - loss: 0.4720 - accuracy: 0.8236 - val_loss: 0.7066 - val_accuracy: 0.7761\n",
      "Epoch 96/100\n",
      "84/84 [==============================] - 0s 2ms/step - loss: 0.4778 - accuracy: 0.8222 - val_loss: 0.6945 - val_accuracy: 0.7713\n",
      "Epoch 97/100\n",
      "84/84 [==============================] - 0s 2ms/step - loss: 0.4689 - accuracy: 0.8212 - val_loss: 0.7093 - val_accuracy: 0.7825\n",
      "Epoch 98/100\n",
      "84/84 [==============================] - 0s 2ms/step - loss: 0.4631 - accuracy: 0.8226 - val_loss: 0.7434 - val_accuracy: 0.7681\n",
      "Epoch 99/100\n",
      "84/84 [==============================] - 0s 2ms/step - loss: 0.4726 - accuracy: 0.8254 - val_loss: 0.6896 - val_accuracy: 0.7753\n",
      "Epoch 100/100\n",
      "84/84 [==============================] - 0s 2ms/step - loss: 0.4711 - accuracy: 0.8167 - val_loss: 0.6830 - val_accuracy: 0.7817\n"
     ]
    }
   ],
   "source": [
    "# entrenar el modelo\n",
    "history = model.fit(X_train, y_train, epochs=100, batch_size=60, validation_data=(X_test, y_test),\n",
    "                    class_weight=class_weight_dict)\n"
   ],
   "metadata": {
    "collapsed": false,
    "ExecuteTime": {
     "start_time": "2023-04-18T12:11:11.063778Z",
     "end_time": "2023-04-18T12:13:54.776459Z"
    }
   }
  },
  {
   "cell_type": "code",
   "execution_count": 62,
   "outputs": [
    {
     "data": {
      "text/plain": "<Figure size 640x480 with 1 Axes>",
      "image/png": "[encoded data removed]"
     },
     "metadata": {},
     "output_type": "display_data"
    }
   ],
   "source": [
    "# graficar la precisión de entrenamiento y prueba\n",
    "plt.plot(history.history['accuracy'], label='train')\n",
    "plt.plot(history.history['val_accuracy'], label='test')\n",
    "plt.title('Model Accuracy')\n",
    "plt.xlabel('Epoch')\n",
    "plt.ylabel('Accuracy')\n",
    "plt.legend()\n",
    "plt.show()\n"
   ],
   "metadata": {
    "collapsed": false,
    "ExecuteTime": {
     "start_time": "2023-04-18T12:13:57.659212Z",
     "end_time": "2023-04-18T12:13:57.821789Z"
    }
   }
  },
  {
   "cell_type": "code",
   "execution_count": 63,
   "outputs": [
    {
     "name": "stdout",
     "output_type": "stream",
     "text": [
      "39/39 [==============================] - 0s 1ms/step\n",
      "[[ 31   0   0   1   3   2   0   2   1   0]\n",
      " [  7  78   2   8   1   0   8   9   2   0]\n",
      " [  0   2 176   5   0   7   7   2   1   0]\n",
      " [  1   9   5 109   1   0  13   3   0   0]\n",
      " [  2   0   0   1 192   1   2   1   1   0]\n",
      " [  0   0   5   0   0  11   2   0   1   0]\n",
      " [  1   9   8   5   1   8 117   7   3  41]\n",
      " [  0   1   0   1   0   0   1  86   1   0]\n",
      " [  0   5   3   3   0   7   2   2  19   0]\n",
      " [  1   0   0   1   1   0  40   1   1 155]]\n"
     ]
    }
   ],
   "source": [
    "import numpy as np\n",
    "from sklearn.metrics import confusion_matrix\n",
    "\n",
    "# predecir las probabilidades para los datos de prueba\n",
    "y_probs = model.predict(X_test)\n",
    "y_pred = np.argmax(y_probs, axis=-1)\n",
    "cm = confusion_matrix(y_test, y_pred)\n",
    "print(cm)\n"
   ],
   "metadata": {
    "collapsed": false,
    "ExecuteTime": {
     "start_time": "2023-04-18T12:14:01.805738Z",
     "end_time": "2023-04-18T12:14:02.318586Z"
    }
   }
  },
  {
   "cell_type": "code",
   "execution_count": 65,
   "outputs": [
    {
     "name": "stdout",
     "output_type": "stream",
     "text": [
      "              precision    recall  f1-score   support\n",
      "\n",
      "           0     0.7209    0.7750    0.7470        40\n",
      "           1     0.7500    0.6783    0.7123       115\n",
      "           2     0.8844    0.8800    0.8822       200\n",
      "           3     0.8134    0.7730    0.7927       141\n",
      "           4     0.9648    0.9600    0.9624       200\n",
      "           5     0.3056    0.5789    0.4000        19\n",
      "           6     0.6094    0.5850    0.5969       200\n",
      "           7     0.7611    0.9556    0.8473        90\n",
      "           8     0.6333    0.4634    0.5352        41\n",
      "           9     0.7908    0.7750    0.7828       200\n",
      "\n",
      "    accuracy                         0.7817      1246\n",
      "   macro avg     0.7234    0.7424    0.7259      1246\n",
      "weighted avg     0.7865    0.7817    0.7819      1246\n",
      "\n"
     ]
    }
   ],
   "source": [
    "from sklearn.metrics import classification_report\n",
    "\n",
    "report = classification_report(y_test, y_pred, digits=4)\n",
    "print(report)"
   ],
   "metadata": {
    "collapsed": false,
    "ExecuteTime": {
     "start_time": "2023-04-18T12:14:03.495315Z",
     "end_time": "2023-04-18T12:14:03.527699Z"
    }
   }
  },
  {
   "cell_type": "code",
   "execution_count": 16,
   "outputs": [
    {
     "name": "stdout",
     "output_type": "stream",
     "text": [
      "Accuracy: 0.9063291139240506\n"
     ]
    }
   ],
   "source": [
    "from sklearn.metrics import accuracy_score\n",
    "\n",
    "accuracy = accuracy_score(y_test, y_pred)\n",
    "print('Accuracy:', accuracy)"
   ],
   "metadata": {
    "collapsed": false,
    "ExecuteTime": {
     "start_time": "2023-04-18T12:14:04.853888Z",
     "end_time": "2023-04-18T12:14:04.880366Z"
    }
   }
  },
  {
   "cell_type": "code",
   "execution_count": 17,
   "outputs": [
    {
     "name": "stdout",
     "output_type": "stream",
     "text": [
      "Cohen's kappa:  0.8214416615760538\n"
     ]
    }
   ],
   "source": [
    "from sklearn.metrics import cohen_kappa_score, classification_report\n",
    "\n",
    "print(\"Cohen's kappa: \", cohen_kappa_score(y_test, y_pred))"
   ],
   "metadata": {
    "collapsed": false
   }
  },
  {
   "cell_type": "code",
   "execution_count": 18,
   "outputs": [
    {
     "name": "stdout",
     "output_type": "stream",
     "text": [
      "size of the splits\n",
      "X_train:  (1580, 343)\n",
      "X_test:  (395, 343)\n",
      "y_test:  395\n",
      "y_pred:  395\n"
     ]
    }
   ],
   "source": [
    "print(\"size of the splits\")\n",
    "print(\"X_train: \", X_train.shape)\n",
    "print(\"X_test: \", X_test.shape)\n",
    "print(\"y_test: \", y_test.size)\n",
    "print(\"y_pred: \", y_pred.size)"
   ],
   "metadata": {
    "collapsed": false,
    "ExecuteTime": {
     "start_time": "2023-04-18T12:14:06.187170Z",
     "end_time": "2023-04-18T12:14:06.223173Z"
    }
   }
  },
  {
   "cell_type": "markdown",
   "source": [
    "# Save model"
   ],
   "metadata": {
    "collapsed": false
   }
  },
  {
   "cell_type": "code",
   "execution_count": 13,
   "outputs": [],
   "source": [
    "# Save the model to a single file\n",
    "model.save('./rna_unbalance.keras', save_format='keras_v3')"
   ],
   "metadata": {
    "collapsed": false
   }
  },
  {
   "cell_type": "markdown",
   "source": [
    "# Suspected Symbiotic Stars v1"
   ],
   "metadata": {
    "collapsed": false
   }
  },
  {
   "cell_type": "code",
   "execution_count": 29,
   "outputs": [
    {
     "name": "stdout",
     "output_type": "stream",
     "text": [
      "1/1 [==============================] - 0s 26ms/step\n",
      "[[13  1  1]\n",
      " [ 0  0  0]\n",
      " [ 0  0  0]]\n"
     ]
    }
   ],
   "source": [
    "import numpy as np\n",
    "from sklearn.metrics import confusion_matrix\n",
    "\n",
    "df_sus_sy = pd.read_csv(\"../../new/candidate_symbiotic_stars_v1/normalized/Suspected_SY.csv\", header=None)\n",
    "\n",
    "# predecir las probabilidades para los datos de prueba\n",
    "y_probs = model.predict(df_sus_sy)\n",
    "y_pred = np.argmax(y_probs, axis=-1)\n",
    "cm = confusion_matrix([0 for _ in range(len(df_sus_sy))], y_pred, labels=[0, 1, 2])\n",
    "print(cm)"
   ],
   "metadata": {
    "collapsed": false
   }
  },
  {
   "cell_type": "code",
   "execution_count": 30,
   "outputs": [
    {
     "data": {
      "text/plain": "             source_id       0       1       2  label\n0  4687286621186701568  0.8211  0.1205  0.0584      0\n1  4651824725526390016  0.5211  0.4222  0.0568      0\n2  3321366590173335424  0.4454  0.2368  0.3178      0\n3  5410876219867043072  0.9901  0.0098  0.0001      0\n4  3575939163051304192  0.9876  0.0123  0.0001      0",
      "text/html": "<div>\n<style scoped>\n    .dataframe tbody tr th:only-of-type {\n        vertical-align: middle;\n    }\n\n    .dataframe tbody tr th {\n        vertical-align: top;\n    }\n\n    .dataframe thead th {\n        text-align: right;\n    }\n</style>\n<table border=\"1\" class=\"dataframe\">\n  <thead>\n    <tr style=\"text-align: right;\">\n      <th></th>\n      <th>source_id</th>\n      <th>0</th>\n      <th>1</th>\n      <th>2</th>\n      <th>label</th>\n    </tr>\n  </thead>\n  <tbody>\n    <tr>\n      <th>0</th>\n      <td>4687286621186701568</td>\n      <td>0.8211</td>\n      <td>0.1205</td>\n      <td>0.0584</td>\n      <td>0</td>\n    </tr>\n    <tr>\n      <th>1</th>\n      <td>4651824725526390016</td>\n      <td>0.5211</td>\n      <td>0.4222</td>\n      <td>0.0568</td>\n      <td>0</td>\n    </tr>\n    <tr>\n      <th>2</th>\n      <td>3321366590173335424</td>\n      <td>0.4454</td>\n      <td>0.2368</td>\n      <td>0.3178</td>\n      <td>0</td>\n    </tr>\n    <tr>\n      <th>3</th>\n      <td>5410876219867043072</td>\n      <td>0.9901</td>\n      <td>0.0098</td>\n      <td>0.0001</td>\n      <td>0</td>\n    </tr>\n    <tr>\n      <th>4</th>\n      <td>3575939163051304192</td>\n      <td>0.9876</td>\n      <td>0.0123</td>\n      <td>0.0001</td>\n      <td>0</td>\n    </tr>\n  </tbody>\n</table>\n</div>"
     },
     "execution_count": 30,
     "metadata": {},
     "output_type": "execute_result"
    }
   ],
   "source": [
    "df_sus_sy_normalized = pd.read_csv(\"../../new/candidate_symbiotic_stars_v1/calibrated_data/Suspected_SY.csv\")\n",
    "\n",
    "df5 = pd.DataFrame(y_probs)\n",
    "df5 = df5.round(4)\n",
    "df5['label'] = y_pred\n",
    "df5.insert(0, 'source_id', df_sus_sy_normalized['source_id'])\n",
    "df5.head(5)"
   ],
   "metadata": {
    "collapsed": false
   }
  },
  {
   "cell_type": "code",
   "execution_count": 31,
   "outputs": [
    {
     "data": {
      "text/plain": "    FIND_NAME        MAIN_ID         OTYPE   SP_TYPE  \\\n0    RAW 1691        LIN 521            C*         C   \n1  [BE74] 583     [BE74] 583  LongPeriodV*     G/Ke:   \n2     StHA 55  EM* StHA   55          Mira       NaN   \n3      ZZ CMi      V* ZZ CMi  LongPeriodV*  M6I-IIep   \n4  WRAY 16−51     WRAY 16-51  LongPeriodV*        M4   \n\n                        ID_Gaia  \\\n0  Gaia DR2 4687286621186701568   \n1  Gaia DR2 4651824725526390016   \n2  Gaia DR3 3321366590173335424   \n3  Gaia DR3 3155368612444708096   \n4  Gaia DR2 5410876219860836224   \n\n                                                 IDS  \\\n0  RAW 1691|LIN 521|2MASS J01183570-7242213|OGLE ...   \n1  2MASS J05265014-7106350|EROS2-star lm058-2n-25...   \n2  IRAS 05440+0642|ASAS J054642+0643.7|ASAS J0546...   \n3  BD+09  1633|AN  306.1934|DO  2156|GCRV  4915|G...   \n4  IRAS 09316-4621|AKARI-IRC-V1 J0933295-463450|D...   \n\n                                              OTYPES             Gaia DR3  \n0               C*|Em*|LP*|LP*|Em*|MIR|NIR|*|C*?|LP?  4687286621186701568  \n1                                   LP*|Em*|NIR|V*|*  4651824725526390016  \n2  Mi*|LP*|V*|LP*|SB*|LP*|MIR|V*|Em*|NIR|*|C*?|IR...  3321366590173335424  \n3                                LP*|NIR|V*|*|IR|LP?  3155368612444708096  \n4                            LP*|NIR|MIR|Em*|PN|*|IR  5410876219867043072  ",
      "text/html": "<div>\n<style scoped>\n    .dataframe tbody tr th:only-of-type {\n        vertical-align: middle;\n    }\n\n    .dataframe tbody tr th {\n        vertical-align: top;\n    }\n\n    .dataframe thead th {\n        text-align: right;\n    }\n</style>\n<table border=\"1\" class=\"dataframe\">\n  <thead>\n    <tr style=\"text-align: right;\">\n      <th></th>\n      <th>FIND_NAME</th>\n      <th>MAIN_ID</th>\n      <th>OTYPE</th>\n      <th>SP_TYPE</th>\n      <th>ID_Gaia</th>\n      <th>IDS</th>\n      <th>OTYPES</th>\n      <th>Gaia DR3</th>\n    </tr>\n  </thead>\n  <tbody>\n    <tr>\n      <th>0</th>\n      <td>RAW 1691</td>\n      <td>LIN 521</td>\n      <td>C*</td>\n      <td>C</td>\n      <td>Gaia DR2 4687286621186701568</td>\n      <td>RAW 1691|LIN 521|2MASS J01183570-7242213|OGLE ...</td>\n      <td>C*|Em*|LP*|LP*|Em*|MIR|NIR|*|C*?|LP?</td>\n      <td>4687286621186701568</td>\n    </tr>\n    <tr>\n      <th>1</th>\n      <td>[BE74] 583</td>\n      <td>[BE74] 583</td>\n      <td>LongPeriodV*</td>\n      <td>G/Ke:</td>\n      <td>Gaia DR2 4651824725526390016</td>\n      <td>2MASS J05265014-7106350|EROS2-star lm058-2n-25...</td>\n      <td>LP*|Em*|NIR|V*|*</td>\n      <td>4651824725526390016</td>\n    </tr>\n    <tr>\n      <th>2</th>\n      <td>StHA 55</td>\n      <td>EM* StHA   55</td>\n      <td>Mira</td>\n      <td>NaN</td>\n      <td>Gaia DR3 3321366590173335424</td>\n      <td>IRAS 05440+0642|ASAS J054642+0643.7|ASAS J0546...</td>\n      <td>Mi*|LP*|V*|LP*|SB*|LP*|MIR|V*|Em*|NIR|*|C*?|IR...</td>\n      <td>3321366590173335424</td>\n    </tr>\n    <tr>\n      <th>3</th>\n      <td>ZZ CMi</td>\n      <td>V* ZZ CMi</td>\n      <td>LongPeriodV*</td>\n      <td>M6I-IIep</td>\n      <td>Gaia DR3 3155368612444708096</td>\n      <td>BD+09  1633|AN  306.1934|DO  2156|GCRV  4915|G...</td>\n      <td>LP*|NIR|V*|*|IR|LP?</td>\n      <td>3155368612444708096</td>\n    </tr>\n    <tr>\n      <th>4</th>\n      <td>WRAY 16−51</td>\n      <td>WRAY 16-51</td>\n      <td>LongPeriodV*</td>\n      <td>M4</td>\n      <td>Gaia DR2 5410876219860836224</td>\n      <td>IRAS 09316-4621|AKARI-IRC-V1 J0933295-463450|D...</td>\n      <td>LP*|NIR|MIR|Em*|PN|*|IR</td>\n      <td>5410876219867043072</td>\n    </tr>\n  </tbody>\n</table>\n</div>"
     },
     "execution_count": 31,
     "metadata": {},
     "output_type": "execute_result"
    }
   ],
   "source": [
    "df6 = pd.read_csv('../../new/candidate_symbiotic_stars_v1/built_dataset/suspected_SY_dataset.csv')\n",
    "df6.head(5)"
   ],
   "metadata": {
    "collapsed": false
   }
  },
  {
   "cell_type": "code",
   "execution_count": 32,
   "outputs": [
    {
     "data": {
      "text/plain": "    FIND_NAME        MAIN_ID             Gaia DR3       0       1       2  \\\n0    RAW 1691        LIN 521  4687286621186701568  0.8211  0.1205  0.0584   \n1  [BE74] 583     [BE74] 583  4651824725526390016  0.5211  0.4222  0.0568   \n2     StHA 55  EM* StHA   55  3321366590173335424  0.4454  0.2368  0.3178   \n3  WRAY 16−51     WRAY 16-51  5410876219867043072  0.9901  0.0098  0.0001   \n4   NSV 05572      V* VX Crv  3575939163051304192  0.9876  0.0123  0.0001   \n\n   label  \n0      0  \n1      0  \n2      0  \n3      0  \n4      0  ",
      "text/html": "<div>\n<style scoped>\n    .dataframe tbody tr th:only-of-type {\n        vertical-align: middle;\n    }\n\n    .dataframe tbody tr th {\n        vertical-align: top;\n    }\n\n    .dataframe thead th {\n        text-align: right;\n    }\n</style>\n<table border=\"1\" class=\"dataframe\">\n  <thead>\n    <tr style=\"text-align: right;\">\n      <th></th>\n      <th>FIND_NAME</th>\n      <th>MAIN_ID</th>\n      <th>Gaia DR3</th>\n      <th>0</th>\n      <th>1</th>\n      <th>2</th>\n      <th>label</th>\n    </tr>\n  </thead>\n  <tbody>\n    <tr>\n      <th>0</th>\n      <td>RAW 1691</td>\n      <td>LIN 521</td>\n      <td>4687286621186701568</td>\n      <td>0.8211</td>\n      <td>0.1205</td>\n      <td>0.0584</td>\n      <td>0</td>\n    </tr>\n    <tr>\n      <th>1</th>\n      <td>[BE74] 583</td>\n      <td>[BE74] 583</td>\n      <td>4651824725526390016</td>\n      <td>0.5211</td>\n      <td>0.4222</td>\n      <td>0.0568</td>\n      <td>0</td>\n    </tr>\n    <tr>\n      <th>2</th>\n      <td>StHA 55</td>\n      <td>EM* StHA   55</td>\n      <td>3321366590173335424</td>\n      <td>0.4454</td>\n      <td>0.2368</td>\n      <td>0.3178</td>\n      <td>0</td>\n    </tr>\n    <tr>\n      <th>3</th>\n      <td>WRAY 16−51</td>\n      <td>WRAY 16-51</td>\n      <td>5410876219867043072</td>\n      <td>0.9901</td>\n      <td>0.0098</td>\n      <td>0.0001</td>\n      <td>0</td>\n    </tr>\n    <tr>\n      <th>4</th>\n      <td>NSV 05572</td>\n      <td>V* VX Crv</td>\n      <td>3575939163051304192</td>\n      <td>0.9876</td>\n      <td>0.0123</td>\n      <td>0.0001</td>\n      <td>0</td>\n    </tr>\n  </tbody>\n</table>\n</div>"
     },
     "execution_count": 32,
     "metadata": {},
     "output_type": "execute_result"
    }
   ],
   "source": [
    "# Filtro de data frames\n",
    "df_filtered = df6.merge(df5, left_on=['Gaia DR3'], right_on=['source_id'], how='inner', indicator=True)\n",
    "df_filtered = df_filtered[df_filtered['_merge'] == 'both']\n",
    "df_filtered = df_filtered.iloc[:, [0, 1, 7, 9, 10, 11, 12]]\n",
    "df_filtered.head(5)"
   ],
   "metadata": {
    "collapsed": false
   }
  },
  {
   "cell_type": "code",
   "execution_count": 33,
   "outputs": [],
   "source": [
    "out_name = 'rna_unbalanced.csv'\n",
    "out_dir = '../../new/candidate_symbiotic_stars_v1/output'\n",
    "if not os.path.exists(out_dir):\n",
    "    os.mkdir(out_dir)\n",
    "\n",
    "fullname = os.path.join(out_dir, out_name)\n",
    "df_filtered.to_csv(fullname, header=True, index=False)"
   ],
   "metadata": {
    "collapsed": false
   }
  },
  {
   "cell_type": "markdown",
   "source": [
    "# Suspected Symbiotic Stars v2"
   ],
   "metadata": {
    "collapsed": false
   }
  },
  {
   "cell_type": "code",
   "execution_count": 34,
   "outputs": [
    {
     "name": "stdout",
     "output_type": "stream",
     "text": [
      "1/1 [==============================] - 0s 16ms/step\n",
      "[[14  2  1]\n",
      " [ 0  0  0]\n",
      " [ 0  0  0]]\n"
     ]
    }
   ],
   "source": [
    "import numpy as np\n",
    "from sklearn.metrics import confusion_matrix\n",
    "\n",
    "df_sus_sy = pd.read_csv(\"../../new/candidate_symbiotic_stars_v2/normalized/Suspected_SY.csv\", header=None)\n",
    "\n",
    "# predecir las probabilidades para los datos de prueba\n",
    "y_probs = model.predict(df_sus_sy)\n",
    "y_pred = np.argmax(y_probs, axis=-1)\n",
    "cm = confusion_matrix([0 for _ in range(len(df_sus_sy))], y_pred, labels=[0, 1, 2])\n",
    "print(cm)"
   ],
   "metadata": {
    "collapsed": false
   }
  },
  {
   "cell_type": "code",
   "execution_count": 35,
   "outputs": [
    {
     "data": {
      "text/plain": "             source_id       0       1       2  label\n0  6204217186929931520  0.0228  0.9771  0.0000      1\n1  4061952680197028224  0.9027  0.0866  0.0107      0\n2   670455944074475008  0.5603  0.0777  0.3620      0\n3  4068755633500598272  0.0082  0.0626  0.9292      2\n4  2060829659152816768  0.0782  0.7818  0.1399      1",
      "text/html": "<div>\n<style scoped>\n    .dataframe tbody tr th:only-of-type {\n        vertical-align: middle;\n    }\n\n    .dataframe tbody tr th {\n        vertical-align: top;\n    }\n\n    .dataframe thead th {\n        text-align: right;\n    }\n</style>\n<table border=\"1\" class=\"dataframe\">\n  <thead>\n    <tr style=\"text-align: right;\">\n      <th></th>\n      <th>source_id</th>\n      <th>0</th>\n      <th>1</th>\n      <th>2</th>\n      <th>label</th>\n    </tr>\n  </thead>\n  <tbody>\n    <tr>\n      <th>0</th>\n      <td>6204217186929931520</td>\n      <td>0.0228</td>\n      <td>0.9771</td>\n      <td>0.0000</td>\n      <td>1</td>\n    </tr>\n    <tr>\n      <th>1</th>\n      <td>4061952680197028224</td>\n      <td>0.9027</td>\n      <td>0.0866</td>\n      <td>0.0107</td>\n      <td>0</td>\n    </tr>\n    <tr>\n      <th>2</th>\n      <td>670455944074475008</td>\n      <td>0.5603</td>\n      <td>0.0777</td>\n      <td>0.3620</td>\n      <td>0</td>\n    </tr>\n    <tr>\n      <th>3</th>\n      <td>4068755633500598272</td>\n      <td>0.0082</td>\n      <td>0.0626</td>\n      <td>0.9292</td>\n      <td>2</td>\n    </tr>\n    <tr>\n      <th>4</th>\n      <td>2060829659152816768</td>\n      <td>0.0782</td>\n      <td>0.7818</td>\n      <td>0.1399</td>\n      <td>1</td>\n    </tr>\n  </tbody>\n</table>\n</div>"
     },
     "execution_count": 35,
     "metadata": {},
     "output_type": "execute_result"
    }
   ],
   "source": [
    "df_sus_sy_normalized = pd.read_csv(\"../../new/candidate_symbiotic_stars_v2/calibrated_data/Suspected_SY.csv\")\n",
    "\n",
    "df5 = pd.DataFrame(y_probs)\n",
    "df5 = df5.round(4)\n",
    "df5['label'] = y_pred\n",
    "df5.insert(0, 'source_id', df_sus_sy_normalized['source_id'])\n",
    "df5.head(5)"
   ],
   "metadata": {
    "collapsed": false
   }
  },
  {
   "cell_type": "code",
   "execution_count": 36,
   "outputs": [
    {
     "data": {
      "text/plain": "                  FIND_NAME              MAIN_ID                   OTYPE  \\\n0                  V748 Cen          V* V748 Cen                  EclBin   \n1               WRAY 16-294          WRAY 16-294            LongPeriodV*   \n2    DASCH J075731.1+201735  ASAS J075731+2017.6            LongPeriodV*   \n3       ASAS J174600-2321.3  ASAS J174600-2321.3  LongPeriodV*_Candidate   \n4  IPHASJ201550.96+373004.2      IRAS 20140+3720  PlanetaryNeb_Candidate   \n\n  SP_TYPE                       ID_Gaia  \\\n0      Ae  Gaia DR3 6204217186929931520   \n1      K5  Gaia DR2 4061952680197028224   \n2   M0III   Gaia DR2 670455944074475008   \n3     F0I  Gaia DR2 4068755633500598272   \n4     NaN  Gaia DR2 2060829659152816768   \n\n                                                 IDS  \\\n0  CD-32 10517|ALS 18924|CRTS J145936.6-332503|CS...   \n1  2MASS J17391381-2538050|DENIS J173913.8-253805...   \n2  2MASS J07573112+2017347|ASAS J075731+2017.6|DA...   \n3  2MASS J17460018-2321163|ASAS J174600-2321.3|ER...   \n4  2MASS J20155096+3730042|AKARI-IRC-V1 J2015509+...   \n\n                         OTYPES             Gaia DR3  \n0          EB*|Ro*|NIR|V*|Em*|*  6204217186929931520  \n1  LP*|PN|NIR|Em*|*|C*?|ISM|LP?  4061952680197028224  \n2          SB*|LP*|NIR|V*|*|Opt   670455944074475008  \n3                  NIR|V*|*|LP?  4068755633500598272  \n4          NIR|*|C*?|IR|LP?|PN?  2060829659152816768  ",
      "text/html": "<div>\n<style scoped>\n    .dataframe tbody tr th:only-of-type {\n        vertical-align: middle;\n    }\n\n    .dataframe tbody tr th {\n        vertical-align: top;\n    }\n\n    .dataframe thead th {\n        text-align: right;\n    }\n</style>\n<table border=\"1\" class=\"dataframe\">\n  <thead>\n    <tr style=\"text-align: right;\">\n      <th></th>\n      <th>FIND_NAME</th>\n      <th>MAIN_ID</th>\n      <th>OTYPE</th>\n      <th>SP_TYPE</th>\n      <th>ID_Gaia</th>\n      <th>IDS</th>\n      <th>OTYPES</th>\n      <th>Gaia DR3</th>\n    </tr>\n  </thead>\n  <tbody>\n    <tr>\n      <th>0</th>\n      <td>V748 Cen</td>\n      <td>V* V748 Cen</td>\n      <td>EclBin</td>\n      <td>Ae</td>\n      <td>Gaia DR3 6204217186929931520</td>\n      <td>CD-32 10517|ALS 18924|CRTS J145936.6-332503|CS...</td>\n      <td>EB*|Ro*|NIR|V*|Em*|*</td>\n      <td>6204217186929931520</td>\n    </tr>\n    <tr>\n      <th>1</th>\n      <td>WRAY 16-294</td>\n      <td>WRAY 16-294</td>\n      <td>LongPeriodV*</td>\n      <td>K5</td>\n      <td>Gaia DR2 4061952680197028224</td>\n      <td>2MASS J17391381-2538050|DENIS J173913.8-253805...</td>\n      <td>LP*|PN|NIR|Em*|*|C*?|ISM|LP?</td>\n      <td>4061952680197028224</td>\n    </tr>\n    <tr>\n      <th>2</th>\n      <td>DASCH J075731.1+201735</td>\n      <td>ASAS J075731+2017.6</td>\n      <td>LongPeriodV*</td>\n      <td>M0III</td>\n      <td>Gaia DR2 670455944074475008</td>\n      <td>2MASS J07573112+2017347|ASAS J075731+2017.6|DA...</td>\n      <td>SB*|LP*|NIR|V*|*|Opt</td>\n      <td>670455944074475008</td>\n    </tr>\n    <tr>\n      <th>3</th>\n      <td>ASAS J174600-2321.3</td>\n      <td>ASAS J174600-2321.3</td>\n      <td>LongPeriodV*_Candidate</td>\n      <td>F0I</td>\n      <td>Gaia DR2 4068755633500598272</td>\n      <td>2MASS J17460018-2321163|ASAS J174600-2321.3|ER...</td>\n      <td>NIR|V*|*|LP?</td>\n      <td>4068755633500598272</td>\n    </tr>\n    <tr>\n      <th>4</th>\n      <td>IPHASJ201550.96+373004.2</td>\n      <td>IRAS 20140+3720</td>\n      <td>PlanetaryNeb_Candidate</td>\n      <td>NaN</td>\n      <td>Gaia DR2 2060829659152816768</td>\n      <td>2MASS J20155096+3730042|AKARI-IRC-V1 J2015509+...</td>\n      <td>NIR|*|C*?|IR|LP?|PN?</td>\n      <td>2060829659152816768</td>\n    </tr>\n  </tbody>\n</table>\n</div>"
     },
     "execution_count": 36,
     "metadata": {},
     "output_type": "execute_result"
    }
   ],
   "source": [
    "df6 = pd.read_csv('../../new/candidate_symbiotic_stars_v2/built_dataset/suspected_SY_dataset.csv')\n",
    "df6.head(5)"
   ],
   "metadata": {
    "collapsed": false
   }
  },
  {
   "cell_type": "code",
   "execution_count": 37,
   "outputs": [
    {
     "data": {
      "text/plain": "                  FIND_NAME              MAIN_ID             Gaia DR3       0  \\\n0                  V748 Cen          V* V748 Cen  6204217186929931520  0.0228   \n1               WRAY 16-294          WRAY 16-294  4061952680197028224  0.9027   \n2    DASCH J075731.1+201735  ASAS J075731+2017.6   670455944074475008  0.5603   \n3       ASAS J174600-2321.3  ASAS J174600-2321.3  4068755633500598272  0.0082   \n4  IPHASJ201550.96+373004.2      IRAS 20140+3720  2060829659152816768  0.0782   \n\n        1       2  label  \n0  0.9771  0.0000      1  \n1  0.0866  0.0107      0  \n2  0.0777  0.3620      0  \n3  0.0626  0.9292      2  \n4  0.7818  0.1399      1  ",
      "text/html": "<div>\n<style scoped>\n    .dataframe tbody tr th:only-of-type {\n        vertical-align: middle;\n    }\n\n    .dataframe tbody tr th {\n        vertical-align: top;\n    }\n\n    .dataframe thead th {\n        text-align: right;\n    }\n</style>\n<table border=\"1\" class=\"dataframe\">\n  <thead>\n    <tr style=\"text-align: right;\">\n      <th></th>\n      <th>FIND_NAME</th>\n      <th>MAIN_ID</th>\n      <th>Gaia DR3</th>\n      <th>0</th>\n      <th>1</th>\n      <th>2</th>\n      <th>label</th>\n    </tr>\n  </thead>\n  <tbody>\n    <tr>\n      <th>0</th>\n      <td>V748 Cen</td>\n      <td>V* V748 Cen</td>\n      <td>6204217186929931520</td>\n      <td>0.0228</td>\n      <td>0.9771</td>\n      <td>0.0000</td>\n      <td>1</td>\n    </tr>\n    <tr>\n      <th>1</th>\n      <td>WRAY 16-294</td>\n      <td>WRAY 16-294</td>\n      <td>4061952680197028224</td>\n      <td>0.9027</td>\n      <td>0.0866</td>\n      <td>0.0107</td>\n      <td>0</td>\n    </tr>\n    <tr>\n      <th>2</th>\n      <td>DASCH J075731.1+201735</td>\n      <td>ASAS J075731+2017.6</td>\n      <td>670455944074475008</td>\n      <td>0.5603</td>\n      <td>0.0777</td>\n      <td>0.3620</td>\n      <td>0</td>\n    </tr>\n    <tr>\n      <th>3</th>\n      <td>ASAS J174600-2321.3</td>\n      <td>ASAS J174600-2321.3</td>\n      <td>4068755633500598272</td>\n      <td>0.0082</td>\n      <td>0.0626</td>\n      <td>0.9292</td>\n      <td>2</td>\n    </tr>\n    <tr>\n      <th>4</th>\n      <td>IPHASJ201550.96+373004.2</td>\n      <td>IRAS 20140+3720</td>\n      <td>2060829659152816768</td>\n      <td>0.0782</td>\n      <td>0.7818</td>\n      <td>0.1399</td>\n      <td>1</td>\n    </tr>\n  </tbody>\n</table>\n</div>"
     },
     "execution_count": 37,
     "metadata": {},
     "output_type": "execute_result"
    }
   ],
   "source": [
    "# Filtro de data frames\n",
    "df_filtered = df6.merge(df5, left_on=['Gaia DR3'], right_on=['source_id'], how='inner', indicator=True)\n",
    "df_filtered = df_filtered[df_filtered['_merge'] == 'both']\n",
    "df_filtered = df_filtered.iloc[:, [0, 1, 7, 9, 10, 11, 12]]\n",
    "df_filtered.head(5)"
   ],
   "metadata": {
    "collapsed": false
   }
  },
  {
   "cell_type": "code",
   "execution_count": 38,
   "outputs": [],
   "source": [
    "out_name = 'rna_unbalanced.csv'\n",
    "out_dir = '../../new/candidate_symbiotic_stars_v2/output'\n",
    "if not os.path.exists(out_dir):\n",
    "    os.mkdir(out_dir)\n",
    "\n",
    "fullname = os.path.join(out_dir, out_name)\n",
    "df_filtered.to_csv(fullname, header=True, index=False)"
   ],
   "metadata": {
    "collapsed": false
   }
  },
  {
   "cell_type": "code",
   "execution_count": null,
   "outputs": [],
   "source": [],
   "metadata": {
    "collapsed": false
   }
  }
 ],
 "metadata": {
  "kernelspec": {
   "display_name": "Python 3",
   "language": "python",
   "name": "python3"
  },
  "language_info": {
   "codemirror_mode": {
    "name": "ipython",
    "version": 2
   },
   "file_extension": ".py",
   "mimetype": "text/x-python",
   "name": "python",
   "nbconvert_exporter": "python",
   "pygments_lexer": "ipython2",
   "version": "2.7.6"
  }
 },
 "nbformat": 4,
 "nbformat_minor": 0
}
