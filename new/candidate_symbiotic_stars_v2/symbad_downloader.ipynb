{
 "cells": [
  {
   "cell_type": "code",
   "execution_count": 1,
   "metadata": {
    "collapsed": true
   },
   "outputs": [],
   "source": [
    "import pandas as pd\n",
    "from astroquery.simbad import Simbad\n",
    "import os"
   ]
  },
  {
   "cell_type": "code",
   "execution_count": 2,
   "outputs": [],
   "source": [
    "data1 = pd.read_csv('./suspected_symbiotic_stars.txt', names=['MAIN_ID'], header=None)\n",
    "stars_names = data1.iloc[:, 0].tolist()"
   ],
   "metadata": {
    "collapsed": false
   }
  },
  {
   "cell_type": "code",
   "execution_count": 3,
   "outputs": [],
   "source": [
    "catalog = \"Gaia DR3\"\n",
    "\n",
    "\n",
    "def find_gaia_dr3(value: str):\n",
    "    if catalog in value:\n",
    "        index = value.index(catalog)\n",
    "        return value[index + len(catalog) + 1:index + len(catalog) + 25].strip().split('|')[0].strip()\n",
    "    else:\n",
    "        return None"
   ],
   "metadata": {
    "collapsed": false
   }
  },
  {
   "cell_type": "code",
   "execution_count": 4,
   "outputs": [
    {
     "data": {
      "text/plain": "'1870094426454523904'"
     },
     "execution_count": 4,
     "metadata": {},
     "output_type": "execute_result"
    }
   ],
   "source": [
    "find_gaia_dr3(\n",
    "    \"BD+36  4320|GSC 02700-03701|2MASS J20551542+3644188|TIC 195262851|TYC 2700-3701-1|Gaia DR2 1870094426454523904|Gaia DR3 1870094426454523904|Gaia DR1 1870094422138445824\")"
   ],
   "metadata": {
    "collapsed": false
   }
  },
  {
   "cell_type": "code",
   "execution_count": 5,
   "outputs": [],
   "source": [
    "simbad_handler = Simbad()\n",
    "simbad_handler.ROW_LIMIT = 0\n",
    "simbad_handler.TIMEOUT = 60 * 60\n",
    "simbad_handler.reset_votable_fields()\n",
    "\n",
    "simbad_handler.add_votable_fields(\n",
    "    \"otype\",\n",
    "    \"typed_id\",\n",
    "    \"id(Gaia)\",\n",
    "    \"ids\",\n",
    "    \"sptype\",\n",
    "    \"otypes\"\n",
    ")"
   ],
   "metadata": {
    "collapsed": false
   }
  },
  {
   "cell_type": "code",
   "execution_count": 6,
   "outputs": [
    {
     "name": "stderr",
     "output_type": "stream",
     "text": [
      "C:\\Users\\orest\\AppData\\Local\\Programs\\Python\\Python311\\Lib\\site-packages\\astroquery\\simbad\\core.py:135: UserWarning: Warning: The script line number 3 raised an error (recorded in the `errors` attribute of the result table): '001.97+02.41': No known catalog could be found\n",
      "  warnings.warn(\"Warning: The script line number %i raised \"\n",
      "C:\\Users\\orest\\AppData\\Local\\Programs\\Python\\Python311\\Lib\\site-packages\\astroquery\\simbad\\core.py:135: UserWarning: Warning: The script line number 3 raised an error (recorded in the `errors` attribute of the result table): '001.33+01.07': No known catalog could be found\n",
      "  warnings.warn(\"Warning: The script line number %i raised \"\n",
      "C:\\Users\\orest\\AppData\\Local\\Programs\\Python\\Python311\\Lib\\site-packages\\astroquery\\simbad\\core.py:135: UserWarning: Warning: The script line number 3 raised an error (recorded in the `errors` attribute of the result table): '001.71+01.14': No known catalog could be found\n",
      "  warnings.warn(\"Warning: The script line number %i raised \"\n",
      "C:\\Users\\orest\\AppData\\Local\\Programs\\Python\\Python311\\Lib\\site-packages\\astroquery\\simbad\\core.py:135: UserWarning: Warning: The script line number 3 raised an error (recorded in the `errors` attribute of the result table): '2MASSJ17145509-393311712': No known catalog could be found\n",
      "  warnings.warn(\"Warning: The script line number %i raised \"\n",
      "C:\\Users\\orest\\AppData\\Local\\Programs\\Python\\Python311\\Lib\\site-packages\\astroquery\\simbad\\core.py:135: UserWarning: Warning: The script line number 3 raised an error (recorded in the `errors` attribute of the result table): '357.12+01.66': No known catalog could be found\n",
      "  warnings.warn(\"Warning: The script line number %i raised \"\n",
      "C:\\Users\\orest\\AppData\\Local\\Programs\\Python\\Python311\\Lib\\site-packages\\astroquery\\simbad\\core.py:135: UserWarning: Warning: The script line number 3 raised an error (recorded in the `errors` attribute of the result table): Identifier not found in the database : IPHAS J185039.20+065916.7\n",
      "  warnings.warn(\"Warning: The script line number %i raised \"\n",
      "C:\\Users\\orest\\AppData\\Local\\Programs\\Python\\Python311\\Lib\\site-packages\\astroquery\\simbad\\core.py:135: UserWarning: Warning: The script line number 3 raised an error (recorded in the `errors` attribute of the result table): Identifier not found in the database : IPHAS J185323.58+084955.0\n",
      "  warnings.warn(\"Warning: The script line number %i raised \"\n",
      "C:\\Users\\orest\\AppData\\Local\\Programs\\Python\\Python311\\Lib\\site-packages\\astroquery\\simbad\\core.py:135: UserWarning: Warning: The script line number 3 raised an error (recorded in the `errors` attribute of the result table): Identifier not found in the database : IPHAS J194120.77+245612.9\n",
      "  warnings.warn(\"Warning: The script line number %i raised \"\n",
      "C:\\Users\\orest\\AppData\\Local\\Programs\\Python\\Python311\\Lib\\site-packages\\astroquery\\simbad\\core.py:135: UserWarning: Warning: The script line number 3 raised an error (recorded in the `errors` attribute of the result table): Identifier not found in the database : IPHAS J192257.72+113854.8\n",
      "  warnings.warn(\"Warning: The script line number %i raised \"\n",
      "C:\\Users\\orest\\AppData\\Local\\Programs\\Python\\Python311\\Lib\\site-packages\\astroquery\\simbad\\core.py:135: UserWarning: Warning: The script line number 3 raised an error (recorded in the `errors` attribute of the result table): Identifier not found in the database : IPHAS J195712.42+301316.1\n",
      "  warnings.warn(\"Warning: The script line number %i raised \"\n",
      "C:\\Users\\orest\\AppData\\Local\\Programs\\Python\\Python311\\Lib\\site-packages\\astroquery\\simbad\\core.py:135: UserWarning: Warning: The script line number 3 raised an error (recorded in the `errors` attribute of the result table): Identifier not found in the database : VPHAS J174455.7-341418.0\n",
      "  warnings.warn(\"Warning: The script line number %i raised \"\n",
      "C:\\Users\\orest\\AppData\\Local\\Programs\\Python\\Python311\\Lib\\site-packages\\astroquery\\simbad\\core.py:135: UserWarning: Warning: The script line number 3 raised an error (recorded in the `errors` attribute of the result table): Identifier not found in the database : VPHAS J174354.4-330845.3\n",
      "  warnings.warn(\"Warning: The script line number %i raised \"\n",
      "C:\\Users\\orest\\AppData\\Local\\Programs\\Python\\Python311\\Lib\\site-packages\\astroquery\\simbad\\core.py:135: UserWarning: Warning: The script line number 3 raised an error (recorded in the `errors` attribute of the result table): Identifier not found in the database : VPHAS J175313.8-301805.8\n",
      "  warnings.warn(\"Warning: The script line number %i raised \"\n",
      "C:\\Users\\orest\\AppData\\Local\\Programs\\Python\\Python311\\Lib\\site-packages\\astroquery\\simbad\\core.py:135: UserWarning: Warning: The script line number 3 raised an error (recorded in the `errors` attribute of the result table): Identifier not found in the database : VPHAS J175059.8-301247.5\n",
      "  warnings.warn(\"Warning: The script line number %i raised \"\n",
      "C:\\Users\\orest\\AppData\\Local\\Programs\\Python\\Python311\\Lib\\site-packages\\astroquery\\simbad\\core.py:135: UserWarning: Warning: The script line number 3 raised an error (recorded in the `errors` attribute of the result table): Identifier not found in the database : VPHAS J175225.9-294557.0\n",
      "  warnings.warn(\"Warning: The script line number %i raised \"\n",
      "C:\\Users\\orest\\AppData\\Local\\Programs\\Python\\Python311\\Lib\\site-packages\\astroquery\\simbad\\core.py:135: UserWarning: Warning: The script line number 3 raised an error (recorded in the `errors` attribute of the result table): Identifier not found in the database : VPHAS J175231.2-291534.8\n",
      "  warnings.warn(\"Warning: The script line number %i raised \"\n",
      "C:\\Users\\orest\\AppData\\Local\\Programs\\Python\\Python311\\Lib\\site-packages\\astroquery\\simbad\\core.py:135: UserWarning: Warning: The script line number 3 raised an error (recorded in the `errors` attribute of the result table): Identifier not found in the database : VPHAS J173007.4-312706.8\n",
      "  warnings.warn(\"Warning: The script line number %i raised \"\n",
      "C:\\Users\\orest\\AppData\\Local\\Programs\\Python\\Python311\\Lib\\site-packages\\astroquery\\simbad\\core.py:135: UserWarning: Warning: The script line number 3 raised an error (recorded in the `errors` attribute of the result table): Identifier not found in the database : VPHAS J173123.2-300844.3\n",
      "  warnings.warn(\"Warning: The script line number %i raised \"\n",
      "C:\\Users\\orest\\AppData\\Local\\Programs\\Python\\Python311\\Lib\\site-packages\\astroquery\\simbad\\core.py:135: UserWarning: Warning: The script line number 3 raised an error (recorded in the `errors` attribute of the result table): Identifier not found in the database : VPHAS J173155.9-301915.6\n",
      "  warnings.warn(\"Warning: The script line number %i raised \"\n",
      "C:\\Users\\orest\\AppData\\Local\\Programs\\Python\\Python311\\Lib\\site-packages\\astroquery\\simbad\\core.py:135: UserWarning: Warning: The script line number 3 raised an error (recorded in the `errors` attribute of the result table): Identifier not found in the database : VPHAS J173435.5-294822.2\n",
      "  warnings.warn(\"Warning: The script line number %i raised \"\n",
      "C:\\Users\\orest\\AppData\\Local\\Programs\\Python\\Python311\\Lib\\site-packages\\astroquery\\simbad\\core.py:135: UserWarning: Warning: The script line number 3 raised an error (recorded in the `errors` attribute of the result table): Identifier not found in the database : VPHAS J173416.8-292912.0\n",
      "  warnings.warn(\"Warning: The script line number %i raised \"\n",
      "C:\\Users\\orest\\AppData\\Local\\Programs\\Python\\Python311\\Lib\\site-packages\\astroquery\\simbad\\core.py:135: UserWarning: Warning: The script line number 3 raised an error (recorded in the `errors` attribute of the result table): Identifier not found in the database : VPHAS J173227.9-290509.1\n",
      "  warnings.warn(\"Warning: The script line number %i raised \"\n",
      "C:\\Users\\orest\\AppData\\Local\\Programs\\Python\\Python311\\Lib\\site-packages\\astroquery\\simbad\\core.py:135: UserWarning: Warning: The script line number 3 raised an error (recorded in the `errors` attribute of the result table): Identifier not found in the database : VPHAS J171755.8-300142.6\n",
      "  warnings.warn(\"Warning: The script line number %i raised \"\n",
      "C:\\Users\\orest\\AppData\\Local\\Programs\\Python\\Python311\\Lib\\site-packages\\astroquery\\simbad\\core.py:135: UserWarning: Warning: The script line number 3 raised an error (recorded in the `errors` attribute of the result table): Identifier not found in the database : VPHAS J172102.5-292252.8\n",
      "  warnings.warn(\"Warning: The script line number %i raised \"\n",
      "C:\\Users\\orest\\AppData\\Local\\Programs\\Python\\Python311\\Lib\\site-packages\\astroquery\\simbad\\core.py:135: UserWarning: Warning: The script line number 3 raised an error (recorded in the `errors` attribute of the result table): Identifier not found in the database : VPHAS J172731.6-290256.4\n",
      "  warnings.warn(\"Warning: The script line number %i raised \"\n",
      "C:\\Users\\orest\\AppData\\Local\\Programs\\Python\\Python311\\Lib\\site-packages\\astroquery\\simbad\\core.py:135: UserWarning: Warning: The script line number 3 raised an error (recorded in the `errors` attribute of the result table): Identifier not found in the database : VPHAS J173558.5-284954.1\n",
      "  warnings.warn(\"Warning: The script line number %i raised \"\n",
      "C:\\Users\\orest\\AppData\\Local\\Programs\\Python\\Python311\\Lib\\site-packages\\astroquery\\simbad\\core.py:135: UserWarning: Warning: The script line number 3 raised an error (recorded in the `errors` attribute of the result table): Identifier not found in the database : VPHAS J174513.7-265242.9\n",
      "  warnings.warn(\"Warning: The script line number %i raised \"\n",
      "C:\\Users\\orest\\AppData\\Local\\Programs\\Python\\Python311\\Lib\\site-packages\\astroquery\\simbad\\core.py:135: UserWarning: Warning: The script line number 3 raised an error (recorded in the `errors` attribute of the result table): Identifier not found in the database : VPHAS J174055.7-274748.4\n",
      "  warnings.warn(\"Warning: The script line number %i raised \"\n",
      "C:\\Users\\orest\\AppData\\Local\\Programs\\Python\\Python311\\Lib\\site-packages\\astroquery\\simbad\\core.py:135: UserWarning: Warning: The script line number 3 raised an error (recorded in the `errors` attribute of the result table): Identifier not found in the database : VPHAS J173343.4-280721.2\n",
      "  warnings.warn(\"Warning: The script line number %i raised \"\n",
      "C:\\Users\\orest\\AppData\\Local\\Programs\\Python\\Python311\\Lib\\site-packages\\astroquery\\simbad\\core.py:135: UserWarning: Warning: The script line number 3 raised an error (recorded in the `errors` attribute of the result table): Identifier not found in the database : VPHAS J175648.7-285837.0\n",
      "  warnings.warn(\"Warning: The script line number %i raised \"\n",
      "C:\\Users\\orest\\AppData\\Local\\Programs\\Python\\Python311\\Lib\\site-packages\\astroquery\\simbad\\core.py:135: UserWarning: Warning: The script line number 3 raised an error (recorded in the `errors` attribute of the result table): Identifier not found in the database : VPHAS J175704.2-285034.8\n",
      "  warnings.warn(\"Warning: The script line number %i raised \"\n",
      "C:\\Users\\orest\\AppData\\Local\\Programs\\Python\\Python311\\Lib\\site-packages\\astroquery\\simbad\\core.py:135: UserWarning: Warning: The script line number 3 raised an error (recorded in the `errors` attribute of the result table): Identifier not found in the database : VPHAS J175645.2-285154.4\n",
      "  warnings.warn(\"Warning: The script line number %i raised \"\n",
      "C:\\Users\\orest\\AppData\\Local\\Programs\\Python\\Python311\\Lib\\site-packages\\astroquery\\simbad\\core.py:135: UserWarning: Warning: The script line number 3 raised an error (recorded in the `errors` attribute of the result table): Identifier not found in the database : VPHAS J175828.0-283342.0\n",
      "  warnings.warn(\"Warning: The script line number %i raised \"\n",
      "C:\\Users\\orest\\AppData\\Local\\Programs\\Python\\Python311\\Lib\\site-packages\\astroquery\\simbad\\core.py:135: UserWarning: Warning: The script line number 3 raised an error (recorded in the `errors` attribute of the result table): Identifier not found in the database : VPHAS J175732.5-271825.3\n",
      "  warnings.warn(\"Warning: The script line number %i raised \"\n",
      "C:\\Users\\orest\\AppData\\Local\\Programs\\Python\\Python311\\Lib\\site-packages\\astroquery\\simbad\\core.py:135: UserWarning: Warning: The script line number 3 raised an error (recorded in the `errors` attribute of the result table): Identifier not found in the database : VPHAS J180913.0-253521.9\n",
      "  warnings.warn(\"Warning: The script line number %i raised \"\n",
      "C:\\Users\\orest\\AppData\\Local\\Programs\\Python\\Python311\\Lib\\site-packages\\astroquery\\simbad\\core.py:135: UserWarning: Warning: The script line number 3 raised an error (recorded in the `errors` attribute of the result table): Identifier not found in the database : VPHAS J180924.9-253834.8\n",
      "  warnings.warn(\"Warning: The script line number %i raised \"\n",
      "C:\\Users\\orest\\AppData\\Local\\Programs\\Python\\Python311\\Lib\\site-packages\\astroquery\\simbad\\core.py:135: UserWarning: Warning: The script line number 3 raised an error (recorded in the `errors` attribute of the result table): Identifier not found in the database : VPHAS J180920.2-253738.5\n",
      "  warnings.warn(\"Warning: The script line number %i raised \"\n",
      "C:\\Users\\orest\\AppData\\Local\\Programs\\Python\\Python311\\Lib\\site-packages\\astroquery\\simbad\\core.py:135: UserWarning: Warning: The script line number 3 raised an error (recorded in the `errors` attribute of the result table): Identifier not found in the database : VPHAS J180923.8-253158.5\n",
      "  warnings.warn(\"Warning: The script line number %i raised \"\n",
      "C:\\Users\\orest\\AppData\\Local\\Programs\\Python\\Python311\\Lib\\site-packages\\astroquery\\simbad\\core.py:135: UserWarning: Warning: The script line number 3 raised an error (recorded in the `errors` attribute of the result table): Identifier not found in the database : VPHAS J180910.5-253003.1\n",
      "  warnings.warn(\"Warning: The script line number %i raised \"\n",
      "C:\\Users\\orest\\AppData\\Local\\Programs\\Python\\Python311\\Lib\\site-packages\\astroquery\\simbad\\core.py:135: UserWarning: Warning: The script line number 3 raised an error (recorded in the `errors` attribute of the result table): Identifier not found in the database : VPHAS J180910.6-253023.6\n",
      "  warnings.warn(\"Warning: The script line number %i raised \"\n",
      "C:\\Users\\orest\\AppData\\Local\\Programs\\Python\\Python311\\Lib\\site-packages\\astroquery\\simbad\\core.py:135: UserWarning: Warning: The script line number 3 raised an error (recorded in the `errors` attribute of the result table): Identifier not found in the database : VPHAS J180912.0-253053.3\n",
      "  warnings.warn(\"Warning: The script line number %i raised \"\n",
      "C:\\Users\\orest\\AppData\\Local\\Programs\\Python\\Python311\\Lib\\site-packages\\astroquery\\simbad\\core.py:135: UserWarning: Warning: The script line number 3 raised an error (recorded in the `errors` attribute of the result table): Identifier not found in the database : VPHAS J180914.2-253827.1\n",
      "  warnings.warn(\"Warning: The script line number %i raised \"\n",
      "C:\\Users\\orest\\AppData\\Local\\Programs\\Python\\Python311\\Lib\\site-packages\\astroquery\\simbad\\core.py:135: UserWarning: Warning: The script line number 3 raised an error (recorded in the `errors` attribute of the result table): Identifier not found in the database : VPHAS J180913.6-253106.5\n",
      "  warnings.warn(\"Warning: The script line number %i raised \"\n",
      "C:\\Users\\orest\\AppData\\Local\\Programs\\Python\\Python311\\Lib\\site-packages\\astroquery\\simbad\\core.py:135: UserWarning: Warning: The script line number 3 raised an error (recorded in the `errors` attribute of the result table): Identifier not found in the database : VPHAS J180915.7-252939.1\n",
      "  warnings.warn(\"Warning: The script line number %i raised \"\n",
      "C:\\Users\\orest\\AppData\\Local\\Programs\\Python\\Python311\\Lib\\site-packages\\astroquery\\simbad\\core.py:135: UserWarning: Warning: The script line number 3 raised an error (recorded in the `errors` attribute of the result table): Identifier not found in the database : VPHAS J180910.0-253622.8\n",
      "  warnings.warn(\"Warning: The script line number %i raised \"\n",
      "C:\\Users\\orest\\AppData\\Local\\Programs\\Python\\Python311\\Lib\\site-packages\\astroquery\\simbad\\core.py:135: UserWarning: Warning: The script line number 3 raised an error (recorded in the `errors` attribute of the result table): Identifier not found in the database : VPHAS J180934.5-245744.2\n",
      "  warnings.warn(\"Warning: The script line number %i raised \"\n",
      "C:\\Users\\orest\\AppData\\Local\\Programs\\Python\\Python311\\Lib\\site-packages\\astroquery\\simbad\\core.py:135: UserWarning: Warning: The script line number 3 raised an error (recorded in the `errors` attribute of the result table): Identifier not found in the database : VPHAS J174512.6-253207.2\n",
      "  warnings.warn(\"Warning: The script line number %i raised \"\n",
      "C:\\Users\\orest\\AppData\\Local\\Programs\\Python\\Python311\\Lib\\site-packages\\astroquery\\simbad\\core.py:135: UserWarning: Warning: The script line number 3 raised an error (recorded in the `errors` attribute of the result table): Identifier not found in the database : VPHAS J174356.1-250625.6\n",
      "  warnings.warn(\"Warning: The script line number %i raised \"\n",
      "C:\\Users\\orest\\AppData\\Local\\Programs\\Python\\Python311\\Lib\\site-packages\\astroquery\\simbad\\core.py:135: UserWarning: Warning: The script line number 3 raised an error (recorded in the `errors` attribute of the result table): Identifier not found in the database : VPHAS J175527.9-222339.6\n",
      "  warnings.warn(\"Warning: The script line number %i raised \"\n",
      "C:\\Users\\orest\\AppData\\Local\\Programs\\Python\\Python311\\Lib\\site-packages\\astroquery\\simbad\\core.py:135: UserWarning: Warning: The script line number 3 raised an error (recorded in the `errors` attribute of the result table): Identifier not found in the database : VPHAS J181705.6-153203.8\n",
      "  warnings.warn(\"Warning: The script line number %i raised \"\n",
      "C:\\Users\\orest\\AppData\\Local\\Programs\\Python\\Python311\\Lib\\site-packages\\astroquery\\simbad\\core.py:135: UserWarning: Warning: The script line number 3 raised an error (recorded in the `errors` attribute of the result table): Identifier not found in the database : VPHAS J185821.0-071139.5\n",
      "  warnings.warn(\"Warning: The script line number %i raised \"\n",
      "C:\\Users\\orest\\AppData\\Local\\Programs\\Python\\Python311\\Lib\\site-packages\\astroquery\\simbad\\core.py:135: UserWarning: Warning: The script line number 3 raised an error (recorded in the `errors` attribute of the result table): Identifier not found in the database : VPHAS J184835.7-064110.4\n",
      "  warnings.warn(\"Warning: The script line number %i raised \"\n",
      "C:\\Users\\orest\\AppData\\Local\\Programs\\Python\\Python311\\Lib\\site-packages\\astroquery\\simbad\\core.py:135: UserWarning: Warning: The script line number 3 raised an error (recorded in the `errors` attribute of the result table): Identifier not found in the database : VPHAS J191333.7+021813.1\n",
      "  warnings.warn(\"Warning: The script line number %i raised \"\n",
      "C:\\Users\\orest\\AppData\\Local\\Programs\\Python\\Python311\\Lib\\site-packages\\astroquery\\simbad\\core.py:135: UserWarning: Warning: The script line number 3 raised an error (recorded in the `errors` attribute of the result table): Identifier not found in the database : VPHAS J160910.9-530245.4\n",
      "  warnings.warn(\"Warning: The script line number %i raised \"\n",
      "C:\\Users\\orest\\AppData\\Local\\Programs\\Python\\Python311\\Lib\\site-packages\\astroquery\\simbad\\core.py:135: UserWarning: Warning: The script line number 3 raised an error (recorded in the `errors` attribute of the result table): Identifier not found in the database : VPHAS J175016.7-305734.6\n",
      "  warnings.warn(\"Warning: The script line number %i raised \"\n",
      "C:\\Users\\orest\\AppData\\Local\\Programs\\Python\\Python311\\Lib\\site-packages\\astroquery\\simbad\\core.py:135: UserWarning: Warning: The script line number 3 raised an error (recorded in the `errors` attribute of the result table): Identifier not found in the database : VPHAS J175153.5-293053.5\n",
      "  warnings.warn(\"Warning: The script line number %i raised \"\n",
      "C:\\Users\\orest\\AppData\\Local\\Programs\\Python\\Python311\\Lib\\site-packages\\astroquery\\simbad\\core.py:135: UserWarning: Warning: The script line number 3 raised an error (recorded in the `errors` attribute of the result table): Identifier not found in the database : VPHAS J173030.0-304937.2\n",
      "  warnings.warn(\"Warning: The script line number %i raised \"\n",
      "C:\\Users\\orest\\AppData\\Local\\Programs\\Python\\Python311\\Lib\\site-packages\\astroquery\\simbad\\core.py:135: UserWarning: Warning: The script line number 3 raised an error (recorded in the `errors` attribute of the result table): Identifier not found in the database : VPHAS J173204.8-302854.6\n",
      "  warnings.warn(\"Warning: The script line number %i raised \"\n",
      "C:\\Users\\orest\\AppData\\Local\\Programs\\Python\\Python311\\Lib\\site-packages\\astroquery\\simbad\\core.py:135: UserWarning: Warning: The script line number 3 raised an error (recorded in the `errors` attribute of the result table): Identifier not found in the database : VPHAS J173522.2-294519.8\n",
      "  warnings.warn(\"Warning: The script line number %i raised \"\n",
      "C:\\Users\\orest\\AppData\\Local\\Programs\\Python\\Python311\\Lib\\site-packages\\astroquery\\simbad\\core.py:135: UserWarning: Warning: The script line number 3 raised an error (recorded in the `errors` attribute of the result table): Identifier not found in the database : VPHAS J175821.9-281452.2\n",
      "  warnings.warn(\"Warning: The script line number %i raised \"\n",
      "C:\\Users\\orest\\AppData\\Local\\Programs\\Python\\Python311\\Lib\\site-packages\\astroquery\\simbad\\core.py:135: UserWarning: Warning: The script line number 3 raised an error (recorded in the `errors` attribute of the result table): Identifier not found in the database : VPHAS J180149.5-195828.4\n",
      "  warnings.warn(\"Warning: The script line number %i raised \"\n",
      "C:\\Users\\orest\\AppData\\Local\\Programs\\Python\\Python311\\Lib\\site-packages\\astroquery\\simbad\\core.py:135: UserWarning: Warning: The script line number 3 raised an error (recorded in the `errors` attribute of the result table): Identifier not found in the database : VPHAS J180803.5-203454.0\n",
      "  warnings.warn(\"Warning: The script line number %i raised \"\n",
      "C:\\Users\\orest\\AppData\\Local\\Programs\\Python\\Python311\\Lib\\site-packages\\astroquery\\simbad\\core.py:135: UserWarning: Warning: The script line number 3 raised an error (recorded in the `errors` attribute of the result table): Identifier not found in the database : VPHAS J182047.1-173627.3\n",
      "  warnings.warn(\"Warning: The script line number %i raised \"\n",
      "C:\\Users\\orest\\AppData\\Local\\Programs\\Python\\Python311\\Lib\\site-packages\\astroquery\\simbad\\core.py:135: UserWarning: Warning: The script line number 3 raised an error (recorded in the `errors` attribute of the result table): Identifier not found in the database : VPHAS J182503.1-143031.5\n",
      "  warnings.warn(\"Warning: The script line number %i raised \"\n",
      "C:\\Users\\orest\\AppData\\Local\\Programs\\Python\\Python311\\Lib\\site-packages\\astroquery\\simbad\\core.py:135: UserWarning: Warning: The script line number 3 raised an error (recorded in the `errors` attribute of the result table): Identifier not found in the database : VPHAS J183013.2-135356.7\n",
      "  warnings.warn(\"Warning: The script line number %i raised \"\n",
      "C:\\Users\\orest\\AppData\\Local\\Programs\\Python\\Python311\\Lib\\site-packages\\astroquery\\simbad\\core.py:135: UserWarning: Warning: The script line number 3 raised an error (recorded in the `errors` attribute of the result table): Identifier not found in the database : VPHAS J182831.5-122059.5\n",
      "  warnings.warn(\"Warning: The script line number %i raised \"\n",
      "C:\\Users\\orest\\AppData\\Local\\Programs\\Python\\Python311\\Lib\\site-packages\\astroquery\\simbad\\core.py:135: UserWarning: Warning: The script line number 3 raised an error (recorded in the `errors` attribute of the result table): Identifier not found in the database : VPHAS J182606.0-122839.3\n",
      "  warnings.warn(\"Warning: The script line number %i raised \"\n",
      "C:\\Users\\orest\\AppData\\Local\\Programs\\Python\\Python311\\Lib\\site-packages\\astroquery\\simbad\\core.py:135: UserWarning: Warning: The script line number 3 raised an error (recorded in the `errors` attribute of the result table): Identifier not found in the database : VPHAS J184024.2-084346.3\n",
      "  warnings.warn(\"Warning: The script line number %i raised \"\n",
      "C:\\Users\\orest\\AppData\\Local\\Programs\\Python\\Python311\\Lib\\site-packages\\astroquery\\simbad\\core.py:135: UserWarning: Warning: The script line number 3 raised an error (recorded in the `errors` attribute of the result table): Identifier not found in the database : VPHAS J183910.8-085644.4\n",
      "  warnings.warn(\"Warning: The script line number %i raised \"\n",
      "C:\\Users\\orest\\AppData\\Local\\Programs\\Python\\Python311\\Lib\\site-packages\\astroquery\\simbad\\core.py:135: UserWarning: Warning: The script line number 3 raised an error (recorded in the `errors` attribute of the result table): Identifier not found in the database : VPHAS J183044.6-100757.4\n",
      "  warnings.warn(\"Warning: The script line number %i raised \"\n",
      "C:\\Users\\orest\\AppData\\Local\\Programs\\Python\\Python311\\Lib\\site-packages\\astroquery\\simbad\\core.py:135: UserWarning: Warning: The script line number 3 raised an error (recorded in the `errors` attribute of the result table): Identifier not found in the database : VPHAS J184303.6-050026.4\n",
      "  warnings.warn(\"Warning: The script line number %i raised \"\n",
      "C:\\Users\\orest\\AppData\\Local\\Programs\\Python\\Python311\\Lib\\site-packages\\astroquery\\simbad\\core.py:135: UserWarning: Warning: The script line number 3 raised an error (recorded in the `errors` attribute of the result table): Identifier not found in the database : VPHAS J184532.1-005029.4\n",
      "  warnings.warn(\"Warning: The script line number %i raised \"\n",
      "C:\\Users\\orest\\AppData\\Local\\Programs\\Python\\Python311\\Lib\\site-packages\\astroquery\\simbad\\core.py:135: UserWarning: Warning: The script line number 3 raised an error (recorded in the `errors` attribute of the result table): Identifier not found in the database : VPHAS J184229.2-002144.1\n",
      "  warnings.warn(\"Warning: The script line number %i raised \"\n",
      "C:\\Users\\orest\\AppData\\Local\\Programs\\Python\\Python311\\Lib\\site-packages\\astroquery\\simbad\\core.py:135: UserWarning: Warning: The script line number 3 raised an error (recorded in the `errors` attribute of the result table): Identifier not found in the database : VPHAS J101521.0-570706.0\n",
      "  warnings.warn(\"Warning: The script line number %i raised \"\n",
      "C:\\Users\\orest\\AppData\\Local\\Programs\\Python\\Python311\\Lib\\site-packages\\astroquery\\simbad\\core.py:135: UserWarning: Warning: The script line number 3 raised an error (recorded in the `errors` attribute of the result table): Identifier not found in the database : VPHAS J124845.2-634948.6\n",
      "  warnings.warn(\"Warning: The script line number %i raised \"\n",
      "C:\\Users\\orest\\AppData\\Local\\Programs\\Python\\Python311\\Lib\\site-packages\\astroquery\\simbad\\core.py:135: UserWarning: Warning: The script line number 3 raised an error (recorded in the `errors` attribute of the result table): Identifier not found in the database : VPHAS J133405.8-623745.7\n",
      "  warnings.warn(\"Warning: The script line number %i raised \"\n",
      "C:\\Users\\orest\\AppData\\Local\\Programs\\Python\\Python311\\Lib\\site-packages\\astroquery\\simbad\\core.py:135: UserWarning: Warning: The script line number 3 raised an error (recorded in the `errors` attribute of the result table): Identifier not found in the database : VPHAS J133509.6-614305.8\n",
      "  warnings.warn(\"Warning: The script line number %i raised \"\n",
      "C:\\Users\\orest\\AppData\\Local\\Programs\\Python\\Python311\\Lib\\site-packages\\astroquery\\simbad\\core.py:135: UserWarning: Warning: The script line number 3 raised an error (recorded in the `errors` attribute of the result table): Identifier not found in the database : VPHAS J154125.6-565953.2\n",
      "  warnings.warn(\"Warning: The script line number %i raised \"\n",
      "C:\\Users\\orest\\AppData\\Local\\Programs\\Python\\Python311\\Lib\\site-packages\\astroquery\\simbad\\core.py:135: UserWarning: Warning: The script line number 3 raised an error (recorded in the `errors` attribute of the result table): Identifier not found in the database : VPHAS J152144.3-572220.6\n",
      "  warnings.warn(\"Warning: The script line number %i raised \"\n",
      "C:\\Users\\orest\\AppData\\Local\\Programs\\Python\\Python311\\Lib\\site-packages\\astroquery\\simbad\\core.py:135: UserWarning: Warning: The script line number 3 raised an error (recorded in the `errors` attribute of the result table): Identifier not found in the database : VPHAS J160631.4-525616.4\n",
      "  warnings.warn(\"Warning: The script line number %i raised \"\n",
      "C:\\Users\\orest\\AppData\\Local\\Programs\\Python\\Python311\\Lib\\site-packages\\astroquery\\simbad\\core.py:135: UserWarning: Warning: The script line number 3 raised an error (recorded in the `errors` attribute of the result table): Identifier not found in the database : VPHAS J164646.3-454758.3\n",
      "  warnings.warn(\"Warning: The script line number %i raised \"\n",
      "C:\\Users\\orest\\AppData\\Local\\Programs\\Python\\Python311\\Lib\\site-packages\\astroquery\\simbad\\core.py:135: UserWarning: Warning: The script line number 3 raised an error (recorded in the `errors` attribute of the result table): Identifier not found in the database : VPHAS J162446.2-485536.4\n",
      "  warnings.warn(\"Warning: The script line number %i raised \"\n",
      "C:\\Users\\orest\\AppData\\Local\\Programs\\Python\\Python311\\Lib\\site-packages\\astroquery\\simbad\\core.py:135: UserWarning: Warning: The script line number 3 raised an error (recorded in the `errors` attribute of the result table): Identifier not found in the database : VPHAS J162457.4-484340.2\n",
      "  warnings.warn(\"Warning: The script line number %i raised \"\n",
      "C:\\Users\\orest\\AppData\\Local\\Programs\\Python\\Python311\\Lib\\site-packages\\astroquery\\simbad\\core.py:135: UserWarning: Warning: The script line number 3 raised an error (recorded in the `errors` attribute of the result table): Identifier not found in the database : VPHAS J164300.8-452701.3\n",
      "  warnings.warn(\"Warning: The script line number %i raised \"\n",
      "C:\\Users\\orest\\AppData\\Local\\Programs\\Python\\Python311\\Lib\\site-packages\\astroquery\\simbad\\core.py:135: UserWarning: Warning: The script line number 3 raised an error (recorded in the `errors` attribute of the result table): Identifier not found in the database : VPHAS J165346.7-434931.0\n",
      "  warnings.warn(\"Warning: The script line number %i raised \"\n",
      "C:\\Users\\orest\\AppData\\Local\\Programs\\Python\\Python311\\Lib\\site-packages\\astroquery\\simbad\\core.py:135: UserWarning: Warning: The script line number 3 raised an error (recorded in the `errors` attribute of the result table): Identifier not found in the database : VPHAS J171225.1-412555.4\n",
      "  warnings.warn(\"Warning: The script line number %i raised \"\n",
      "C:\\Users\\orest\\AppData\\Local\\Programs\\Python\\Python311\\Lib\\site-packages\\astroquery\\simbad\\core.py:135: UserWarning: Warning: The script line number 3 raised an error (recorded in the `errors` attribute of the result table): Identifier not found in the database : VPHAS J171455.1-393311.7\n",
      "  warnings.warn(\"Warning: The script line number %i raised \"\n",
      "C:\\Users\\orest\\AppData\\Local\\Programs\\Python\\Python311\\Lib\\site-packages\\astroquery\\simbad\\core.py:135: UserWarning: Warning: The script line number 3 raised an error (recorded in the `errors` attribute of the result table): Identifier not found in the database : VPHAS J171527.4-390209.2\n",
      "  warnings.warn(\"Warning: The script line number %i raised \"\n",
      "C:\\Users\\orest\\AppData\\Local\\Programs\\Python\\Python311\\Lib\\site-packages\\astroquery\\simbad\\core.py:135: UserWarning: Warning: The script line number 3 raised an error (recorded in the `errors` attribute of the result table): Identifier not found in the database : VPHAS J171513.5-364633.2\n",
      "  warnings.warn(\"Warning: The script line number %i raised \"\n",
      "C:\\Users\\orest\\AppData\\Local\\Programs\\Python\\Python311\\Lib\\site-packages\\astroquery\\simbad\\core.py:135: UserWarning: Warning: The script line number 3 raised an error (recorded in the `errors` attribute of the result table): Identifier not found in the database : VPHAS J171445.0-361838.4\n",
      "  warnings.warn(\"Warning: The script line number %i raised \"\n",
      "C:\\Users\\orest\\AppData\\Local\\Programs\\Python\\Python311\\Lib\\site-packages\\astroquery\\simbad\\core.py:135: UserWarning: Warning: The script line number 3 raised an error (recorded in the `errors` attribute of the result table): Identifier not found in the database : VPHAS J120916.3-633202.7\n",
      "  warnings.warn(\"Warning: The script line number %i raised \"\n"
     ]
    }
   ],
   "source": [
    "result = []\n",
    "\n",
    "for stars_name in stars_names:\n",
    "    result_table = simbad_handler.query_object(stars_name).to_pandas()\n",
    "    result_table = result_table[['MAIN_ID', 'OTYPE', 'SP_TYPE', 'ID_Gaia', 'IDS', 'OTYPES']]\n",
    "    result_table['Gaia DR3'] = result_table.apply(lambda row: find_gaia_dr3(row['IDS']), axis=1)\n",
    "    result_table.insert(0, 'FIND_NAME', stars_name)\n",
    "    result.append(result_table)\n",
    "\n",
    "df_result = pd.concat(result, ignore_index=True)"
   ],
   "metadata": {
    "collapsed": false
   }
  },
  {
   "cell_type": "code",
   "execution_count": 7,
   "outputs": [
    {
     "data": {
      "text/plain": "                      FIND_NAME      MAIN_ID         OTYPE  SP_TYPE  \\\n0                     Hen 3-653  WRAY 15-807    Symbiotic*  M6.5+Be   \n1                     Hen 4-134  V* V957 Cen    Symbiotic*     S3,3   \n2                     Hen 4-137  CD-50  7894    Symbiotic*        S   \n3                      V748 Cen  V* V748 Cen        EclBin       Ae   \n4                   WRAY 16-294  WRAY 16-294  LongPeriodV*       K5   \n..                          ...          ...           ...      ...   \n120  VPHASDR2J171455.1-393311.7                    Unknown            \n121  VPHASDR2J171527.4-390209.2                    Unknown            \n122  VPHASDR2J171513.5-364633.2                    Unknown            \n123  VPHASDR2J171445.0-361838.4                    Unknown            \n124  VPHASDR2J120916.3-633202.7                    Unknown            \n\n                          ID_Gaia  \\\n0    Gaia DR2 5336057477319258496   \n1    Gaia DR2 6181550823438486016   \n2    Gaia DR2 6069918816627209856   \n3    Gaia DR3 6204217186929931520   \n4    Gaia DR2 4061952680197028224   \n..                            ...   \n120                                 \n121                                 \n122                                 \n123                                 \n124                                 \n\n                                                   IDS  \\\n0    UCAC4 151-077514|ASAS J112532-5956.6|DENIS J11...   \n1    CD-30 10427|CSS  815|GSC 07263-01420|Hen 4-134...   \n2    CD-50  7894|CF 11172|CPD-50  6171|CSS  824|GSC...   \n3    CD-32 10517|ALS 18924|CRTS J145936.6-332503|CS...   \n4    2MASS J17391381-2538050|DENIS J173913.8-253805...   \n..                                                 ...   \n120                                                      \n121                                                      \n122                                                      \n123                                                      \n124                                                      \n\n                             OTYPES             Gaia DR3  \n0    Sy*|LP*|NIR|V*|PN|MIR|Em*|*|IR  5336057477319258496  \n1     S*|LP*|Sy*|LP*|NIR|V*|S*|*|IR  6181550823438486016  \n2               Sy*|NIR|S*|SB*|*|IR  6069918816627209856  \n3              EB*|Ro*|NIR|V*|Em*|*  6204217186929931520  \n4      LP*|PN|NIR|Em*|*|C*?|ISM|LP?  4061952680197028224  \n..                              ...                  ...  \n120                                                 None  \n121                                                 None  \n122                                                 None  \n123                                                 None  \n124                                                 None  \n\n[125 rows x 8 columns]",
      "text/html": "<div>\n<style scoped>\n    .dataframe tbody tr th:only-of-type {\n        vertical-align: middle;\n    }\n\n    .dataframe tbody tr th {\n        vertical-align: top;\n    }\n\n    .dataframe thead th {\n        text-align: right;\n    }\n</style>\n<table border=\"1\" class=\"dataframe\">\n  <thead>\n    <tr style=\"text-align: right;\">\n      <th></th>\n      <th>FIND_NAME</th>\n      <th>MAIN_ID</th>\n      <th>OTYPE</th>\n      <th>SP_TYPE</th>\n      <th>ID_Gaia</th>\n      <th>IDS</th>\n      <th>OTYPES</th>\n      <th>Gaia DR3</th>\n    </tr>\n  </thead>\n  <tbody>\n    <tr>\n      <th>0</th>\n      <td>Hen 3-653</td>\n      <td>WRAY 15-807</td>\n      <td>Symbiotic*</td>\n      <td>M6.5+Be</td>\n      <td>Gaia DR2 5336057477319258496</td>\n      <td>UCAC4 151-077514|ASAS J112532-5956.6|DENIS J11...</td>\n      <td>Sy*|LP*|NIR|V*|PN|MIR|Em*|*|IR</td>\n      <td>5336057477319258496</td>\n    </tr>\n    <tr>\n      <th>1</th>\n      <td>Hen 4-134</td>\n      <td>V* V957 Cen</td>\n      <td>Symbiotic*</td>\n      <td>S3,3</td>\n      <td>Gaia DR2 6181550823438486016</td>\n      <td>CD-30 10427|CSS  815|GSC 07263-01420|Hen 4-134...</td>\n      <td>S*|LP*|Sy*|LP*|NIR|V*|S*|*|IR</td>\n      <td>6181550823438486016</td>\n    </tr>\n    <tr>\n      <th>2</th>\n      <td>Hen 4-137</td>\n      <td>CD-50  7894</td>\n      <td>Symbiotic*</td>\n      <td>S</td>\n      <td>Gaia DR2 6069918816627209856</td>\n      <td>CD-50  7894|CF 11172|CPD-50  6171|CSS  824|GSC...</td>\n      <td>Sy*|NIR|S*|SB*|*|IR</td>\n      <td>6069918816627209856</td>\n    </tr>\n    <tr>\n      <th>3</th>\n      <td>V748 Cen</td>\n      <td>V* V748 Cen</td>\n      <td>EclBin</td>\n      <td>Ae</td>\n      <td>Gaia DR3 6204217186929931520</td>\n      <td>CD-32 10517|ALS 18924|CRTS J145936.6-332503|CS...</td>\n      <td>EB*|Ro*|NIR|V*|Em*|*</td>\n      <td>6204217186929931520</td>\n    </tr>\n    <tr>\n      <th>4</th>\n      <td>WRAY 16-294</td>\n      <td>WRAY 16-294</td>\n      <td>LongPeriodV*</td>\n      <td>K5</td>\n      <td>Gaia DR2 4061952680197028224</td>\n      <td>2MASS J17391381-2538050|DENIS J173913.8-253805...</td>\n      <td>LP*|PN|NIR|Em*|*|C*?|ISM|LP?</td>\n      <td>4061952680197028224</td>\n    </tr>\n    <tr>\n      <th>...</th>\n      <td>...</td>\n      <td>...</td>\n      <td>...</td>\n      <td>...</td>\n      <td>...</td>\n      <td>...</td>\n      <td>...</td>\n      <td>...</td>\n    </tr>\n    <tr>\n      <th>120</th>\n      <td>VPHASDR2J171455.1-393311.7</td>\n      <td></td>\n      <td>Unknown</td>\n      <td></td>\n      <td></td>\n      <td></td>\n      <td></td>\n      <td>None</td>\n    </tr>\n    <tr>\n      <th>121</th>\n      <td>VPHASDR2J171527.4-390209.2</td>\n      <td></td>\n      <td>Unknown</td>\n      <td></td>\n      <td></td>\n      <td></td>\n      <td></td>\n      <td>None</td>\n    </tr>\n    <tr>\n      <th>122</th>\n      <td>VPHASDR2J171513.5-364633.2</td>\n      <td></td>\n      <td>Unknown</td>\n      <td></td>\n      <td></td>\n      <td></td>\n      <td></td>\n      <td>None</td>\n    </tr>\n    <tr>\n      <th>123</th>\n      <td>VPHASDR2J171445.0-361838.4</td>\n      <td></td>\n      <td>Unknown</td>\n      <td></td>\n      <td></td>\n      <td></td>\n      <td></td>\n      <td>None</td>\n    </tr>\n    <tr>\n      <th>124</th>\n      <td>VPHASDR2J120916.3-633202.7</td>\n      <td></td>\n      <td>Unknown</td>\n      <td></td>\n      <td></td>\n      <td></td>\n      <td></td>\n      <td>None</td>\n    </tr>\n  </tbody>\n</table>\n<p>125 rows × 8 columns</p>\n</div>"
     },
     "execution_count": 7,
     "metadata": {},
     "output_type": "execute_result"
    }
   ],
   "source": [
    "out_name = 'suspected_SY_ALL.csv'\n",
    "out_dir = './symbad'\n",
    "if not os.path.exists(out_dir):\n",
    "    os.mkdir(out_dir)\n",
    "\n",
    "fullname = os.path.join(out_dir, out_name)\n",
    "df_result.to_csv(fullname, header=True, index=False)"
   ],
   "metadata": {
    "collapsed": false
   }
  },
  {
   "cell_type": "markdown",
   "source": [
    "# Remove trained SY"
   ],
   "metadata": {
    "collapsed": false
   }
  },
  {
   "cell_type": "code",
   "execution_count": 8,
   "outputs": [
    {
     "data": {
      "text/plain": "            MAIN_ID       OTYPE SP_TYPE                       ID_Gaia  \\\n0         V* SY Mus  Symbiotic*      M4  Gaia DR3 5237239075896985728   \n1       WRAY 16-304  Symbiotic*      M3  Gaia DR2 5961300498162820352   \n2  UCAC4 122-038973  Symbiotic*      Be  Gaia DR3 5240016442258663936   \n3     LHA 115-N  60  Symbiotic*    C3,3  Gaia DR2 4685585706769513344   \n4       V* V840 Cen  Symbiotic*  K5IIIe  Gaia DR3 6063900742825792000   \n\n                                                 IDS  \\\n0  HD 100336|AN  118.1914|CPD-65 11298|CSI-65-112...   \n1  UCAC2  15360443|ESO 334-8|Hen 2-275|2MASS J174...   \n2  UCAC4 122-038973|2MASS J11082717-6547183|SS73 ...   \n3  SV* HV  1707|Cl* NGC  346  KWBBE      85|DENIS...   \n4  GSC 08666-01230|DENIS J132049.4-555014|2MASS J...   \n\n                                       OTYPES             Gaia DR3  \n0  SB*|LP*|V*|Em*|EmO|NIR|SB*|Sy*|*|IR|LP?|UV  5237239075896985728  \n1                      LP*|MIR|NIR|Sy*|PN|*|G  5961300498162820352  \n2                       NIR|MIR|Sy*|Em*|*|LP?  5240016442258663936  \n3             LP*|MIR|C*|NIR|V*|EmO|Em*|Sy*|*  4685585706769513344  \n4                            Sy*|NIR|Sy*|V*|*  6063900742825792000  ",
      "text/html": "<div>\n<style scoped>\n    .dataframe tbody tr th:only-of-type {\n        vertical-align: middle;\n    }\n\n    .dataframe tbody tr th {\n        vertical-align: top;\n    }\n\n    .dataframe thead th {\n        text-align: right;\n    }\n</style>\n<table border=\"1\" class=\"dataframe\">\n  <thead>\n    <tr style=\"text-align: right;\">\n      <th></th>\n      <th>MAIN_ID</th>\n      <th>OTYPE</th>\n      <th>SP_TYPE</th>\n      <th>ID_Gaia</th>\n      <th>IDS</th>\n      <th>OTYPES</th>\n      <th>Gaia DR3</th>\n    </tr>\n  </thead>\n  <tbody>\n    <tr>\n      <th>0</th>\n      <td>V* SY Mus</td>\n      <td>Symbiotic*</td>\n      <td>M4</td>\n      <td>Gaia DR3 5237239075896985728</td>\n      <td>HD 100336|AN  118.1914|CPD-65 11298|CSI-65-112...</td>\n      <td>SB*|LP*|V*|Em*|EmO|NIR|SB*|Sy*|*|IR|LP?|UV</td>\n      <td>5237239075896985728</td>\n    </tr>\n    <tr>\n      <th>1</th>\n      <td>WRAY 16-304</td>\n      <td>Symbiotic*</td>\n      <td>M3</td>\n      <td>Gaia DR2 5961300498162820352</td>\n      <td>UCAC2  15360443|ESO 334-8|Hen 2-275|2MASS J174...</td>\n      <td>LP*|MIR|NIR|Sy*|PN|*|G</td>\n      <td>5961300498162820352</td>\n    </tr>\n    <tr>\n      <th>2</th>\n      <td>UCAC4 122-038973</td>\n      <td>Symbiotic*</td>\n      <td>Be</td>\n      <td>Gaia DR3 5240016442258663936</td>\n      <td>UCAC4 122-038973|2MASS J11082717-6547183|SS73 ...</td>\n      <td>NIR|MIR|Sy*|Em*|*|LP?</td>\n      <td>5240016442258663936</td>\n    </tr>\n    <tr>\n      <th>3</th>\n      <td>LHA 115-N  60</td>\n      <td>Symbiotic*</td>\n      <td>C3,3</td>\n      <td>Gaia DR2 4685585706769513344</td>\n      <td>SV* HV  1707|Cl* NGC  346  KWBBE      85|DENIS...</td>\n      <td>LP*|MIR|C*|NIR|V*|EmO|Em*|Sy*|*</td>\n      <td>4685585706769513344</td>\n    </tr>\n    <tr>\n      <th>4</th>\n      <td>V* V840 Cen</td>\n      <td>Symbiotic*</td>\n      <td>K5IIIe</td>\n      <td>Gaia DR3 6063900742825792000</td>\n      <td>GSC 08666-01230|DENIS J132049.4-555014|2MASS J...</td>\n      <td>Sy*|NIR|Sy*|V*|*</td>\n      <td>6063900742825792000</td>\n    </tr>\n  </tbody>\n</table>\n</div>"
     },
     "execution_count": 8,
     "metadata": {},
     "output_type": "execute_result"
    }
   ],
   "source": [
    "df2 = pd.read_csv('../symbad/SY.csv')\n",
    "df2.head(5)"
   ],
   "metadata": {
    "collapsed": false
   }
  },
  {
   "cell_type": "code",
   "execution_count": 9,
   "outputs": [
    {
     "data": {
      "text/plain": "                      FIND_NAME      MAIN_ID         OTYPE SP_TYPE  \\\n3                      V748 Cen  V* V748 Cen        EclBin      Ae   \n4                   WRAY 16-294  WRAY 16-294  LongPeriodV*      K5   \n5                  001.97+02.41                    Unknown           \n6                  001.33+01.07                    Unknown           \n7                  001.71+01.14                    Unknown           \n..                          ...          ...           ...     ...   \n120  VPHASDR2J171455.1-393311.7                    Unknown           \n121  VPHASDR2J171527.4-390209.2                    Unknown           \n122  VPHASDR2J171513.5-364633.2                    Unknown           \n123  VPHASDR2J171445.0-361838.4                    Unknown           \n124  VPHASDR2J120916.3-633202.7                    Unknown           \n\n                          ID_Gaia  \\\n3    Gaia DR3 6204217186929931520   \n4    Gaia DR2 4061952680197028224   \n5                                   \n6                                   \n7                                   \n..                            ...   \n120                                 \n121                                 \n122                                 \n123                                 \n124                                 \n\n                                                   IDS  \\\n3    CD-32 10517|ALS 18924|CRTS J145936.6-332503|CS...   \n4    2MASS J17391381-2538050|DENIS J173913.8-253805...   \n5                                                        \n6                                                        \n7                                                        \n..                                                 ...   \n120                                                      \n121                                                      \n122                                                      \n123                                                      \n124                                                      \n\n                           OTYPES             Gaia DR3  \n3            EB*|Ro*|NIR|V*|Em*|*  6204217186929931520  \n4    LP*|PN|NIR|Em*|*|C*?|ISM|LP?  4061952680197028224  \n5                                                 None  \n6                                                 None  \n7                                                 None  \n..                            ...                  ...  \n120                                               None  \n121                                               None  \n122                                               None  \n123                                               None  \n124                                               None  \n\n[113 rows x 8 columns]",
      "text/html": "<div>\n<style scoped>\n    .dataframe tbody tr th:only-of-type {\n        vertical-align: middle;\n    }\n\n    .dataframe tbody tr th {\n        vertical-align: top;\n    }\n\n    .dataframe thead th {\n        text-align: right;\n    }\n</style>\n<table border=\"1\" class=\"dataframe\">\n  <thead>\n    <tr style=\"text-align: right;\">\n      <th></th>\n      <th>FIND_NAME</th>\n      <th>MAIN_ID</th>\n      <th>OTYPE</th>\n      <th>SP_TYPE</th>\n      <th>ID_Gaia</th>\n      <th>IDS</th>\n      <th>OTYPES</th>\n      <th>Gaia DR3</th>\n    </tr>\n  </thead>\n  <tbody>\n    <tr>\n      <th>3</th>\n      <td>V748 Cen</td>\n      <td>V* V748 Cen</td>\n      <td>EclBin</td>\n      <td>Ae</td>\n      <td>Gaia DR3 6204217186929931520</td>\n      <td>CD-32 10517|ALS 18924|CRTS J145936.6-332503|CS...</td>\n      <td>EB*|Ro*|NIR|V*|Em*|*</td>\n      <td>6204217186929931520</td>\n    </tr>\n    <tr>\n      <th>4</th>\n      <td>WRAY 16-294</td>\n      <td>WRAY 16-294</td>\n      <td>LongPeriodV*</td>\n      <td>K5</td>\n      <td>Gaia DR2 4061952680197028224</td>\n      <td>2MASS J17391381-2538050|DENIS J173913.8-253805...</td>\n      <td>LP*|PN|NIR|Em*|*|C*?|ISM|LP?</td>\n      <td>4061952680197028224</td>\n    </tr>\n    <tr>\n      <th>5</th>\n      <td>001.97+02.41</td>\n      <td></td>\n      <td>Unknown</td>\n      <td></td>\n      <td></td>\n      <td></td>\n      <td></td>\n      <td>None</td>\n    </tr>\n    <tr>\n      <th>6</th>\n      <td>001.33+01.07</td>\n      <td></td>\n      <td>Unknown</td>\n      <td></td>\n      <td></td>\n      <td></td>\n      <td></td>\n      <td>None</td>\n    </tr>\n    <tr>\n      <th>7</th>\n      <td>001.71+01.14</td>\n      <td></td>\n      <td>Unknown</td>\n      <td></td>\n      <td></td>\n      <td></td>\n      <td></td>\n      <td>None</td>\n    </tr>\n    <tr>\n      <th>...</th>\n      <td>...</td>\n      <td>...</td>\n      <td>...</td>\n      <td>...</td>\n      <td>...</td>\n      <td>...</td>\n      <td>...</td>\n      <td>...</td>\n    </tr>\n    <tr>\n      <th>120</th>\n      <td>VPHASDR2J171455.1-393311.7</td>\n      <td></td>\n      <td>Unknown</td>\n      <td></td>\n      <td></td>\n      <td></td>\n      <td></td>\n      <td>None</td>\n    </tr>\n    <tr>\n      <th>121</th>\n      <td>VPHASDR2J171527.4-390209.2</td>\n      <td></td>\n      <td>Unknown</td>\n      <td></td>\n      <td></td>\n      <td></td>\n      <td></td>\n      <td>None</td>\n    </tr>\n    <tr>\n      <th>122</th>\n      <td>VPHASDR2J171513.5-364633.2</td>\n      <td></td>\n      <td>Unknown</td>\n      <td></td>\n      <td></td>\n      <td></td>\n      <td></td>\n      <td>None</td>\n    </tr>\n    <tr>\n      <th>123</th>\n      <td>VPHASDR2J171445.0-361838.4</td>\n      <td></td>\n      <td>Unknown</td>\n      <td></td>\n      <td></td>\n      <td></td>\n      <td></td>\n      <td>None</td>\n    </tr>\n    <tr>\n      <th>124</th>\n      <td>VPHASDR2J120916.3-633202.7</td>\n      <td></td>\n      <td>Unknown</td>\n      <td></td>\n      <td></td>\n      <td></td>\n      <td></td>\n      <td>None</td>\n    </tr>\n  </tbody>\n</table>\n<p>113 rows × 8 columns</p>\n</div>"
     },
     "execution_count": 9,
     "metadata": {},
     "output_type": "execute_result"
    }
   ],
   "source": [
    "# Quedarse solo con las filas que no están en el otro DataFrame\n",
    "df_filtered = df_result.merge(df2, left_on=['MAIN_ID'], right_on=['MAIN_ID'], how='left', indicator=True)\n",
    "df_filtered = df_filtered[df_filtered['_merge'] == 'left_only']\n",
    "df_filtered = df_filtered.iloc[:, :8]\n",
    "df_filtered.columns = df_result.columns\n",
    "\n",
    "# Imprimir el resultado\n",
    "df_filtered"
   ],
   "metadata": {
    "collapsed": false
   }
  },
  {
   "cell_type": "markdown",
   "source": [
    "# Remove trained NP"
   ],
   "metadata": {
    "collapsed": false
   }
  },
  {
   "cell_type": "code",
   "execution_count": 10,
   "outputs": [
    {
     "data": {
      "text/plain": "       MAIN_ID         OTYPE SP_TYPE                      ID_Gaia  \\\n0    PN M  1-1  PlanetaryNeb     NaN  Gaia DR3 405830570741274752   \n1   PN Vy  1-1  PlanetaryNeb    [WC]  Gaia DR2 419326659360627968   \n2        M  76  PlanetaryNeb     DOZ  Gaia DR2 406328439057955968   \n3  PN HDW    3  PlanetaryNeb   DAO.6  Gaia DR2 241918950690107264   \n4    SH  2-188  PlanetaryNeb   DAO.6  Gaia DR2 509206447837376128   \n\n                                                 IDS  \\\n0  PN G130.3-11.7|GSC2 N3302101150|GSC 03286-0032...   \n1  PN VV    2|GSC2 N311023078|IRAS 00160+5335|2MA...   \n2  M  76|BWE 0139+5119|CSI+51-01391|GB6 B0139+511...   \n3  PN G149.4-09.2|GSC2 N333121333134|PK 149-09  1...   \n4  LBN 128.04-04.12|GSC2 N311302026110|LBN   633|...   \n\n                     OTYPES            Gaia DR3  \n0      PN|MIR|NIR|PN|*|G|IR  405830570741274752  \n1              PN|PN|*|G|IR  419326659360627968  \n2        PN|PN|WD*|*|IR|Rad  406328443354164480  \n3       PN|NIR|WD*|PN|*|WD?  241918950690107264  \n4  WD*|PN|HII|*|ISM|Rad|WD?  509206447837376128  ",
      "text/html": "<div>\n<style scoped>\n    .dataframe tbody tr th:only-of-type {\n        vertical-align: middle;\n    }\n\n    .dataframe tbody tr th {\n        vertical-align: top;\n    }\n\n    .dataframe thead th {\n        text-align: right;\n    }\n</style>\n<table border=\"1\" class=\"dataframe\">\n  <thead>\n    <tr style=\"text-align: right;\">\n      <th></th>\n      <th>MAIN_ID</th>\n      <th>OTYPE</th>\n      <th>SP_TYPE</th>\n      <th>ID_Gaia</th>\n      <th>IDS</th>\n      <th>OTYPES</th>\n      <th>Gaia DR3</th>\n    </tr>\n  </thead>\n  <tbody>\n    <tr>\n      <th>0</th>\n      <td>PN M  1-1</td>\n      <td>PlanetaryNeb</td>\n      <td>NaN</td>\n      <td>Gaia DR3 405830570741274752</td>\n      <td>PN G130.3-11.7|GSC2 N3302101150|GSC 03286-0032...</td>\n      <td>PN|MIR|NIR|PN|*|G|IR</td>\n      <td>405830570741274752</td>\n    </tr>\n    <tr>\n      <th>1</th>\n      <td>PN Vy  1-1</td>\n      <td>PlanetaryNeb</td>\n      <td>[WC]</td>\n      <td>Gaia DR2 419326659360627968</td>\n      <td>PN VV    2|GSC2 N311023078|IRAS 00160+5335|2MA...</td>\n      <td>PN|PN|*|G|IR</td>\n      <td>419326659360627968</td>\n    </tr>\n    <tr>\n      <th>2</th>\n      <td>M  76</td>\n      <td>PlanetaryNeb</td>\n      <td>DOZ</td>\n      <td>Gaia DR2 406328439057955968</td>\n      <td>M  76|BWE 0139+5119|CSI+51-01391|GB6 B0139+511...</td>\n      <td>PN|PN|WD*|*|IR|Rad</td>\n      <td>406328443354164480</td>\n    </tr>\n    <tr>\n      <th>3</th>\n      <td>PN HDW    3</td>\n      <td>PlanetaryNeb</td>\n      <td>DAO.6</td>\n      <td>Gaia DR2 241918950690107264</td>\n      <td>PN G149.4-09.2|GSC2 N333121333134|PK 149-09  1...</td>\n      <td>PN|NIR|WD*|PN|*|WD?</td>\n      <td>241918950690107264</td>\n    </tr>\n    <tr>\n      <th>4</th>\n      <td>SH  2-188</td>\n      <td>PlanetaryNeb</td>\n      <td>DAO.6</td>\n      <td>Gaia DR2 509206447837376128</td>\n      <td>LBN 128.04-04.12|GSC2 N311302026110|LBN   633|...</td>\n      <td>WD*|PN|HII|*|ISM|Rad|WD?</td>\n      <td>509206447837376128</td>\n    </tr>\n  </tbody>\n</table>\n</div>"
     },
     "execution_count": 10,
     "metadata": {},
     "output_type": "execute_result"
    }
   ],
   "source": [
    "df2 = pd.read_csv('../symbad/NP.csv')\n",
    "df2.head(5)"
   ],
   "metadata": {
    "collapsed": false
   }
  },
  {
   "cell_type": "code",
   "execution_count": 11,
   "outputs": [
    {
     "data": {
      "text/plain": "                      FIND_NAME      MAIN_ID         OTYPE SP_TYPE  \\\n0                      V748 Cen  V* V748 Cen        EclBin      Ae   \n1                   WRAY 16-294  WRAY 16-294  LongPeriodV*      K5   \n2                  001.97+02.41                    Unknown           \n3                  001.33+01.07                    Unknown           \n4                  001.71+01.14                    Unknown           \n..                          ...          ...           ...     ...   \n108  VPHASDR2J171455.1-393311.7                    Unknown           \n109  VPHASDR2J171527.4-390209.2                    Unknown           \n110  VPHASDR2J171513.5-364633.2                    Unknown           \n111  VPHASDR2J171445.0-361838.4                    Unknown           \n112  VPHASDR2J120916.3-633202.7                    Unknown           \n\n                          ID_Gaia  \\\n0    Gaia DR3 6204217186929931520   \n1    Gaia DR2 4061952680197028224   \n2                                   \n3                                   \n4                                   \n..                            ...   \n108                                 \n109                                 \n110                                 \n111                                 \n112                                 \n\n                                                   IDS  \\\n0    CD-32 10517|ALS 18924|CRTS J145936.6-332503|CS...   \n1    2MASS J17391381-2538050|DENIS J173913.8-253805...   \n2                                                        \n3                                                        \n4                                                        \n..                                                 ...   \n108                                                      \n109                                                      \n110                                                      \n111                                                      \n112                                                      \n\n                           OTYPES             Gaia DR3  \n0            EB*|Ro*|NIR|V*|Em*|*  6204217186929931520  \n1    LP*|PN|NIR|Em*|*|C*?|ISM|LP?  4061952680197028224  \n2                                                 None  \n3                                                 None  \n4                                                 None  \n..                            ...                  ...  \n108                                               None  \n109                                               None  \n110                                               None  \n111                                               None  \n112                                               None  \n\n[111 rows x 8 columns]",
      "text/html": "<div>\n<style scoped>\n    .dataframe tbody tr th:only-of-type {\n        vertical-align: middle;\n    }\n\n    .dataframe tbody tr th {\n        vertical-align: top;\n    }\n\n    .dataframe thead th {\n        text-align: right;\n    }\n</style>\n<table border=\"1\" class=\"dataframe\">\n  <thead>\n    <tr style=\"text-align: right;\">\n      <th></th>\n      <th>FIND_NAME</th>\n      <th>MAIN_ID</th>\n      <th>OTYPE</th>\n      <th>SP_TYPE</th>\n      <th>ID_Gaia</th>\n      <th>IDS</th>\n      <th>OTYPES</th>\n      <th>Gaia DR3</th>\n    </tr>\n  </thead>\n  <tbody>\n    <tr>\n      <th>0</th>\n      <td>V748 Cen</td>\n      <td>V* V748 Cen</td>\n      <td>EclBin</td>\n      <td>Ae</td>\n      <td>Gaia DR3 6204217186929931520</td>\n      <td>CD-32 10517|ALS 18924|CRTS J145936.6-332503|CS...</td>\n      <td>EB*|Ro*|NIR|V*|Em*|*</td>\n      <td>6204217186929931520</td>\n    </tr>\n    <tr>\n      <th>1</th>\n      <td>WRAY 16-294</td>\n      <td>WRAY 16-294</td>\n      <td>LongPeriodV*</td>\n      <td>K5</td>\n      <td>Gaia DR2 4061952680197028224</td>\n      <td>2MASS J17391381-2538050|DENIS J173913.8-253805...</td>\n      <td>LP*|PN|NIR|Em*|*|C*?|ISM|LP?</td>\n      <td>4061952680197028224</td>\n    </tr>\n    <tr>\n      <th>2</th>\n      <td>001.97+02.41</td>\n      <td></td>\n      <td>Unknown</td>\n      <td></td>\n      <td></td>\n      <td></td>\n      <td></td>\n      <td>None</td>\n    </tr>\n    <tr>\n      <th>3</th>\n      <td>001.33+01.07</td>\n      <td></td>\n      <td>Unknown</td>\n      <td></td>\n      <td></td>\n      <td></td>\n      <td></td>\n      <td>None</td>\n    </tr>\n    <tr>\n      <th>4</th>\n      <td>001.71+01.14</td>\n      <td></td>\n      <td>Unknown</td>\n      <td></td>\n      <td></td>\n      <td></td>\n      <td></td>\n      <td>None</td>\n    </tr>\n    <tr>\n      <th>...</th>\n      <td>...</td>\n      <td>...</td>\n      <td>...</td>\n      <td>...</td>\n      <td>...</td>\n      <td>...</td>\n      <td>...</td>\n      <td>...</td>\n    </tr>\n    <tr>\n      <th>108</th>\n      <td>VPHASDR2J171455.1-393311.7</td>\n      <td></td>\n      <td>Unknown</td>\n      <td></td>\n      <td></td>\n      <td></td>\n      <td></td>\n      <td>None</td>\n    </tr>\n    <tr>\n      <th>109</th>\n      <td>VPHASDR2J171527.4-390209.2</td>\n      <td></td>\n      <td>Unknown</td>\n      <td></td>\n      <td></td>\n      <td></td>\n      <td></td>\n      <td>None</td>\n    </tr>\n    <tr>\n      <th>110</th>\n      <td>VPHASDR2J171513.5-364633.2</td>\n      <td></td>\n      <td>Unknown</td>\n      <td></td>\n      <td></td>\n      <td></td>\n      <td></td>\n      <td>None</td>\n    </tr>\n    <tr>\n      <th>111</th>\n      <td>VPHASDR2J171445.0-361838.4</td>\n      <td></td>\n      <td>Unknown</td>\n      <td></td>\n      <td></td>\n      <td></td>\n      <td></td>\n      <td>None</td>\n    </tr>\n    <tr>\n      <th>112</th>\n      <td>VPHASDR2J120916.3-633202.7</td>\n      <td></td>\n      <td>Unknown</td>\n      <td></td>\n      <td></td>\n      <td></td>\n      <td></td>\n      <td>None</td>\n    </tr>\n  </tbody>\n</table>\n<p>111 rows × 8 columns</p>\n</div>"
     },
     "execution_count": 11,
     "metadata": {},
     "output_type": "execute_result"
    }
   ],
   "source": [
    "# Quedarse solo con las filas que no están en el otro DataFrame\n",
    "df_filtered = df_filtered.merge(df2, left_on=['MAIN_ID'], right_on=['MAIN_ID'], how='left', indicator=True)\n",
    "df_filtered = df_filtered[df_filtered['_merge'] == 'left_only']\n",
    "df_filtered = df_filtered.iloc[:, :8]\n",
    "df_filtered.columns = df_result.columns\n",
    "\n",
    "# Imprimir el resultado\n",
    "df_filtered"
   ],
   "metadata": {
    "collapsed": false
   }
  },
  {
   "cell_type": "markdown",
   "source": [
    "# Remove trained RG"
   ],
   "metadata": {
    "collapsed": false
   }
  },
  {
   "cell_type": "code",
   "execution_count": 12,
   "outputs": [
    {
     "data": {
      "text/plain": "                   MAIN_ID OTYPE SP_TYPE                      ID_Gaia  \\\n0  2MASS J00373747+4938540  RGB*     NaN  Gaia DR2 391445694478549888   \n1              BD+50   106  RGB*      K2  Gaia DR2 415592206774201088   \n2                HD 232231  RGB*     NaN  Gaia DR2 415566471330378880   \n3  2MASS J00320053+5054594  RGB*     NaN  Gaia DR2 415760191535983744   \n4  2MASS J00300458+5111384  RGB*     NaN  Gaia DR2 415822210863310336   \n\n                                                 IDS     OTYPES  \\\n0  TYC 3257-1046-1|AP J00373747+4938540|GSC 03257...  RG*|NIR|*   \n1  BD+50   106|AG+50   53|AP J00355436+5105191|GS...  RG*|NIR|*   \n2  HD 232231|AG+50   56|AP J00370160+5041350|BD+4...  RG*|NIR|*   \n3  TYC 3260-1281-1|AP J00320053+5054594|GSC 03260...  RG*|NIR|*   \n4  TYC 3260-1485-1|AP J00300458+5111384|GSC 03260...  RG*|NIR|*   \n\n             Gaia DR3  \n0  391445694478549888  \n1  415592206774201088  \n2  415566471330378880  \n3  415760191535983744  \n4  415822210863310336  ",
      "text/html": "<div>\n<style scoped>\n    .dataframe tbody tr th:only-of-type {\n        vertical-align: middle;\n    }\n\n    .dataframe tbody tr th {\n        vertical-align: top;\n    }\n\n    .dataframe thead th {\n        text-align: right;\n    }\n</style>\n<table border=\"1\" class=\"dataframe\">\n  <thead>\n    <tr style=\"text-align: right;\">\n      <th></th>\n      <th>MAIN_ID</th>\n      <th>OTYPE</th>\n      <th>SP_TYPE</th>\n      <th>ID_Gaia</th>\n      <th>IDS</th>\n      <th>OTYPES</th>\n      <th>Gaia DR3</th>\n    </tr>\n  </thead>\n  <tbody>\n    <tr>\n      <th>0</th>\n      <td>2MASS J00373747+4938540</td>\n      <td>RGB*</td>\n      <td>NaN</td>\n      <td>Gaia DR2 391445694478549888</td>\n      <td>TYC 3257-1046-1|AP J00373747+4938540|GSC 03257...</td>\n      <td>RG*|NIR|*</td>\n      <td>391445694478549888</td>\n    </tr>\n    <tr>\n      <th>1</th>\n      <td>BD+50   106</td>\n      <td>RGB*</td>\n      <td>K2</td>\n      <td>Gaia DR2 415592206774201088</td>\n      <td>BD+50   106|AG+50   53|AP J00355436+5105191|GS...</td>\n      <td>RG*|NIR|*</td>\n      <td>415592206774201088</td>\n    </tr>\n    <tr>\n      <th>2</th>\n      <td>HD 232231</td>\n      <td>RGB*</td>\n      <td>NaN</td>\n      <td>Gaia DR2 415566471330378880</td>\n      <td>HD 232231|AG+50   56|AP J00370160+5041350|BD+4...</td>\n      <td>RG*|NIR|*</td>\n      <td>415566471330378880</td>\n    </tr>\n    <tr>\n      <th>3</th>\n      <td>2MASS J00320053+5054594</td>\n      <td>RGB*</td>\n      <td>NaN</td>\n      <td>Gaia DR2 415760191535983744</td>\n      <td>TYC 3260-1281-1|AP J00320053+5054594|GSC 03260...</td>\n      <td>RG*|NIR|*</td>\n      <td>415760191535983744</td>\n    </tr>\n    <tr>\n      <th>4</th>\n      <td>2MASS J00300458+5111384</td>\n      <td>RGB*</td>\n      <td>NaN</td>\n      <td>Gaia DR2 415822210863310336</td>\n      <td>TYC 3260-1485-1|AP J00300458+5111384|GSC 03260...</td>\n      <td>RG*|NIR|*</td>\n      <td>415822210863310336</td>\n    </tr>\n  </tbody>\n</table>\n</div>"
     },
     "execution_count": 12,
     "metadata": {},
     "output_type": "execute_result"
    }
   ],
   "source": [
    "df2 = pd.read_csv('../symbad/RG.csv')\n",
    "df2.head(5)"
   ],
   "metadata": {
    "collapsed": false
   }
  },
  {
   "cell_type": "code",
   "execution_count": 13,
   "outputs": [
    {
     "data": {
      "text/plain": "                      FIND_NAME      MAIN_ID         OTYPE SP_TYPE  \\\n0                      V748 Cen  V* V748 Cen        EclBin      Ae   \n1                   WRAY 16-294  WRAY 16-294  LongPeriodV*      K5   \n2                  001.97+02.41                    Unknown           \n3                  001.33+01.07                    Unknown           \n4                  001.71+01.14                    Unknown           \n..                          ...          ...           ...     ...   \n106  VPHASDR2J171455.1-393311.7                    Unknown           \n107  VPHASDR2J171527.4-390209.2                    Unknown           \n108  VPHASDR2J171513.5-364633.2                    Unknown           \n109  VPHASDR2J171445.0-361838.4                    Unknown           \n110  VPHASDR2J120916.3-633202.7                    Unknown           \n\n                          ID_Gaia  \\\n0    Gaia DR3 6204217186929931520   \n1    Gaia DR2 4061952680197028224   \n2                                   \n3                                   \n4                                   \n..                            ...   \n106                                 \n107                                 \n108                                 \n109                                 \n110                                 \n\n                                                   IDS  \\\n0    CD-32 10517|ALS 18924|CRTS J145936.6-332503|CS...   \n1    2MASS J17391381-2538050|DENIS J173913.8-253805...   \n2                                                        \n3                                                        \n4                                                        \n..                                                 ...   \n106                                                      \n107                                                      \n108                                                      \n109                                                      \n110                                                      \n\n                           OTYPES             Gaia DR3  \n0            EB*|Ro*|NIR|V*|Em*|*  6204217186929931520  \n1    LP*|PN|NIR|Em*|*|C*?|ISM|LP?  4061952680197028224  \n2                                                 None  \n3                                                 None  \n4                                                 None  \n..                            ...                  ...  \n106                                               None  \n107                                               None  \n108                                               None  \n109                                               None  \n110                                               None  \n\n[111 rows x 8 columns]",
      "text/html": "<div>\n<style scoped>\n    .dataframe tbody tr th:only-of-type {\n        vertical-align: middle;\n    }\n\n    .dataframe tbody tr th {\n        vertical-align: top;\n    }\n\n    .dataframe thead th {\n        text-align: right;\n    }\n</style>\n<table border=\"1\" class=\"dataframe\">\n  <thead>\n    <tr style=\"text-align: right;\">\n      <th></th>\n      <th>FIND_NAME</th>\n      <th>MAIN_ID</th>\n      <th>OTYPE</th>\n      <th>SP_TYPE</th>\n      <th>ID_Gaia</th>\n      <th>IDS</th>\n      <th>OTYPES</th>\n      <th>Gaia DR3</th>\n    </tr>\n  </thead>\n  <tbody>\n    <tr>\n      <th>0</th>\n      <td>V748 Cen</td>\n      <td>V* V748 Cen</td>\n      <td>EclBin</td>\n      <td>Ae</td>\n      <td>Gaia DR3 6204217186929931520</td>\n      <td>CD-32 10517|ALS 18924|CRTS J145936.6-332503|CS...</td>\n      <td>EB*|Ro*|NIR|V*|Em*|*</td>\n      <td>6204217186929931520</td>\n    </tr>\n    <tr>\n      <th>1</th>\n      <td>WRAY 16-294</td>\n      <td>WRAY 16-294</td>\n      <td>LongPeriodV*</td>\n      <td>K5</td>\n      <td>Gaia DR2 4061952680197028224</td>\n      <td>2MASS J17391381-2538050|DENIS J173913.8-253805...</td>\n      <td>LP*|PN|NIR|Em*|*|C*?|ISM|LP?</td>\n      <td>4061952680197028224</td>\n    </tr>\n    <tr>\n      <th>2</th>\n      <td>001.97+02.41</td>\n      <td></td>\n      <td>Unknown</td>\n      <td></td>\n      <td></td>\n      <td></td>\n      <td></td>\n      <td>None</td>\n    </tr>\n    <tr>\n      <th>3</th>\n      <td>001.33+01.07</td>\n      <td></td>\n      <td>Unknown</td>\n      <td></td>\n      <td></td>\n      <td></td>\n      <td></td>\n      <td>None</td>\n    </tr>\n    <tr>\n      <th>4</th>\n      <td>001.71+01.14</td>\n      <td></td>\n      <td>Unknown</td>\n      <td></td>\n      <td></td>\n      <td></td>\n      <td></td>\n      <td>None</td>\n    </tr>\n    <tr>\n      <th>...</th>\n      <td>...</td>\n      <td>...</td>\n      <td>...</td>\n      <td>...</td>\n      <td>...</td>\n      <td>...</td>\n      <td>...</td>\n      <td>...</td>\n    </tr>\n    <tr>\n      <th>106</th>\n      <td>VPHASDR2J171455.1-393311.7</td>\n      <td></td>\n      <td>Unknown</td>\n      <td></td>\n      <td></td>\n      <td></td>\n      <td></td>\n      <td>None</td>\n    </tr>\n    <tr>\n      <th>107</th>\n      <td>VPHASDR2J171527.4-390209.2</td>\n      <td></td>\n      <td>Unknown</td>\n      <td></td>\n      <td></td>\n      <td></td>\n      <td></td>\n      <td>None</td>\n    </tr>\n    <tr>\n      <th>108</th>\n      <td>VPHASDR2J171513.5-364633.2</td>\n      <td></td>\n      <td>Unknown</td>\n      <td></td>\n      <td></td>\n      <td></td>\n      <td></td>\n      <td>None</td>\n    </tr>\n    <tr>\n      <th>109</th>\n      <td>VPHASDR2J171445.0-361838.4</td>\n      <td></td>\n      <td>Unknown</td>\n      <td></td>\n      <td></td>\n      <td></td>\n      <td></td>\n      <td>None</td>\n    </tr>\n    <tr>\n      <th>110</th>\n      <td>VPHASDR2J120916.3-633202.7</td>\n      <td></td>\n      <td>Unknown</td>\n      <td></td>\n      <td></td>\n      <td></td>\n      <td></td>\n      <td>None</td>\n    </tr>\n  </tbody>\n</table>\n<p>111 rows × 8 columns</p>\n</div>"
     },
     "execution_count": 13,
     "metadata": {},
     "output_type": "execute_result"
    }
   ],
   "source": [
    "# Quedarse solo con las filas que no están en el otro DataFrame\n",
    "df_filtered = df_filtered.merge(df2, left_on=['MAIN_ID'], right_on=['MAIN_ID'], how='left', indicator=True)\n",
    "df_filtered = df_filtered[df_filtered['_merge'] == 'left_only']\n",
    "df_filtered = df_filtered.iloc[:, :8]\n",
    "df_filtered.columns = df_result.columns\n",
    "\n",
    "# Imprimir el resultado\n",
    "df_filtered"
   ],
   "metadata": {
    "collapsed": false
   }
  },
  {
   "cell_type": "code",
   "execution_count": 14,
   "outputs": [],
   "source": [
    "out_name = 'suspected_SY_news.csv'\n",
    "out_dir = './symbad'\n",
    "if not os.path.exists(out_dir):\n",
    "    os.mkdir(out_dir)\n",
    "\n",
    "fullname = os.path.join(out_dir, out_name)\n",
    "df_filtered.to_csv(fullname, header=True, index=False)"
   ],
   "metadata": {
    "collapsed": false
   }
  },
  {
   "cell_type": "markdown",
   "source": [
    "# Remove no found stars"
   ],
   "metadata": {
    "collapsed": false
   }
  },
  {
   "cell_type": "code",
   "execution_count": 34,
   "outputs": [],
   "source": [
    "df_filtered = df_filtered[df_filtered['MAIN_ID'].str.len() > 0]\n",
    "\n",
    "out_name = 'suspected_SY_dataset.csv'\n",
    "out_dir = './built_dataset'\n",
    "if not os.path.exists(out_dir):\n",
    "    os.mkdir(out_dir)\n",
    "\n",
    "fullname = os.path.join(out_dir, out_name)\n",
    "df_filtered.to_csv(fullname, header=True, index=False)"
   ],
   "metadata": {
    "collapsed": false
   }
  },
  {
   "cell_type": "code",
   "execution_count": null,
   "outputs": [],
   "source": [],
   "metadata": {
    "collapsed": false
   }
  }
 ],
 "metadata": {
  "kernelspec": {
   "display_name": "Python 3",
   "language": "python",
   "name": "python3"
  },
  "language_info": {
   "codemirror_mode": {
    "name": "ipython",
    "version": 2
   },
   "file_extension": ".py",
   "mimetype": "text/x-python",
   "name": "python",
   "nbconvert_exporter": "python",
   "pygments_lexer": "ipython2",
   "version": "2.7.6"
  }
 },
 "nbformat": 4,
 "nbformat_minor": 0
}
