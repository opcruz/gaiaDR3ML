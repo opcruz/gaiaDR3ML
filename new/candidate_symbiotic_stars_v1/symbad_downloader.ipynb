{
 "cells": [
  {
   "cell_type": "code",
   "execution_count": 11,
   "metadata": {
    "collapsed": true
   },
   "outputs": [],
   "source": [
    "import pandas as pd\n",
    "from astroquery.simbad import Simbad\n",
    "import os"
   ]
  },
  {
   "cell_type": "code",
   "execution_count": 12,
   "outputs": [],
   "source": [
    "data1 = pd.read_csv('./suspected_symbiotic_stars.txt', header=None)\n",
    "stars_names = data1.iloc[:, 0].tolist()"
   ],
   "metadata": {
    "collapsed": false
   }
  },
  {
   "cell_type": "code",
   "execution_count": 13,
   "outputs": [],
   "source": [
    "catalog = \"Gaia DR3\"\n",
    "\n",
    "def find_gaia_dr3(value: str):\n",
    "    if catalog in value:\n",
    "        index = value.index(catalog)\n",
    "        return value[index + len(catalog) + 1:index + len(catalog) + 25].strip().split('|')[0].strip()\n",
    "    else:\n",
    "        return None"
   ],
   "metadata": {
    "collapsed": false
   }
  },
  {
   "cell_type": "code",
   "execution_count": 14,
   "outputs": [
    {
     "data": {
      "text/plain": "'1870094426454523904'"
     },
     "execution_count": 14,
     "metadata": {},
     "output_type": "execute_result"
    }
   ],
   "source": [
    "find_gaia_dr3(\n",
    "    \"BD+36  4320|GSC 02700-03701|2MASS J20551542+3644188|TIC 195262851|TYC 2700-3701-1|Gaia DR2 1870094426454523904|Gaia DR3 1870094426454523904|Gaia DR1 1870094422138445824\")"
   ],
   "metadata": {
    "collapsed": false
   }
  },
  {
   "cell_type": "code",
   "execution_count": 15,
   "outputs": [],
   "source": [
    "simbad_handler = Simbad()\n",
    "simbad_handler.ROW_LIMIT = 0\n",
    "simbad_handler.TIMEOUT = 60 * 60\n",
    "simbad_handler.reset_votable_fields()\n",
    "\n",
    "simbad_handler.add_votable_fields(\n",
    "    \"otype\",\n",
    "    \"typed_id\",\n",
    "    \"id(Gaia)\",\n",
    "    \"ids\",\n",
    "    \"sptype\",\n",
    "    \"otypes\"\n",
    ")"
   ],
   "metadata": {
    "collapsed": false
   }
  },
  {
   "cell_type": "code",
   "execution_count": 16,
   "outputs": [],
   "source": [
    "result = []\n",
    "\n",
    "for stars_name in stars_names:\n",
    "    result_table = simbad_handler.query_object(stars_name).to_pandas()\n",
    "    result_table = result_table[['MAIN_ID', 'OTYPE', 'SP_TYPE', 'ID_Gaia', 'IDS', 'OTYPES']]\n",
    "    result_table['Gaia DR3'] = result_table.apply(lambda row: find_gaia_dr3(row['IDS']), axis=1)\n",
    "    result_table.insert(0, 'FIND_NAME', stars_name)\n",
    "    result.append(result_table)\n",
    "\n",
    "df_result = pd.concat(result, ignore_index=True)"
   ],
   "metadata": {
    "collapsed": false
   }
  },
  {
   "cell_type": "code",
   "execution_count": 17,
   "outputs": [],
   "source": [
    "out_name = 'suspected_SY_ALL.csv'\n",
    "out_dir = './symbad'\n",
    "if not os.path.exists(out_dir):\n",
    "    os.mkdir(out_dir)\n",
    "\n",
    "fullname = os.path.join(out_dir, out_name)\n",
    "df_result.to_csv(fullname, header=True, index=False)"
   ],
   "metadata": {
    "collapsed": false
   }
  },
  {
   "cell_type": "markdown",
   "source": [
    "# Remove trained SY"
   ],
   "metadata": {
    "collapsed": false
   }
  },
  {
   "cell_type": "code",
   "execution_count": 18,
   "outputs": [
    {
     "data": {
      "text/plain": "            MAIN_ID       OTYPE SP_TYPE                       ID_Gaia  \\\n0         V* SY Mus  Symbiotic*      M4  Gaia DR3 5237239075896985728   \n1       WRAY 16-304  Symbiotic*      M3  Gaia DR2 5961300498162820352   \n2  UCAC4 122-038973  Symbiotic*      Be  Gaia DR3 5240016442258663936   \n3     LHA 115-N  60  Symbiotic*    C3,3  Gaia DR2 4685585706769513344   \n4       V* V840 Cen  Symbiotic*  K5IIIe  Gaia DR3 6063900742825792000   \n\n                                                 IDS  \\\n0  HD 100336|AN  118.1914|CPD-65 11298|CSI-65-112...   \n1  UCAC2  15360443|ESO 334-8|Hen 2-275|2MASS J174...   \n2  UCAC4 122-038973|2MASS J11082717-6547183|SS73 ...   \n3  SV* HV  1707|Cl* NGC  346  KWBBE      85|DENIS...   \n4  GSC 08666-01230|DENIS J132049.4-555014|2MASS J...   \n\n                                       OTYPES             Gaia DR3  \n0  SB*|LP*|V*|Em*|EmO|NIR|SB*|Sy*|*|IR|LP?|UV  5237239075896985728  \n1                      LP*|MIR|NIR|Sy*|PN|*|G  5961300498162820352  \n2                       NIR|MIR|Sy*|Em*|*|LP?  5240016442258663936  \n3             LP*|MIR|C*|NIR|V*|EmO|Em*|Sy*|*  4685585706769513344  \n4                            Sy*|NIR|Sy*|V*|*  6063900742825792000  ",
      "text/html": "<div>\n<style scoped>\n    .dataframe tbody tr th:only-of-type {\n        vertical-align: middle;\n    }\n\n    .dataframe tbody tr th {\n        vertical-align: top;\n    }\n\n    .dataframe thead th {\n        text-align: right;\n    }\n</style>\n<table border=\"1\" class=\"dataframe\">\n  <thead>\n    <tr style=\"text-align: right;\">\n      <th></th>\n      <th>MAIN_ID</th>\n      <th>OTYPE</th>\n      <th>SP_TYPE</th>\n      <th>ID_Gaia</th>\n      <th>IDS</th>\n      <th>OTYPES</th>\n      <th>Gaia DR3</th>\n    </tr>\n  </thead>\n  <tbody>\n    <tr>\n      <th>0</th>\n      <td>V* SY Mus</td>\n      <td>Symbiotic*</td>\n      <td>M4</td>\n      <td>Gaia DR3 5237239075896985728</td>\n      <td>HD 100336|AN  118.1914|CPD-65 11298|CSI-65-112...</td>\n      <td>SB*|LP*|V*|Em*|EmO|NIR|SB*|Sy*|*|IR|LP?|UV</td>\n      <td>5237239075896985728</td>\n    </tr>\n    <tr>\n      <th>1</th>\n      <td>WRAY 16-304</td>\n      <td>Symbiotic*</td>\n      <td>M3</td>\n      <td>Gaia DR2 5961300498162820352</td>\n      <td>UCAC2  15360443|ESO 334-8|Hen 2-275|2MASS J174...</td>\n      <td>LP*|MIR|NIR|Sy*|PN|*|G</td>\n      <td>5961300498162820352</td>\n    </tr>\n    <tr>\n      <th>2</th>\n      <td>UCAC4 122-038973</td>\n      <td>Symbiotic*</td>\n      <td>Be</td>\n      <td>Gaia DR3 5240016442258663936</td>\n      <td>UCAC4 122-038973|2MASS J11082717-6547183|SS73 ...</td>\n      <td>NIR|MIR|Sy*|Em*|*|LP?</td>\n      <td>5240016442258663936</td>\n    </tr>\n    <tr>\n      <th>3</th>\n      <td>LHA 115-N  60</td>\n      <td>Symbiotic*</td>\n      <td>C3,3</td>\n      <td>Gaia DR2 4685585706769513344</td>\n      <td>SV* HV  1707|Cl* NGC  346  KWBBE      85|DENIS...</td>\n      <td>LP*|MIR|C*|NIR|V*|EmO|Em*|Sy*|*</td>\n      <td>4685585706769513344</td>\n    </tr>\n    <tr>\n      <th>4</th>\n      <td>V* V840 Cen</td>\n      <td>Symbiotic*</td>\n      <td>K5IIIe</td>\n      <td>Gaia DR3 6063900742825792000</td>\n      <td>GSC 08666-01230|DENIS J132049.4-555014|2MASS J...</td>\n      <td>Sy*|NIR|Sy*|V*|*</td>\n      <td>6063900742825792000</td>\n    </tr>\n  </tbody>\n</table>\n</div>"
     },
     "execution_count": 18,
     "metadata": {},
     "output_type": "execute_result"
    }
   ],
   "source": [
    "df2 = pd.read_csv('../symbad/SY.csv')\n",
    "df2.head(5)"
   ],
   "metadata": {
    "collapsed": false
   }
  },
  {
   "cell_type": "code",
   "execution_count": 19,
   "outputs": [
    {
     "data": {
      "text/plain": "          FIND_NAME          MAIN_ID         OTYPE   SP_TYPE  \\\n0          RAW 1691          LIN 521            C*         C   \n1        [BE74] 583       [BE74] 583  LongPeriodV*     G/Ke:   \n2           StHA 55    EM* StHA   55          Mira             \n5            ZZ CMi        V* ZZ CMi  LongPeriodV*  M6I-IIep   \n7        WRAY 16−51       WRAY 16-51  LongPeriodV*        M4   \n9         NSV 05572        V* VX Crv          Mira     M9III   \n11           AE Cir        V* AE Cir        RCrBV*             \n12         V748 Cen      V* V748 Cen        EclBin        Ae   \n13         V345 Nor      V* V345 Nor          Mira    O-rich   \n14         V934 Her      V* V934 Her  LongPeriodV*     M2III   \n15       Hen 3−1383        THA 10-15       EmLine*       M3e   \n17      WSTB 19W032      ESO 455-139  PlanetaryNeb             \n18      WRAY 16−294      WRAY 16-294  LongPeriodV*        K5   \n20           DT Ser        V* DT Ser          Star   F8III-V   \n21         V618 Sgr      V* V618 Sgr        RCrBV*        Me   \n23           AS 288       PN H  2-43  PlanetaryNeb             \n24        Hen 2−379       PN M  1-44  PlanetaryNeb        Be   \n25         V335 Vul      EM* AS  356            C*        Ce   \n27        Hen 2−442        Hen 2-442  PlanetaryNeb             \n28  IRAS 19558+3333  IRAS 19558+3333       EmLine*             \n29         V627 Cas      EM* AS  501  LongPeriodV*  M2II-III   \n\n                         ID_Gaia  \\\n0   Gaia DR2 4687286621186701568   \n1   Gaia DR2 4651824725526390016   \n2   Gaia DR3 3321366590173335424   \n5   Gaia DR3 3155368612444708096   \n7   Gaia DR2 5410876219860836224   \n9   Gaia DR3 3575939163051304192   \n11  Gaia DR3 5799841957262188928   \n12  Gaia DR3 6204217186929931520   \n13  Gaia DR3 5981389610704878336   \n14  Gaia DR3 4571810378118789760   \n15  Gaia DR2 5979217486808094720   \n17  Gaia DR2 4060159376692627840   \n18  Gaia DR2 4061952680197028224   \n20  Gaia DR3 4178943599222583808   \n21  Gaia DR3 4038647942747847936   \n23  Gaia DR2 4050670827750135040   \n24  Gaia DR2 4052553745525657600   \n25  Gaia DR3 2022999316661190272   \n27  Gaia DR2 2022052808961769088   \n28                                 \n29  Gaia DR3 2013433148849034368   \n\n                                                  IDS  \\\n0   RAW 1691|LIN 521|2MASS J01183570-7242213|OGLE ...   \n1   2MASS J05265014-7106350|EROS2-star lm058-2n-25...   \n2   IRAS 05440+0642|ASAS J054642+0643.7|ASAS J0546...   \n5   BD+09  1633|AN  306.1934|DO  2156|GCRV  4915|G...   \n7   IRAS 09316-4621|AKARI-IRC-V1 J0933295-463450|D...   \n9   NSV  5572|ASAS J122152-1353.2|ATO J185.4686-13...   \n11  SV* HV  5112|GSC2 S21330229737|Hen 3-1025|2MAS...   \n12  CD-32 10517|ALS 18924|CRTS J145936.6-332503|CS...   \n13  NSV  7429|BAaDE ad3a-22685|IRAS 16030-5156|2MA...   \n14  HD 154791|2A 1704+241|3A 1703+241|AG+24 1704|A...   \n15  Hen 3-1383|GSC 07366-01210|IRAS 17172-3306|IRA...   \n17  ESO 455-139|AKARI-IRC-V1 J1739028-285634|GSC2 ...   \n18  2MASS J17391381-2538050|DENIS J173913.8-253805...   \n20  GSC 05096-01722|IRAS 17592-0126|2MASS J1801522...   \n21  SV* HV  7203|AN  313.1933|2MASS J18075721-3629...   \n23  ESO 456-75|EM* AS  288|GSC2 S301232116082|Haro...   \n24  ESO 522-11|GSC2 S3012333276|Hen 2-379|IRAS 181...   \n25  C* 2728|ASAS J192314+2427.7|Case  452|CGCS 425...   \n27  Hen 2-442|AKARI-IRC-V1 J1939433+262933|GSC2 N0...   \n28  2MASS J19574844+3341212|AKARI-IRC-V1 J1957483+...   \n29  HIP 113373|EM* AS  501|EM* VES  949|GEN# +6.20...   \n\n                                               OTYPES             Gaia DR3  \n0                C*|Em*|LP*|LP*|Em*|MIR|NIR|*|C*?|LP?  4687286621186701568  \n1                                    LP*|Em*|NIR|V*|*  4651824725526390016  \n2   Mi*|LP*|V*|LP*|SB*|LP*|MIR|V*|Em*|NIR|*|C*?|IR...  3321366590173335424  \n5                                 LP*|NIR|V*|*|IR|LP?  3155368612444708096  \n7                             LP*|NIR|MIR|Em*|PN|*|IR  5410876219867043072  \n9            LP*|Mi*|Mi*|AB*|LP*|NIR|V*|MIR|*|Mi?|Opt  3575939163051304192  \n11                       pA*|CV*|Sy*|V*|RC*|Em*|NIR|*  5799841957262188928  \n12                               EB*|Ro*|NIR|V*|Em*|*  6204217186929931520  \n13            Mas|Mi*|Mi*|AB*|Mas|V*|NIR|*|IR|LP?|V*?  5981389610704878336  \n14                LP*|LXB|LXB|V*|NIR|*|IR|Opt|X|X|gam  4571810378118789760  \n15                                   NIR|MIR|Em*|*|IR  5979217486808094720  \n17                          MIR|NIR|PN|*|G|IR|PN?|Rad  4060159376692627840  \n18                       LP*|PN|NIR|Em*|*|C*?|ISM|LP?  4061952680197028224  \n20                              MIR|NIR|V*|*|*|IR|pA?  4178943599222583808  \n21                               pA*|LP*|NIR|RC*|V*|*  4038647942747847936  \n23                          PN|Em*|NIR|EmO|*|G|IR|PN?  4050670827750135040  \n24                                  PN|NIR|Em*|*|G|IR  4052553745525657600  \n25  C*|Mi*|LP*|LP*|LP*|LP*|V*|EmO|NIR|MIR|C*|Em*|*...  2022999316661190272  \n27                                 PN|NIR|MIR|V*|*|IR  2022052808961769088  \n28                                 NIR|MIR|Em*|IR|pA?                 None  \n29  LP*|LP*|LP*|EmO|Em*|Mas|MIR|NIR|V*|*|IR|LP?|LP...  2013433148849034368  ",
      "text/html": "<div>\n<style scoped>\n    .dataframe tbody tr th:only-of-type {\n        vertical-align: middle;\n    }\n\n    .dataframe tbody tr th {\n        vertical-align: top;\n    }\n\n    .dataframe thead th {\n        text-align: right;\n    }\n</style>\n<table border=\"1\" class=\"dataframe\">\n  <thead>\n    <tr style=\"text-align: right;\">\n      <th></th>\n      <th>FIND_NAME</th>\n      <th>MAIN_ID</th>\n      <th>OTYPE</th>\n      <th>SP_TYPE</th>\n      <th>ID_Gaia</th>\n      <th>IDS</th>\n      <th>OTYPES</th>\n      <th>Gaia DR3</th>\n    </tr>\n  </thead>\n  <tbody>\n    <tr>\n      <th>0</th>\n      <td>RAW 1691</td>\n      <td>LIN 521</td>\n      <td>C*</td>\n      <td>C</td>\n      <td>Gaia DR2 4687286621186701568</td>\n      <td>RAW 1691|LIN 521|2MASS J01183570-7242213|OGLE ...</td>\n      <td>C*|Em*|LP*|LP*|Em*|MIR|NIR|*|C*?|LP?</td>\n      <td>4687286621186701568</td>\n    </tr>\n    <tr>\n      <th>1</th>\n      <td>[BE74] 583</td>\n      <td>[BE74] 583</td>\n      <td>LongPeriodV*</td>\n      <td>G/Ke:</td>\n      <td>Gaia DR2 4651824725526390016</td>\n      <td>2MASS J05265014-7106350|EROS2-star lm058-2n-25...</td>\n      <td>LP*|Em*|NIR|V*|*</td>\n      <td>4651824725526390016</td>\n    </tr>\n    <tr>\n      <th>2</th>\n      <td>StHA 55</td>\n      <td>EM* StHA   55</td>\n      <td>Mira</td>\n      <td></td>\n      <td>Gaia DR3 3321366590173335424</td>\n      <td>IRAS 05440+0642|ASAS J054642+0643.7|ASAS J0546...</td>\n      <td>Mi*|LP*|V*|LP*|SB*|LP*|MIR|V*|Em*|NIR|*|C*?|IR...</td>\n      <td>3321366590173335424</td>\n    </tr>\n    <tr>\n      <th>5</th>\n      <td>ZZ CMi</td>\n      <td>V* ZZ CMi</td>\n      <td>LongPeriodV*</td>\n      <td>M6I-IIep</td>\n      <td>Gaia DR3 3155368612444708096</td>\n      <td>BD+09  1633|AN  306.1934|DO  2156|GCRV  4915|G...</td>\n      <td>LP*|NIR|V*|*|IR|LP?</td>\n      <td>3155368612444708096</td>\n    </tr>\n    <tr>\n      <th>7</th>\n      <td>WRAY 16−51</td>\n      <td>WRAY 16-51</td>\n      <td>LongPeriodV*</td>\n      <td>M4</td>\n      <td>Gaia DR2 5410876219860836224</td>\n      <td>IRAS 09316-4621|AKARI-IRC-V1 J0933295-463450|D...</td>\n      <td>LP*|NIR|MIR|Em*|PN|*|IR</td>\n      <td>5410876219867043072</td>\n    </tr>\n    <tr>\n      <th>9</th>\n      <td>NSV 05572</td>\n      <td>V* VX Crv</td>\n      <td>Mira</td>\n      <td>M9III</td>\n      <td>Gaia DR3 3575939163051304192</td>\n      <td>NSV  5572|ASAS J122152-1353.2|ATO J185.4686-13...</td>\n      <td>LP*|Mi*|Mi*|AB*|LP*|NIR|V*|MIR|*|Mi?|Opt</td>\n      <td>3575939163051304192</td>\n    </tr>\n    <tr>\n      <th>11</th>\n      <td>AE Cir</td>\n      <td>V* AE Cir</td>\n      <td>RCrBV*</td>\n      <td></td>\n      <td>Gaia DR3 5799841957262188928</td>\n      <td>SV* HV  5112|GSC2 S21330229737|Hen 3-1025|2MAS...</td>\n      <td>pA*|CV*|Sy*|V*|RC*|Em*|NIR|*</td>\n      <td>5799841957262188928</td>\n    </tr>\n    <tr>\n      <th>12</th>\n      <td>V748 Cen</td>\n      <td>V* V748 Cen</td>\n      <td>EclBin</td>\n      <td>Ae</td>\n      <td>Gaia DR3 6204217186929931520</td>\n      <td>CD-32 10517|ALS 18924|CRTS J145936.6-332503|CS...</td>\n      <td>EB*|Ro*|NIR|V*|Em*|*</td>\n      <td>6204217186929931520</td>\n    </tr>\n    <tr>\n      <th>13</th>\n      <td>V345 Nor</td>\n      <td>V* V345 Nor</td>\n      <td>Mira</td>\n      <td>O-rich</td>\n      <td>Gaia DR3 5981389610704878336</td>\n      <td>NSV  7429|BAaDE ad3a-22685|IRAS 16030-5156|2MA...</td>\n      <td>Mas|Mi*|Mi*|AB*|Mas|V*|NIR|*|IR|LP?|V*?</td>\n      <td>5981389610704878336</td>\n    </tr>\n    <tr>\n      <th>14</th>\n      <td>V934 Her</td>\n      <td>V* V934 Her</td>\n      <td>LongPeriodV*</td>\n      <td>M2III</td>\n      <td>Gaia DR3 4571810378118789760</td>\n      <td>HD 154791|2A 1704+241|3A 1703+241|AG+24 1704|A...</td>\n      <td>LP*|LXB|LXB|V*|NIR|*|IR|Opt|X|X|gam</td>\n      <td>4571810378118789760</td>\n    </tr>\n    <tr>\n      <th>15</th>\n      <td>Hen 3−1383</td>\n      <td>THA 10-15</td>\n      <td>EmLine*</td>\n      <td>M3e</td>\n      <td>Gaia DR2 5979217486808094720</td>\n      <td>Hen 3-1383|GSC 07366-01210|IRAS 17172-3306|IRA...</td>\n      <td>NIR|MIR|Em*|*|IR</td>\n      <td>5979217486808094720</td>\n    </tr>\n    <tr>\n      <th>17</th>\n      <td>WSTB 19W032</td>\n      <td>ESO 455-139</td>\n      <td>PlanetaryNeb</td>\n      <td></td>\n      <td>Gaia DR2 4060159376692627840</td>\n      <td>ESO 455-139|AKARI-IRC-V1 J1739028-285634|GSC2 ...</td>\n      <td>MIR|NIR|PN|*|G|IR|PN?|Rad</td>\n      <td>4060159376692627840</td>\n    </tr>\n    <tr>\n      <th>18</th>\n      <td>WRAY 16−294</td>\n      <td>WRAY 16-294</td>\n      <td>LongPeriodV*</td>\n      <td>K5</td>\n      <td>Gaia DR2 4061952680197028224</td>\n      <td>2MASS J17391381-2538050|DENIS J173913.8-253805...</td>\n      <td>LP*|PN|NIR|Em*|*|C*?|ISM|LP?</td>\n      <td>4061952680197028224</td>\n    </tr>\n    <tr>\n      <th>20</th>\n      <td>DT Ser</td>\n      <td>V* DT Ser</td>\n      <td>Star</td>\n      <td>F8III-V</td>\n      <td>Gaia DR3 4178943599222583808</td>\n      <td>GSC 05096-01722|IRAS 17592-0126|2MASS J1801522...</td>\n      <td>MIR|NIR|V*|*|*|IR|pA?</td>\n      <td>4178943599222583808</td>\n    </tr>\n    <tr>\n      <th>21</th>\n      <td>V618 Sgr</td>\n      <td>V* V618 Sgr</td>\n      <td>RCrBV*</td>\n      <td>Me</td>\n      <td>Gaia DR3 4038647942747847936</td>\n      <td>SV* HV  7203|AN  313.1933|2MASS J18075721-3629...</td>\n      <td>pA*|LP*|NIR|RC*|V*|*</td>\n      <td>4038647942747847936</td>\n    </tr>\n    <tr>\n      <th>23</th>\n      <td>AS 288</td>\n      <td>PN H  2-43</td>\n      <td>PlanetaryNeb</td>\n      <td></td>\n      <td>Gaia DR2 4050670827750135040</td>\n      <td>ESO 456-75|EM* AS  288|GSC2 S301232116082|Haro...</td>\n      <td>PN|Em*|NIR|EmO|*|G|IR|PN?</td>\n      <td>4050670827750135040</td>\n    </tr>\n    <tr>\n      <th>24</th>\n      <td>Hen 2−379</td>\n      <td>PN M  1-44</td>\n      <td>PlanetaryNeb</td>\n      <td>Be</td>\n      <td>Gaia DR2 4052553745525657600</td>\n      <td>ESO 522-11|GSC2 S3012333276|Hen 2-379|IRAS 181...</td>\n      <td>PN|NIR|Em*|*|G|IR</td>\n      <td>4052553745525657600</td>\n    </tr>\n    <tr>\n      <th>25</th>\n      <td>V335 Vul</td>\n      <td>EM* AS  356</td>\n      <td>C*</td>\n      <td>Ce</td>\n      <td>Gaia DR3 2022999316661190272</td>\n      <td>C* 2728|ASAS J192314+2427.7|Case  452|CGCS 425...</td>\n      <td>C*|Mi*|LP*|LP*|LP*|LP*|V*|EmO|NIR|MIR|C*|Em*|*...</td>\n      <td>2022999316661190272</td>\n    </tr>\n    <tr>\n      <th>27</th>\n      <td>Hen 2−442</td>\n      <td>Hen 2-442</td>\n      <td>PlanetaryNeb</td>\n      <td></td>\n      <td>Gaia DR2 2022052808961769088</td>\n      <td>Hen 2-442|AKARI-IRC-V1 J1939433+262933|GSC2 N0...</td>\n      <td>PN|NIR|MIR|V*|*|IR</td>\n      <td>2022052808961769088</td>\n    </tr>\n    <tr>\n      <th>28</th>\n      <td>IRAS 19558+3333</td>\n      <td>IRAS 19558+3333</td>\n      <td>EmLine*</td>\n      <td></td>\n      <td></td>\n      <td>2MASS J19574844+3341212|AKARI-IRC-V1 J1957483+...</td>\n      <td>NIR|MIR|Em*|IR|pA?</td>\n      <td>None</td>\n    </tr>\n    <tr>\n      <th>29</th>\n      <td>V627 Cas</td>\n      <td>EM* AS  501</td>\n      <td>LongPeriodV*</td>\n      <td>M2II-III</td>\n      <td>Gaia DR3 2013433148849034368</td>\n      <td>HIP 113373|EM* AS  501|EM* VES  949|GEN# +6.20...</td>\n      <td>LP*|LP*|LP*|EmO|Em*|Mas|MIR|NIR|V*|*|IR|LP?|LP...</td>\n      <td>2013433148849034368</td>\n    </tr>\n  </tbody>\n</table>\n</div>"
     },
     "execution_count": 19,
     "metadata": {},
     "output_type": "execute_result"
    }
   ],
   "source": [
    "# Quedarse solo con las filas que no están en el otro DataFrame\n",
    "df_filtered = df_result.merge(df2, left_on=['MAIN_ID'], right_on=['MAIN_ID'], how='left', indicator=True)\n",
    "df_filtered = df_filtered[df_filtered['_merge'] == 'left_only']\n",
    "df_filtered = df_filtered.iloc[:, :8]\n",
    "df_filtered.columns = df_result.columns\n",
    "\n",
    "# Imprimir el resultado\n",
    "df_filtered"
   ],
   "metadata": {
    "collapsed": false
   }
  },
  {
   "cell_type": "markdown",
   "source": [
    "# Remove trained NP"
   ],
   "metadata": {
    "collapsed": false
   }
  },
  {
   "cell_type": "code",
   "execution_count": 20,
   "outputs": [
    {
     "data": {
      "text/plain": "       MAIN_ID         OTYPE SP_TYPE                      ID_Gaia  \\\n0    PN M  1-1  PlanetaryNeb     NaN  Gaia DR3 405830570741274752   \n1   PN Vy  1-1  PlanetaryNeb    [WC]  Gaia DR2 419326659360627968   \n2        M  76  PlanetaryNeb     DOZ  Gaia DR2 406328439057955968   \n3  PN HDW    3  PlanetaryNeb   DAO.6  Gaia DR2 241918950690107264   \n4    SH  2-188  PlanetaryNeb   DAO.6  Gaia DR2 509206447837376128   \n\n                                                 IDS  \\\n0  PN G130.3-11.7|GSC2 N3302101150|GSC 03286-0032...   \n1  PN VV    2|GSC2 N311023078|IRAS 00160+5335|2MA...   \n2  M  76|BWE 0139+5119|CSI+51-01391|GB6 B0139+511...   \n3  PN G149.4-09.2|GSC2 N333121333134|PK 149-09  1...   \n4  LBN 128.04-04.12|GSC2 N311302026110|LBN   633|...   \n\n                     OTYPES            Gaia DR3  \n0      PN|MIR|NIR|PN|*|G|IR  405830570741274752  \n1              PN|PN|*|G|IR  419326659360627968  \n2        PN|PN|WD*|*|IR|Rad  406328443354164480  \n3       PN|NIR|WD*|PN|*|WD?  241918950690107264  \n4  WD*|PN|HII|*|ISM|Rad|WD?  509206447837376128  ",
      "text/html": "<div>\n<style scoped>\n    .dataframe tbody tr th:only-of-type {\n        vertical-align: middle;\n    }\n\n    .dataframe tbody tr th {\n        vertical-align: top;\n    }\n\n    .dataframe thead th {\n        text-align: right;\n    }\n</style>\n<table border=\"1\" class=\"dataframe\">\n  <thead>\n    <tr style=\"text-align: right;\">\n      <th></th>\n      <th>MAIN_ID</th>\n      <th>OTYPE</th>\n      <th>SP_TYPE</th>\n      <th>ID_Gaia</th>\n      <th>IDS</th>\n      <th>OTYPES</th>\n      <th>Gaia DR3</th>\n    </tr>\n  </thead>\n  <tbody>\n    <tr>\n      <th>0</th>\n      <td>PN M  1-1</td>\n      <td>PlanetaryNeb</td>\n      <td>NaN</td>\n      <td>Gaia DR3 405830570741274752</td>\n      <td>PN G130.3-11.7|GSC2 N3302101150|GSC 03286-0032...</td>\n      <td>PN|MIR|NIR|PN|*|G|IR</td>\n      <td>405830570741274752</td>\n    </tr>\n    <tr>\n      <th>1</th>\n      <td>PN Vy  1-1</td>\n      <td>PlanetaryNeb</td>\n      <td>[WC]</td>\n      <td>Gaia DR2 419326659360627968</td>\n      <td>PN VV    2|GSC2 N311023078|IRAS 00160+5335|2MA...</td>\n      <td>PN|PN|*|G|IR</td>\n      <td>419326659360627968</td>\n    </tr>\n    <tr>\n      <th>2</th>\n      <td>M  76</td>\n      <td>PlanetaryNeb</td>\n      <td>DOZ</td>\n      <td>Gaia DR2 406328439057955968</td>\n      <td>M  76|BWE 0139+5119|CSI+51-01391|GB6 B0139+511...</td>\n      <td>PN|PN|WD*|*|IR|Rad</td>\n      <td>406328443354164480</td>\n    </tr>\n    <tr>\n      <th>3</th>\n      <td>PN HDW    3</td>\n      <td>PlanetaryNeb</td>\n      <td>DAO.6</td>\n      <td>Gaia DR2 241918950690107264</td>\n      <td>PN G149.4-09.2|GSC2 N333121333134|PK 149-09  1...</td>\n      <td>PN|NIR|WD*|PN|*|WD?</td>\n      <td>241918950690107264</td>\n    </tr>\n    <tr>\n      <th>4</th>\n      <td>SH  2-188</td>\n      <td>PlanetaryNeb</td>\n      <td>DAO.6</td>\n      <td>Gaia DR2 509206447837376128</td>\n      <td>LBN 128.04-04.12|GSC2 N311302026110|LBN   633|...</td>\n      <td>WD*|PN|HII|*|ISM|Rad|WD?</td>\n      <td>509206447837376128</td>\n    </tr>\n  </tbody>\n</table>\n</div>"
     },
     "execution_count": 20,
     "metadata": {},
     "output_type": "execute_result"
    }
   ],
   "source": [
    "df2 = pd.read_csv('../symbad/NP.csv')\n",
    "df2.head(5)"
   ],
   "metadata": {
    "collapsed": false
   }
  },
  {
   "cell_type": "code",
   "execution_count": 21,
   "outputs": [
    {
     "data": {
      "text/plain": "          FIND_NAME          MAIN_ID         OTYPE   SP_TYPE  \\\n0          RAW 1691          LIN 521            C*         C   \n1        [BE74] 583       [BE74] 583  LongPeriodV*     G/Ke:   \n2           StHA 55    EM* StHA   55          Mira             \n3            ZZ CMi        V* ZZ CMi  LongPeriodV*  M6I-IIep   \n4        WRAY 16−51       WRAY 16-51  LongPeriodV*        M4   \n5         NSV 05572        V* VX Crv          Mira     M9III   \n6            AE Cir        V* AE Cir        RCrBV*             \n7          V748 Cen      V* V748 Cen        EclBin        Ae   \n8          V345 Nor      V* V345 Nor          Mira    O-rich   \n9          V934 Her      V* V934 Her  LongPeriodV*     M2III   \n10       Hen 3−1383        THA 10-15       EmLine*       M3e   \n12      WRAY 16−294      WRAY 16-294  LongPeriodV*        K5   \n13           DT Ser        V* DT Ser          Star   F8III-V   \n14         V618 Sgr      V* V618 Sgr        RCrBV*        Me   \n17         V335 Vul      EM* AS  356            C*        Ce   \n19  IRAS 19558+3333  IRAS 19558+3333       EmLine*             \n20         V627 Cas      EM* AS  501  LongPeriodV*  M2II-III   \n\n                         ID_Gaia  \\\n0   Gaia DR2 4687286621186701568   \n1   Gaia DR2 4651824725526390016   \n2   Gaia DR3 3321366590173335424   \n3   Gaia DR3 3155368612444708096   \n4   Gaia DR2 5410876219860836224   \n5   Gaia DR3 3575939163051304192   \n6   Gaia DR3 5799841957262188928   \n7   Gaia DR3 6204217186929931520   \n8   Gaia DR3 5981389610704878336   \n9   Gaia DR3 4571810378118789760   \n10  Gaia DR2 5979217486808094720   \n12  Gaia DR2 4061952680197028224   \n13  Gaia DR3 4178943599222583808   \n14  Gaia DR3 4038647942747847936   \n17  Gaia DR3 2022999316661190272   \n19                                 \n20  Gaia DR3 2013433148849034368   \n\n                                                  IDS  \\\n0   RAW 1691|LIN 521|2MASS J01183570-7242213|OGLE ...   \n1   2MASS J05265014-7106350|EROS2-star lm058-2n-25...   \n2   IRAS 05440+0642|ASAS J054642+0643.7|ASAS J0546...   \n3   BD+09  1633|AN  306.1934|DO  2156|GCRV  4915|G...   \n4   IRAS 09316-4621|AKARI-IRC-V1 J0933295-463450|D...   \n5   NSV  5572|ASAS J122152-1353.2|ATO J185.4686-13...   \n6   SV* HV  5112|GSC2 S21330229737|Hen 3-1025|2MAS...   \n7   CD-32 10517|ALS 18924|CRTS J145936.6-332503|CS...   \n8   NSV  7429|BAaDE ad3a-22685|IRAS 16030-5156|2MA...   \n9   HD 154791|2A 1704+241|3A 1703+241|AG+24 1704|A...   \n10  Hen 3-1383|GSC 07366-01210|IRAS 17172-3306|IRA...   \n12  2MASS J17391381-2538050|DENIS J173913.8-253805...   \n13  GSC 05096-01722|IRAS 17592-0126|2MASS J1801522...   \n14  SV* HV  7203|AN  313.1933|2MASS J18075721-3629...   \n17  C* 2728|ASAS J192314+2427.7|Case  452|CGCS 425...   \n19  2MASS J19574844+3341212|AKARI-IRC-V1 J1957483+...   \n20  HIP 113373|EM* AS  501|EM* VES  949|GEN# +6.20...   \n\n                                               OTYPES             Gaia DR3  \n0                C*|Em*|LP*|LP*|Em*|MIR|NIR|*|C*?|LP?  4687286621186701568  \n1                                    LP*|Em*|NIR|V*|*  4651824725526390016  \n2   Mi*|LP*|V*|LP*|SB*|LP*|MIR|V*|Em*|NIR|*|C*?|IR...  3321366590173335424  \n3                                 LP*|NIR|V*|*|IR|LP?  3155368612444708096  \n4                             LP*|NIR|MIR|Em*|PN|*|IR  5410876219867043072  \n5            LP*|Mi*|Mi*|AB*|LP*|NIR|V*|MIR|*|Mi?|Opt  3575939163051304192  \n6                        pA*|CV*|Sy*|V*|RC*|Em*|NIR|*  5799841957262188928  \n7                                EB*|Ro*|NIR|V*|Em*|*  6204217186929931520  \n8             Mas|Mi*|Mi*|AB*|Mas|V*|NIR|*|IR|LP?|V*?  5981389610704878336  \n9                 LP*|LXB|LXB|V*|NIR|*|IR|Opt|X|X|gam  4571810378118789760  \n10                                   NIR|MIR|Em*|*|IR  5979217486808094720  \n12                       LP*|PN|NIR|Em*|*|C*?|ISM|LP?  4061952680197028224  \n13                              MIR|NIR|V*|*|*|IR|pA?  4178943599222583808  \n14                               pA*|LP*|NIR|RC*|V*|*  4038647942747847936  \n17  C*|Mi*|LP*|LP*|LP*|LP*|V*|EmO|NIR|MIR|C*|Em*|*...  2022999316661190272  \n19                                 NIR|MIR|Em*|IR|pA?                 None  \n20  LP*|LP*|LP*|EmO|Em*|Mas|MIR|NIR|V*|*|IR|LP?|LP...  2013433148849034368  ",
      "text/html": "<div>\n<style scoped>\n    .dataframe tbody tr th:only-of-type {\n        vertical-align: middle;\n    }\n\n    .dataframe tbody tr th {\n        vertical-align: top;\n    }\n\n    .dataframe thead th {\n        text-align: right;\n    }\n</style>\n<table border=\"1\" class=\"dataframe\">\n  <thead>\n    <tr style=\"text-align: right;\">\n      <th></th>\n      <th>FIND_NAME</th>\n      <th>MAIN_ID</th>\n      <th>OTYPE</th>\n      <th>SP_TYPE</th>\n      <th>ID_Gaia</th>\n      <th>IDS</th>\n      <th>OTYPES</th>\n      <th>Gaia DR3</th>\n    </tr>\n  </thead>\n  <tbody>\n    <tr>\n      <th>0</th>\n      <td>RAW 1691</td>\n      <td>LIN 521</td>\n      <td>C*</td>\n      <td>C</td>\n      <td>Gaia DR2 4687286621186701568</td>\n      <td>RAW 1691|LIN 521|2MASS J01183570-7242213|OGLE ...</td>\n      <td>C*|Em*|LP*|LP*|Em*|MIR|NIR|*|C*?|LP?</td>\n      <td>4687286621186701568</td>\n    </tr>\n    <tr>\n      <th>1</th>\n      <td>[BE74] 583</td>\n      <td>[BE74] 583</td>\n      <td>LongPeriodV*</td>\n      <td>G/Ke:</td>\n      <td>Gaia DR2 4651824725526390016</td>\n      <td>2MASS J05265014-7106350|EROS2-star lm058-2n-25...</td>\n      <td>LP*|Em*|NIR|V*|*</td>\n      <td>4651824725526390016</td>\n    </tr>\n    <tr>\n      <th>2</th>\n      <td>StHA 55</td>\n      <td>EM* StHA   55</td>\n      <td>Mira</td>\n      <td></td>\n      <td>Gaia DR3 3321366590173335424</td>\n      <td>IRAS 05440+0642|ASAS J054642+0643.7|ASAS J0546...</td>\n      <td>Mi*|LP*|V*|LP*|SB*|LP*|MIR|V*|Em*|NIR|*|C*?|IR...</td>\n      <td>3321366590173335424</td>\n    </tr>\n    <tr>\n      <th>3</th>\n      <td>ZZ CMi</td>\n      <td>V* ZZ CMi</td>\n      <td>LongPeriodV*</td>\n      <td>M6I-IIep</td>\n      <td>Gaia DR3 3155368612444708096</td>\n      <td>BD+09  1633|AN  306.1934|DO  2156|GCRV  4915|G...</td>\n      <td>LP*|NIR|V*|*|IR|LP?</td>\n      <td>3155368612444708096</td>\n    </tr>\n    <tr>\n      <th>4</th>\n      <td>WRAY 16−51</td>\n      <td>WRAY 16-51</td>\n      <td>LongPeriodV*</td>\n      <td>M4</td>\n      <td>Gaia DR2 5410876219860836224</td>\n      <td>IRAS 09316-4621|AKARI-IRC-V1 J0933295-463450|D...</td>\n      <td>LP*|NIR|MIR|Em*|PN|*|IR</td>\n      <td>5410876219867043072</td>\n    </tr>\n    <tr>\n      <th>5</th>\n      <td>NSV 05572</td>\n      <td>V* VX Crv</td>\n      <td>Mira</td>\n      <td>M9III</td>\n      <td>Gaia DR3 3575939163051304192</td>\n      <td>NSV  5572|ASAS J122152-1353.2|ATO J185.4686-13...</td>\n      <td>LP*|Mi*|Mi*|AB*|LP*|NIR|V*|MIR|*|Mi?|Opt</td>\n      <td>3575939163051304192</td>\n    </tr>\n    <tr>\n      <th>6</th>\n      <td>AE Cir</td>\n      <td>V* AE Cir</td>\n      <td>RCrBV*</td>\n      <td></td>\n      <td>Gaia DR3 5799841957262188928</td>\n      <td>SV* HV  5112|GSC2 S21330229737|Hen 3-1025|2MAS...</td>\n      <td>pA*|CV*|Sy*|V*|RC*|Em*|NIR|*</td>\n      <td>5799841957262188928</td>\n    </tr>\n    <tr>\n      <th>7</th>\n      <td>V748 Cen</td>\n      <td>V* V748 Cen</td>\n      <td>EclBin</td>\n      <td>Ae</td>\n      <td>Gaia DR3 6204217186929931520</td>\n      <td>CD-32 10517|ALS 18924|CRTS J145936.6-332503|CS...</td>\n      <td>EB*|Ro*|NIR|V*|Em*|*</td>\n      <td>6204217186929931520</td>\n    </tr>\n    <tr>\n      <th>8</th>\n      <td>V345 Nor</td>\n      <td>V* V345 Nor</td>\n      <td>Mira</td>\n      <td>O-rich</td>\n      <td>Gaia DR3 5981389610704878336</td>\n      <td>NSV  7429|BAaDE ad3a-22685|IRAS 16030-5156|2MA...</td>\n      <td>Mas|Mi*|Mi*|AB*|Mas|V*|NIR|*|IR|LP?|V*?</td>\n      <td>5981389610704878336</td>\n    </tr>\n    <tr>\n      <th>9</th>\n      <td>V934 Her</td>\n      <td>V* V934 Her</td>\n      <td>LongPeriodV*</td>\n      <td>M2III</td>\n      <td>Gaia DR3 4571810378118789760</td>\n      <td>HD 154791|2A 1704+241|3A 1703+241|AG+24 1704|A...</td>\n      <td>LP*|LXB|LXB|V*|NIR|*|IR|Opt|X|X|gam</td>\n      <td>4571810378118789760</td>\n    </tr>\n    <tr>\n      <th>10</th>\n      <td>Hen 3−1383</td>\n      <td>THA 10-15</td>\n      <td>EmLine*</td>\n      <td>M3e</td>\n      <td>Gaia DR2 5979217486808094720</td>\n      <td>Hen 3-1383|GSC 07366-01210|IRAS 17172-3306|IRA...</td>\n      <td>NIR|MIR|Em*|*|IR</td>\n      <td>5979217486808094720</td>\n    </tr>\n    <tr>\n      <th>12</th>\n      <td>WRAY 16−294</td>\n      <td>WRAY 16-294</td>\n      <td>LongPeriodV*</td>\n      <td>K5</td>\n      <td>Gaia DR2 4061952680197028224</td>\n      <td>2MASS J17391381-2538050|DENIS J173913.8-253805...</td>\n      <td>LP*|PN|NIR|Em*|*|C*?|ISM|LP?</td>\n      <td>4061952680197028224</td>\n    </tr>\n    <tr>\n      <th>13</th>\n      <td>DT Ser</td>\n      <td>V* DT Ser</td>\n      <td>Star</td>\n      <td>F8III-V</td>\n      <td>Gaia DR3 4178943599222583808</td>\n      <td>GSC 05096-01722|IRAS 17592-0126|2MASS J1801522...</td>\n      <td>MIR|NIR|V*|*|*|IR|pA?</td>\n      <td>4178943599222583808</td>\n    </tr>\n    <tr>\n      <th>14</th>\n      <td>V618 Sgr</td>\n      <td>V* V618 Sgr</td>\n      <td>RCrBV*</td>\n      <td>Me</td>\n      <td>Gaia DR3 4038647942747847936</td>\n      <td>SV* HV  7203|AN  313.1933|2MASS J18075721-3629...</td>\n      <td>pA*|LP*|NIR|RC*|V*|*</td>\n      <td>4038647942747847936</td>\n    </tr>\n    <tr>\n      <th>17</th>\n      <td>V335 Vul</td>\n      <td>EM* AS  356</td>\n      <td>C*</td>\n      <td>Ce</td>\n      <td>Gaia DR3 2022999316661190272</td>\n      <td>C* 2728|ASAS J192314+2427.7|Case  452|CGCS 425...</td>\n      <td>C*|Mi*|LP*|LP*|LP*|LP*|V*|EmO|NIR|MIR|C*|Em*|*...</td>\n      <td>2022999316661190272</td>\n    </tr>\n    <tr>\n      <th>19</th>\n      <td>IRAS 19558+3333</td>\n      <td>IRAS 19558+3333</td>\n      <td>EmLine*</td>\n      <td></td>\n      <td></td>\n      <td>2MASS J19574844+3341212|AKARI-IRC-V1 J1957483+...</td>\n      <td>NIR|MIR|Em*|IR|pA?</td>\n      <td>None</td>\n    </tr>\n    <tr>\n      <th>20</th>\n      <td>V627 Cas</td>\n      <td>EM* AS  501</td>\n      <td>LongPeriodV*</td>\n      <td>M2II-III</td>\n      <td>Gaia DR3 2013433148849034368</td>\n      <td>HIP 113373|EM* AS  501|EM* VES  949|GEN# +6.20...</td>\n      <td>LP*|LP*|LP*|EmO|Em*|Mas|MIR|NIR|V*|*|IR|LP?|LP...</td>\n      <td>2013433148849034368</td>\n    </tr>\n  </tbody>\n</table>\n</div>"
     },
     "execution_count": 21,
     "metadata": {},
     "output_type": "execute_result"
    }
   ],
   "source": [
    "# Quedarse solo con las filas que no están en el otro DataFrame\n",
    "df_filtered = df_filtered.merge(df2, left_on=['MAIN_ID'], right_on=['MAIN_ID'], how='left', indicator=True)\n",
    "df_filtered = df_filtered[df_filtered['_merge'] == 'left_only']\n",
    "df_filtered = df_filtered.iloc[:, :8]\n",
    "df_filtered.columns = df_result.columns\n",
    "\n",
    "# Imprimir el resultado\n",
    "df_filtered"
   ],
   "metadata": {
    "collapsed": false
   }
  },
  {
   "cell_type": "markdown",
   "source": [
    "# Remove trained RG"
   ],
   "metadata": {
    "collapsed": false
   }
  },
  {
   "cell_type": "code",
   "execution_count": 22,
   "outputs": [
    {
     "data": {
      "text/plain": "                   MAIN_ID OTYPE SP_TYPE                      ID_Gaia  \\\n0  2MASS J00373747+4938540  RGB*     NaN  Gaia DR2 391445694478549888   \n1              BD+50   106  RGB*      K2  Gaia DR2 415592206774201088   \n2                HD 232231  RGB*     NaN  Gaia DR2 415566471330378880   \n3  2MASS J00320053+5054594  RGB*     NaN  Gaia DR2 415760191535983744   \n4  2MASS J00300458+5111384  RGB*     NaN  Gaia DR2 415822210863310336   \n\n                                                 IDS     OTYPES  \\\n0  TYC 3257-1046-1|AP J00373747+4938540|GSC 03257...  RG*|NIR|*   \n1  BD+50   106|AG+50   53|AP J00355436+5105191|GS...  RG*|NIR|*   \n2  HD 232231|AG+50   56|AP J00370160+5041350|BD+4...  RG*|NIR|*   \n3  TYC 3260-1281-1|AP J00320053+5054594|GSC 03260...  RG*|NIR|*   \n4  TYC 3260-1485-1|AP J00300458+5111384|GSC 03260...  RG*|NIR|*   \n\n             Gaia DR3  \n0  391445694478549888  \n1  415592206774201088  \n2  415566471330378880  \n3  415760191535983744  \n4  415822210863310336  ",
      "text/html": "<div>\n<style scoped>\n    .dataframe tbody tr th:only-of-type {\n        vertical-align: middle;\n    }\n\n    .dataframe tbody tr th {\n        vertical-align: top;\n    }\n\n    .dataframe thead th {\n        text-align: right;\n    }\n</style>\n<table border=\"1\" class=\"dataframe\">\n  <thead>\n    <tr style=\"text-align: right;\">\n      <th></th>\n      <th>MAIN_ID</th>\n      <th>OTYPE</th>\n      <th>SP_TYPE</th>\n      <th>ID_Gaia</th>\n      <th>IDS</th>\n      <th>OTYPES</th>\n      <th>Gaia DR3</th>\n    </tr>\n  </thead>\n  <tbody>\n    <tr>\n      <th>0</th>\n      <td>2MASS J00373747+4938540</td>\n      <td>RGB*</td>\n      <td>NaN</td>\n      <td>Gaia DR2 391445694478549888</td>\n      <td>TYC 3257-1046-1|AP J00373747+4938540|GSC 03257...</td>\n      <td>RG*|NIR|*</td>\n      <td>391445694478549888</td>\n    </tr>\n    <tr>\n      <th>1</th>\n      <td>BD+50   106</td>\n      <td>RGB*</td>\n      <td>K2</td>\n      <td>Gaia DR2 415592206774201088</td>\n      <td>BD+50   106|AG+50   53|AP J00355436+5105191|GS...</td>\n      <td>RG*|NIR|*</td>\n      <td>415592206774201088</td>\n    </tr>\n    <tr>\n      <th>2</th>\n      <td>HD 232231</td>\n      <td>RGB*</td>\n      <td>NaN</td>\n      <td>Gaia DR2 415566471330378880</td>\n      <td>HD 232231|AG+50   56|AP J00370160+5041350|BD+4...</td>\n      <td>RG*|NIR|*</td>\n      <td>415566471330378880</td>\n    </tr>\n    <tr>\n      <th>3</th>\n      <td>2MASS J00320053+5054594</td>\n      <td>RGB*</td>\n      <td>NaN</td>\n      <td>Gaia DR2 415760191535983744</td>\n      <td>TYC 3260-1281-1|AP J00320053+5054594|GSC 03260...</td>\n      <td>RG*|NIR|*</td>\n      <td>415760191535983744</td>\n    </tr>\n    <tr>\n      <th>4</th>\n      <td>2MASS J00300458+5111384</td>\n      <td>RGB*</td>\n      <td>NaN</td>\n      <td>Gaia DR2 415822210863310336</td>\n      <td>TYC 3260-1485-1|AP J00300458+5111384|GSC 03260...</td>\n      <td>RG*|NIR|*</td>\n      <td>415822210863310336</td>\n    </tr>\n  </tbody>\n</table>\n</div>"
     },
     "execution_count": 22,
     "metadata": {},
     "output_type": "execute_result"
    }
   ],
   "source": [
    "df2 = pd.read_csv('../symbad/RG.csv')\n",
    "df2.head(5)"
   ],
   "metadata": {
    "collapsed": false
   }
  },
  {
   "cell_type": "code",
   "execution_count": 23,
   "outputs": [
    {
     "data": {
      "text/plain": "          FIND_NAME          MAIN_ID         OTYPE   SP_TYPE  \\\n0          RAW 1691          LIN 521            C*         C   \n1        [BE74] 583       [BE74] 583  LongPeriodV*     G/Ke:   \n2           StHA 55    EM* StHA   55          Mira             \n3            ZZ CMi        V* ZZ CMi  LongPeriodV*  M6I-IIep   \n4        WRAY 16−51       WRAY 16-51  LongPeriodV*        M4   \n5         NSV 05572        V* VX Crv          Mira     M9III   \n6            AE Cir        V* AE Cir        RCrBV*             \n7          V748 Cen      V* V748 Cen        EclBin        Ae   \n8          V345 Nor      V* V345 Nor          Mira    O-rich   \n9          V934 Her      V* V934 Her  LongPeriodV*     M2III   \n10       Hen 3−1383        THA 10-15       EmLine*       M3e   \n11      WRAY 16−294      WRAY 16-294  LongPeriodV*        K5   \n12           DT Ser        V* DT Ser          Star   F8III-V   \n13         V618 Sgr      V* V618 Sgr        RCrBV*        Me   \n14         V335 Vul      EM* AS  356            C*        Ce   \n15  IRAS 19558+3333  IRAS 19558+3333       EmLine*             \n16         V627 Cas      EM* AS  501  LongPeriodV*  M2II-III   \n\n                         ID_Gaia  \\\n0   Gaia DR2 4687286621186701568   \n1   Gaia DR2 4651824725526390016   \n2   Gaia DR3 3321366590173335424   \n3   Gaia DR3 3155368612444708096   \n4   Gaia DR2 5410876219860836224   \n5   Gaia DR3 3575939163051304192   \n6   Gaia DR3 5799841957262188928   \n7   Gaia DR3 6204217186929931520   \n8   Gaia DR3 5981389610704878336   \n9   Gaia DR3 4571810378118789760   \n10  Gaia DR2 5979217486808094720   \n11  Gaia DR2 4061952680197028224   \n12  Gaia DR3 4178943599222583808   \n13  Gaia DR3 4038647942747847936   \n14  Gaia DR3 2022999316661190272   \n15                                 \n16  Gaia DR3 2013433148849034368   \n\n                                                  IDS  \\\n0   RAW 1691|LIN 521|2MASS J01183570-7242213|OGLE ...   \n1   2MASS J05265014-7106350|EROS2-star lm058-2n-25...   \n2   IRAS 05440+0642|ASAS J054642+0643.7|ASAS J0546...   \n3   BD+09  1633|AN  306.1934|DO  2156|GCRV  4915|G...   \n4   IRAS 09316-4621|AKARI-IRC-V1 J0933295-463450|D...   \n5   NSV  5572|ASAS J122152-1353.2|ATO J185.4686-13...   \n6   SV* HV  5112|GSC2 S21330229737|Hen 3-1025|2MAS...   \n7   CD-32 10517|ALS 18924|CRTS J145936.6-332503|CS...   \n8   NSV  7429|BAaDE ad3a-22685|IRAS 16030-5156|2MA...   \n9   HD 154791|2A 1704+241|3A 1703+241|AG+24 1704|A...   \n10  Hen 3-1383|GSC 07366-01210|IRAS 17172-3306|IRA...   \n11  2MASS J17391381-2538050|DENIS J173913.8-253805...   \n12  GSC 05096-01722|IRAS 17592-0126|2MASS J1801522...   \n13  SV* HV  7203|AN  313.1933|2MASS J18075721-3629...   \n14  C* 2728|ASAS J192314+2427.7|Case  452|CGCS 425...   \n15  2MASS J19574844+3341212|AKARI-IRC-V1 J1957483+...   \n16  HIP 113373|EM* AS  501|EM* VES  949|GEN# +6.20...   \n\n                                               OTYPES             Gaia DR3  \n0                C*|Em*|LP*|LP*|Em*|MIR|NIR|*|C*?|LP?  4687286621186701568  \n1                                    LP*|Em*|NIR|V*|*  4651824725526390016  \n2   Mi*|LP*|V*|LP*|SB*|LP*|MIR|V*|Em*|NIR|*|C*?|IR...  3321366590173335424  \n3                                 LP*|NIR|V*|*|IR|LP?  3155368612444708096  \n4                             LP*|NIR|MIR|Em*|PN|*|IR  5410876219867043072  \n5            LP*|Mi*|Mi*|AB*|LP*|NIR|V*|MIR|*|Mi?|Opt  3575939163051304192  \n6                        pA*|CV*|Sy*|V*|RC*|Em*|NIR|*  5799841957262188928  \n7                                EB*|Ro*|NIR|V*|Em*|*  6204217186929931520  \n8             Mas|Mi*|Mi*|AB*|Mas|V*|NIR|*|IR|LP?|V*?  5981389610704878336  \n9                 LP*|LXB|LXB|V*|NIR|*|IR|Opt|X|X|gam  4571810378118789760  \n10                                   NIR|MIR|Em*|*|IR  5979217486808094720  \n11                       LP*|PN|NIR|Em*|*|C*?|ISM|LP?  4061952680197028224  \n12                              MIR|NIR|V*|*|*|IR|pA?  4178943599222583808  \n13                               pA*|LP*|NIR|RC*|V*|*  4038647942747847936  \n14  C*|Mi*|LP*|LP*|LP*|LP*|V*|EmO|NIR|MIR|C*|Em*|*...  2022999316661190272  \n15                                 NIR|MIR|Em*|IR|pA?                 None  \n16  LP*|LP*|LP*|EmO|Em*|Mas|MIR|NIR|V*|*|IR|LP?|LP...  2013433148849034368  ",
      "text/html": "<div>\n<style scoped>\n    .dataframe tbody tr th:only-of-type {\n        vertical-align: middle;\n    }\n\n    .dataframe tbody tr th {\n        vertical-align: top;\n    }\n\n    .dataframe thead th {\n        text-align: right;\n    }\n</style>\n<table border=\"1\" class=\"dataframe\">\n  <thead>\n    <tr style=\"text-align: right;\">\n      <th></th>\n      <th>FIND_NAME</th>\n      <th>MAIN_ID</th>\n      <th>OTYPE</th>\n      <th>SP_TYPE</th>\n      <th>ID_Gaia</th>\n      <th>IDS</th>\n      <th>OTYPES</th>\n      <th>Gaia DR3</th>\n    </tr>\n  </thead>\n  <tbody>\n    <tr>\n      <th>0</th>\n      <td>RAW 1691</td>\n      <td>LIN 521</td>\n      <td>C*</td>\n      <td>C</td>\n      <td>Gaia DR2 4687286621186701568</td>\n      <td>RAW 1691|LIN 521|2MASS J01183570-7242213|OGLE ...</td>\n      <td>C*|Em*|LP*|LP*|Em*|MIR|NIR|*|C*?|LP?</td>\n      <td>4687286621186701568</td>\n    </tr>\n    <tr>\n      <th>1</th>\n      <td>[BE74] 583</td>\n      <td>[BE74] 583</td>\n      <td>LongPeriodV*</td>\n      <td>G/Ke:</td>\n      <td>Gaia DR2 4651824725526390016</td>\n      <td>2MASS J05265014-7106350|EROS2-star lm058-2n-25...</td>\n      <td>LP*|Em*|NIR|V*|*</td>\n      <td>4651824725526390016</td>\n    </tr>\n    <tr>\n      <th>2</th>\n      <td>StHA 55</td>\n      <td>EM* StHA   55</td>\n      <td>Mira</td>\n      <td></td>\n      <td>Gaia DR3 3321366590173335424</td>\n      <td>IRAS 05440+0642|ASAS J054642+0643.7|ASAS J0546...</td>\n      <td>Mi*|LP*|V*|LP*|SB*|LP*|MIR|V*|Em*|NIR|*|C*?|IR...</td>\n      <td>3321366590173335424</td>\n    </tr>\n    <tr>\n      <th>3</th>\n      <td>ZZ CMi</td>\n      <td>V* ZZ CMi</td>\n      <td>LongPeriodV*</td>\n      <td>M6I-IIep</td>\n      <td>Gaia DR3 3155368612444708096</td>\n      <td>BD+09  1633|AN  306.1934|DO  2156|GCRV  4915|G...</td>\n      <td>LP*|NIR|V*|*|IR|LP?</td>\n      <td>3155368612444708096</td>\n    </tr>\n    <tr>\n      <th>4</th>\n      <td>WRAY 16−51</td>\n      <td>WRAY 16-51</td>\n      <td>LongPeriodV*</td>\n      <td>M4</td>\n      <td>Gaia DR2 5410876219860836224</td>\n      <td>IRAS 09316-4621|AKARI-IRC-V1 J0933295-463450|D...</td>\n      <td>LP*|NIR|MIR|Em*|PN|*|IR</td>\n      <td>5410876219867043072</td>\n    </tr>\n    <tr>\n      <th>5</th>\n      <td>NSV 05572</td>\n      <td>V* VX Crv</td>\n      <td>Mira</td>\n      <td>M9III</td>\n      <td>Gaia DR3 3575939163051304192</td>\n      <td>NSV  5572|ASAS J122152-1353.2|ATO J185.4686-13...</td>\n      <td>LP*|Mi*|Mi*|AB*|LP*|NIR|V*|MIR|*|Mi?|Opt</td>\n      <td>3575939163051304192</td>\n    </tr>\n    <tr>\n      <th>6</th>\n      <td>AE Cir</td>\n      <td>V* AE Cir</td>\n      <td>RCrBV*</td>\n      <td></td>\n      <td>Gaia DR3 5799841957262188928</td>\n      <td>SV* HV  5112|GSC2 S21330229737|Hen 3-1025|2MAS...</td>\n      <td>pA*|CV*|Sy*|V*|RC*|Em*|NIR|*</td>\n      <td>5799841957262188928</td>\n    </tr>\n    <tr>\n      <th>7</th>\n      <td>V748 Cen</td>\n      <td>V* V748 Cen</td>\n      <td>EclBin</td>\n      <td>Ae</td>\n      <td>Gaia DR3 6204217186929931520</td>\n      <td>CD-32 10517|ALS 18924|CRTS J145936.6-332503|CS...</td>\n      <td>EB*|Ro*|NIR|V*|Em*|*</td>\n      <td>6204217186929931520</td>\n    </tr>\n    <tr>\n      <th>8</th>\n      <td>V345 Nor</td>\n      <td>V* V345 Nor</td>\n      <td>Mira</td>\n      <td>O-rich</td>\n      <td>Gaia DR3 5981389610704878336</td>\n      <td>NSV  7429|BAaDE ad3a-22685|IRAS 16030-5156|2MA...</td>\n      <td>Mas|Mi*|Mi*|AB*|Mas|V*|NIR|*|IR|LP?|V*?</td>\n      <td>5981389610704878336</td>\n    </tr>\n    <tr>\n      <th>9</th>\n      <td>V934 Her</td>\n      <td>V* V934 Her</td>\n      <td>LongPeriodV*</td>\n      <td>M2III</td>\n      <td>Gaia DR3 4571810378118789760</td>\n      <td>HD 154791|2A 1704+241|3A 1703+241|AG+24 1704|A...</td>\n      <td>LP*|LXB|LXB|V*|NIR|*|IR|Opt|X|X|gam</td>\n      <td>4571810378118789760</td>\n    </tr>\n    <tr>\n      <th>10</th>\n      <td>Hen 3−1383</td>\n      <td>THA 10-15</td>\n      <td>EmLine*</td>\n      <td>M3e</td>\n      <td>Gaia DR2 5979217486808094720</td>\n      <td>Hen 3-1383|GSC 07366-01210|IRAS 17172-3306|IRA...</td>\n      <td>NIR|MIR|Em*|*|IR</td>\n      <td>5979217486808094720</td>\n    </tr>\n    <tr>\n      <th>11</th>\n      <td>WRAY 16−294</td>\n      <td>WRAY 16-294</td>\n      <td>LongPeriodV*</td>\n      <td>K5</td>\n      <td>Gaia DR2 4061952680197028224</td>\n      <td>2MASS J17391381-2538050|DENIS J173913.8-253805...</td>\n      <td>LP*|PN|NIR|Em*|*|C*?|ISM|LP?</td>\n      <td>4061952680197028224</td>\n    </tr>\n    <tr>\n      <th>12</th>\n      <td>DT Ser</td>\n      <td>V* DT Ser</td>\n      <td>Star</td>\n      <td>F8III-V</td>\n      <td>Gaia DR3 4178943599222583808</td>\n      <td>GSC 05096-01722|IRAS 17592-0126|2MASS J1801522...</td>\n      <td>MIR|NIR|V*|*|*|IR|pA?</td>\n      <td>4178943599222583808</td>\n    </tr>\n    <tr>\n      <th>13</th>\n      <td>V618 Sgr</td>\n      <td>V* V618 Sgr</td>\n      <td>RCrBV*</td>\n      <td>Me</td>\n      <td>Gaia DR3 4038647942747847936</td>\n      <td>SV* HV  7203|AN  313.1933|2MASS J18075721-3629...</td>\n      <td>pA*|LP*|NIR|RC*|V*|*</td>\n      <td>4038647942747847936</td>\n    </tr>\n    <tr>\n      <th>14</th>\n      <td>V335 Vul</td>\n      <td>EM* AS  356</td>\n      <td>C*</td>\n      <td>Ce</td>\n      <td>Gaia DR3 2022999316661190272</td>\n      <td>C* 2728|ASAS J192314+2427.7|Case  452|CGCS 425...</td>\n      <td>C*|Mi*|LP*|LP*|LP*|LP*|V*|EmO|NIR|MIR|C*|Em*|*...</td>\n      <td>2022999316661190272</td>\n    </tr>\n    <tr>\n      <th>15</th>\n      <td>IRAS 19558+3333</td>\n      <td>IRAS 19558+3333</td>\n      <td>EmLine*</td>\n      <td></td>\n      <td></td>\n      <td>2MASS J19574844+3341212|AKARI-IRC-V1 J1957483+...</td>\n      <td>NIR|MIR|Em*|IR|pA?</td>\n      <td>None</td>\n    </tr>\n    <tr>\n      <th>16</th>\n      <td>V627 Cas</td>\n      <td>EM* AS  501</td>\n      <td>LongPeriodV*</td>\n      <td>M2II-III</td>\n      <td>Gaia DR3 2013433148849034368</td>\n      <td>HIP 113373|EM* AS  501|EM* VES  949|GEN# +6.20...</td>\n      <td>LP*|LP*|LP*|EmO|Em*|Mas|MIR|NIR|V*|*|IR|LP?|LP...</td>\n      <td>2013433148849034368</td>\n    </tr>\n  </tbody>\n</table>\n</div>"
     },
     "execution_count": 23,
     "metadata": {},
     "output_type": "execute_result"
    }
   ],
   "source": [
    "# Quedarse solo con las filas que no están en el otro DataFrame\n",
    "df_filtered = df_filtered.merge(df2, left_on=['MAIN_ID'], right_on=['MAIN_ID'], how='left', indicator=True)\n",
    "df_filtered = df_filtered[df_filtered['_merge'] == 'left_only']\n",
    "df_filtered = df_filtered.iloc[:, :8]\n",
    "df_filtered.columns = df_result.columns\n",
    "\n",
    "# Imprimir el resultado\n",
    "df_filtered"
   ],
   "metadata": {
    "collapsed": false
   }
  },
  {
   "cell_type": "code",
   "execution_count": 24,
   "outputs": [],
   "source": [
    "out_name = 'suspected_SY_news.csv'\n",
    "out_dir = './symbad'\n",
    "if not os.path.exists(out_dir):\n",
    "    os.mkdir(out_dir)\n",
    "\n",
    "fullname = os.path.join(out_dir, out_name)\n",
    "df_filtered.to_csv(fullname, header=True, index=False)"
   ],
   "metadata": {
    "collapsed": false
   }
  },
  {
   "cell_type": "markdown",
   "source": [
    "# Remove no found stars"
   ],
   "metadata": {
    "collapsed": false
   }
  },
  {
   "cell_type": "code",
   "execution_count": 26,
   "outputs": [],
   "source": [
    "df_filtered = df_filtered[df_filtered['MAIN_ID'].str.len() > 0]\n",
    "df_filtered = df_filtered.dropna(subset=['Gaia DR3'])\n",
    "\n",
    "out_name = 'suspected_SY_dataset.csv'\n",
    "out_dir = './built_dataset'\n",
    "if not os.path.exists(out_dir):\n",
    "    os.mkdir(out_dir)\n",
    "\n",
    "fullname = os.path.join(out_dir, out_name)\n",
    "df_filtered.to_csv(fullname, header=True, index=False)"
   ],
   "metadata": {
    "collapsed": false
   }
  },
  {
   "cell_type": "code",
   "execution_count": null,
   "outputs": [],
   "source": [],
   "metadata": {
    "collapsed": false
   }
  }
 ],
 "metadata": {
  "kernelspec": {
   "display_name": "Python 3",
   "language": "python",
   "name": "python3"
  },
  "language_info": {
   "codemirror_mode": {
    "name": "ipython",
    "version": 2
   },
   "file_extension": ".py",
   "mimetype": "text/x-python",
   "name": "python",
   "nbconvert_exporter": "python",
   "pygments_lexer": "ipython2",
   "version": "2.7.6"
  }
 },
 "nbformat": 4,
 "nbformat_minor": 0
}
