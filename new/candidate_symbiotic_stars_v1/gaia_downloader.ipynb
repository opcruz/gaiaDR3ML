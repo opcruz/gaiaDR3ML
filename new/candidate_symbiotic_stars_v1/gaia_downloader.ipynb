{
 "cells": [
  {
   "cell_type": "code",
   "execution_count": 1,
   "outputs": [],
   "source": [
    "import pandas as pd\n",
    "from astroquery.gaia import Gaia\n",
    "import zipfile\n",
    "import os\n",
    "# Import the tool\n",
    "from gaiaxpy import calibrate"
   ],
   "metadata": {
    "collapsed": false
   }
  },
  {
   "cell_type": "markdown",
   "source": [
    "## Download Suspected Symbiotic Stars (GAIA)"
   ],
   "metadata": {
    "collapsed": false
   }
  },
  {
   "cell_type": "code",
   "execution_count": 2,
   "outputs": [],
   "source": [
    "df1 = pd.read_csv(\"./built_dataset/suspected_SY_dataset.csv\")\n",
    "ids = df1['Gaia DR3'].astype(str).values"
   ],
   "metadata": {
    "collapsed": false
   }
  },
  {
   "cell_type": "code",
   "execution_count": 3,
   "outputs": [
    {
     "name": "stderr",
     "output_type": "stream",
     "text": [
      "ERROR: Path C:\\Users\\orest\\DATA\\Maestría\\projects\\gaiaDR3ML\\new\\candidate_symbiotic_stars_v1\\gaia already exist [astroquery.gaia.core]\n",
      "WARNING: OverflowError converting to IntType in column source_id, reverting to String. [astropy.io.ascii.core]\n",
      "WARNING: OverflowError converting to IntType in column solution_id, reverting to String. [astropy.io.ascii.core]\n"
     ]
    },
    {
     "data": {
      "text/plain": "{'XP_CONTINUOUS_COMBINED.csv': [<Table length=15>\n       source_id          solution_id     ... rp_relative_shrinking\n         str19               str19        ...        float64       \n  ------------------- ------------------- ... ---------------------\n  4687286621186701568 4545469030156206081 ...              0.999964\n  4651824725526390016 4545469030156206080 ...               0.99992\n  3321366590173335424 4545469030156206080 ...            0.99825436\n  5410876219867043072 4545469030156206081 ...             0.9999338\n  3575939163051304192 4545469030156206081 ...             0.9965275\n  5799841957262188928 4545469030156206081 ...             0.9996915\n  6204217186929931520 4545469030156206081 ...            0.99996537\n  5981389610704878336 4545469030156206080 ...             0.9999976\n  4571810378118789760 4545469030156206080 ...            0.99999905\n  5979217486808094720 4545469030156206080 ...             0.9999999\n  4061952680197028224 4545469030156206081 ...            0.99999964\n  4178943599222583808 4545469030156206081 ...             0.9999981\n  4038647942747847936 4545469030156206081 ...            0.99995804\n  2022999316661190272 4545469030156206081 ...              0.999344\n  2013433148849034368 4545469030156206080 ...            0.99999994]}"
     },
     "execution_count": 3,
     "metadata": {},
     "output_type": "execute_result"
    }
   ],
   "source": [
    "out_dir = './gaia'\n",
    "if not os.path.exists(out_dir):\n",
    "    os.mkdir(out_dir)\n",
    "fullname = os.path.join(out_dir, \"NP_XP_CONTINUOUS_COMBINED.zip\")\n",
    "\n",
    "Gaia.load_data(\n",
    "    ids=ids,\n",
    "    format='csv',\n",
    "    data_release='Gaia DR3',\n",
    "    data_structure='COMBINED',\n",
    "    retrieval_type='XP_CONTINUOUS',\n",
    "    output_file=fullname,\n",
    "    overwrite_output_file=True,\n",
    "    verbose=False\n",
    ")\n"
   ],
   "metadata": {
    "collapsed": false
   }
  },
  {
   "cell_type": "markdown",
   "source": [
    "# Extract Data"
   ],
   "metadata": {
    "collapsed": false
   }
  },
  {
   "cell_type": "code",
   "execution_count": 4,
   "outputs": [],
   "source": [
    "zip_file_path = \"./gaia/NP_XP_CONTINUOUS_COMBINED.zip\"\n",
    "\n",
    "with zipfile.ZipFile(zip_file_path, 'r') as zip_ref:\n",
    "    zip_ref.extractall(\"./gaia\")"
   ],
   "metadata": {
    "collapsed": false
   }
  },
  {
   "cell_type": "markdown",
   "source": [
    "# Load and Calibrate Data"
   ],
   "metadata": {
    "collapsed": false
   }
  },
  {
   "cell_type": "code",
   "execution_count": 5,
   "outputs": [
    {
     "name": "stderr",
     "output_type": "stream",
     "text": [
      "                                                         /15 [00:00<?, ?spec/s]\r"
     ]
    }
   ],
   "source": [
    "out_dir = './calibrated_data'\n",
    "if not os.path.exists(out_dir):\n",
    "    os.mkdir(out_dir)\n",
    "fullname = os.path.join(out_dir, \"Suspected_SY.csv\")\n",
    "\n",
    "df1 = pd.read_csv(\"./gaia/XP_CONTINUOUS_COMBINED.csv\")\n",
    "\n",
    "calibrated_spectra, sampling = calibrate(df1, save_file=False)\n",
    "# calibrated_spectra\n",
    "calibrated_spectra.to_csv(fullname, header=True, index=False)"
   ],
   "metadata": {
    "collapsed": false
   }
  },
  {
   "cell_type": "code",
   "execution_count": null,
   "outputs": [],
   "source": [],
   "metadata": {
    "collapsed": false
   }
  }
 ],
 "metadata": {
  "kernelspec": {
   "display_name": "Python 3",
   "language": "python",
   "name": "python3"
  },
  "language_info": {
   "codemirror_mode": {
    "name": "ipython",
    "version": 2
   },
   "file_extension": ".py",
   "mimetype": "text/x-python",
   "name": "python",
   "nbconvert_exporter": "python",
   "pygments_lexer": "ipython2",
   "version": "2.7.6"
  }
 },
 "nbformat": 4,
 "nbformat_minor": 0
}
