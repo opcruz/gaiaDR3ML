{
 "cells": [
  {
   "cell_type": "code",
   "execution_count": 1,
   "outputs": [],
   "source": [
    "import numpy as np\n",
    "import pandas as pd\n",
    "import os\n",
    "import math"
   ],
   "metadata": {
    "collapsed": false
   }
  },
  {
   "cell_type": "code",
   "execution_count": 2,
   "outputs": [],
   "source": [
    "stars_files = [\n",
    "    (\"./normalized/SY.csv\", 1),\n",
    "    (\"./normalized/NP.csv\", 2),\n",
    "    (\"./normalized/RG.csv\", 3)\n",
    "]"
   ],
   "metadata": {
    "collapsed": false
   }
  },
  {
   "cell_type": "code",
   "execution_count": 3,
   "outputs": [
    {
     "data": {
      "text/plain": "(69146, 343)"
     },
     "execution_count": 3,
     "metadata": {},
     "output_type": "execute_result"
    }
   ],
   "source": [
    "df1 = pd.read_csv(stars_files[2][0], header=None)\n",
    "df1.shape"
   ],
   "metadata": {
    "collapsed": false
   }
  },
  {
   "cell_type": "markdown",
   "source": [
    "## Create Unbalanced Data (1200)"
   ],
   "metadata": {
    "collapsed": false
   }
  },
  {
   "cell_type": "code",
   "execution_count": 4,
   "outputs": [],
   "source": [
    "limit = 1200\n",
    "result = []\n",
    "for file in stars_files:\n",
    "    df1 = pd.read_csv(file[0], header=None)\n",
    "    size = min(len(df1), limit)\n",
    "    df1 = df1.sample(size, random_state=10)\n",
    "    df1 = df1.assign(id=file[1])\n",
    "    result.append(df1)\n",
    "\n",
    "df_result = pd.concat(result)\n",
    "\n",
    "out_dir = './datasets'\n",
    "if not os.path.exists(out_dir):\n",
    "    os.mkdir(out_dir)\n",
    "fullname = os.path.join(out_dir, \"unbalanced.csv\")\n",
    "df_result.to_csv(fullname, header=False, index=False)"
   ],
   "metadata": {
    "collapsed": false
   }
  },
  {
   "cell_type": "markdown",
   "source": [
    "## Create Unbalanced Data (15000)"
   ],
   "metadata": {
    "collapsed": false
   }
  },
  {
   "cell_type": "code",
   "execution_count": null,
   "outputs": [],
   "source": [
    "limit = 15000\n",
    "result = []\n",
    "for file in stars_files:\n",
    "    df1 = pd.read_csv(file[0], header=None)\n",
    "    size = min(len(df1), limit)\n",
    "    df1 = df1.sample(size, random_state=10)\n",
    "    df1 = df1.assign(id=file[1])\n",
    "    result.append(df1)\n",
    "\n",
    "df_result = pd.concat(result)\n",
    "\n",
    "out_dir = './datasets'\n",
    "if not os.path.exists(out_dir):\n",
    "    os.mkdir(out_dir)\n",
    "fullname = os.path.join(out_dir, \"unbalanced_15000.csv\")\n",
    "df_result.to_csv(fullname, header=False, index=False)"
   ],
   "metadata": {
    "collapsed": false
   }
  },
  {
   "cell_type": "markdown",
   "source": [
    "## Create Balanced Data"
   ],
   "metadata": {
    "collapsed": false
   }
  },
  {
   "cell_type": "code",
   "execution_count": 95,
   "outputs": [],
   "source": [
    "limit = 1000"
   ],
   "metadata": {
    "collapsed": false
   }
  },
  {
   "cell_type": "code",
   "execution_count": 96,
   "outputs": [],
   "source": [
    "def normalize(spectra):\n",
    "    min1 = min(spectra)\n",
    "    max1 = max(spectra)\n",
    "    # Normalizar los espectros al rango de 0 a 1\n",
    "    return (spectra - min1) / (max1 - min1)"
   ],
   "metadata": {
    "collapsed": false
   }
  },
  {
   "cell_type": "code",
   "execution_count": 97,
   "outputs": [],
   "source": [
    "noises = [\n",
    "    np.random.normal(loc=0.0, scale=0.01, size=343),\n",
    "    np.random.normal(loc=0.0, scale=0.02, size=343),\n",
    "    np.random.normal(loc=0.0, scale=0.03, size=343),\n",
    "    np.random.normal(loc=0.0, scale=0.04, size=343),\n",
    "    np.random.normal(loc=0.0, scale=0.05, size=343)\n",
    "]"
   ],
   "metadata": {
    "collapsed": false
   }
  },
  {
   "cell_type": "code",
   "execution_count": 98,
   "outputs": [],
   "source": [
    "def add_noise(df2, size):\n",
    "    result = []\n",
    "    cant = math.ceil((size / len(df2))) - 1\n",
    "    for index, row in df2.iterrows():\n",
    "        result.append(row)\n",
    "        for i in range(0, cant):\n",
    "            result.append(normalize(row + noises[i]))\n",
    "\n",
    "    return pd.DataFrame(result)"
   ],
   "metadata": {
    "collapsed": false
   }
  },
  {
   "cell_type": "code",
   "execution_count": 99,
   "outputs": [],
   "source": [
    "result = []\n",
    "for file in stars_files:\n",
    "    df1 = pd.read_csv(file[0], header=None)\n",
    "    if len(df1) < limit:\n",
    "        df1 = add_noise(df1, limit)\n",
    "\n",
    "    df1 = df1.sample(limit, random_state=10)\n",
    "    df1 = df1.assign(id=file[1])\n",
    "    result.append(df1)\n",
    "\n",
    "df_result = pd.concat(result)"
   ],
   "metadata": {
    "collapsed": false
   }
  },
  {
   "cell_type": "code",
   "execution_count": 100,
   "outputs": [],
   "source": [
    "out_dir = './datasets'\n",
    "if not os.path.exists(out_dir):\n",
    "    os.mkdir(out_dir)\n",
    "fullname = os.path.join(out_dir, \"balanced.csv\")\n",
    "df_result.to_csv(fullname, header=False, index=False)"
   ],
   "metadata": {
    "collapsed": false
   }
  }
 ],
 "metadata": {
  "kernelspec": {
   "display_name": "Python 3",
   "language": "python",
   "name": "python3"
  },
  "language_info": {
   "codemirror_mode": {
    "name": "ipython",
    "version": 2
   },
   "file_extension": ".py",
   "mimetype": "text/x-python",
   "name": "python",
   "nbconvert_exporter": "python",
   "pygments_lexer": "ipython2",
   "version": "2.7.6"
  }
 },
 "nbformat": 4,
 "nbformat_minor": 0
}
