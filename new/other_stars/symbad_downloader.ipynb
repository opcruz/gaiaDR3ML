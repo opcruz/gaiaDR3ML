{
 "cells": [
  {
   "cell_type": "code",
   "execution_count": 1,
   "metadata": {
    "collapsed": true
   },
   "outputs": [],
   "source": [
    "import pandas as pd\n",
    "from astroquery.simbad import Simbad\n",
    "import os"
   ]
  },
  {
   "cell_type": "code",
   "execution_count": 2,
   "outputs": [],
   "source": [
    "data1 = pd.read_csv('./stars.txt', header=None)\n",
    "stars_names = data1.iloc[:, 0].tolist()"
   ],
   "metadata": {
    "collapsed": false
   }
  },
  {
   "cell_type": "code",
   "execution_count": 3,
   "outputs": [],
   "source": [
    "catalog = \"Gaia DR3\"\n",
    "\n",
    "def find_gaia_dr3(value: str):\n",
    "    if catalog in value:\n",
    "        index = value.index(catalog)\n",
    "        return value[index + len(catalog) + 1:index + len(catalog) + 25].strip().split('|')[0].strip()\n",
    "    else:\n",
    "        return None"
   ],
   "metadata": {
    "collapsed": false
   }
  },
  {
   "cell_type": "code",
   "execution_count": 4,
   "outputs": [
    {
     "data": {
      "text/plain": "'1870094426454523904'"
     },
     "execution_count": 4,
     "metadata": {},
     "output_type": "execute_result"
    }
   ],
   "source": [
    "find_gaia_dr3(\n",
    "    \"BD+36  4320|GSC 02700-03701|2MASS J20551542+3644188|TIC 195262851|TYC 2700-3701-1|Gaia DR2 1870094426454523904|Gaia DR3 1870094426454523904|Gaia DR1 1870094422138445824\")"
   ],
   "metadata": {
    "collapsed": false
   }
  },
  {
   "cell_type": "code",
   "execution_count": 5,
   "outputs": [],
   "source": [
    "simbad_handler = Simbad()\n",
    "simbad_handler.ROW_LIMIT = 0\n",
    "simbad_handler.TIMEOUT = 60 * 60\n",
    "simbad_handler.reset_votable_fields()\n",
    "\n",
    "simbad_handler.add_votable_fields(\n",
    "    \"otype\",\n",
    "    \"typed_id\",\n",
    "    \"id(Gaia)\",\n",
    "    \"ids\",\n",
    "    \"sptype\",\n",
    "    \"otypes\"\n",
    ")"
   ],
   "metadata": {
    "collapsed": false
   }
  },
  {
   "cell_type": "code",
   "execution_count": 6,
   "outputs": [],
   "source": [
    "result = []\n",
    "\n",
    "for stars_name in stars_names:\n",
    "    result_table = simbad_handler.query_object(stars_name).to_pandas()\n",
    "    result_table = result_table[['MAIN_ID', 'OTYPE', 'SP_TYPE', 'ID_Gaia', 'IDS', 'OTYPES']]\n",
    "    result_table['Gaia DR3'] = result_table.apply(lambda row: find_gaia_dr3(row['IDS']), axis=1)\n",
    "    result_table.insert(0, 'FIND_NAME', stars_name)\n",
    "    result.append(result_table)\n",
    "\n",
    "df_result = pd.concat(result, ignore_index=True)"
   ],
   "metadata": {
    "collapsed": false
   }
  },
  {
   "cell_type": "code",
   "execution_count": 7,
   "outputs": [],
   "source": [
    "out_name = 'suspected.csv'\n",
    "out_dir = './symbad'\n",
    "if not os.path.exists(out_dir):\n",
    "    os.mkdir(out_dir)\n",
    "\n",
    "fullname = os.path.join(out_dir, out_name)\n",
    "df_result.to_csv(fullname, header=True, index=False)"
   ],
   "metadata": {
    "collapsed": false
   }
  },
  {
   "cell_type": "markdown",
   "source": [
    "# Remove trained SY"
   ],
   "metadata": {
    "collapsed": false
   }
  },
  {
   "cell_type": "code",
   "execution_count": 8,
   "outputs": [
    {
     "data": {
      "text/plain": "            MAIN_ID       OTYPE SP_TYPE                       ID_Gaia  \\\n0         V* SY Mus  Symbiotic*      M4  Gaia DR3 5237239075896985728   \n1       WRAY 16-304  Symbiotic*      M3  Gaia DR2 5961300498162820352   \n2  UCAC4 122-038973  Symbiotic*      Be  Gaia DR3 5240016442258663936   \n3     LHA 115-N  60  Symbiotic*    C3,3  Gaia DR2 4685585706769513344   \n4       V* V840 Cen  Symbiotic*  K5IIIe  Gaia DR3 6063900742825792000   \n\n                                                 IDS  \\\n0  HD 100336|AN  118.1914|CPD-65 11298|CSI-65-112...   \n1  UCAC2  15360443|ESO 334-8|Hen 2-275|2MASS J174...   \n2  UCAC4 122-038973|2MASS J11082717-6547183|SS73 ...   \n3  SV* HV  1707|Cl* NGC  346  KWBBE      85|DENIS...   \n4  GSC 08666-01230|DENIS J132049.4-555014|2MASS J...   \n\n                                       OTYPES             Gaia DR3  \n0  SB*|LP*|V*|Em*|EmO|NIR|SB*|Sy*|*|IR|LP?|UV  5237239075896985728  \n1                      LP*|MIR|NIR|Sy*|PN|*|G  5961300498162820352  \n2                       NIR|MIR|Sy*|Em*|*|LP?  5240016442258663936  \n3             LP*|MIR|C*|NIR|V*|EmO|Em*|Sy*|*  4685585706769513344  \n4                            Sy*|NIR|Sy*|V*|*  6063900742825792000  ",
      "text/html": "<div>\n<style scoped>\n    .dataframe tbody tr th:only-of-type {\n        vertical-align: middle;\n    }\n\n    .dataframe tbody tr th {\n        vertical-align: top;\n    }\n\n    .dataframe thead th {\n        text-align: right;\n    }\n</style>\n<table border=\"1\" class=\"dataframe\">\n  <thead>\n    <tr style=\"text-align: right;\">\n      <th></th>\n      <th>MAIN_ID</th>\n      <th>OTYPE</th>\n      <th>SP_TYPE</th>\n      <th>ID_Gaia</th>\n      <th>IDS</th>\n      <th>OTYPES</th>\n      <th>Gaia DR3</th>\n    </tr>\n  </thead>\n  <tbody>\n    <tr>\n      <th>0</th>\n      <td>V* SY Mus</td>\n      <td>Symbiotic*</td>\n      <td>M4</td>\n      <td>Gaia DR3 5237239075896985728</td>\n      <td>HD 100336|AN  118.1914|CPD-65 11298|CSI-65-112...</td>\n      <td>SB*|LP*|V*|Em*|EmO|NIR|SB*|Sy*|*|IR|LP?|UV</td>\n      <td>5237239075896985728</td>\n    </tr>\n    <tr>\n      <th>1</th>\n      <td>WRAY 16-304</td>\n      <td>Symbiotic*</td>\n      <td>M3</td>\n      <td>Gaia DR2 5961300498162820352</td>\n      <td>UCAC2  15360443|ESO 334-8|Hen 2-275|2MASS J174...</td>\n      <td>LP*|MIR|NIR|Sy*|PN|*|G</td>\n      <td>5961300498162820352</td>\n    </tr>\n    <tr>\n      <th>2</th>\n      <td>UCAC4 122-038973</td>\n      <td>Symbiotic*</td>\n      <td>Be</td>\n      <td>Gaia DR3 5240016442258663936</td>\n      <td>UCAC4 122-038973|2MASS J11082717-6547183|SS73 ...</td>\n      <td>NIR|MIR|Sy*|Em*|*|LP?</td>\n      <td>5240016442258663936</td>\n    </tr>\n    <tr>\n      <th>3</th>\n      <td>LHA 115-N  60</td>\n      <td>Symbiotic*</td>\n      <td>C3,3</td>\n      <td>Gaia DR2 4685585706769513344</td>\n      <td>SV* HV  1707|Cl* NGC  346  KWBBE      85|DENIS...</td>\n      <td>LP*|MIR|C*|NIR|V*|EmO|Em*|Sy*|*</td>\n      <td>4685585706769513344</td>\n    </tr>\n    <tr>\n      <th>4</th>\n      <td>V* V840 Cen</td>\n      <td>Symbiotic*</td>\n      <td>K5IIIe</td>\n      <td>Gaia DR3 6063900742825792000</td>\n      <td>GSC 08666-01230|DENIS J132049.4-555014|2MASS J...</td>\n      <td>Sy*|NIR|Sy*|V*|*</td>\n      <td>6063900742825792000</td>\n    </tr>\n  </tbody>\n</table>\n</div>"
     },
     "execution_count": 8,
     "metadata": {},
     "output_type": "execute_result"
    }
   ],
   "source": [
    "df2 = pd.read_csv('../symbad/SY.csv')\n",
    "df2.head(5)"
   ],
   "metadata": {
    "collapsed": false
   }
  },
  {
   "cell_type": "code",
   "execution_count": 9,
   "outputs": [
    {
     "data": {
      "text/plain": "   FIND_NAME        MAIN_ID         OTYPE   SP_TYPE  \\\n0     StHa55  EM* StHA   55          Mira             \n3   Hen2-442      Hen 2-442  PlanetaryNeb             \n5   Hen2-379     PN M  1-44  PlanetaryNeb        Be   \n7      AS288     PN H  2-43  PlanetaryNeb             \n9     ZZ Cmi      V* ZZ CMi  LongPeriodV*  M6I-IIep   \n10   V335Vul    EM* AS  356            C*        Ce   \n\n                         ID_Gaia  \\\n0   Gaia DR3 3321366590173335424   \n3   Gaia DR2 2022052808961769088   \n5   Gaia DR2 4052553745525657600   \n7   Gaia DR2 4050670827750135040   \n9   Gaia DR3 3155368612444708096   \n10  Gaia DR3 2022999316661190272   \n\n                                                  IDS  \\\n0   IRAS 05440+0642|ASAS J054642+0643.7|ASAS J0546...   \n3   Hen 2-442|AKARI-IRC-V1 J1939433+262933|GSC2 N0...   \n5   ESO 522-11|GSC2 S3012333276|Hen 2-379|IRAS 181...   \n7   ESO 456-75|EM* AS  288|GSC2 S301232116082|Haro...   \n9   BD+09  1633|AN  306.1934|DO  2156|GCRV  4915|G...   \n10  C* 2728|ASAS J192314+2427.7|Case  452|CGCS 425...   \n\n                                               OTYPES             Gaia DR3  \n0   Mi*|LP*|V*|LP*|SB*|LP*|MIR|V*|Em*|NIR|*|C*?|IR...  3321366590173335424  \n3                                  PN|NIR|MIR|V*|*|IR  2022052808961769088  \n5                                   PN|NIR|Em*|*|G|IR  4052553745525657600  \n7                           PN|Em*|NIR|EmO|*|G|IR|PN?  4050670827750135040  \n9                                 LP*|NIR|V*|*|IR|LP?  3155368612444708096  \n10  C*|Mi*|LP*|LP*|LP*|LP*|V*|EmO|NIR|MIR|C*|Em*|*...  2022999316661190272  ",
      "text/html": "<div>\n<style scoped>\n    .dataframe tbody tr th:only-of-type {\n        vertical-align: middle;\n    }\n\n    .dataframe tbody tr th {\n        vertical-align: top;\n    }\n\n    .dataframe thead th {\n        text-align: right;\n    }\n</style>\n<table border=\"1\" class=\"dataframe\">\n  <thead>\n    <tr style=\"text-align: right;\">\n      <th></th>\n      <th>FIND_NAME</th>\n      <th>MAIN_ID</th>\n      <th>OTYPE</th>\n      <th>SP_TYPE</th>\n      <th>ID_Gaia</th>\n      <th>IDS</th>\n      <th>OTYPES</th>\n      <th>Gaia DR3</th>\n    </tr>\n  </thead>\n  <tbody>\n    <tr>\n      <th>0</th>\n      <td>StHa55</td>\n      <td>EM* StHA   55</td>\n      <td>Mira</td>\n      <td></td>\n      <td>Gaia DR3 3321366590173335424</td>\n      <td>IRAS 05440+0642|ASAS J054642+0643.7|ASAS J0546...</td>\n      <td>Mi*|LP*|V*|LP*|SB*|LP*|MIR|V*|Em*|NIR|*|C*?|IR...</td>\n      <td>3321366590173335424</td>\n    </tr>\n    <tr>\n      <th>3</th>\n      <td>Hen2-442</td>\n      <td>Hen 2-442</td>\n      <td>PlanetaryNeb</td>\n      <td></td>\n      <td>Gaia DR2 2022052808961769088</td>\n      <td>Hen 2-442|AKARI-IRC-V1 J1939433+262933|GSC2 N0...</td>\n      <td>PN|NIR|MIR|V*|*|IR</td>\n      <td>2022052808961769088</td>\n    </tr>\n    <tr>\n      <th>5</th>\n      <td>Hen2-379</td>\n      <td>PN M  1-44</td>\n      <td>PlanetaryNeb</td>\n      <td>Be</td>\n      <td>Gaia DR2 4052553745525657600</td>\n      <td>ESO 522-11|GSC2 S3012333276|Hen 2-379|IRAS 181...</td>\n      <td>PN|NIR|Em*|*|G|IR</td>\n      <td>4052553745525657600</td>\n    </tr>\n    <tr>\n      <th>7</th>\n      <td>AS288</td>\n      <td>PN H  2-43</td>\n      <td>PlanetaryNeb</td>\n      <td></td>\n      <td>Gaia DR2 4050670827750135040</td>\n      <td>ESO 456-75|EM* AS  288|GSC2 S301232116082|Haro...</td>\n      <td>PN|Em*|NIR|EmO|*|G|IR|PN?</td>\n      <td>4050670827750135040</td>\n    </tr>\n    <tr>\n      <th>9</th>\n      <td>ZZ Cmi</td>\n      <td>V* ZZ CMi</td>\n      <td>LongPeriodV*</td>\n      <td>M6I-IIep</td>\n      <td>Gaia DR3 3155368612444708096</td>\n      <td>BD+09  1633|AN  306.1934|DO  2156|GCRV  4915|G...</td>\n      <td>LP*|NIR|V*|*|IR|LP?</td>\n      <td>3155368612444708096</td>\n    </tr>\n    <tr>\n      <th>10</th>\n      <td>V335Vul</td>\n      <td>EM* AS  356</td>\n      <td>C*</td>\n      <td>Ce</td>\n      <td>Gaia DR3 2022999316661190272</td>\n      <td>C* 2728|ASAS J192314+2427.7|Case  452|CGCS 425...</td>\n      <td>C*|Mi*|LP*|LP*|LP*|LP*|V*|EmO|NIR|MIR|C*|Em*|*...</td>\n      <td>2022999316661190272</td>\n    </tr>\n  </tbody>\n</table>\n</div>"
     },
     "execution_count": 9,
     "metadata": {},
     "output_type": "execute_result"
    }
   ],
   "source": [
    "# Quedarse solo con las filas que no están en el otro DataFrame\n",
    "df_filtered = df_result.merge(df2, left_on=['MAIN_ID'], right_on=['MAIN_ID'], how='left', indicator=True)\n",
    "df_filtered = df_filtered[df_filtered['_merge'] == 'left_only']\n",
    "df_filtered = df_filtered.iloc[:, :8]\n",
    "df_filtered.columns = df_result.columns\n",
    "\n",
    "# Imprimir el resultado\n",
    "df_filtered"
   ],
   "metadata": {
    "collapsed": false
   }
  },
  {
   "cell_type": "markdown",
   "source": [
    "# Remove trained NP"
   ],
   "metadata": {
    "collapsed": false
   }
  },
  {
   "cell_type": "code",
   "execution_count": 10,
   "outputs": [
    {
     "data": {
      "text/plain": "       MAIN_ID         OTYPE SP_TYPE                      ID_Gaia  \\\n0    PN M  1-1  PlanetaryNeb     NaN  Gaia DR3 405830570741274752   \n1   PN Vy  1-1  PlanetaryNeb    [WC]  Gaia DR2 419326659360627968   \n2        M  76  PlanetaryNeb     DOZ  Gaia DR2 406328439057955968   \n3  PN HDW    3  PlanetaryNeb   DAO.6  Gaia DR2 241918950690107264   \n4    SH  2-188  PlanetaryNeb   DAO.6  Gaia DR2 509206447837376128   \n\n                                                 IDS  \\\n0  PN G130.3-11.7|GSC2 N3302101150|GSC 03286-0032...   \n1  PN VV    2|GSC2 N311023078|IRAS 00160+5335|2MA...   \n2  M  76|BWE 0139+5119|CSI+51-01391|GB6 B0139+511...   \n3  PN G149.4-09.2|GSC2 N333121333134|PK 149-09  1...   \n4  LBN 128.04-04.12|GSC2 N311302026110|LBN   633|...   \n\n                     OTYPES            Gaia DR3  \n0      PN|MIR|NIR|PN|*|G|IR  405830570741274752  \n1              PN|PN|*|G|IR  419326659360627968  \n2        PN|PN|WD*|*|IR|Rad  406328443354164480  \n3       PN|NIR|WD*|PN|*|WD?  241918950690107264  \n4  WD*|PN|HII|*|ISM|Rad|WD?  509206447837376128  ",
      "text/html": "<div>\n<style scoped>\n    .dataframe tbody tr th:only-of-type {\n        vertical-align: middle;\n    }\n\n    .dataframe tbody tr th {\n        vertical-align: top;\n    }\n\n    .dataframe thead th {\n        text-align: right;\n    }\n</style>\n<table border=\"1\" class=\"dataframe\">\n  <thead>\n    <tr style=\"text-align: right;\">\n      <th></th>\n      <th>MAIN_ID</th>\n      <th>OTYPE</th>\n      <th>SP_TYPE</th>\n      <th>ID_Gaia</th>\n      <th>IDS</th>\n      <th>OTYPES</th>\n      <th>Gaia DR3</th>\n    </tr>\n  </thead>\n  <tbody>\n    <tr>\n      <th>0</th>\n      <td>PN M  1-1</td>\n      <td>PlanetaryNeb</td>\n      <td>NaN</td>\n      <td>Gaia DR3 405830570741274752</td>\n      <td>PN G130.3-11.7|GSC2 N3302101150|GSC 03286-0032...</td>\n      <td>PN|MIR|NIR|PN|*|G|IR</td>\n      <td>405830570741274752</td>\n    </tr>\n    <tr>\n      <th>1</th>\n      <td>PN Vy  1-1</td>\n      <td>PlanetaryNeb</td>\n      <td>[WC]</td>\n      <td>Gaia DR2 419326659360627968</td>\n      <td>PN VV    2|GSC2 N311023078|IRAS 00160+5335|2MA...</td>\n      <td>PN|PN|*|G|IR</td>\n      <td>419326659360627968</td>\n    </tr>\n    <tr>\n      <th>2</th>\n      <td>M  76</td>\n      <td>PlanetaryNeb</td>\n      <td>DOZ</td>\n      <td>Gaia DR2 406328439057955968</td>\n      <td>M  76|BWE 0139+5119|CSI+51-01391|GB6 B0139+511...</td>\n      <td>PN|PN|WD*|*|IR|Rad</td>\n      <td>406328443354164480</td>\n    </tr>\n    <tr>\n      <th>3</th>\n      <td>PN HDW    3</td>\n      <td>PlanetaryNeb</td>\n      <td>DAO.6</td>\n      <td>Gaia DR2 241918950690107264</td>\n      <td>PN G149.4-09.2|GSC2 N333121333134|PK 149-09  1...</td>\n      <td>PN|NIR|WD*|PN|*|WD?</td>\n      <td>241918950690107264</td>\n    </tr>\n    <tr>\n      <th>4</th>\n      <td>SH  2-188</td>\n      <td>PlanetaryNeb</td>\n      <td>DAO.6</td>\n      <td>Gaia DR2 509206447837376128</td>\n      <td>LBN 128.04-04.12|GSC2 N311302026110|LBN   633|...</td>\n      <td>WD*|PN|HII|*|ISM|Rad|WD?</td>\n      <td>509206447837376128</td>\n    </tr>\n  </tbody>\n</table>\n</div>"
     },
     "execution_count": 10,
     "metadata": {},
     "output_type": "execute_result"
    }
   ],
   "source": [
    "df2 = pd.read_csv('../symbad/NP.csv')\n",
    "df2.head(5)"
   ],
   "metadata": {
    "collapsed": false
   }
  },
  {
   "cell_type": "code",
   "execution_count": 11,
   "outputs": [
    {
     "data": {
      "text/plain": "  FIND_NAME        MAIN_ID         OTYPE   SP_TYPE  \\\n0    StHa55  EM* StHA   55          Mira             \n4    ZZ Cmi      V* ZZ CMi  LongPeriodV*  M6I-IIep   \n5   V335Vul    EM* AS  356            C*        Ce   \n\n                        ID_Gaia  \\\n0  Gaia DR3 3321366590173335424   \n4  Gaia DR3 3155368612444708096   \n5  Gaia DR3 2022999316661190272   \n\n                                                 IDS  \\\n0  IRAS 05440+0642|ASAS J054642+0643.7|ASAS J0546...   \n4  BD+09  1633|AN  306.1934|DO  2156|GCRV  4915|G...   \n5  C* 2728|ASAS J192314+2427.7|Case  452|CGCS 425...   \n\n                                              OTYPES             Gaia DR3  \n0  Mi*|LP*|V*|LP*|SB*|LP*|MIR|V*|Em*|NIR|*|C*?|IR...  3321366590173335424  \n4                                LP*|NIR|V*|*|IR|LP?  3155368612444708096  \n5  C*|Mi*|LP*|LP*|LP*|LP*|V*|EmO|NIR|MIR|C*|Em*|*...  2022999316661190272  ",
      "text/html": "<div>\n<style scoped>\n    .dataframe tbody tr th:only-of-type {\n        vertical-align: middle;\n    }\n\n    .dataframe tbody tr th {\n        vertical-align: top;\n    }\n\n    .dataframe thead th {\n        text-align: right;\n    }\n</style>\n<table border=\"1\" class=\"dataframe\">\n  <thead>\n    <tr style=\"text-align: right;\">\n      <th></th>\n      <th>FIND_NAME</th>\n      <th>MAIN_ID</th>\n      <th>OTYPE</th>\n      <th>SP_TYPE</th>\n      <th>ID_Gaia</th>\n      <th>IDS</th>\n      <th>OTYPES</th>\n      <th>Gaia DR3</th>\n    </tr>\n  </thead>\n  <tbody>\n    <tr>\n      <th>0</th>\n      <td>StHa55</td>\n      <td>EM* StHA   55</td>\n      <td>Mira</td>\n      <td></td>\n      <td>Gaia DR3 3321366590173335424</td>\n      <td>IRAS 05440+0642|ASAS J054642+0643.7|ASAS J0546...</td>\n      <td>Mi*|LP*|V*|LP*|SB*|LP*|MIR|V*|Em*|NIR|*|C*?|IR...</td>\n      <td>3321366590173335424</td>\n    </tr>\n    <tr>\n      <th>4</th>\n      <td>ZZ Cmi</td>\n      <td>V* ZZ CMi</td>\n      <td>LongPeriodV*</td>\n      <td>M6I-IIep</td>\n      <td>Gaia DR3 3155368612444708096</td>\n      <td>BD+09  1633|AN  306.1934|DO  2156|GCRV  4915|G...</td>\n      <td>LP*|NIR|V*|*|IR|LP?</td>\n      <td>3155368612444708096</td>\n    </tr>\n    <tr>\n      <th>5</th>\n      <td>V335Vul</td>\n      <td>EM* AS  356</td>\n      <td>C*</td>\n      <td>Ce</td>\n      <td>Gaia DR3 2022999316661190272</td>\n      <td>C* 2728|ASAS J192314+2427.7|Case  452|CGCS 425...</td>\n      <td>C*|Mi*|LP*|LP*|LP*|LP*|V*|EmO|NIR|MIR|C*|Em*|*...</td>\n      <td>2022999316661190272</td>\n    </tr>\n  </tbody>\n</table>\n</div>"
     },
     "execution_count": 11,
     "metadata": {},
     "output_type": "execute_result"
    }
   ],
   "source": [
    "# Quedarse solo con las filas que no están en el otro DataFrame\n",
    "df_filtered = df_filtered.merge(df2, left_on=['MAIN_ID'], right_on=['MAIN_ID'], how='left', indicator=True)\n",
    "df_filtered = df_filtered[df_filtered['_merge'] == 'left_only']\n",
    "df_filtered = df_filtered.iloc[:, :8]\n",
    "df_filtered.columns = df_result.columns\n",
    "\n",
    "# Imprimir el resultado\n",
    "df_filtered"
   ],
   "metadata": {
    "collapsed": false
   }
  },
  {
   "cell_type": "markdown",
   "source": [
    "# Remove trained RG"
   ],
   "metadata": {
    "collapsed": false
   }
  },
  {
   "cell_type": "code",
   "execution_count": 12,
   "outputs": [
    {
     "data": {
      "text/plain": "                   MAIN_ID OTYPE SP_TYPE                      ID_Gaia  \\\n0  2MASS J00373747+4938540  RGB*     NaN  Gaia DR2 391445694478549888   \n1              BD+50   106  RGB*      K2  Gaia DR2 415592206774201088   \n2                HD 232231  RGB*     NaN  Gaia DR2 415566471330378880   \n3  2MASS J00320053+5054594  RGB*     NaN  Gaia DR2 415760191535983744   \n4  2MASS J00300458+5111384  RGB*     NaN  Gaia DR2 415822210863310336   \n\n                                                 IDS     OTYPES  \\\n0  TYC 3257-1046-1|AP J00373747+4938540|GSC 03257...  RG*|NIR|*   \n1  BD+50   106|AG+50   53|AP J00355436+5105191|GS...  RG*|NIR|*   \n2  HD 232231|AG+50   56|AP J00370160+5041350|BD+4...  RG*|NIR|*   \n3  TYC 3260-1281-1|AP J00320053+5054594|GSC 03260...  RG*|NIR|*   \n4  TYC 3260-1485-1|AP J00300458+5111384|GSC 03260...  RG*|NIR|*   \n\n             Gaia DR3  \n0  391445694478549888  \n1  415592206774201088  \n2  415566471330378880  \n3  415760191535983744  \n4  415822210863310336  ",
      "text/html": "<div>\n<style scoped>\n    .dataframe tbody tr th:only-of-type {\n        vertical-align: middle;\n    }\n\n    .dataframe tbody tr th {\n        vertical-align: top;\n    }\n\n    .dataframe thead th {\n        text-align: right;\n    }\n</style>\n<table border=\"1\" class=\"dataframe\">\n  <thead>\n    <tr style=\"text-align: right;\">\n      <th></th>\n      <th>MAIN_ID</th>\n      <th>OTYPE</th>\n      <th>SP_TYPE</th>\n      <th>ID_Gaia</th>\n      <th>IDS</th>\n      <th>OTYPES</th>\n      <th>Gaia DR3</th>\n    </tr>\n  </thead>\n  <tbody>\n    <tr>\n      <th>0</th>\n      <td>2MASS J00373747+4938540</td>\n      <td>RGB*</td>\n      <td>NaN</td>\n      <td>Gaia DR2 391445694478549888</td>\n      <td>TYC 3257-1046-1|AP J00373747+4938540|GSC 03257...</td>\n      <td>RG*|NIR|*</td>\n      <td>391445694478549888</td>\n    </tr>\n    <tr>\n      <th>1</th>\n      <td>BD+50   106</td>\n      <td>RGB*</td>\n      <td>K2</td>\n      <td>Gaia DR2 415592206774201088</td>\n      <td>BD+50   106|AG+50   53|AP J00355436+5105191|GS...</td>\n      <td>RG*|NIR|*</td>\n      <td>415592206774201088</td>\n    </tr>\n    <tr>\n      <th>2</th>\n      <td>HD 232231</td>\n      <td>RGB*</td>\n      <td>NaN</td>\n      <td>Gaia DR2 415566471330378880</td>\n      <td>HD 232231|AG+50   56|AP J00370160+5041350|BD+4...</td>\n      <td>RG*|NIR|*</td>\n      <td>415566471330378880</td>\n    </tr>\n    <tr>\n      <th>3</th>\n      <td>2MASS J00320053+5054594</td>\n      <td>RGB*</td>\n      <td>NaN</td>\n      <td>Gaia DR2 415760191535983744</td>\n      <td>TYC 3260-1281-1|AP J00320053+5054594|GSC 03260...</td>\n      <td>RG*|NIR|*</td>\n      <td>415760191535983744</td>\n    </tr>\n    <tr>\n      <th>4</th>\n      <td>2MASS J00300458+5111384</td>\n      <td>RGB*</td>\n      <td>NaN</td>\n      <td>Gaia DR2 415822210863310336</td>\n      <td>TYC 3260-1485-1|AP J00300458+5111384|GSC 03260...</td>\n      <td>RG*|NIR|*</td>\n      <td>415822210863310336</td>\n    </tr>\n  </tbody>\n</table>\n</div>"
     },
     "execution_count": 12,
     "metadata": {},
     "output_type": "execute_result"
    }
   ],
   "source": [
    "df2 = pd.read_csv('../symbad/RG.csv')\n",
    "df2.head(5)"
   ],
   "metadata": {
    "collapsed": false
   }
  },
  {
   "cell_type": "code",
   "execution_count": 13,
   "outputs": [
    {
     "data": {
      "text/plain": "  FIND_NAME        MAIN_ID         OTYPE   SP_TYPE  \\\n0    StHa55  EM* StHA   55          Mira             \n1    ZZ Cmi      V* ZZ CMi  LongPeriodV*  M6I-IIep   \n2   V335Vul    EM* AS  356            C*        Ce   \n\n                        ID_Gaia  \\\n0  Gaia DR3 3321366590173335424   \n1  Gaia DR3 3155368612444708096   \n2  Gaia DR3 2022999316661190272   \n\n                                                 IDS  \\\n0  IRAS 05440+0642|ASAS J054642+0643.7|ASAS J0546...   \n1  BD+09  1633|AN  306.1934|DO  2156|GCRV  4915|G...   \n2  C* 2728|ASAS J192314+2427.7|Case  452|CGCS 425...   \n\n                                              OTYPES             Gaia DR3  \n0  Mi*|LP*|V*|LP*|SB*|LP*|MIR|V*|Em*|NIR|*|C*?|IR...  3321366590173335424  \n1                                LP*|NIR|V*|*|IR|LP?  3155368612444708096  \n2  C*|Mi*|LP*|LP*|LP*|LP*|V*|EmO|NIR|MIR|C*|Em*|*...  2022999316661190272  ",
      "text/html": "<div>\n<style scoped>\n    .dataframe tbody tr th:only-of-type {\n        vertical-align: middle;\n    }\n\n    .dataframe tbody tr th {\n        vertical-align: top;\n    }\n\n    .dataframe thead th {\n        text-align: right;\n    }\n</style>\n<table border=\"1\" class=\"dataframe\">\n  <thead>\n    <tr style=\"text-align: right;\">\n      <th></th>\n      <th>FIND_NAME</th>\n      <th>MAIN_ID</th>\n      <th>OTYPE</th>\n      <th>SP_TYPE</th>\n      <th>ID_Gaia</th>\n      <th>IDS</th>\n      <th>OTYPES</th>\n      <th>Gaia DR3</th>\n    </tr>\n  </thead>\n  <tbody>\n    <tr>\n      <th>0</th>\n      <td>StHa55</td>\n      <td>EM* StHA   55</td>\n      <td>Mira</td>\n      <td></td>\n      <td>Gaia DR3 3321366590173335424</td>\n      <td>IRAS 05440+0642|ASAS J054642+0643.7|ASAS J0546...</td>\n      <td>Mi*|LP*|V*|LP*|SB*|LP*|MIR|V*|Em*|NIR|*|C*?|IR...</td>\n      <td>3321366590173335424</td>\n    </tr>\n    <tr>\n      <th>1</th>\n      <td>ZZ Cmi</td>\n      <td>V* ZZ CMi</td>\n      <td>LongPeriodV*</td>\n      <td>M6I-IIep</td>\n      <td>Gaia DR3 3155368612444708096</td>\n      <td>BD+09  1633|AN  306.1934|DO  2156|GCRV  4915|G...</td>\n      <td>LP*|NIR|V*|*|IR|LP?</td>\n      <td>3155368612444708096</td>\n    </tr>\n    <tr>\n      <th>2</th>\n      <td>V335Vul</td>\n      <td>EM* AS  356</td>\n      <td>C*</td>\n      <td>Ce</td>\n      <td>Gaia DR3 2022999316661190272</td>\n      <td>C* 2728|ASAS J192314+2427.7|Case  452|CGCS 425...</td>\n      <td>C*|Mi*|LP*|LP*|LP*|LP*|V*|EmO|NIR|MIR|C*|Em*|*...</td>\n      <td>2022999316661190272</td>\n    </tr>\n  </tbody>\n</table>\n</div>"
     },
     "execution_count": 13,
     "metadata": {},
     "output_type": "execute_result"
    }
   ],
   "source": [
    "# Quedarse solo con las filas que no están en el otro DataFrame\n",
    "df_filtered = df_filtered.merge(df2, left_on=['MAIN_ID'], right_on=['MAIN_ID'], how='left', indicator=True)\n",
    "df_filtered = df_filtered[df_filtered['_merge'] == 'left_only']\n",
    "df_filtered = df_filtered.iloc[:, :8]\n",
    "df_filtered.columns = df_result.columns\n",
    "\n",
    "# Imprimir el resultado\n",
    "df_filtered"
   ],
   "metadata": {
    "collapsed": false
   }
  },
  {
   "cell_type": "code",
   "execution_count": 14,
   "outputs": [],
   "source": [
    "out_name = 'suspected_news.csv'\n",
    "out_dir = './symbad'\n",
    "if not os.path.exists(out_dir):\n",
    "    os.mkdir(out_dir)\n",
    "\n",
    "fullname = os.path.join(out_dir, out_name)\n",
    "df_filtered.to_csv(fullname, header=True, index=False)"
   ],
   "metadata": {
    "collapsed": false
   }
  },
  {
   "cell_type": "markdown",
   "source": [
    "# Remove no found stars"
   ],
   "metadata": {
    "collapsed": false
   }
  },
  {
   "cell_type": "code",
   "execution_count": 15,
   "outputs": [],
   "source": [
    "df_filtered = df_filtered[df_filtered['MAIN_ID'].str.len() > 0]\n",
    "df_filtered = df_filtered.dropna(subset=['Gaia DR3'])\n",
    "\n",
    "out_name = 'suspected_dataset.csv'\n",
    "out_dir = './built_dataset'\n",
    "if not os.path.exists(out_dir):\n",
    "    os.mkdir(out_dir)\n",
    "\n",
    "fullname = os.path.join(out_dir, out_name)\n",
    "df_filtered.to_csv(fullname, header=True, index=False)"
   ],
   "metadata": {
    "collapsed": false
   }
  },
  {
   "cell_type": "code",
   "execution_count": null,
   "outputs": [],
   "source": [],
   "metadata": {
    "collapsed": false
   }
  }
 ],
 "metadata": {
  "kernelspec": {
   "display_name": "Python 3",
   "language": "python",
   "name": "python3"
  },
  "language_info": {
   "codemirror_mode": {
    "name": "ipython",
    "version": 2
   },
   "file_extension": ".py",
   "mimetype": "text/x-python",
   "name": "python",
   "nbconvert_exporter": "python",
   "pygments_lexer": "ipython2",
   "version": "2.7.6"
  }
 },
 "nbformat": 4,
 "nbformat_minor": 0
}
