{
 "cells": [
  {
   "cell_type": "code",
   "execution_count": 1,
   "outputs": [],
   "source": [
    "import pandas as pd\n",
    "from astroquery.gaia import Gaia\n",
    "import zipfile\n",
    "import os\n",
    "# Import the tool\n",
    "from gaiaxpy import calibrate"
   ],
   "metadata": {
    "collapsed": false
   }
  },
  {
   "cell_type": "markdown",
   "source": [
    "## Download Suspected Symbiotic Stars (GAIA)"
   ],
   "metadata": {
    "collapsed": false
   }
  },
  {
   "cell_type": "code",
   "execution_count": 2,
   "outputs": [],
   "source": [
    "df1 = pd.read_csv(\"./symbad/suspected.csv\")\n",
    "ids = df1['Gaia DR3'].astype(str).values"
   ],
   "metadata": {
    "collapsed": false
   }
  },
  {
   "cell_type": "code",
   "execution_count": 3,
   "outputs": [
    {
     "name": "stderr",
     "output_type": "stream",
     "text": [
      "ERROR: Path C:\\Users\\orest\\DATA\\Maestría\\projects\\gaiaDR3ML\\new\\other_stars\\gaia already exist [astroquery.gaia.core]\n",
      "WARNING: OverflowError converting to IntType in column source_id, reverting to String. [astropy.io.ascii.core]\n",
      "WARNING: OverflowError converting to IntType in column solution_id, reverting to String. [astropy.io.ascii.core]\n"
     ]
    },
    {
     "data": {
      "text/plain": "{'XP_CONTINUOUS_COMBINED.csv': [<Table length=7>\n       source_id          solution_id     ... rp_relative_shrinking\n         str19               str19        ...        float64       \n  ------------------- ------------------- ... ---------------------\n  3321366590173335424 4545469030156206080 ...            0.99825436\n  4557410314849153920 4545469030156206080 ...             0.9999397\n  2022052808961769088 4545469030156206081 ...             0.9999997\n  4052553745525657600 4545469030156206081 ...             0.9999993\n  4050670827750135040 4545469030156206081 ...            0.99718446\n  5961347541020297856 4545469030156206081 ...              0.999993\n  2022999316661190272 4545469030156206081 ...              0.999344]}"
     },
     "execution_count": 3,
     "metadata": {},
     "output_type": "execute_result"
    }
   ],
   "source": [
    "out_dir = './gaia'\n",
    "if not os.path.exists(out_dir):\n",
    "    os.mkdir(out_dir)\n",
    "fullname = os.path.join(out_dir, \"NP_XP_CONTINUOUS_COMBINED.zip\")\n",
    "\n",
    "Gaia.load_data(\n",
    "    ids=ids,\n",
    "    format='csv',\n",
    "    data_release='Gaia DR3',\n",
    "    data_structure='COMBINED',\n",
    "    retrieval_type='XP_CONTINUOUS',\n",
    "    output_file=fullname,\n",
    "    overwrite_output_file=True,\n",
    "    verbose=False\n",
    ")\n"
   ],
   "metadata": {
    "collapsed": false
   }
  },
  {
   "cell_type": "markdown",
   "source": [
    "# Extract Data"
   ],
   "metadata": {
    "collapsed": false
   }
  },
  {
   "cell_type": "code",
   "execution_count": 4,
   "outputs": [],
   "source": [
    "zip_file_path = \"./gaia/NP_XP_CONTINUOUS_COMBINED.zip\"\n",
    "\n",
    "with zipfile.ZipFile(zip_file_path, 'r') as zip_ref:\n",
    "    zip_ref.extractall(\"./gaia\")"
   ],
   "metadata": {
    "collapsed": false
   }
  },
  {
   "cell_type": "markdown",
   "source": [
    "# Load and Calibrate Data"
   ],
   "metadata": {
    "collapsed": false
   }
  },
  {
   "cell_type": "code",
   "execution_count": 5,
   "outputs": [
    {
     "name": "stderr",
     "output_type": "stream",
     "text": [
      "                                                        0/7 [00:00<?, ?spec/s]\r"
     ]
    }
   ],
   "source": [
    "out_dir = './calibrated_data'\n",
    "if not os.path.exists(out_dir):\n",
    "    os.mkdir(out_dir)\n",
    "fullname = os.path.join(out_dir, \"Suspected.csv\")\n",
    "\n",
    "df1 = pd.read_csv(\"./gaia/XP_CONTINUOUS_COMBINED.csv\")\n",
    "\n",
    "calibrated_spectra, sampling = calibrate(df1, save_file=False)\n",
    "# calibrated_spectra\n",
    "calibrated_spectra.to_csv(fullname, header=True, index=False)"
   ],
   "metadata": {
    "collapsed": false
   }
  },
  {
   "cell_type": "code",
   "execution_count": null,
   "outputs": [],
   "source": [],
   "metadata": {
    "collapsed": false
   }
  }
 ],
 "metadata": {
  "kernelspec": {
   "display_name": "Python 3",
   "language": "python",
   "name": "python3"
  },
  "language_info": {
   "codemirror_mode": {
    "name": "ipython",
    "version": 2
   },
   "file_extension": ".py",
   "mimetype": "text/x-python",
   "name": "python",
   "nbconvert_exporter": "python",
   "pygments_lexer": "ipython2",
   "version": "2.7.6"
  }
 },
 "nbformat": 4,
 "nbformat_minor": 0
}
