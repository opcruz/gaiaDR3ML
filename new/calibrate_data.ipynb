{
 "cells": [
  {
   "cell_type": "code",
   "execution_count": 1,
   "outputs": [],
   "source": [
    "import pandas as pd\n",
    "import zipfile\n",
    "import os\n",
    "# Import the tool\n",
    "from gaiaxpy import calibrate"
   ],
   "metadata": {
    "collapsed": false
   }
  },
  {
   "cell_type": "code",
   "execution_count": 2,
   "outputs": [],
   "source": [
    "def extract_zip(zip_file_path):\n",
    "    with zipfile.ZipFile(zip_file_path, 'r') as zip_ref:\n",
    "        zip_ref.extractall(\"./temp\")"
   ],
   "metadata": {
    "collapsed": false
   }
  },
  {
   "cell_type": "markdown",
   "source": [
    "## Calibrate Planetary Nebulae (GAIA)"
   ],
   "metadata": {
    "collapsed": false
   }
  },
  {
   "cell_type": "code",
   "execution_count": 3,
   "outputs": [
    {
     "name": "stderr",
     "output_type": "stream",
     "text": [
      "                                                                     1<00:00, 474.28spec/s]\r"
     ]
    }
   ],
   "source": [
    "out_dir = './calibrated_data'\n",
    "if not os.path.exists(out_dir):\n",
    "    os.mkdir(out_dir)\n",
    "fullname = os.path.join(out_dir, \"NP.csv\")\n",
    "\n",
    "\n",
    "extract_zip(\"./gaia/NP_XP_CONTINUOUS_COMBINED.zip\")\n",
    "df1 = pd.read_csv(\"./temp/XP_CONTINUOUS_COMBINED.csv\")\n",
    "\n",
    "# El espectro calibrado que es un objeto de tipo pandas DataFrame (calibrated_spectra)\n",
    "calibrated_spectra, sampling = calibrate(df1, save_file=False)\n",
    "# calibrated_spectra\n",
    "calibrated_spectra.to_csv(fullname, header=True, index=False)"
   ],
   "metadata": {
    "collapsed": false
   }
  },
  {
   "cell_type": "markdown",
   "source": [
    "## Calibrate Symbiotic Stars (GAIA)"
   ],
   "metadata": {
    "collapsed": false
   }
  },
  {
   "cell_type": "code",
   "execution_count": 11,
   "outputs": [
    {
     "name": "stderr",
     "output_type": "stream",
     "text": [
      "                                                                     0<00:00, 460.23spec/s]\r"
     ]
    }
   ],
   "source": [
    "out_dir = './calibrated_data'\n",
    "if not os.path.exists(out_dir):\n",
    "    os.mkdir(out_dir)\n",
    "fullname = os.path.join(out_dir, \"SY.csv\")\n",
    "\n",
    "extract_zip(\"./gaia/SY_XP_CONTINUOUS_COMBINED.zip\")\n",
    "df1 = pd.read_csv(\"./temp/XP_CONTINUOUS_COMBINED.csv\")\n",
    "\n",
    "# El espectro calibrado que es un objeto de tipo pandas DataFrame (calibrated_spectra)\n",
    "calibrated_spectra, sampling = calibrate(df1, save_file=False)\n",
    "# calibrated_spectra\n",
    "calibrated_spectra.to_csv(fullname, header=True, index=False)"
   ],
   "metadata": {
    "collapsed": false
   }
  },
  {
   "cell_type": "markdown",
   "source": [
    "## Calibrate Red Giants (GAIA)"
   ],
   "metadata": {
    "collapsed": false
   }
  },
  {
   "cell_type": "code",
   "execution_count": 16,
   "outputs": [
    {
     "name": "stderr",
     "output_type": "stream",
     "text": [
      "                                                                     0<00:00, 421.94spec/s]s]\r"
     ]
    }
   ],
   "source": [
    "out_dir = './calibrated_data'\n",
    "if not os.path.exists(out_dir):\n",
    "    os.mkdir(out_dir)\n",
    "fullname = os.path.join(out_dir, \"RG.csv\")\n",
    "\n",
    "df_result = []\n",
    "for i in range(0, 17):\n",
    "    file = \"./gaia/RG{0}_XP_CONTINUOUS_COMBINED.zip\".format(i)\n",
    "    extract_zip(file)\n",
    "    df1 = pd.read_csv(\"./temp/XP_CONTINUOUS_COMBINED.csv\")\n",
    "    calibrated_spectra, sampling = calibrate(df1, save_file=False)\n",
    "    df_result.append(calibrated_spectra)\n",
    "\n",
    "result = pd.concat(df_result)\n",
    "result.to_csv(fullname, header=True, index=False)"
   ],
   "metadata": {
    "collapsed": false
   }
  },
  {
   "cell_type": "code",
   "execution_count": 34,
   "outputs": [
    {
     "data": {
      "text/plain": "0    [4.758071590610774e-16, 5.161129082838449e-16,...\n0    [1.7517582942156604e-18, 2.339463111618986e-18...\n0    [1.1291279177705313e-18, 1.5532791173871643e-1...\n0    [1.1749497990135248e-17, 9.664531007559814e-18...\n0    [2.3475789668409185e-17, 2.3692445246007574e-1...\n0    [1.2552946316323368e-17, 7.652541475488186e-18...\n0    [8.046608124822023e-17, 6.398486912440017e-17,...\n0    [2.539567779224838e-17, 2.6459889173111485e-17...\n0    [1.3590390444607835e-16, 1.209534942530362e-16...\n0    [6.420444798838698e-17, 5.976881933756944e-17,...\n0    [9.31831377997687e-19, 3.487861714444735e-18, ...\n0    [4.1598112602489957e-19, 2.3948662613837954e-1...\n0    [6.919466984377789e-16, 6.281671497979218e-16,...\n0    [3.491981243968456e-17, 3.679603591351378e-17,...\n0    [-3.0878980971143844e-19, 2.5206590677832623e-...\n0    [4.0733038141041335e-18, 1.4244017734897248e-1...\n0    [2.038628435276565e-18, 2.045552483617031e-20,...\nName: flux, dtype: object"
     },
     "execution_count": 34,
     "metadata": {},
     "output_type": "execute_result"
    }
   ],
   "source": [
    "result['flux'][0]"
   ],
   "metadata": {
    "collapsed": false
   }
  },
  {
   "cell_type": "code",
   "execution_count": null,
   "outputs": [],
   "source": [],
   "metadata": {
    "collapsed": false
   }
  }
 ],
 "metadata": {
  "kernelspec": {
   "display_name": "Python 3",
   "language": "python",
   "name": "python3"
  },
  "language_info": {
   "codemirror_mode": {
    "name": "ipython",
    "version": 2
   },
   "file_extension": ".py",
   "mimetype": "text/x-python",
   "name": "python",
   "nbconvert_exporter": "python",
   "pygments_lexer": "ipython2",
   "version": "2.7.6"
  }
 },
 "nbformat": 4,
 "nbformat_minor": 0
}
