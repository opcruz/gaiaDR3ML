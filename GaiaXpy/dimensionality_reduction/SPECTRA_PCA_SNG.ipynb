{
 "cells": [
  {
   "cell_type": "code",
   "execution_count": 16,
   "metadata": {
    "collapsed": true,
    "ExecuteTime": {
     "start_time": "2023-04-23T18:24:29.050855Z",
     "end_time": "2023-04-23T18:24:29.183305Z"
    }
   },
   "outputs": [],
   "source": [
    "import pandas as pd\n",
    "import tensorflow as tf\n",
    "from sklearn.model_selection import train_test_split\n",
    "from sklearn.preprocessing import LabelEncoder\n",
    "import matplotlib.pyplot as plt\n",
    "\n",
    "# cargar los datos\n",
    "df = pd.read_csv('spectra_pca_SNG.csv')\n",
    "\n",
    "# separar las características (X) y la etiqueta (y)\n",
    "X = df.drop('id', axis=1)\n",
    "y = df['id']\n",
    "\n",
    "# codificar la etiqueta (y)\n",
    "encoder = LabelEncoder()\n",
    "y = encoder.fit_transform(y)\n",
    "\n",
    "# dividir el conjunto de datos en entrenamiento y prueba\n",
    "X_train, X_test, y_train, y_test = train_test_split(X, y, test_size=0.2, random_state=1, stratify=y)\n"
   ]
  },
  {
   "cell_type": "code",
   "execution_count": 17,
   "outputs": [
    {
     "data": {
      "text/plain": "array([1, 2, 3], dtype=int64)"
     },
     "execution_count": 17,
     "metadata": {},
     "output_type": "execute_result"
    }
   ],
   "source": [
    "df['id'].unique()"
   ],
   "metadata": {
    "collapsed": false,
    "ExecuteTime": {
     "start_time": "2023-04-23T18:24:30.322823Z",
     "end_time": "2023-04-23T18:24:30.353118Z"
    }
   }
  },
  {
   "cell_type": "code",
   "execution_count": 18,
   "outputs": [],
   "source": [
    "# crear el modelo\n",
    "model = tf.keras.models.Sequential([\n",
    "  tf.keras.layers.Dense(64, activation='relu'),\n",
    "  tf.keras.layers.Dropout(0.4),\n",
    "  tf.keras.layers.Dense(32, activation='relu'),\n",
    "  tf.keras.layers.Dropout(0.3),\n",
    "  tf.keras.layers.Dense(3, activation='softmax')\n",
    "])\n",
    "\n",
    "# compilar el modelo\n",
    "model.compile(optimizer='adam',\n",
    "              loss='sparse_categorical_crossentropy',\n",
    "              metrics=['accuracy'])\n",
    "\n"
   ],
   "metadata": {
    "collapsed": false,
    "ExecuteTime": {
     "start_time": "2023-04-23T18:24:31.418724Z",
     "end_time": "2023-04-23T18:24:31.448810Z"
    }
   }
  },
  {
   "cell_type": "code",
   "execution_count": 19,
   "outputs": [
    {
     "name": "stdout",
     "output_type": "stream",
     "text": [
      "Epoch 1/50\n",
      "319/319 [==============================] - 2s 5ms/step - loss: 0.3586 - accuracy: 0.9141 - val_loss: 0.2442 - val_accuracy: 0.9517\n",
      "Epoch 2/50\n",
      "319/319 [==============================] - 1s 3ms/step - loss: 0.2626 - accuracy: 0.9517 - val_loss: 0.2395 - val_accuracy: 0.9517\n",
      "Epoch 3/50\n",
      "319/319 [==============================] - 1s 3ms/step - loss: 0.2500 - accuracy: 0.9516 - val_loss: 0.2303 - val_accuracy: 0.9517\n",
      "Epoch 4/50\n",
      "319/319 [==============================] - 1s 3ms/step - loss: 0.2394 - accuracy: 0.9515 - val_loss: 0.2220 - val_accuracy: 0.9517\n",
      "Epoch 5/50\n",
      "319/319 [==============================] - 1s 3ms/step - loss: 0.2288 - accuracy: 0.9517 - val_loss: 0.2073 - val_accuracy: 0.9517\n",
      "Epoch 6/50\n",
      "319/319 [==============================] - 1s 3ms/step - loss: 0.2086 - accuracy: 0.9527 - val_loss: 0.1780 - val_accuracy: 0.9521\n",
      "Epoch 7/50\n",
      "319/319 [==============================] - 1s 3ms/step - loss: 0.1838 - accuracy: 0.9549 - val_loss: 0.1495 - val_accuracy: 0.9553\n",
      "Epoch 8/50\n",
      "319/319 [==============================] - 1s 3ms/step - loss: 0.1588 - accuracy: 0.9595 - val_loss: 0.1256 - val_accuracy: 0.9600\n",
      "Epoch 9/50\n",
      "319/319 [==============================] - 1s 3ms/step - loss: 0.1414 - accuracy: 0.9632 - val_loss: 0.1053 - val_accuracy: 0.9655\n",
      "Epoch 10/50\n",
      "319/319 [==============================] - 1s 3ms/step - loss: 0.1236 - accuracy: 0.9670 - val_loss: 0.0915 - val_accuracy: 0.9733\n",
      "Epoch 11/50\n",
      "319/319 [==============================] - 1s 3ms/step - loss: 0.1104 - accuracy: 0.9683 - val_loss: 0.0798 - val_accuracy: 0.9772\n",
      "Epoch 12/50\n",
      "319/319 [==============================] - 1s 3ms/step - loss: 0.1067 - accuracy: 0.9707 - val_loss: 0.0748 - val_accuracy: 0.9768\n",
      "Epoch 13/50\n",
      "319/319 [==============================] - 1s 3ms/step - loss: 0.1040 - accuracy: 0.9712 - val_loss: 0.0711 - val_accuracy: 0.9800\n",
      "Epoch 14/50\n",
      "319/319 [==============================] - 1s 3ms/step - loss: 0.0955 - accuracy: 0.9726 - val_loss: 0.0663 - val_accuracy: 0.9808\n",
      "Epoch 15/50\n",
      "319/319 [==============================] - 1s 3ms/step - loss: 0.0939 - accuracy: 0.9737 - val_loss: 0.0639 - val_accuracy: 0.9808\n",
      "Epoch 16/50\n",
      "319/319 [==============================] - 1s 4ms/step - loss: 0.0888 - accuracy: 0.9753 - val_loss: 0.0614 - val_accuracy: 0.9819\n",
      "Epoch 17/50\n",
      "319/319 [==============================] - 1s 4ms/step - loss: 0.0851 - accuracy: 0.9752 - val_loss: 0.0584 - val_accuracy: 0.9827\n",
      "Epoch 18/50\n",
      "319/319 [==============================] - 1s 3ms/step - loss: 0.0823 - accuracy: 0.9760 - val_loss: 0.0562 - val_accuracy: 0.9839\n",
      "Epoch 19/50\n",
      "319/319 [==============================] - 1s 3ms/step - loss: 0.0754 - accuracy: 0.9773 - val_loss: 0.0547 - val_accuracy: 0.9855\n",
      "Epoch 20/50\n",
      "319/319 [==============================] - 1s 3ms/step - loss: 0.0708 - accuracy: 0.9782 - val_loss: 0.0511 - val_accuracy: 0.9867\n",
      "Epoch 21/50\n",
      "319/319 [==============================] - 1s 4ms/step - loss: 0.0705 - accuracy: 0.9799 - val_loss: 0.0501 - val_accuracy: 0.9874\n",
      "Epoch 22/50\n",
      "319/319 [==============================] - 1s 3ms/step - loss: 0.0661 - accuracy: 0.9808 - val_loss: 0.0503 - val_accuracy: 0.9870\n",
      "Epoch 23/50\n",
      "319/319 [==============================] - 1s 3ms/step - loss: 0.0642 - accuracy: 0.9814 - val_loss: 0.0474 - val_accuracy: 0.9886\n",
      "Epoch 24/50\n",
      "319/319 [==============================] - 1s 3ms/step - loss: 0.0629 - accuracy: 0.9813 - val_loss: 0.0462 - val_accuracy: 0.9886\n",
      "Epoch 25/50\n",
      "319/319 [==============================] - 1s 3ms/step - loss: 0.0605 - accuracy: 0.9817 - val_loss: 0.0455 - val_accuracy: 0.9902\n",
      "Epoch 26/50\n",
      "319/319 [==============================] - 1s 3ms/step - loss: 0.0540 - accuracy: 0.9824 - val_loss: 0.0453 - val_accuracy: 0.9890\n",
      "Epoch 27/50\n",
      "319/319 [==============================] - 1s 3ms/step - loss: 0.0580 - accuracy: 0.9818 - val_loss: 0.0450 - val_accuracy: 0.9898\n",
      "Epoch 28/50\n",
      "319/319 [==============================] - 1s 3ms/step - loss: 0.0529 - accuracy: 0.9838 - val_loss: 0.0429 - val_accuracy: 0.9894\n",
      "Epoch 29/50\n",
      "319/319 [==============================] - 1s 3ms/step - loss: 0.0570 - accuracy: 0.9842 - val_loss: 0.0433 - val_accuracy: 0.9898\n",
      "Epoch 30/50\n",
      "319/319 [==============================] - 1s 3ms/step - loss: 0.0540 - accuracy: 0.9849 - val_loss: 0.0427 - val_accuracy: 0.9906\n",
      "Epoch 31/50\n",
      "319/319 [==============================] - 1s 3ms/step - loss: 0.0498 - accuracy: 0.9845 - val_loss: 0.0407 - val_accuracy: 0.9910\n",
      "Epoch 32/50\n",
      "319/319 [==============================] - 1s 3ms/step - loss: 0.0492 - accuracy: 0.9848 - val_loss: 0.0431 - val_accuracy: 0.9902\n",
      "Epoch 33/50\n",
      "319/319 [==============================] - 1s 3ms/step - loss: 0.0479 - accuracy: 0.9858 - val_loss: 0.0403 - val_accuracy: 0.9914\n",
      "Epoch 34/50\n",
      "319/319 [==============================] - 1s 3ms/step - loss: 0.0452 - accuracy: 0.9857 - val_loss: 0.0412 - val_accuracy: 0.9914\n",
      "Epoch 35/50\n",
      "319/319 [==============================] - 1s 3ms/step - loss: 0.0463 - accuracy: 0.9858 - val_loss: 0.0417 - val_accuracy: 0.9910\n",
      "Epoch 36/50\n",
      "319/319 [==============================] - 1s 3ms/step - loss: 0.0418 - accuracy: 0.9874 - val_loss: 0.0383 - val_accuracy: 0.9910\n",
      "Epoch 37/50\n",
      "319/319 [==============================] - 1s 3ms/step - loss: 0.0455 - accuracy: 0.9870 - val_loss: 0.0397 - val_accuracy: 0.9914\n",
      "Epoch 38/50\n",
      "319/319 [==============================] - 1s 3ms/step - loss: 0.0455 - accuracy: 0.9854 - val_loss: 0.0375 - val_accuracy: 0.9918\n",
      "Epoch 39/50\n",
      "319/319 [==============================] - 1s 3ms/step - loss: 0.0404 - accuracy: 0.9878 - val_loss: 0.0390 - val_accuracy: 0.9910\n",
      "Epoch 40/50\n",
      "319/319 [==============================] - 1s 3ms/step - loss: 0.0410 - accuracy: 0.9886 - val_loss: 0.0372 - val_accuracy: 0.9910\n",
      "Epoch 41/50\n",
      "319/319 [==============================] - 1s 3ms/step - loss: 0.0374 - accuracy: 0.9880 - val_loss: 0.0377 - val_accuracy: 0.9910\n",
      "Epoch 42/50\n",
      "319/319 [==============================] - 1s 3ms/step - loss: 0.0407 - accuracy: 0.9879 - val_loss: 0.0366 - val_accuracy: 0.9914\n",
      "Epoch 43/50\n",
      "319/319 [==============================] - 1s 3ms/step - loss: 0.0416 - accuracy: 0.9868 - val_loss: 0.0357 - val_accuracy: 0.9914\n",
      "Epoch 44/50\n",
      "319/319 [==============================] - 1s 3ms/step - loss: 0.0386 - accuracy: 0.9882 - val_loss: 0.0348 - val_accuracy: 0.9918\n",
      "Epoch 45/50\n",
      "319/319 [==============================] - 1s 3ms/step - loss: 0.0327 - accuracy: 0.9903 - val_loss: 0.0362 - val_accuracy: 0.9918\n",
      "Epoch 46/50\n",
      "319/319 [==============================] - 1s 3ms/step - loss: 0.0391 - accuracy: 0.9882 - val_loss: 0.0366 - val_accuracy: 0.9910\n",
      "Epoch 47/50\n",
      "319/319 [==============================] - 1s 3ms/step - loss: 0.0446 - accuracy: 0.9879 - val_loss: 0.0358 - val_accuracy: 0.9914\n",
      "Epoch 48/50\n",
      "319/319 [==============================] - 1s 3ms/step - loss: 0.0400 - accuracy: 0.9882 - val_loss: 0.0372 - val_accuracy: 0.9922\n",
      "Epoch 49/50\n",
      "319/319 [==============================] - 1s 3ms/step - loss: 0.0361 - accuracy: 0.9900 - val_loss: 0.0359 - val_accuracy: 0.9898\n",
      "Epoch 50/50\n",
      "319/319 [==============================] - 1s 3ms/step - loss: 0.0341 - accuracy: 0.9901 - val_loss: 0.0357 - val_accuracy: 0.9922\n"
     ]
    }
   ],
   "source": [
    "# entrenar el modelo\n",
    "history = model.fit(X_train, y_train, epochs=50, batch_size=32, validation_data=(X_test, y_test))\n"
   ],
   "metadata": {
    "collapsed": false,
    "ExecuteTime": {
     "start_time": "2023-04-23T18:24:32.638165Z",
     "end_time": "2023-04-23T18:25:23.339915Z"
    }
   }
  },
  {
   "cell_type": "code",
   "execution_count": 20,
   "outputs": [
    {
     "data": {
      "text/plain": "<Figure size 640x480 with 1 Axes>",
      "image/png": "[encoded data removed]"
     },
     "metadata": {},
     "output_type": "display_data"
    }
   ],
   "source": [
    "# graficar la precisión de entrenamiento y prueba\n",
    "plt.plot(history.history['accuracy'], label='train')\n",
    "plt.plot(history.history['val_accuracy'], label='test')\n",
    "plt.title('Model Accuracy')\n",
    "plt.xlabel('Epoch')\n",
    "plt.ylabel('Accuracy')\n",
    "plt.legend()\n",
    "plt.show()\n"
   ],
   "metadata": {
    "collapsed": false,
    "ExecuteTime": {
     "start_time": "2023-04-23T18:25:25.327098Z",
     "end_time": "2023-04-23T18:25:25.448626Z"
    }
   }
  },
  {
   "cell_type": "code",
   "execution_count": 21,
   "outputs": [
    {
     "data": {
      "text/plain": "[<matplotlib.lines.Line2D at 0x26142fe3640>]"
     },
     "execution_count": 21,
     "metadata": {},
     "output_type": "execute_result"
    },
    {
     "data": {
      "text/plain": "<Figure size 640x480 with 1 Axes>",
      "image/png": "[encoded data removed]"
     },
     "metadata": {},
     "output_type": "display_data"
    }
   ],
   "source": [
    "plt.xlabel(\"# Epoch\")\n",
    "plt.ylabel(\"Magnitude of loss\")\n",
    "plt.plot(history.history[\"loss\"])"
   ],
   "metadata": {
    "collapsed": false,
    "ExecuteTime": {
     "start_time": "2023-04-23T18:25:27.796830Z",
     "end_time": "2023-04-23T18:25:27.902749Z"
    }
   }
  },
  {
   "cell_type": "code",
   "execution_count": 22,
   "outputs": [
    {
     "name": "stdout",
     "output_type": "stream",
     "text": [
      "nombres_etiquetas\n",
      "Planetary Nebulae    1.0\n",
      "Red Giants           2.0\n",
      "Symbiotics           0.0\n",
      "Name: codificado, dtype: float64\n"
     ]
    }
   ],
   "source": [
    "y=df['id']\n",
    "import pandas as pd\n",
    "from sklearn.preprocessing import LabelEncoder\n",
    "\n",
    "df = pd.DataFrame(y)\n",
    "encoder = LabelEncoder()\n",
    "df['codificado'] = encoder.fit_transform(df['id'])\n",
    "\n",
    "nombres_etiquetas = encoder.classes_\n",
    "nuevos_nombres = ['Symbiotics', 'Planetary Nebulae', 'Red Giants']\n",
    "nombres_etiquetas_dict = {nombres_etiquetas[i]: nuevos_nombres[i] for i in range(len(nombres_etiquetas))}\n",
    "df['nombres_etiquetas'] = df['id'].map(nombres_etiquetas_dict)\n",
    "\n",
    "df_agrupado = df.groupby('nombres_etiquetas')['codificado'].mean()\n",
    "print(df_agrupado)"
   ],
   "metadata": {
    "collapsed": false,
    "ExecuteTime": {
     "start_time": "2023-04-23T18:25:29.046047Z",
     "end_time": "2023-04-23T18:25:29.078466Z"
    }
   }
  },
  {
   "cell_type": "code",
   "execution_count": 23,
   "outputs": [
    {
     "name": "stdout",
     "output_type": "stream",
     "text": [
      "80/80 [==============================] - 0s 2ms/step\n",
      "[[  24    3   11]\n",
      " [   2   80    3]\n",
      " [   0    1 2424]]\n"
     ]
    }
   ],
   "source": [
    "import numpy as np\n",
    "from sklearn.metrics import confusion_matrix\n",
    "\n",
    "# predecir las probabilidades para los datos de prueba\n",
    "y_probs = model.predict(X_test)\n",
    "y_pred = np.argmax(y_probs, axis=-1)\n",
    "cm = confusion_matrix(y_test, y_pred)\n",
    "print(cm)\n"
   ],
   "metadata": {
    "collapsed": false,
    "ExecuteTime": {
     "start_time": "2023-04-23T18:25:29.917999Z",
     "end_time": "2023-04-23T18:25:30.181623Z"
    }
   }
  },
  {
   "cell_type": "code",
   "execution_count": 24,
   "outputs": [
    {
     "name": "stdout",
     "output_type": "stream",
     "text": [
      "              precision    recall  f1-score   support\n",
      "\n",
      "           0     0.9231    0.6316    0.7500        38\n",
      "           1     0.9524    0.9412    0.9467        85\n",
      "           2     0.9943    0.9996    0.9969      2425\n",
      "\n",
      "    accuracy                         0.9922      2548\n",
      "   macro avg     0.9566    0.8574    0.8979      2548\n",
      "weighted avg     0.9918    0.9922    0.9916      2548\n",
      "\n"
     ]
    }
   ],
   "source": [
    "from sklearn.metrics import classification_report\n",
    "report = classification_report(y_test, y_pred, digits=4)\n",
    "print(report)"
   ],
   "metadata": {
    "collapsed": false,
    "ExecuteTime": {
     "start_time": "2023-04-23T18:25:30.850507Z",
     "end_time": "2023-04-23T18:25:30.868056Z"
    }
   }
  },
  {
   "cell_type": "code",
   "execution_count": 25,
   "outputs": [
    {
     "name": "stdout",
     "output_type": "stream",
     "text": [
      "Accuracy: 0.9921507064364207\n"
     ]
    }
   ],
   "source": [
    "from sklearn.metrics import  accuracy_score\n",
    "accuracy = accuracy_score(y_test, y_pred)\n",
    "print('Accuracy:', accuracy)"
   ],
   "metadata": {
    "collapsed": false,
    "ExecuteTime": {
     "start_time": "2023-04-23T18:25:32.271269Z",
     "end_time": "2023-04-23T18:25:32.291030Z"
    }
   }
  },
  {
   "cell_type": "code",
   "execution_count": 26,
   "outputs": [
    {
     "name": "stdout",
     "output_type": "stream",
     "text": [
      "size of the splits\n",
      "X_train:  (10189, 30)\n",
      "X_test:  (2548, 30)\n",
      "y_test:  2548\n",
      "y_pred:  2548\n"
     ]
    }
   ],
   "source": [
    "print(\"size of the splits\")\n",
    "print(\"X_train: \",  X_train.shape)\n",
    "print(\"X_test: \",  X_test.shape)\n",
    "print(\"y_test: \",  y_test.size)\n",
    "print(\"y_pred: \",  y_pred.size)"
   ],
   "metadata": {
    "collapsed": false,
    "ExecuteTime": {
     "start_time": "2023-04-23T18:25:33.142772Z",
     "end_time": "2023-04-23T18:25:33.150315Z"
    }
   }
  },
  {
   "cell_type": "code",
   "execution_count": 27,
   "outputs": [],
   "source": [
    "model.save('PCA_RNA_SNG.h5')"
   ],
   "metadata": {
    "collapsed": false,
    "ExecuteTime": {
     "start_time": "2023-04-23T18:25:34.489201Z",
     "end_time": "2023-04-23T18:25:34.518744Z"
    }
   }
  },
  {
   "cell_type": "code",
   "execution_count": null,
   "outputs": [],
   "source": [],
   "metadata": {
    "collapsed": false
   }
  }
 ],
 "metadata": {
  "kernelspec": {
   "display_name": "Python 3",
   "language": "python",
   "name": "python3"
  },
  "language_info": {
   "codemirror_mode": {
    "name": "ipython",
    "version": 2
   },
   "file_extension": ".py",
   "mimetype": "text/x-python",
   "name": "python",
   "nbconvert_exporter": "python",
   "pygments_lexer": "ipython2",
   "version": "2.7.6"
  }
 },
 "nbformat": 4,
 "nbformat_minor": 0
}
