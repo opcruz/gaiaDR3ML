{
 "cells": [
  {
   "cell_type": "code",
   "execution_count": 2,
   "metadata": {
    "collapsed": true,
    "ExecuteTime": {
     "start_time": "2023-04-23T18:19:40.259131Z",
     "end_time": "2023-04-23T18:19:40.323690Z"
    }
   },
   "outputs": [],
   "source": [
    "import pandas as pd\n",
    "import tensorflow as tf\n",
    "from sklearn.model_selection import train_test_split\n",
    "from sklearn.preprocessing import LabelEncoder\n",
    "import matplotlib.pyplot as plt\n",
    "\n",
    "# cargar los datos\n",
    "df = pd.read_csv('spectra_hlle_SNG.csv')\n",
    "\n",
    "# separar las características (X) y la etiqueta (y)\n",
    "X = df.drop('id', axis=1)\n",
    "y = df['id']\n",
    "\n",
    "# codificar la etiqueta (y)\n",
    "encoder = LabelEncoder()\n",
    "y = encoder.fit_transform(y)\n",
    "\n",
    "# dividir el conjunto de datos en entrenamiento y prueba\n",
    "X_train, X_test, y_train, y_test = train_test_split(X, y, test_size=0.2, random_state=1, stratify=y)\n"
   ]
  },
  {
   "cell_type": "code",
   "execution_count": 3,
   "outputs": [
    {
     "data": {
      "text/plain": "array([1, 2, 3], dtype=int64)"
     },
     "execution_count": 3,
     "metadata": {},
     "output_type": "execute_result"
    }
   ],
   "source": [
    "df['id'].unique()"
   ],
   "metadata": {
    "collapsed": false,
    "ExecuteTime": {
     "start_time": "2023-04-23T18:19:42.273095Z",
     "end_time": "2023-04-23T18:19:42.291669Z"
    }
   }
  },
  {
   "cell_type": "code",
   "execution_count": 4,
   "outputs": [],
   "source": [
    "# crear el modelo\n",
    "model = tf.keras.models.Sequential([\n",
    "  tf.keras.layers.Dense(64, activation='relu'),\n",
    "  tf.keras.layers.Dropout(0.4),\n",
    "  tf.keras.layers.Dense(32, activation='relu'),\n",
    "  tf.keras.layers.Dropout(0.3),\n",
    "  tf.keras.layers.Dense(3, activation='softmax')\n",
    "])\n",
    "\n",
    "# compilar el modelo\n",
    "model.compile(optimizer='adam',\n",
    "              loss='sparse_categorical_crossentropy',\n",
    "              metrics=['accuracy'])\n",
    "\n"
   ],
   "metadata": {
    "collapsed": false,
    "ExecuteTime": {
     "start_time": "2023-04-23T18:19:43.353831Z",
     "end_time": "2023-04-23T18:19:45.947985Z"
    }
   }
  },
  {
   "cell_type": "code",
   "execution_count": 5,
   "outputs": [
    {
     "name": "stdout",
     "output_type": "stream",
     "text": [
      "Epoch 1/50\n",
      "319/319 [==============================] - 4s 5ms/step - loss: 0.3590 - accuracy: 0.9497 - val_loss: 0.1839 - val_accuracy: 0.9509\n",
      "Epoch 2/50\n",
      "319/319 [==============================] - 1s 3ms/step - loss: 0.1635 - accuracy: 0.9530 - val_loss: 0.1187 - val_accuracy: 0.9541\n",
      "Epoch 3/50\n",
      "319/319 [==============================] - 1s 4ms/step - loss: 0.1072 - accuracy: 0.9615 - val_loss: 0.0773 - val_accuracy: 0.9666\n",
      "Epoch 4/50\n",
      "319/319 [==============================] - 1s 3ms/step - loss: 0.0771 - accuracy: 0.9700 - val_loss: 0.0632 - val_accuracy: 0.9776\n",
      "Epoch 5/50\n",
      "319/319 [==============================] - 1s 3ms/step - loss: 0.0660 - accuracy: 0.9743 - val_loss: 0.0578 - val_accuracy: 0.9800\n",
      "Epoch 6/50\n",
      "319/319 [==============================] - 1s 4ms/step - loss: 0.0626 - accuracy: 0.9773 - val_loss: 0.0554 - val_accuracy: 0.9812\n",
      "Epoch 7/50\n",
      "319/319 [==============================] - 1s 3ms/step - loss: 0.0578 - accuracy: 0.9779 - val_loss: 0.0526 - val_accuracy: 0.9823\n",
      "Epoch 8/50\n",
      "319/319 [==============================] - 1s 3ms/step - loss: 0.0552 - accuracy: 0.9794 - val_loss: 0.0507 - val_accuracy: 0.9819\n",
      "Epoch 9/50\n",
      "319/319 [==============================] - 1s 3ms/step - loss: 0.0544 - accuracy: 0.9804 - val_loss: 0.0484 - val_accuracy: 0.9823\n",
      "Epoch 10/50\n",
      "319/319 [==============================] - 1s 3ms/step - loss: 0.0481 - accuracy: 0.9813 - val_loss: 0.0468 - val_accuracy: 0.9839\n",
      "Epoch 11/50\n",
      "319/319 [==============================] - 1s 3ms/step - loss: 0.0488 - accuracy: 0.9815 - val_loss: 0.0451 - val_accuracy: 0.9839\n",
      "Epoch 12/50\n",
      "319/319 [==============================] - 1s 3ms/step - loss: 0.0447 - accuracy: 0.9824 - val_loss: 0.0430 - val_accuracy: 0.9847\n",
      "Epoch 13/50\n",
      "319/319 [==============================] - 1s 3ms/step - loss: 0.0457 - accuracy: 0.9829 - val_loss: 0.0413 - val_accuracy: 0.9859\n",
      "Epoch 14/50\n",
      "319/319 [==============================] - 1s 3ms/step - loss: 0.0434 - accuracy: 0.9828 - val_loss: 0.0400 - val_accuracy: 0.9878\n",
      "Epoch 15/50\n",
      "319/319 [==============================] - 1s 4ms/step - loss: 0.0405 - accuracy: 0.9843 - val_loss: 0.0385 - val_accuracy: 0.9890\n",
      "Epoch 16/50\n",
      "319/319 [==============================] - 1s 3ms/step - loss: 0.0393 - accuracy: 0.9853 - val_loss: 0.0365 - val_accuracy: 0.9878\n",
      "Epoch 17/50\n",
      "319/319 [==============================] - 1s 3ms/step - loss: 0.0370 - accuracy: 0.9857 - val_loss: 0.0353 - val_accuracy: 0.9894\n",
      "Epoch 18/50\n",
      "319/319 [==============================] - 1s 3ms/step - loss: 0.0378 - accuracy: 0.9855 - val_loss: 0.0345 - val_accuracy: 0.9898\n",
      "Epoch 19/50\n",
      "319/319 [==============================] - 1s 3ms/step - loss: 0.0359 - accuracy: 0.9865 - val_loss: 0.0330 - val_accuracy: 0.9882\n",
      "Epoch 20/50\n",
      "319/319 [==============================] - 1s 3ms/step - loss: 0.0334 - accuracy: 0.9873 - val_loss: 0.0331 - val_accuracy: 0.9878\n",
      "Epoch 21/50\n",
      "319/319 [==============================] - 1s 3ms/step - loss: 0.0329 - accuracy: 0.9864 - val_loss: 0.0309 - val_accuracy: 0.9898\n",
      "Epoch 22/50\n",
      "319/319 [==============================] - 1s 3ms/step - loss: 0.0339 - accuracy: 0.9867 - val_loss: 0.0312 - val_accuracy: 0.9894\n",
      "Epoch 23/50\n",
      "319/319 [==============================] - 1s 3ms/step - loss: 0.0314 - accuracy: 0.9871 - val_loss: 0.0302 - val_accuracy: 0.9894\n",
      "Epoch 24/50\n",
      "319/319 [==============================] - 1s 3ms/step - loss: 0.0311 - accuracy: 0.9863 - val_loss: 0.0309 - val_accuracy: 0.9886\n",
      "Epoch 25/50\n",
      "319/319 [==============================] - 1s 3ms/step - loss: 0.0304 - accuracy: 0.9868 - val_loss: 0.0297 - val_accuracy: 0.9894\n",
      "Epoch 26/50\n",
      "319/319 [==============================] - 1s 3ms/step - loss: 0.0300 - accuracy: 0.9885 - val_loss: 0.0294 - val_accuracy: 0.9886\n",
      "Epoch 27/50\n",
      "319/319 [==============================] - 1s 3ms/step - loss: 0.0302 - accuracy: 0.9869 - val_loss: 0.0293 - val_accuracy: 0.9898\n",
      "Epoch 28/50\n",
      "319/319 [==============================] - 1s 3ms/step - loss: 0.0268 - accuracy: 0.9901 - val_loss: 0.0299 - val_accuracy: 0.9898\n",
      "Epoch 29/50\n",
      "319/319 [==============================] - 1s 3ms/step - loss: 0.0273 - accuracy: 0.9893 - val_loss: 0.0286 - val_accuracy: 0.9902\n",
      "Epoch 30/50\n",
      "319/319 [==============================] - 1s 3ms/step - loss: 0.0277 - accuracy: 0.9895 - val_loss: 0.0290 - val_accuracy: 0.9906\n",
      "Epoch 31/50\n",
      "319/319 [==============================] - 1s 3ms/step - loss: 0.0280 - accuracy: 0.9888 - val_loss: 0.0291 - val_accuracy: 0.9902\n",
      "Epoch 32/50\n",
      "319/319 [==============================] - 1s 3ms/step - loss: 0.0254 - accuracy: 0.9901 - val_loss: 0.0289 - val_accuracy: 0.9910\n",
      "Epoch 33/50\n",
      "319/319 [==============================] - 1s 3ms/step - loss: 0.0239 - accuracy: 0.9904 - val_loss: 0.0304 - val_accuracy: 0.9906\n",
      "Epoch 34/50\n",
      "319/319 [==============================] - 1s 3ms/step - loss: 0.0253 - accuracy: 0.9891 - val_loss: 0.0304 - val_accuracy: 0.9894\n",
      "Epoch 35/50\n",
      "319/319 [==============================] - 1s 3ms/step - loss: 0.0221 - accuracy: 0.9911 - val_loss: 0.0290 - val_accuracy: 0.9910\n",
      "Epoch 36/50\n",
      "319/319 [==============================] - 1s 3ms/step - loss: 0.0229 - accuracy: 0.9908 - val_loss: 0.0283 - val_accuracy: 0.9914\n",
      "Epoch 37/50\n",
      "319/319 [==============================] - 1s 3ms/step - loss: 0.0247 - accuracy: 0.9910 - val_loss: 0.0296 - val_accuracy: 0.9906\n",
      "Epoch 38/50\n",
      "319/319 [==============================] - 1s 3ms/step - loss: 0.0249 - accuracy: 0.9895 - val_loss: 0.0290 - val_accuracy: 0.9922\n",
      "Epoch 39/50\n",
      "319/319 [==============================] - 1s 3ms/step - loss: 0.0234 - accuracy: 0.9913 - val_loss: 0.0276 - val_accuracy: 0.9914\n",
      "Epoch 40/50\n",
      "319/319 [==============================] - 1s 3ms/step - loss: 0.0227 - accuracy: 0.9912 - val_loss: 0.0281 - val_accuracy: 0.9918\n",
      "Epoch 41/50\n",
      "319/319 [==============================] - 1s 4ms/step - loss: 0.0206 - accuracy: 0.9914 - val_loss: 0.0291 - val_accuracy: 0.9937\n",
      "Epoch 42/50\n",
      "319/319 [==============================] - 1s 3ms/step - loss: 0.0220 - accuracy: 0.9919 - val_loss: 0.0280 - val_accuracy: 0.9910\n",
      "Epoch 43/50\n",
      "319/319 [==============================] - 1s 3ms/step - loss: 0.0198 - accuracy: 0.9924 - val_loss: 0.0288 - val_accuracy: 0.9929\n",
      "Epoch 44/50\n",
      "319/319 [==============================] - 1s 3ms/step - loss: 0.0207 - accuracy: 0.9918 - val_loss: 0.0295 - val_accuracy: 0.9922\n",
      "Epoch 45/50\n",
      "319/319 [==============================] - 1s 3ms/step - loss: 0.0214 - accuracy: 0.9914 - val_loss: 0.0286 - val_accuracy: 0.9918\n",
      "Epoch 46/50\n",
      "319/319 [==============================] - 1s 3ms/step - loss: 0.0210 - accuracy: 0.9927 - val_loss: 0.0279 - val_accuracy: 0.9937\n",
      "Epoch 47/50\n",
      "319/319 [==============================] - 1s 3ms/step - loss: 0.0190 - accuracy: 0.9922 - val_loss: 0.0282 - val_accuracy: 0.9922\n",
      "Epoch 48/50\n",
      "319/319 [==============================] - 1s 3ms/step - loss: 0.0174 - accuracy: 0.9939 - val_loss: 0.0288 - val_accuracy: 0.9933\n",
      "Epoch 49/50\n",
      "319/319 [==============================] - 1s 3ms/step - loss: 0.0180 - accuracy: 0.9927 - val_loss: 0.0296 - val_accuracy: 0.9945\n",
      "Epoch 50/50\n",
      "319/319 [==============================] - 1s 3ms/step - loss: 0.0176 - accuracy: 0.9934 - val_loss: 0.0319 - val_accuracy: 0.9941\n"
     ]
    }
   ],
   "source": [
    "# entrenar el modelo\n",
    "history = model.fit(X_train, y_train, epochs=50, batch_size=32, validation_data=(X_test, y_test))\n"
   ],
   "metadata": {
    "collapsed": false,
    "ExecuteTime": {
     "start_time": "2023-04-23T18:19:46.614727Z",
     "end_time": "2023-04-23T18:20:40.641803Z"
    }
   }
  },
  {
   "cell_type": "code",
   "execution_count": 6,
   "outputs": [
    {
     "data": {
      "text/plain": "<Figure size 640x480 with 1 Axes>",
      "image/png": "[encoded data removed]"
     },
     "metadata": {},
     "output_type": "display_data"
    }
   ],
   "source": [
    "# graficar la precisión de entrenamiento y prueba\n",
    "plt.plot(history.history['accuracy'], label='train')\n",
    "plt.plot(history.history['val_accuracy'], label='test')\n",
    "plt.title('Model Accuracy')\n",
    "plt.xlabel('Epoch')\n",
    "plt.ylabel('Accuracy')\n",
    "plt.legend()\n",
    "plt.show()\n"
   ],
   "metadata": {
    "collapsed": false,
    "ExecuteTime": {
     "start_time": "2023-04-23T18:20:50.858904Z",
     "end_time": "2023-04-23T18:20:51.003014Z"
    }
   }
  },
  {
   "cell_type": "code",
   "execution_count": 13,
   "outputs": [
    {
     "data": {
      "text/plain": "[<matplotlib.lines.Line2D at 0x1cd1fe86490>]"
     },
     "execution_count": 13,
     "metadata": {},
     "output_type": "execute_result"
    },
    {
     "data": {
      "text/plain": "<Figure size 640x480 with 1 Axes>",
      "image/png": "[encoded data removed]"
     },
     "metadata": {},
     "output_type": "display_data"
    }
   ],
   "source": [
    "plt.xlabel(\"# Epoch\")\n",
    "plt.ylabel(\"Magnitude of loss\")\n",
    "plt.plot(history.history[\"loss\"])"
   ],
   "metadata": {
    "collapsed": false,
    "ExecuteTime": {
     "start_time": "2023-04-23T18:23:57.822213Z",
     "end_time": "2023-04-23T18:23:57.942824Z"
    }
   }
  },
  {
   "cell_type": "code",
   "execution_count": 7,
   "outputs": [
    {
     "name": "stdout",
     "output_type": "stream",
     "text": [
      "nombres_etiquetas\n",
      "Planetary Nebulae    1.0\n",
      "Red Giants           2.0\n",
      "Symbiotics           0.0\n",
      "Name: codificado, dtype: float64\n"
     ]
    }
   ],
   "source": [
    "y=df['id']\n",
    "import pandas as pd\n",
    "from sklearn.preprocessing import LabelEncoder\n",
    "\n",
    "df = pd.DataFrame(y)\n",
    "encoder = LabelEncoder()\n",
    "df['codificado'] = encoder.fit_transform(df['id'])\n",
    "\n",
    "nombres_etiquetas = encoder.classes_\n",
    "nuevos_nombres = ['Symbiotics', 'Planetary Nebulae', 'Red Giants']\n",
    "nombres_etiquetas_dict = {nombres_etiquetas[i]: nuevos_nombres[i] for i in range(len(nombres_etiquetas))}\n",
    "df['nombres_etiquetas'] = df['id'].map(nombres_etiquetas_dict)\n",
    "\n",
    "df_agrupado = df.groupby('nombres_etiquetas')['codificado'].mean()\n",
    "print(df_agrupado)"
   ],
   "metadata": {
    "collapsed": false,
    "ExecuteTime": {
     "start_time": "2023-04-23T18:20:52.992759Z",
     "end_time": "2023-04-23T18:20:53.012987Z"
    }
   }
  },
  {
   "cell_type": "code",
   "execution_count": 8,
   "outputs": [
    {
     "name": "stdout",
     "output_type": "stream",
     "text": [
      "80/80 [==============================] - 0s 1ms/step\n",
      "[[  32    5    1]\n",
      " [   2   82    1]\n",
      " [   5    1 2419]]\n"
     ]
    }
   ],
   "source": [
    "import numpy as np\n",
    "from sklearn.metrics import confusion_matrix\n",
    "\n",
    "# predecir las probabilidades para los datos de prueba\n",
    "y_probs = model.predict(X_test)\n",
    "y_pred = np.argmax(y_probs, axis=-1)\n",
    "cm = confusion_matrix(y_test, y_pred)\n",
    "print(cm)\n"
   ],
   "metadata": {
    "collapsed": false,
    "ExecuteTime": {
     "start_time": "2023-04-23T18:20:54.270684Z",
     "end_time": "2023-04-23T18:20:54.502859Z"
    }
   }
  },
  {
   "cell_type": "code",
   "execution_count": 9,
   "outputs": [
    {
     "name": "stdout",
     "output_type": "stream",
     "text": [
      "              precision    recall  f1-score   support\n",
      "\n",
      "           0     0.8205    0.8421    0.8312        38\n",
      "           1     0.9318    0.9647    0.9480        85\n",
      "           2     0.9992    0.9975    0.9983      2425\n",
      "\n",
      "    accuracy                         0.9941      2548\n",
      "   macro avg     0.9172    0.9348    0.9258      2548\n",
      "weighted avg     0.9943    0.9941    0.9942      2548\n",
      "\n"
     ]
    }
   ],
   "source": [
    "from sklearn.metrics import classification_report\n",
    "report = classification_report(y_test, y_pred, digits=4)\n",
    "print(report)"
   ],
   "metadata": {
    "collapsed": false,
    "ExecuteTime": {
     "start_time": "2023-04-23T18:20:55.602695Z",
     "end_time": "2023-04-23T18:20:55.637777Z"
    }
   }
  },
  {
   "cell_type": "code",
   "execution_count": 10,
   "outputs": [
    {
     "name": "stdout",
     "output_type": "stream",
     "text": [
      "Accuracy: 0.9941130298273155\n"
     ]
    }
   ],
   "source": [
    "from sklearn.metrics import  accuracy_score\n",
    "accuracy = accuracy_score(y_test, y_pred)\n",
    "print('Accuracy:', accuracy)"
   ],
   "metadata": {
    "collapsed": false,
    "ExecuteTime": {
     "start_time": "2023-04-23T18:20:57.304646Z",
     "end_time": "2023-04-23T18:20:57.318205Z"
    }
   }
  },
  {
   "cell_type": "code",
   "execution_count": 11,
   "outputs": [
    {
     "name": "stdout",
     "output_type": "stream",
     "text": [
      "size of the splits\n",
      "X_train:  (10189, 15)\n",
      "X_test:  (2548, 15)\n",
      "y_test:  2548\n",
      "y_pred:  2548\n"
     ]
    }
   ],
   "source": [
    "print(\"size of the splits\")\n",
    "print(\"X_train: \",  X_train.shape)\n",
    "print(\"X_test: \",  X_test.shape)\n",
    "print(\"y_test: \",  y_test.size)\n",
    "print(\"y_pred: \",  y_pred.size)"
   ],
   "metadata": {
    "collapsed": false,
    "ExecuteTime": {
     "start_time": "2023-04-23T18:20:58.431237Z",
     "end_time": "2023-04-23T18:20:58.446749Z"
    }
   }
  },
  {
   "cell_type": "code",
   "execution_count": 12,
   "outputs": [],
   "source": [
    "model.save('HLLE_RNA_SNG.h5')"
   ],
   "metadata": {
    "collapsed": false,
    "ExecuteTime": {
     "start_time": "2023-04-23T18:21:09.257758Z",
     "end_time": "2023-04-23T18:21:09.302900Z"
    }
   }
  },
  {
   "cell_type": "code",
   "execution_count": null,
   "outputs": [],
   "source": [],
   "metadata": {
    "collapsed": false
   }
  }
 ],
 "metadata": {
  "kernelspec": {
   "display_name": "Python 3",
   "language": "python",
   "name": "python3"
  },
  "language_info": {
   "codemirror_mode": {
    "name": "ipython",
    "version": 2
   },
   "file_extension": ".py",
   "mimetype": "text/x-python",
   "name": "python",
   "nbconvert_exporter": "python",
   "pygments_lexer": "ipython2",
   "version": "2.7.6"
  }
 },
 "nbformat": 4,
 "nbformat_minor": 0
}
