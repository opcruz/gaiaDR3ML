{
 "cells": [
  {
   "cell_type": "code",
   "execution_count": 2,
   "metadata": {
    "collapsed": true
   },
   "outputs": [],
   "source": [
    "import pandas as pd\n",
    "import numpy as np\n",
    "from sklearn.naive_bayes import GaussianNB\n",
    "from sklearn.model_selection import train_test_split\n",
    "from sklearn.metrics import accuracy_score\n",
    "from sklearn.model_selection import cross_val_score"
   ]
  },
  {
   "cell_type": "code",
   "execution_count": 3,
   "outputs": [],
   "source": [
    "# Cargamos los datos\n",
    "data = pd.read_csv('../../Data/DR3/espectros_normalizados_balanceados_SNG.csv')\n",
    "\n",
    "# Separamos las características y la variable objetivo\n",
    "X = data.drop(data.columns[-1], axis=1)\n",
    "y = data.iloc[:, -1]"
   ],
   "metadata": {
    "collapsed": false
   }
  },
  {
   "cell_type": "code",
   "execution_count": 4,
   "outputs": [
    {
     "name": "stdout",
     "output_type": "stream",
     "text": [
      "Precisión: 0.77 (+/- 0.04)\n"
     ]
    }
   ],
   "source": [
    "# Creamos el modelo de clasificación Bayesiano\n",
    "gnb = GaussianNB()\n",
    "\n",
    "# Realizamos la validación cruzada con 5 particiones\n",
    "scores = cross_val_score(gnb, X, y, cv=5)\n",
    "\n",
    "# Mostramos los resultados\n",
    "print('Precisión: %0.2f (+/- %0.2f)' % (scores.mean(), scores.std() * 2))"
   ],
   "metadata": {
    "collapsed": false
   }
  },
  {
   "cell_type": "code",
   "execution_count": 5,
   "outputs": [],
   "source": [
    "# Dividimos los datos en conjuntos de entrenamiento y prueba\n",
    "X_train, X_test, y_train, y_test = train_test_split(X, y, test_size=0.2, random_state=42)\n",
    "\n",
    "# Creamos el modelo de clasificación de Naive Bayes\n",
    "nb = GaussianNB()\n",
    "\n",
    "# Entrenamos el modelo utilizando el conjunto de entrenamiento\n",
    "nb.fit(X_train, y_train)\n",
    "\n",
    "# Hacemos predicciones en el conjunto de prueba\n",
    "y_pred = nb.predict(X_test)"
   ],
   "metadata": {
    "collapsed": false
   }
  },
  {
   "cell_type": "code",
   "execution_count": 6,
   "outputs": [
    {
     "name": "stdout",
     "output_type": "stream",
     "text": [
      "Precisión del modelo: 0.7677100494233937\n"
     ]
    }
   ],
   "source": [
    "# Calculamos la precisión del modelo\n",
    "accuracy = accuracy_score(y_test, y_pred)\n",
    "print('Precisión del modelo:', accuracy)"
   ],
   "metadata": {
    "collapsed": false
   }
  },
  {
   "cell_type": "code",
   "execution_count": 7,
   "outputs": [
    {
     "name": "stdout",
     "output_type": "stream",
     "text": [
      "Accuracy: 0.7677100494233937\n",
      "Confusion matrix:\n",
      " [[149  20  46]\n",
      " [ 22 158  25]\n",
      " [ 27   1 159]]\n"
     ]
    }
   ],
   "source": [
    "from sklearn.metrics import confusion_matrix\n",
    "\n",
    "# Predicción y evaluación del modelo\n",
    "y_pred = nb.predict(X_test)\n",
    "accuracy = accuracy_score(y_test, y_pred)\n",
    "cm = confusion_matrix(y_test, y_pred)\n",
    "print(\"Accuracy:\", accuracy)\n",
    "print(\"Confusion matrix:\\n\", cm)"
   ],
   "metadata": {
    "collapsed": false
   }
  },
  {
   "cell_type": "code",
   "execution_count": 8,
   "outputs": [
    {
     "name": "stdout",
     "output_type": "stream",
     "text": [
      "Cohen's kappa:  0.6523312778766239\n",
      "\n",
      "              precision    recall  f1-score   support\n",
      "\n",
      "           1     0.7525    0.6930    0.7215       215\n",
      "           2     0.8827    0.7707    0.8229       205\n",
      "           3     0.6913    0.8503    0.7626       187\n",
      "\n",
      "    accuracy                         0.7677       607\n",
      "   macro avg     0.7755    0.7713    0.7690       607\n",
      "weighted avg     0.7776    0.7677    0.7684       607\n",
      "\n"
     ]
    }
   ],
   "source": [
    "from sklearn.metrics import cohen_kappa_score, classification_report\n",
    "\n",
    "print(\"Cohen's kappa: \", cohen_kappa_score(y_test,y_pred))\n",
    "print()\n",
    "print(classification_report(y_test, y_pred, labels=[1,2,3], digits=4))"
   ],
   "metadata": {
    "collapsed": false
   }
  }
 ],
 "metadata": {
  "kernelspec": {
   "display_name": "Python 3",
   "language": "python",
   "name": "python3"
  },
  "language_info": {
   "codemirror_mode": {
    "name": "ipython",
    "version": 2
   },
   "file_extension": ".py",
   "mimetype": "text/x-python",
   "name": "python",
   "nbconvert_exporter": "python",
   "pygments_lexer": "ipython2",
   "version": "2.7.6"
  }
 },
 "nbformat": 4,
 "nbformat_minor": 0
}
