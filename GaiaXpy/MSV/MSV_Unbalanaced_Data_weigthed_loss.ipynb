{
 "cells": [
  {
   "cell_type": "code",
   "execution_count": 1,
   "metadata": {
    "collapsed": true
   },
   "outputs": [],
   "source": [
    "import pandas as pd\n",
    "from sklearn.svm import SVC\n",
    "from sklearn.model_selection import train_test_split\n",
    "from sklearn.metrics import accuracy_score\n",
    "from sklearn.model_selection import cross_val_score"
   ]
  },
  {
   "cell_type": "code",
   "execution_count": 5,
   "outputs": [],
   "source": [
    "# Cargamos los datos\n",
    "data = pd.read_csv(\"../../new/datasets/unbalanced.csv\", header=None)\n",
    "X = data.drop(data.columns[-1], axis=1)\n",
    "y = data.iloc[:, -1]"
   ],
   "metadata": {
    "collapsed": false
   }
  },
  {
   "cell_type": "code",
   "execution_count": 6,
   "outputs": [],
   "source": [
    "# Dividimos los datos en conjuntos de entrenamiento y prueba\n",
    "X_train, X_test, y_train, y_test = train_test_split(X, y, test_size=0.2, random_state=42, stratify=y)\n",
    "\n",
    "# Creamos el modelo de clasificación SVM\n",
    "svm = SVC(class_weight='balanced', kernel='rbf', C=1, gamma='auto') ##REVISA LOS KERNELS\n",
    "#svm = SVC(kernel='linear', C=1) ##REVISA LOS KERNELS\n",
    "#svm = SVC(kernel='rbf', C=1, gamma='auto') ##REVISA LOS KERNELS\n",
    "\n",
    "# Entrenamos el modelo utilizando el conjunto de entrenamiento\n",
    "svm.fit(X_train, y_train)\n",
    "\n",
    "# Hacemos predicciones en el conjunto de prueba\n",
    "y_pred = svm.predict(X_test)"
   ],
   "metadata": {
    "collapsed": false
   }
  },
  {
   "cell_type": "code",
   "execution_count": 7,
   "outputs": [
    {
     "name": "stdout",
     "output_type": "stream",
     "text": [
      "Precisión del modelo: 0.8860759493670886\n"
     ]
    }
   ],
   "source": [
    "# Calculamos la precisión del modelo\n",
    "accuracy = accuracy_score(y_test, y_pred)\n",
    "print('Precisión del modelo:', accuracy)"
   ],
   "metadata": {
    "collapsed": false
   }
  },
  {
   "cell_type": "code",
   "execution_count": 8,
   "outputs": [
    {
     "name": "stdout",
     "output_type": "stream",
     "text": [
      "Accuracy: 0.8860759493670886\n",
      "Confusion matrix:\n",
      " [[ 34   3   3]\n",
      " [ 12  92  11]\n",
      " [ 15   1 224]]\n"
     ]
    }
   ],
   "source": [
    "from sklearn.metrics import confusion_matrix\n",
    "\n",
    "# Predicción y evaluación del modelo\n",
    "y_pred = svm.predict(X_test)\n",
    "accuracy = accuracy_score(y_test, y_pred)\n",
    "cm = confusion_matrix(y_test, y_pred)\n",
    "print(\"Accuracy:\", accuracy)\n",
    "print(\"Confusion matrix:\\n\", cm)"
   ],
   "metadata": {
    "collapsed": false
   }
  },
  {
   "cell_type": "code",
   "execution_count": 11,
   "outputs": [
    {
     "name": "stdout",
     "output_type": "stream",
     "text": [
      "Cohen's kappa:  0.7919227392449517\n",
      "\n",
      "              precision    recall  f1-score   support\n",
      "\n",
      "           1     0.5574    0.8500    0.6733        40\n",
      "           2     0.9583    0.8000    0.8720       115\n",
      "           3     0.9412    0.9333    0.9372       240\n",
      "\n",
      "    accuracy                         0.8861       395\n",
      "   macro avg     0.8190    0.8611    0.8275       395\n",
      "weighted avg     0.9073    0.8861    0.8915       395\n",
      "\n"
     ]
    }
   ],
   "source": [
    "from sklearn.metrics import cohen_kappa_score, classification_report\n",
    "\n",
    "print(\"Cohen's kappa: \", cohen_kappa_score(y_test,y_pred))\n",
    "print()\n",
    "print(classification_report(y_test, y_pred, labels=[1,2,3], digits=4))"
   ],
   "metadata": {
    "collapsed": false
   }
  },
  {
   "cell_type": "code",
   "execution_count": 12,
   "outputs": [
    {
     "name": "stdout",
     "output_type": "stream",
     "text": [
      "Cohen's kappa:  0.7919227392449517\n"
     ]
    }
   ],
   "source": [
    "from sklearn.metrics import cohen_kappa_score\n",
    "print(\"Cohen's kappa: \", cohen_kappa_score(y_test,y_pred))"
   ],
   "metadata": {
    "collapsed": false
   }
  },
  {
   "cell_type": "code",
   "execution_count": null,
   "outputs": [],
   "source": [],
   "metadata": {
    "collapsed": false
   }
  }
 ],
 "metadata": {
  "kernelspec": {
   "display_name": "Python 3",
   "language": "python",
   "name": "python3"
  },
  "language_info": {
   "codemirror_mode": {
    "name": "ipython",
    "version": 2
   },
   "file_extension": ".py",
   "mimetype": "text/x-python",
   "name": "python",
   "nbconvert_exporter": "python",
   "pygments_lexer": "ipython2",
   "version": "2.7.6"
  }
 },
 "nbformat": 4,
 "nbformat_minor": 0
}
