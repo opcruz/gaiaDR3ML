{
 "cells": [
  {
   "cell_type": "code",
   "execution_count": 1,
   "metadata": {
    "collapsed": true
   },
   "outputs": [],
   "source": [
    "import pandas as pd\n",
    "from sklearn.svm import SVC\n",
    "from sklearn.model_selection import train_test_split\n",
    "from sklearn.metrics import accuracy_score\n",
    "from sklearn.model_selection import cross_val_score"
   ]
  },
  {
   "cell_type": "code",
   "execution_count": 2,
   "outputs": [],
   "source": [
    "# Cargamos los datos\n",
    "data = pd.read_csv('../../Data/DR3/espectros_normalizados_balanceados_SNG.csv')\n",
    "X = data.drop(data.columns[-1], axis=1)\n",
    "y = data.iloc[:, -1]"
   ],
   "metadata": {
    "collapsed": false
   }
  },
  {
   "cell_type": "code",
   "execution_count": 3,
   "outputs": [],
   "source": [
    "# Crear el modelo SVM\n",
    "#svm = SVC(kernel='linear', C=1)\n",
    "\n",
    "# Realizar la validación cruzada con 5 folds\n",
    "#scores = cross_val_score(svm, X, y, cv=5)\n",
    "\n",
    "# Imprimir la precisión media y la desviación estándar de la precisión\n",
    "#print(\"Precisión: %0.2f (+/- %0.2f)\" % (scores.mean(), scores.std() * 2))"
   ],
   "metadata": {
    "collapsed": false
   }
  },
  {
   "cell_type": "code",
   "execution_count": 4,
   "outputs": [],
   "source": [
    "# Dividimos los datos en conjuntos de entrenamiento y prueba\n",
    "X_train, X_test, y_train, y_test = train_test_split(X, y, test_size=0.2, random_state=42)\n",
    "\n",
    "# Creamos el modelo de clasificación SVM\n",
    "#svm = SVC(kernel='rbf', C=1, gamma='auto') ##REVISA LOS KERNELS\n",
    "svm = SVC(kernel='linear', C=1)\n",
    "# Entrenamos el modelo utilizando el conjunto de entrenamiento\n",
    "svm.fit(X_train, y_train)\n",
    "\n",
    "# Hacemos predicciones en el conjunto de prueba\n",
    "y_pred = svm.predict(X_test)"
   ],
   "metadata": {
    "collapsed": false
   }
  },
  {
   "cell_type": "code",
   "execution_count": 5,
   "outputs": [
    {
     "name": "stdout",
     "output_type": "stream",
     "text": [
      "Precisión del modelo: 0.9209225700164745\n"
     ]
    }
   ],
   "source": [
    "# Calculamos la precisión del modelo\n",
    "accuracy = accuracy_score(y_test, y_pred)\n",
    "print('Precisión del modelo:', accuracy)"
   ],
   "metadata": {
    "collapsed": false
   }
  },
  {
   "cell_type": "code",
   "execution_count": 6,
   "outputs": [
    {
     "name": "stdout",
     "output_type": "stream",
     "text": [
      "Accuracy: 0.9209225700164745\n",
      "Confusion matrix:\n",
      " [[206   7   2]\n",
      " [  9 176  20]\n",
      " [  3   7 177]]\n"
     ]
    }
   ],
   "source": [
    "from sklearn.metrics import confusion_matrix\n",
    "\n",
    "# Predicción y evaluación del modelo\n",
    "y_pred = svm.predict(X_test)\n",
    "accuracy = accuracy_score(y_test, y_pred)\n",
    "cm = confusion_matrix(y_test, y_pred)\n",
    "print(\"Accuracy:\", accuracy)\n",
    "print(\"Confusion matrix:\\n\", cm)"
   ],
   "metadata": {
    "collapsed": false
   }
  },
  {
   "cell_type": "code",
   "execution_count": 7,
   "outputs": [
    {
     "name": "stdout",
     "output_type": "stream",
     "text": [
      "Cohen's kappa:  0.8812791342047788\n",
      "\n",
      "              precision    recall  f1-score   support\n",
      "\n",
      "           1     0.9450    0.9581    0.9515       215\n",
      "           2     0.9263    0.8585    0.8911       205\n",
      "           3     0.8894    0.9465    0.9171       187\n",
      "\n",
      "    accuracy                         0.9209       607\n",
      "   macro avg     0.9202    0.9211    0.9199       607\n",
      "weighted avg     0.9216    0.9209    0.9205       607\n",
      "\n"
     ]
    }
   ],
   "source": [
    "from sklearn.metrics import cohen_kappa_score, classification_report\n",
    "\n",
    "print(\"Cohen's kappa: \", cohen_kappa_score(y_test,y_pred))\n",
    "print()\n",
    "print(classification_report(y_test, y_pred, labels=[1,2,3], digits=4))"
   ],
   "metadata": {
    "collapsed": false
   }
  },
  {
   "cell_type": "code",
   "execution_count": 14,
   "outputs": [
    {
     "data": {
      "text/plain": "<Figure size 800x600 with 1 Axes>",
      "image/png": "[encoded data removed]"
     },
     "metadata": {},
     "output_type": "display_data"
    }
   ],
   "source": [
    "import seaborn as sns\n",
    "import matplotlib.pyplot as plt\n",
    "import numpy as np\n",
    "\n",
    "def plot_confusion_matrix(cm, classes):\n",
    "    plt.figure(figsize=(8, 6))\n",
    "    ax = sns.heatmap(cm, annot=True, cmap='Blues', fmt='d', cbar=False)\n",
    "    ax.set_xlabel('Etiqueta Predicha')\n",
    "    ax.set_ylabel('Etiqueta Verdadera')\n",
    "    ax.set_xticklabels(classes, rotation=45)\n",
    "    ax.set_yticklabels(classes, rotation=0)\n",
    "    ax.set_title('Matriz de Confusión')\n",
    "\n",
    "\n",
    "# Ejemplo de uso\n",
    "confusion_matrix = np.array([[50, 10, 5], [5, 35, 6], [13, 10, 54]])\n",
    "class_names = ['Clase 1', 'Clase 2', 'Clase 3']\n",
    "plot_confusion_matrix(confusion_matrix, class_names)\n",
    "plt.show()"
   ],
   "metadata": {
    "collapsed": false
   }
  },
  {
   "cell_type": "code",
   "execution_count": null,
   "outputs": [],
   "source": [],
   "metadata": {
    "collapsed": false
   }
  }
 ],
 "metadata": {
  "kernelspec": {
   "display_name": "Python 3",
   "language": "python",
   "name": "python3"
  },
  "language_info": {
   "codemirror_mode": {
    "name": "ipython",
    "version": 2
   },
   "file_extension": ".py",
   "mimetype": "text/x-python",
   "name": "python",
   "nbconvert_exporter": "python",
   "pygments_lexer": "ipython2",
   "version": "2.7.6"
  }
 },
 "nbformat": 4,
 "nbformat_minor": 0
}
