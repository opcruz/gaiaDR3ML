{
 "cells": [
  {
   "cell_type": "code",
   "execution_count": 1,
   "metadata": {
    "collapsed": true
   },
   "outputs": [],
   "source": [
    "import pandas as pd\n",
    "import numpy as np\n",
    "from sklearn.ensemble import RandomForestClassifier\n",
    "from sklearn.model_selection import train_test_split\n",
    "from sklearn.metrics import accuracy_score\n",
    "from sklearn.model_selection import cross_val_score\n",
    "from sklearn.metrics import confusion_matrix, accuracy_score\n",
    "from sklearn.metrics import cohen_kappa_score\n",
    "from sklearn.metrics import classification_report, balanced_accuracy_score\n",
    "from sklearn.model_selection import GridSearchCV"
   ]
  },
  {
   "cell_type": "code",
   "execution_count": 2,
   "outputs": [],
   "source": [
    "#Cargar el archivo que contiene los datos de los tres tipos de espectros\n",
    "# (Simbioticas-1, Nebulosas-2, Gigantes Rojas-3)\n",
    "# DESPUÉS DEL BALANCEO DE DATOS (1000 APROX. POR CADA UNO)\n",
    "\n",
    "data = pd.read_csv('../../../Data/DR3/espectros_normalizados_balanceados_SNG.csv')"
   ],
   "metadata": {
    "collapsed": false
   }
  },
  {
   "cell_type": "code",
   "execution_count": 3,
   "outputs": [],
   "source": [
    "# Separamos las características y la variable objetivo\n",
    "\n",
    "X = data.drop(data.columns[-1],  axis=1)\n",
    "y = data.iloc[:, -1]"
   ],
   "metadata": {
    "collapsed": false
   }
  },
  {
   "cell_type": "code",
   "execution_count": 4,
   "outputs": [],
   "source": [
    "X_train, X_test, y_train, y_test = train_test_split(X, y, test_size=0.2, random_state=1)"
   ],
   "metadata": {
    "collapsed": false
   }
  },
  {
   "cell_type": "code",
   "execution_count": 5,
   "outputs": [
    {
     "name": "stdout",
     "output_type": "stream",
     "text": [
      "Precisión: 0.93 (+/- 0.10)\n"
     ]
    }
   ],
   "source": [
    "# Creamos el modelo de clasificación de Random Forest\n",
    "rf = RandomForestClassifier(n_estimators=500, random_state=42)\n",
    "scores = cross_val_score(rf, X, y, cv=5)\n",
    "print(\"Precisión: %0.2f (+/- %0.2f)\" % (scores.mean(), scores.std() * 2))"
   ],
   "metadata": {
    "collapsed": false
   }
  },
  {
   "cell_type": "code",
   "execution_count": 7,
   "outputs": [],
   "source": [
    "# Entrenamos el modelo utilizando el conjunto de entrenamiento\n",
    "rf.fit(X_train, y_train)\n",
    "y_pred = rf.predict(X_test)"
   ],
   "metadata": {
    "collapsed": false
   }
  },
  {
   "cell_type": "code",
   "execution_count": 8,
   "outputs": [],
   "source": [
    "#Obtención del número de árboles de clasificación\n",
    "\n",
    "# definir el modelo de Random Forest\n",
    "#rf = RandomForestClassifier(random_state=42)\n",
    "\n",
    "# definir los parámetros de la cuadrícula de búsqueda\n",
    "#param_grid = {'n_estimators': [50, 100, 200, 300, 400, 500]}\n",
    "\n",
    "# realizar la búsqueda en cuadrícula utilizando validación cruzada de 5 pliegues\n",
    "#grid_search = GridSearchCV(rf, param_grid=param_grid, cv=5, scoring='accuracy')\n",
    "#grid_search.fit(X_train, y_train)"
   ],
   "metadata": {
    "collapsed": false
   }
  },
  {
   "cell_type": "code",
   "execution_count": 9,
   "outputs": [],
   "source": [
    "# imprimir los resultados de la búsqueda en cuadrícula\n",
    "#print(\"Mejores hiperparámetros: \", grid_search.best_params_)\n",
    "#print(\"Mejor puntuación de validación cruzada: {:.2f}\".format(grid_search.best_score_))\n",
    "\n",
    "# evaluar el modelo con los mejores hiperparámetros en el conjunto de prueba\n",
    "#y_pred = grid_search.predict(X_test)\n",
    "#accuracy = accuracy_score(y_test, y_pred)\n",
    "#print(\"Exactitud en el conjunto de prueba: {:.2f}\".format(accuracy))"
   ],
   "metadata": {
    "collapsed": false
   }
  },
  {
   "cell_type": "code",
   "execution_count": 10,
   "outputs": [
    {
     "name": "stdout",
     "output_type": "stream",
     "text": [
      "[[191   4   4]\n",
      " [ 18 173  12]\n",
      " [  1   2 202]]\n"
     ]
    }
   ],
   "source": [
    "#Matriz de confusión\n",
    "cm = confusion_matrix(y_test, y_pred)\n",
    "print(cm)"
   ],
   "metadata": {
    "collapsed": false
   }
  },
  {
   "cell_type": "code",
   "execution_count": 11,
   "outputs": [],
   "source": [
    "import csv\n",
    "# Save as CSV\n",
    "with open(\"cm_rf_balanced.csv\", \"w\", newline=\"\") as file:\n",
    "    writer = csv.writer(file)\n",
    "    writer.writerows(cm)"
   ],
   "metadata": {
    "collapsed": false
   }
  },
  {
   "cell_type": "code",
   "execution_count": 10,
   "outputs": [
    {
     "name": "stdout",
     "output_type": "stream",
     "text": [
      "Cohen's kappa:  0.8986817678478374\n",
      "\n",
      "              precision    recall  f1-score   support\n",
      "\n",
      "           1     0.9095    0.9598    0.9340       199\n",
      "           2     0.9665    0.8522    0.9058       203\n",
      "           3     0.9266    0.9854    0.9551       205\n",
      "\n",
      "    accuracy                         0.9325       607\n",
      "   macro avg     0.9342    0.9325    0.9316       607\n",
      "weighted avg     0.9343    0.9325    0.9317       607\n",
      "\n"
     ]
    }
   ],
   "source": [
    "print(\"Cohen's kappa: \", cohen_kappa_score(y_test,y_pred))\n",
    "print()\n",
    "print(classification_report(y_test, y_pred, labels=[1,2,3], digits=4))"
   ],
   "metadata": {
    "collapsed": false
   }
  },
  {
   "cell_type": "code",
   "execution_count": 10,
   "outputs": [],
   "source": [],
   "metadata": {
    "collapsed": false
   }
  }
 ],
 "metadata": {
  "kernelspec": {
   "display_name": "Python 3",
   "language": "python",
   "name": "python3"
  },
  "language_info": {
   "codemirror_mode": {
    "name": "ipython",
    "version": 2
   },
   "file_extension": ".py",
   "mimetype": "text/x-python",
   "name": "python",
   "nbconvert_exporter": "python",
   "pygments_lexer": "ipython2",
   "version": "2.7.6"
  }
 },
 "nbformat": 4,
 "nbformat_minor": 0
}
