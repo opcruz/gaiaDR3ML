{
 "cells": [
  {
   "cell_type": "code",
   "execution_count": 28,
   "metadata": {
    "collapsed": true
   },
   "outputs": [],
   "source": [
    "import pandas as pd\n",
    "import os\n",
    "import numpy as np\n",
    "from sklearn.ensemble import RandomForestClassifier\n",
    "from sklearn.model_selection import train_test_split\n",
    "from sklearn.metrics import accuracy_score\n",
    "from sklearn.model_selection import cross_val_score\n",
    "from sklearn.metrics import confusion_matrix, accuracy_score\n",
    "from sklearn.metrics import cohen_kappa_score\n",
    "from sklearn.metrics import classification_report, balanced_accuracy_score\n",
    "from sklearn.model_selection import GridSearchCV"
   ]
  },
  {
   "cell_type": "code",
   "execution_count": 29,
   "outputs": [],
   "source": [
    "#Cargar el archivo que contiene los datos de los tres tipos de espectros\n",
    "# (Simbioticas-1, Nebulosas-2, Gigantes Rojas-3)\n",
    "# DESPUÉS DEL BALANCEO DE DATOS (1000 APROX. POR CADA UNO)\n",
    "\n",
    "data = pd.read_csv(\"../../../new/datasets/balanced.csv\", header=None)"
   ],
   "metadata": {
    "collapsed": false
   }
  },
  {
   "cell_type": "code",
   "execution_count": 30,
   "outputs": [],
   "source": [
    "# Separamos las características y la variable objetivo\n",
    "X = data.drop(data.columns[-1], axis=1)\n",
    "y = data.iloc[:, -1]"
   ],
   "metadata": {
    "collapsed": false
   }
  },
  {
   "cell_type": "code",
   "execution_count": 31,
   "outputs": [],
   "source": [
    "X_train, X_test, y_train, y_test = train_test_split(X, y, test_size=0.2, random_state=5, stratify=y)"
   ],
   "metadata": {
    "collapsed": false
   }
  },
  {
   "cell_type": "code",
   "execution_count": 5,
   "outputs": [
    {
     "name": "stdout",
     "output_type": "stream",
     "text": [
      "Precisión: 0.94 (+/- 0.01)\n"
     ]
    }
   ],
   "source": [
    "# Creamos el modelo de clasificación de Random Forest\n",
    "rf = RandomForestClassifier(n_estimators=500, random_state=42)\n",
    "scores = cross_val_score(rf, X, y, cv=5)\n",
    "print(\"Precisión: %0.2f (+/- %0.2f)\" % (scores.mean(), scores.std() * 2))"
   ],
   "metadata": {
    "collapsed": false
   }
  },
  {
   "cell_type": "code",
   "execution_count": 6,
   "outputs": [
    {
     "data": {
      "text/plain": "array([0.94666667, 0.93333333, 0.94333333, 0.93833333, 0.945     ])"
     },
     "execution_count": 6,
     "metadata": {},
     "output_type": "execute_result"
    }
   ],
   "source": [
    "scores"
   ],
   "metadata": {
    "collapsed": false
   }
  },
  {
   "cell_type": "code",
   "execution_count": 32,
   "outputs": [],
   "source": [
    "# Creamos el modelo de clasificación de Random Forest\n",
    "rf = RandomForestClassifier(n_estimators=500, random_state=42)"
   ],
   "metadata": {
    "collapsed": false
   }
  },
  {
   "cell_type": "code",
   "execution_count": 33,
   "outputs": [],
   "source": [
    "# Entrenamos el modelo utilizando el conjunto de entrenamiento\n",
    "rf.fit(X_train, y_train)\n",
    "y_pred = rf.predict(X_test)"
   ],
   "metadata": {
    "collapsed": false
   }
  },
  {
   "cell_type": "code",
   "execution_count": 7,
   "outputs": [],
   "source": [
    "#Obtención del número de árboles de clasificación\n",
    "\n",
    "# definir el modelo de Random Forest\n",
    "#rf = RandomForestClassifier(random_state=42)\n",
    "\n",
    "# definir los parámetros de la cuadrícula de búsqueda\n",
    "#param_grid = {'n_estimators': [50, 100, 200, 300, 400, 500]}\n",
    "\n",
    "# realizar la búsqueda en cuadrícula utilizando validación cruzada de 5 pliegues\n",
    "#grid_search = GridSearchCV(rf, param_grid=param_grid, cv=5, scoring='accuracy')\n",
    "#grid_search.fit(X_train, y_train)"
   ],
   "metadata": {
    "collapsed": false
   }
  },
  {
   "cell_type": "code",
   "execution_count": 8,
   "outputs": [],
   "source": [
    "# imprimir los resultados de la búsqueda en cuadrícula\n",
    "#print(\"Mejores hiperparámetros: \", grid_search.best_params_)\n",
    "#print(\"Mejor puntuación de validación cruzada: {:.2f}\".format(grid_search.best_score_))\n",
    "\n",
    "# evaluar el modelo con los mejores hiperparámetros en el conjunto de prueba\n",
    "#y_pred = grid_search.predict(X_test)\n",
    "#accuracy = accuracy_score(y_test, y_pred)\n",
    "#print(\"Exactitud en el conjunto de prueba: {:.2f}\".format(accuracy))"
   ],
   "metadata": {
    "collapsed": false
   }
  },
  {
   "cell_type": "code",
   "execution_count": 8,
   "outputs": [
    {
     "name": "stdout",
     "output_type": "stream",
     "text": [
      "[[196   2   2]\n",
      " [  8 179  13]\n",
      " [  3   6 191]]\n"
     ]
    }
   ],
   "source": [
    "#Matriz de confusión\n",
    "cm = confusion_matrix(y_test, y_pred)\n",
    "print(cm)"
   ],
   "metadata": {
    "collapsed": false
   }
  },
  {
   "cell_type": "code",
   "execution_count": 10,
   "outputs": [
    {
     "name": "stdout",
     "output_type": "stream",
     "text": [
      "Cohen's kappa:  0.915\n",
      "\n",
      "              precision    recall  f1-score   support\n",
      "\n",
      "           1     0.9469    0.9800    0.9631       200\n",
      "           2     0.9572    0.8950    0.9251       200\n",
      "           3     0.9272    0.9550    0.9409       200\n",
      "\n",
      "    accuracy                         0.9433       600\n",
      "   macro avg     0.9438    0.9433    0.9430       600\n",
      "weighted avg     0.9438    0.9433    0.9430       600\n",
      "\n"
     ]
    }
   ],
   "source": [
    "print(\"Cohen's kappa: \", cohen_kappa_score(y_test, y_pred))\n",
    "print()\n",
    "print(classification_report(y_test, y_pred, labels=[1, 2, 3], digits=4))"
   ],
   "metadata": {
    "collapsed": false
   }
  },
  {
   "cell_type": "code",
   "execution_count": 11,
   "outputs": [
    {
     "data": {
      "text/plain": "(0.9437545402459863, 0.9433333333333334, 0.9430320873785188, None)"
     },
     "execution_count": 11,
     "metadata": {},
     "output_type": "execute_result"
    }
   ],
   "source": [
    "from sklearn.metrics import precision_recall_fscore_support\n",
    "\n",
    "precision_recall_fscore_support(y_test, y_pred, average='macro')"
   ],
   "metadata": {
    "collapsed": false
   }
  },
  {
   "cell_type": "markdown",
   "source": [
    "# Suspected Symbiotic Stars v1"
   ],
   "metadata": {
    "collapsed": false
   }
  },
  {
   "cell_type": "code",
   "execution_count": 12,
   "outputs": [
    {
     "name": "stdout",
     "output_type": "stream",
     "text": [
      "[[10  2  3]\n",
      " [ 0  0  0]\n",
      " [ 0  0  0]]\n"
     ]
    }
   ],
   "source": [
    "from sklearn.metrics import confusion_matrix\n",
    "\n",
    "df_sus_sy = pd.read_csv(\"../../../new/candidate_symbiotic_stars_v1/normalized/Suspected_SY.csv\", header=None)\n",
    "\n",
    "y_pred = rf.predict(df_sus_sy)\n",
    "cm = confusion_matrix([1 for _ in range(len(df_sus_sy))], y_pred, labels=[1, 2, 3])\n",
    "print(cm)"
   ],
   "metadata": {
    "collapsed": false
   }
  },
  {
   "cell_type": "code",
   "execution_count": 13,
   "outputs": [
    {
     "data": {
      "text/plain": "             source_id  label\n0  4687286621186701568      1\n1  4651824725526390016      1\n2  3321366590173335424      3\n3  5410876219867043072      1\n4  3575939163051304192      1",
      "text/html": "<div>\n<style scoped>\n    .dataframe tbody tr th:only-of-type {\n        vertical-align: middle;\n    }\n\n    .dataframe tbody tr th {\n        vertical-align: top;\n    }\n\n    .dataframe thead th {\n        text-align: right;\n    }\n</style>\n<table border=\"1\" class=\"dataframe\">\n  <thead>\n    <tr style=\"text-align: right;\">\n      <th></th>\n      <th>source_id</th>\n      <th>label</th>\n    </tr>\n  </thead>\n  <tbody>\n    <tr>\n      <th>0</th>\n      <td>4687286621186701568</td>\n      <td>1</td>\n    </tr>\n    <tr>\n      <th>1</th>\n      <td>4651824725526390016</td>\n      <td>1</td>\n    </tr>\n    <tr>\n      <th>2</th>\n      <td>3321366590173335424</td>\n      <td>3</td>\n    </tr>\n    <tr>\n      <th>3</th>\n      <td>5410876219867043072</td>\n      <td>1</td>\n    </tr>\n    <tr>\n      <th>4</th>\n      <td>3575939163051304192</td>\n      <td>1</td>\n    </tr>\n  </tbody>\n</table>\n</div>"
     },
     "execution_count": 13,
     "metadata": {},
     "output_type": "execute_result"
    }
   ],
   "source": [
    "df_sus_sy_normalized = pd.read_csv(\"../../../new/candidate_symbiotic_stars_v1/calibrated_data/Suspected_SY.csv\")\n",
    "df_sus_sy_normalized['label'] = y_pred\n",
    "df5 = df_sus_sy_normalized[['source_id', 'label']]\n",
    "df5.head(5)"
   ],
   "metadata": {
    "collapsed": false
   }
  },
  {
   "cell_type": "code",
   "execution_count": 14,
   "outputs": [
    {
     "data": {
      "text/plain": "    FIND_NAME        MAIN_ID         OTYPE   SP_TYPE  \\\n0    RAW 1691        LIN 521            C*         C   \n1  [BE74] 583     [BE74] 583  LongPeriodV*     G/Ke:   \n2     StHA 55  EM* StHA   55          Mira       NaN   \n3      ZZ CMi      V* ZZ CMi  LongPeriodV*  M6I-IIep   \n4  WRAY 16−51     WRAY 16-51  LongPeriodV*        M4   \n\n                        ID_Gaia  \\\n0  Gaia DR2 4687286621186701568   \n1  Gaia DR2 4651824725526390016   \n2  Gaia DR3 3321366590173335424   \n3  Gaia DR3 3155368612444708096   \n4  Gaia DR2 5410876219860836224   \n\n                                                 IDS  \\\n0  RAW 1691|LIN 521|2MASS J01183570-7242213|OGLE ...   \n1  2MASS J05265014-7106350|EROS2-star lm058-2n-25...   \n2  IRAS 05440+0642|ASAS J054642+0643.7|ASAS J0546...   \n3  BD+09  1633|AN  306.1934|DO  2156|GCRV  4915|G...   \n4  IRAS 09316-4621|AKARI-IRC-V1 J0933295-463450|D...   \n\n                                              OTYPES             Gaia DR3  \n0               C*|Em*|LP*|LP*|Em*|MIR|NIR|*|C*?|LP?  4687286621186701568  \n1                                   LP*|Em*|NIR|V*|*  4651824725526390016  \n2  Mi*|LP*|V*|LP*|SB*|LP*|MIR|V*|Em*|NIR|*|C*?|IR...  3321366590173335424  \n3                                LP*|NIR|V*|*|IR|LP?  3155368612444708096  \n4                            LP*|NIR|MIR|Em*|PN|*|IR  5410876219867043072  ",
      "text/html": "<div>\n<style scoped>\n    .dataframe tbody tr th:only-of-type {\n        vertical-align: middle;\n    }\n\n    .dataframe tbody tr th {\n        vertical-align: top;\n    }\n\n    .dataframe thead th {\n        text-align: right;\n    }\n</style>\n<table border=\"1\" class=\"dataframe\">\n  <thead>\n    <tr style=\"text-align: right;\">\n      <th></th>\n      <th>FIND_NAME</th>\n      <th>MAIN_ID</th>\n      <th>OTYPE</th>\n      <th>SP_TYPE</th>\n      <th>ID_Gaia</th>\n      <th>IDS</th>\n      <th>OTYPES</th>\n      <th>Gaia DR3</th>\n    </tr>\n  </thead>\n  <tbody>\n    <tr>\n      <th>0</th>\n      <td>RAW 1691</td>\n      <td>LIN 521</td>\n      <td>C*</td>\n      <td>C</td>\n      <td>Gaia DR2 4687286621186701568</td>\n      <td>RAW 1691|LIN 521|2MASS J01183570-7242213|OGLE ...</td>\n      <td>C*|Em*|LP*|LP*|Em*|MIR|NIR|*|C*?|LP?</td>\n      <td>4687286621186701568</td>\n    </tr>\n    <tr>\n      <th>1</th>\n      <td>[BE74] 583</td>\n      <td>[BE74] 583</td>\n      <td>LongPeriodV*</td>\n      <td>G/Ke:</td>\n      <td>Gaia DR2 4651824725526390016</td>\n      <td>2MASS J05265014-7106350|EROS2-star lm058-2n-25...</td>\n      <td>LP*|Em*|NIR|V*|*</td>\n      <td>4651824725526390016</td>\n    </tr>\n    <tr>\n      <th>2</th>\n      <td>StHA 55</td>\n      <td>EM* StHA   55</td>\n      <td>Mira</td>\n      <td>NaN</td>\n      <td>Gaia DR3 3321366590173335424</td>\n      <td>IRAS 05440+0642|ASAS J054642+0643.7|ASAS J0546...</td>\n      <td>Mi*|LP*|V*|LP*|SB*|LP*|MIR|V*|Em*|NIR|*|C*?|IR...</td>\n      <td>3321366590173335424</td>\n    </tr>\n    <tr>\n      <th>3</th>\n      <td>ZZ CMi</td>\n      <td>V* ZZ CMi</td>\n      <td>LongPeriodV*</td>\n      <td>M6I-IIep</td>\n      <td>Gaia DR3 3155368612444708096</td>\n      <td>BD+09  1633|AN  306.1934|DO  2156|GCRV  4915|G...</td>\n      <td>LP*|NIR|V*|*|IR|LP?</td>\n      <td>3155368612444708096</td>\n    </tr>\n    <tr>\n      <th>4</th>\n      <td>WRAY 16−51</td>\n      <td>WRAY 16-51</td>\n      <td>LongPeriodV*</td>\n      <td>M4</td>\n      <td>Gaia DR2 5410876219860836224</td>\n      <td>IRAS 09316-4621|AKARI-IRC-V1 J0933295-463450|D...</td>\n      <td>LP*|NIR|MIR|Em*|PN|*|IR</td>\n      <td>5410876219867043072</td>\n    </tr>\n  </tbody>\n</table>\n</div>"
     },
     "execution_count": 14,
     "metadata": {},
     "output_type": "execute_result"
    }
   ],
   "source": [
    "df6 = pd.read_csv('../../../new/candidate_symbiotic_stars_v1/built_dataset/suspected_SY_dataset.csv')\n",
    "df6.head(5)"
   ],
   "metadata": {
    "collapsed": false
   }
  },
  {
   "cell_type": "code",
   "execution_count": 15,
   "outputs": [
    {
     "data": {
      "text/plain": "    FIND_NAME        MAIN_ID         OTYPE             Gaia DR3  label\n0    RAW 1691        LIN 521            C*  4687286621186701568      1\n1  [BE74] 583     [BE74] 583  LongPeriodV*  4651824725526390016      1\n2     StHA 55  EM* StHA   55          Mira  3321366590173335424      3\n3  WRAY 16−51     WRAY 16-51  LongPeriodV*  5410876219867043072      1\n4   NSV 05572      V* VX Crv          Mira  3575939163051304192      1",
      "text/html": "<div>\n<style scoped>\n    .dataframe tbody tr th:only-of-type {\n        vertical-align: middle;\n    }\n\n    .dataframe tbody tr th {\n        vertical-align: top;\n    }\n\n    .dataframe thead th {\n        text-align: right;\n    }\n</style>\n<table border=\"1\" class=\"dataframe\">\n  <thead>\n    <tr style=\"text-align: right;\">\n      <th></th>\n      <th>FIND_NAME</th>\n      <th>MAIN_ID</th>\n      <th>OTYPE</th>\n      <th>Gaia DR3</th>\n      <th>label</th>\n    </tr>\n  </thead>\n  <tbody>\n    <tr>\n      <th>0</th>\n      <td>RAW 1691</td>\n      <td>LIN 521</td>\n      <td>C*</td>\n      <td>4687286621186701568</td>\n      <td>1</td>\n    </tr>\n    <tr>\n      <th>1</th>\n      <td>[BE74] 583</td>\n      <td>[BE74] 583</td>\n      <td>LongPeriodV*</td>\n      <td>4651824725526390016</td>\n      <td>1</td>\n    </tr>\n    <tr>\n      <th>2</th>\n      <td>StHA 55</td>\n      <td>EM* StHA   55</td>\n      <td>Mira</td>\n      <td>3321366590173335424</td>\n      <td>3</td>\n    </tr>\n    <tr>\n      <th>3</th>\n      <td>WRAY 16−51</td>\n      <td>WRAY 16-51</td>\n      <td>LongPeriodV*</td>\n      <td>5410876219867043072</td>\n      <td>1</td>\n    </tr>\n    <tr>\n      <th>4</th>\n      <td>NSV 05572</td>\n      <td>V* VX Crv</td>\n      <td>Mira</td>\n      <td>3575939163051304192</td>\n      <td>1</td>\n    </tr>\n  </tbody>\n</table>\n</div>"
     },
     "execution_count": 15,
     "metadata": {},
     "output_type": "execute_result"
    }
   ],
   "source": [
    "# Filtro de data frames\n",
    "df_filtered = df6.merge(df5, left_on=['Gaia DR3'], right_on=['source_id'], how='inner', indicator=True)\n",
    "df_filtered = df_filtered[df_filtered['_merge'] == 'both']\n",
    "df_filtered = df_filtered.iloc[:, [0, 1, 2, 7, 9]]\n",
    "df_filtered.head(5)"
   ],
   "metadata": {
    "collapsed": false
   }
  },
  {
   "cell_type": "code",
   "execution_count": 16,
   "outputs": [],
   "source": [
    "import os\n",
    "\n",
    "out_name = 'rf_balanced.csv'\n",
    "out_dir = '../../../new/candidate_symbiotic_stars_v1/output'\n",
    "if not os.path.exists(out_dir):\n",
    "    os.mkdir(out_dir)\n",
    "\n",
    "fullname = os.path.join(out_dir, out_name)\n",
    "df_filtered.to_csv(fullname, header=True, index=False)"
   ],
   "metadata": {
    "collapsed": false
   }
  },
  {
   "cell_type": "markdown",
   "source": [
    "# Suspected Symbiotic Stars v2"
   ],
   "metadata": {
    "collapsed": false
   }
  },
  {
   "cell_type": "code",
   "execution_count": 17,
   "outputs": [
    {
     "name": "stdout",
     "output_type": "stream",
     "text": [
      "[[13  2  2]\n",
      " [ 0  0  0]\n",
      " [ 0  0  0]]\n"
     ]
    }
   ],
   "source": [
    "from sklearn.metrics import confusion_matrix\n",
    "\n",
    "df_sus_sy = pd.read_csv(\"../../../new/candidate_symbiotic_stars_v2/normalized/Suspected_SY.csv\", header=None)\n",
    "\n",
    "y_pred = rf.predict(df_sus_sy)\n",
    "cm = confusion_matrix([1 for _ in range(len(df_sus_sy))], y_pred, labels=[1, 2, 3])\n",
    "print(cm)"
   ],
   "metadata": {
    "collapsed": false
   }
  },
  {
   "cell_type": "code",
   "execution_count": 18,
   "outputs": [
    {
     "data": {
      "text/plain": "             source_id  label\n0  6204217186929931520      2\n1  4061952680197028224      1\n2   670455944074475008      1\n3  4068755633500598272      3\n4  2060829659152816768      2",
      "text/html": "<div>\n<style scoped>\n    .dataframe tbody tr th:only-of-type {\n        vertical-align: middle;\n    }\n\n    .dataframe tbody tr th {\n        vertical-align: top;\n    }\n\n    .dataframe thead th {\n        text-align: right;\n    }\n</style>\n<table border=\"1\" class=\"dataframe\">\n  <thead>\n    <tr style=\"text-align: right;\">\n      <th></th>\n      <th>source_id</th>\n      <th>label</th>\n    </tr>\n  </thead>\n  <tbody>\n    <tr>\n      <th>0</th>\n      <td>6204217186929931520</td>\n      <td>2</td>\n    </tr>\n    <tr>\n      <th>1</th>\n      <td>4061952680197028224</td>\n      <td>1</td>\n    </tr>\n    <tr>\n      <th>2</th>\n      <td>670455944074475008</td>\n      <td>1</td>\n    </tr>\n    <tr>\n      <th>3</th>\n      <td>4068755633500598272</td>\n      <td>3</td>\n    </tr>\n    <tr>\n      <th>4</th>\n      <td>2060829659152816768</td>\n      <td>2</td>\n    </tr>\n  </tbody>\n</table>\n</div>"
     },
     "execution_count": 18,
     "metadata": {},
     "output_type": "execute_result"
    }
   ],
   "source": [
    "df_sus_sy_normalized = pd.read_csv(\"../../../new/candidate_symbiotic_stars_v2/calibrated_data/Suspected_SY.csv\")\n",
    "df_sus_sy_normalized['label'] = y_pred\n",
    "df5 = df_sus_sy_normalized[['source_id', 'label']]\n",
    "df5.head(5)"
   ],
   "metadata": {
    "collapsed": false
   }
  },
  {
   "cell_type": "code",
   "execution_count": 19,
   "outputs": [
    {
     "data": {
      "text/plain": "                  FIND_NAME              MAIN_ID                   OTYPE  \\\n0                  V748 Cen          V* V748 Cen                  EclBin   \n1               WRAY 16-294          WRAY 16-294            LongPeriodV*   \n2    DASCH J075731.1+201735  ASAS J075731+2017.6            LongPeriodV*   \n3       ASAS J174600-2321.3  ASAS J174600-2321.3  LongPeriodV*_Candidate   \n4  IPHASJ201550.96+373004.2      IRAS 20140+3720  PlanetaryNeb_Candidate   \n\n  SP_TYPE                       ID_Gaia  \\\n0      Ae  Gaia DR3 6204217186929931520   \n1      K5  Gaia DR2 4061952680197028224   \n2   M0III   Gaia DR2 670455944074475008   \n3     F0I  Gaia DR2 4068755633500598272   \n4     NaN  Gaia DR2 2060829659152816768   \n\n                                                 IDS  \\\n0  CD-32 10517|ALS 18924|CRTS J145936.6-332503|CS...   \n1  2MASS J17391381-2538050|DENIS J173913.8-253805...   \n2  2MASS J07573112+2017347|ASAS J075731+2017.6|DA...   \n3  2MASS J17460018-2321163|ASAS J174600-2321.3|ER...   \n4  2MASS J20155096+3730042|AKARI-IRC-V1 J2015509+...   \n\n                         OTYPES             Gaia DR3  \n0          EB*|Ro*|NIR|V*|Em*|*  6204217186929931520  \n1  LP*|PN|NIR|Em*|*|C*?|ISM|LP?  4061952680197028224  \n2          SB*|LP*|NIR|V*|*|Opt   670455944074475008  \n3                  NIR|V*|*|LP?  4068755633500598272  \n4          NIR|*|C*?|IR|LP?|PN?  2060829659152816768  ",
      "text/html": "<div>\n<style scoped>\n    .dataframe tbody tr th:only-of-type {\n        vertical-align: middle;\n    }\n\n    .dataframe tbody tr th {\n        vertical-align: top;\n    }\n\n    .dataframe thead th {\n        text-align: right;\n    }\n</style>\n<table border=\"1\" class=\"dataframe\">\n  <thead>\n    <tr style=\"text-align: right;\">\n      <th></th>\n      <th>FIND_NAME</th>\n      <th>MAIN_ID</th>\n      <th>OTYPE</th>\n      <th>SP_TYPE</th>\n      <th>ID_Gaia</th>\n      <th>IDS</th>\n      <th>OTYPES</th>\n      <th>Gaia DR3</th>\n    </tr>\n  </thead>\n  <tbody>\n    <tr>\n      <th>0</th>\n      <td>V748 Cen</td>\n      <td>V* V748 Cen</td>\n      <td>EclBin</td>\n      <td>Ae</td>\n      <td>Gaia DR3 6204217186929931520</td>\n      <td>CD-32 10517|ALS 18924|CRTS J145936.6-332503|CS...</td>\n      <td>EB*|Ro*|NIR|V*|Em*|*</td>\n      <td>6204217186929931520</td>\n    </tr>\n    <tr>\n      <th>1</th>\n      <td>WRAY 16-294</td>\n      <td>WRAY 16-294</td>\n      <td>LongPeriodV*</td>\n      <td>K5</td>\n      <td>Gaia DR2 4061952680197028224</td>\n      <td>2MASS J17391381-2538050|DENIS J173913.8-253805...</td>\n      <td>LP*|PN|NIR|Em*|*|C*?|ISM|LP?</td>\n      <td>4061952680197028224</td>\n    </tr>\n    <tr>\n      <th>2</th>\n      <td>DASCH J075731.1+201735</td>\n      <td>ASAS J075731+2017.6</td>\n      <td>LongPeriodV*</td>\n      <td>M0III</td>\n      <td>Gaia DR2 670455944074475008</td>\n      <td>2MASS J07573112+2017347|ASAS J075731+2017.6|DA...</td>\n      <td>SB*|LP*|NIR|V*|*|Opt</td>\n      <td>670455944074475008</td>\n    </tr>\n    <tr>\n      <th>3</th>\n      <td>ASAS J174600-2321.3</td>\n      <td>ASAS J174600-2321.3</td>\n      <td>LongPeriodV*_Candidate</td>\n      <td>F0I</td>\n      <td>Gaia DR2 4068755633500598272</td>\n      <td>2MASS J17460018-2321163|ASAS J174600-2321.3|ER...</td>\n      <td>NIR|V*|*|LP?</td>\n      <td>4068755633500598272</td>\n    </tr>\n    <tr>\n      <th>4</th>\n      <td>IPHASJ201550.96+373004.2</td>\n      <td>IRAS 20140+3720</td>\n      <td>PlanetaryNeb_Candidate</td>\n      <td>NaN</td>\n      <td>Gaia DR2 2060829659152816768</td>\n      <td>2MASS J20155096+3730042|AKARI-IRC-V1 J2015509+...</td>\n      <td>NIR|*|C*?|IR|LP?|PN?</td>\n      <td>2060829659152816768</td>\n    </tr>\n  </tbody>\n</table>\n</div>"
     },
     "execution_count": 19,
     "metadata": {},
     "output_type": "execute_result"
    }
   ],
   "source": [
    "df6 = pd.read_csv('../../../new/candidate_symbiotic_stars_v2/built_dataset/suspected_SY_dataset.csv')\n",
    "df6.head(5)"
   ],
   "metadata": {
    "collapsed": false
   }
  },
  {
   "cell_type": "code",
   "execution_count": 20,
   "outputs": [
    {
     "data": {
      "text/plain": "                  FIND_NAME              MAIN_ID                   OTYPE  \\\n0                  V748 Cen          V* V748 Cen                  EclBin   \n1               WRAY 16-294          WRAY 16-294            LongPeriodV*   \n2    DASCH J075731.1+201735  ASAS J075731+2017.6            LongPeriodV*   \n3       ASAS J174600-2321.3  ASAS J174600-2321.3  LongPeriodV*_Candidate   \n4  IPHASJ201550.96+373004.2      IRAS 20140+3720  PlanetaryNeb_Candidate   \n\n              Gaia DR3  label  \n0  6204217186929931520      2  \n1  4061952680197028224      1  \n2   670455944074475008      1  \n3  4068755633500598272      3  \n4  2060829659152816768      2  ",
      "text/html": "<div>\n<style scoped>\n    .dataframe tbody tr th:only-of-type {\n        vertical-align: middle;\n    }\n\n    .dataframe tbody tr th {\n        vertical-align: top;\n    }\n\n    .dataframe thead th {\n        text-align: right;\n    }\n</style>\n<table border=\"1\" class=\"dataframe\">\n  <thead>\n    <tr style=\"text-align: right;\">\n      <th></th>\n      <th>FIND_NAME</th>\n      <th>MAIN_ID</th>\n      <th>OTYPE</th>\n      <th>Gaia DR3</th>\n      <th>label</th>\n    </tr>\n  </thead>\n  <tbody>\n    <tr>\n      <th>0</th>\n      <td>V748 Cen</td>\n      <td>V* V748 Cen</td>\n      <td>EclBin</td>\n      <td>6204217186929931520</td>\n      <td>2</td>\n    </tr>\n    <tr>\n      <th>1</th>\n      <td>WRAY 16-294</td>\n      <td>WRAY 16-294</td>\n      <td>LongPeriodV*</td>\n      <td>4061952680197028224</td>\n      <td>1</td>\n    </tr>\n    <tr>\n      <th>2</th>\n      <td>DASCH J075731.1+201735</td>\n      <td>ASAS J075731+2017.6</td>\n      <td>LongPeriodV*</td>\n      <td>670455944074475008</td>\n      <td>1</td>\n    </tr>\n    <tr>\n      <th>3</th>\n      <td>ASAS J174600-2321.3</td>\n      <td>ASAS J174600-2321.3</td>\n      <td>LongPeriodV*_Candidate</td>\n      <td>4068755633500598272</td>\n      <td>3</td>\n    </tr>\n    <tr>\n      <th>4</th>\n      <td>IPHASJ201550.96+373004.2</td>\n      <td>IRAS 20140+3720</td>\n      <td>PlanetaryNeb_Candidate</td>\n      <td>2060829659152816768</td>\n      <td>2</td>\n    </tr>\n  </tbody>\n</table>\n</div>"
     },
     "execution_count": 20,
     "metadata": {},
     "output_type": "execute_result"
    }
   ],
   "source": [
    "# Filtro de data frames\n",
    "df_filtered = df6.merge(df5, left_on=['Gaia DR3'], right_on=['source_id'], how='inner', indicator=True)\n",
    "df_filtered = df_filtered[df_filtered['_merge'] == 'both']\n",
    "df_filtered = df_filtered.iloc[:, [0, 1, 2, 7, 9]]\n",
    "df_filtered.head(5)"
   ],
   "metadata": {
    "collapsed": false
   }
  },
  {
   "cell_type": "code",
   "execution_count": 21,
   "outputs": [],
   "source": [
    "import os\n",
    "\n",
    "out_name = 'rf_balanced.csv'\n",
    "out_dir = '../../../new/candidate_symbiotic_stars_v2/output'\n",
    "if not os.path.exists(out_dir):\n",
    "    os.mkdir(out_dir)\n",
    "\n",
    "fullname = os.path.join(out_dir, out_name)\n",
    "df_filtered.to_csv(fullname, header=True, index=False)"
   ],
   "metadata": {
    "collapsed": false
   }
  },
  {
   "cell_type": "markdown",
   "source": [
    "# Other stars"
   ],
   "metadata": {
    "collapsed": false
   }
  },
  {
   "cell_type": "code",
   "execution_count": 14,
   "outputs": [
    {
     "name": "stdout",
     "output_type": "stream",
     "text": [
      "[[1 3 3]\n",
      " [0 0 0]\n",
      " [0 0 0]]\n"
     ]
    }
   ],
   "source": [
    "from sklearn.metrics import confusion_matrix\n",
    "\n",
    "df_sus_sy = pd.read_csv(\"../../../new/other_stars/normalized/Suspected.csv\", header=None)\n",
    "\n",
    "y_pred = rf.predict(df_sus_sy)\n",
    "cm = confusion_matrix([1 for _ in range(len(df_sus_sy))], y_pred, labels=[1, 2, 3])\n",
    "print(cm)"
   ],
   "metadata": {
    "collapsed": false
   }
  },
  {
   "cell_type": "code",
   "execution_count": 17,
   "outputs": [
    {
     "data": {
      "text/plain": "             source_id  label\n0  3321366590173335424      3\n1  4557410314849153920      3\n2  2022052808961769088      2\n3  4052553745525657600      2\n4  4050670827750135040      2",
      "text/html": "<div>\n<style scoped>\n    .dataframe tbody tr th:only-of-type {\n        vertical-align: middle;\n    }\n\n    .dataframe tbody tr th {\n        vertical-align: top;\n    }\n\n    .dataframe thead th {\n        text-align: right;\n    }\n</style>\n<table border=\"1\" class=\"dataframe\">\n  <thead>\n    <tr style=\"text-align: right;\">\n      <th></th>\n      <th>source_id</th>\n      <th>label</th>\n    </tr>\n  </thead>\n  <tbody>\n    <tr>\n      <th>0</th>\n      <td>3321366590173335424</td>\n      <td>3</td>\n    </tr>\n    <tr>\n      <th>1</th>\n      <td>4557410314849153920</td>\n      <td>3</td>\n    </tr>\n    <tr>\n      <th>2</th>\n      <td>2022052808961769088</td>\n      <td>2</td>\n    </tr>\n    <tr>\n      <th>3</th>\n      <td>4052553745525657600</td>\n      <td>2</td>\n    </tr>\n    <tr>\n      <th>4</th>\n      <td>4050670827750135040</td>\n      <td>2</td>\n    </tr>\n  </tbody>\n</table>\n</div>"
     },
     "execution_count": 17,
     "metadata": {},
     "output_type": "execute_result"
    }
   ],
   "source": [
    "df_sus_sy_normalized = pd.read_csv(\"../../../new/other_stars/calibrated_data/Suspected.csv\")\n",
    "df_sus_sy_normalized['label'] = y_pred\n",
    "df5 = df_sus_sy_normalized[['source_id', 'label']]\n",
    "df5.head(5)"
   ],
   "metadata": {
    "collapsed": false
   }
  },
  {
   "cell_type": "code",
   "execution_count": 20,
   "outputs": [
    {
     "data": {
      "text/plain": "  FIND_NAME        MAIN_ID         OTYPE SP_TYPE  \\\n0    StHa55  EM* StHA   55          Mira     NaN   \n1    GH Gem      V* GH Gem    Symbiotic*     NaN   \n2   V503Her    V* V503 Her    Symbiotic*     NaN   \n3  Hen2-442      Hen 2-442  PlanetaryNeb     NaN   \n4  V850 Aql    V* V850 Aql    Symbiotic*  O-rich   \n\n                        ID_Gaia  \\\n0  Gaia DR3 3321366590173335424   \n1  Gaia DR3 3160625132721733888   \n2  Gaia DR3 4557410314849153920   \n3  Gaia DR2 2022052808961769088   \n4  Gaia DR2 4263728319553777408   \n\n                                                 IDS  \\\n0  IRAS 05440+0642|ASAS J054642+0643.7|ASAS J0546...   \n1  SV* SON  3566|AN  241.1943|ATO J106.0532+12.05...   \n2  SV* P  4385|AN  170.1936|ASAS J173640+2318.2|A...   \n3  Hen 2-442|AKARI-IRC-V1 J1939433+262933|GSC2 N0...   \n4  SV* SON  4396|CSV   4646|IRAS 19210+0032|2MASS...   \n\n                                              OTYPES             Gaia DR3  \n0  Mi*|LP*|V*|LP*|SB*|LP*|MIR|V*|Em*|NIR|*|C*?|IR...  3321366590173335424  \n1                                Sy*|V*|NIR|V*|*|Opt  3160625132721733888  \n2                        LP*|Sy*|V*|Pu*|NIR|V*|*|Opt  4557410314849153920  \n3                                 PN|NIR|MIR|V*|*|IR  2022052808961769088  \n4         Sy*|Em*|Mas|AB*|LP*|NIR|PN|V*|*|IR|LP?|Mi?  4263728319553777408  ",
      "text/html": "<div>\n<style scoped>\n    .dataframe tbody tr th:only-of-type {\n        vertical-align: middle;\n    }\n\n    .dataframe tbody tr th {\n        vertical-align: top;\n    }\n\n    .dataframe thead th {\n        text-align: right;\n    }\n</style>\n<table border=\"1\" class=\"dataframe\">\n  <thead>\n    <tr style=\"text-align: right;\">\n      <th></th>\n      <th>FIND_NAME</th>\n      <th>MAIN_ID</th>\n      <th>OTYPE</th>\n      <th>SP_TYPE</th>\n      <th>ID_Gaia</th>\n      <th>IDS</th>\n      <th>OTYPES</th>\n      <th>Gaia DR3</th>\n    </tr>\n  </thead>\n  <tbody>\n    <tr>\n      <th>0</th>\n      <td>StHa55</td>\n      <td>EM* StHA   55</td>\n      <td>Mira</td>\n      <td>NaN</td>\n      <td>Gaia DR3 3321366590173335424</td>\n      <td>IRAS 05440+0642|ASAS J054642+0643.7|ASAS J0546...</td>\n      <td>Mi*|LP*|V*|LP*|SB*|LP*|MIR|V*|Em*|NIR|*|C*?|IR...</td>\n      <td>3321366590173335424</td>\n    </tr>\n    <tr>\n      <th>1</th>\n      <td>GH Gem</td>\n      <td>V* GH Gem</td>\n      <td>Symbiotic*</td>\n      <td>NaN</td>\n      <td>Gaia DR3 3160625132721733888</td>\n      <td>SV* SON  3566|AN  241.1943|ATO J106.0532+12.05...</td>\n      <td>Sy*|V*|NIR|V*|*|Opt</td>\n      <td>3160625132721733888</td>\n    </tr>\n    <tr>\n      <th>2</th>\n      <td>V503Her</td>\n      <td>V* V503 Her</td>\n      <td>Symbiotic*</td>\n      <td>NaN</td>\n      <td>Gaia DR3 4557410314849153920</td>\n      <td>SV* P  4385|AN  170.1936|ASAS J173640+2318.2|A...</td>\n      <td>LP*|Sy*|V*|Pu*|NIR|V*|*|Opt</td>\n      <td>4557410314849153920</td>\n    </tr>\n    <tr>\n      <th>3</th>\n      <td>Hen2-442</td>\n      <td>Hen 2-442</td>\n      <td>PlanetaryNeb</td>\n      <td>NaN</td>\n      <td>Gaia DR2 2022052808961769088</td>\n      <td>Hen 2-442|AKARI-IRC-V1 J1939433+262933|GSC2 N0...</td>\n      <td>PN|NIR|MIR|V*|*|IR</td>\n      <td>2022052808961769088</td>\n    </tr>\n    <tr>\n      <th>4</th>\n      <td>V850 Aql</td>\n      <td>V* V850 Aql</td>\n      <td>Symbiotic*</td>\n      <td>O-rich</td>\n      <td>Gaia DR2 4263728319553777408</td>\n      <td>SV* SON  4396|CSV   4646|IRAS 19210+0032|2MASS...</td>\n      <td>Sy*|Em*|Mas|AB*|LP*|NIR|PN|V*|*|IR|LP?|Mi?</td>\n      <td>4263728319553777408</td>\n    </tr>\n  </tbody>\n</table>\n</div>"
     },
     "execution_count": 20,
     "metadata": {},
     "output_type": "execute_result"
    }
   ],
   "source": [
    "df6 = pd.read_csv('../../../new/other_stars/symbad/suspected.csv')\n",
    "df6.head(5)"
   ],
   "metadata": {
    "collapsed": false
   }
  },
  {
   "cell_type": "code",
   "execution_count": 21,
   "outputs": [
    {
     "data": {
      "text/plain": "  FIND_NAME        MAIN_ID         OTYPE             Gaia DR3  label\n0    StHa55  EM* StHA   55          Mira  3321366590173335424      3\n1   V503Her    V* V503 Her    Symbiotic*  4557410314849153920      3\n2  Hen2-442      Hen 2-442  PlanetaryNeb  2022052808961769088      2\n3  Hen2-379     PN M  1-44  PlanetaryNeb  4052553745525657600      2\n4     AS288     PN H  2-43  PlanetaryNeb  4050670827750135040      2",
      "text/html": "<div>\n<style scoped>\n    .dataframe tbody tr th:only-of-type {\n        vertical-align: middle;\n    }\n\n    .dataframe tbody tr th {\n        vertical-align: top;\n    }\n\n    .dataframe thead th {\n        text-align: right;\n    }\n</style>\n<table border=\"1\" class=\"dataframe\">\n  <thead>\n    <tr style=\"text-align: right;\">\n      <th></th>\n      <th>FIND_NAME</th>\n      <th>MAIN_ID</th>\n      <th>OTYPE</th>\n      <th>Gaia DR3</th>\n      <th>label</th>\n    </tr>\n  </thead>\n  <tbody>\n    <tr>\n      <th>0</th>\n      <td>StHa55</td>\n      <td>EM* StHA   55</td>\n      <td>Mira</td>\n      <td>3321366590173335424</td>\n      <td>3</td>\n    </tr>\n    <tr>\n      <th>1</th>\n      <td>V503Her</td>\n      <td>V* V503 Her</td>\n      <td>Symbiotic*</td>\n      <td>4557410314849153920</td>\n      <td>3</td>\n    </tr>\n    <tr>\n      <th>2</th>\n      <td>Hen2-442</td>\n      <td>Hen 2-442</td>\n      <td>PlanetaryNeb</td>\n      <td>2022052808961769088</td>\n      <td>2</td>\n    </tr>\n    <tr>\n      <th>3</th>\n      <td>Hen2-379</td>\n      <td>PN M  1-44</td>\n      <td>PlanetaryNeb</td>\n      <td>4052553745525657600</td>\n      <td>2</td>\n    </tr>\n    <tr>\n      <th>4</th>\n      <td>AS288</td>\n      <td>PN H  2-43</td>\n      <td>PlanetaryNeb</td>\n      <td>4050670827750135040</td>\n      <td>2</td>\n    </tr>\n  </tbody>\n</table>\n</div>"
     },
     "execution_count": 21,
     "metadata": {},
     "output_type": "execute_result"
    }
   ],
   "source": [
    "# Filtro de data frames\n",
    "df_filtered = df6.merge(df5, left_on=['Gaia DR3'], right_on=['source_id'], how='inner', indicator=True)\n",
    "df_filtered = df_filtered[df_filtered['_merge'] == 'both']\n",
    "df_filtered = df_filtered.iloc[:, [0, 1, 2, 7, 9]]\n",
    "df_filtered.head(5)"
   ],
   "metadata": {
    "collapsed": false
   }
  },
  {
   "cell_type": "code",
   "execution_count": 22,
   "outputs": [],
   "source": [
    "import os\n",
    "\n",
    "out_name = 'rf_balanced.csv'\n",
    "out_dir = '../../../new/other_stars/output'\n",
    "if not os.path.exists(out_dir):\n",
    "    os.mkdir(out_dir)\n",
    "\n",
    "fullname = os.path.join(out_dir, out_name)\n",
    "df_filtered.to_csv(fullname, header=True, index=False)"
   ],
   "metadata": {
    "collapsed": false
   }
  },
  {
   "cell_type": "code",
   "execution_count": null,
   "outputs": [],
   "source": [],
   "metadata": {
    "collapsed": false
   }
  },
  {
   "cell_type": "markdown",
   "source": [
    "# Suspected PN"
   ],
   "metadata": {
    "collapsed": false
   }
  },
  {
   "cell_type": "code",
   "execution_count": 34,
   "outputs": [],
   "source": [
    "## Suspected PN\n",
    "eligible_candidates = [\n",
    "    \"IRAS 02379+5724\",\n",
    "    \"UCAC2  46104304\",\n",
    "    \"IRAS 05495+2620\",\n",
    "    \"IRAS 06549-2330\",\n",
    "    \"PN G228.1+00.8\",\n",
    "    \"PN G239.3-02.7\",\n",
    "    \"PN Y-C   40\",\n",
    "    \"EGB  2\",\n",
    "    \"IRAS 10348-6320\",\n",
    "    \"IRAS 11555-6031\",\n",
    "    \"IRAS 11415-6540\",\n",
    "    \"PN G292.3+00.5\",\n",
    "    \"2MASS J05221214-6949580\",\n",
    "    # \"[RP2006] J052216-694127\",\n",
    "    # \"[RP2006] J052254-694036\",\n",
    "    \"[RP2006] J052438-690413\",\n",
    "    \"[RP2006]  312\"\n",
    "]"
   ],
   "metadata": {
    "collapsed": false
   }
  },
  {
   "cell_type": "code",
   "execution_count": 35,
   "outputs": [
    {
     "name": "stdout",
     "output_type": "stream",
     "text": [
      "[[24 82 40]\n",
      " [ 0  0  0]\n",
      " [ 0  0  0]]\n"
     ]
    },
    {
     "name": "stderr",
     "output_type": "stream",
     "text": [
      "C:\\Users\\orest\\AppData\\Local\\Programs\\Python\\Python311\\Lib\\site-packages\\sklearn\\base.py:402: UserWarning: X has feature names, but RandomForestClassifier was fitted without feature names\n",
      "  warnings.warn(\n"
     ]
    }
   ],
   "source": [
    "import numpy as np\n",
    "from sklearn.metrics import confusion_matrix\n",
    "\n",
    "df_sus_pn = pd.read_csv(\"../../../new_v3/normalized/NP_Candidate.csv\")\n",
    "\n",
    "# Eliminar la primera columna\n",
    "df_sus_pn_data = df_sus_pn.drop(df_sus_pn.columns[0], axis=1)\n",
    "\n",
    "# predecir las probabilidades para los datos de prueba\n",
    "y_pred = rf.predict(df_sus_pn_data)\n",
    "cm = confusion_matrix([1 for _ in range(len(df_sus_pn_data))], y_pred, labels=[1,2,3])\n",
    "print(cm)"
   ],
   "metadata": {
    "collapsed": false
   }
  },
  {
   "cell_type": "code",
   "execution_count": 36,
   "outputs": [
    {
     "data": {
      "text/plain": "             source_id  label\n0   457887361083098880      2\n1   469648081051557376      2\n2   203511119746151040      1\n3  3430688759283627776      2\n4  2884159294765728768      2",
      "text/html": "<div>\n<style scoped>\n    .dataframe tbody tr th:only-of-type {\n        vertical-align: middle;\n    }\n\n    .dataframe tbody tr th {\n        vertical-align: top;\n    }\n\n    .dataframe thead th {\n        text-align: right;\n    }\n</style>\n<table border=\"1\" class=\"dataframe\">\n  <thead>\n    <tr style=\"text-align: right;\">\n      <th></th>\n      <th>source_id</th>\n      <th>label</th>\n    </tr>\n  </thead>\n  <tbody>\n    <tr>\n      <th>0</th>\n      <td>457887361083098880</td>\n      <td>2</td>\n    </tr>\n    <tr>\n      <th>1</th>\n      <td>469648081051557376</td>\n      <td>2</td>\n    </tr>\n    <tr>\n      <th>2</th>\n      <td>203511119746151040</td>\n      <td>1</td>\n    </tr>\n    <tr>\n      <th>3</th>\n      <td>3430688759283627776</td>\n      <td>2</td>\n    </tr>\n    <tr>\n      <th>4</th>\n      <td>2884159294765728768</td>\n      <td>2</td>\n    </tr>\n  </tbody>\n</table>\n</div>"
     },
     "execution_count": 36,
     "metadata": {},
     "output_type": "execute_result"
    }
   ],
   "source": [
    "df5 = pd.DataFrame(df_sus_pn['source_id'])\n",
    "df5['label'] = y_pred\n",
    "df5.head()"
   ],
   "metadata": {
    "collapsed": false
   }
  },
  {
   "cell_type": "code",
   "execution_count": 37,
   "outputs": [
    {
     "data": {
      "text/plain": "             MAIN_ID                   OTYPE SP_TYPE  \\\n0       PN HaWe    3  PlanetaryNeb_Candidate     NaN   \n1    IRAS 02379+5724  PlanetaryNeb_Candidate     NaN   \n2          HD 237204  PlanetaryNeb_Candidate  B2III:   \n3    UCAC2  46104304  PlanetaryNeb_Candidate     NaN   \n4    IRAS 05345+2657  PlanetaryNeb_Candidate     NaN   \n..               ...                     ...     ...   \n366  IRAS 12481-4903  PlanetaryNeb_Candidate     NaN   \n367  IRAS 17532-3045  PlanetaryNeb_Candidate     NaN   \n368  IRAS 18321-1401  PlanetaryNeb_Candidate     NaN   \n369  IRAS 18340-1302  PlanetaryNeb_Candidate     NaN   \n370   PN G061.5-02.6  PlanetaryNeb_Candidate     NaN   \n\n                          ID_Gaia  \\\n0     Gaia DR2 434853485833190528   \n1     Gaia DR2 457887361083098880   \n2     Gaia DR2 469648081051557376   \n3     Gaia DR2 203511119746151040   \n4    Gaia DR2 3441293067898788992   \n..                            ...   \n366  Gaia DR2 6079563212927574528   \n367  Gaia DR3 4056100078497762176   \n368  Gaia DR2 4104509513893397760   \n369  Gaia DR3 4104727698224345728   \n370  Gaia DR3 1834171384397003264   \n\n                                                   IDS  \\\n0    PN HaWe    3|2MASS J03163403+4653374|PK 147-09...   \n1    2MASS J02413591+5737379|IPHAS J024135.93+57373...   \n2    HD 237204|AG+56  441|ALS  7847|AP J04002328+56...   \n3    UCAC2  46104304|IPHAS J044338.64+410941.5|IRAS...   \n4    AKARI-IRC-V1 J0537424+265913|AKARI-FIS-V1 J053...   \n..                                                 ...   \n366  TYC 8253-562-1|AKARI-IRC-V1 J1250577-491951|GA...   \n367  UCAC4 297-134949|AKARI-IRC-V1 J1756302-304522|...   \n368  UCAC4 381-119111|AKARI-IRC-V1 J1834570-135848|...   \n369  UCAC4 386-108329|AKARI-IRC-V1 J1836531-125922|...   \n370  PN G061.5-02.6|2MASS J19572322+2352483|Gaia DR...   \n\n                           OTYPES             RA            DEC  \\\n0                NIR|MIR|PN|*|PN?  03 16 34.0393  +46 53 37.297   \n1                    NIR|*|IR|PN?  02 41 35.9206  +57 37 38.021   \n2    Pu*|NIR|MIR|*|IR|PN?|PN?|bC?  04 00 23.2815  +56 54 05.757   \n3            Em*|NIR|*|IR|Opt|PN?  04 43 38.6416  +41 09 41.460   \n4              MIR|*|G|IR|PN?|PN?  05 37 42.3456  +26 59 14.047   \n..                            ...            ...            ...   \n366      MIR|NIR|*|*|G|IR|PN?|PN?  12 50 57.7794  -49 19 52.021   \n367              MIR|NIR|*|IR|PN?  17 56 30.2700  -30 45 22.394   \n368   V*|MIR|NIR|*|IR|Opt|PN?|PN?  18 34 56.9988  -13 58 48.905   \n369              NIR|*|IR|LP?|PN?  18 36 53.0785  -12 59 23.299   \n370                  NIR|PN|*|PN?  19 57 23.2324  +23 52 48.330   \n\n                Gaia DR3  \n0     434853485833190528  \n1     457887361083098880  \n2     469648081051557376  \n3     203511119746151040  \n4    3441293067898788992  \n..                   ...  \n366  6079563212927574528  \n367  4056100078497762176  \n368  4104509513893397760  \n369  4104727698224345728  \n370  1834171384397003264  \n\n[371 rows x 9 columns]",
      "text/html": "<div>\n<style scoped>\n    .dataframe tbody tr th:only-of-type {\n        vertical-align: middle;\n    }\n\n    .dataframe tbody tr th {\n        vertical-align: top;\n    }\n\n    .dataframe thead th {\n        text-align: right;\n    }\n</style>\n<table border=\"1\" class=\"dataframe\">\n  <thead>\n    <tr style=\"text-align: right;\">\n      <th></th>\n      <th>MAIN_ID</th>\n      <th>OTYPE</th>\n      <th>SP_TYPE</th>\n      <th>ID_Gaia</th>\n      <th>IDS</th>\n      <th>OTYPES</th>\n      <th>RA</th>\n      <th>DEC</th>\n      <th>Gaia DR3</th>\n    </tr>\n  </thead>\n  <tbody>\n    <tr>\n      <th>0</th>\n      <td>PN HaWe    3</td>\n      <td>PlanetaryNeb_Candidate</td>\n      <td>NaN</td>\n      <td>Gaia DR2 434853485833190528</td>\n      <td>PN HaWe    3|2MASS J03163403+4653374|PK 147-09...</td>\n      <td>NIR|MIR|PN|*|PN?</td>\n      <td>03 16 34.0393</td>\n      <td>+46 53 37.297</td>\n      <td>434853485833190528</td>\n    </tr>\n    <tr>\n      <th>1</th>\n      <td>IRAS 02379+5724</td>\n      <td>PlanetaryNeb_Candidate</td>\n      <td>NaN</td>\n      <td>Gaia DR2 457887361083098880</td>\n      <td>2MASS J02413591+5737379|IPHAS J024135.93+57373...</td>\n      <td>NIR|*|IR|PN?</td>\n      <td>02 41 35.9206</td>\n      <td>+57 37 38.021</td>\n      <td>457887361083098880</td>\n    </tr>\n    <tr>\n      <th>2</th>\n      <td>HD 237204</td>\n      <td>PlanetaryNeb_Candidate</td>\n      <td>B2III:</td>\n      <td>Gaia DR2 469648081051557376</td>\n      <td>HD 237204|AG+56  441|ALS  7847|AP J04002328+56...</td>\n      <td>Pu*|NIR|MIR|*|IR|PN?|PN?|bC?</td>\n      <td>04 00 23.2815</td>\n      <td>+56 54 05.757</td>\n      <td>469648081051557376</td>\n    </tr>\n    <tr>\n      <th>3</th>\n      <td>UCAC2  46104304</td>\n      <td>PlanetaryNeb_Candidate</td>\n      <td>NaN</td>\n      <td>Gaia DR2 203511119746151040</td>\n      <td>UCAC2  46104304|IPHAS J044338.64+410941.5|IRAS...</td>\n      <td>Em*|NIR|*|IR|Opt|PN?</td>\n      <td>04 43 38.6416</td>\n      <td>+41 09 41.460</td>\n      <td>203511119746151040</td>\n    </tr>\n    <tr>\n      <th>4</th>\n      <td>IRAS 05345+2657</td>\n      <td>PlanetaryNeb_Candidate</td>\n      <td>NaN</td>\n      <td>Gaia DR2 3441293067898788992</td>\n      <td>AKARI-IRC-V1 J0537424+265913|AKARI-FIS-V1 J053...</td>\n      <td>MIR|*|G|IR|PN?|PN?</td>\n      <td>05 37 42.3456</td>\n      <td>+26 59 14.047</td>\n      <td>3441293067898788992</td>\n    </tr>\n    <tr>\n      <th>...</th>\n      <td>...</td>\n      <td>...</td>\n      <td>...</td>\n      <td>...</td>\n      <td>...</td>\n      <td>...</td>\n      <td>...</td>\n      <td>...</td>\n      <td>...</td>\n    </tr>\n    <tr>\n      <th>366</th>\n      <td>IRAS 12481-4903</td>\n      <td>PlanetaryNeb_Candidate</td>\n      <td>NaN</td>\n      <td>Gaia DR2 6079563212927574528</td>\n      <td>TYC 8253-562-1|AKARI-IRC-V1 J1250577-491951|GA...</td>\n      <td>MIR|NIR|*|*|G|IR|PN?|PN?</td>\n      <td>12 50 57.7794</td>\n      <td>-49 19 52.021</td>\n      <td>6079563212927574528</td>\n    </tr>\n    <tr>\n      <th>367</th>\n      <td>IRAS 17532-3045</td>\n      <td>PlanetaryNeb_Candidate</td>\n      <td>NaN</td>\n      <td>Gaia DR3 4056100078497762176</td>\n      <td>UCAC4 297-134949|AKARI-IRC-V1 J1756302-304522|...</td>\n      <td>MIR|NIR|*|IR|PN?</td>\n      <td>17 56 30.2700</td>\n      <td>-30 45 22.394</td>\n      <td>4056100078497762176</td>\n    </tr>\n    <tr>\n      <th>368</th>\n      <td>IRAS 18321-1401</td>\n      <td>PlanetaryNeb_Candidate</td>\n      <td>NaN</td>\n      <td>Gaia DR2 4104509513893397760</td>\n      <td>UCAC4 381-119111|AKARI-IRC-V1 J1834570-135848|...</td>\n      <td>V*|MIR|NIR|*|IR|Opt|PN?|PN?</td>\n      <td>18 34 56.9988</td>\n      <td>-13 58 48.905</td>\n      <td>4104509513893397760</td>\n    </tr>\n    <tr>\n      <th>369</th>\n      <td>IRAS 18340-1302</td>\n      <td>PlanetaryNeb_Candidate</td>\n      <td>NaN</td>\n      <td>Gaia DR3 4104727698224345728</td>\n      <td>UCAC4 386-108329|AKARI-IRC-V1 J1836531-125922|...</td>\n      <td>NIR|*|IR|LP?|PN?</td>\n      <td>18 36 53.0785</td>\n      <td>-12 59 23.299</td>\n      <td>4104727698224345728</td>\n    </tr>\n    <tr>\n      <th>370</th>\n      <td>PN G061.5-02.6</td>\n      <td>PlanetaryNeb_Candidate</td>\n      <td>NaN</td>\n      <td>Gaia DR3 1834171384397003264</td>\n      <td>PN G061.5-02.6|2MASS J19572322+2352483|Gaia DR...</td>\n      <td>NIR|PN|*|PN?</td>\n      <td>19 57 23.2324</td>\n      <td>+23 52 48.330</td>\n      <td>1834171384397003264</td>\n    </tr>\n  </tbody>\n</table>\n<p>371 rows × 9 columns</p>\n</div>"
     },
     "execution_count": 37,
     "metadata": {},
     "output_type": "execute_result"
    }
   ],
   "source": [
    "df6 = pd.read_csv('../../../new_v3/symbad/NP_Candidate.csv')\n",
    "df6"
   ],
   "metadata": {
    "collapsed": false
   }
  },
  {
   "cell_type": "code",
   "execution_count": 38,
   "outputs": [
    {
     "data": {
      "text/plain": "             MAIN_ID                   OTYPE SP_TYPE             RA  \\\n0    IRAS 02379+5724  PlanetaryNeb_Candidate     NaN  02 41 35.9206   \n1          HD 237204  PlanetaryNeb_Candidate  B2III:  04 00 23.2815   \n2    UCAC2  46104304  PlanetaryNeb_Candidate     NaN  04 43 38.6416   \n3    IRAS 05495+2620  PlanetaryNeb_Candidate     NaN  05 52 42.8154   \n4         PN K  2-12  PlanetaryNeb_Candidate     NaN  06 02 06.8725   \n..               ...                     ...     ...            ...   \n141   NAME PN LDu 26  PlanetaryNeb_Candidate     NaN  20 35 22.7732   \n142       WRAY 17-57  PlanetaryNeb_Candidate     NaN  12 53 16.3034   \n143  IRAS 18020-3207  PlanetaryNeb_Candidate     NaN  18 05 19.1339   \n144  IRAS 12481-4903  PlanetaryNeb_Candidate     NaN  12 50 57.7794   \n145  IRAS 17532-3045  PlanetaryNeb_Candidate     NaN  17 56 30.2700   \n\n               DEC             Gaia DR3  label  \n0    +57 37 38.021   457887361083098880      2  \n1    +56 54 05.757   469648081051557376      2  \n2    +41 09 41.460   203511119746151040      1  \n3    +26 21 16.018  3430688759283627776      2  \n4    -37 25 25.207  2884159294765728768      2  \n..             ...                  ...    ...  \n141  +00 12 51.090  4229698606444795392      2  \n142  -61 45 26.431  6055339498610714624      3  \n143  -32 06 59.315  4043047642896333440      2  \n144  -49 19 52.021  6079563212927574528      2  \n145  -30 45 22.394  4056100078497762176      2  \n\n[146 rows x 7 columns]",
      "text/html": "<div>\n<style scoped>\n    .dataframe tbody tr th:only-of-type {\n        vertical-align: middle;\n    }\n\n    .dataframe tbody tr th {\n        vertical-align: top;\n    }\n\n    .dataframe thead th {\n        text-align: right;\n    }\n</style>\n<table border=\"1\" class=\"dataframe\">\n  <thead>\n    <tr style=\"text-align: right;\">\n      <th></th>\n      <th>MAIN_ID</th>\n      <th>OTYPE</th>\n      <th>SP_TYPE</th>\n      <th>RA</th>\n      <th>DEC</th>\n      <th>Gaia DR3</th>\n      <th>label</th>\n    </tr>\n  </thead>\n  <tbody>\n    <tr>\n      <th>0</th>\n      <td>IRAS 02379+5724</td>\n      <td>PlanetaryNeb_Candidate</td>\n      <td>NaN</td>\n      <td>02 41 35.9206</td>\n      <td>+57 37 38.021</td>\n      <td>457887361083098880</td>\n      <td>2</td>\n    </tr>\n    <tr>\n      <th>1</th>\n      <td>HD 237204</td>\n      <td>PlanetaryNeb_Candidate</td>\n      <td>B2III:</td>\n      <td>04 00 23.2815</td>\n      <td>+56 54 05.757</td>\n      <td>469648081051557376</td>\n      <td>2</td>\n    </tr>\n    <tr>\n      <th>2</th>\n      <td>UCAC2  46104304</td>\n      <td>PlanetaryNeb_Candidate</td>\n      <td>NaN</td>\n      <td>04 43 38.6416</td>\n      <td>+41 09 41.460</td>\n      <td>203511119746151040</td>\n      <td>1</td>\n    </tr>\n    <tr>\n      <th>3</th>\n      <td>IRAS 05495+2620</td>\n      <td>PlanetaryNeb_Candidate</td>\n      <td>NaN</td>\n      <td>05 52 42.8154</td>\n      <td>+26 21 16.018</td>\n      <td>3430688759283627776</td>\n      <td>2</td>\n    </tr>\n    <tr>\n      <th>4</th>\n      <td>PN K  2-12</td>\n      <td>PlanetaryNeb_Candidate</td>\n      <td>NaN</td>\n      <td>06 02 06.8725</td>\n      <td>-37 25 25.207</td>\n      <td>2884159294765728768</td>\n      <td>2</td>\n    </tr>\n    <tr>\n      <th>...</th>\n      <td>...</td>\n      <td>...</td>\n      <td>...</td>\n      <td>...</td>\n      <td>...</td>\n      <td>...</td>\n      <td>...</td>\n    </tr>\n    <tr>\n      <th>141</th>\n      <td>NAME PN LDu 26</td>\n      <td>PlanetaryNeb_Candidate</td>\n      <td>NaN</td>\n      <td>20 35 22.7732</td>\n      <td>+00 12 51.090</td>\n      <td>4229698606444795392</td>\n      <td>2</td>\n    </tr>\n    <tr>\n      <th>142</th>\n      <td>WRAY 17-57</td>\n      <td>PlanetaryNeb_Candidate</td>\n      <td>NaN</td>\n      <td>12 53 16.3034</td>\n      <td>-61 45 26.431</td>\n      <td>6055339498610714624</td>\n      <td>3</td>\n    </tr>\n    <tr>\n      <th>143</th>\n      <td>IRAS 18020-3207</td>\n      <td>PlanetaryNeb_Candidate</td>\n      <td>NaN</td>\n      <td>18 05 19.1339</td>\n      <td>-32 06 59.315</td>\n      <td>4043047642896333440</td>\n      <td>2</td>\n    </tr>\n    <tr>\n      <th>144</th>\n      <td>IRAS 12481-4903</td>\n      <td>PlanetaryNeb_Candidate</td>\n      <td>NaN</td>\n      <td>12 50 57.7794</td>\n      <td>-49 19 52.021</td>\n      <td>6079563212927574528</td>\n      <td>2</td>\n    </tr>\n    <tr>\n      <th>145</th>\n      <td>IRAS 17532-3045</td>\n      <td>PlanetaryNeb_Candidate</td>\n      <td>NaN</td>\n      <td>17 56 30.2700</td>\n      <td>-30 45 22.394</td>\n      <td>4056100078497762176</td>\n      <td>2</td>\n    </tr>\n  </tbody>\n</table>\n<p>146 rows × 7 columns</p>\n</div>"
     },
     "execution_count": 38,
     "metadata": {},
     "output_type": "execute_result"
    }
   ],
   "source": [
    "# Filtro de data frames\n",
    "df_filtered = df6.merge(df5, left_on=['Gaia DR3'], right_on=['source_id'], how='inner', indicator=True)\n",
    "df_filtered = df_filtered[df_filtered['_merge'] == 'both']\n",
    "df_filtered = df_filtered.iloc[:, [0, 1, 2, 6, 7, 8, 10]]\n",
    "df_filtered"
   ],
   "metadata": {
    "collapsed": false
   }
  },
  {
   "cell_type": "code",
   "execution_count": 39,
   "outputs": [],
   "source": [
    "out_name = 'rf_balanced.csv'\n",
    "out_dir = '../../../new_v3/output'\n",
    "if not os.path.exists(out_dir):\n",
    "    os.mkdir(out_dir)\n",
    "\n",
    "fullname = os.path.join(out_dir, out_name)\n",
    "df_filtered.to_csv(fullname, header=True, index=False)"
   ],
   "metadata": {
    "collapsed": false
   }
  },
  {
   "cell_type": "code",
   "execution_count": 40,
   "outputs": [],
   "source": [
    "# filter by eligible candidates\n",
    "eligible_np = df_filtered[df_filtered['MAIN_ID'].isin(eligible_candidates)]\n",
    "eligible_np = eligible_np.reset_index(drop=True)\n",
    "\n",
    "out_name = 'rf_balanced_elegible_np_candidates.csv'\n",
    "out_dir = '../../../new_v3/output'\n",
    "if not os.path.exists(out_dir):\n",
    "    os.mkdir(out_dir)\n",
    "\n",
    "fullname = os.path.join(out_dir, out_name)\n",
    "eligible_np.to_csv(fullname, header=True, index=False)"
   ],
   "metadata": {
    "collapsed": false
   }
  },
  {
   "cell_type": "code",
   "execution_count": null,
   "outputs": [],
   "source": [],
   "metadata": {
    "collapsed": false
   }
  }
 ],
 "metadata": {
  "kernelspec": {
   "display_name": "Python 3",
   "language": "python",
   "name": "python3"
  },
  "language_info": {
   "codemirror_mode": {
    "name": "ipython",
    "version": 2
   },
   "file_extension": ".py",
   "mimetype": "text/x-python",
   "name": "python",
   "nbconvert_exporter": "python",
   "pygments_lexer": "ipython2",
   "version": "2.7.6"
  }
 },
 "nbformat": 4,
 "nbformat_minor": 0
}
