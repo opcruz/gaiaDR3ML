{
 "cells": [
  {
   "cell_type": "code",
   "execution_count": 11,
   "metadata": {
    "collapsed": true
   },
   "outputs": [],
   "source": [
    "import pandas as pd\n",
    "import numpy as np\n",
    "from sklearn.ensemble import RandomForestClassifier\n",
    "from sklearn.model_selection import train_test_split\n",
    "from sklearn.metrics import accuracy_score\n",
    "from sklearn.model_selection import cross_val_score\n",
    "from sklearn.metrics import confusion_matrix, accuracy_score\n",
    "from sklearn.metrics import cohen_kappa_score\n",
    "from sklearn.metrics import classification_report\n",
    "from sklearn.model_selection import GridSearchCV"
   ]
  },
  {
   "cell_type": "code",
   "execution_count": 12,
   "outputs": [],
   "source": [
    "#Cargar el archivo que contiene los datos de los tres tipos de espectros\n",
    "# (Simbioticas-1, Gigantes Rojas-3)\n",
    "# DESPUÉS DEL BALANCEO DE DATOS (1000 APROX. POR CADA UNO)\n",
    "\n",
    "data = pd.read_csv('../../../Data/DR3/espectros_normalizados_balanceados_SG.csv')"
   ],
   "metadata": {
    "collapsed": false
   }
  },
  {
   "cell_type": "code",
   "execution_count": 13,
   "outputs": [],
   "source": [
    "# Separamos las características y la variable objetivo\n",
    "\n",
    "X = data.drop(data.columns[-1],  axis=1)\n",
    "y = data.iloc[:, -1]"
   ],
   "metadata": {
    "collapsed": false
   }
  },
  {
   "cell_type": "code",
   "execution_count": 14,
   "outputs": [],
   "source": [
    "X_train, X_test, y_train, y_test = train_test_split(X, y, test_size=0.2)"
   ],
   "metadata": {
    "collapsed": false
   }
  },
  {
   "cell_type": "code",
   "execution_count": 15,
   "outputs": [
    {
     "name": "stdout",
     "output_type": "stream",
     "text": [
      "Precisión: 0.98 (+/- 0.03)\n"
     ]
    }
   ],
   "source": [
    "# Creamos el modelo de clasificación de Random Forest\n",
    "rf5 = RandomForestClassifier(n_estimators=200, random_state=42)\n",
    "scores = cross_val_score(rf5, X, y, cv=7)\n",
    "print(\"Precisión: %0.2f (+/- %0.2f)\" % (scores.mean(), scores.std() * 2))"
   ],
   "metadata": {
    "collapsed": false
   }
  },
  {
   "cell_type": "code",
   "execution_count": 16,
   "outputs": [],
   "source": [
    "# Entrenamos el modelo utilizando el conjunto de entrenamiento\n",
    "rf5.fit(X_train, y_train)\n",
    "\n",
    "# Hacemos predicciones en el conjunto de prueba\n",
    "y_pred = rf5.predict(X_test)"
   ],
   "metadata": {
    "collapsed": false
   }
  },
  {
   "cell_type": "code",
   "execution_count": 17,
   "outputs": [
    {
     "name": "stdout",
     "output_type": "stream",
     "text": [
      "[[205   1]\n",
      " [  4 195]]\n"
     ]
    }
   ],
   "source": [
    "#Matriz de confusión\n",
    "cm = confusion_matrix(y_test, y_pred)\n",
    "print(cm)"
   ],
   "metadata": {
    "collapsed": false
   }
  },
  {
   "cell_type": "code",
   "execution_count": 18,
   "outputs": [
    {
     "name": "stdout",
     "output_type": "stream",
     "text": [
      "Cohen's kappa:  0.975294935766833\n",
      "\n",
      "              precision    recall  f1-score   support\n",
      "\n",
      "           1     0.9809    0.9951    0.9880       206\n",
      "           3     0.9949    0.9799    0.9873       199\n",
      "\n",
      "    accuracy                         0.9877       405\n",
      "   macro avg     0.9879    0.9875    0.9876       405\n",
      "weighted avg     0.9878    0.9877    0.9877       405\n",
      "\n"
     ]
    }
   ],
   "source": [
    "print(\"Cohen's kappa: \", cohen_kappa_score(y_test,y_pred))\n",
    "print()\n",
    "print(classification_report(y_test, y_pred, labels=[1,3], digits=4))"
   ],
   "metadata": {
    "collapsed": false
   }
  }
 ],
 "metadata": {
  "kernelspec": {
   "display_name": "Python 3",
   "language": "python",
   "name": "python3"
  },
  "language_info": {
   "codemirror_mode": {
    "name": "ipython",
    "version": 2
   },
   "file_extension": ".py",
   "mimetype": "text/x-python",
   "name": "python",
   "nbconvert_exporter": "python",
   "pygments_lexer": "ipython2",
   "version": "2.7.6"
  }
 },
 "nbformat": 4,
 "nbformat_minor": 0
}
