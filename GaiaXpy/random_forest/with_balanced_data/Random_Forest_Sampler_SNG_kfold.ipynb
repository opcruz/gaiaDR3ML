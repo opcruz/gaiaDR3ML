{
 "cells": [
  {
   "cell_type": "code",
   "execution_count": 1,
   "metadata": {
    "collapsed": true
   },
   "outputs": [],
   "source": [
    "import pandas as pd\n",
    "import os\n",
    "import numpy as np\n",
    "from sklearn.ensemble import RandomForestClassifier\n",
    "from sklearn.model_selection import train_test_split\n",
    "from sklearn.metrics import accuracy_score\n",
    "from sklearn.model_selection import cross_val_score\n",
    "from sklearn.metrics import confusion_matrix, accuracy_score\n",
    "from sklearn.metrics import cohen_kappa_score\n",
    "from sklearn.metrics import classification_report, balanced_accuracy_score\n",
    "from sklearn.model_selection import GridSearchCV\n",
    "import os\n",
    "\n",
    "import numpy as np\n",
    "import pandas as pd\n",
    "import tensorflow as tf\n",
    "from sklearn.metrics import confusion_matrix\n",
    "from sklearn.metrics import precision_score, recall_score, f1_score, accuracy_score, cohen_kappa_score\n",
    "from sklearn.model_selection import GroupKFold"
   ]
  },
  {
   "cell_type": "code",
   "execution_count": 2,
   "outputs": [],
   "source": [
    "#Cargar el archivo que contiene los datos de los tres tipos de espectros\n",
    "# (Simbioticas-1, Nebulosas-2, Gigantes Rojas-3)\n",
    "df = pd.read_csv(\"../../../new/datasets/balanced_grouped.csv\")"
   ],
   "metadata": {
    "collapsed": false
   }
  },
  {
   "cell_type": "code",
   "execution_count": 3,
   "outputs": [
    {
     "data": {
      "text/plain": "             0         1         2         3         4         5         6  \\\n0     0.015594  0.010444  0.021063  0.025866  0.023642  0.026157  0.032252   \n1     0.331350  0.262977  0.212018  0.300518  0.377132  0.383542  0.231755   \n2     0.134930  0.075620  0.062616  0.044667  0.121870  0.126496  0.103467   \n3     0.109130  0.129643  0.087304  0.051216  0.052661  0.060745  0.052967   \n4     0.224262  0.227079  0.146116  0.080234  0.091311  0.125116  0.114054   \n...        ...       ...       ...       ...       ...       ...       ...   \n2995  0.522966  0.397591  0.313419  0.284905  0.271822  0.246843  0.243718   \n2996  0.201920  0.160191  0.144714  0.130479  0.123315  0.146114  0.197060   \n2997  0.000000  0.162607  0.413518  0.572730  0.515844  0.394520  0.409770   \n2998  0.257628  0.097062  0.009845  0.092240  0.235695  0.254916  0.118284   \n2999  0.172262  0.134213  0.124143  0.129056  0.121605  0.097169  0.086261   \n\n             7         8         9  ...       335       336       337  \\\n0     0.027204  0.012955  0.010038  ...  0.822413  0.854666  0.898153   \n1     0.086373  0.090431  0.221658  ...  0.622610  0.634173  0.721204   \n2     0.070279  0.098824  0.085445  ...  0.934640  0.942650  0.890793   \n3     0.048967  0.062728  0.064739  ...  0.846347  0.877817  0.918180   \n4     0.055488  0.044267  0.103987  ...  0.032131  0.029224  0.037412   \n...        ...       ...       ...  ...       ...       ...       ...   \n2995  0.294817  0.378934  0.408562  ...  0.707678  0.711110  0.724560   \n2996  0.225130  0.199775  0.155762  ...  0.681672  0.674718  0.676407   \n2997  0.492245  0.425406  0.261534  ...  0.840853  0.764674  0.685685   \n2998  0.000000  0.053772  0.193354  ...  0.975907  0.949945  0.933002   \n2999  0.104054  0.141076  0.172838  ...  0.641892  0.629536  0.625046   \n\n           338       339       340       341       342  group  id  \n0     0.943331  0.963960  1.000000  0.989876  0.990877      9   1  \n1     0.828365  0.825327  0.854831  0.801820  0.771081      6   1  \n2     0.946226  0.917741  1.000000  0.951573  0.985645      5   1  \n3     0.958194  0.972685  1.000000  0.981704  0.972349      7   1  \n4     0.051124  0.052330  0.076105  0.075062  0.095761      2   1  \n...        ...       ...       ...       ...       ...    ...  ..  \n2995  0.741992  0.744172  0.769042  0.766855  0.788741      3   3  \n2996  0.681894  0.675200  0.689825  0.683288  0.699186      3   3  \n2997  0.607052  0.532962  0.483535  0.458896  0.475790      5   3  \n2998  0.920661  0.897001  0.901540  0.889620  0.910721      9   3  \n2999  0.624397  0.612199  0.626114  0.622392  0.648610      1   3  \n\n[3000 rows x 345 columns]",
      "text/html": "<div>\n<style scoped>\n    .dataframe tbody tr th:only-of-type {\n        vertical-align: middle;\n    }\n\n    .dataframe tbody tr th {\n        vertical-align: top;\n    }\n\n    .dataframe thead th {\n        text-align: right;\n    }\n</style>\n<table border=\"1\" class=\"dataframe\">\n  <thead>\n    <tr style=\"text-align: right;\">\n      <th></th>\n      <th>0</th>\n      <th>1</th>\n      <th>2</th>\n      <th>3</th>\n      <th>4</th>\n      <th>5</th>\n      <th>6</th>\n      <th>7</th>\n      <th>8</th>\n      <th>9</th>\n      <th>...</th>\n      <th>335</th>\n      <th>336</th>\n      <th>337</th>\n      <th>338</th>\n      <th>339</th>\n      <th>340</th>\n      <th>341</th>\n      <th>342</th>\n      <th>group</th>\n      <th>id</th>\n    </tr>\n  </thead>\n  <tbody>\n    <tr>\n      <th>0</th>\n      <td>0.015594</td>\n      <td>0.010444</td>\n      <td>0.021063</td>\n      <td>0.025866</td>\n      <td>0.023642</td>\n      <td>0.026157</td>\n      <td>0.032252</td>\n      <td>0.027204</td>\n      <td>0.012955</td>\n      <td>0.010038</td>\n      <td>...</td>\n      <td>0.822413</td>\n      <td>0.854666</td>\n      <td>0.898153</td>\n      <td>0.943331</td>\n      <td>0.963960</td>\n      <td>1.000000</td>\n      <td>0.989876</td>\n      <td>0.990877</td>\n      <td>9</td>\n      <td>1</td>\n    </tr>\n    <tr>\n      <th>1</th>\n      <td>0.331350</td>\n      <td>0.262977</td>\n      <td>0.212018</td>\n      <td>0.300518</td>\n      <td>0.377132</td>\n      <td>0.383542</td>\n      <td>0.231755</td>\n      <td>0.086373</td>\n      <td>0.090431</td>\n      <td>0.221658</td>\n      <td>...</td>\n      <td>0.622610</td>\n      <td>0.634173</td>\n      <td>0.721204</td>\n      <td>0.828365</td>\n      <td>0.825327</td>\n      <td>0.854831</td>\n      <td>0.801820</td>\n      <td>0.771081</td>\n      <td>6</td>\n      <td>1</td>\n    </tr>\n    <tr>\n      <th>2</th>\n      <td>0.134930</td>\n      <td>0.075620</td>\n      <td>0.062616</td>\n      <td>0.044667</td>\n      <td>0.121870</td>\n      <td>0.126496</td>\n      <td>0.103467</td>\n      <td>0.070279</td>\n      <td>0.098824</td>\n      <td>0.085445</td>\n      <td>...</td>\n      <td>0.934640</td>\n      <td>0.942650</td>\n      <td>0.890793</td>\n      <td>0.946226</td>\n      <td>0.917741</td>\n      <td>1.000000</td>\n      <td>0.951573</td>\n      <td>0.985645</td>\n      <td>5</td>\n      <td>1</td>\n    </tr>\n    <tr>\n      <th>3</th>\n      <td>0.109130</td>\n      <td>0.129643</td>\n      <td>0.087304</td>\n      <td>0.051216</td>\n      <td>0.052661</td>\n      <td>0.060745</td>\n      <td>0.052967</td>\n      <td>0.048967</td>\n      <td>0.062728</td>\n      <td>0.064739</td>\n      <td>...</td>\n      <td>0.846347</td>\n      <td>0.877817</td>\n      <td>0.918180</td>\n      <td>0.958194</td>\n      <td>0.972685</td>\n      <td>1.000000</td>\n      <td>0.981704</td>\n      <td>0.972349</td>\n      <td>7</td>\n      <td>1</td>\n    </tr>\n    <tr>\n      <th>4</th>\n      <td>0.224262</td>\n      <td>0.227079</td>\n      <td>0.146116</td>\n      <td>0.080234</td>\n      <td>0.091311</td>\n      <td>0.125116</td>\n      <td>0.114054</td>\n      <td>0.055488</td>\n      <td>0.044267</td>\n      <td>0.103987</td>\n      <td>...</td>\n      <td>0.032131</td>\n      <td>0.029224</td>\n      <td>0.037412</td>\n      <td>0.051124</td>\n      <td>0.052330</td>\n      <td>0.076105</td>\n      <td>0.075062</td>\n      <td>0.095761</td>\n      <td>2</td>\n      <td>1</td>\n    </tr>\n    <tr>\n      <th>...</th>\n      <td>...</td>\n      <td>...</td>\n      <td>...</td>\n      <td>...</td>\n      <td>...</td>\n      <td>...</td>\n      <td>...</td>\n      <td>...</td>\n      <td>...</td>\n      <td>...</td>\n      <td>...</td>\n      <td>...</td>\n      <td>...</td>\n      <td>...</td>\n      <td>...</td>\n      <td>...</td>\n      <td>...</td>\n      <td>...</td>\n      <td>...</td>\n      <td>...</td>\n      <td>...</td>\n    </tr>\n    <tr>\n      <th>2995</th>\n      <td>0.522966</td>\n      <td>0.397591</td>\n      <td>0.313419</td>\n      <td>0.284905</td>\n      <td>0.271822</td>\n      <td>0.246843</td>\n      <td>0.243718</td>\n      <td>0.294817</td>\n      <td>0.378934</td>\n      <td>0.408562</td>\n      <td>...</td>\n      <td>0.707678</td>\n      <td>0.711110</td>\n      <td>0.724560</td>\n      <td>0.741992</td>\n      <td>0.744172</td>\n      <td>0.769042</td>\n      <td>0.766855</td>\n      <td>0.788741</td>\n      <td>3</td>\n      <td>3</td>\n    </tr>\n    <tr>\n      <th>2996</th>\n      <td>0.201920</td>\n      <td>0.160191</td>\n      <td>0.144714</td>\n      <td>0.130479</td>\n      <td>0.123315</td>\n      <td>0.146114</td>\n      <td>0.197060</td>\n      <td>0.225130</td>\n      <td>0.199775</td>\n      <td>0.155762</td>\n      <td>...</td>\n      <td>0.681672</td>\n      <td>0.674718</td>\n      <td>0.676407</td>\n      <td>0.681894</td>\n      <td>0.675200</td>\n      <td>0.689825</td>\n      <td>0.683288</td>\n      <td>0.699186</td>\n      <td>3</td>\n      <td>3</td>\n    </tr>\n    <tr>\n      <th>2997</th>\n      <td>0.000000</td>\n      <td>0.162607</td>\n      <td>0.413518</td>\n      <td>0.572730</td>\n      <td>0.515844</td>\n      <td>0.394520</td>\n      <td>0.409770</td>\n      <td>0.492245</td>\n      <td>0.425406</td>\n      <td>0.261534</td>\n      <td>...</td>\n      <td>0.840853</td>\n      <td>0.764674</td>\n      <td>0.685685</td>\n      <td>0.607052</td>\n      <td>0.532962</td>\n      <td>0.483535</td>\n      <td>0.458896</td>\n      <td>0.475790</td>\n      <td>5</td>\n      <td>3</td>\n    </tr>\n    <tr>\n      <th>2998</th>\n      <td>0.257628</td>\n      <td>0.097062</td>\n      <td>0.009845</td>\n      <td>0.092240</td>\n      <td>0.235695</td>\n      <td>0.254916</td>\n      <td>0.118284</td>\n      <td>0.000000</td>\n      <td>0.053772</td>\n      <td>0.193354</td>\n      <td>...</td>\n      <td>0.975907</td>\n      <td>0.949945</td>\n      <td>0.933002</td>\n      <td>0.920661</td>\n      <td>0.897001</td>\n      <td>0.901540</td>\n      <td>0.889620</td>\n      <td>0.910721</td>\n      <td>9</td>\n      <td>3</td>\n    </tr>\n    <tr>\n      <th>2999</th>\n      <td>0.172262</td>\n      <td>0.134213</td>\n      <td>0.124143</td>\n      <td>0.129056</td>\n      <td>0.121605</td>\n      <td>0.097169</td>\n      <td>0.086261</td>\n      <td>0.104054</td>\n      <td>0.141076</td>\n      <td>0.172838</td>\n      <td>...</td>\n      <td>0.641892</td>\n      <td>0.629536</td>\n      <td>0.625046</td>\n      <td>0.624397</td>\n      <td>0.612199</td>\n      <td>0.626114</td>\n      <td>0.622392</td>\n      <td>0.648610</td>\n      <td>1</td>\n      <td>3</td>\n    </tr>\n  </tbody>\n</table>\n<p>3000 rows × 345 columns</p>\n</div>"
     },
     "execution_count": 3,
     "metadata": {},
     "output_type": "execute_result"
    }
   ],
   "source": [
    "df"
   ],
   "metadata": {
    "collapsed": false
   }
  },
  {
   "cell_type": "code",
   "execution_count": 4,
   "outputs": [],
   "source": [
    "# Separamos las características y la variable objetivo\n",
    "X = df.iloc[:, :-2]\n",
    "y = df.iloc[:, -1] - 1\n",
    "group = df.iloc[:, -2]"
   ],
   "metadata": {
    "collapsed": false
   }
  },
  {
   "cell_type": "code",
   "execution_count": 4,
   "outputs": [],
   "source": [],
   "metadata": {
    "collapsed": false
   }
  },
  {
   "cell_type": "code",
   "execution_count": 5,
   "outputs": [],
   "source": [
    "gkf = GroupKFold(n_splits=10)\n",
    "\n",
    "# Guardar las métricas para calcular promedios\n",
    "accuracies = []\n",
    "\n",
    "# 4. Crear un DataFrame para almacenar las métricas\n",
    "df_results = pd.DataFrame(columns=['Fold', 'Accuracy', 'Precision', 'Recall', 'F1-Score', 'Kappa'])"
   ],
   "metadata": {
    "collapsed": false
   }
  },
  {
   "cell_type": "code",
   "execution_count": 6,
   "outputs": [
    {
     "name": "stdout",
     "output_type": "stream",
     "text": [
      "[[ 86  14   5]\n",
      " [  2  94   6]\n",
      " [  0   1 100]]\n"
     ]
    },
    {
     "name": "stderr",
     "output_type": "stream",
     "text": [
      "C:\\Users\\orest\\AppData\\Local\\Temp\\ipykernel_12824\\1902901598.py:27: FutureWarning: The frame.append method is deprecated and will be removed from pandas in a future version. Use pandas.concat instead.\n",
      "  df_results = df_results.append({\n"
     ]
    },
    {
     "name": "stdout",
     "output_type": "stream",
     "text": [
      "[[89  9  2]\n",
      " [ 2 84 14]\n",
      " [ 4  1 95]]\n"
     ]
    },
    {
     "name": "stderr",
     "output_type": "stream",
     "text": [
      "C:\\Users\\orest\\AppData\\Local\\Temp\\ipykernel_12824\\1902901598.py:27: FutureWarning: The frame.append method is deprecated and will be removed from pandas in a future version. Use pandas.concat instead.\n",
      "  df_results = df_results.append({\n"
     ]
    },
    {
     "name": "stdout",
     "output_type": "stream",
     "text": [
      "[[98  2  0]\n",
      " [ 7 89  4]\n",
      " [ 0  9 91]]\n"
     ]
    },
    {
     "name": "stderr",
     "output_type": "stream",
     "text": [
      "C:\\Users\\orest\\AppData\\Local\\Temp\\ipykernel_12824\\1902901598.py:27: FutureWarning: The frame.append method is deprecated and will be removed from pandas in a future version. Use pandas.concat instead.\n",
      "  df_results = df_results.append({\n"
     ]
    },
    {
     "name": "stdout",
     "output_type": "stream",
     "text": [
      "[[97  3  0]\n",
      " [ 6 84 10]\n",
      " [ 1  3 96]]\n"
     ]
    },
    {
     "name": "stderr",
     "output_type": "stream",
     "text": [
      "C:\\Users\\orest\\AppData\\Local\\Temp\\ipykernel_12824\\1902901598.py:27: FutureWarning: The frame.append method is deprecated and will be removed from pandas in a future version. Use pandas.concat instead.\n",
      "  df_results = df_results.append({\n"
     ]
    },
    {
     "name": "stdout",
     "output_type": "stream",
     "text": [
      "[[95  5  0]\n",
      " [ 0 87 13]\n",
      " [ 0  2 98]]\n"
     ]
    },
    {
     "name": "stderr",
     "output_type": "stream",
     "text": [
      "C:\\Users\\orest\\AppData\\Local\\Temp\\ipykernel_12824\\1902901598.py:27: FutureWarning: The frame.append method is deprecated and will be removed from pandas in a future version. Use pandas.concat instead.\n",
      "  df_results = df_results.append({\n"
     ]
    },
    {
     "name": "stdout",
     "output_type": "stream",
     "text": [
      "[[90  4  5]\n",
      " [ 5 87  8]\n",
      " [11  5 84]]\n"
     ]
    },
    {
     "name": "stderr",
     "output_type": "stream",
     "text": [
      "C:\\Users\\orest\\AppData\\Local\\Temp\\ipykernel_12824\\1902901598.py:27: FutureWarning: The frame.append method is deprecated and will be removed from pandas in a future version. Use pandas.concat instead.\n",
      "  df_results = df_results.append({\n"
     ]
    },
    {
     "name": "stdout",
     "output_type": "stream",
     "text": [
      "[[99  0  0]\n",
      " [11 81  8]\n",
      " [ 1  5 94]]\n"
     ]
    },
    {
     "name": "stderr",
     "output_type": "stream",
     "text": [
      "C:\\Users\\orest\\AppData\\Local\\Temp\\ipykernel_12824\\1902901598.py:27: FutureWarning: The frame.append method is deprecated and will be removed from pandas in a future version. Use pandas.concat instead.\n",
      "  df_results = df_results.append({\n"
     ]
    },
    {
     "name": "stdout",
     "output_type": "stream",
     "text": [
      "[[99  0  0]\n",
      " [ 4 84 12]\n",
      " [ 2  2 96]]\n"
     ]
    },
    {
     "name": "stderr",
     "output_type": "stream",
     "text": [
      "C:\\Users\\orest\\AppData\\Local\\Temp\\ipykernel_12824\\1902901598.py:27: FutureWarning: The frame.append method is deprecated and will be removed from pandas in a future version. Use pandas.concat instead.\n",
      "  df_results = df_results.append({\n"
     ]
    },
    {
     "name": "stdout",
     "output_type": "stream",
     "text": [
      "[[ 75  17   7]\n",
      " [  0  93   6]\n",
      " [  0   0 100]]\n"
     ]
    },
    {
     "name": "stderr",
     "output_type": "stream",
     "text": [
      "C:\\Users\\orest\\AppData\\Local\\Temp\\ipykernel_12824\\1902901598.py:27: FutureWarning: The frame.append method is deprecated and will be removed from pandas in a future version. Use pandas.concat instead.\n",
      "  df_results = df_results.append({\n"
     ]
    },
    {
     "name": "stdout",
     "output_type": "stream",
     "text": [
      "[[94  5  0]\n",
      " [ 2 97  0]\n",
      " [ 1  0 98]]\n"
     ]
    },
    {
     "name": "stderr",
     "output_type": "stream",
     "text": [
      "C:\\Users\\orest\\AppData\\Local\\Temp\\ipykernel_12824\\1902901598.py:27: FutureWarning: The frame.append method is deprecated and will be removed from pandas in a future version. Use pandas.concat instead.\n",
      "  df_results = df_results.append({\n"
     ]
    }
   ],
   "source": [
    "fold_number = 1\n",
    "for train_index, test_index in gkf.split(X, y, group):\n",
    "    # print(train_index , len(train_index))\n",
    "    # print(test_index, len(test_index))\n",
    "    X_train, X_test = X.iloc[train_index], X.iloc[test_index]\n",
    "    y_train, y_test = y.iloc[train_index], y.iloc[test_index]\n",
    "\n",
    "    # Creamos el modelo de clasificación de Random Forest\n",
    "    model = RandomForestClassifier(n_estimators=500, random_state=42)\n",
    "    # Entrenamos el modelo utilizando el conjunto de entrenamiento\n",
    "    model.fit(X_train, y_train)\n",
    "    y_pred = model.predict(X_test)\n",
    "\n",
    "    # predecir las probabilidades para los datos de prueba\n",
    "    y_pred = model.predict(X_test)\n",
    "    cm = confusion_matrix(y_test, y_pred)\n",
    "    print(cm)\n",
    "\n",
    "        # Calcular las métricas\n",
    "    acc = accuracy_score(y_test, y_pred)\n",
    "    precision = precision_score(y_test, y_pred, average='weighted', zero_division=0)\n",
    "    recall = recall_score(y_test, y_pred, average='weighted', zero_division=0)\n",
    "    f1 = f1_score(y_test, y_pred, average='weighted', zero_division=0)\n",
    "    kappa = cohen_kappa_score(y_test, y_pred)\n",
    "\n",
    "    # Guardar los resultados en el DataFrame\n",
    "    df_results = df_results.append({\n",
    "        'Fold': fold_number,\n",
    "        'Accuracy': acc,\n",
    "        'Precision': precision,\n",
    "        'Recall': recall,\n",
    "        'F1-Score': f1,\n",
    "        'Kappa': kappa\n",
    "    }, ignore_index=True)\n",
    "    fold_number += 1\n"
   ],
   "metadata": {
    "collapsed": false
   }
  },
  {
   "cell_type": "code",
   "execution_count": 7,
   "outputs": [
    {
     "data": {
      "text/plain": "   Fold  Accuracy  Precision    Recall  F1-Score     Kappa\n0   1.0  0.909091   0.914182  0.909091  0.908246  0.863749\n1   2.0  0.893333   0.895438  0.893333  0.893091  0.840000\n2   3.0  0.926667   0.927076  0.926667  0.926477  0.890000\n3   4.0  0.923333   0.923895  0.923333  0.922410  0.885000\n4   5.0  0.933333   0.936138  0.933333  0.933392  0.900000\n5   6.0  0.872910   0.873845  0.872910  0.872848  0.809385\n6   7.0  0.916388   0.918529  0.916388  0.914746  0.874606\n7   8.0  0.933110   0.936141  0.933110  0.932169  0.899675\n8   9.0  0.899329   0.910052  0.899329  0.897137  0.848958\n9  10.0  0.973064   0.973351  0.973064  0.973094  0.959596",
      "text/html": "<div>\n<style scoped>\n    .dataframe tbody tr th:only-of-type {\n        vertical-align: middle;\n    }\n\n    .dataframe tbody tr th {\n        vertical-align: top;\n    }\n\n    .dataframe thead th {\n        text-align: right;\n    }\n</style>\n<table border=\"1\" class=\"dataframe\">\n  <thead>\n    <tr style=\"text-align: right;\">\n      <th></th>\n      <th>Fold</th>\n      <th>Accuracy</th>\n      <th>Precision</th>\n      <th>Recall</th>\n      <th>F1-Score</th>\n      <th>Kappa</th>\n    </tr>\n  </thead>\n  <tbody>\n    <tr>\n      <th>0</th>\n      <td>1.0</td>\n      <td>0.909091</td>\n      <td>0.914182</td>\n      <td>0.909091</td>\n      <td>0.908246</td>\n      <td>0.863749</td>\n    </tr>\n    <tr>\n      <th>1</th>\n      <td>2.0</td>\n      <td>0.893333</td>\n      <td>0.895438</td>\n      <td>0.893333</td>\n      <td>0.893091</td>\n      <td>0.840000</td>\n    </tr>\n    <tr>\n      <th>2</th>\n      <td>3.0</td>\n      <td>0.926667</td>\n      <td>0.927076</td>\n      <td>0.926667</td>\n      <td>0.926477</td>\n      <td>0.890000</td>\n    </tr>\n    <tr>\n      <th>3</th>\n      <td>4.0</td>\n      <td>0.923333</td>\n      <td>0.923895</td>\n      <td>0.923333</td>\n      <td>0.922410</td>\n      <td>0.885000</td>\n    </tr>\n    <tr>\n      <th>4</th>\n      <td>5.0</td>\n      <td>0.933333</td>\n      <td>0.936138</td>\n      <td>0.933333</td>\n      <td>0.933392</td>\n      <td>0.900000</td>\n    </tr>\n    <tr>\n      <th>5</th>\n      <td>6.0</td>\n      <td>0.872910</td>\n      <td>0.873845</td>\n      <td>0.872910</td>\n      <td>0.872848</td>\n      <td>0.809385</td>\n    </tr>\n    <tr>\n      <th>6</th>\n      <td>7.0</td>\n      <td>0.916388</td>\n      <td>0.918529</td>\n      <td>0.916388</td>\n      <td>0.914746</td>\n      <td>0.874606</td>\n    </tr>\n    <tr>\n      <th>7</th>\n      <td>8.0</td>\n      <td>0.933110</td>\n      <td>0.936141</td>\n      <td>0.933110</td>\n      <td>0.932169</td>\n      <td>0.899675</td>\n    </tr>\n    <tr>\n      <th>8</th>\n      <td>9.0</td>\n      <td>0.899329</td>\n      <td>0.910052</td>\n      <td>0.899329</td>\n      <td>0.897137</td>\n      <td>0.848958</td>\n    </tr>\n    <tr>\n      <th>9</th>\n      <td>10.0</td>\n      <td>0.973064</td>\n      <td>0.973351</td>\n      <td>0.973064</td>\n      <td>0.973094</td>\n      <td>0.959596</td>\n    </tr>\n  </tbody>\n</table>\n</div>"
     },
     "execution_count": 7,
     "metadata": {},
     "output_type": "execute_result"
    }
   ],
   "source": [
    "df_results"
   ],
   "metadata": {
    "collapsed": false
   }
  },
  {
   "cell_type": "code",
   "execution_count": 8,
   "outputs": [],
   "source": [
    "# Calcular el promedio y la desviación estándar de cada métrica\n",
    "metrics_mean = df_results[['Accuracy', 'Precision', 'Recall', 'F1-Score', 'Kappa']].mean()\n",
    "metrics_std = df_results[['Accuracy', 'Precision', 'Recall', 'F1-Score', 'Kappa']].std()\n"
   ],
   "metadata": {
    "collapsed": false
   }
  },
  {
   "cell_type": "code",
   "execution_count": 26,
   "outputs": [
    {
     "data": {
      "text/plain": "Accuracy     0.918056\nPrecision    0.920865\nRecall       0.918056\nF1-Score     0.917361\nKappa        0.877097\ndtype: float64"
     },
     "execution_count": 26,
     "metadata": {},
     "output_type": "execute_result"
    }
   ],
   "source": [
    "metrics_mean"
   ],
   "metadata": {
    "collapsed": false
   }
  },
  {
   "cell_type": "code",
   "execution_count": 27,
   "outputs": [
    {
     "data": {
      "text/plain": "Accuracy     0.027226\nPrecision    0.026444\nRecall       0.027226\nF1-Score     0.027407\nKappa        0.040834\ndtype: float64"
     },
     "execution_count": 27,
     "metadata": {},
     "output_type": "execute_result"
    }
   ],
   "source": [
    "metrics_std"
   ],
   "metadata": {
    "collapsed": false
   }
  },
  {
   "cell_type": "code",
   "execution_count": null,
   "outputs": [],
   "source": [],
   "metadata": {
    "collapsed": false
   }
  },
  {
   "cell_type": "code",
   "execution_count": null,
   "outputs": [],
   "source": [],
   "metadata": {
    "collapsed": false
   }
  },
  {
   "cell_type": "code",
   "execution_count": null,
   "outputs": [],
   "source": [],
   "metadata": {
    "collapsed": false
   }
  },
  {
   "cell_type": "markdown",
   "source": [
    "# Suspected Symbiotic Stars v1"
   ],
   "metadata": {
    "collapsed": false
   }
  },
  {
   "cell_type": "code",
   "execution_count": 12,
   "outputs": [
    {
     "name": "stdout",
     "output_type": "stream",
     "text": [
      "[[10  2  3]\n",
      " [ 0  0  0]\n",
      " [ 0  0  0]]\n"
     ]
    }
   ],
   "source": [
    "from sklearn.metrics import confusion_matrix\n",
    "\n",
    "df_sus_sy = pd.read_csv(\"../../../new/candidate_symbiotic_stars_v1/normalized/Suspected_SY.csv\", header=None)\n",
    "\n",
    "y_pred = rf.predict(df_sus_sy)\n",
    "cm = confusion_matrix([1 for _ in range(len(df_sus_sy))], y_pred, labels=[1, 2, 3])\n",
    "print(cm)"
   ],
   "metadata": {
    "collapsed": false
   }
  },
  {
   "cell_type": "code",
   "execution_count": 13,
   "outputs": [
    {
     "data": {
      "text/plain": "             source_id  label\n0  4687286621186701568      1\n1  4651824725526390016      1\n2  3321366590173335424      3\n3  5410876219867043072      1\n4  3575939163051304192      1",
      "text/html": "<div>\n<style scoped>\n    .dataframe tbody tr th:only-of-type {\n        vertical-align: middle;\n    }\n\n    .dataframe tbody tr th {\n        vertical-align: top;\n    }\n\n    .dataframe thead th {\n        text-align: right;\n    }\n</style>\n<table border=\"1\" class=\"dataframe\">\n  <thead>\n    <tr style=\"text-align: right;\">\n      <th></th>\n      <th>source_id</th>\n      <th>label</th>\n    </tr>\n  </thead>\n  <tbody>\n    <tr>\n      <th>0</th>\n      <td>4687286621186701568</td>\n      <td>1</td>\n    </tr>\n    <tr>\n      <th>1</th>\n      <td>4651824725526390016</td>\n      <td>1</td>\n    </tr>\n    <tr>\n      <th>2</th>\n      <td>3321366590173335424</td>\n      <td>3</td>\n    </tr>\n    <tr>\n      <th>3</th>\n      <td>5410876219867043072</td>\n      <td>1</td>\n    </tr>\n    <tr>\n      <th>4</th>\n      <td>3575939163051304192</td>\n      <td>1</td>\n    </tr>\n  </tbody>\n</table>\n</div>"
     },
     "execution_count": 13,
     "metadata": {},
     "output_type": "execute_result"
    }
   ],
   "source": [
    "df_sus_sy_normalized = pd.read_csv(\"../../../new/candidate_symbiotic_stars_v1/calibrated_data/Suspected_SY.csv\")\n",
    "df_sus_sy_normalized['label'] = y_pred\n",
    "df5 = df_sus_sy_normalized[['source_id', 'label']]\n",
    "df5.head(5)"
   ],
   "metadata": {
    "collapsed": false
   }
  },
  {
   "cell_type": "code",
   "execution_count": 14,
   "outputs": [
    {
     "data": {
      "text/plain": "    FIND_NAME        MAIN_ID         OTYPE   SP_TYPE  \\\n0    RAW 1691        LIN 521            C*         C   \n1  [BE74] 583     [BE74] 583  LongPeriodV*     G/Ke:   \n2     StHA 55  EM* StHA   55          Mira       NaN   \n3      ZZ CMi      V* ZZ CMi  LongPeriodV*  M6I-IIep   \n4  WRAY 16−51     WRAY 16-51  LongPeriodV*        M4   \n\n                        ID_Gaia  \\\n0  Gaia DR2 4687286621186701568   \n1  Gaia DR2 4651824725526390016   \n2  Gaia DR3 3321366590173335424   \n3  Gaia DR3 3155368612444708096   \n4  Gaia DR2 5410876219860836224   \n\n                                                 IDS  \\\n0  RAW 1691|LIN 521|2MASS J01183570-7242213|OGLE ...   \n1  2MASS J05265014-7106350|EROS2-star lm058-2n-25...   \n2  IRAS 05440+0642|ASAS J054642+0643.7|ASAS J0546...   \n3  BD+09  1633|AN  306.1934|DO  2156|GCRV  4915|G...   \n4  IRAS 09316-4621|AKARI-IRC-V1 J0933295-463450|D...   \n\n                                              OTYPES             Gaia DR3  \n0               C*|Em*|LP*|LP*|Em*|MIR|NIR|*|C*?|LP?  4687286621186701568  \n1                                   LP*|Em*|NIR|V*|*  4651824725526390016  \n2  Mi*|LP*|V*|LP*|SB*|LP*|MIR|V*|Em*|NIR|*|C*?|IR...  3321366590173335424  \n3                                LP*|NIR|V*|*|IR|LP?  3155368612444708096  \n4                            LP*|NIR|MIR|Em*|PN|*|IR  5410876219867043072  ",
      "text/html": "<div>\n<style scoped>\n    .dataframe tbody tr th:only-of-type {\n        vertical-align: middle;\n    }\n\n    .dataframe tbody tr th {\n        vertical-align: top;\n    }\n\n    .dataframe thead th {\n        text-align: right;\n    }\n</style>\n<table border=\"1\" class=\"dataframe\">\n  <thead>\n    <tr style=\"text-align: right;\">\n      <th></th>\n      <th>FIND_NAME</th>\n      <th>MAIN_ID</th>\n      <th>OTYPE</th>\n      <th>SP_TYPE</th>\n      <th>ID_Gaia</th>\n      <th>IDS</th>\n      <th>OTYPES</th>\n      <th>Gaia DR3</th>\n    </tr>\n  </thead>\n  <tbody>\n    <tr>\n      <th>0</th>\n      <td>RAW 1691</td>\n      <td>LIN 521</td>\n      <td>C*</td>\n      <td>C</td>\n      <td>Gaia DR2 4687286621186701568</td>\n      <td>RAW 1691|LIN 521|2MASS J01183570-7242213|OGLE ...</td>\n      <td>C*|Em*|LP*|LP*|Em*|MIR|NIR|*|C*?|LP?</td>\n      <td>4687286621186701568</td>\n    </tr>\n    <tr>\n      <th>1</th>\n      <td>[BE74] 583</td>\n      <td>[BE74] 583</td>\n      <td>LongPeriodV*</td>\n      <td>G/Ke:</td>\n      <td>Gaia DR2 4651824725526390016</td>\n      <td>2MASS J05265014-7106350|EROS2-star lm058-2n-25...</td>\n      <td>LP*|Em*|NIR|V*|*</td>\n      <td>4651824725526390016</td>\n    </tr>\n    <tr>\n      <th>2</th>\n      <td>StHA 55</td>\n      <td>EM* StHA   55</td>\n      <td>Mira</td>\n      <td>NaN</td>\n      <td>Gaia DR3 3321366590173335424</td>\n      <td>IRAS 05440+0642|ASAS J054642+0643.7|ASAS J0546...</td>\n      <td>Mi*|LP*|V*|LP*|SB*|LP*|MIR|V*|Em*|NIR|*|C*?|IR...</td>\n      <td>3321366590173335424</td>\n    </tr>\n    <tr>\n      <th>3</th>\n      <td>ZZ CMi</td>\n      <td>V* ZZ CMi</td>\n      <td>LongPeriodV*</td>\n      <td>M6I-IIep</td>\n      <td>Gaia DR3 3155368612444708096</td>\n      <td>BD+09  1633|AN  306.1934|DO  2156|GCRV  4915|G...</td>\n      <td>LP*|NIR|V*|*|IR|LP?</td>\n      <td>3155368612444708096</td>\n    </tr>\n    <tr>\n      <th>4</th>\n      <td>WRAY 16−51</td>\n      <td>WRAY 16-51</td>\n      <td>LongPeriodV*</td>\n      <td>M4</td>\n      <td>Gaia DR2 5410876219860836224</td>\n      <td>IRAS 09316-4621|AKARI-IRC-V1 J0933295-463450|D...</td>\n      <td>LP*|NIR|MIR|Em*|PN|*|IR</td>\n      <td>5410876219867043072</td>\n    </tr>\n  </tbody>\n</table>\n</div>"
     },
     "execution_count": 14,
     "metadata": {},
     "output_type": "execute_result"
    }
   ],
   "source": [
    "df6 = pd.read_csv('../../../new/candidate_symbiotic_stars_v1/built_dataset/suspected_SY_dataset.csv')\n",
    "df6.head(5)"
   ],
   "metadata": {
    "collapsed": false
   }
  },
  {
   "cell_type": "code",
   "execution_count": 15,
   "outputs": [
    {
     "data": {
      "text/plain": "    FIND_NAME        MAIN_ID         OTYPE             Gaia DR3  label\n0    RAW 1691        LIN 521            C*  4687286621186701568      1\n1  [BE74] 583     [BE74] 583  LongPeriodV*  4651824725526390016      1\n2     StHA 55  EM* StHA   55          Mira  3321366590173335424      3\n3  WRAY 16−51     WRAY 16-51  LongPeriodV*  5410876219867043072      1\n4   NSV 05572      V* VX Crv          Mira  3575939163051304192      1",
      "text/html": "<div>\n<style scoped>\n    .dataframe tbody tr th:only-of-type {\n        vertical-align: middle;\n    }\n\n    .dataframe tbody tr th {\n        vertical-align: top;\n    }\n\n    .dataframe thead th {\n        text-align: right;\n    }\n</style>\n<table border=\"1\" class=\"dataframe\">\n  <thead>\n    <tr style=\"text-align: right;\">\n      <th></th>\n      <th>FIND_NAME</th>\n      <th>MAIN_ID</th>\n      <th>OTYPE</th>\n      <th>Gaia DR3</th>\n      <th>label</th>\n    </tr>\n  </thead>\n  <tbody>\n    <tr>\n      <th>0</th>\n      <td>RAW 1691</td>\n      <td>LIN 521</td>\n      <td>C*</td>\n      <td>4687286621186701568</td>\n      <td>1</td>\n    </tr>\n    <tr>\n      <th>1</th>\n      <td>[BE74] 583</td>\n      <td>[BE74] 583</td>\n      <td>LongPeriodV*</td>\n      <td>4651824725526390016</td>\n      <td>1</td>\n    </tr>\n    <tr>\n      <th>2</th>\n      <td>StHA 55</td>\n      <td>EM* StHA   55</td>\n      <td>Mira</td>\n      <td>3321366590173335424</td>\n      <td>3</td>\n    </tr>\n    <tr>\n      <th>3</th>\n      <td>WRAY 16−51</td>\n      <td>WRAY 16-51</td>\n      <td>LongPeriodV*</td>\n      <td>5410876219867043072</td>\n      <td>1</td>\n    </tr>\n    <tr>\n      <th>4</th>\n      <td>NSV 05572</td>\n      <td>V* VX Crv</td>\n      <td>Mira</td>\n      <td>3575939163051304192</td>\n      <td>1</td>\n    </tr>\n  </tbody>\n</table>\n</div>"
     },
     "execution_count": 15,
     "metadata": {},
     "output_type": "execute_result"
    }
   ],
   "source": [
    "# Filtro de data frames\n",
    "df_filtered = df6.merge(df5, left_on=['Gaia DR3'], right_on=['source_id'], how='inner', indicator=True)\n",
    "df_filtered = df_filtered[df_filtered['_merge'] == 'both']\n",
    "df_filtered = df_filtered.iloc[:, [0, 1, 2, 7, 9]]\n",
    "df_filtered.head(5)"
   ],
   "metadata": {
    "collapsed": false
   }
  },
  {
   "cell_type": "code",
   "execution_count": 16,
   "outputs": [],
   "source": [
    "import os\n",
    "\n",
    "out_name = 'rf_balanced.csv'\n",
    "out_dir = '../../../new/candidate_symbiotic_stars_v1/output'\n",
    "if not os.path.exists(out_dir):\n",
    "    os.mkdir(out_dir)\n",
    "\n",
    "fullname = os.path.join(out_dir, out_name)\n",
    "df_filtered.to_csv(fullname, header=True, index=False)"
   ],
   "metadata": {
    "collapsed": false
   }
  },
  {
   "cell_type": "markdown",
   "source": [
    "# Suspected Symbiotic Stars v2"
   ],
   "metadata": {
    "collapsed": false
   }
  },
  {
   "cell_type": "code",
   "execution_count": 17,
   "outputs": [
    {
     "name": "stdout",
     "output_type": "stream",
     "text": [
      "[[13  2  2]\n",
      " [ 0  0  0]\n",
      " [ 0  0  0]]\n"
     ]
    }
   ],
   "source": [
    "from sklearn.metrics import confusion_matrix\n",
    "\n",
    "df_sus_sy = pd.read_csv(\"../../../new/candidate_symbiotic_stars_v2/normalized/Suspected_SY.csv\", header=None)\n",
    "\n",
    "y_pred = rf.predict(df_sus_sy)\n",
    "cm = confusion_matrix([1 for _ in range(len(df_sus_sy))], y_pred, labels=[1, 2, 3])\n",
    "print(cm)"
   ],
   "metadata": {
    "collapsed": false
   }
  },
  {
   "cell_type": "code",
   "execution_count": 18,
   "outputs": [
    {
     "data": {
      "text/plain": "             source_id  label\n0  6204217186929931520      2\n1  4061952680197028224      1\n2   670455944074475008      1\n3  4068755633500598272      3\n4  2060829659152816768      2",
      "text/html": "<div>\n<style scoped>\n    .dataframe tbody tr th:only-of-type {\n        vertical-align: middle;\n    }\n\n    .dataframe tbody tr th {\n        vertical-align: top;\n    }\n\n    .dataframe thead th {\n        text-align: right;\n    }\n</style>\n<table border=\"1\" class=\"dataframe\">\n  <thead>\n    <tr style=\"text-align: right;\">\n      <th></th>\n      <th>source_id</th>\n      <th>label</th>\n    </tr>\n  </thead>\n  <tbody>\n    <tr>\n      <th>0</th>\n      <td>6204217186929931520</td>\n      <td>2</td>\n    </tr>\n    <tr>\n      <th>1</th>\n      <td>4061952680197028224</td>\n      <td>1</td>\n    </tr>\n    <tr>\n      <th>2</th>\n      <td>670455944074475008</td>\n      <td>1</td>\n    </tr>\n    <tr>\n      <th>3</th>\n      <td>4068755633500598272</td>\n      <td>3</td>\n    </tr>\n    <tr>\n      <th>4</th>\n      <td>2060829659152816768</td>\n      <td>2</td>\n    </tr>\n  </tbody>\n</table>\n</div>"
     },
     "execution_count": 18,
     "metadata": {},
     "output_type": "execute_result"
    }
   ],
   "source": [
    "df_sus_sy_normalized = pd.read_csv(\"../../../new/candidate_symbiotic_stars_v2/calibrated_data/Suspected_SY.csv\")\n",
    "df_sus_sy_normalized['label'] = y_pred\n",
    "df5 = df_sus_sy_normalized[['source_id', 'label']]\n",
    "df5.head(5)"
   ],
   "metadata": {
    "collapsed": false
   }
  },
  {
   "cell_type": "code",
   "execution_count": 19,
   "outputs": [
    {
     "data": {
      "text/plain": "                  FIND_NAME              MAIN_ID                   OTYPE  \\\n0                  V748 Cen          V* V748 Cen                  EclBin   \n1               WRAY 16-294          WRAY 16-294            LongPeriodV*   \n2    DASCH J075731.1+201735  ASAS J075731+2017.6            LongPeriodV*   \n3       ASAS J174600-2321.3  ASAS J174600-2321.3  LongPeriodV*_Candidate   \n4  IPHASJ201550.96+373004.2      IRAS 20140+3720  PlanetaryNeb_Candidate   \n\n  SP_TYPE                       ID_Gaia  \\\n0      Ae  Gaia DR3 6204217186929931520   \n1      K5  Gaia DR2 4061952680197028224   \n2   M0III   Gaia DR2 670455944074475008   \n3     F0I  Gaia DR2 4068755633500598272   \n4     NaN  Gaia DR2 2060829659152816768   \n\n                                                 IDS  \\\n0  CD-32 10517|ALS 18924|CRTS J145936.6-332503|CS...   \n1  2MASS J17391381-2538050|DENIS J173913.8-253805...   \n2  2MASS J07573112+2017347|ASAS J075731+2017.6|DA...   \n3  2MASS J17460018-2321163|ASAS J174600-2321.3|ER...   \n4  2MASS J20155096+3730042|AKARI-IRC-V1 J2015509+...   \n\n                         OTYPES             Gaia DR3  \n0          EB*|Ro*|NIR|V*|Em*|*  6204217186929931520  \n1  LP*|PN|NIR|Em*|*|C*?|ISM|LP?  4061952680197028224  \n2          SB*|LP*|NIR|V*|*|Opt   670455944074475008  \n3                  NIR|V*|*|LP?  4068755633500598272  \n4          NIR|*|C*?|IR|LP?|PN?  2060829659152816768  ",
      "text/html": "<div>\n<style scoped>\n    .dataframe tbody tr th:only-of-type {\n        vertical-align: middle;\n    }\n\n    .dataframe tbody tr th {\n        vertical-align: top;\n    }\n\n    .dataframe thead th {\n        text-align: right;\n    }\n</style>\n<table border=\"1\" class=\"dataframe\">\n  <thead>\n    <tr style=\"text-align: right;\">\n      <th></th>\n      <th>FIND_NAME</th>\n      <th>MAIN_ID</th>\n      <th>OTYPE</th>\n      <th>SP_TYPE</th>\n      <th>ID_Gaia</th>\n      <th>IDS</th>\n      <th>OTYPES</th>\n      <th>Gaia DR3</th>\n    </tr>\n  </thead>\n  <tbody>\n    <tr>\n      <th>0</th>\n      <td>V748 Cen</td>\n      <td>V* V748 Cen</td>\n      <td>EclBin</td>\n      <td>Ae</td>\n      <td>Gaia DR3 6204217186929931520</td>\n      <td>CD-32 10517|ALS 18924|CRTS J145936.6-332503|CS...</td>\n      <td>EB*|Ro*|NIR|V*|Em*|*</td>\n      <td>6204217186929931520</td>\n    </tr>\n    <tr>\n      <th>1</th>\n      <td>WRAY 16-294</td>\n      <td>WRAY 16-294</td>\n      <td>LongPeriodV*</td>\n      <td>K5</td>\n      <td>Gaia DR2 4061952680197028224</td>\n      <td>2MASS J17391381-2538050|DENIS J173913.8-253805...</td>\n      <td>LP*|PN|NIR|Em*|*|C*?|ISM|LP?</td>\n      <td>4061952680197028224</td>\n    </tr>\n    <tr>\n      <th>2</th>\n      <td>DASCH J075731.1+201735</td>\n      <td>ASAS J075731+2017.6</td>\n      <td>LongPeriodV*</td>\n      <td>M0III</td>\n      <td>Gaia DR2 670455944074475008</td>\n      <td>2MASS J07573112+2017347|ASAS J075731+2017.6|DA...</td>\n      <td>SB*|LP*|NIR|V*|*|Opt</td>\n      <td>670455944074475008</td>\n    </tr>\n    <tr>\n      <th>3</th>\n      <td>ASAS J174600-2321.3</td>\n      <td>ASAS J174600-2321.3</td>\n      <td>LongPeriodV*_Candidate</td>\n      <td>F0I</td>\n      <td>Gaia DR2 4068755633500598272</td>\n      <td>2MASS J17460018-2321163|ASAS J174600-2321.3|ER...</td>\n      <td>NIR|V*|*|LP?</td>\n      <td>4068755633500598272</td>\n    </tr>\n    <tr>\n      <th>4</th>\n      <td>IPHASJ201550.96+373004.2</td>\n      <td>IRAS 20140+3720</td>\n      <td>PlanetaryNeb_Candidate</td>\n      <td>NaN</td>\n      <td>Gaia DR2 2060829659152816768</td>\n      <td>2MASS J20155096+3730042|AKARI-IRC-V1 J2015509+...</td>\n      <td>NIR|*|C*?|IR|LP?|PN?</td>\n      <td>2060829659152816768</td>\n    </tr>\n  </tbody>\n</table>\n</div>"
     },
     "execution_count": 19,
     "metadata": {},
     "output_type": "execute_result"
    }
   ],
   "source": [
    "df6 = pd.read_csv('../../../new/candidate_symbiotic_stars_v2/built_dataset/suspected_SY_dataset.csv')\n",
    "df6.head(5)"
   ],
   "metadata": {
    "collapsed": false
   }
  },
  {
   "cell_type": "code",
   "execution_count": 20,
   "outputs": [
    {
     "data": {
      "text/plain": "                  FIND_NAME              MAIN_ID                   OTYPE  \\\n0                  V748 Cen          V* V748 Cen                  EclBin   \n1               WRAY 16-294          WRAY 16-294            LongPeriodV*   \n2    DASCH J075731.1+201735  ASAS J075731+2017.6            LongPeriodV*   \n3       ASAS J174600-2321.3  ASAS J174600-2321.3  LongPeriodV*_Candidate   \n4  IPHASJ201550.96+373004.2      IRAS 20140+3720  PlanetaryNeb_Candidate   \n\n              Gaia DR3  label  \n0  6204217186929931520      2  \n1  4061952680197028224      1  \n2   670455944074475008      1  \n3  4068755633500598272      3  \n4  2060829659152816768      2  ",
      "text/html": "<div>\n<style scoped>\n    .dataframe tbody tr th:only-of-type {\n        vertical-align: middle;\n    }\n\n    .dataframe tbody tr th {\n        vertical-align: top;\n    }\n\n    .dataframe thead th {\n        text-align: right;\n    }\n</style>\n<table border=\"1\" class=\"dataframe\">\n  <thead>\n    <tr style=\"text-align: right;\">\n      <th></th>\n      <th>FIND_NAME</th>\n      <th>MAIN_ID</th>\n      <th>OTYPE</th>\n      <th>Gaia DR3</th>\n      <th>label</th>\n    </tr>\n  </thead>\n  <tbody>\n    <tr>\n      <th>0</th>\n      <td>V748 Cen</td>\n      <td>V* V748 Cen</td>\n      <td>EclBin</td>\n      <td>6204217186929931520</td>\n      <td>2</td>\n    </tr>\n    <tr>\n      <th>1</th>\n      <td>WRAY 16-294</td>\n      <td>WRAY 16-294</td>\n      <td>LongPeriodV*</td>\n      <td>4061952680197028224</td>\n      <td>1</td>\n    </tr>\n    <tr>\n      <th>2</th>\n      <td>DASCH J075731.1+201735</td>\n      <td>ASAS J075731+2017.6</td>\n      <td>LongPeriodV*</td>\n      <td>670455944074475008</td>\n      <td>1</td>\n    </tr>\n    <tr>\n      <th>3</th>\n      <td>ASAS J174600-2321.3</td>\n      <td>ASAS J174600-2321.3</td>\n      <td>LongPeriodV*_Candidate</td>\n      <td>4068755633500598272</td>\n      <td>3</td>\n    </tr>\n    <tr>\n      <th>4</th>\n      <td>IPHASJ201550.96+373004.2</td>\n      <td>IRAS 20140+3720</td>\n      <td>PlanetaryNeb_Candidate</td>\n      <td>2060829659152816768</td>\n      <td>2</td>\n    </tr>\n  </tbody>\n</table>\n</div>"
     },
     "execution_count": 20,
     "metadata": {},
     "output_type": "execute_result"
    }
   ],
   "source": [
    "# Filtro de data frames\n",
    "df_filtered = df6.merge(df5, left_on=['Gaia DR3'], right_on=['source_id'], how='inner', indicator=True)\n",
    "df_filtered = df_filtered[df_filtered['_merge'] == 'both']\n",
    "df_filtered = df_filtered.iloc[:, [0, 1, 2, 7, 9]]\n",
    "df_filtered.head(5)"
   ],
   "metadata": {
    "collapsed": false
   }
  },
  {
   "cell_type": "code",
   "execution_count": 21,
   "outputs": [],
   "source": [
    "import os\n",
    "\n",
    "out_name = 'rf_balanced.csv'\n",
    "out_dir = '../../../new/candidate_symbiotic_stars_v2/output'\n",
    "if not os.path.exists(out_dir):\n",
    "    os.mkdir(out_dir)\n",
    "\n",
    "fullname = os.path.join(out_dir, out_name)\n",
    "df_filtered.to_csv(fullname, header=True, index=False)"
   ],
   "metadata": {
    "collapsed": false
   }
  },
  {
   "cell_type": "markdown",
   "source": [
    "# Other stars"
   ],
   "metadata": {
    "collapsed": false
   }
  },
  {
   "cell_type": "code",
   "execution_count": 14,
   "outputs": [
    {
     "name": "stdout",
     "output_type": "stream",
     "text": [
      "[[1 3 3]\n",
      " [0 0 0]\n",
      " [0 0 0]]\n"
     ]
    }
   ],
   "source": [
    "from sklearn.metrics import confusion_matrix\n",
    "\n",
    "df_sus_sy = pd.read_csv(\"../../../new/other_stars/normalized/Suspected.csv\", header=None)\n",
    "\n",
    "y_pred = rf.predict(df_sus_sy)\n",
    "cm = confusion_matrix([1 for _ in range(len(df_sus_sy))], y_pred, labels=[1, 2, 3])\n",
    "print(cm)"
   ],
   "metadata": {
    "collapsed": false
   }
  },
  {
   "cell_type": "code",
   "execution_count": 17,
   "outputs": [
    {
     "data": {
      "text/plain": "             source_id  label\n0  3321366590173335424      3\n1  4557410314849153920      3\n2  2022052808961769088      2\n3  4052553745525657600      2\n4  4050670827750135040      2",
      "text/html": "<div>\n<style scoped>\n    .dataframe tbody tr th:only-of-type {\n        vertical-align: middle;\n    }\n\n    .dataframe tbody tr th {\n        vertical-align: top;\n    }\n\n    .dataframe thead th {\n        text-align: right;\n    }\n</style>\n<table border=\"1\" class=\"dataframe\">\n  <thead>\n    <tr style=\"text-align: right;\">\n      <th></th>\n      <th>source_id</th>\n      <th>label</th>\n    </tr>\n  </thead>\n  <tbody>\n    <tr>\n      <th>0</th>\n      <td>3321366590173335424</td>\n      <td>3</td>\n    </tr>\n    <tr>\n      <th>1</th>\n      <td>4557410314849153920</td>\n      <td>3</td>\n    </tr>\n    <tr>\n      <th>2</th>\n      <td>2022052808961769088</td>\n      <td>2</td>\n    </tr>\n    <tr>\n      <th>3</th>\n      <td>4052553745525657600</td>\n      <td>2</td>\n    </tr>\n    <tr>\n      <th>4</th>\n      <td>4050670827750135040</td>\n      <td>2</td>\n    </tr>\n  </tbody>\n</table>\n</div>"
     },
     "execution_count": 17,
     "metadata": {},
     "output_type": "execute_result"
    }
   ],
   "source": [
    "df_sus_sy_normalized = pd.read_csv(\"../../../new/other_stars/calibrated_data/Suspected.csv\")\n",
    "df_sus_sy_normalized['label'] = y_pred\n",
    "df5 = df_sus_sy_normalized[['source_id', 'label']]\n",
    "df5.head(5)"
   ],
   "metadata": {
    "collapsed": false
   }
  },
  {
   "cell_type": "code",
   "execution_count": 20,
   "outputs": [
    {
     "data": {
      "text/plain": "  FIND_NAME        MAIN_ID         OTYPE SP_TYPE  \\\n0    StHa55  EM* StHA   55          Mira     NaN   \n1    GH Gem      V* GH Gem    Symbiotic*     NaN   \n2   V503Her    V* V503 Her    Symbiotic*     NaN   \n3  Hen2-442      Hen 2-442  PlanetaryNeb     NaN   \n4  V850 Aql    V* V850 Aql    Symbiotic*  O-rich   \n\n                        ID_Gaia  \\\n0  Gaia DR3 3321366590173335424   \n1  Gaia DR3 3160625132721733888   \n2  Gaia DR3 4557410314849153920   \n3  Gaia DR2 2022052808961769088   \n4  Gaia DR2 4263728319553777408   \n\n                                                 IDS  \\\n0  IRAS 05440+0642|ASAS J054642+0643.7|ASAS J0546...   \n1  SV* SON  3566|AN  241.1943|ATO J106.0532+12.05...   \n2  SV* P  4385|AN  170.1936|ASAS J173640+2318.2|A...   \n3  Hen 2-442|AKARI-IRC-V1 J1939433+262933|GSC2 N0...   \n4  SV* SON  4396|CSV   4646|IRAS 19210+0032|2MASS...   \n\n                                              OTYPES             Gaia DR3  \n0  Mi*|LP*|V*|LP*|SB*|LP*|MIR|V*|Em*|NIR|*|C*?|IR...  3321366590173335424  \n1                                Sy*|V*|NIR|V*|*|Opt  3160625132721733888  \n2                        LP*|Sy*|V*|Pu*|NIR|V*|*|Opt  4557410314849153920  \n3                                 PN|NIR|MIR|V*|*|IR  2022052808961769088  \n4         Sy*|Em*|Mas|AB*|LP*|NIR|PN|V*|*|IR|LP?|Mi?  4263728319553777408  ",
      "text/html": "<div>\n<style scoped>\n    .dataframe tbody tr th:only-of-type {\n        vertical-align: middle;\n    }\n\n    .dataframe tbody tr th {\n        vertical-align: top;\n    }\n\n    .dataframe thead th {\n        text-align: right;\n    }\n</style>\n<table border=\"1\" class=\"dataframe\">\n  <thead>\n    <tr style=\"text-align: right;\">\n      <th></th>\n      <th>FIND_NAME</th>\n      <th>MAIN_ID</th>\n      <th>OTYPE</th>\n      <th>SP_TYPE</th>\n      <th>ID_Gaia</th>\n      <th>IDS</th>\n      <th>OTYPES</th>\n      <th>Gaia DR3</th>\n    </tr>\n  </thead>\n  <tbody>\n    <tr>\n      <th>0</th>\n      <td>StHa55</td>\n      <td>EM* StHA   55</td>\n      <td>Mira</td>\n      <td>NaN</td>\n      <td>Gaia DR3 3321366590173335424</td>\n      <td>IRAS 05440+0642|ASAS J054642+0643.7|ASAS J0546...</td>\n      <td>Mi*|LP*|V*|LP*|SB*|LP*|MIR|V*|Em*|NIR|*|C*?|IR...</td>\n      <td>3321366590173335424</td>\n    </tr>\n    <tr>\n      <th>1</th>\n      <td>GH Gem</td>\n      <td>V* GH Gem</td>\n      <td>Symbiotic*</td>\n      <td>NaN</td>\n      <td>Gaia DR3 3160625132721733888</td>\n      <td>SV* SON  3566|AN  241.1943|ATO J106.0532+12.05...</td>\n      <td>Sy*|V*|NIR|V*|*|Opt</td>\n      <td>3160625132721733888</td>\n    </tr>\n    <tr>\n      <th>2</th>\n      <td>V503Her</td>\n      <td>V* V503 Her</td>\n      <td>Symbiotic*</td>\n      <td>NaN</td>\n      <td>Gaia DR3 4557410314849153920</td>\n      <td>SV* P  4385|AN  170.1936|ASAS J173640+2318.2|A...</td>\n      <td>LP*|Sy*|V*|Pu*|NIR|V*|*|Opt</td>\n      <td>4557410314849153920</td>\n    </tr>\n    <tr>\n      <th>3</th>\n      <td>Hen2-442</td>\n      <td>Hen 2-442</td>\n      <td>PlanetaryNeb</td>\n      <td>NaN</td>\n      <td>Gaia DR2 2022052808961769088</td>\n      <td>Hen 2-442|AKARI-IRC-V1 J1939433+262933|GSC2 N0...</td>\n      <td>PN|NIR|MIR|V*|*|IR</td>\n      <td>2022052808961769088</td>\n    </tr>\n    <tr>\n      <th>4</th>\n      <td>V850 Aql</td>\n      <td>V* V850 Aql</td>\n      <td>Symbiotic*</td>\n      <td>O-rich</td>\n      <td>Gaia DR2 4263728319553777408</td>\n      <td>SV* SON  4396|CSV   4646|IRAS 19210+0032|2MASS...</td>\n      <td>Sy*|Em*|Mas|AB*|LP*|NIR|PN|V*|*|IR|LP?|Mi?</td>\n      <td>4263728319553777408</td>\n    </tr>\n  </tbody>\n</table>\n</div>"
     },
     "execution_count": 20,
     "metadata": {},
     "output_type": "execute_result"
    }
   ],
   "source": [
    "df6 = pd.read_csv('../../../new/other_stars/symbad/suspected.csv')\n",
    "df6.head(5)"
   ],
   "metadata": {
    "collapsed": false
   }
  },
  {
   "cell_type": "code",
   "execution_count": 21,
   "outputs": [
    {
     "data": {
      "text/plain": "  FIND_NAME        MAIN_ID         OTYPE             Gaia DR3  label\n0    StHa55  EM* StHA   55          Mira  3321366590173335424      3\n1   V503Her    V* V503 Her    Symbiotic*  4557410314849153920      3\n2  Hen2-442      Hen 2-442  PlanetaryNeb  2022052808961769088      2\n3  Hen2-379     PN M  1-44  PlanetaryNeb  4052553745525657600      2\n4     AS288     PN H  2-43  PlanetaryNeb  4050670827750135040      2",
      "text/html": "<div>\n<style scoped>\n    .dataframe tbody tr th:only-of-type {\n        vertical-align: middle;\n    }\n\n    .dataframe tbody tr th {\n        vertical-align: top;\n    }\n\n    .dataframe thead th {\n        text-align: right;\n    }\n</style>\n<table border=\"1\" class=\"dataframe\">\n  <thead>\n    <tr style=\"text-align: right;\">\n      <th></th>\n      <th>FIND_NAME</th>\n      <th>MAIN_ID</th>\n      <th>OTYPE</th>\n      <th>Gaia DR3</th>\n      <th>label</th>\n    </tr>\n  </thead>\n  <tbody>\n    <tr>\n      <th>0</th>\n      <td>StHa55</td>\n      <td>EM* StHA   55</td>\n      <td>Mira</td>\n      <td>3321366590173335424</td>\n      <td>3</td>\n    </tr>\n    <tr>\n      <th>1</th>\n      <td>V503Her</td>\n      <td>V* V503 Her</td>\n      <td>Symbiotic*</td>\n      <td>4557410314849153920</td>\n      <td>3</td>\n    </tr>\n    <tr>\n      <th>2</th>\n      <td>Hen2-442</td>\n      <td>Hen 2-442</td>\n      <td>PlanetaryNeb</td>\n      <td>2022052808961769088</td>\n      <td>2</td>\n    </tr>\n    <tr>\n      <th>3</th>\n      <td>Hen2-379</td>\n      <td>PN M  1-44</td>\n      <td>PlanetaryNeb</td>\n      <td>4052553745525657600</td>\n      <td>2</td>\n    </tr>\n    <tr>\n      <th>4</th>\n      <td>AS288</td>\n      <td>PN H  2-43</td>\n      <td>PlanetaryNeb</td>\n      <td>4050670827750135040</td>\n      <td>2</td>\n    </tr>\n  </tbody>\n</table>\n</div>"
     },
     "execution_count": 21,
     "metadata": {},
     "output_type": "execute_result"
    }
   ],
   "source": [
    "# Filtro de data frames\n",
    "df_filtered = df6.merge(df5, left_on=['Gaia DR3'], right_on=['source_id'], how='inner', indicator=True)\n",
    "df_filtered = df_filtered[df_filtered['_merge'] == 'both']\n",
    "df_filtered = df_filtered.iloc[:, [0, 1, 2, 7, 9]]\n",
    "df_filtered.head(5)"
   ],
   "metadata": {
    "collapsed": false
   }
  },
  {
   "cell_type": "code",
   "execution_count": 22,
   "outputs": [],
   "source": [
    "import os\n",
    "\n",
    "out_name = 'rf_balanced.csv'\n",
    "out_dir = '../../../new/other_stars/output'\n",
    "if not os.path.exists(out_dir):\n",
    "    os.mkdir(out_dir)\n",
    "\n",
    "fullname = os.path.join(out_dir, out_name)\n",
    "df_filtered.to_csv(fullname, header=True, index=False)"
   ],
   "metadata": {
    "collapsed": false
   }
  },
  {
   "cell_type": "code",
   "execution_count": null,
   "outputs": [],
   "source": [],
   "metadata": {
    "collapsed": false
   }
  },
  {
   "cell_type": "markdown",
   "source": [
    "# Suspected PN"
   ],
   "metadata": {
    "collapsed": false
   }
  },
  {
   "cell_type": "code",
   "execution_count": 34,
   "outputs": [],
   "source": [
    "## Suspected PN\n",
    "eligible_candidates = [\n",
    "    \"IRAS 02379+5724\",\n",
    "    \"UCAC2  46104304\",\n",
    "    \"IRAS 05495+2620\",\n",
    "    \"IRAS 06549-2330\",\n",
    "    \"PN G228.1+00.8\",\n",
    "    \"PN G239.3-02.7\",\n",
    "    \"PN Y-C   40\",\n",
    "    \"EGB  2\",\n",
    "    \"IRAS 10348-6320\",\n",
    "    \"IRAS 11555-6031\",\n",
    "    \"IRAS 11415-6540\",\n",
    "    \"PN G292.3+00.5\",\n",
    "    \"2MASS J05221214-6949580\",\n",
    "    # \"[RP2006] J052216-694127\",\n",
    "    # \"[RP2006] J052254-694036\",\n",
    "    \"[RP2006] J052438-690413\",\n",
    "    \"[RP2006]  312\"\n",
    "]"
   ],
   "metadata": {
    "collapsed": false
   }
  },
  {
   "cell_type": "code",
   "execution_count": 35,
   "outputs": [
    {
     "name": "stdout",
     "output_type": "stream",
     "text": [
      "[[24 82 40]\n",
      " [ 0  0  0]\n",
      " [ 0  0  0]]\n"
     ]
    },
    {
     "name": "stderr",
     "output_type": "stream",
     "text": [
      "C:\\Users\\orest\\AppData\\Local\\Programs\\Python\\Python311\\Lib\\site-packages\\sklearn\\base.py:402: UserWarning: X has feature names, but RandomForestClassifier was fitted without feature names\n",
      "  warnings.warn(\n"
     ]
    }
   ],
   "source": [
    "import numpy as np\n",
    "from sklearn.metrics import confusion_matrix\n",
    "\n",
    "df_sus_pn = pd.read_csv(\"../../../new_v3/normalized/NP_Candidate.csv\")\n",
    "\n",
    "# Eliminar la primera columna\n",
    "df_sus_pn_data = df_sus_pn.drop(df_sus_pn.columns[0], axis=1)\n",
    "\n",
    "# predecir las probabilidades para los datos de prueba\n",
    "y_pred = rf.predict(df_sus_pn_data)\n",
    "cm = confusion_matrix([1 for _ in range(len(df_sus_pn_data))], y_pred, labels=[1,2,3])\n",
    "print(cm)"
   ],
   "metadata": {
    "collapsed": false
   }
  },
  {
   "cell_type": "code",
   "execution_count": 36,
   "outputs": [
    {
     "data": {
      "text/plain": "             source_id  label\n0   457887361083098880      2\n1   469648081051557376      2\n2   203511119746151040      1\n3  3430688759283627776      2\n4  2884159294765728768      2",
      "text/html": "<div>\n<style scoped>\n    .dataframe tbody tr th:only-of-type {\n        vertical-align: middle;\n    }\n\n    .dataframe tbody tr th {\n        vertical-align: top;\n    }\n\n    .dataframe thead th {\n        text-align: right;\n    }\n</style>\n<table border=\"1\" class=\"dataframe\">\n  <thead>\n    <tr style=\"text-align: right;\">\n      <th></th>\n      <th>source_id</th>\n      <th>label</th>\n    </tr>\n  </thead>\n  <tbody>\n    <tr>\n      <th>0</th>\n      <td>457887361083098880</td>\n      <td>2</td>\n    </tr>\n    <tr>\n      <th>1</th>\n      <td>469648081051557376</td>\n      <td>2</td>\n    </tr>\n    <tr>\n      <th>2</th>\n      <td>203511119746151040</td>\n      <td>1</td>\n    </tr>\n    <tr>\n      <th>3</th>\n      <td>3430688759283627776</td>\n      <td>2</td>\n    </tr>\n    <tr>\n      <th>4</th>\n      <td>2884159294765728768</td>\n      <td>2</td>\n    </tr>\n  </tbody>\n</table>\n</div>"
     },
     "execution_count": 36,
     "metadata": {},
     "output_type": "execute_result"
    }
   ],
   "source": [
    "df5 = pd.DataFrame(df_sus_pn['source_id'])\n",
    "df5['label'] = y_pred\n",
    "df5.head()"
   ],
   "metadata": {
    "collapsed": false
   }
  },
  {
   "cell_type": "code",
   "execution_count": 37,
   "outputs": [
    {
     "data": {
      "text/plain": "             MAIN_ID                   OTYPE SP_TYPE  \\\n0       PN HaWe    3  PlanetaryNeb_Candidate     NaN   \n1    IRAS 02379+5724  PlanetaryNeb_Candidate     NaN   \n2          HD 237204  PlanetaryNeb_Candidate  B2III:   \n3    UCAC2  46104304  PlanetaryNeb_Candidate     NaN   \n4    IRAS 05345+2657  PlanetaryNeb_Candidate     NaN   \n..               ...                     ...     ...   \n366  IRAS 12481-4903  PlanetaryNeb_Candidate     NaN   \n367  IRAS 17532-3045  PlanetaryNeb_Candidate     NaN   \n368  IRAS 18321-1401  PlanetaryNeb_Candidate     NaN   \n369  IRAS 18340-1302  PlanetaryNeb_Candidate     NaN   \n370   PN G061.5-02.6  PlanetaryNeb_Candidate     NaN   \n\n                          ID_Gaia  \\\n0     Gaia DR2 434853485833190528   \n1     Gaia DR2 457887361083098880   \n2     Gaia DR2 469648081051557376   \n3     Gaia DR2 203511119746151040   \n4    Gaia DR2 3441293067898788992   \n..                            ...   \n366  Gaia DR2 6079563212927574528   \n367  Gaia DR3 4056100078497762176   \n368  Gaia DR2 4104509513893397760   \n369  Gaia DR3 4104727698224345728   \n370  Gaia DR3 1834171384397003264   \n\n                                                   IDS  \\\n0    PN HaWe    3|2MASS J03163403+4653374|PK 147-09...   \n1    2MASS J02413591+5737379|IPHAS J024135.93+57373...   \n2    HD 237204|AG+56  441|ALS  7847|AP J04002328+56...   \n3    UCAC2  46104304|IPHAS J044338.64+410941.5|IRAS...   \n4    AKARI-IRC-V1 J0537424+265913|AKARI-FIS-V1 J053...   \n..                                                 ...   \n366  TYC 8253-562-1|AKARI-IRC-V1 J1250577-491951|GA...   \n367  UCAC4 297-134949|AKARI-IRC-V1 J1756302-304522|...   \n368  UCAC4 381-119111|AKARI-IRC-V1 J1834570-135848|...   \n369  UCAC4 386-108329|AKARI-IRC-V1 J1836531-125922|...   \n370  PN G061.5-02.6|2MASS J19572322+2352483|Gaia DR...   \n\n                           OTYPES             RA            DEC  \\\n0                NIR|MIR|PN|*|PN?  03 16 34.0393  +46 53 37.297   \n1                    NIR|*|IR|PN?  02 41 35.9206  +57 37 38.021   \n2    Pu*|NIR|MIR|*|IR|PN?|PN?|bC?  04 00 23.2815  +56 54 05.757   \n3            Em*|NIR|*|IR|Opt|PN?  04 43 38.6416  +41 09 41.460   \n4              MIR|*|G|IR|PN?|PN?  05 37 42.3456  +26 59 14.047   \n..                            ...            ...            ...   \n366      MIR|NIR|*|*|G|IR|PN?|PN?  12 50 57.7794  -49 19 52.021   \n367              MIR|NIR|*|IR|PN?  17 56 30.2700  -30 45 22.394   \n368   V*|MIR|NIR|*|IR|Opt|PN?|PN?  18 34 56.9988  -13 58 48.905   \n369              NIR|*|IR|LP?|PN?  18 36 53.0785  -12 59 23.299   \n370                  NIR|PN|*|PN?  19 57 23.2324  +23 52 48.330   \n\n                Gaia DR3  \n0     434853485833190528  \n1     457887361083098880  \n2     469648081051557376  \n3     203511119746151040  \n4    3441293067898788992  \n..                   ...  \n366  6079563212927574528  \n367  4056100078497762176  \n368  4104509513893397760  \n369  4104727698224345728  \n370  1834171384397003264  \n\n[371 rows x 9 columns]",
      "text/html": "<div>\n<style scoped>\n    .dataframe tbody tr th:only-of-type {\n        vertical-align: middle;\n    }\n\n    .dataframe tbody tr th {\n        vertical-align: top;\n    }\n\n    .dataframe thead th {\n        text-align: right;\n    }\n</style>\n<table border=\"1\" class=\"dataframe\">\n  <thead>\n    <tr style=\"text-align: right;\">\n      <th></th>\n      <th>MAIN_ID</th>\n      <th>OTYPE</th>\n      <th>SP_TYPE</th>\n      <th>ID_Gaia</th>\n      <th>IDS</th>\n      <th>OTYPES</th>\n      <th>RA</th>\n      <th>DEC</th>\n      <th>Gaia DR3</th>\n    </tr>\n  </thead>\n  <tbody>\n    <tr>\n      <th>0</th>\n      <td>PN HaWe    3</td>\n      <td>PlanetaryNeb_Candidate</td>\n      <td>NaN</td>\n      <td>Gaia DR2 434853485833190528</td>\n      <td>PN HaWe    3|2MASS J03163403+4653374|PK 147-09...</td>\n      <td>NIR|MIR|PN|*|PN?</td>\n      <td>03 16 34.0393</td>\n      <td>+46 53 37.297</td>\n      <td>434853485833190528</td>\n    </tr>\n    <tr>\n      <th>1</th>\n      <td>IRAS 02379+5724</td>\n      <td>PlanetaryNeb_Candidate</td>\n      <td>NaN</td>\n      <td>Gaia DR2 457887361083098880</td>\n      <td>2MASS J02413591+5737379|IPHAS J024135.93+57373...</td>\n      <td>NIR|*|IR|PN?</td>\n      <td>02 41 35.9206</td>\n      <td>+57 37 38.021</td>\n      <td>457887361083098880</td>\n    </tr>\n    <tr>\n      <th>2</th>\n      <td>HD 237204</td>\n      <td>PlanetaryNeb_Candidate</td>\n      <td>B2III:</td>\n      <td>Gaia DR2 469648081051557376</td>\n      <td>HD 237204|AG+56  441|ALS  7847|AP J04002328+56...</td>\n      <td>Pu*|NIR|MIR|*|IR|PN?|PN?|bC?</td>\n      <td>04 00 23.2815</td>\n      <td>+56 54 05.757</td>\n      <td>469648081051557376</td>\n    </tr>\n    <tr>\n      <th>3</th>\n      <td>UCAC2  46104304</td>\n      <td>PlanetaryNeb_Candidate</td>\n      <td>NaN</td>\n      <td>Gaia DR2 203511119746151040</td>\n      <td>UCAC2  46104304|IPHAS J044338.64+410941.5|IRAS...</td>\n      <td>Em*|NIR|*|IR|Opt|PN?</td>\n      <td>04 43 38.6416</td>\n      <td>+41 09 41.460</td>\n      <td>203511119746151040</td>\n    </tr>\n    <tr>\n      <th>4</th>\n      <td>IRAS 05345+2657</td>\n      <td>PlanetaryNeb_Candidate</td>\n      <td>NaN</td>\n      <td>Gaia DR2 3441293067898788992</td>\n      <td>AKARI-IRC-V1 J0537424+265913|AKARI-FIS-V1 J053...</td>\n      <td>MIR|*|G|IR|PN?|PN?</td>\n      <td>05 37 42.3456</td>\n      <td>+26 59 14.047</td>\n      <td>3441293067898788992</td>\n    </tr>\n    <tr>\n      <th>...</th>\n      <td>...</td>\n      <td>...</td>\n      <td>...</td>\n      <td>...</td>\n      <td>...</td>\n      <td>...</td>\n      <td>...</td>\n      <td>...</td>\n      <td>...</td>\n    </tr>\n    <tr>\n      <th>366</th>\n      <td>IRAS 12481-4903</td>\n      <td>PlanetaryNeb_Candidate</td>\n      <td>NaN</td>\n      <td>Gaia DR2 6079563212927574528</td>\n      <td>TYC 8253-562-1|AKARI-IRC-V1 J1250577-491951|GA...</td>\n      <td>MIR|NIR|*|*|G|IR|PN?|PN?</td>\n      <td>12 50 57.7794</td>\n      <td>-49 19 52.021</td>\n      <td>6079563212927574528</td>\n    </tr>\n    <tr>\n      <th>367</th>\n      <td>IRAS 17532-3045</td>\n      <td>PlanetaryNeb_Candidate</td>\n      <td>NaN</td>\n      <td>Gaia DR3 4056100078497762176</td>\n      <td>UCAC4 297-134949|AKARI-IRC-V1 J1756302-304522|...</td>\n      <td>MIR|NIR|*|IR|PN?</td>\n      <td>17 56 30.2700</td>\n      <td>-30 45 22.394</td>\n      <td>4056100078497762176</td>\n    </tr>\n    <tr>\n      <th>368</th>\n      <td>IRAS 18321-1401</td>\n      <td>PlanetaryNeb_Candidate</td>\n      <td>NaN</td>\n      <td>Gaia DR2 4104509513893397760</td>\n      <td>UCAC4 381-119111|AKARI-IRC-V1 J1834570-135848|...</td>\n      <td>V*|MIR|NIR|*|IR|Opt|PN?|PN?</td>\n      <td>18 34 56.9988</td>\n      <td>-13 58 48.905</td>\n      <td>4104509513893397760</td>\n    </tr>\n    <tr>\n      <th>369</th>\n      <td>IRAS 18340-1302</td>\n      <td>PlanetaryNeb_Candidate</td>\n      <td>NaN</td>\n      <td>Gaia DR3 4104727698224345728</td>\n      <td>UCAC4 386-108329|AKARI-IRC-V1 J1836531-125922|...</td>\n      <td>NIR|*|IR|LP?|PN?</td>\n      <td>18 36 53.0785</td>\n      <td>-12 59 23.299</td>\n      <td>4104727698224345728</td>\n    </tr>\n    <tr>\n      <th>370</th>\n      <td>PN G061.5-02.6</td>\n      <td>PlanetaryNeb_Candidate</td>\n      <td>NaN</td>\n      <td>Gaia DR3 1834171384397003264</td>\n      <td>PN G061.5-02.6|2MASS J19572322+2352483|Gaia DR...</td>\n      <td>NIR|PN|*|PN?</td>\n      <td>19 57 23.2324</td>\n      <td>+23 52 48.330</td>\n      <td>1834171384397003264</td>\n    </tr>\n  </tbody>\n</table>\n<p>371 rows × 9 columns</p>\n</div>"
     },
     "execution_count": 37,
     "metadata": {},
     "output_type": "execute_result"
    }
   ],
   "source": [
    "df6 = pd.read_csv('../../../new_v3/symbad/NP_Candidate.csv')\n",
    "df6"
   ],
   "metadata": {
    "collapsed": false
   }
  },
  {
   "cell_type": "code",
   "execution_count": 38,
   "outputs": [
    {
     "data": {
      "text/plain": "             MAIN_ID                   OTYPE SP_TYPE             RA  \\\n0    IRAS 02379+5724  PlanetaryNeb_Candidate     NaN  02 41 35.9206   \n1          HD 237204  PlanetaryNeb_Candidate  B2III:  04 00 23.2815   \n2    UCAC2  46104304  PlanetaryNeb_Candidate     NaN  04 43 38.6416   \n3    IRAS 05495+2620  PlanetaryNeb_Candidate     NaN  05 52 42.8154   \n4         PN K  2-12  PlanetaryNeb_Candidate     NaN  06 02 06.8725   \n..               ...                     ...     ...            ...   \n141   NAME PN LDu 26  PlanetaryNeb_Candidate     NaN  20 35 22.7732   \n142       WRAY 17-57  PlanetaryNeb_Candidate     NaN  12 53 16.3034   \n143  IRAS 18020-3207  PlanetaryNeb_Candidate     NaN  18 05 19.1339   \n144  IRAS 12481-4903  PlanetaryNeb_Candidate     NaN  12 50 57.7794   \n145  IRAS 17532-3045  PlanetaryNeb_Candidate     NaN  17 56 30.2700   \n\n               DEC             Gaia DR3  label  \n0    +57 37 38.021   457887361083098880      2  \n1    +56 54 05.757   469648081051557376      2  \n2    +41 09 41.460   203511119746151040      1  \n3    +26 21 16.018  3430688759283627776      2  \n4    -37 25 25.207  2884159294765728768      2  \n..             ...                  ...    ...  \n141  +00 12 51.090  4229698606444795392      2  \n142  -61 45 26.431  6055339498610714624      3  \n143  -32 06 59.315  4043047642896333440      2  \n144  -49 19 52.021  6079563212927574528      2  \n145  -30 45 22.394  4056100078497762176      2  \n\n[146 rows x 7 columns]",
      "text/html": "<div>\n<style scoped>\n    .dataframe tbody tr th:only-of-type {\n        vertical-align: middle;\n    }\n\n    .dataframe tbody tr th {\n        vertical-align: top;\n    }\n\n    .dataframe thead th {\n        text-align: right;\n    }\n</style>\n<table border=\"1\" class=\"dataframe\">\n  <thead>\n    <tr style=\"text-align: right;\">\n      <th></th>\n      <th>MAIN_ID</th>\n      <th>OTYPE</th>\n      <th>SP_TYPE</th>\n      <th>RA</th>\n      <th>DEC</th>\n      <th>Gaia DR3</th>\n      <th>label</th>\n    </tr>\n  </thead>\n  <tbody>\n    <tr>\n      <th>0</th>\n      <td>IRAS 02379+5724</td>\n      <td>PlanetaryNeb_Candidate</td>\n      <td>NaN</td>\n      <td>02 41 35.9206</td>\n      <td>+57 37 38.021</td>\n      <td>457887361083098880</td>\n      <td>2</td>\n    </tr>\n    <tr>\n      <th>1</th>\n      <td>HD 237204</td>\n      <td>PlanetaryNeb_Candidate</td>\n      <td>B2III:</td>\n      <td>04 00 23.2815</td>\n      <td>+56 54 05.757</td>\n      <td>469648081051557376</td>\n      <td>2</td>\n    </tr>\n    <tr>\n      <th>2</th>\n      <td>UCAC2  46104304</td>\n      <td>PlanetaryNeb_Candidate</td>\n      <td>NaN</td>\n      <td>04 43 38.6416</td>\n      <td>+41 09 41.460</td>\n      <td>203511119746151040</td>\n      <td>1</td>\n    </tr>\n    <tr>\n      <th>3</th>\n      <td>IRAS 05495+2620</td>\n      <td>PlanetaryNeb_Candidate</td>\n      <td>NaN</td>\n      <td>05 52 42.8154</td>\n      <td>+26 21 16.018</td>\n      <td>3430688759283627776</td>\n      <td>2</td>\n    </tr>\n    <tr>\n      <th>4</th>\n      <td>PN K  2-12</td>\n      <td>PlanetaryNeb_Candidate</td>\n      <td>NaN</td>\n      <td>06 02 06.8725</td>\n      <td>-37 25 25.207</td>\n      <td>2884159294765728768</td>\n      <td>2</td>\n    </tr>\n    <tr>\n      <th>...</th>\n      <td>...</td>\n      <td>...</td>\n      <td>...</td>\n      <td>...</td>\n      <td>...</td>\n      <td>...</td>\n      <td>...</td>\n    </tr>\n    <tr>\n      <th>141</th>\n      <td>NAME PN LDu 26</td>\n      <td>PlanetaryNeb_Candidate</td>\n      <td>NaN</td>\n      <td>20 35 22.7732</td>\n      <td>+00 12 51.090</td>\n      <td>4229698606444795392</td>\n      <td>2</td>\n    </tr>\n    <tr>\n      <th>142</th>\n      <td>WRAY 17-57</td>\n      <td>PlanetaryNeb_Candidate</td>\n      <td>NaN</td>\n      <td>12 53 16.3034</td>\n      <td>-61 45 26.431</td>\n      <td>6055339498610714624</td>\n      <td>3</td>\n    </tr>\n    <tr>\n      <th>143</th>\n      <td>IRAS 18020-3207</td>\n      <td>PlanetaryNeb_Candidate</td>\n      <td>NaN</td>\n      <td>18 05 19.1339</td>\n      <td>-32 06 59.315</td>\n      <td>4043047642896333440</td>\n      <td>2</td>\n    </tr>\n    <tr>\n      <th>144</th>\n      <td>IRAS 12481-4903</td>\n      <td>PlanetaryNeb_Candidate</td>\n      <td>NaN</td>\n      <td>12 50 57.7794</td>\n      <td>-49 19 52.021</td>\n      <td>6079563212927574528</td>\n      <td>2</td>\n    </tr>\n    <tr>\n      <th>145</th>\n      <td>IRAS 17532-3045</td>\n      <td>PlanetaryNeb_Candidate</td>\n      <td>NaN</td>\n      <td>17 56 30.2700</td>\n      <td>-30 45 22.394</td>\n      <td>4056100078497762176</td>\n      <td>2</td>\n    </tr>\n  </tbody>\n</table>\n<p>146 rows × 7 columns</p>\n</div>"
     },
     "execution_count": 38,
     "metadata": {},
     "output_type": "execute_result"
    }
   ],
   "source": [
    "# Filtro de data frames\n",
    "df_filtered = df6.merge(df5, left_on=['Gaia DR3'], right_on=['source_id'], how='inner', indicator=True)\n",
    "df_filtered = df_filtered[df_filtered['_merge'] == 'both']\n",
    "df_filtered = df_filtered.iloc[:, [0, 1, 2, 6, 7, 8, 10]]\n",
    "df_filtered"
   ],
   "metadata": {
    "collapsed": false
   }
  },
  {
   "cell_type": "code",
   "execution_count": 39,
   "outputs": [],
   "source": [
    "out_name = 'rf_balanced.csv'\n",
    "out_dir = '../../../new_v3/output'\n",
    "if not os.path.exists(out_dir):\n",
    "    os.mkdir(out_dir)\n",
    "\n",
    "fullname = os.path.join(out_dir, out_name)\n",
    "df_filtered.to_csv(fullname, header=True, index=False)"
   ],
   "metadata": {
    "collapsed": false
   }
  },
  {
   "cell_type": "code",
   "execution_count": 40,
   "outputs": [],
   "source": [
    "# filter by eligible candidates\n",
    "eligible_np = df_filtered[df_filtered['MAIN_ID'].isin(eligible_candidates)]\n",
    "eligible_np = eligible_np.reset_index(drop=True)\n",
    "\n",
    "out_name = 'rf_balanced_elegible_np_candidates.csv'\n",
    "out_dir = '../../../new_v3/output'\n",
    "if not os.path.exists(out_dir):\n",
    "    os.mkdir(out_dir)\n",
    "\n",
    "fullname = os.path.join(out_dir, out_name)\n",
    "eligible_np.to_csv(fullname, header=True, index=False)"
   ],
   "metadata": {
    "collapsed": false
   }
  },
  {
   "cell_type": "code",
   "execution_count": null,
   "outputs": [],
   "source": [],
   "metadata": {
    "collapsed": false
   }
  }
 ],
 "metadata": {
  "kernelspec": {
   "display_name": "Python 3",
   "language": "python",
   "name": "python3"
  },
  "language_info": {
   "codemirror_mode": {
    "name": "ipython",
    "version": 2
   },
   "file_extension": ".py",
   "mimetype": "text/x-python",
   "name": "python",
   "nbconvert_exporter": "python",
   "pygments_lexer": "ipython2",
   "version": "2.7.6"
  }
 },
 "nbformat": 4,
 "nbformat_minor": 0
}
