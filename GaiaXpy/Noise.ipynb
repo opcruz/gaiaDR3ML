{
 "cells": [
  {
   "cell_type": "code",
   "execution_count": 4,
   "outputs": [],
   "source": [
    "import numpy as np\n",
    "import pandas as pd\n",
    "\n",
    "# Leer espectros normalizados desde un archivo CSV\n",
    "spectra_df = pd.read_csv('../Data/DR3/espectros_normalizadosSY.csv')"
   ],
   "metadata": {
    "collapsed": false
   }
  },
  {
   "cell_type": "code",
   "execution_count": 5,
   "outputs": [],
   "source": [
    "spectra_df = spectra_df.drop(spectra_df.columns[-1], axis=1)\n",
    "\n",
    "\n",
    "# Convertir espectros a una matriz de NumPy\n",
    "spectra = spectra_df.to_numpy()\n",
    "\n",
    "# Calcular la cantidad de espectros a generar con ruido\n",
    "n_new_spectra = 1011 - spectra.shape[0]\n",
    "\n",
    "# Generar nuevos espectros con ruido hasta alcanzar la cantidad deseada\n",
    "while n_new_spectra > 0:\n",
    "    # Generar ruido blanco con una desviación estándar (scale) de 0.05\n",
    "    # loc se establece en 0.0, lo que hace referencia que se generará una distribución\n",
    "    # normal centrada en cero.\n",
    "    # Size: toma el tamaño del df de los espectros, para tomar la misma forma\n",
    "\n",
    "    noise = abs(np.random.normal(loc=0.0, scale=0.05, size=spectra.shape))\n",
    "\n",
    "    # Agregar ruido blanco a los espectros normalizados\n",
    "    noisy_spectra = spectra + noise\n",
    "\n",
    "    # Agregar los nuevos espectros con ruido al conjunto de datos\n",
    "    spectra = np.concatenate((spectra, noisy_spectra))\n",
    "\n",
    "    # Actualizar la cantidad de espectros que faltan generar\n",
    "    n_new_spectra = 1011 - spectra.shape[0]"
   ],
   "metadata": {
    "collapsed": false
   }
  },
  {
   "cell_type": "code",
   "execution_count": 6,
   "outputs": [],
   "source": [
    "# Convertir los espectros de NumPy a un DataFrame de Pandas\n",
    "new_spectra_df = pd.DataFrame(spectra)\n",
    "\n",
    "new_spectra_df = new_spectra_df.assign(id=1)\n",
    "\n",
    "new_spectra_df = new_spectra_df.iloc[:1011]\n",
    "\n",
    "# Guardar los nuevos espectros con ruido en un archivo CSV\n",
    "new_spectra_df.to_csv('Data/espectros_con_ruido_SY.csv', index=False)"
   ],
   "metadata": {
    "collapsed": false
   }
  },
  {
   "cell_type": "markdown",
   "source": [
    "NOTAS:\n",
    "scale se establece en 0.05, lo que significa que se generará una distribución normal con una desviación estándar de 0.05. Esta distribución se utilizará para agregar ruido aleatorio a los datos de los espectros estelares. El valor de scale puede ser ajustado para generar distribuciones normales con diferentes grados de dispersión de los valores generados, lo que afectará la amplitud y la forma del ruido que se agrega a los datos.\n"
   ],
   "metadata": {
    "collapsed": false
   }
  }
 ],
 "metadata": {
  "kernelspec": {
   "display_name": "Python 3",
   "language": "python",
   "name": "python3"
  },
  "language_info": {
   "codemirror_mode": {
    "name": "ipython",
    "version": 2
   },
   "file_extension": ".py",
   "mimetype": "text/x-python",
   "name": "python",
   "nbconvert_exporter": "python",
   "pygments_lexer": "ipython2",
   "version": "2.7.6"
  }
 },
 "nbformat": 4,
 "nbformat_minor": 0
}
