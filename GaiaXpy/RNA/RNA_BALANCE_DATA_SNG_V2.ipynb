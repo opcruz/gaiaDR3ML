{
 "cells": [
  {
   "cell_type": "code",
   "execution_count": 6,
   "outputs": [],
   "source": [
    "import pandas as pd\n",
    "import numpy as np\n",
    "import tensorflow as tf\n",
    "from sklearn.metrics import accuracy_score,classification_report, confusion_matrix\n",
    "from sklearn.model_selection import train_test_split\n",
    "from sklearn.preprocessing import LabelEncoder\n",
    "import matplotlib.pyplot as plt"
   ],
   "metadata": {
    "collapsed": false,
    "ExecuteTime": {
     "start_time": "2023-04-20T08:17:36.464073Z",
     "end_time": "2023-04-20T08:17:36.476071Z"
    }
   }
  },
  {
   "cell_type": "code",
   "execution_count": 7,
   "outputs": [],
   "source": [
    "df =  pd.read_csv(\"../../Data/DR3/espectros_normalizados_balanceados_SNG_1.csv\")"
   ],
   "metadata": {
    "collapsed": false,
    "ExecuteTime": {
     "start_time": "2023-04-20T08:17:36.809507Z",
     "end_time": "2023-04-20T08:17:36.988499Z"
    }
   }
  },
  {
   "cell_type": "code",
   "execution_count": 8,
   "outputs": [],
   "source": [
    "df =  df.rename(columns={'col344': \"id\"})"
   ],
   "metadata": {
    "collapsed": false,
    "ExecuteTime": {
     "start_time": "2023-04-20T08:17:37.516644Z",
     "end_time": "2023-04-20T08:17:37.539642Z"
    }
   }
  },
  {
   "cell_type": "code",
   "execution_count": 10,
   "outputs": [
    {
     "data": {
      "text/plain": "col1      float64\ncol2      float64\ncol3      float64\ncol4      float64\ncol5      float64\n           ...   \ncol340    float64\ncol341    float64\ncol342    float64\ncol343    float64\nid          int64\nLength: 344, dtype: object"
     },
     "execution_count": 10,
     "metadata": {},
     "output_type": "execute_result"
    }
   ],
   "source": [
    "df.dtypes"
   ],
   "metadata": {
    "collapsed": false,
    "ExecuteTime": {
     "start_time": "2023-04-20T08:17:51.944799Z",
     "end_time": "2023-04-20T08:17:51.964798Z"
    }
   }
  },
  {
   "cell_type": "code",
   "execution_count": 11,
   "outputs": [],
   "source": [
    "# separar las características (X) y la etiqueta (y)\n",
    "X = df.drop('id', axis=1)\n",
    "y = df['id']"
   ],
   "metadata": {
    "collapsed": false,
    "ExecuteTime": {
     "start_time": "2023-04-20T08:18:03.331525Z",
     "end_time": "2023-04-20T08:18:03.351820Z"
    }
   }
  },
  {
   "cell_type": "code",
   "execution_count": 12,
   "outputs": [],
   "source": [
    "# codificar la etiqueta (y)\n",
    "encoder = LabelEncoder()\n",
    "y = encoder.fit_transform(y)\n"
   ],
   "metadata": {
    "collapsed": false,
    "ExecuteTime": {
     "start_time": "2023-04-20T08:18:16.902735Z",
     "end_time": "2023-04-20T08:18:16.908747Z"
    }
   }
  },
  {
   "cell_type": "code",
   "execution_count": 13,
   "outputs": [],
   "source": [
    "\n",
    "# dividir el conjunto de datos en entrenamiento y prueba\n",
    "X_train, X_test, y_train, y_test = train_test_split(X, y, test_size=0.2, random_state=1)\n"
   ],
   "metadata": {
    "collapsed": false,
    "ExecuteTime": {
     "start_time": "2023-04-20T08:18:17.343907Z",
     "end_time": "2023-04-20T08:18:17.364908Z"
    }
   }
  },
  {
   "cell_type": "code",
   "execution_count": 37,
   "outputs": [],
   "source": [
    "# crear el modelo\n",
    "model = tf.keras.models.Sequential([\n",
    "  tf.keras.layers.Dense(128, activation='relu'),\n",
    "  tf.keras.layers.Dropout(0.3),\n",
    "  tf.keras.layers.Dense(64, activation='relu'),\n",
    "  tf.keras.layers.Dropout(0.2),\n",
    "  tf.keras.layers.Dense(32, activation='relu'),\n",
    "  tf.keras.layers.Dropout(0.2),\n",
    "  tf.keras.layers.Dense(3, activation='softmax')\n",
    "])\n",
    "\n",
    "# compilar el modelo\n",
    "model.compile(optimizer='adam',\n",
    "              loss='sparse_categorical_crossentropy',\n",
    "              metrics=['accuracy'])\n",
    "\n"
   ],
   "metadata": {
    "collapsed": false,
    "ExecuteTime": {
     "start_time": "2023-04-20T08:21:26.313130Z",
     "end_time": "2023-04-20T08:21:27.007447Z"
    }
   }
  },
  {
   "cell_type": "code",
   "execution_count": 38,
   "outputs": [
    {
     "name": "stdout",
     "output_type": "stream",
     "text": [
      "Epoch 1/60\n",
      "76/76 [==============================] - 1s 6ms/step - loss: 0.7136 - accuracy: 0.7131 - val_loss: 0.5148 - val_accuracy: 0.8023\n",
      "Epoch 2/60\n",
      "76/76 [==============================] - 0s 5ms/step - loss: 0.5436 - accuracy: 0.8013 - val_loss: 0.4572 - val_accuracy: 0.8320\n",
      "Epoch 3/60\n",
      "76/76 [==============================] - 0s 5ms/step - loss: 0.4824 - accuracy: 0.8244 - val_loss: 0.4007 - val_accuracy: 0.8633\n",
      "Epoch 4/60\n",
      "76/76 [==============================] - 0s 4ms/step - loss: 0.4408 - accuracy: 0.8397 - val_loss: 0.3557 - val_accuracy: 0.8699\n",
      "Epoch 5/60\n",
      "76/76 [==============================] - 0s 4ms/step - loss: 0.4161 - accuracy: 0.8603 - val_loss: 0.3500 - val_accuracy: 0.8863\n",
      "Epoch 6/60\n",
      "76/76 [==============================] - 0s 4ms/step - loss: 0.3790 - accuracy: 0.8755 - val_loss: 0.2980 - val_accuracy: 0.9094\n",
      "Epoch 7/60\n",
      "76/76 [==============================] - 0s 4ms/step - loss: 0.3747 - accuracy: 0.8714 - val_loss: 0.4448 - val_accuracy: 0.8353\n",
      "Epoch 8/60\n",
      "76/76 [==============================] - 0s 4ms/step - loss: 0.3621 - accuracy: 0.8763 - val_loss: 0.3126 - val_accuracy: 0.8913\n",
      "Epoch 9/60\n",
      "76/76 [==============================] - 0s 3ms/step - loss: 0.3533 - accuracy: 0.8825 - val_loss: 0.2769 - val_accuracy: 0.9094\n",
      "Epoch 10/60\n",
      "76/76 [==============================] - 0s 4ms/step - loss: 0.3547 - accuracy: 0.8763 - val_loss: 0.2988 - val_accuracy: 0.8863\n",
      "Epoch 11/60\n",
      "76/76 [==============================] - 0s 4ms/step - loss: 0.3342 - accuracy: 0.8924 - val_loss: 0.2695 - val_accuracy: 0.9094\n",
      "Epoch 12/60\n",
      "76/76 [==============================] - 0s 4ms/step - loss: 0.3152 - accuracy: 0.8982 - val_loss: 0.3131 - val_accuracy: 0.8962\n",
      "Epoch 13/60\n",
      "76/76 [==============================] - 0s 4ms/step - loss: 0.3061 - accuracy: 0.8969 - val_loss: 0.2448 - val_accuracy: 0.9143\n",
      "Epoch 14/60\n",
      "76/76 [==============================] - 0s 4ms/step - loss: 0.3029 - accuracy: 0.9068 - val_loss: 0.2478 - val_accuracy: 0.9275\n",
      "Epoch 15/60\n",
      "76/76 [==============================] - 0s 4ms/step - loss: 0.3160 - accuracy: 0.8937 - val_loss: 0.2606 - val_accuracy: 0.9127\n",
      "Epoch 16/60\n",
      "76/76 [==============================] - 0s 4ms/step - loss: 0.3129 - accuracy: 0.8965 - val_loss: 0.2370 - val_accuracy: 0.9209\n",
      "Epoch 17/60\n",
      "76/76 [==============================] - 0s 4ms/step - loss: 0.3064 - accuracy: 0.8945 - val_loss: 0.2616 - val_accuracy: 0.9061\n",
      "Epoch 18/60\n",
      "76/76 [==============================] - 0s 4ms/step - loss: 0.3071 - accuracy: 0.8986 - val_loss: 0.2505 - val_accuracy: 0.9094\n",
      "Epoch 19/60\n",
      "76/76 [==============================] - 0s 4ms/step - loss: 0.2975 - accuracy: 0.9011 - val_loss: 0.2549 - val_accuracy: 0.9143\n",
      "Epoch 20/60\n",
      "76/76 [==============================] - 0s 4ms/step - loss: 0.2972 - accuracy: 0.8974 - val_loss: 0.2323 - val_accuracy: 0.9275\n",
      "Epoch 21/60\n",
      "76/76 [==============================] - 0s 4ms/step - loss: 0.2959 - accuracy: 0.9064 - val_loss: 0.2486 - val_accuracy: 0.9143\n",
      "Epoch 22/60\n",
      "76/76 [==============================] - 0s 4ms/step - loss: 0.2926 - accuracy: 0.8949 - val_loss: 0.2156 - val_accuracy: 0.9275\n",
      "Epoch 23/60\n",
      "76/76 [==============================] - 0s 4ms/step - loss: 0.3016 - accuracy: 0.9015 - val_loss: 0.2404 - val_accuracy: 0.9143\n",
      "Epoch 24/60\n",
      "76/76 [==============================] - 0s 4ms/step - loss: 0.2846 - accuracy: 0.9093 - val_loss: 0.2463 - val_accuracy: 0.9193\n",
      "Epoch 25/60\n",
      "76/76 [==============================] - 0s 4ms/step - loss: 0.2807 - accuracy: 0.9044 - val_loss: 0.2460 - val_accuracy: 0.9242\n",
      "Epoch 26/60\n",
      "76/76 [==============================] - 0s 4ms/step - loss: 0.2985 - accuracy: 0.8937 - val_loss: 0.2419 - val_accuracy: 0.9209\n",
      "Epoch 27/60\n",
      "76/76 [==============================] - 0s 4ms/step - loss: 0.2758 - accuracy: 0.9052 - val_loss: 0.2214 - val_accuracy: 0.9341\n",
      "Epoch 28/60\n",
      "76/76 [==============================] - 0s 4ms/step - loss: 0.2592 - accuracy: 0.9085 - val_loss: 0.2454 - val_accuracy: 0.9209\n",
      "Epoch 29/60\n",
      "76/76 [==============================] - 0s 4ms/step - loss: 0.2717 - accuracy: 0.9101 - val_loss: 0.2375 - val_accuracy: 0.9259\n",
      "Epoch 30/60\n",
      "76/76 [==============================] - 0s 4ms/step - loss: 0.2650 - accuracy: 0.9151 - val_loss: 0.2444 - val_accuracy: 0.9275\n",
      "Epoch 31/60\n",
      "76/76 [==============================] - 0s 4ms/step - loss: 0.2587 - accuracy: 0.9138 - val_loss: 0.2504 - val_accuracy: 0.9160\n",
      "Epoch 32/60\n",
      "76/76 [==============================] - 0s 4ms/step - loss: 0.2721 - accuracy: 0.9089 - val_loss: 0.2361 - val_accuracy: 0.9176\n",
      "Epoch 33/60\n",
      "76/76 [==============================] - 0s 4ms/step - loss: 0.2426 - accuracy: 0.9192 - val_loss: 0.2082 - val_accuracy: 0.9308\n",
      "Epoch 34/60\n",
      "76/76 [==============================] - 0s 4ms/step - loss: 0.2706 - accuracy: 0.9114 - val_loss: 0.2194 - val_accuracy: 0.9275\n",
      "Epoch 35/60\n",
      "76/76 [==============================] - 0s 4ms/step - loss: 0.2606 - accuracy: 0.9138 - val_loss: 0.2086 - val_accuracy: 0.9325\n",
      "Epoch 36/60\n",
      "76/76 [==============================] - 0s 4ms/step - loss: 0.2537 - accuracy: 0.9114 - val_loss: 0.1981 - val_accuracy: 0.9325\n",
      "Epoch 37/60\n",
      "76/76 [==============================] - 0s 4ms/step - loss: 0.2699 - accuracy: 0.9114 - val_loss: 0.2136 - val_accuracy: 0.9357\n",
      "Epoch 38/60\n",
      "76/76 [==============================] - 0s 4ms/step - loss: 0.2646 - accuracy: 0.9027 - val_loss: 0.2674 - val_accuracy: 0.9160\n",
      "Epoch 39/60\n",
      "76/76 [==============================] - 0s 4ms/step - loss: 0.2543 - accuracy: 0.9138 - val_loss: 0.2496 - val_accuracy: 0.9143\n",
      "Epoch 40/60\n",
      "76/76 [==============================] - 0s 4ms/step - loss: 0.2545 - accuracy: 0.9159 - val_loss: 0.2038 - val_accuracy: 0.9292\n",
      "Epoch 41/60\n",
      "76/76 [==============================] - 0s 4ms/step - loss: 0.2556 - accuracy: 0.9126 - val_loss: 0.2273 - val_accuracy: 0.9160\n",
      "Epoch 42/60\n",
      "76/76 [==============================] - 0s 4ms/step - loss: 0.2640 - accuracy: 0.9130 - val_loss: 0.1870 - val_accuracy: 0.9456\n",
      "Epoch 43/60\n",
      "76/76 [==============================] - 0s 4ms/step - loss: 0.2520 - accuracy: 0.9167 - val_loss: 0.2603 - val_accuracy: 0.9094\n",
      "Epoch 44/60\n",
      "76/76 [==============================] - 0s 4ms/step - loss: 0.2714 - accuracy: 0.9114 - val_loss: 0.2138 - val_accuracy: 0.9357\n",
      "Epoch 45/60\n",
      "76/76 [==============================] - 0s 4ms/step - loss: 0.2525 - accuracy: 0.9188 - val_loss: 0.2130 - val_accuracy: 0.9292\n",
      "Epoch 46/60\n",
      "76/76 [==============================] - 0s 4ms/step - loss: 0.2428 - accuracy: 0.9180 - val_loss: 0.1910 - val_accuracy: 0.9374\n",
      "Epoch 47/60\n",
      "76/76 [==============================] - 0s 4ms/step - loss: 0.2439 - accuracy: 0.9237 - val_loss: 0.2310 - val_accuracy: 0.9226\n",
      "Epoch 48/60\n",
      "76/76 [==============================] - 0s 4ms/step - loss: 0.2305 - accuracy: 0.9270 - val_loss: 0.2052 - val_accuracy: 0.9374\n",
      "Epoch 49/60\n",
      "76/76 [==============================] - 0s 4ms/step - loss: 0.2399 - accuracy: 0.9171 - val_loss: 0.2097 - val_accuracy: 0.9357\n",
      "Epoch 50/60\n",
      "76/76 [==============================] - 0s 4ms/step - loss: 0.2461 - accuracy: 0.9126 - val_loss: 0.2001 - val_accuracy: 0.9407\n",
      "Epoch 51/60\n",
      "76/76 [==============================] - 0s 4ms/step - loss: 0.2537 - accuracy: 0.9130 - val_loss: 0.2254 - val_accuracy: 0.9160\n",
      "Epoch 52/60\n",
      "76/76 [==============================] - 0s 4ms/step - loss: 0.2301 - accuracy: 0.9200 - val_loss: 0.1863 - val_accuracy: 0.9423\n",
      "Epoch 53/60\n",
      "76/76 [==============================] - 0s 4ms/step - loss: 0.2290 - accuracy: 0.9213 - val_loss: 0.2277 - val_accuracy: 0.9374\n",
      "Epoch 54/60\n",
      "76/76 [==============================] - 0s 4ms/step - loss: 0.2368 - accuracy: 0.9167 - val_loss: 0.2227 - val_accuracy: 0.9259\n",
      "Epoch 55/60\n",
      "76/76 [==============================] - 0s 4ms/step - loss: 0.2335 - accuracy: 0.9192 - val_loss: 0.2132 - val_accuracy: 0.9292\n",
      "Epoch 56/60\n",
      "76/76 [==============================] - 0s 4ms/step - loss: 0.2355 - accuracy: 0.9229 - val_loss: 0.2121 - val_accuracy: 0.9308\n",
      "Epoch 57/60\n",
      "76/76 [==============================] - 0s 4ms/step - loss: 0.2492 - accuracy: 0.9143 - val_loss: 0.1933 - val_accuracy: 0.9325\n",
      "Epoch 58/60\n",
      "76/76 [==============================] - 0s 4ms/step - loss: 0.2297 - accuracy: 0.9242 - val_loss: 0.2018 - val_accuracy: 0.9390\n",
      "Epoch 59/60\n",
      "76/76 [==============================] - 0s 4ms/step - loss: 0.2223 - accuracy: 0.9275 - val_loss: 0.2027 - val_accuracy: 0.9308\n",
      "Epoch 60/60\n",
      "76/76 [==============================] - 0s 4ms/step - loss: 0.2232 - accuracy: 0.9246 - val_loss: 0.1830 - val_accuracy: 0.9407\n"
     ]
    }
   ],
   "source": [
    "# entrenar el modelo\n",
    "history = model.fit(X_train, y_train, epochs=60, batch_size=32, validation_data=(X_test, y_test))\n"
   ],
   "metadata": {
    "collapsed": false,
    "ExecuteTime": {
     "start_time": "2023-04-20T08:21:28.274904Z",
     "end_time": "2023-04-20T08:21:45.966535Z"
    }
   }
  },
  {
   "cell_type": "code",
   "execution_count": 39,
   "outputs": [
    {
     "data": {
      "text/plain": "<Figure size 640x480 with 1 Axes>",
      "image/png": "[encoded data removed]"
     },
     "metadata": {},
     "output_type": "display_data"
    }
   ],
   "source": [
    "# graficar la precisión de entrenamiento y prueba\n",
    "plt.plot(history.history['accuracy'], label='train')\n",
    "plt.plot(history.history['val_accuracy'], label='test')\n",
    "plt.title('Model Accuracy')\n",
    "plt.xlabel('Epoch')\n",
    "plt.ylabel('Accuracy')\n",
    "plt.legend()\n",
    "plt.show()\n"
   ],
   "metadata": {
    "collapsed": false,
    "ExecuteTime": {
     "start_time": "2023-04-20T08:21:57.982406Z",
     "end_time": "2023-04-20T08:21:58.123598Z"
    }
   }
  },
  {
   "cell_type": "code",
   "execution_count": 40,
   "outputs": [
    {
     "name": "stdout",
     "output_type": "stream",
     "text": [
      "nombres_etiquetas\n",
      "Planetary Nebulae    1.0\n",
      "Red Giants           2.0\n",
      "Symbiotics           0.0\n",
      "Name: codificado, dtype: float64\n"
     ]
    }
   ],
   "source": [
    "y=df['id']\n",
    "import pandas as pd\n",
    "from sklearn.preprocessing import LabelEncoder\n",
    "\n",
    "df = pd.DataFrame(y)\n",
    "encoder = LabelEncoder()\n",
    "df['codificado'] = encoder.fit_transform(df['id'])\n",
    "\n",
    "nombres_etiquetas = encoder.classes_\n",
    "nuevos_nombres = ['Symbiotics', 'Planetary Nebulae', 'Red Giants']\n",
    "nombres_etiquetas_dict = {nombres_etiquetas[i]: nuevos_nombres[i] for i in range(len(nombres_etiquetas))}\n",
    "df['nombres_etiquetas'] = df['id'].map(nombres_etiquetas_dict)\n",
    "\n",
    "df_agrupado = df.groupby('nombres_etiquetas')['codificado'].mean()\n",
    "print(df_agrupado)"
   ],
   "metadata": {
    "collapsed": false,
    "ExecuteTime": {
     "start_time": "2023-04-20T08:21:59.273724Z",
     "end_time": "2023-04-20T08:21:59.280709Z"
    }
   }
  },
  {
   "cell_type": "code",
   "execution_count": 41,
   "outputs": [
    {
     "name": "stdout",
     "output_type": "stream",
     "text": [
      "19/19 [==============================] - 0s 1ms/step\n",
      "[[190   3   6]\n",
      " [ 12 177  14]\n",
      " [  0   1 204]]\n"
     ]
    }
   ],
   "source": [
    "# predecir las probabilidades para los datos de prueba\n",
    "y_probs = model.predict(X_test)\n",
    "y_pred = np.argmax(y_probs, axis=-1)\n",
    "cm = confusion_matrix(y_test, y_pred)\n",
    "print(cm)"
   ],
   "metadata": {
    "collapsed": false,
    "ExecuteTime": {
     "start_time": "2023-04-20T08:21:59.967012Z",
     "end_time": "2023-04-20T08:22:00.598408Z"
    }
   }
  },
  {
   "cell_type": "code",
   "execution_count": 42,
   "outputs": [
    {
     "name": "stdout",
     "output_type": "stream",
     "text": [
      "              precision    recall  f1-score   support\n",
      "\n",
      "           0     0.9406    0.9548    0.9476       199\n",
      "           1     0.9779    0.8719    0.9219       203\n",
      "           2     0.9107    0.9951    0.9510       205\n",
      "\n",
      "    accuracy                         0.9407       607\n",
      "   macro avg     0.9431    0.9406    0.9402       607\n",
      "weighted avg     0.9430    0.9407    0.9402       607\n",
      "\n"
     ]
    }
   ],
   "source": [
    "report = classification_report(y_test, y_pred, digits=4)\n",
    "print(report)"
   ],
   "metadata": {
    "collapsed": false,
    "ExecuteTime": {
     "start_time": "2023-04-20T08:22:00.746643Z",
     "end_time": "2023-04-20T08:22:00.757646Z"
    }
   }
  },
  {
   "cell_type": "code",
   "execution_count": 43,
   "outputs": [
    {
     "name": "stdout",
     "output_type": "stream",
     "text": [
      "Accuracy: 0.9406919275123559\n"
     ]
    }
   ],
   "source": [
    "accuracy = accuracy_score(y_test, y_pred)\n",
    "print('Accuracy:', accuracy)"
   ],
   "metadata": {
    "collapsed": false,
    "ExecuteTime": {
     "start_time": "2023-04-20T08:22:02.874216Z",
     "end_time": "2023-04-20T08:22:02.880215Z"
    }
   }
  },
  {
   "cell_type": "code",
   "execution_count": 44,
   "outputs": [
    {
     "name": "stdout",
     "output_type": "stream",
     "text": [
      "size of the splits\n",
      "X_train:  (2426, 343)\n",
      "X_test:  (607, 343)\n",
      "y_test:  607\n",
      "y_pred:  607\n"
     ]
    }
   ],
   "source": [
    "print(\"size of the splits\")\n",
    "print(\"X_train: \",  X_train.shape)\n",
    "print(\"X_test: \",  X_test.shape)\n",
    "print(\"y_test: \",  y_test.size)\n",
    "print(\"y_pred: \",  y_pred.size)"
   ],
   "metadata": {
    "collapsed": false,
    "ExecuteTime": {
     "start_time": "2023-04-20T08:22:03.961637Z",
     "end_time": "2023-04-20T08:22:03.970642Z"
    }
   }
  },
  {
   "cell_type": "code",
   "execution_count": null,
   "outputs": [],
   "source": [],
   "metadata": {
    "collapsed": false
   }
  }
 ],
 "metadata": {
  "kernelspec": {
   "display_name": "Python 3",
   "language": "python",
   "name": "python3"
  },
  "language_info": {
   "codemirror_mode": {
    "name": "ipython",
    "version": 2
   },
   "file_extension": ".py",
   "mimetype": "text/x-python",
   "name": "python",
   "nbconvert_exporter": "python",
   "pygments_lexer": "ipython2",
   "version": "2.7.6"
  }
 },
 "nbformat": 4,
 "nbformat_minor": 0
}
