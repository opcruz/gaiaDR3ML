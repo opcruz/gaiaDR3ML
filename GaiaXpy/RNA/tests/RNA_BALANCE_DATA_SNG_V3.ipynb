{
 "cells": [
  {
   "cell_type": "code",
   "execution_count": 120,
   "outputs": [],
   "source": [
    "import pandas as pd\n",
    "import numpy as np\n",
    "import tensorflow as tf\n",
    "from keras import regularizers\n",
    "from keras.optimizers import Adam\n",
    "from keras.optimizers import Adamax\n",
    "from sklearn.metrics import accuracy_score,classification_report, confusion_matrix\n",
    "from sklearn.model_selection import train_test_split\n",
    "from sklearn.preprocessing import LabelEncoder\n",
    "import matplotlib.pyplot as plt"
   ],
   "metadata": {
    "collapsed": false,
    "ExecuteTime": {
     "start_time": "2023-04-20T08:48:23.679835Z",
     "end_time": "2023-04-20T08:48:23.694972Z"
    }
   }
  },
  {
   "cell_type": "code",
   "execution_count": 114,
   "outputs": [],
   "source": [
    "df =  pd.read_csv(\"../../Data/DR3/espectros_normalizados_balanceados_SNG_1.csv\")"
   ],
   "metadata": {
    "collapsed": false,
    "ExecuteTime": {
     "start_time": "2023-04-20T08:47:46.977643Z",
     "end_time": "2023-04-20T08:47:47.131695Z"
    }
   }
  },
  {
   "cell_type": "code",
   "execution_count": 115,
   "outputs": [],
   "source": [
    "df =  df.rename(columns={'col344': \"id\"})"
   ],
   "metadata": {
    "collapsed": false,
    "ExecuteTime": {
     "start_time": "2023-04-20T08:47:47.335400Z",
     "end_time": "2023-04-20T08:47:47.351519Z"
    }
   }
  },
  {
   "cell_type": "code",
   "execution_count": 116,
   "outputs": [
    {
     "data": {
      "text/plain": "col1      float64\ncol2      float64\ncol3      float64\ncol4      float64\ncol5      float64\n           ...   \ncol340    float64\ncol341    float64\ncol342    float64\ncol343    float64\nid          int64\nLength: 344, dtype: object"
     },
     "execution_count": 116,
     "metadata": {},
     "output_type": "execute_result"
    }
   ],
   "source": [
    "df.dtypes"
   ],
   "metadata": {
    "collapsed": false,
    "ExecuteTime": {
     "start_time": "2023-04-20T08:47:48.546981Z",
     "end_time": "2023-04-20T08:47:48.570046Z"
    }
   }
  },
  {
   "cell_type": "code",
   "execution_count": 117,
   "outputs": [],
   "source": [
    "# separar las características (X) y la etiqueta (y)\n",
    "X = df.drop('id', axis=1)\n",
    "y = df['id']"
   ],
   "metadata": {
    "collapsed": false,
    "ExecuteTime": {
     "start_time": "2023-04-20T08:47:49.426622Z",
     "end_time": "2023-04-20T08:47:49.435633Z"
    }
   }
  },
  {
   "cell_type": "code",
   "execution_count": 118,
   "outputs": [],
   "source": [
    "# codificar la etiqueta (y)\n",
    "encoder = LabelEncoder()\n",
    "y = encoder.fit_transform(y)\n"
   ],
   "metadata": {
    "collapsed": false,
    "ExecuteTime": {
     "start_time": "2023-04-20T08:47:51.165506Z",
     "end_time": "2023-04-20T08:47:51.182426Z"
    }
   }
  },
  {
   "cell_type": "code",
   "execution_count": 119,
   "outputs": [],
   "source": [
    "\n",
    "# dividir el conjunto de datos en entrenamiento y prueba\n",
    "X_train, X_test, y_train, y_test = train_test_split(X, y, test_size=0.2, random_state=None)\n"
   ],
   "metadata": {
    "collapsed": false,
    "ExecuteTime": {
     "start_time": "2023-04-20T08:47:52.862532Z",
     "end_time": "2023-04-20T08:47:52.888360Z"
    }
   }
  },
  {
   "cell_type": "code",
   "execution_count": 121,
   "outputs": [],
   "source": [
    "# crear el modelo\n",
    "model = tf.keras.models.Sequential([\n",
    "  tf.keras.layers.Dense(128, activation='relu'),\n",
    "  tf.keras.layers.Dropout(0.4),\n",
    "  tf.keras.layers.Dense(64, activation='relu'),\n",
    "  tf.keras.layers.Dropout(0.4),\n",
    "  tf.keras.layers.Dense(64, activation='relu'),\n",
    "  tf.keras.layers.Dropout(0.2),\n",
    "  tf.keras.layers.Dense(3, activation='softmax')\n",
    "])\n",
    "adamax = Adamax(learning_rate = 0.001)\n",
    "# compilar el modelo\n",
    "model.compile(optimizer=adamax,\n",
    "              loss='sparse_categorical_crossentropy',\n",
    "              metrics=['accuracy'])\n",
    "\n"
   ],
   "metadata": {
    "collapsed": false,
    "ExecuteTime": {
     "start_time": "2023-04-20T08:48:41.556424Z",
     "end_time": "2023-04-20T08:48:42.248574Z"
    }
   }
  },
  {
   "cell_type": "code",
   "execution_count": 131,
   "outputs": [
    {
     "name": "stdout",
     "output_type": "stream",
     "text": [
      "Model: \"sequential_12\"\n",
      "_________________________________________________________________\n",
      " Layer (type)                Output Shape              Param #   \n",
      "=================================================================\n",
      " dense_40 (Dense)            (None, 128)               44032     \n",
      "                                                                 \n",
      " dropout_28 (Dropout)        (None, 128)               0         \n",
      "                                                                 \n",
      " dense_41 (Dense)            (None, 64)                8256      \n",
      "                                                                 \n",
      " dropout_29 (Dropout)        (None, 64)                0         \n",
      "                                                                 \n",
      " dense_42 (Dense)            (None, 64)                4160      \n",
      "                                                                 \n",
      " dropout_30 (Dropout)        (None, 64)                0         \n",
      "                                                                 \n",
      " dense_43 (Dense)            (None, 3)                 195       \n",
      "                                                                 \n",
      "=================================================================\n",
      "Total params: 56,643\n",
      "Trainable params: 56,643\n",
      "Non-trainable params: 0\n",
      "_________________________________________________________________\n",
      "None\n"
     ]
    }
   ],
   "source": [
    "print(model.summary())"
   ],
   "metadata": {
    "collapsed": false,
    "ExecuteTime": {
     "start_time": "2023-04-20T08:49:56.172987Z",
     "end_time": "2023-04-20T08:49:56.233538Z"
    }
   }
  },
  {
   "cell_type": "code",
   "execution_count": 123,
   "outputs": [
    {
     "name": "stdout",
     "output_type": "stream",
     "text": [
      "Epoch 1/50\n",
      "38/38 [==============================] - 1s 12ms/step - loss: 0.8746 - accuracy: 0.6150 - val_loss: 0.6164 - val_accuracy: 0.7710\n",
      "Epoch 2/50\n",
      "38/38 [==============================] - 0s 5ms/step - loss: 0.7029 - accuracy: 0.7304 - val_loss: 0.5179 - val_accuracy: 0.8122\n",
      "Epoch 3/50\n",
      "38/38 [==============================] - 0s 5ms/step - loss: 0.6392 - accuracy: 0.7543 - val_loss: 0.4795 - val_accuracy: 0.8204\n",
      "Epoch 4/50\n",
      "38/38 [==============================] - 0s 5ms/step - loss: 0.5917 - accuracy: 0.7786 - val_loss: 0.4546 - val_accuracy: 0.8237\n",
      "Epoch 5/50\n",
      "38/38 [==============================] - 0s 4ms/step - loss: 0.5717 - accuracy: 0.7824 - val_loss: 0.4375 - val_accuracy: 0.8303\n",
      "Epoch 6/50\n",
      "38/38 [==============================] - 0s 4ms/step - loss: 0.5574 - accuracy: 0.7960 - val_loss: 0.4213 - val_accuracy: 0.8435\n",
      "Epoch 7/50\n",
      "38/38 [==============================] - 0s 4ms/step - loss: 0.5272 - accuracy: 0.8034 - val_loss: 0.4169 - val_accuracy: 0.8386\n",
      "Epoch 8/50\n",
      "38/38 [==============================] - 0s 4ms/step - loss: 0.5077 - accuracy: 0.8137 - val_loss: 0.3953 - val_accuracy: 0.8550\n",
      "Epoch 9/50\n",
      "38/38 [==============================] - 0s 4ms/step - loss: 0.5080 - accuracy: 0.8096 - val_loss: 0.3770 - val_accuracy: 0.8666\n",
      "Epoch 10/50\n",
      "38/38 [==============================] - 0s 4ms/step - loss: 0.4747 - accuracy: 0.8244 - val_loss: 0.3655 - val_accuracy: 0.8649\n",
      "Epoch 11/50\n",
      "38/38 [==============================] - 0s 7ms/step - loss: 0.4653 - accuracy: 0.8405 - val_loss: 0.3487 - val_accuracy: 0.8731\n",
      "Epoch 12/50\n",
      "38/38 [==============================] - 0s 9ms/step - loss: 0.4360 - accuracy: 0.8475 - val_loss: 0.3267 - val_accuracy: 0.8863\n",
      "Epoch 13/50\n",
      "38/38 [==============================] - 0s 8ms/step - loss: 0.4333 - accuracy: 0.8495 - val_loss: 0.3216 - val_accuracy: 0.8913\n",
      "Epoch 14/50\n",
      "38/38 [==============================] - 0s 4ms/step - loss: 0.4184 - accuracy: 0.8611 - val_loss: 0.3045 - val_accuracy: 0.9061\n",
      "Epoch 15/50\n",
      "38/38 [==============================] - 0s 4ms/step - loss: 0.4084 - accuracy: 0.8685 - val_loss: 0.2993 - val_accuracy: 0.8880\n",
      "Epoch 16/50\n",
      "38/38 [==============================] - 0s 4ms/step - loss: 0.3928 - accuracy: 0.8755 - val_loss: 0.2810 - val_accuracy: 0.9193\n",
      "Epoch 17/50\n",
      "38/38 [==============================] - 0s 4ms/step - loss: 0.3703 - accuracy: 0.8772 - val_loss: 0.2722 - val_accuracy: 0.9143\n",
      "Epoch 18/50\n",
      "38/38 [==============================] - 0s 5ms/step - loss: 0.3750 - accuracy: 0.8718 - val_loss: 0.2543 - val_accuracy: 0.9226\n",
      "Epoch 19/50\n",
      "38/38 [==============================] - 0s 4ms/step - loss: 0.3654 - accuracy: 0.8829 - val_loss: 0.2546 - val_accuracy: 0.9275\n",
      "Epoch 20/50\n",
      "38/38 [==============================] - 0s 4ms/step - loss: 0.3537 - accuracy: 0.8883 - val_loss: 0.2515 - val_accuracy: 0.9242\n",
      "Epoch 21/50\n",
      "38/38 [==============================] - 0s 4ms/step - loss: 0.3325 - accuracy: 0.8969 - val_loss: 0.2501 - val_accuracy: 0.9292\n",
      "Epoch 22/50\n",
      "38/38 [==============================] - 0s 4ms/step - loss: 0.3384 - accuracy: 0.8998 - val_loss: 0.2371 - val_accuracy: 0.9308\n",
      "Epoch 23/50\n",
      "38/38 [==============================] - 0s 4ms/step - loss: 0.3307 - accuracy: 0.9015 - val_loss: 0.2277 - val_accuracy: 0.9259\n",
      "Epoch 24/50\n",
      "38/38 [==============================] - 0s 7ms/step - loss: 0.3154 - accuracy: 0.8957 - val_loss: 0.2289 - val_accuracy: 0.9259\n",
      "Epoch 25/50\n",
      "38/38 [==============================] - 0s 10ms/step - loss: 0.3284 - accuracy: 0.8904 - val_loss: 0.2254 - val_accuracy: 0.9226\n",
      "Epoch 26/50\n",
      "38/38 [==============================] - 0s 10ms/step - loss: 0.3226 - accuracy: 0.9002 - val_loss: 0.2227 - val_accuracy: 0.9209\n",
      "Epoch 27/50\n",
      "38/38 [==============================] - 0s 4ms/step - loss: 0.3177 - accuracy: 0.9019 - val_loss: 0.2146 - val_accuracy: 0.9292\n",
      "Epoch 28/50\n",
      "38/38 [==============================] - 0s 7ms/step - loss: 0.2946 - accuracy: 0.9081 - val_loss: 0.2140 - val_accuracy: 0.9259\n",
      "Epoch 29/50\n",
      "38/38 [==============================] - 0s 7ms/step - loss: 0.3040 - accuracy: 0.9040 - val_loss: 0.2087 - val_accuracy: 0.9275\n",
      "Epoch 30/50\n",
      "38/38 [==============================] - 0s 5ms/step - loss: 0.2963 - accuracy: 0.9052 - val_loss: 0.2118 - val_accuracy: 0.9259\n",
      "Epoch 31/50\n",
      "38/38 [==============================] - 0s 8ms/step - loss: 0.2870 - accuracy: 0.9060 - val_loss: 0.2063 - val_accuracy: 0.9259\n",
      "Epoch 32/50\n",
      "38/38 [==============================] - 0s 4ms/step - loss: 0.2905 - accuracy: 0.9118 - val_loss: 0.2098 - val_accuracy: 0.9242\n",
      "Epoch 33/50\n",
      "38/38 [==============================] - 0s 7ms/step - loss: 0.2881 - accuracy: 0.9089 - val_loss: 0.2100 - val_accuracy: 0.9275\n",
      "Epoch 34/50\n",
      "38/38 [==============================] - 0s 4ms/step - loss: 0.2890 - accuracy: 0.9064 - val_loss: 0.2107 - val_accuracy: 0.9292\n",
      "Epoch 35/50\n",
      "38/38 [==============================] - 0s 4ms/step - loss: 0.2807 - accuracy: 0.9122 - val_loss: 0.2063 - val_accuracy: 0.9259\n",
      "Epoch 36/50\n",
      "38/38 [==============================] - 0s 4ms/step - loss: 0.2801 - accuracy: 0.9110 - val_loss: 0.2040 - val_accuracy: 0.9259\n",
      "Epoch 37/50\n",
      "38/38 [==============================] - 0s 4ms/step - loss: 0.2819 - accuracy: 0.9126 - val_loss: 0.2017 - val_accuracy: 0.9275\n",
      "Epoch 38/50\n",
      "38/38 [==============================] - 0s 4ms/step - loss: 0.2711 - accuracy: 0.9176 - val_loss: 0.2028 - val_accuracy: 0.9275\n",
      "Epoch 39/50\n",
      "38/38 [==============================] - 0s 4ms/step - loss: 0.2759 - accuracy: 0.9138 - val_loss: 0.2089 - val_accuracy: 0.9242\n",
      "Epoch 40/50\n",
      "38/38 [==============================] - 0s 4ms/step - loss: 0.2806 - accuracy: 0.9122 - val_loss: 0.1925 - val_accuracy: 0.9275\n",
      "Epoch 41/50\n",
      "38/38 [==============================] - 0s 4ms/step - loss: 0.2688 - accuracy: 0.9176 - val_loss: 0.1976 - val_accuracy: 0.9292\n",
      "Epoch 42/50\n",
      "38/38 [==============================] - 0s 4ms/step - loss: 0.2768 - accuracy: 0.9101 - val_loss: 0.1913 - val_accuracy: 0.9275\n",
      "Epoch 43/50\n",
      "38/38 [==============================] - 0s 5ms/step - loss: 0.2642 - accuracy: 0.9159 - val_loss: 0.1902 - val_accuracy: 0.9325\n",
      "Epoch 44/50\n",
      "38/38 [==============================] - 0s 4ms/step - loss: 0.2792 - accuracy: 0.9159 - val_loss: 0.1950 - val_accuracy: 0.9275\n",
      "Epoch 45/50\n",
      "38/38 [==============================] - 0s 6ms/step - loss: 0.2627 - accuracy: 0.9163 - val_loss: 0.1977 - val_accuracy: 0.9357\n",
      "Epoch 46/50\n",
      "38/38 [==============================] - 0s 8ms/step - loss: 0.2566 - accuracy: 0.9180 - val_loss: 0.1879 - val_accuracy: 0.9341\n",
      "Epoch 47/50\n",
      "38/38 [==============================] - 0s 4ms/step - loss: 0.2733 - accuracy: 0.9138 - val_loss: 0.1946 - val_accuracy: 0.9259\n",
      "Epoch 48/50\n",
      "38/38 [==============================] - 0s 9ms/step - loss: 0.2595 - accuracy: 0.9167 - val_loss: 0.1945 - val_accuracy: 0.9357\n",
      "Epoch 49/50\n",
      "38/38 [==============================] - 0s 5ms/step - loss: 0.2631 - accuracy: 0.9171 - val_loss: 0.1910 - val_accuracy: 0.9292\n",
      "Epoch 50/50\n",
      "38/38 [==============================] - 0s 6ms/step - loss: 0.2625 - accuracy: 0.9176 - val_loss: 0.1881 - val_accuracy: 0.9325\n"
     ]
    }
   ],
   "source": [
    "# entrenar el modelo\n",
    "history = model.fit(X_train, y_train, epochs=50, batch_size=64, validation_data=(X_test, y_test))\n"
   ],
   "metadata": {
    "collapsed": false,
    "ExecuteTime": {
     "start_time": "2023-04-20T08:48:43.756058Z",
     "end_time": "2023-04-20T08:48:54.782603Z"
    }
   }
  },
  {
   "cell_type": "code",
   "execution_count": 124,
   "outputs": [
    {
     "data": {
      "text/plain": "<Figure size 640x480 with 1 Axes>",
      "image/png": "[encoded data removed]"
     },
     "metadata": {},
     "output_type": "display_data"
    }
   ],
   "source": [
    "# graficar la precisión de entrenamiento y prueba\n",
    "plt.plot(history.history['accuracy'], label='train')\n",
    "plt.plot(history.history['val_accuracy'], label='test')\n",
    "plt.title('Model Accuracy')\n",
    "plt.xlabel('Epoch')\n",
    "plt.ylabel('Accuracy')\n",
    "plt.legend()\n",
    "plt.show()\n"
   ],
   "metadata": {
    "collapsed": false,
    "ExecuteTime": {
     "start_time": "2023-04-20T08:49:17.665097Z",
     "end_time": "2023-04-20T08:49:17.780372Z"
    }
   }
  },
  {
   "cell_type": "code",
   "execution_count": 125,
   "outputs": [
    {
     "name": "stdout",
     "output_type": "stream",
     "text": [
      "nombres_etiquetas\n",
      "Planetary Nebulae    1.0\n",
      "Red Giants           2.0\n",
      "Symbiotics           0.0\n",
      "Name: codificado, dtype: float64\n"
     ]
    }
   ],
   "source": [
    "y=df['id']\n",
    "import pandas as pd\n",
    "from sklearn.preprocessing import LabelEncoder\n",
    "\n",
    "df = pd.DataFrame(y)\n",
    "encoder = LabelEncoder()\n",
    "df['codificado'] = encoder.fit_transform(df['id'])\n",
    "\n",
    "nombres_etiquetas = encoder.classes_\n",
    "nuevos_nombres = ['Symbiotics', 'Planetary Nebulae', 'Red Giants']\n",
    "nombres_etiquetas_dict = {nombres_etiquetas[i]: nuevos_nombres[i] for i in range(len(nombres_etiquetas))}\n",
    "df['nombres_etiquetas'] = df['id'].map(nombres_etiquetas_dict)\n",
    "\n",
    "df_agrupado = df.groupby('nombres_etiquetas')['codificado'].mean()\n",
    "print(df_agrupado)"
   ],
   "metadata": {
    "collapsed": false,
    "ExecuteTime": {
     "start_time": "2023-04-20T08:49:19.071680Z",
     "end_time": "2023-04-20T08:49:19.100764Z"
    }
   }
  },
  {
   "cell_type": "code",
   "execution_count": 126,
   "outputs": [
    {
     "name": "stdout",
     "output_type": "stream",
     "text": [
      "19/19 [==============================] - 0s 2ms/step\n",
      "[[177   6   1]\n",
      " [ 12 173  13]\n",
      " [  4   5 216]]\n"
     ]
    }
   ],
   "source": [
    "# predecir las probabilidades para los datos de prueba\n",
    "y_probs = model.predict(X_test)\n",
    "y_pred = np.argmax(y_probs, axis=-1)\n",
    "cm = confusion_matrix(y_test, y_pred)\n",
    "print(cm)"
   ],
   "metadata": {
    "collapsed": false,
    "ExecuteTime": {
     "start_time": "2023-04-20T08:49:19.611835Z",
     "end_time": "2023-04-20T08:49:20.442422Z"
    }
   }
  },
  {
   "cell_type": "code",
   "execution_count": 127,
   "outputs": [
    {
     "name": "stdout",
     "output_type": "stream",
     "text": [
      "              precision    recall  f1-score   support\n",
      "\n",
      "           0     0.9171    0.9620    0.9390       184\n",
      "           1     0.9402    0.8737    0.9058       198\n",
      "           2     0.9391    0.9600    0.9495       225\n",
      "\n",
      "    accuracy                         0.9325       607\n",
      "   macro avg     0.9321    0.9319    0.9314       607\n",
      "weighted avg     0.9328    0.9325    0.9320       607\n",
      "\n"
     ]
    }
   ],
   "source": [
    "report = classification_report(y_test, y_pred, digits=4)\n",
    "print(report)"
   ],
   "metadata": {
    "collapsed": false,
    "ExecuteTime": {
     "start_time": "2023-04-20T08:49:20.549520Z",
     "end_time": "2023-04-20T08:49:20.565573Z"
    }
   }
  },
  {
   "cell_type": "code",
   "execution_count": 128,
   "outputs": [
    {
     "name": "stdout",
     "output_type": "stream",
     "text": [
      "Accuracy: 0.9324546952224053\n"
     ]
    }
   ],
   "source": [
    "accuracy = accuracy_score(y_test, y_pred)\n",
    "print('Accuracy:', accuracy)"
   ],
   "metadata": {
    "collapsed": false,
    "ExecuteTime": {
     "start_time": "2023-04-20T08:49:22.422222Z",
     "end_time": "2023-04-20T08:49:22.439165Z"
    }
   }
  },
  {
   "cell_type": "code",
   "execution_count": 129,
   "outputs": [
    {
     "name": "stdout",
     "output_type": "stream",
     "text": [
      "size of the splits\n",
      "X_train:  (2426, 343)\n",
      "X_test:  (607, 343)\n",
      "y_test:  607\n",
      "y_pred:  607\n"
     ]
    }
   ],
   "source": [
    "print(\"size of the splits\")\n",
    "print(\"X_train: \",  X_train.shape)\n",
    "print(\"X_test: \",  X_test.shape)\n",
    "print(\"y_test: \",  y_test.size)\n",
    "print(\"y_pred: \",  y_pred.size)"
   ],
   "metadata": {
    "collapsed": false,
    "ExecuteTime": {
     "start_time": "2023-04-20T08:49:23.798157Z",
     "end_time": "2023-04-20T08:49:23.822010Z"
    }
   }
  },
  {
   "cell_type": "code",
   "execution_count": null,
   "outputs": [],
   "source": [],
   "metadata": {
    "collapsed": false
   }
  }
 ],
 "metadata": {
  "kernelspec": {
   "display_name": "Python 3",
   "language": "python",
   "name": "python3"
  },
  "language_info": {
   "codemirror_mode": {
    "name": "ipython",
    "version": 2
   },
   "file_extension": ".py",
   "mimetype": "text/x-python",
   "name": "python",
   "nbconvert_exporter": "python",
   "pygments_lexer": "ipython2",
   "version": "2.7.6"
  }
 },
 "nbformat": 4,
 "nbformat_minor": 0
}
