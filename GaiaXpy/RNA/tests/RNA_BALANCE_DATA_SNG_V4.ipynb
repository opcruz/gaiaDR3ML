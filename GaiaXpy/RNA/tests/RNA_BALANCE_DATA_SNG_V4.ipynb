{
 "cells": [
  {
   "cell_type": "code",
   "execution_count": 1,
   "outputs": [],
   "source": [
    "import pandas as pd\n",
    "import numpy as np\n",
    "import tensorflow as tf\n",
    "from keras.optimizers import Adam\n",
    "from sklearn.metrics import accuracy_score,classification_report, confusion_matrix\n",
    "from sklearn.model_selection import train_test_split\n",
    "from sklearn.preprocessing import LabelEncoder\n",
    "import matplotlib.pyplot as plt"
   ],
   "metadata": {
    "collapsed": false,
    "ExecuteTime": {
     "start_time": "2023-04-20T08:50:35.176883Z",
     "end_time": "2023-04-20T08:50:40.264356Z"
    }
   }
  },
  {
   "cell_type": "code",
   "execution_count": 2,
   "outputs": [],
   "source": [
    "df =  pd.read_csv(\"../../Data/DR3/espectros_normalizados_balanceados_SNG_1.csv\")"
   ],
   "metadata": {
    "collapsed": false,
    "ExecuteTime": {
     "start_time": "2023-04-20T08:50:40.264356Z",
     "end_time": "2023-04-20T08:50:40.492482Z"
    }
   }
  },
  {
   "cell_type": "code",
   "execution_count": 3,
   "outputs": [],
   "source": [
    "df =  df.rename(columns={'col344': \"id\"})"
   ],
   "metadata": {
    "collapsed": false,
    "ExecuteTime": {
     "start_time": "2023-04-20T08:50:40.492482Z",
     "end_time": "2023-04-20T08:50:40.496998Z"
    }
   }
  },
  {
   "cell_type": "code",
   "execution_count": 4,
   "outputs": [
    {
     "data": {
      "text/plain": "col1      float64\ncol2      float64\ncol3      float64\ncol4      float64\ncol5      float64\n           ...   \ncol340    float64\ncol341    float64\ncol342    float64\ncol343    float64\nid          int64\nLength: 344, dtype: object"
     },
     "execution_count": 4,
     "metadata": {},
     "output_type": "execute_result"
    }
   ],
   "source": [
    "df.dtypes"
   ],
   "metadata": {
    "collapsed": false,
    "ExecuteTime": {
     "start_time": "2023-04-20T08:50:40.496998Z",
     "end_time": "2023-04-20T08:50:40.510527Z"
    }
   }
  },
  {
   "cell_type": "code",
   "execution_count": 5,
   "outputs": [],
   "source": [
    "# separar las características (X) y la etiqueta (y)\n",
    "X = df.drop('id', axis=1)\n",
    "y = df['id']"
   ],
   "metadata": {
    "collapsed": false,
    "ExecuteTime": {
     "start_time": "2023-04-20T08:50:40.511527Z",
     "end_time": "2023-04-20T08:50:40.534251Z"
    }
   }
  },
  {
   "cell_type": "code",
   "execution_count": 6,
   "outputs": [],
   "source": [
    "# codificar la etiqueta (y)\n",
    "encoder = LabelEncoder()\n",
    "y = encoder.fit_transform(y)\n"
   ],
   "metadata": {
    "collapsed": false,
    "ExecuteTime": {
     "start_time": "2023-04-20T08:50:40.527745Z",
     "end_time": "2023-04-20T08:50:40.544258Z"
    }
   }
  },
  {
   "cell_type": "code",
   "execution_count": 7,
   "outputs": [],
   "source": [
    "\n",
    "# dividir el conjunto de datos en entrenamiento y prueba\n",
    "X_train, X_test, y_train, y_test = train_test_split(X, y, test_size=0.2, random_state=None)\n"
   ],
   "metadata": {
    "collapsed": false,
    "ExecuteTime": {
     "start_time": "2023-04-20T08:50:40.546357Z",
     "end_time": "2023-04-20T08:50:40.576596Z"
    }
   }
  },
  {
   "cell_type": "code",
   "execution_count": 8,
   "outputs": [],
   "source": [
    "# crear el modelo\n",
    "model = tf.keras.models.Sequential([\n",
    "  tf.keras.layers.Dense(128, activation='relu'),\n",
    "  tf.keras.layers.Dropout(0.4),\n",
    "  tf.keras.layers.Dense(64, activation='relu'),\n",
    "  tf.keras.layers.Dropout(0.4),\n",
    "  tf.keras.layers.Dense(64, activation='relu'),\n",
    "  tf.keras.layers.Dropout(0.2),\n",
    "  tf.keras.layers.Dense(3, activation='softmax')\n",
    "])\n",
    "adam = Adam(learning_rate = 0.001)\n",
    "# compilar el modelo\n",
    "model.compile(optimizer=adam,\n",
    "              loss='sparse_categorical_crossentropy',\n",
    "              metrics=['accuracy'])\n",
    "\n"
   ],
   "metadata": {
    "collapsed": false,
    "ExecuteTime": {
     "start_time": "2023-04-20T08:50:50.805346Z",
     "end_time": "2023-04-20T08:50:53.632451Z"
    }
   }
  },
  {
   "cell_type": "code",
   "execution_count": 11,
   "outputs": [
    {
     "name": "stdout",
     "output_type": "stream",
     "text": [
      "Model: \"sequential\"\n",
      "_________________________________________________________________\n",
      " Layer (type)                Output Shape              Param #   \n",
      "=================================================================\n",
      " dense (Dense)               (None, 128)               44032     \n",
      "                                                                 \n",
      " dropout (Dropout)           (None, 128)               0         \n",
      "                                                                 \n",
      " dense_1 (Dense)             (None, 64)                8256      \n",
      "                                                                 \n",
      " dropout_1 (Dropout)         (None, 64)                0         \n",
      "                                                                 \n",
      " dense_2 (Dense)             (None, 64)                4160      \n",
      "                                                                 \n",
      " dropout_2 (Dropout)         (None, 64)                0         \n",
      "                                                                 \n",
      " dense_3 (Dense)             (None, 3)                 195       \n",
      "                                                                 \n",
      "=================================================================\n",
      "Total params: 56,643\n",
      "Trainable params: 56,643\n",
      "Non-trainable params: 0\n",
      "_________________________________________________________________\n",
      "None\n"
     ]
    }
   ],
   "source": [
    "print(model.summary())"
   ],
   "metadata": {
    "collapsed": false,
    "ExecuteTime": {
     "start_time": "2023-04-20T08:51:38.894666Z",
     "end_time": "2023-04-20T08:51:38.951862Z"
    }
   }
  },
  {
   "cell_type": "code",
   "execution_count": 10,
   "outputs": [
    {
     "name": "stdout",
     "output_type": "stream",
     "text": [
      "Epoch 1/50\n",
      "38/38 [==============================] - 4s 13ms/step - loss: 0.8647 - accuracy: 0.6274 - val_loss: 0.6162 - val_accuracy: 0.7677\n",
      "Epoch 2/50\n",
      "38/38 [==============================] - 0s 4ms/step - loss: 0.6251 - accuracy: 0.7708 - val_loss: 0.5515 - val_accuracy: 0.7891\n",
      "Epoch 3/50\n",
      "38/38 [==============================] - 0s 4ms/step - loss: 0.5678 - accuracy: 0.7943 - val_loss: 0.5341 - val_accuracy: 0.7957\n",
      "Epoch 4/50\n",
      "38/38 [==============================] - 0s 4ms/step - loss: 0.5303 - accuracy: 0.8042 - val_loss: 0.4716 - val_accuracy: 0.8204\n",
      "Epoch 5/50\n",
      "38/38 [==============================] - 0s 5ms/step - loss: 0.4976 - accuracy: 0.8075 - val_loss: 0.4465 - val_accuracy: 0.8336\n",
      "Epoch 6/50\n",
      "38/38 [==============================] - 0s 5ms/step - loss: 0.4675 - accuracy: 0.8244 - val_loss: 0.4136 - val_accuracy: 0.8468\n",
      "Epoch 7/50\n",
      "38/38 [==============================] - 0s 4ms/step - loss: 0.4523 - accuracy: 0.8397 - val_loss: 0.3989 - val_accuracy: 0.8583\n",
      "Epoch 8/50\n",
      "38/38 [==============================] - 0s 4ms/step - loss: 0.4362 - accuracy: 0.8487 - val_loss: 0.3491 - val_accuracy: 0.8979\n",
      "Epoch 9/50\n",
      "38/38 [==============================] - 0s 4ms/step - loss: 0.4039 - accuracy: 0.8660 - val_loss: 0.3217 - val_accuracy: 0.8979\n",
      "Epoch 10/50\n",
      "38/38 [==============================] - 0s 4ms/step - loss: 0.3724 - accuracy: 0.8714 - val_loss: 0.2977 - val_accuracy: 0.9193\n",
      "Epoch 11/50\n",
      "38/38 [==============================] - 0s 6ms/step - loss: 0.3751 - accuracy: 0.8817 - val_loss: 0.2840 - val_accuracy: 0.9259\n",
      "Epoch 12/50\n",
      "38/38 [==============================] - 0s 9ms/step - loss: 0.3452 - accuracy: 0.8833 - val_loss: 0.2593 - val_accuracy: 0.9259\n",
      "Epoch 13/50\n",
      "38/38 [==============================] - 0s 8ms/step - loss: 0.3643 - accuracy: 0.8792 - val_loss: 0.2655 - val_accuracy: 0.9275\n",
      "Epoch 14/50\n",
      "38/38 [==============================] - 0s 7ms/step - loss: 0.3278 - accuracy: 0.8924 - val_loss: 0.2585 - val_accuracy: 0.9325\n",
      "Epoch 15/50\n",
      "38/38 [==============================] - 0s 4ms/step - loss: 0.3433 - accuracy: 0.8817 - val_loss: 0.2619 - val_accuracy: 0.9193\n",
      "Epoch 16/50\n",
      "38/38 [==============================] - 0s 4ms/step - loss: 0.3545 - accuracy: 0.8788 - val_loss: 0.2907 - val_accuracy: 0.9028\n",
      "Epoch 17/50\n",
      "38/38 [==============================] - 0s 5ms/step - loss: 0.3328 - accuracy: 0.8883 - val_loss: 0.2553 - val_accuracy: 0.9226\n",
      "Epoch 18/50\n",
      "38/38 [==============================] - 0s 5ms/step - loss: 0.3467 - accuracy: 0.8825 - val_loss: 0.2807 - val_accuracy: 0.9160\n",
      "Epoch 19/50\n",
      "38/38 [==============================] - 0s 4ms/step - loss: 0.3450 - accuracy: 0.8924 - val_loss: 0.3137 - val_accuracy: 0.8929\n",
      "Epoch 20/50\n",
      "38/38 [==============================] - 0s 4ms/step - loss: 0.3117 - accuracy: 0.8912 - val_loss: 0.2490 - val_accuracy: 0.9209\n",
      "Epoch 21/50\n",
      "38/38 [==============================] - 0s 4ms/step - loss: 0.3165 - accuracy: 0.8953 - val_loss: 0.2414 - val_accuracy: 0.9292\n",
      "Epoch 22/50\n",
      "38/38 [==============================] - 0s 4ms/step - loss: 0.3190 - accuracy: 0.8838 - val_loss: 0.2901 - val_accuracy: 0.9077\n",
      "Epoch 23/50\n",
      "38/38 [==============================] - 0s 4ms/step - loss: 0.3289 - accuracy: 0.8854 - val_loss: 0.2748 - val_accuracy: 0.9176\n",
      "Epoch 24/50\n",
      "38/38 [==============================] - 0s 4ms/step - loss: 0.3194 - accuracy: 0.8932 - val_loss: 0.2497 - val_accuracy: 0.9292\n",
      "Epoch 25/50\n",
      "38/38 [==============================] - 0s 6ms/step - loss: 0.3095 - accuracy: 0.8965 - val_loss: 0.2552 - val_accuracy: 0.9308\n",
      "Epoch 26/50\n",
      "38/38 [==============================] - 0s 6ms/step - loss: 0.3031 - accuracy: 0.8990 - val_loss: 0.2778 - val_accuracy: 0.9209\n",
      "Epoch 27/50\n",
      "38/38 [==============================] - 0s 4ms/step - loss: 0.3202 - accuracy: 0.8916 - val_loss: 0.2383 - val_accuracy: 0.9292\n",
      "Epoch 28/50\n",
      "38/38 [==============================] - 0s 4ms/step - loss: 0.2848 - accuracy: 0.9019 - val_loss: 0.2330 - val_accuracy: 0.9308\n",
      "Epoch 29/50\n",
      "38/38 [==============================] - 0s 4ms/step - loss: 0.2935 - accuracy: 0.9052 - val_loss: 0.2410 - val_accuracy: 0.9226\n",
      "Epoch 30/50\n",
      "38/38 [==============================] - 0s 5ms/step - loss: 0.2985 - accuracy: 0.8965 - val_loss: 0.2302 - val_accuracy: 0.9176\n",
      "Epoch 31/50\n",
      "38/38 [==============================] - 0s 6ms/step - loss: 0.2888 - accuracy: 0.8974 - val_loss: 0.2454 - val_accuracy: 0.9193\n",
      "Epoch 32/50\n",
      "38/38 [==============================] - 0s 4ms/step - loss: 0.3008 - accuracy: 0.8998 - val_loss: 0.2531 - val_accuracy: 0.9127\n",
      "Epoch 33/50\n",
      "38/38 [==============================] - 0s 4ms/step - loss: 0.2913 - accuracy: 0.8978 - val_loss: 0.2284 - val_accuracy: 0.9193\n",
      "Epoch 34/50\n",
      "38/38 [==============================] - 0s 4ms/step - loss: 0.3014 - accuracy: 0.8953 - val_loss: 0.2304 - val_accuracy: 0.9226\n",
      "Epoch 35/50\n",
      "38/38 [==============================] - 0s 4ms/step - loss: 0.3021 - accuracy: 0.8949 - val_loss: 0.2378 - val_accuracy: 0.9259\n",
      "Epoch 36/50\n",
      "38/38 [==============================] - 0s 4ms/step - loss: 0.3419 - accuracy: 0.8726 - val_loss: 0.2567 - val_accuracy: 0.9143\n",
      "Epoch 37/50\n",
      "38/38 [==============================] - 0s 6ms/step - loss: 0.3126 - accuracy: 0.8965 - val_loss: 0.2497 - val_accuracy: 0.9193\n",
      "Epoch 38/50\n",
      "38/38 [==============================] - 0s 8ms/step - loss: 0.3112 - accuracy: 0.8982 - val_loss: 0.2509 - val_accuracy: 0.9209\n",
      "Epoch 39/50\n",
      "38/38 [==============================] - 0s 8ms/step - loss: 0.3115 - accuracy: 0.8949 - val_loss: 0.2624 - val_accuracy: 0.9193\n",
      "Epoch 40/50\n",
      "38/38 [==============================] - 0s 7ms/step - loss: 0.3088 - accuracy: 0.8982 - val_loss: 0.2334 - val_accuracy: 0.9308\n",
      "Epoch 41/50\n",
      "38/38 [==============================] - 0s 4ms/step - loss: 0.3004 - accuracy: 0.8986 - val_loss: 0.2813 - val_accuracy: 0.9094\n",
      "Epoch 42/50\n",
      "38/38 [==============================] - 0s 5ms/step - loss: 0.3071 - accuracy: 0.8937 - val_loss: 0.2543 - val_accuracy: 0.9160\n",
      "Epoch 43/50\n",
      "38/38 [==============================] - 0s 8ms/step - loss: 0.2959 - accuracy: 0.9007 - val_loss: 0.2582 - val_accuracy: 0.9143\n",
      "Epoch 44/50\n",
      "38/38 [==============================] - 0s 9ms/step - loss: 0.2996 - accuracy: 0.8994 - val_loss: 0.2792 - val_accuracy: 0.9061\n",
      "Epoch 45/50\n",
      "38/38 [==============================] - 0s 6ms/step - loss: 0.2908 - accuracy: 0.8974 - val_loss: 0.2280 - val_accuracy: 0.9308\n",
      "Epoch 46/50\n",
      "38/38 [==============================] - 0s 5ms/step - loss: 0.2905 - accuracy: 0.9035 - val_loss: 0.2444 - val_accuracy: 0.9242\n",
      "Epoch 47/50\n",
      "38/38 [==============================] - 0s 5ms/step - loss: 0.2911 - accuracy: 0.9027 - val_loss: 0.2581 - val_accuracy: 0.9127\n",
      "Epoch 48/50\n",
      "38/38 [==============================] - 0s 5ms/step - loss: 0.3061 - accuracy: 0.8899 - val_loss: 0.2458 - val_accuracy: 0.9259\n",
      "Epoch 49/50\n",
      "38/38 [==============================] - 0s 8ms/step - loss: 0.2803 - accuracy: 0.9118 - val_loss: 0.2201 - val_accuracy: 0.9275\n",
      "Epoch 50/50\n",
      "38/38 [==============================] - 0s 8ms/step - loss: 0.3049 - accuracy: 0.8916 - val_loss: 0.2377 - val_accuracy: 0.9193\n"
     ]
    }
   ],
   "source": [
    "# entrenar el modelo\n",
    "history = model.fit(X_train, y_train, epochs=50, batch_size=64, validation_data=(X_test, y_test))\n"
   ],
   "metadata": {
    "collapsed": false,
    "ExecuteTime": {
     "start_time": "2023-04-20T08:51:17.658049Z",
     "end_time": "2023-04-20T08:51:31.318228Z"
    }
   }
  },
  {
   "cell_type": "code",
   "execution_count": 12,
   "outputs": [
    {
     "data": {
      "text/plain": "<Figure size 640x480 with 1 Axes>",
      "image/png": "[encoded data removed]"
     },
     "metadata": {},
     "output_type": "display_data"
    }
   ],
   "source": [
    "# graficar la precisión de entrenamiento y prueba\n",
    "plt.plot(history.history['accuracy'], label='train')\n",
    "plt.plot(history.history['val_accuracy'], label='test')\n",
    "plt.title('Model Accuracy')\n",
    "plt.xlabel('Epoch')\n",
    "plt.ylabel('Accuracy')\n",
    "plt.legend()\n",
    "plt.show()\n"
   ],
   "metadata": {
    "collapsed": false,
    "ExecuteTime": {
     "start_time": "2023-04-20T08:51:42.741135Z",
     "end_time": "2023-04-20T08:51:42.872061Z"
    }
   }
  },
  {
   "cell_type": "code",
   "execution_count": 13,
   "outputs": [
    {
     "name": "stdout",
     "output_type": "stream",
     "text": [
      "nombres_etiquetas\n",
      "Planetary Nebulae    1.0\n",
      "Red Giants           2.0\n",
      "Symbiotics           0.0\n",
      "Name: codificado, dtype: float64\n"
     ]
    }
   ],
   "source": [
    "y=df['id']\n",
    "import pandas as pd\n",
    "from sklearn.preprocessing import LabelEncoder\n",
    "\n",
    "df = pd.DataFrame(y)\n",
    "encoder = LabelEncoder()\n",
    "df['codificado'] = encoder.fit_transform(df['id'])\n",
    "\n",
    "nombres_etiquetas = encoder.classes_\n",
    "nuevos_nombres = ['Symbiotics', 'Planetary Nebulae', 'Red Giants']\n",
    "nombres_etiquetas_dict = {nombres_etiquetas[i]: nuevos_nombres[i] for i in range(len(nombres_etiquetas))}\n",
    "df['nombres_etiquetas'] = df['id'].map(nombres_etiquetas_dict)\n",
    "\n",
    "df_agrupado = df.groupby('nombres_etiquetas')['codificado'].mean()\n",
    "print(df_agrupado)"
   ],
   "metadata": {
    "collapsed": false,
    "ExecuteTime": {
     "start_time": "2023-04-20T08:51:43.818326Z",
     "end_time": "2023-04-20T08:51:43.838796Z"
    }
   }
  },
  {
   "cell_type": "code",
   "execution_count": 14,
   "outputs": [
    {
     "name": "stdout",
     "output_type": "stream",
     "text": [
      "19/19 [==============================] - 0s 2ms/step\n",
      "[[195   7   6]\n",
      " [  8 166  26]\n",
      " [  1   1 197]]\n"
     ]
    }
   ],
   "source": [
    "# predecir las probabilidades para los datos de prueba\n",
    "y_probs = model.predict(X_test)\n",
    "y_pred = np.argmax(y_probs, axis=-1)\n",
    "cm = confusion_matrix(y_test, y_pred)\n",
    "print(cm)"
   ],
   "metadata": {
    "collapsed": false,
    "ExecuteTime": {
     "start_time": "2023-04-20T08:51:44.495406Z",
     "end_time": "2023-04-20T08:51:45.187951Z"
    }
   }
  },
  {
   "cell_type": "code",
   "execution_count": 15,
   "outputs": [
    {
     "name": "stdout",
     "output_type": "stream",
     "text": [
      "              precision    recall  f1-score   support\n",
      "\n",
      "           0     0.9559    0.9375    0.9466       208\n",
      "           1     0.9540    0.8300    0.8877       200\n",
      "           2     0.8603    0.9899    0.9206       199\n",
      "\n",
      "    accuracy                         0.9193       607\n",
      "   macro avg     0.9234    0.9191    0.9183       607\n",
      "weighted avg     0.9239    0.9193    0.9187       607\n",
      "\n"
     ]
    }
   ],
   "source": [
    "report = classification_report(y_test, y_pred, digits=4)\n",
    "print(report)"
   ],
   "metadata": {
    "collapsed": false,
    "ExecuteTime": {
     "start_time": "2023-04-20T08:51:45.549331Z",
     "end_time": "2023-04-20T08:51:45.562775Z"
    }
   }
  },
  {
   "cell_type": "code",
   "execution_count": 16,
   "outputs": [
    {
     "name": "stdout",
     "output_type": "stream",
     "text": [
      "Accuracy: 0.9192751235584844\n"
     ]
    }
   ],
   "source": [
    "accuracy = accuracy_score(y_test, y_pred)\n",
    "print('Accuracy:', accuracy)"
   ],
   "metadata": {
    "collapsed": false,
    "ExecuteTime": {
     "start_time": "2023-04-20T08:51:47.447207Z",
     "end_time": "2023-04-20T08:51:47.466952Z"
    }
   }
  },
  {
   "cell_type": "code",
   "execution_count": 17,
   "outputs": [
    {
     "name": "stdout",
     "output_type": "stream",
     "text": [
      "size of the splits\n",
      "X_train:  (2426, 343)\n",
      "X_test:  (607, 343)\n",
      "y_test:  607\n",
      "y_pred:  607\n"
     ]
    }
   ],
   "source": [
    "print(\"size of the splits\")\n",
    "print(\"X_train: \",  X_train.shape)\n",
    "print(\"X_test: \",  X_test.shape)\n",
    "print(\"y_test: \",  y_test.size)\n",
    "print(\"y_pred: \",  y_pred.size)"
   ],
   "metadata": {
    "collapsed": false,
    "ExecuteTime": {
     "start_time": "2023-04-20T08:51:48.591344Z",
     "end_time": "2023-04-20T08:51:48.606399Z"
    }
   }
  },
  {
   "cell_type": "code",
   "execution_count": null,
   "outputs": [],
   "source": [],
   "metadata": {
    "collapsed": false
   }
  }
 ],
 "metadata": {
  "kernelspec": {
   "display_name": "Python 3",
   "language": "python",
   "name": "python3"
  },
  "language_info": {
   "codemirror_mode": {
    "name": "ipython",
    "version": 2
   },
   "file_extension": ".py",
   "mimetype": "text/x-python",
   "name": "python",
   "nbconvert_exporter": "python",
   "pygments_lexer": "ipython2",
   "version": "2.7.6"
  }
 },
 "nbformat": 4,
 "nbformat_minor": 0
}
