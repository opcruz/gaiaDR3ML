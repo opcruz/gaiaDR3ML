{
 "cells": [
  {
   "cell_type": "code",
   "execution_count": 5,
   "metadata": {
    "collapsed": true,
    "ExecuteTime": {
     "start_time": "2023-04-20T08:11:42.880867Z",
     "end_time": "2023-04-20T08:11:42.897872Z"
    }
   },
   "outputs": [],
   "source": [
    "import pandas as pd\n",
    "import numpy as np\n",
    "import tensorflow as tf\n",
    "from sklearn.metrics import accuracy_score,classification_report, confusion_matrix\n",
    "from sklearn.model_selection import train_test_split\n",
    "from sklearn.preprocessing import LabelEncoder\n",
    "import matplotlib.pyplot as plt"
   ]
  },
  {
   "cell_type": "code",
   "execution_count": 6,
   "outputs": [],
   "source": [
    "df =  pd.read_csv(\"../../Data/DR3/espectros_normalizados_balanceados_SNG_1.csv\")"
   ],
   "metadata": {
    "collapsed": false,
    "ExecuteTime": {
     "start_time": "2023-04-20T08:11:56.426514Z",
     "end_time": "2023-04-20T08:11:56.624649Z"
    }
   }
  },
  {
   "cell_type": "code",
   "execution_count": 7,
   "outputs": [],
   "source": [
    "df =  df.rename(columns={'col344': \"id\"})"
   ],
   "metadata": {
    "collapsed": false,
    "ExecuteTime": {
     "start_time": "2023-04-20T08:13:13.471067Z",
     "end_time": "2023-04-20T08:13:13.489519Z"
    }
   }
  },
  {
   "cell_type": "code",
   "execution_count": 8,
   "outputs": [],
   "source": [
    "# separar las características (X) y la etiqueta (y)\n",
    "X = df.drop('id', axis=1)\n",
    "y = df['id']\n"
   ],
   "metadata": {
    "collapsed": false,
    "ExecuteTime": {
     "start_time": "2023-04-20T08:13:21.293990Z",
     "end_time": "2023-04-20T08:13:21.311237Z"
    }
   }
  },
  {
   "cell_type": "code",
   "execution_count": 9,
   "outputs": [],
   "source": [
    "# codificar la etiqueta (y)\n",
    "encoder = LabelEncoder()\n",
    "y = encoder.fit_transform(y)\n"
   ],
   "metadata": {
    "collapsed": false,
    "ExecuteTime": {
     "start_time": "2023-04-20T08:13:29.356136Z",
     "end_time": "2023-04-20T08:13:29.370140Z"
    }
   }
  },
  {
   "cell_type": "code",
   "execution_count": 10,
   "outputs": [],
   "source": [
    "\n",
    "# dividir el conjunto de datos en entrenamiento y prueba\n",
    "X_train, X_test, y_train, y_test = train_test_split(X, y, test_size=0.2, random_state=1)\n"
   ],
   "metadata": {
    "collapsed": false,
    "ExecuteTime": {
     "start_time": "2023-04-20T08:13:37.792148Z",
     "end_time": "2023-04-20T08:13:38.265756Z"
    }
   }
  },
  {
   "cell_type": "code",
   "execution_count": 11,
   "outputs": [],
   "source": [
    "# crear el modelo\n",
    "model = tf.keras.models.Sequential([\n",
    "  tf.keras.layers.Dense(32, activation='relu'),\n",
    "  tf.keras.layers.Dropout(0.1),\n",
    "  tf.keras.layers.Dense(32, activation='relu'),\n",
    "  tf.keras.layers.Dropout(0.1),\n",
    "  tf.keras.layers.Dense(32, activation='relu'),\n",
    "  tf.keras.layers.Dropout(0.1),\n",
    "  tf.keras.layers.Dense(3, activation='softmax')\n",
    "])\n",
    "\n",
    "# compilar el modelo\n",
    "model.compile(optimizer='adam',\n",
    "              loss='sparse_categorical_crossentropy',\n",
    "              metrics=['accuracy'])\n",
    "\n"
   ],
   "metadata": {
    "collapsed": false,
    "ExecuteTime": {
     "start_time": "2023-04-20T08:14:12.861218Z",
     "end_time": "2023-04-20T08:14:16.331534Z"
    }
   }
  },
  {
   "cell_type": "code",
   "execution_count": 12,
   "outputs": [
    {
     "name": "stdout",
     "output_type": "stream",
     "text": [
      "Epoch 1/50\n",
      "76/76 [==============================] - 2s 5ms/step - loss: 0.8615 - accuracy: 0.6026 - val_loss: 0.6110 - val_accuracy: 0.8007\n",
      "Epoch 2/50\n",
      "76/76 [==============================] - 0s 2ms/step - loss: 0.5741 - accuracy: 0.7943 - val_loss: 0.4875 - val_accuracy: 0.8171\n",
      "Epoch 3/50\n",
      "76/76 [==============================] - 0s 2ms/step - loss: 0.5119 - accuracy: 0.8100 - val_loss: 0.4457 - val_accuracy: 0.8418\n",
      "Epoch 4/50\n",
      "76/76 [==============================] - 0s 2ms/step - loss: 0.4645 - accuracy: 0.8331 - val_loss: 0.3934 - val_accuracy: 0.8567\n",
      "Epoch 5/50\n",
      "76/76 [==============================] - 0s 3ms/step - loss: 0.4201 - accuracy: 0.8533 - val_loss: 0.3974 - val_accuracy: 0.8682\n",
      "Epoch 6/50\n",
      "76/76 [==============================] - 0s 2ms/step - loss: 0.3962 - accuracy: 0.8644 - val_loss: 0.3429 - val_accuracy: 0.8814\n",
      "Epoch 7/50\n",
      "76/76 [==============================] - 0s 2ms/step - loss: 0.3906 - accuracy: 0.8607 - val_loss: 0.3365 - val_accuracy: 0.8830\n",
      "Epoch 8/50\n",
      "76/76 [==============================] - 0s 2ms/step - loss: 0.3612 - accuracy: 0.8800 - val_loss: 0.3017 - val_accuracy: 0.8979\n",
      "Epoch 9/50\n",
      "76/76 [==============================] - 0s 2ms/step - loss: 0.3549 - accuracy: 0.8780 - val_loss: 0.3207 - val_accuracy: 0.8748\n",
      "Epoch 10/50\n",
      "76/76 [==============================] - 0s 2ms/step - loss: 0.3499 - accuracy: 0.8776 - val_loss: 0.2949 - val_accuracy: 0.9044\n",
      "Epoch 11/50\n",
      "76/76 [==============================] - 0s 2ms/step - loss: 0.3257 - accuracy: 0.8932 - val_loss: 0.2788 - val_accuracy: 0.9160\n",
      "Epoch 12/50\n",
      "76/76 [==============================] - 0s 2ms/step - loss: 0.3160 - accuracy: 0.8986 - val_loss: 0.2835 - val_accuracy: 0.9143\n",
      "Epoch 13/50\n",
      "76/76 [==============================] - 0s 2ms/step - loss: 0.3087 - accuracy: 0.8916 - val_loss: 0.3376 - val_accuracy: 0.8979\n",
      "Epoch 14/50\n",
      "76/76 [==============================] - 0s 2ms/step - loss: 0.3063 - accuracy: 0.8969 - val_loss: 0.2838 - val_accuracy: 0.9127\n",
      "Epoch 15/50\n",
      "76/76 [==============================] - 0s 2ms/step - loss: 0.2844 - accuracy: 0.9035 - val_loss: 0.2534 - val_accuracy: 0.9143\n",
      "Epoch 16/50\n",
      "76/76 [==============================] - 0s 2ms/step - loss: 0.2913 - accuracy: 0.9015 - val_loss: 0.2381 - val_accuracy: 0.9308\n",
      "Epoch 17/50\n",
      "76/76 [==============================] - 0s 2ms/step - loss: 0.2848 - accuracy: 0.9056 - val_loss: 0.2172 - val_accuracy: 0.9374\n",
      "Epoch 18/50\n",
      "76/76 [==============================] - 0s 2ms/step - loss: 0.2752 - accuracy: 0.9060 - val_loss: 0.2312 - val_accuracy: 0.9259\n",
      "Epoch 19/50\n",
      "76/76 [==============================] - 0s 2ms/step - loss: 0.2864 - accuracy: 0.9011 - val_loss: 0.2600 - val_accuracy: 0.9242\n",
      "Epoch 20/50\n",
      "76/76 [==============================] - 0s 2ms/step - loss: 0.2711 - accuracy: 0.9052 - val_loss: 0.2665 - val_accuracy: 0.9061\n",
      "Epoch 21/50\n",
      "76/76 [==============================] - 0s 2ms/step - loss: 0.2633 - accuracy: 0.9106 - val_loss: 0.2370 - val_accuracy: 0.9160\n",
      "Epoch 22/50\n",
      "76/76 [==============================] - 0s 2ms/step - loss: 0.2487 - accuracy: 0.9147 - val_loss: 0.2315 - val_accuracy: 0.9292\n",
      "Epoch 23/50\n",
      "76/76 [==============================] - 0s 2ms/step - loss: 0.2610 - accuracy: 0.9064 - val_loss: 0.2411 - val_accuracy: 0.9242\n",
      "Epoch 24/50\n",
      "76/76 [==============================] - 0s 2ms/step - loss: 0.2809 - accuracy: 0.9011 - val_loss: 0.2262 - val_accuracy: 0.9341\n",
      "Epoch 25/50\n",
      "76/76 [==============================] - 0s 2ms/step - loss: 0.2499 - accuracy: 0.9114 - val_loss: 0.2487 - val_accuracy: 0.9193\n",
      "Epoch 26/50\n",
      "76/76 [==============================] - 0s 2ms/step - loss: 0.2511 - accuracy: 0.9159 - val_loss: 0.2627 - val_accuracy: 0.9094\n",
      "Epoch 27/50\n",
      "76/76 [==============================] - 0s 2ms/step - loss: 0.2488 - accuracy: 0.9122 - val_loss: 0.2107 - val_accuracy: 0.9357\n",
      "Epoch 28/50\n",
      "76/76 [==============================] - 0s 2ms/step - loss: 0.2418 - accuracy: 0.9147 - val_loss: 0.2237 - val_accuracy: 0.9341\n",
      "Epoch 29/50\n",
      "76/76 [==============================] - 0s 2ms/step - loss: 0.2406 - accuracy: 0.9196 - val_loss: 0.2336 - val_accuracy: 0.9275\n",
      "Epoch 30/50\n",
      "76/76 [==============================] - 0s 2ms/step - loss: 0.2274 - accuracy: 0.9143 - val_loss: 0.2183 - val_accuracy: 0.9390\n",
      "Epoch 31/50\n",
      "76/76 [==============================] - 0s 2ms/step - loss: 0.2476 - accuracy: 0.9143 - val_loss: 0.2177 - val_accuracy: 0.9374\n",
      "Epoch 32/50\n",
      "76/76 [==============================] - 0s 2ms/step - loss: 0.2396 - accuracy: 0.9130 - val_loss: 0.2054 - val_accuracy: 0.9357\n",
      "Epoch 33/50\n",
      "76/76 [==============================] - 0s 2ms/step - loss: 0.2382 - accuracy: 0.9167 - val_loss: 0.2181 - val_accuracy: 0.9341\n",
      "Epoch 34/50\n",
      "76/76 [==============================] - 0s 2ms/step - loss: 0.2357 - accuracy: 0.9167 - val_loss: 0.2085 - val_accuracy: 0.9292\n",
      "Epoch 35/50\n",
      "76/76 [==============================] - 0s 2ms/step - loss: 0.2236 - accuracy: 0.9200 - val_loss: 0.2155 - val_accuracy: 0.9357\n",
      "Epoch 36/50\n",
      "76/76 [==============================] - 0s 2ms/step - loss: 0.2203 - accuracy: 0.9233 - val_loss: 0.2082 - val_accuracy: 0.9374\n",
      "Epoch 37/50\n",
      "76/76 [==============================] - 0s 2ms/step - loss: 0.2390 - accuracy: 0.9192 - val_loss: 0.2034 - val_accuracy: 0.9407\n",
      "Epoch 38/50\n",
      "76/76 [==============================] - 0s 2ms/step - loss: 0.2292 - accuracy: 0.9204 - val_loss: 0.2029 - val_accuracy: 0.9325\n",
      "Epoch 39/50\n",
      "76/76 [==============================] - 0s 3ms/step - loss: 0.2294 - accuracy: 0.9229 - val_loss: 0.2683 - val_accuracy: 0.9193\n",
      "Epoch 40/50\n",
      "76/76 [==============================] - 0s 2ms/step - loss: 0.2645 - accuracy: 0.9048 - val_loss: 0.2245 - val_accuracy: 0.9292\n",
      "Epoch 41/50\n",
      "76/76 [==============================] - 0s 2ms/step - loss: 0.2131 - accuracy: 0.9254 - val_loss: 0.2082 - val_accuracy: 0.9357\n",
      "Epoch 42/50\n",
      "76/76 [==============================] - 0s 2ms/step - loss: 0.2184 - accuracy: 0.9275 - val_loss: 0.2405 - val_accuracy: 0.9242\n",
      "Epoch 43/50\n",
      "76/76 [==============================] - 0s 2ms/step - loss: 0.2213 - accuracy: 0.9225 - val_loss: 0.1958 - val_accuracy: 0.9407\n",
      "Epoch 44/50\n",
      "76/76 [==============================] - 0s 2ms/step - loss: 0.2171 - accuracy: 0.9246 - val_loss: 0.1921 - val_accuracy: 0.9292\n",
      "Epoch 45/50\n",
      "76/76 [==============================] - 0s 2ms/step - loss: 0.2142 - accuracy: 0.9242 - val_loss: 0.1961 - val_accuracy: 0.9407\n",
      "Epoch 46/50\n",
      "76/76 [==============================] - 0s 2ms/step - loss: 0.2049 - accuracy: 0.9287 - val_loss: 0.1852 - val_accuracy: 0.9440\n",
      "Epoch 47/50\n",
      "76/76 [==============================] - 0s 2ms/step - loss: 0.2180 - accuracy: 0.9196 - val_loss: 0.2208 - val_accuracy: 0.9308\n",
      "Epoch 48/50\n",
      "76/76 [==============================] - 0s 2ms/step - loss: 0.2056 - accuracy: 0.9262 - val_loss: 0.2079 - val_accuracy: 0.9325\n",
      "Epoch 49/50\n",
      "76/76 [==============================] - 0s 3ms/step - loss: 0.2160 - accuracy: 0.9246 - val_loss: 0.1935 - val_accuracy: 0.9341\n",
      "Epoch 50/50\n",
      "76/76 [==============================] - 0s 3ms/step - loss: 0.2146 - accuracy: 0.9200 - val_loss: 0.1757 - val_accuracy: 0.9423\n"
     ]
    }
   ],
   "source": [
    "# entrenar el modelo\n",
    "history = model.fit(X_train, y_train, epochs=50, batch_size=32, validation_data=(X_test, y_test))\n"
   ],
   "metadata": {
    "collapsed": false,
    "ExecuteTime": {
     "start_time": "2023-04-20T08:14:22.548223Z",
     "end_time": "2023-04-20T08:14:40.810185Z"
    }
   }
  },
  {
   "cell_type": "code",
   "execution_count": 13,
   "outputs": [
    {
     "data": {
      "text/plain": "<Figure size 640x480 with 1 Axes>",
      "image/png": "[encoded data removed]"
     },
     "metadata": {},
     "output_type": "display_data"
    }
   ],
   "source": [
    "# graficar la precisión de entrenamiento y prueba\n",
    "plt.plot(history.history['accuracy'], label='train')\n",
    "plt.plot(history.history['val_accuracy'], label='test')\n",
    "plt.title('Model Accuracy')\n",
    "plt.xlabel('Epoch')\n",
    "plt.ylabel('Accuracy')\n",
    "plt.legend()\n",
    "plt.show()\n"
   ],
   "metadata": {
    "collapsed": false,
    "ExecuteTime": {
     "start_time": "2023-04-20T08:14:43.063093Z",
     "end_time": "2023-04-20T08:14:43.252618Z"
    }
   }
  },
  {
   "cell_type": "code",
   "execution_count": 16,
   "outputs": [
    {
     "name": "stdout",
     "output_type": "stream",
     "text": [
      "nombres_etiquetas\n",
      "Planetary Nebulae    1.0\n",
      "Red Giants           2.0\n",
      "Symbiotics           0.0\n",
      "Name: codificado, dtype: float64\n"
     ]
    }
   ],
   "source": [
    "y=df['id']\n",
    "import pandas as pd\n",
    "from sklearn.preprocessing import LabelEncoder\n",
    "\n",
    "df = pd.DataFrame(y)\n",
    "encoder = LabelEncoder()\n",
    "df['codificado'] = encoder.fit_transform(df['id'])\n",
    "\n",
    "nombres_etiquetas = encoder.classes_\n",
    "nuevos_nombres = ['Symbiotics', 'Planetary Nebulae', 'Red Giants']\n",
    "nombres_etiquetas_dict = {nombres_etiquetas[i]: nuevos_nombres[i] for i in range(len(nombres_etiquetas))}\n",
    "df['nombres_etiquetas'] = df['id'].map(nombres_etiquetas_dict)\n",
    "\n",
    "df_agrupado = df.groupby('nombres_etiquetas')['codificado'].mean()\n",
    "print(df_agrupado)"
   ],
   "metadata": {
    "collapsed": false,
    "ExecuteTime": {
     "start_time": "2023-04-20T08:14:51.984046Z",
     "end_time": "2023-04-20T08:14:52.041023Z"
    }
   }
  },
  {
   "cell_type": "code",
   "execution_count": 17,
   "outputs": [
    {
     "name": "stdout",
     "output_type": "stream",
     "text": [
      "19/19 [==============================] - 0s 1ms/step\n",
      "[[189   4   6]\n",
      " [ 10 180  13]\n",
      " [  0   2 203]]\n"
     ]
    }
   ],
   "source": [
    "# predecir las probabilidades para los datos de prueba\n",
    "y_probs = model.predict(X_test)\n",
    "y_pred = np.argmax(y_probs, axis=-1)\n",
    "cm = confusion_matrix(y_test, y_pred)\n",
    "print(cm)"
   ],
   "metadata": {
    "collapsed": false,
    "ExecuteTime": {
     "start_time": "2023-04-20T08:15:00.095651Z",
     "end_time": "2023-04-20T08:15:00.979630Z"
    }
   }
  },
  {
   "cell_type": "code",
   "execution_count": 18,
   "outputs": [],
   "source": [
    "import csv\n",
    "# Save as CSV\n",
    "with open(\"cm_rna_balanced.csv\", \"w\", newline=\"\") as file:\n",
    "    writer = csv.writer(file)\n",
    "    writer.writerows(cm)"
   ],
   "metadata": {
    "collapsed": false
   }
  },
  {
   "cell_type": "code",
   "execution_count": 19,
   "outputs": [
    {
     "name": "stdout",
     "output_type": "stream",
     "text": [
      "              precision    recall  f1-score   support\n",
      "\n",
      "           0     0.9497    0.9497    0.9497       199\n",
      "           1     0.9677    0.8867    0.9254       203\n",
      "           2     0.9144    0.9902    0.9508       205\n",
      "\n",
      "    accuracy                         0.9423       607\n",
      "   macro avg     0.9440    0.9422    0.9420       607\n",
      "weighted avg     0.9438    0.9423    0.9420       607\n",
      "\n"
     ]
    }
   ],
   "source": [
    "report = classification_report(y_test, y_pred, digits=4)\n",
    "print(report)"
   ],
   "metadata": {
    "collapsed": false,
    "ExecuteTime": {
     "start_time": "2023-04-20T08:15:11.621180Z",
     "end_time": "2023-04-20T08:15:11.637213Z"
    }
   }
  },
  {
   "cell_type": "code",
   "execution_count": 20,
   "outputs": [
    {
     "name": "stdout",
     "output_type": "stream",
     "text": [
      "Accuracy: 0.942339373970346\n"
     ]
    }
   ],
   "source": [
    "accuracy = accuracy_score(y_test, y_pred)\n",
    "print('Accuracy:', accuracy)"
   ],
   "metadata": {
    "collapsed": false,
    "ExecuteTime": {
     "start_time": "2023-04-20T08:15:25.280447Z",
     "end_time": "2023-04-20T08:15:25.307920Z"
    }
   }
  },
  {
   "cell_type": "code",
   "execution_count": 21,
   "outputs": [
    {
     "name": "stdout",
     "output_type": "stream",
     "text": [
      "size of the splits\n",
      "X_train:  (2426, 343)\n",
      "X_test:  (607, 343)\n",
      "y_test:  607\n",
      "y_pred:  607\n"
     ]
    }
   ],
   "source": [
    "print(\"size of the splits\")\n",
    "print(\"X_train: \",  X_train.shape)\n",
    "print(\"X_test: \",  X_test.shape)\n",
    "print(\"y_test: \",  y_test.size)\n",
    "print(\"y_pred: \",  y_pred.size)"
   ],
   "metadata": {
    "collapsed": false,
    "ExecuteTime": {
     "start_time": "2023-04-20T08:15:32.786115Z",
     "end_time": "2023-04-20T08:15:32.830823Z"
    }
   }
  },
  {
   "cell_type": "code",
   "execution_count": 22,
   "outputs": [
    {
     "data": {
      "text/plain": "<Figure size 640x480 with 2 Axes>",
      "image/png": "[encoded data removed]"
     },
     "metadata": {},
     "output_type": "display_data"
    }
   ],
   "source": [
    "import numpy as np\n",
    "import matplotlib.pyplot as plt\n",
    "from sklearn.metrics import confusion_matrix\n",
    "\n",
    "# Ejemplo de matriz de confusión\n",
    "# Cambia estos valores con tu propia matriz de confusión\n",
    "# Aquí se muestra una matriz de 3x3 como ejemplo\n",
    "# cm = np.array([[10, 2, 0],\n",
    "#                [3, 15, 1],\n",
    "#                [1, 0, 12]])\n",
    "\n",
    "# Etiquetas de las clases\n",
    "# Cambia estas etiquetas con las correspondientes a tu problema\n",
    "labels = ['Clase 1', 'Clase 2', 'Clase 3']\n",
    "\n",
    "# Crear la figura y el eje\n",
    "fig, ax = plt.subplots()\n",
    "im = ax.imshow(cm, interpolation='nearest', cmap=plt.cm.Blues)\n",
    "ax.figure.colorbar(im, ax=ax)\n",
    "\n",
    "# Añadir detalles al gráfico\n",
    "ax.set(xticks=np.arange(cm.shape[1]),\n",
    "       yticks=np.arange(cm.shape[0]),\n",
    "       xticklabels=labels, yticklabels=labels,\n",
    "       title='Matriz de Confusión',\n",
    "       ylabel='Etiqueta Real',\n",
    "       xlabel='Etiqueta Predicha')\n",
    "\n",
    "# Rotar las etiquetas del eje x\n",
    "plt.setp(ax.get_xticklabels(), rotation=45, ha=\"right\",\n",
    "         rotation_mode=\"anchor\")\n",
    "\n",
    "# Mostrar los valores de la matriz en cada celda\n",
    "thresh = cm.max() / 2.\n",
    "for i in range(cm.shape[0]):\n",
    "    for j in range(cm.shape[1]):\n",
    "        ax.text(j, i, format(cm[i, j], 'd'),\n",
    "                ha=\"center\", va=\"center\",\n",
    "                color=\"white\" if cm[i, j] > thresh else \"black\")\n",
    "\n",
    "# Ajustar el diseño y mostrar el gráfico\n",
    "fig.tight_layout()\n",
    "plt.show()"
   ],
   "metadata": {
    "collapsed": false
   }
  },
  {
   "cell_type": "code",
   "execution_count": null,
   "outputs": [],
   "source": [
    "import seaborn as sns\n",
    "import matplotlib.pyplot as plt\n",
    "import numpy as np\n",
    "\n",
    "def plot_confusion_matrix(cm, classes):\n",
    "    plt.figure(figsize=(8, 6))\n",
    "    ax = sns.heatmap(cm, annot=True, cmap='Blues', fmt='d', cbar=False)\n",
    "    ax.set_xlabel('Etiqueta Predicha')\n",
    "    ax.set_ylabel('Etiqueta Verdadera')\n",
    "    ax.set_xticklabels(classes, rotation=45)\n",
    "    ax.set_yticklabels(classes, rotation=0)\n",
    "    ax.set_title('Matriz de Confusión')\n",
    "\n",
    "\n",
    "# Ejemplo de uso\n",
    "confusion_matrix = cm\n",
    "class_names = ['SY', 'Clase 2', 'Clase 3']\n",
    "plot_confusion_matrix(confusion_matrix, class_names)\n",
    "plt.show()"
   ],
   "metadata": {
    "collapsed": false
   }
  }
 ],
 "metadata": {
  "kernelspec": {
   "display_name": "Python 3",
   "language": "python",
   "name": "python3"
  },
  "language_info": {
   "codemirror_mode": {
    "name": "ipython",
    "version": 2
   },
   "file_extension": ".py",
   "mimetype": "text/x-python",
   "name": "python",
   "nbconvert_exporter": "python",
   "pygments_lexer": "ipython2",
   "version": "2.7.6"
  }
 },
 "nbformat": 4,
 "nbformat_minor": 0
}
