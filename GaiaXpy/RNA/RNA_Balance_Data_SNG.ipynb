{
 "cells": [
  {
   "cell_type": "code",
   "execution_count": 1,
   "metadata": {
    "collapsed": true,
    "ExecuteTime": {
     "start_time": "2023-04-20T08:11:42.880867Z",
     "end_time": "2023-04-20T08:11:42.897872Z"
    }
   },
   "outputs": [],
   "source": [
    "import pandas as pd\n",
    "import numpy as np\n",
    "import tensorflow as tf\n",
    "from sklearn.metrics import accuracy_score, classification_report, confusion_matrix\n",
    "from sklearn.model_selection import train_test_split\n",
    "from sklearn.preprocessing import LabelEncoder\n",
    "import matplotlib.pyplot as plt\n",
    "import os"
   ]
  },
  {
   "cell_type": "code",
   "execution_count": 2,
   "outputs": [],
   "source": [
    "df = pd.read_csv(\"../../new/datasets/balanced.csv\", header=None)"
   ],
   "metadata": {
    "collapsed": false,
    "ExecuteTime": {
     "start_time": "2023-04-20T08:11:56.426514Z",
     "end_time": "2023-04-20T08:11:56.624649Z"
    }
   }
  },
  {
   "cell_type": "code",
   "execution_count": 3,
   "outputs": [],
   "source": [
    "# Separamos las características y la variable objetivo\n",
    "X = df.drop(df.columns[-1], axis=1)\n",
    "y = df.iloc[:, -1]"
   ],
   "metadata": {
    "collapsed": false,
    "ExecuteTime": {
     "start_time": "2023-04-20T08:13:21.293990Z",
     "end_time": "2023-04-20T08:13:21.311237Z"
    }
   }
  },
  {
   "cell_type": "code",
   "execution_count": 4,
   "outputs": [],
   "source": [
    "# codificar la etiqueta (y)\n",
    "encoder = LabelEncoder()\n",
    "y = encoder.fit_transform(y)"
   ],
   "metadata": {
    "collapsed": false,
    "ExecuteTime": {
     "start_time": "2023-04-20T08:13:29.356136Z",
     "end_time": "2023-04-20T08:13:29.370140Z"
    }
   }
  },
  {
   "cell_type": "code",
   "execution_count": 5,
   "outputs": [],
   "source": [
    "# dividir el conjunto de datos en entrenamiento y prueba\n",
    "X_train, X_test, y_train, y_test = train_test_split(X, y, test_size=0.2, random_state=5, stratify=y)"
   ],
   "metadata": {
    "collapsed": false,
    "ExecuteTime": {
     "start_time": "2023-04-20T08:13:37.792148Z",
     "end_time": "2023-04-20T08:13:38.265756Z"
    }
   }
  },
  {
   "cell_type": "code",
   "execution_count": 6,
   "outputs": [],
   "source": [
    "# crear el modelo\n",
    "model = tf.keras.models.Sequential([\n",
    "    tf.keras.layers.Dense(30, activation='relu'),\n",
    "    tf.keras.layers.Dropout(0.1),\n",
    "    tf.keras.layers.Dense(30, activation='relu'),\n",
    "    tf.keras.layers.Dropout(0.1),\n",
    "    tf.keras.layers.Dense(30, activation='relu'),\n",
    "    tf.keras.layers.Dropout(0.1),\n",
    "    tf.keras.layers.Dense(3, activation='softmax')\n",
    "])\n",
    "\n",
    "# compilar el modelo\n",
    "model.compile(optimizer='adam',\n",
    "              loss='sparse_categorical_crossentropy',\n",
    "              metrics=['accuracy'])"
   ],
   "metadata": {
    "collapsed": false,
    "ExecuteTime": {
     "start_time": "2023-04-20T08:14:12.861218Z",
     "end_time": "2023-04-20T08:14:16.331534Z"
    }
   }
  },
  {
   "cell_type": "code",
   "execution_count": 7,
   "outputs": [
    {
     "name": "stdout",
     "output_type": "stream",
     "text": [
      "Epoch 1/100\n",
      "48/48 [==============================] - 2s 6ms/step - loss: 0.7535 - accuracy: 0.7088 - val_loss: 0.5247 - val_accuracy: 0.8017\n",
      "Epoch 2/100\n",
      "48/48 [==============================] - 0s 2ms/step - loss: 0.5572 - accuracy: 0.7979 - val_loss: 0.4441 - val_accuracy: 0.8317\n",
      "Epoch 3/100\n",
      "48/48 [==============================] - 0s 3ms/step - loss: 0.4651 - accuracy: 0.8204 - val_loss: 0.3980 - val_accuracy: 0.8600\n",
      "Epoch 4/100\n",
      "48/48 [==============================] - 0s 4ms/step - loss: 0.4084 - accuracy: 0.8500 - val_loss: 0.3687 - val_accuracy: 0.8717\n",
      "Epoch 5/100\n",
      "48/48 [==============================] - 0s 4ms/step - loss: 0.3875 - accuracy: 0.8637 - val_loss: 0.3397 - val_accuracy: 0.8817\n",
      "Epoch 6/100\n",
      "48/48 [==============================] - 0s 3ms/step - loss: 0.3327 - accuracy: 0.8842 - val_loss: 0.3089 - val_accuracy: 0.8850\n",
      "Epoch 7/100\n",
      "48/48 [==============================] - 0s 3ms/step - loss: 0.3263 - accuracy: 0.8863 - val_loss: 0.2722 - val_accuracy: 0.8983\n",
      "Epoch 8/100\n",
      "48/48 [==============================] - 0s 3ms/step - loss: 0.3079 - accuracy: 0.9013 - val_loss: 0.2600 - val_accuracy: 0.9050\n",
      "Epoch 9/100\n",
      "48/48 [==============================] - 0s 3ms/step - loss: 0.2874 - accuracy: 0.9075 - val_loss: 0.2529 - val_accuracy: 0.9067\n",
      "Epoch 10/100\n",
      "48/48 [==============================] - 0s 3ms/step - loss: 0.2674 - accuracy: 0.9129 - val_loss: 0.2375 - val_accuracy: 0.9250\n",
      "Epoch 11/100\n",
      "48/48 [==============================] - 0s 3ms/step - loss: 0.2579 - accuracy: 0.9175 - val_loss: 0.2421 - val_accuracy: 0.9150\n",
      "Epoch 12/100\n",
      "48/48 [==============================] - 0s 3ms/step - loss: 0.2654 - accuracy: 0.9146 - val_loss: 0.2631 - val_accuracy: 0.9100\n",
      "Epoch 13/100\n",
      "48/48 [==============================] - 0s 3ms/step - loss: 0.2532 - accuracy: 0.9167 - val_loss: 0.2300 - val_accuracy: 0.9300\n",
      "Epoch 14/100\n",
      "48/48 [==============================] - 0s 3ms/step - loss: 0.2903 - accuracy: 0.8963 - val_loss: 0.2554 - val_accuracy: 0.9083\n",
      "Epoch 15/100\n",
      "48/48 [==============================] - 0s 3ms/step - loss: 0.2729 - accuracy: 0.9038 - val_loss: 0.2317 - val_accuracy: 0.9233\n",
      "Epoch 16/100\n",
      "48/48 [==============================] - 0s 3ms/step - loss: 0.2551 - accuracy: 0.9167 - val_loss: 0.2321 - val_accuracy: 0.9217\n",
      "Epoch 17/100\n",
      "48/48 [==============================] - 0s 3ms/step - loss: 0.2334 - accuracy: 0.9229 - val_loss: 0.2206 - val_accuracy: 0.9200\n",
      "Epoch 18/100\n",
      "48/48 [==============================] - 0s 3ms/step - loss: 0.2397 - accuracy: 0.9204 - val_loss: 0.2346 - val_accuracy: 0.9233\n",
      "Epoch 19/100\n",
      "48/48 [==============================] - 0s 2ms/step - loss: 0.2347 - accuracy: 0.9225 - val_loss: 0.2305 - val_accuracy: 0.9167\n",
      "Epoch 20/100\n",
      "48/48 [==============================] - 0s 3ms/step - loss: 0.2311 - accuracy: 0.9254 - val_loss: 0.2203 - val_accuracy: 0.9283\n",
      "Epoch 21/100\n",
      "48/48 [==============================] - 0s 3ms/step - loss: 0.2342 - accuracy: 0.9208 - val_loss: 0.2202 - val_accuracy: 0.9200\n",
      "Epoch 22/100\n",
      "48/48 [==============================] - 0s 3ms/step - loss: 0.2458 - accuracy: 0.9162 - val_loss: 0.2075 - val_accuracy: 0.9317\n",
      "Epoch 23/100\n",
      "48/48 [==============================] - 0s 3ms/step - loss: 0.2246 - accuracy: 0.9200 - val_loss: 0.2074 - val_accuracy: 0.9267\n",
      "Epoch 24/100\n",
      "48/48 [==============================] - 0s 3ms/step - loss: 0.2200 - accuracy: 0.9233 - val_loss: 0.2046 - val_accuracy: 0.9367\n",
      "Epoch 25/100\n",
      "48/48 [==============================] - 0s 3ms/step - loss: 0.2272 - accuracy: 0.9221 - val_loss: 0.2016 - val_accuracy: 0.9333\n",
      "Epoch 26/100\n",
      "48/48 [==============================] - 0s 3ms/step - loss: 0.2183 - accuracy: 0.9258 - val_loss: 0.2156 - val_accuracy: 0.9217\n",
      "Epoch 27/100\n",
      "48/48 [==============================] - 0s 2ms/step - loss: 0.2237 - accuracy: 0.9217 - val_loss: 0.2159 - val_accuracy: 0.9217\n",
      "Epoch 28/100\n",
      "48/48 [==============================] - 0s 3ms/step - loss: 0.2099 - accuracy: 0.9287 - val_loss: 0.2311 - val_accuracy: 0.9200\n",
      "Epoch 29/100\n",
      "48/48 [==============================] - 0s 4ms/step - loss: 0.2052 - accuracy: 0.9304 - val_loss: 0.2085 - val_accuracy: 0.9300\n",
      "Epoch 30/100\n",
      "48/48 [==============================] - 0s 3ms/step - loss: 0.2208 - accuracy: 0.9217 - val_loss: 0.2055 - val_accuracy: 0.9267\n",
      "Epoch 31/100\n",
      "48/48 [==============================] - 0s 3ms/step - loss: 0.2068 - accuracy: 0.9258 - val_loss: 0.2159 - val_accuracy: 0.9200\n",
      "Epoch 32/100\n",
      "48/48 [==============================] - 0s 3ms/step - loss: 0.1993 - accuracy: 0.9308 - val_loss: 0.2358 - val_accuracy: 0.9167\n",
      "Epoch 33/100\n",
      "48/48 [==============================] - 0s 3ms/step - loss: 0.2051 - accuracy: 0.9275 - val_loss: 0.2025 - val_accuracy: 0.9317\n",
      "Epoch 34/100\n",
      "48/48 [==============================] - 0s 2ms/step - loss: 0.2075 - accuracy: 0.9246 - val_loss: 0.2031 - val_accuracy: 0.9317\n",
      "Epoch 35/100\n",
      "48/48 [==============================] - 0s 3ms/step - loss: 0.2177 - accuracy: 0.9267 - val_loss: 0.1913 - val_accuracy: 0.9367\n",
      "Epoch 36/100\n",
      "48/48 [==============================] - 0s 3ms/step - loss: 0.2039 - accuracy: 0.9300 - val_loss: 0.1952 - val_accuracy: 0.9383\n",
      "Epoch 37/100\n",
      "48/48 [==============================] - 0s 3ms/step - loss: 0.2015 - accuracy: 0.9321 - val_loss: 0.2015 - val_accuracy: 0.9233\n",
      "Epoch 38/100\n",
      "48/48 [==============================] - 0s 3ms/step - loss: 0.1973 - accuracy: 0.9346 - val_loss: 0.2015 - val_accuracy: 0.9283\n",
      "Epoch 39/100\n",
      "48/48 [==============================] - 0s 2ms/step - loss: 0.1963 - accuracy: 0.9321 - val_loss: 0.1921 - val_accuracy: 0.9350\n",
      "Epoch 40/100\n",
      "48/48 [==============================] - 0s 2ms/step - loss: 0.2180 - accuracy: 0.9233 - val_loss: 0.2364 - val_accuracy: 0.9133\n",
      "Epoch 41/100\n",
      "48/48 [==============================] - 0s 3ms/step - loss: 0.2080 - accuracy: 0.9262 - val_loss: 0.2004 - val_accuracy: 0.9350\n",
      "Epoch 42/100\n",
      "48/48 [==============================] - 0s 3ms/step - loss: 0.2042 - accuracy: 0.9300 - val_loss: 0.2154 - val_accuracy: 0.9133\n",
      "Epoch 43/100\n",
      "48/48 [==============================] - 0s 3ms/step - loss: 0.2046 - accuracy: 0.9312 - val_loss: 0.2035 - val_accuracy: 0.9283\n",
      "Epoch 44/100\n",
      "48/48 [==============================] - 0s 4ms/step - loss: 0.1907 - accuracy: 0.9312 - val_loss: 0.1936 - val_accuracy: 0.9367\n",
      "Epoch 45/100\n",
      "48/48 [==============================] - 0s 5ms/step - loss: 0.1916 - accuracy: 0.9292 - val_loss: 0.1968 - val_accuracy: 0.9267\n",
      "Epoch 46/100\n",
      "48/48 [==============================] - 0s 5ms/step - loss: 0.1955 - accuracy: 0.9292 - val_loss: 0.2105 - val_accuracy: 0.9283\n",
      "Epoch 47/100\n",
      "48/48 [==============================] - 0s 5ms/step - loss: 0.1975 - accuracy: 0.9367 - val_loss: 0.1939 - val_accuracy: 0.9300\n",
      "Epoch 48/100\n",
      "48/48 [==============================] - 0s 5ms/step - loss: 0.1966 - accuracy: 0.9300 - val_loss: 0.2117 - val_accuracy: 0.9217\n",
      "Epoch 49/100\n",
      "48/48 [==============================] - 0s 5ms/step - loss: 0.2110 - accuracy: 0.9225 - val_loss: 0.2447 - val_accuracy: 0.9117\n",
      "Epoch 50/100\n",
      "48/48 [==============================] - 0s 5ms/step - loss: 0.2067 - accuracy: 0.9258 - val_loss: 0.1934 - val_accuracy: 0.9317\n",
      "Epoch 51/100\n",
      "48/48 [==============================] - 0s 5ms/step - loss: 0.1908 - accuracy: 0.9333 - val_loss: 0.1904 - val_accuracy: 0.9333\n",
      "Epoch 52/100\n",
      "48/48 [==============================] - 0s 4ms/step - loss: 0.2004 - accuracy: 0.9283 - val_loss: 0.2087 - val_accuracy: 0.9133\n",
      "Epoch 53/100\n",
      "48/48 [==============================] - 0s 4ms/step - loss: 0.2015 - accuracy: 0.9283 - val_loss: 0.2008 - val_accuracy: 0.9283\n",
      "Epoch 54/100\n",
      "48/48 [==============================] - 0s 5ms/step - loss: 0.1804 - accuracy: 0.9367 - val_loss: 0.2000 - val_accuracy: 0.9217\n",
      "Epoch 55/100\n",
      "48/48 [==============================] - 0s 4ms/step - loss: 0.1858 - accuracy: 0.9354 - val_loss: 0.1854 - val_accuracy: 0.9350\n",
      "Epoch 56/100\n",
      "48/48 [==============================] - 0s 4ms/step - loss: 0.1824 - accuracy: 0.9367 - val_loss: 0.2098 - val_accuracy: 0.9333\n",
      "Epoch 57/100\n",
      "48/48 [==============================] - 0s 4ms/step - loss: 0.2021 - accuracy: 0.9304 - val_loss: 0.2020 - val_accuracy: 0.9183\n",
      "Epoch 58/100\n",
      "48/48 [==============================] - 0s 5ms/step - loss: 0.2043 - accuracy: 0.9283 - val_loss: 0.2185 - val_accuracy: 0.9200\n",
      "Epoch 59/100\n",
      "48/48 [==============================] - 0s 5ms/step - loss: 0.2154 - accuracy: 0.9246 - val_loss: 0.2204 - val_accuracy: 0.9217\n",
      "Epoch 60/100\n",
      "48/48 [==============================] - 0s 5ms/step - loss: 0.1920 - accuracy: 0.9333 - val_loss: 0.2096 - val_accuracy: 0.9317\n",
      "Epoch 61/100\n",
      "48/48 [==============================] - 0s 6ms/step - loss: 0.1814 - accuracy: 0.9346 - val_loss: 0.1857 - val_accuracy: 0.9350\n",
      "Epoch 62/100\n",
      "48/48 [==============================] - 0s 5ms/step - loss: 0.2064 - accuracy: 0.9267 - val_loss: 0.2162 - val_accuracy: 0.9250\n",
      "Epoch 63/100\n",
      "48/48 [==============================] - 0s 5ms/step - loss: 0.1886 - accuracy: 0.9358 - val_loss: 0.1943 - val_accuracy: 0.9333\n",
      "Epoch 64/100\n",
      "48/48 [==============================] - 0s 4ms/step - loss: 0.1804 - accuracy: 0.9400 - val_loss: 0.1800 - val_accuracy: 0.9383\n",
      "Epoch 65/100\n",
      "48/48 [==============================] - 0s 5ms/step - loss: 0.1751 - accuracy: 0.9408 - val_loss: 0.2034 - val_accuracy: 0.9300\n",
      "Epoch 66/100\n",
      "48/48 [==============================] - 0s 4ms/step - loss: 0.1921 - accuracy: 0.9296 - val_loss: 0.1888 - val_accuracy: 0.9367\n",
      "Epoch 67/100\n",
      "48/48 [==============================] - 0s 5ms/step - loss: 0.1790 - accuracy: 0.9367 - val_loss: 0.2035 - val_accuracy: 0.9183\n",
      "Epoch 68/100\n",
      "48/48 [==============================] - 0s 5ms/step - loss: 0.1798 - accuracy: 0.9346 - val_loss: 0.1966 - val_accuracy: 0.9383\n",
      "Epoch 69/100\n",
      "48/48 [==============================] - 0s 5ms/step - loss: 0.1997 - accuracy: 0.9237 - val_loss: 0.2011 - val_accuracy: 0.9267\n",
      "Epoch 70/100\n",
      "48/48 [==============================] - 0s 5ms/step - loss: 0.1975 - accuracy: 0.9304 - val_loss: 0.1961 - val_accuracy: 0.9283\n",
      "Epoch 71/100\n",
      "48/48 [==============================] - 0s 5ms/step - loss: 0.2074 - accuracy: 0.9258 - val_loss: 0.2118 - val_accuracy: 0.9317\n",
      "Epoch 72/100\n",
      "48/48 [==============================] - 0s 5ms/step - loss: 0.1973 - accuracy: 0.9279 - val_loss: 0.1986 - val_accuracy: 0.9350\n",
      "Epoch 73/100\n",
      "48/48 [==============================] - 0s 5ms/step - loss: 0.1863 - accuracy: 0.9375 - val_loss: 0.2142 - val_accuracy: 0.9233\n",
      "Epoch 74/100\n",
      "48/48 [==============================] - 0s 5ms/step - loss: 0.1995 - accuracy: 0.9296 - val_loss: 0.1759 - val_accuracy: 0.9367\n",
      "Epoch 75/100\n",
      "48/48 [==============================] - 0s 5ms/step - loss: 0.1708 - accuracy: 0.9400 - val_loss: 0.1972 - val_accuracy: 0.9250\n",
      "Epoch 76/100\n",
      "48/48 [==============================] - 0s 4ms/step - loss: 0.1807 - accuracy: 0.9342 - val_loss: 0.1908 - val_accuracy: 0.9350\n",
      "Epoch 77/100\n",
      "48/48 [==============================] - 0s 4ms/step - loss: 0.1931 - accuracy: 0.9321 - val_loss: 0.1843 - val_accuracy: 0.9417\n",
      "Epoch 78/100\n",
      "48/48 [==============================] - 0s 4ms/step - loss: 0.1814 - accuracy: 0.9337 - val_loss: 0.1975 - val_accuracy: 0.9333\n",
      "Epoch 79/100\n",
      "48/48 [==============================] - 0s 5ms/step - loss: 0.1867 - accuracy: 0.9304 - val_loss: 0.1987 - val_accuracy: 0.9283\n",
      "Epoch 80/100\n",
      "48/48 [==============================] - 0s 5ms/step - loss: 0.1702 - accuracy: 0.9421 - val_loss: 0.1744 - val_accuracy: 0.9383\n",
      "Epoch 81/100\n",
      "48/48 [==============================] - 0s 5ms/step - loss: 0.1695 - accuracy: 0.9371 - val_loss: 0.1939 - val_accuracy: 0.9383\n",
      "Epoch 82/100\n",
      "48/48 [==============================] - 0s 4ms/step - loss: 0.1738 - accuracy: 0.9388 - val_loss: 0.1813 - val_accuracy: 0.9283\n",
      "Epoch 83/100\n",
      "48/48 [==============================] - 0s 7ms/step - loss: 0.1797 - accuracy: 0.9354 - val_loss: 0.2010 - val_accuracy: 0.9400\n",
      "Epoch 84/100\n",
      "48/48 [==============================] - 0s 5ms/step - loss: 0.1834 - accuracy: 0.9300 - val_loss: 0.2427 - val_accuracy: 0.9150\n",
      "Epoch 85/100\n",
      "48/48 [==============================] - 0s 5ms/step - loss: 0.2163 - accuracy: 0.9225 - val_loss: 0.2213 - val_accuracy: 0.9150\n",
      "Epoch 86/100\n",
      "48/48 [==============================] - 0s 5ms/step - loss: 0.1667 - accuracy: 0.9438 - val_loss: 0.1839 - val_accuracy: 0.9300\n",
      "Epoch 87/100\n",
      "48/48 [==============================] - 0s 6ms/step - loss: 0.1585 - accuracy: 0.9463 - val_loss: 0.1715 - val_accuracy: 0.9417\n",
      "Epoch 88/100\n",
      "48/48 [==============================] - 0s 6ms/step - loss: 0.1838 - accuracy: 0.9354 - val_loss: 0.2071 - val_accuracy: 0.9300\n",
      "Epoch 89/100\n",
      "48/48 [==============================] - 0s 5ms/step - loss: 0.1837 - accuracy: 0.9354 - val_loss: 0.1702 - val_accuracy: 0.9367\n",
      "Epoch 90/100\n",
      "48/48 [==============================] - 0s 6ms/step - loss: 0.1678 - accuracy: 0.9362 - val_loss: 0.1887 - val_accuracy: 0.9317\n",
      "Epoch 91/100\n",
      "48/48 [==============================] - 0s 5ms/step - loss: 0.1706 - accuracy: 0.9392 - val_loss: 0.1866 - val_accuracy: 0.9233\n",
      "Epoch 92/100\n",
      "48/48 [==============================] - 0s 7ms/step - loss: 0.1732 - accuracy: 0.9350 - val_loss: 0.1795 - val_accuracy: 0.9367\n",
      "Epoch 93/100\n",
      "48/48 [==============================] - 0s 6ms/step - loss: 0.1766 - accuracy: 0.9379 - val_loss: 0.2082 - val_accuracy: 0.9200\n",
      "Epoch 94/100\n",
      "48/48 [==============================] - 0s 5ms/step - loss: 0.1746 - accuracy: 0.9404 - val_loss: 0.1928 - val_accuracy: 0.9317\n",
      "Epoch 95/100\n",
      "48/48 [==============================] - 0s 5ms/step - loss: 0.1553 - accuracy: 0.9504 - val_loss: 0.1748 - val_accuracy: 0.9400\n",
      "Epoch 96/100\n",
      "48/48 [==============================] - 0s 4ms/step - loss: 0.1640 - accuracy: 0.9396 - val_loss: 0.1830 - val_accuracy: 0.9317\n",
      "Epoch 97/100\n",
      "48/48 [==============================] - 0s 5ms/step - loss: 0.1562 - accuracy: 0.9471 - val_loss: 0.1720 - val_accuracy: 0.9417\n",
      "Epoch 98/100\n",
      "48/48 [==============================] - 0s 4ms/step - loss: 0.1774 - accuracy: 0.9375 - val_loss: 0.1722 - val_accuracy: 0.9333\n",
      "Epoch 99/100\n",
      "48/48 [==============================] - 0s 4ms/step - loss: 0.1785 - accuracy: 0.9350 - val_loss: 0.1848 - val_accuracy: 0.9250\n",
      "Epoch 100/100\n",
      "48/48 [==============================] - 0s 4ms/step - loss: 0.1532 - accuracy: 0.9463 - val_loss: 0.1754 - val_accuracy: 0.9383\n"
     ]
    }
   ],
   "source": [
    "# entrenar el modelo\n",
    "history = model.fit(X_train, y_train, epochs=100, batch_size=50, validation_data=(X_test, y_test))\n"
   ],
   "metadata": {
    "collapsed": false,
    "ExecuteTime": {
     "start_time": "2023-04-20T08:14:22.548223Z",
     "end_time": "2023-04-20T08:14:40.810185Z"
    }
   }
  },
  {
   "cell_type": "code",
   "execution_count": 8,
   "outputs": [
    {
     "data": {
      "text/plain": "<Figure size 640x480 with 1 Axes>",
      "image/png": "[encoded data removed]"
     },
     "metadata": {},
     "output_type": "display_data"
    }
   ],
   "source": [
    "# graficar la precisión de entrenamiento y prueba\n",
    "plt.plot(history.history['accuracy'], label='train')\n",
    "plt.plot(history.history['val_accuracy'], label='test')\n",
    "plt.title('Model Accuracy')\n",
    "plt.xlabel('Epoch')\n",
    "plt.ylabel('Accuracy')\n",
    "plt.legend()\n",
    "plt.show()\n"
   ],
   "metadata": {
    "collapsed": false,
    "ExecuteTime": {
     "start_time": "2023-04-20T08:14:43.063093Z",
     "end_time": "2023-04-20T08:14:43.252618Z"
    }
   }
  },
  {
   "cell_type": "code",
   "execution_count": 9,
   "outputs": [
    {
     "name": "stdout",
     "output_type": "stream",
     "text": [
      "19/19 [==============================] - 0s 2ms/step\n",
      "[[193   5   2]\n",
      " [  5 174  21]\n",
      " [  1   3 196]]\n"
     ]
    }
   ],
   "source": [
    "# predecir las probabilidades para los datos de prueba\n",
    "y_probs = model.predict(X_test)\n",
    "y_pred = np.argmax(y_probs, axis=-1)\n",
    "cm = confusion_matrix(y_test, y_pred)\n",
    "print(cm)"
   ],
   "metadata": {
    "collapsed": false,
    "ExecuteTime": {
     "start_time": "2023-04-20T08:15:00.095651Z",
     "end_time": "2023-04-20T08:15:00.979630Z"
    }
   }
  },
  {
   "cell_type": "code",
   "execution_count": 10,
   "outputs": [
    {
     "data": {
      "text/plain": "array([[[394,   6],\n        [  7, 193]],\n\n       [[392,   8],\n        [ 26, 174]],\n\n       [[377,  23],\n        [  4, 196]]], dtype=int64)"
     },
     "execution_count": 10,
     "metadata": {},
     "output_type": "execute_result"
    }
   ],
   "source": [
    "from sklearn.metrics import multilabel_confusion_matrix\n",
    "\n",
    "multilabel_confusion_matrix(y_test, y_pred)"
   ],
   "metadata": {
    "collapsed": false
   }
  },
  {
   "cell_type": "code",
   "execution_count": 11,
   "outputs": [
    {
     "name": "stdout",
     "output_type": "stream",
     "text": [
      "              precision    recall  f1-score   support\n",
      "\n",
      "           0   0.969849  0.965000  0.967419       200\n",
      "           1   0.956044  0.870000  0.910995       200\n",
      "           2   0.894977  0.980000  0.935561       200\n",
      "\n",
      "    accuracy                       0.938333       600\n",
      "   macro avg   0.940290  0.938333  0.937991       600\n",
      "weighted avg   0.940290  0.938333  0.937991       600\n",
      "\n"
     ]
    }
   ],
   "source": [
    "report = classification_report(y_test, y_pred, digits=6)\n",
    "print(report)"
   ],
   "metadata": {
    "collapsed": false,
    "ExecuteTime": {
     "start_time": "2023-04-20T08:15:11.621180Z",
     "end_time": "2023-04-20T08:15:11.637213Z"
    }
   }
  },
  {
   "cell_type": "code",
   "execution_count": 12,
   "outputs": [],
   "source": [
    "# Calcula la especificidad para cada clase\n",
    "specificities = []\n",
    "for i in range(3):\n",
    "    tn = np.sum(cm) - np.sum(cm[i, :]) - np.sum(cm[:, i]) + cm[i, i]\n",
    "    fp = np.sum(cm[:, i]) - cm[i, i]\n",
    "    specificity = tn / (tn + fp)\n",
    "    specificities.append(specificity)\n",
    "\n",
    "# Calcula la especificidad promedio\n",
    "specificity_avg = np.mean(specificities)"
   ],
   "metadata": {
    "collapsed": false
   }
  },
  {
   "cell_type": "code",
   "execution_count": 13,
   "outputs": [
    {
     "data": {
      "text/plain": "0.9691666666666666"
     },
     "execution_count": 13,
     "metadata": {},
     "output_type": "execute_result"
    }
   ],
   "source": [
    "specificity_avg"
   ],
   "metadata": {
    "collapsed": false
   }
  },
  {
   "cell_type": "code",
   "execution_count": 14,
   "outputs": [
    {
     "name": "stdout",
     "output_type": "stream",
     "text": [
      "Accuracy: 0.9383333333333334\n"
     ]
    }
   ],
   "source": [
    "accuracy = accuracy_score(y_test, y_pred)\n",
    "print('Accuracy:', accuracy)"
   ],
   "metadata": {
    "collapsed": false,
    "ExecuteTime": {
     "start_time": "2023-04-20T08:15:25.280447Z",
     "end_time": "2023-04-20T08:15:25.307920Z"
    }
   }
  },
  {
   "cell_type": "code",
   "execution_count": 15,
   "outputs": [
    {
     "name": "stdout",
     "output_type": "stream",
     "text": [
      "Recall: 0.9383333333333334\n",
      "f1-score: 0.9379913899841216\n"
     ]
    }
   ],
   "source": [
    "from sklearn.metrics import recall_score, f1_score, precision_score\n",
    "\n",
    "recall = recall_score(y_test, y_pred, average='macro')\n",
    "print('Recall:', recall)\n",
    "f1 = f1_score(y_test, y_pred, average='macro')\n",
    "print('f1-score:', f1)"
   ],
   "metadata": {
    "collapsed": false
   }
  },
  {
   "cell_type": "code",
   "execution_count": 16,
   "outputs": [
    {
     "data": {
      "text/plain": "(0.9402901237416278, 0.9383333333333334, 0.9379913899841216, None)"
     },
     "execution_count": 16,
     "metadata": {},
     "output_type": "execute_result"
    }
   ],
   "source": [
    "from sklearn.metrics import precision_recall_fscore_support\n",
    "\n",
    "precision_recall_fscore_support(y_test, y_pred, average='macro')"
   ],
   "metadata": {
    "collapsed": false
   }
  },
  {
   "cell_type": "code",
   "execution_count": 17,
   "outputs": [
    {
     "name": "stdout",
     "output_type": "stream",
     "text": [
      "Cohen's kappa:  0.9075\n"
     ]
    }
   ],
   "source": [
    "from sklearn.metrics import cohen_kappa_score\n",
    "\n",
    "print(\"Cohen's kappa: \", cohen_kappa_score(y_test, y_pred))"
   ],
   "metadata": {
    "collapsed": false
   }
  },
  {
   "cell_type": "code",
   "execution_count": 18,
   "outputs": [
    {
     "name": "stdout",
     "output_type": "stream",
     "text": [
      "size of the splits\n",
      "X_train:  (2400, 343)\n",
      "X_test:  (600, 343)\n",
      "y_test:  600\n",
      "y_pred:  600\n"
     ]
    }
   ],
   "source": [
    "print(\"size of the splits\")\n",
    "print(\"X_train: \", X_train.shape)\n",
    "print(\"X_test: \", X_test.shape)\n",
    "print(\"y_test: \", y_test.size)\n",
    "print(\"y_pred: \", y_pred.size)"
   ],
   "metadata": {
    "collapsed": false,
    "ExecuteTime": {
     "start_time": "2023-04-20T08:15:32.786115Z",
     "end_time": "2023-04-20T08:15:32.830823Z"
    }
   }
  },
  {
   "cell_type": "markdown",
   "source": [
    "# Save model"
   ],
   "metadata": {
    "collapsed": false
   }
  },
  {
   "cell_type": "code",
   "execution_count": 67,
   "outputs": [],
   "source": [
    "# Save the model to a single file\n",
    "model.save( './rna_balance.keras', save_format='keras_v3')"
   ],
   "metadata": {
    "collapsed": false
   }
  },
  {
   "cell_type": "markdown",
   "source": [
    "# Suspected Symbiotic Stars v1"
   ],
   "metadata": {
    "collapsed": false
   }
  },
  {
   "cell_type": "code",
   "execution_count": 29,
   "outputs": [
    {
     "name": "stdout",
     "output_type": "stream",
     "text": [
      "1/1 [==============================] - 0s 18ms/step\n",
      "[[14  0  1]\n",
      " [ 0  0  0]\n",
      " [ 0  0  0]]\n"
     ]
    }
   ],
   "source": [
    "import numpy as np\n",
    "from sklearn.metrics import confusion_matrix\n",
    "\n",
    "df_sus_sy = pd.read_csv(\"../../new/candidate_symbiotic_stars_v1/normalized/Suspected_SY.csv\", header=None)\n",
    "\n",
    "# predecir las probabilidades para los datos de prueba\n",
    "y_probs = model.predict(df_sus_sy)\n",
    "y_pred = np.argmax(y_probs, axis=-1)\n",
    "cm = confusion_matrix([0 for _ in range(len(df_sus_sy))], y_pred, labels=[0, 1, 2])\n",
    "print(cm)"
   ],
   "metadata": {
    "collapsed": false
   }
  },
  {
   "cell_type": "code",
   "execution_count": 30,
   "outputs": [
    {
     "data": {
      "text/plain": "             source_id       0       1       2  label\n0  4687286621186701568  0.9990  0.0008  0.0001      0\n1  4651824725526390016  0.9098  0.0877  0.0025      0\n2  3321366590173335424  0.9483  0.0410  0.0106      0\n3  5410876219867043072  0.9999  0.0001  0.0000      0\n4  3575939163051304192  0.9638  0.0333  0.0029      0",
      "text/html": "<div>\n<style scoped>\n    .dataframe tbody tr th:only-of-type {\n        vertical-align: middle;\n    }\n\n    .dataframe tbody tr th {\n        vertical-align: top;\n    }\n\n    .dataframe thead th {\n        text-align: right;\n    }\n</style>\n<table border=\"1\" class=\"dataframe\">\n  <thead>\n    <tr style=\"text-align: right;\">\n      <th></th>\n      <th>source_id</th>\n      <th>0</th>\n      <th>1</th>\n      <th>2</th>\n      <th>label</th>\n    </tr>\n  </thead>\n  <tbody>\n    <tr>\n      <th>0</th>\n      <td>4687286621186701568</td>\n      <td>0.9990</td>\n      <td>0.0008</td>\n      <td>0.0001</td>\n      <td>0</td>\n    </tr>\n    <tr>\n      <th>1</th>\n      <td>4651824725526390016</td>\n      <td>0.9098</td>\n      <td>0.0877</td>\n      <td>0.0025</td>\n      <td>0</td>\n    </tr>\n    <tr>\n      <th>2</th>\n      <td>3321366590173335424</td>\n      <td>0.9483</td>\n      <td>0.0410</td>\n      <td>0.0106</td>\n      <td>0</td>\n    </tr>\n    <tr>\n      <th>3</th>\n      <td>5410876219867043072</td>\n      <td>0.9999</td>\n      <td>0.0001</td>\n      <td>0.0000</td>\n      <td>0</td>\n    </tr>\n    <tr>\n      <th>4</th>\n      <td>3575939163051304192</td>\n      <td>0.9638</td>\n      <td>0.0333</td>\n      <td>0.0029</td>\n      <td>0</td>\n    </tr>\n  </tbody>\n</table>\n</div>"
     },
     "execution_count": 30,
     "metadata": {},
     "output_type": "execute_result"
    }
   ],
   "source": [
    "df_sus_sy_normalized = pd.read_csv(\"../../new/candidate_symbiotic_stars_v1/calibrated_data/Suspected_SY.csv\")\n",
    "\n",
    "df5 = pd.DataFrame(y_probs)\n",
    "df5 = df5.round(4)\n",
    "df5['label'] = y_pred\n",
    "df5.insert(0, 'source_id', df_sus_sy_normalized['source_id'])\n",
    "df5.head(5)"
   ],
   "metadata": {
    "collapsed": false
   }
  },
  {
   "cell_type": "code",
   "execution_count": 31,
   "outputs": [
    {
     "data": {
      "text/plain": "    FIND_NAME        MAIN_ID         OTYPE   SP_TYPE  \\\n0    RAW 1691        LIN 521            C*         C   \n1  [BE74] 583     [BE74] 583  LongPeriodV*     G/Ke:   \n2     StHA 55  EM* StHA   55          Mira       NaN   \n3      ZZ CMi      V* ZZ CMi  LongPeriodV*  M6I-IIep   \n4  WRAY 16−51     WRAY 16-51  LongPeriodV*        M4   \n\n                        ID_Gaia  \\\n0  Gaia DR2 4687286621186701568   \n1  Gaia DR2 4651824725526390016   \n2  Gaia DR3 3321366590173335424   \n3  Gaia DR3 3155368612444708096   \n4  Gaia DR2 5410876219860836224   \n\n                                                 IDS  \\\n0  RAW 1691|LIN 521|2MASS J01183570-7242213|OGLE ...   \n1  2MASS J05265014-7106350|EROS2-star lm058-2n-25...   \n2  IRAS 05440+0642|ASAS J054642+0643.7|ASAS J0546...   \n3  BD+09  1633|AN  306.1934|DO  2156|GCRV  4915|G...   \n4  IRAS 09316-4621|AKARI-IRC-V1 J0933295-463450|D...   \n\n                                              OTYPES             Gaia DR3  \n0               C*|Em*|LP*|LP*|Em*|MIR|NIR|*|C*?|LP?  4687286621186701568  \n1                                   LP*|Em*|NIR|V*|*  4651824725526390016  \n2  Mi*|LP*|V*|LP*|SB*|LP*|MIR|V*|Em*|NIR|*|C*?|IR...  3321366590173335424  \n3                                LP*|NIR|V*|*|IR|LP?  3155368612444708096  \n4                            LP*|NIR|MIR|Em*|PN|*|IR  5410876219867043072  ",
      "text/html": "<div>\n<style scoped>\n    .dataframe tbody tr th:only-of-type {\n        vertical-align: middle;\n    }\n\n    .dataframe tbody tr th {\n        vertical-align: top;\n    }\n\n    .dataframe thead th {\n        text-align: right;\n    }\n</style>\n<table border=\"1\" class=\"dataframe\">\n  <thead>\n    <tr style=\"text-align: right;\">\n      <th></th>\n      <th>FIND_NAME</th>\n      <th>MAIN_ID</th>\n      <th>OTYPE</th>\n      <th>SP_TYPE</th>\n      <th>ID_Gaia</th>\n      <th>IDS</th>\n      <th>OTYPES</th>\n      <th>Gaia DR3</th>\n    </tr>\n  </thead>\n  <tbody>\n    <tr>\n      <th>0</th>\n      <td>RAW 1691</td>\n      <td>LIN 521</td>\n      <td>C*</td>\n      <td>C</td>\n      <td>Gaia DR2 4687286621186701568</td>\n      <td>RAW 1691|LIN 521|2MASS J01183570-7242213|OGLE ...</td>\n      <td>C*|Em*|LP*|LP*|Em*|MIR|NIR|*|C*?|LP?</td>\n      <td>4687286621186701568</td>\n    </tr>\n    <tr>\n      <th>1</th>\n      <td>[BE74] 583</td>\n      <td>[BE74] 583</td>\n      <td>LongPeriodV*</td>\n      <td>G/Ke:</td>\n      <td>Gaia DR2 4651824725526390016</td>\n      <td>2MASS J05265014-7106350|EROS2-star lm058-2n-25...</td>\n      <td>LP*|Em*|NIR|V*|*</td>\n      <td>4651824725526390016</td>\n    </tr>\n    <tr>\n      <th>2</th>\n      <td>StHA 55</td>\n      <td>EM* StHA   55</td>\n      <td>Mira</td>\n      <td>NaN</td>\n      <td>Gaia DR3 3321366590173335424</td>\n      <td>IRAS 05440+0642|ASAS J054642+0643.7|ASAS J0546...</td>\n      <td>Mi*|LP*|V*|LP*|SB*|LP*|MIR|V*|Em*|NIR|*|C*?|IR...</td>\n      <td>3321366590173335424</td>\n    </tr>\n    <tr>\n      <th>3</th>\n      <td>ZZ CMi</td>\n      <td>V* ZZ CMi</td>\n      <td>LongPeriodV*</td>\n      <td>M6I-IIep</td>\n      <td>Gaia DR3 3155368612444708096</td>\n      <td>BD+09  1633|AN  306.1934|DO  2156|GCRV  4915|G...</td>\n      <td>LP*|NIR|V*|*|IR|LP?</td>\n      <td>3155368612444708096</td>\n    </tr>\n    <tr>\n      <th>4</th>\n      <td>WRAY 16−51</td>\n      <td>WRAY 16-51</td>\n      <td>LongPeriodV*</td>\n      <td>M4</td>\n      <td>Gaia DR2 5410876219860836224</td>\n      <td>IRAS 09316-4621|AKARI-IRC-V1 J0933295-463450|D...</td>\n      <td>LP*|NIR|MIR|Em*|PN|*|IR</td>\n      <td>5410876219867043072</td>\n    </tr>\n  </tbody>\n</table>\n</div>"
     },
     "execution_count": 31,
     "metadata": {},
     "output_type": "execute_result"
    }
   ],
   "source": [
    "df6 = pd.read_csv('../../new/candidate_symbiotic_stars_v1/built_dataset/suspected_SY_dataset.csv')\n",
    "df6.head(5)"
   ],
   "metadata": {
    "collapsed": false
   }
  },
  {
   "cell_type": "code",
   "execution_count": 32,
   "outputs": [
    {
     "data": {
      "text/plain": "    FIND_NAME        MAIN_ID             Gaia DR3       0       1       2  \\\n0    RAW 1691        LIN 521  4687286621186701568  0.9990  0.0008  0.0001   \n1  [BE74] 583     [BE74] 583  4651824725526390016  0.9098  0.0877  0.0025   \n2     StHA 55  EM* StHA   55  3321366590173335424  0.9483  0.0410  0.0106   \n3  WRAY 16−51     WRAY 16-51  5410876219867043072  0.9999  0.0001  0.0000   \n4   NSV 05572      V* VX Crv  3575939163051304192  0.9638  0.0333  0.0029   \n\n   label  \n0      0  \n1      0  \n2      0  \n3      0  \n4      0  ",
      "text/html": "<div>\n<style scoped>\n    .dataframe tbody tr th:only-of-type {\n        vertical-align: middle;\n    }\n\n    .dataframe tbody tr th {\n        vertical-align: top;\n    }\n\n    .dataframe thead th {\n        text-align: right;\n    }\n</style>\n<table border=\"1\" class=\"dataframe\">\n  <thead>\n    <tr style=\"text-align: right;\">\n      <th></th>\n      <th>FIND_NAME</th>\n      <th>MAIN_ID</th>\n      <th>Gaia DR3</th>\n      <th>0</th>\n      <th>1</th>\n      <th>2</th>\n      <th>label</th>\n    </tr>\n  </thead>\n  <tbody>\n    <tr>\n      <th>0</th>\n      <td>RAW 1691</td>\n      <td>LIN 521</td>\n      <td>4687286621186701568</td>\n      <td>0.9990</td>\n      <td>0.0008</td>\n      <td>0.0001</td>\n      <td>0</td>\n    </tr>\n    <tr>\n      <th>1</th>\n      <td>[BE74] 583</td>\n      <td>[BE74] 583</td>\n      <td>4651824725526390016</td>\n      <td>0.9098</td>\n      <td>0.0877</td>\n      <td>0.0025</td>\n      <td>0</td>\n    </tr>\n    <tr>\n      <th>2</th>\n      <td>StHA 55</td>\n      <td>EM* StHA   55</td>\n      <td>3321366590173335424</td>\n      <td>0.9483</td>\n      <td>0.0410</td>\n      <td>0.0106</td>\n      <td>0</td>\n    </tr>\n    <tr>\n      <th>3</th>\n      <td>WRAY 16−51</td>\n      <td>WRAY 16-51</td>\n      <td>5410876219867043072</td>\n      <td>0.9999</td>\n      <td>0.0001</td>\n      <td>0.0000</td>\n      <td>0</td>\n    </tr>\n    <tr>\n      <th>4</th>\n      <td>NSV 05572</td>\n      <td>V* VX Crv</td>\n      <td>3575939163051304192</td>\n      <td>0.9638</td>\n      <td>0.0333</td>\n      <td>0.0029</td>\n      <td>0</td>\n    </tr>\n  </tbody>\n</table>\n</div>"
     },
     "execution_count": 32,
     "metadata": {},
     "output_type": "execute_result"
    }
   ],
   "source": [
    "# Filtro de data frames\n",
    "df_filtered = df6.merge(df5, left_on=['Gaia DR3'], right_on=['source_id'], how='inner', indicator=True)\n",
    "df_filtered = df_filtered[df_filtered['_merge'] == 'both']\n",
    "df_filtered = df_filtered.iloc[:, [0, 1, 7, 9, 10, 11, 12]]\n",
    "df_filtered.head(5)"
   ],
   "metadata": {
    "collapsed": false
   }
  },
  {
   "cell_type": "code",
   "execution_count": 33,
   "outputs": [],
   "source": [
    "out_name = 'rna_balanced.csv'\n",
    "out_dir = '../../new/candidate_symbiotic_stars_v1/output'\n",
    "if not os.path.exists(out_dir):\n",
    "    os.mkdir(out_dir)\n",
    "\n",
    "fullname = os.path.join(out_dir, out_name)\n",
    "df_filtered.to_csv(fullname, header=True, index=False)"
   ],
   "metadata": {
    "collapsed": false
   }
  },
  {
   "cell_type": "markdown",
   "source": [
    "# Suspected Symbiotic Stars v2"
   ],
   "metadata": {
    "collapsed": false
   }
  },
  {
   "cell_type": "code",
   "execution_count": 34,
   "outputs": [
    {
     "name": "stdout",
     "output_type": "stream",
     "text": [
      "1/1 [==============================] - 0s 23ms/step\n",
      "[[13  1  3]\n",
      " [ 0  0  0]\n",
      " [ 0  0  0]]\n"
     ]
    }
   ],
   "source": [
    "import numpy as np\n",
    "from sklearn.metrics import confusion_matrix\n",
    "\n",
    "df_sus_sy = pd.read_csv(\"../../new/candidate_symbiotic_stars_v2/normalized/Suspected_SY.csv\", header=None)\n",
    "\n",
    "# predecir las probabilidades para los datos de prueba\n",
    "y_probs = model.predict(df_sus_sy)\n",
    "y_pred = np.argmax(y_probs, axis=-1)\n",
    "cm = confusion_matrix([0 for _ in range(len(df_sus_sy))], y_pred, labels=[0, 1, 2])\n",
    "print(cm)"
   ],
   "metadata": {
    "collapsed": false
   }
  },
  {
   "cell_type": "code",
   "execution_count": 35,
   "outputs": [
    {
     "data": {
      "text/plain": "             source_id       0       1       2  label\n0  6204217186929931520  0.9987  0.0013  0.0000      0\n1  4061952680197028224  0.9085  0.0881  0.0034      0\n2   670455944074475008  0.3494  0.0075  0.6431      2\n3  4068755633500598272  0.0110  0.0548  0.9343      2\n4  2060829659152816768  0.0179  0.8098  0.1724      1",
      "text/html": "<div>\n<style scoped>\n    .dataframe tbody tr th:only-of-type {\n        vertical-align: middle;\n    }\n\n    .dataframe tbody tr th {\n        vertical-align: top;\n    }\n\n    .dataframe thead th {\n        text-align: right;\n    }\n</style>\n<table border=\"1\" class=\"dataframe\">\n  <thead>\n    <tr style=\"text-align: right;\">\n      <th></th>\n      <th>source_id</th>\n      <th>0</th>\n      <th>1</th>\n      <th>2</th>\n      <th>label</th>\n    </tr>\n  </thead>\n  <tbody>\n    <tr>\n      <th>0</th>\n      <td>6204217186929931520</td>\n      <td>0.9987</td>\n      <td>0.0013</td>\n      <td>0.0000</td>\n      <td>0</td>\n    </tr>\n    <tr>\n      <th>1</th>\n      <td>4061952680197028224</td>\n      <td>0.9085</td>\n      <td>0.0881</td>\n      <td>0.0034</td>\n      <td>0</td>\n    </tr>\n    <tr>\n      <th>2</th>\n      <td>670455944074475008</td>\n      <td>0.3494</td>\n      <td>0.0075</td>\n      <td>0.6431</td>\n      <td>2</td>\n    </tr>\n    <tr>\n      <th>3</th>\n      <td>4068755633500598272</td>\n      <td>0.0110</td>\n      <td>0.0548</td>\n      <td>0.9343</td>\n      <td>2</td>\n    </tr>\n    <tr>\n      <th>4</th>\n      <td>2060829659152816768</td>\n      <td>0.0179</td>\n      <td>0.8098</td>\n      <td>0.1724</td>\n      <td>1</td>\n    </tr>\n  </tbody>\n</table>\n</div>"
     },
     "execution_count": 35,
     "metadata": {},
     "output_type": "execute_result"
    }
   ],
   "source": [
    "df_sus_sy_normalized = pd.read_csv(\"../../new/candidate_symbiotic_stars_v2/calibrated_data/Suspected_SY.csv\")\n",
    "\n",
    "df5 = pd.DataFrame(y_probs)\n",
    "df5 = df5.round(4)\n",
    "df5['label'] = y_pred\n",
    "df5.insert(0, 'source_id', df_sus_sy_normalized['source_id'])\n",
    "df5.head(5)"
   ],
   "metadata": {
    "collapsed": false
   }
  },
  {
   "cell_type": "code",
   "execution_count": 36,
   "outputs": [
    {
     "data": {
      "text/plain": "                  FIND_NAME              MAIN_ID                   OTYPE  \\\n0                  V748 Cen          V* V748 Cen                  EclBin   \n1               WRAY 16-294          WRAY 16-294            LongPeriodV*   \n2    DASCH J075731.1+201735  ASAS J075731+2017.6            LongPeriodV*   \n3       ASAS J174600-2321.3  ASAS J174600-2321.3  LongPeriodV*_Candidate   \n4  IPHASJ201550.96+373004.2      IRAS 20140+3720  PlanetaryNeb_Candidate   \n\n  SP_TYPE                       ID_Gaia  \\\n0      Ae  Gaia DR3 6204217186929931520   \n1      K5  Gaia DR2 4061952680197028224   \n2   M0III   Gaia DR2 670455944074475008   \n3     F0I  Gaia DR2 4068755633500598272   \n4     NaN  Gaia DR2 2060829659152816768   \n\n                                                 IDS  \\\n0  CD-32 10517|ALS 18924|CRTS J145936.6-332503|CS...   \n1  2MASS J17391381-2538050|DENIS J173913.8-253805...   \n2  2MASS J07573112+2017347|ASAS J075731+2017.6|DA...   \n3  2MASS J17460018-2321163|ASAS J174600-2321.3|ER...   \n4  2MASS J20155096+3730042|AKARI-IRC-V1 J2015509+...   \n\n                         OTYPES             Gaia DR3  \n0          EB*|Ro*|NIR|V*|Em*|*  6204217186929931520  \n1  LP*|PN|NIR|Em*|*|C*?|ISM|LP?  4061952680197028224  \n2          SB*|LP*|NIR|V*|*|Opt   670455944074475008  \n3                  NIR|V*|*|LP?  4068755633500598272  \n4          NIR|*|C*?|IR|LP?|PN?  2060829659152816768  ",
      "text/html": "<div>\n<style scoped>\n    .dataframe tbody tr th:only-of-type {\n        vertical-align: middle;\n    }\n\n    .dataframe tbody tr th {\n        vertical-align: top;\n    }\n\n    .dataframe thead th {\n        text-align: right;\n    }\n</style>\n<table border=\"1\" class=\"dataframe\">\n  <thead>\n    <tr style=\"text-align: right;\">\n      <th></th>\n      <th>FIND_NAME</th>\n      <th>MAIN_ID</th>\n      <th>OTYPE</th>\n      <th>SP_TYPE</th>\n      <th>ID_Gaia</th>\n      <th>IDS</th>\n      <th>OTYPES</th>\n      <th>Gaia DR3</th>\n    </tr>\n  </thead>\n  <tbody>\n    <tr>\n      <th>0</th>\n      <td>V748 Cen</td>\n      <td>V* V748 Cen</td>\n      <td>EclBin</td>\n      <td>Ae</td>\n      <td>Gaia DR3 6204217186929931520</td>\n      <td>CD-32 10517|ALS 18924|CRTS J145936.6-332503|CS...</td>\n      <td>EB*|Ro*|NIR|V*|Em*|*</td>\n      <td>6204217186929931520</td>\n    </tr>\n    <tr>\n      <th>1</th>\n      <td>WRAY 16-294</td>\n      <td>WRAY 16-294</td>\n      <td>LongPeriodV*</td>\n      <td>K5</td>\n      <td>Gaia DR2 4061952680197028224</td>\n      <td>2MASS J17391381-2538050|DENIS J173913.8-253805...</td>\n      <td>LP*|PN|NIR|Em*|*|C*?|ISM|LP?</td>\n      <td>4061952680197028224</td>\n    </tr>\n    <tr>\n      <th>2</th>\n      <td>DASCH J075731.1+201735</td>\n      <td>ASAS J075731+2017.6</td>\n      <td>LongPeriodV*</td>\n      <td>M0III</td>\n      <td>Gaia DR2 670455944074475008</td>\n      <td>2MASS J07573112+2017347|ASAS J075731+2017.6|DA...</td>\n      <td>SB*|LP*|NIR|V*|*|Opt</td>\n      <td>670455944074475008</td>\n    </tr>\n    <tr>\n      <th>3</th>\n      <td>ASAS J174600-2321.3</td>\n      <td>ASAS J174600-2321.3</td>\n      <td>LongPeriodV*_Candidate</td>\n      <td>F0I</td>\n      <td>Gaia DR2 4068755633500598272</td>\n      <td>2MASS J17460018-2321163|ASAS J174600-2321.3|ER...</td>\n      <td>NIR|V*|*|LP?</td>\n      <td>4068755633500598272</td>\n    </tr>\n    <tr>\n      <th>4</th>\n      <td>IPHASJ201550.96+373004.2</td>\n      <td>IRAS 20140+3720</td>\n      <td>PlanetaryNeb_Candidate</td>\n      <td>NaN</td>\n      <td>Gaia DR2 2060829659152816768</td>\n      <td>2MASS J20155096+3730042|AKARI-IRC-V1 J2015509+...</td>\n      <td>NIR|*|C*?|IR|LP?|PN?</td>\n      <td>2060829659152816768</td>\n    </tr>\n  </tbody>\n</table>\n</div>"
     },
     "execution_count": 36,
     "metadata": {},
     "output_type": "execute_result"
    }
   ],
   "source": [
    "df6 = pd.read_csv('../../new/candidate_symbiotic_stars_v2/built_dataset/suspected_SY_dataset.csv')\n",
    "df6.head(5)"
   ],
   "metadata": {
    "collapsed": false
   }
  },
  {
   "cell_type": "code",
   "execution_count": 37,
   "outputs": [
    {
     "data": {
      "text/plain": "                  FIND_NAME              MAIN_ID             Gaia DR3       0  \\\n0                  V748 Cen          V* V748 Cen  6204217186929931520  0.9987   \n1               WRAY 16-294          WRAY 16-294  4061952680197028224  0.9085   \n2    DASCH J075731.1+201735  ASAS J075731+2017.6   670455944074475008  0.3494   \n3       ASAS J174600-2321.3  ASAS J174600-2321.3  4068755633500598272  0.0110   \n4  IPHASJ201550.96+373004.2      IRAS 20140+3720  2060829659152816768  0.0179   \n\n        1       2  label  \n0  0.0013  0.0000      0  \n1  0.0881  0.0034      0  \n2  0.0075  0.6431      2  \n3  0.0548  0.9343      2  \n4  0.8098  0.1724      1  ",
      "text/html": "<div>\n<style scoped>\n    .dataframe tbody tr th:only-of-type {\n        vertical-align: middle;\n    }\n\n    .dataframe tbody tr th {\n        vertical-align: top;\n    }\n\n    .dataframe thead th {\n        text-align: right;\n    }\n</style>\n<table border=\"1\" class=\"dataframe\">\n  <thead>\n    <tr style=\"text-align: right;\">\n      <th></th>\n      <th>FIND_NAME</th>\n      <th>MAIN_ID</th>\n      <th>Gaia DR3</th>\n      <th>0</th>\n      <th>1</th>\n      <th>2</th>\n      <th>label</th>\n    </tr>\n  </thead>\n  <tbody>\n    <tr>\n      <th>0</th>\n      <td>V748 Cen</td>\n      <td>V* V748 Cen</td>\n      <td>6204217186929931520</td>\n      <td>0.9987</td>\n      <td>0.0013</td>\n      <td>0.0000</td>\n      <td>0</td>\n    </tr>\n    <tr>\n      <th>1</th>\n      <td>WRAY 16-294</td>\n      <td>WRAY 16-294</td>\n      <td>4061952680197028224</td>\n      <td>0.9085</td>\n      <td>0.0881</td>\n      <td>0.0034</td>\n      <td>0</td>\n    </tr>\n    <tr>\n      <th>2</th>\n      <td>DASCH J075731.1+201735</td>\n      <td>ASAS J075731+2017.6</td>\n      <td>670455944074475008</td>\n      <td>0.3494</td>\n      <td>0.0075</td>\n      <td>0.6431</td>\n      <td>2</td>\n    </tr>\n    <tr>\n      <th>3</th>\n      <td>ASAS J174600-2321.3</td>\n      <td>ASAS J174600-2321.3</td>\n      <td>4068755633500598272</td>\n      <td>0.0110</td>\n      <td>0.0548</td>\n      <td>0.9343</td>\n      <td>2</td>\n    </tr>\n    <tr>\n      <th>4</th>\n      <td>IPHASJ201550.96+373004.2</td>\n      <td>IRAS 20140+3720</td>\n      <td>2060829659152816768</td>\n      <td>0.0179</td>\n      <td>0.8098</td>\n      <td>0.1724</td>\n      <td>1</td>\n    </tr>\n  </tbody>\n</table>\n</div>"
     },
     "execution_count": 37,
     "metadata": {},
     "output_type": "execute_result"
    }
   ],
   "source": [
    "# Filtro de data frames\n",
    "df_filtered = df6.merge(df5, left_on=['Gaia DR3'], right_on=['source_id'], how='inner', indicator=True)\n",
    "df_filtered = df_filtered[df_filtered['_merge'] == 'both']\n",
    "df_filtered = df_filtered.iloc[:, [0, 1, 7, 9, 10, 11, 12]]\n",
    "df_filtered.head(5)"
   ],
   "metadata": {
    "collapsed": false
   }
  },
  {
   "cell_type": "code",
   "execution_count": 38,
   "outputs": [],
   "source": [
    "out_name = 'rna_balanced.csv'\n",
    "out_dir = '../../new/candidate_symbiotic_stars_v2/output'\n",
    "if not os.path.exists(out_dir):\n",
    "    os.mkdir(out_dir)\n",
    "\n",
    "fullname = os.path.join(out_dir, out_name)\n",
    "df_filtered.to_csv(fullname, header=True, index=False)"
   ],
   "metadata": {
    "collapsed": false
   }
  },
  {
   "cell_type": "code",
   "execution_count": null,
   "outputs": [],
   "source": [],
   "metadata": {
    "collapsed": false
   }
  }
 ],
 "metadata": {
  "kernelspec": {
   "display_name": "Python 3",
   "language": "python",
   "name": "python3"
  },
  "language_info": {
   "codemirror_mode": {
    "name": "ipython",
    "version": 2
   },
   "file_extension": ".py",
   "mimetype": "text/x-python",
   "name": "python",
   "nbconvert_exporter": "python",
   "pygments_lexer": "ipython2",
   "version": "2.7.6"
  }
 },
 "nbformat": 4,
 "nbformat_minor": 0
}
