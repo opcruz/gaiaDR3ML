{
 "cells": [
  {
   "cell_type": "code",
   "execution_count": 4,
   "metadata": {
    "collapsed": true,
    "ExecuteTime": {
     "start_time": "2023-04-20T08:11:42.880867Z",
     "end_time": "2023-04-20T08:11:42.897872Z"
    }
   },
   "outputs": [],
   "source": [
    "import pandas as pd\n",
    "import numpy as np\n",
    "import tensorflow as tf\n",
    "from sklearn.metrics import accuracy_score,classification_report, confusion_matrix\n",
    "from sklearn.model_selection import train_test_split\n",
    "from sklearn.preprocessing import LabelEncoder\n",
    "import matplotlib.pyplot as plt"
   ]
  },
  {
   "cell_type": "code",
   "execution_count": 6,
   "outputs": [],
   "source": [
    "df =  pd.read_csv(\"../../Data/DR3/espectros_normalizados_balanceados_SNG_1.csv\")"
   ],
   "metadata": {
    "collapsed": false,
    "ExecuteTime": {
     "start_time": "2023-04-20T08:11:56.426514Z",
     "end_time": "2023-04-20T08:11:56.624649Z"
    }
   }
  },
  {
   "cell_type": "code",
   "execution_count": 9,
   "outputs": [],
   "source": [
    "df =  df.rename(columns={'col344': \"id\"})"
   ],
   "metadata": {
    "collapsed": false,
    "ExecuteTime": {
     "start_time": "2023-04-20T08:13:13.471067Z",
     "end_time": "2023-04-20T08:13:13.489519Z"
    }
   }
  },
  {
   "cell_type": "code",
   "execution_count": 10,
   "outputs": [],
   "source": [
    "# separar las características (X) y la etiqueta (y)\n",
    "X = df.drop('id', axis=1)\n",
    "y = df['id']\n"
   ],
   "metadata": {
    "collapsed": false,
    "ExecuteTime": {
     "start_time": "2023-04-20T08:13:21.293990Z",
     "end_time": "2023-04-20T08:13:21.311237Z"
    }
   }
  },
  {
   "cell_type": "code",
   "execution_count": 11,
   "outputs": [],
   "source": [
    "# codificar la etiqueta (y)\n",
    "encoder = LabelEncoder()\n",
    "y = encoder.fit_transform(y)\n"
   ],
   "metadata": {
    "collapsed": false,
    "ExecuteTime": {
     "start_time": "2023-04-20T08:13:29.356136Z",
     "end_time": "2023-04-20T08:13:29.370140Z"
    }
   }
  },
  {
   "cell_type": "code",
   "execution_count": 12,
   "outputs": [],
   "source": [
    "\n",
    "# dividir el conjunto de datos en entrenamiento y prueba\n",
    "X_train, X_test, y_train, y_test = train_test_split(X, y, test_size=0.2, random_state=1)\n"
   ],
   "metadata": {
    "collapsed": false,
    "ExecuteTime": {
     "start_time": "2023-04-20T08:13:37.792148Z",
     "end_time": "2023-04-20T08:13:38.265756Z"
    }
   }
  },
  {
   "cell_type": "code",
   "execution_count": 13,
   "outputs": [],
   "source": [
    "# crear el modelo\n",
    "model = tf.keras.models.Sequential([\n",
    "  tf.keras.layers.Dense(32, activation='relu'),\n",
    "  tf.keras.layers.Dropout(0.1),\n",
    "  tf.keras.layers.Dense(32, activation='relu'),\n",
    "  tf.keras.layers.Dropout(0.1),\n",
    "  tf.keras.layers.Dense(32, activation='relu'),\n",
    "  tf.keras.layers.Dropout(0.1),\n",
    "  tf.keras.layers.Dense(3, activation='softmax')\n",
    "])\n",
    "\n",
    "# compilar el modelo\n",
    "model.compile(optimizer='adam',\n",
    "              loss='sparse_categorical_crossentropy',\n",
    "              metrics=['accuracy'])\n",
    "\n"
   ],
   "metadata": {
    "collapsed": false,
    "ExecuteTime": {
     "start_time": "2023-04-20T08:14:12.861218Z",
     "end_time": "2023-04-20T08:14:16.331534Z"
    }
   }
  },
  {
   "cell_type": "code",
   "execution_count": 14,
   "outputs": [
    {
     "name": "stdout",
     "output_type": "stream",
     "text": [
      "Epoch 1/50\n",
      "76/76 [==============================] - 3s 7ms/step - loss: 0.7096 - accuracy: 0.7082 - val_loss: 0.5214 - val_accuracy: 0.8138\n",
      "Epoch 2/50\n",
      "76/76 [==============================] - 0s 4ms/step - loss: 0.5511 - accuracy: 0.7923 - val_loss: 0.4919 - val_accuracy: 0.8287\n",
      "Epoch 3/50\n",
      "76/76 [==============================] - 0s 5ms/step - loss: 0.4949 - accuracy: 0.8256 - val_loss: 0.4153 - val_accuracy: 0.8353\n",
      "Epoch 4/50\n",
      "76/76 [==============================] - 0s 5ms/step - loss: 0.4431 - accuracy: 0.8446 - val_loss: 0.3688 - val_accuracy: 0.8649\n",
      "Epoch 5/50\n",
      "76/76 [==============================] - 0s 5ms/step - loss: 0.3849 - accuracy: 0.8603 - val_loss: 0.3404 - val_accuracy: 0.8880\n",
      "Epoch 6/50\n",
      "76/76 [==============================] - 0s 4ms/step - loss: 0.3536 - accuracy: 0.8772 - val_loss: 0.3055 - val_accuracy: 0.9012\n",
      "Epoch 7/50\n",
      "76/76 [==============================] - 0s 4ms/step - loss: 0.3545 - accuracy: 0.8817 - val_loss: 0.2971 - val_accuracy: 0.9176\n",
      "Epoch 8/50\n",
      "76/76 [==============================] - 0s 3ms/step - loss: 0.3364 - accuracy: 0.8924 - val_loss: 0.2830 - val_accuracy: 0.9028\n",
      "Epoch 9/50\n",
      "76/76 [==============================] - 0s 4ms/step - loss: 0.3058 - accuracy: 0.8994 - val_loss: 0.2942 - val_accuracy: 0.9028\n",
      "Epoch 10/50\n",
      "76/76 [==============================] - 0s 4ms/step - loss: 0.2998 - accuracy: 0.8974 - val_loss: 0.4225 - val_accuracy: 0.8484\n",
      "Epoch 11/50\n",
      "76/76 [==============================] - 0s 4ms/step - loss: 0.3273 - accuracy: 0.8895 - val_loss: 0.2648 - val_accuracy: 0.9160\n",
      "Epoch 12/50\n",
      "76/76 [==============================] - 0s 4ms/step - loss: 0.2818 - accuracy: 0.9077 - val_loss: 0.2556 - val_accuracy: 0.9176\n",
      "Epoch 13/50\n",
      "76/76 [==============================] - 0s 5ms/step - loss: 0.2811 - accuracy: 0.9134 - val_loss: 0.2435 - val_accuracy: 0.9193\n",
      "Epoch 14/50\n",
      "76/76 [==============================] - 0s 4ms/step - loss: 0.2592 - accuracy: 0.9081 - val_loss: 0.2285 - val_accuracy: 0.9242\n",
      "Epoch 15/50\n",
      "76/76 [==============================] - 0s 4ms/step - loss: 0.2694 - accuracy: 0.9093 - val_loss: 0.2645 - val_accuracy: 0.9193\n",
      "Epoch 16/50\n",
      "76/76 [==============================] - 0s 4ms/step - loss: 0.2580 - accuracy: 0.9093 - val_loss: 0.2185 - val_accuracy: 0.9275\n",
      "Epoch 17/50\n",
      "76/76 [==============================] - 0s 4ms/step - loss: 0.2614 - accuracy: 0.9138 - val_loss: 0.2360 - val_accuracy: 0.9242\n",
      "Epoch 18/50\n",
      "76/76 [==============================] - 0s 4ms/step - loss: 0.2620 - accuracy: 0.9101 - val_loss: 0.2520 - val_accuracy: 0.9160\n",
      "Epoch 19/50\n",
      "76/76 [==============================] - 0s 4ms/step - loss: 0.2462 - accuracy: 0.9229 - val_loss: 0.2499 - val_accuracy: 0.9127\n",
      "Epoch 20/50\n",
      "76/76 [==============================] - 0s 4ms/step - loss: 0.2600 - accuracy: 0.9093 - val_loss: 0.2234 - val_accuracy: 0.9226\n",
      "Epoch 21/50\n",
      "76/76 [==============================] - 0s 4ms/step - loss: 0.2367 - accuracy: 0.9188 - val_loss: 0.2219 - val_accuracy: 0.9259\n",
      "Epoch 22/50\n",
      "76/76 [==============================] - 0s 4ms/step - loss: 0.2483 - accuracy: 0.9180 - val_loss: 0.2261 - val_accuracy: 0.9226\n",
      "Epoch 23/50\n",
      "76/76 [==============================] - 0s 4ms/step - loss: 0.2364 - accuracy: 0.9180 - val_loss: 0.2212 - val_accuracy: 0.9292\n",
      "Epoch 24/50\n",
      "76/76 [==============================] - 0s 4ms/step - loss: 0.2471 - accuracy: 0.9180 - val_loss: 0.2348 - val_accuracy: 0.9308\n",
      "Epoch 25/50\n",
      "76/76 [==============================] - 0s 4ms/step - loss: 0.2387 - accuracy: 0.9209 - val_loss: 0.2518 - val_accuracy: 0.9061\n",
      "Epoch 26/50\n",
      "76/76 [==============================] - 0s 4ms/step - loss: 0.2411 - accuracy: 0.9200 - val_loss: 0.2150 - val_accuracy: 0.9341\n",
      "Epoch 27/50\n",
      "76/76 [==============================] - 0s 4ms/step - loss: 0.2370 - accuracy: 0.9192 - val_loss: 0.2314 - val_accuracy: 0.9226\n",
      "Epoch 28/50\n",
      "76/76 [==============================] - 0s 4ms/step - loss: 0.2240 - accuracy: 0.9188 - val_loss: 0.2889 - val_accuracy: 0.9077\n",
      "Epoch 29/50\n",
      "76/76 [==============================] - 0s 4ms/step - loss: 0.2370 - accuracy: 0.9184 - val_loss: 0.2337 - val_accuracy: 0.9259\n",
      "Epoch 30/50\n",
      "76/76 [==============================] - 0s 4ms/step - loss: 0.2453 - accuracy: 0.9171 - val_loss: 0.2178 - val_accuracy: 0.9226\n",
      "Epoch 31/50\n",
      "76/76 [==============================] - 0s 4ms/step - loss: 0.2393 - accuracy: 0.9258 - val_loss: 0.2274 - val_accuracy: 0.9325\n",
      "Epoch 32/50\n",
      "76/76 [==============================] - 0s 4ms/step - loss: 0.2636 - accuracy: 0.9085 - val_loss: 0.2176 - val_accuracy: 0.9226\n",
      "Epoch 33/50\n",
      "76/76 [==============================] - 0s 4ms/step - loss: 0.2285 - accuracy: 0.9225 - val_loss: 0.2004 - val_accuracy: 0.9325\n",
      "Epoch 34/50\n",
      "76/76 [==============================] - 0s 4ms/step - loss: 0.2527 - accuracy: 0.9147 - val_loss: 0.2057 - val_accuracy: 0.9292\n",
      "Epoch 35/50\n",
      "76/76 [==============================] - 0s 4ms/step - loss: 0.2118 - accuracy: 0.9287 - val_loss: 0.2307 - val_accuracy: 0.9226\n",
      "Epoch 36/50\n",
      "76/76 [==============================] - 0s 4ms/step - loss: 0.2239 - accuracy: 0.9217 - val_loss: 0.2249 - val_accuracy: 0.9275\n",
      "Epoch 37/50\n",
      "76/76 [==============================] - 0s 4ms/step - loss: 0.2134 - accuracy: 0.9308 - val_loss: 0.2106 - val_accuracy: 0.9226\n",
      "Epoch 38/50\n",
      "76/76 [==============================] - 0s 4ms/step - loss: 0.2084 - accuracy: 0.9279 - val_loss: 0.2106 - val_accuracy: 0.9357\n",
      "Epoch 39/50\n",
      "76/76 [==============================] - 0s 4ms/step - loss: 0.2053 - accuracy: 0.9291 - val_loss: 0.1865 - val_accuracy: 0.9357\n",
      "Epoch 40/50\n",
      "76/76 [==============================] - 0s 4ms/step - loss: 0.2147 - accuracy: 0.9291 - val_loss: 0.1953 - val_accuracy: 0.9292\n",
      "Epoch 41/50\n",
      "76/76 [==============================] - 0s 4ms/step - loss: 0.2097 - accuracy: 0.9258 - val_loss: 0.2230 - val_accuracy: 0.9160\n",
      "Epoch 42/50\n",
      "76/76 [==============================] - 0s 4ms/step - loss: 0.2075 - accuracy: 0.9242 - val_loss: 0.2102 - val_accuracy: 0.9259\n",
      "Epoch 43/50\n",
      "76/76 [==============================] - 0s 4ms/step - loss: 0.2148 - accuracy: 0.9237 - val_loss: 0.2135 - val_accuracy: 0.9275\n",
      "Epoch 44/50\n",
      "76/76 [==============================] - 0s 4ms/step - loss: 0.2150 - accuracy: 0.9242 - val_loss: 0.1796 - val_accuracy: 0.9390\n",
      "Epoch 45/50\n",
      "76/76 [==============================] - 0s 4ms/step - loss: 0.2140 - accuracy: 0.9340 - val_loss: 0.2354 - val_accuracy: 0.9209\n",
      "Epoch 46/50\n",
      "76/76 [==============================] - 0s 4ms/step - loss: 0.2100 - accuracy: 0.9279 - val_loss: 0.2104 - val_accuracy: 0.9275\n",
      "Epoch 47/50\n",
      "76/76 [==============================] - 0s 4ms/step - loss: 0.1973 - accuracy: 0.9283 - val_loss: 0.1985 - val_accuracy: 0.9209\n",
      "Epoch 48/50\n",
      "76/76 [==============================] - 0s 4ms/step - loss: 0.2016 - accuracy: 0.9291 - val_loss: 0.1975 - val_accuracy: 0.9357\n",
      "Epoch 49/50\n",
      "76/76 [==============================] - 0s 4ms/step - loss: 0.2057 - accuracy: 0.9291 - val_loss: 0.2042 - val_accuracy: 0.9275\n",
      "Epoch 50/50\n",
      "76/76 [==============================] - 0s 4ms/step - loss: 0.1970 - accuracy: 0.9316 - val_loss: 0.2027 - val_accuracy: 0.9259\n"
     ]
    }
   ],
   "source": [
    "# entrenar el modelo\n",
    "history = model.fit(X_train, y_train, epochs=50, batch_size=32, validation_data=(X_test, y_test))\n"
   ],
   "metadata": {
    "collapsed": false,
    "ExecuteTime": {
     "start_time": "2023-04-20T08:14:22.548223Z",
     "end_time": "2023-04-20T08:14:40.810185Z"
    }
   }
  },
  {
   "cell_type": "code",
   "execution_count": 15,
   "outputs": [
    {
     "data": {
      "text/plain": "<Figure size 640x480 with 1 Axes>",
      "image/png": "[encoded data removed]"
     },
     "metadata": {},
     "output_type": "display_data"
    }
   ],
   "source": [
    "# graficar la precisión de entrenamiento y prueba\n",
    "plt.plot(history.history['accuracy'], label='train')\n",
    "plt.plot(history.history['val_accuracy'], label='test')\n",
    "plt.title('Model Accuracy')\n",
    "plt.xlabel('Epoch')\n",
    "plt.ylabel('Accuracy')\n",
    "plt.legend()\n",
    "plt.show()\n"
   ],
   "metadata": {
    "collapsed": false,
    "ExecuteTime": {
     "start_time": "2023-04-20T08:14:43.063093Z",
     "end_time": "2023-04-20T08:14:43.252618Z"
    }
   }
  },
  {
   "cell_type": "code",
   "execution_count": 16,
   "outputs": [
    {
     "name": "stdout",
     "output_type": "stream",
     "text": [
      "nombres_etiquetas\n",
      "Planetary Nebulae    1.0\n",
      "Red Giants           2.0\n",
      "Symbiotics           0.0\n",
      "Name: codificado, dtype: float64\n"
     ]
    }
   ],
   "source": [
    "y=df['id']\n",
    "import pandas as pd\n",
    "from sklearn.preprocessing import LabelEncoder\n",
    "\n",
    "df = pd.DataFrame(y)\n",
    "encoder = LabelEncoder()\n",
    "df['codificado'] = encoder.fit_transform(df['id'])\n",
    "\n",
    "nombres_etiquetas = encoder.classes_\n",
    "nuevos_nombres = ['Symbiotics', 'Planetary Nebulae', 'Red Giants']\n",
    "nombres_etiquetas_dict = {nombres_etiquetas[i]: nuevos_nombres[i] for i in range(len(nombres_etiquetas))}\n",
    "df['nombres_etiquetas'] = df['id'].map(nombres_etiquetas_dict)\n",
    "\n",
    "df_agrupado = df.groupby('nombres_etiquetas')['codificado'].mean()\n",
    "print(df_agrupado)"
   ],
   "metadata": {
    "collapsed": false,
    "ExecuteTime": {
     "start_time": "2023-04-20T08:14:51.984046Z",
     "end_time": "2023-04-20T08:14:52.041023Z"
    }
   }
  },
  {
   "cell_type": "code",
   "execution_count": 17,
   "outputs": [
    {
     "name": "stdout",
     "output_type": "stream",
     "text": [
      "19/19 [==============================] - 0s 2ms/step\n",
      "[[189   3   7]\n",
      " [ 11 168  24]\n",
      " [  0   0 205]]\n"
     ]
    }
   ],
   "source": [
    "# predecir las probabilidades para los datos de prueba\n",
    "y_probs = model.predict(X_test)\n",
    "y_pred = np.argmax(y_probs, axis=-1)\n",
    "cm = confusion_matrix(y_test, y_pred)\n",
    "print(cm)"
   ],
   "metadata": {
    "collapsed": false,
    "ExecuteTime": {
     "start_time": "2023-04-20T08:15:00.095651Z",
     "end_time": "2023-04-20T08:15:00.979630Z"
    }
   }
  },
  {
   "cell_type": "code",
   "execution_count": 18,
   "outputs": [
    {
     "name": "stdout",
     "output_type": "stream",
     "text": [
      "              precision    recall  f1-score   support\n",
      "\n",
      "           0     0.9450    0.9497    0.9474       199\n",
      "           1     0.9825    0.8276    0.8984       203\n",
      "           2     0.8686    1.0000    0.9297       205\n",
      "\n",
      "    accuracy                         0.9259       607\n",
      "   macro avg     0.9320    0.9258    0.9252       607\n",
      "weighted avg     0.9317    0.9259    0.9250       607\n",
      "\n"
     ]
    }
   ],
   "source": [
    "report = classification_report(y_test, y_pred, digits=4)\n",
    "print(report)"
   ],
   "metadata": {
    "collapsed": false,
    "ExecuteTime": {
     "start_time": "2023-04-20T08:15:11.621180Z",
     "end_time": "2023-04-20T08:15:11.637213Z"
    }
   }
  },
  {
   "cell_type": "code",
   "execution_count": 19,
   "outputs": [
    {
     "name": "stdout",
     "output_type": "stream",
     "text": [
      "Accuracy: 0.9258649093904449\n"
     ]
    }
   ],
   "source": [
    "accuracy = accuracy_score(y_test, y_pred)\n",
    "print('Accuracy:', accuracy)"
   ],
   "metadata": {
    "collapsed": false,
    "ExecuteTime": {
     "start_time": "2023-04-20T08:15:25.280447Z",
     "end_time": "2023-04-20T08:15:25.307920Z"
    }
   }
  },
  {
   "cell_type": "code",
   "execution_count": 20,
   "outputs": [
    {
     "name": "stdout",
     "output_type": "stream",
     "text": [
      "size of the splits\n",
      "X_train:  (2426, 343)\n",
      "X_test:  (607, 343)\n",
      "y_test:  607\n",
      "y_pred:  607\n"
     ]
    }
   ],
   "source": [
    "print(\"size of the splits\")\n",
    "print(\"X_train: \",  X_train.shape)\n",
    "print(\"X_test: \",  X_test.shape)\n",
    "print(\"y_test: \",  y_test.size)\n",
    "print(\"y_pred: \",  y_pred.size)"
   ],
   "metadata": {
    "collapsed": false,
    "ExecuteTime": {
     "start_time": "2023-04-20T08:15:32.786115Z",
     "end_time": "2023-04-20T08:15:32.830823Z"
    }
   }
  },
  {
   "cell_type": "code",
   "execution_count": null,
   "outputs": [],
   "source": [],
   "metadata": {
    "collapsed": false
   }
  }
 ],
 "metadata": {
  "kernelspec": {
   "display_name": "Python 3",
   "language": "python",
   "name": "python3"
  },
  "language_info": {
   "codemirror_mode": {
    "name": "ipython",
    "version": 2
   },
   "file_extension": ".py",
   "mimetype": "text/x-python",
   "name": "python",
   "nbconvert_exporter": "python",
   "pygments_lexer": "ipython2",
   "version": "2.7.6"
  }
 },
 "nbformat": 4,
 "nbformat_minor": 0
}
