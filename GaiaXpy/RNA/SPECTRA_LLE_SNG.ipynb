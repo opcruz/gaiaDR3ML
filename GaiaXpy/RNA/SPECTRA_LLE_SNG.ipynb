{
 "cells": [
  {
   "cell_type": "code",
   "execution_count": 23,
   "metadata": {
    "collapsed": true,
    "ExecuteTime": {
     "start_time": "2023-04-23T18:21:21.216922Z",
     "end_time": "2023-04-23T18:21:21.281175Z"
    }
   },
   "outputs": [],
   "source": [
    "import pandas as pd\n",
    "import tensorflow as tf\n",
    "from sklearn.model_selection import train_test_split\n",
    "from sklearn.preprocessing import LabelEncoder\n",
    "import matplotlib.pyplot as plt\n",
    "\n",
    "# cargar los datos\n",
    "df = pd.read_csv('spectra_lle_SNG.csv')\n",
    "\n",
    "# separar las características (X) y la etiqueta (y)\n",
    "X = df.drop('id', axis=1)\n",
    "y = df['id']\n",
    "\n",
    "# codificar la etiqueta (y)\n",
    "encoder = LabelEncoder()\n",
    "y = encoder.fit_transform(y)\n",
    "\n",
    "# dividir el conjunto de datos en entrenamiento y prueba\n",
    "X_train, X_test, y_train, y_test = train_test_split(X, y, test_size=0.2, random_state=1, stratify=y)\n"
   ]
  },
  {
   "cell_type": "code",
   "execution_count": 24,
   "outputs": [
    {
     "data": {
      "text/plain": "array([1, 2, 3], dtype=int64)"
     },
     "execution_count": 24,
     "metadata": {},
     "output_type": "execute_result"
    }
   ],
   "source": [
    "df['id'].unique()"
   ],
   "metadata": {
    "collapsed": false,
    "ExecuteTime": {
     "start_time": "2023-04-23T18:21:22.497028Z",
     "end_time": "2023-04-23T18:21:22.505073Z"
    }
   }
  },
  {
   "cell_type": "code",
   "execution_count": 25,
   "outputs": [],
   "source": [
    "# crear el modelo\n",
    "model = tf.keras.models.Sequential([\n",
    "  tf.keras.layers.Dense(64, activation='relu'),\n",
    "  tf.keras.layers.Dropout(0.4),\n",
    "  tf.keras.layers.Dense(32, activation='relu'),\n",
    "  tf.keras.layers.Dropout(0.3),\n",
    "  tf.keras.layers.Dense(3, activation='softmax')\n",
    "])\n",
    "\n",
    "# compilar el modelo\n",
    "model.compile(optimizer='adam',\n",
    "              loss='sparse_categorical_crossentropy',\n",
    "              metrics=['accuracy'])\n",
    "\n"
   ],
   "metadata": {
    "collapsed": false,
    "ExecuteTime": {
     "start_time": "2023-04-23T18:21:23.045211Z",
     "end_time": "2023-04-23T18:21:23.067948Z"
    }
   }
  },
  {
   "cell_type": "code",
   "execution_count": 26,
   "outputs": [
    {
     "name": "stdout",
     "output_type": "stream",
     "text": [
      "Epoch 1/50\n",
      "319/319 [==============================] - 2s 4ms/step - loss: 0.3525 - accuracy: 0.9492 - val_loss: 0.2026 - val_accuracy: 0.9517\n",
      "Epoch 2/50\n",
      "319/319 [==============================] - 1s 4ms/step - loss: 0.1958 - accuracy: 0.9517 - val_loss: 0.1484 - val_accuracy: 0.9521\n",
      "Epoch 3/50\n",
      "319/319 [==============================] - 1s 4ms/step - loss: 0.1286 - accuracy: 0.9571 - val_loss: 0.0860 - val_accuracy: 0.9608\n",
      "Epoch 4/50\n",
      "319/319 [==============================] - 1s 3ms/step - loss: 0.0865 - accuracy: 0.9686 - val_loss: 0.0599 - val_accuracy: 0.9725\n",
      "Epoch 5/50\n",
      "319/319 [==============================] - 1s 3ms/step - loss: 0.0673 - accuracy: 0.9760 - val_loss: 0.0453 - val_accuracy: 0.9851\n",
      "Epoch 6/50\n",
      "319/319 [==============================] - 1s 4ms/step - loss: 0.0546 - accuracy: 0.9792 - val_loss: 0.0390 - val_accuracy: 0.9843\n",
      "Epoch 7/50\n",
      "319/319 [==============================] - 1s 3ms/step - loss: 0.0491 - accuracy: 0.9814 - val_loss: 0.0367 - val_accuracy: 0.9843\n",
      "Epoch 8/50\n",
      "319/319 [==============================] - 1s 3ms/step - loss: 0.0470 - accuracy: 0.9815 - val_loss: 0.0339 - val_accuracy: 0.9851\n",
      "Epoch 9/50\n",
      "319/319 [==============================] - 1s 3ms/step - loss: 0.0409 - accuracy: 0.9843 - val_loss: 0.0329 - val_accuracy: 0.9855\n",
      "Epoch 10/50\n",
      "319/319 [==============================] - 1s 3ms/step - loss: 0.0391 - accuracy: 0.9840 - val_loss: 0.0319 - val_accuracy: 0.9843\n",
      "Epoch 11/50\n",
      "319/319 [==============================] - 1s 3ms/step - loss: 0.0366 - accuracy: 0.9847 - val_loss: 0.0299 - val_accuracy: 0.9867\n",
      "Epoch 12/50\n",
      "319/319 [==============================] - 1s 3ms/step - loss: 0.0390 - accuracy: 0.9843 - val_loss: 0.0289 - val_accuracy: 0.9878\n",
      "Epoch 13/50\n",
      "319/319 [==============================] - 1s 3ms/step - loss: 0.0349 - accuracy: 0.9867 - val_loss: 0.0298 - val_accuracy: 0.9843\n",
      "Epoch 14/50\n",
      "319/319 [==============================] - 1s 3ms/step - loss: 0.0318 - accuracy: 0.9880 - val_loss: 0.0280 - val_accuracy: 0.9867\n",
      "Epoch 15/50\n",
      "319/319 [==============================] - 1s 3ms/step - loss: 0.0313 - accuracy: 0.9866 - val_loss: 0.0269 - val_accuracy: 0.9863\n",
      "Epoch 16/50\n",
      "319/319 [==============================] - 2s 6ms/step - loss: 0.0305 - accuracy: 0.9878 - val_loss: 0.0268 - val_accuracy: 0.9859\n",
      "Epoch 17/50\n",
      "319/319 [==============================] - 2s 5ms/step - loss: 0.0277 - accuracy: 0.9892 - val_loss: 0.0256 - val_accuracy: 0.9859\n",
      "Epoch 18/50\n",
      "319/319 [==============================] - 1s 3ms/step - loss: 0.0287 - accuracy: 0.9880 - val_loss: 0.0263 - val_accuracy: 0.9882\n",
      "Epoch 19/50\n",
      "319/319 [==============================] - 1s 3ms/step - loss: 0.0284 - accuracy: 0.9882 - val_loss: 0.0258 - val_accuracy: 0.9863\n",
      "Epoch 20/50\n",
      "319/319 [==============================] - 2s 6ms/step - loss: 0.0284 - accuracy: 0.9866 - val_loss: 0.0252 - val_accuracy: 0.9890\n",
      "Epoch 21/50\n",
      "319/319 [==============================] - 1s 4ms/step - loss: 0.0276 - accuracy: 0.9879 - val_loss: 0.0238 - val_accuracy: 0.9882\n",
      "Epoch 22/50\n",
      "319/319 [==============================] - 2s 5ms/step - loss: 0.0263 - accuracy: 0.9897 - val_loss: 0.0242 - val_accuracy: 0.9859\n",
      "Epoch 23/50\n",
      "319/319 [==============================] - 1s 4ms/step - loss: 0.0250 - accuracy: 0.9893 - val_loss: 0.0229 - val_accuracy: 0.9890\n",
      "Epoch 24/50\n",
      "319/319 [==============================] - 1s 4ms/step - loss: 0.0262 - accuracy: 0.9887 - val_loss: 0.0226 - val_accuracy: 0.9878\n",
      "Epoch 25/50\n",
      "319/319 [==============================] - 1s 3ms/step - loss: 0.0247 - accuracy: 0.9902 - val_loss: 0.0233 - val_accuracy: 0.9894\n",
      "Epoch 26/50\n",
      "319/319 [==============================] - 1s 4ms/step - loss: 0.0235 - accuracy: 0.9906 - val_loss: 0.0224 - val_accuracy: 0.9886\n",
      "Epoch 27/50\n",
      "319/319 [==============================] - 1s 3ms/step - loss: 0.0235 - accuracy: 0.9903 - val_loss: 0.0222 - val_accuracy: 0.9882\n",
      "Epoch 28/50\n",
      "319/319 [==============================] - 1s 3ms/step - loss: 0.0244 - accuracy: 0.9898 - val_loss: 0.0214 - val_accuracy: 0.9886\n",
      "Epoch 29/50\n",
      "319/319 [==============================] - 1s 3ms/step - loss: 0.0224 - accuracy: 0.9907 - val_loss: 0.0203 - val_accuracy: 0.9910\n",
      "Epoch 30/50\n",
      "319/319 [==============================] - 1s 3ms/step - loss: 0.0237 - accuracy: 0.9901 - val_loss: 0.0215 - val_accuracy: 0.9894\n",
      "Epoch 31/50\n",
      "319/319 [==============================] - 1s 3ms/step - loss: 0.0241 - accuracy: 0.9913 - val_loss: 0.0208 - val_accuracy: 0.9902\n",
      "Epoch 32/50\n",
      "319/319 [==============================] - 1s 3ms/step - loss: 0.0202 - accuracy: 0.9927 - val_loss: 0.0201 - val_accuracy: 0.9910\n",
      "Epoch 33/50\n",
      "319/319 [==============================] - 1s 3ms/step - loss: 0.0225 - accuracy: 0.9906 - val_loss: 0.0198 - val_accuracy: 0.9902\n",
      "Epoch 34/50\n",
      "319/319 [==============================] - 1s 4ms/step - loss: 0.0196 - accuracy: 0.9924 - val_loss: 0.0197 - val_accuracy: 0.9902\n",
      "Epoch 35/50\n",
      "319/319 [==============================] - 1s 4ms/step - loss: 0.0224 - accuracy: 0.9922 - val_loss: 0.0197 - val_accuracy: 0.9918\n",
      "Epoch 36/50\n",
      "319/319 [==============================] - 2s 6ms/step - loss: 0.0230 - accuracy: 0.9905 - val_loss: 0.0199 - val_accuracy: 0.9902\n",
      "Epoch 37/50\n",
      "319/319 [==============================] - 1s 3ms/step - loss: 0.0220 - accuracy: 0.9925 - val_loss: 0.0199 - val_accuracy: 0.9898\n",
      "Epoch 38/50\n",
      "319/319 [==============================] - 2s 6ms/step - loss: 0.0198 - accuracy: 0.9909 - val_loss: 0.0195 - val_accuracy: 0.9906\n",
      "Epoch 39/50\n",
      "319/319 [==============================] - 3s 8ms/step - loss: 0.0191 - accuracy: 0.9924 - val_loss: 0.0194 - val_accuracy: 0.9910\n",
      "Epoch 40/50\n",
      "319/319 [==============================] - 2s 6ms/step - loss: 0.0192 - accuracy: 0.9930 - val_loss: 0.0179 - val_accuracy: 0.9929\n",
      "Epoch 41/50\n",
      "319/319 [==============================] - 1s 4ms/step - loss: 0.0203 - accuracy: 0.9918 - val_loss: 0.0177 - val_accuracy: 0.9922\n",
      "Epoch 42/50\n",
      "319/319 [==============================] - 1s 3ms/step - loss: 0.0190 - accuracy: 0.9936 - val_loss: 0.0176 - val_accuracy: 0.9925\n",
      "Epoch 43/50\n",
      "319/319 [==============================] - 1s 3ms/step - loss: 0.0195 - accuracy: 0.9927 - val_loss: 0.0180 - val_accuracy: 0.9918\n",
      "Epoch 44/50\n",
      "319/319 [==============================] - 1s 3ms/step - loss: 0.0186 - accuracy: 0.9938 - val_loss: 0.0178 - val_accuracy: 0.9914\n",
      "Epoch 45/50\n",
      "319/319 [==============================] - 1s 3ms/step - loss: 0.0186 - accuracy: 0.9929 - val_loss: 0.0189 - val_accuracy: 0.9910\n",
      "Epoch 46/50\n",
      "319/319 [==============================] - 1s 3ms/step - loss: 0.0179 - accuracy: 0.9938 - val_loss: 0.0176 - val_accuracy: 0.9925\n",
      "Epoch 47/50\n",
      "319/319 [==============================] - 1s 3ms/step - loss: 0.0178 - accuracy: 0.9944 - val_loss: 0.0189 - val_accuracy: 0.9914\n",
      "Epoch 48/50\n",
      "319/319 [==============================] - 1s 3ms/step - loss: 0.0165 - accuracy: 0.9938 - val_loss: 0.0190 - val_accuracy: 0.9918\n",
      "Epoch 49/50\n",
      "319/319 [==============================] - 1s 3ms/step - loss: 0.0170 - accuracy: 0.9943 - val_loss: 0.0163 - val_accuracy: 0.9925\n",
      "Epoch 50/50\n",
      "319/319 [==============================] - 1s 4ms/step - loss: 0.0189 - accuracy: 0.9930 - val_loss: 0.0183 - val_accuracy: 0.9914\n"
     ]
    }
   ],
   "source": [
    "# entrenar el modelo\n",
    "history = model.fit(X_train, y_train, epochs=50, batch_size=32, validation_data=(X_test, y_test))\n"
   ],
   "metadata": {
    "collapsed": false,
    "ExecuteTime": {
     "start_time": "2023-04-23T18:21:23.612187Z",
     "end_time": "2023-04-23T18:22:24.006191Z"
    }
   }
  },
  {
   "cell_type": "code",
   "execution_count": 27,
   "outputs": [
    {
     "data": {
      "text/plain": "<Figure size 640x480 with 1 Axes>",
      "image/png": "[encoded data removed]"
     },
     "metadata": {},
     "output_type": "display_data"
    }
   ],
   "source": [
    "# graficar la precisión de entrenamiento y prueba\n",
    "plt.plot(history.history['accuracy'], label='train')\n",
    "plt.plot(history.history['val_accuracy'], label='test')\n",
    "plt.title('Model Accuracy')\n",
    "plt.xlabel('Epoch')\n",
    "plt.ylabel('Accuracy')\n",
    "plt.legend()\n",
    "plt.show()\n"
   ],
   "metadata": {
    "collapsed": false,
    "ExecuteTime": {
     "start_time": "2023-04-23T18:22:24.008708Z",
     "end_time": "2023-04-23T18:22:24.130470Z"
    }
   }
  },
  {
   "cell_type": "code",
   "execution_count": 28,
   "outputs": [
    {
     "data": {
      "text/plain": "[<matplotlib.lines.Line2D at 0x1f506f7eca0>]"
     },
     "execution_count": 28,
     "metadata": {},
     "output_type": "execute_result"
    },
    {
     "data": {
      "text/plain": "<Figure size 640x480 with 1 Axes>",
      "image/png": "[encoded data removed]"
     },
     "metadata": {},
     "output_type": "display_data"
    }
   ],
   "source": [
    "plt.xlabel(\"# Epoch\")\n",
    "plt.ylabel(\"Magnitude of loss\")\n",
    "plt.plot(history.history[\"loss\"])"
   ],
   "metadata": {
    "collapsed": false,
    "ExecuteTime": {
     "start_time": "2023-04-23T18:23:25.729998Z",
     "end_time": "2023-04-23T18:23:25.831526Z"
    }
   }
  },
  {
   "cell_type": "code",
   "execution_count": 29,
   "outputs": [
    {
     "name": "stdout",
     "output_type": "stream",
     "text": [
      "nombres_etiquetas\n",
      "Planetary Nebulae    1.0\n",
      "Red Giants           2.0\n",
      "Symbiotics           0.0\n",
      "Name: codificado, dtype: float64\n"
     ]
    }
   ],
   "source": [
    "y=df['id']\n",
    "import pandas as pd\n",
    "from sklearn.preprocessing import LabelEncoder\n",
    "\n",
    "df = pd.DataFrame(y)\n",
    "encoder = LabelEncoder()\n",
    "df['codificado'] = encoder.fit_transform(df['id'])\n",
    "\n",
    "nombres_etiquetas = encoder.classes_\n",
    "nuevos_nombres = ['Symbiotics', 'Planetary Nebulae', 'Red Giants']\n",
    "nombres_etiquetas_dict = {nombres_etiquetas[i]: nuevos_nombres[i] for i in range(len(nombres_etiquetas))}\n",
    "df['nombres_etiquetas'] = df['id'].map(nombres_etiquetas_dict)\n",
    "\n",
    "df_agrupado = df.groupby('nombres_etiquetas')['codificado'].mean()\n",
    "print(df_agrupado)"
   ],
   "metadata": {
    "collapsed": false,
    "ExecuteTime": {
     "start_time": "2023-04-23T18:23:34.059139Z",
     "end_time": "2023-04-23T18:23:34.071851Z"
    }
   }
  },
  {
   "cell_type": "code",
   "execution_count": 30,
   "outputs": [
    {
     "name": "stdout",
     "output_type": "stream",
     "text": [
      "80/80 [==============================] - 0s 2ms/step\n",
      "[[  22   16    0]\n",
      " [   3   79    3]\n",
      " [   0    0 2425]]\n"
     ]
    }
   ],
   "source": [
    "import numpy as np\n",
    "from sklearn.metrics import confusion_matrix\n",
    "\n",
    "# predecir las probabilidades para los datos de prueba\n",
    "y_probs = model.predict(X_test)\n",
    "y_pred = np.argmax(y_probs, axis=-1)\n",
    "cm = confusion_matrix(y_test, y_pred)\n",
    "print(cm)\n"
   ],
   "metadata": {
    "collapsed": false,
    "ExecuteTime": {
     "start_time": "2023-04-23T18:23:34.771781Z",
     "end_time": "2023-04-23T18:23:35.076317Z"
    }
   }
  },
  {
   "cell_type": "code",
   "execution_count": 31,
   "outputs": [
    {
     "name": "stdout",
     "output_type": "stream",
     "text": [
      "              precision    recall  f1-score   support\n",
      "\n",
      "           0     0.8800    0.5789    0.6984        38\n",
      "           1     0.8316    0.9294    0.8778        85\n",
      "           2     0.9988    1.0000    0.9994      2425\n",
      "\n",
      "    accuracy                         0.9914      2548\n",
      "   macro avg     0.9034    0.8361    0.8585      2548\n",
      "weighted avg     0.9914    0.9914    0.9908      2548\n",
      "\n"
     ]
    }
   ],
   "source": [
    "from sklearn.metrics import classification_report\n",
    "report = classification_report(y_test, y_pred, digits=4)\n",
    "print(report)"
   ],
   "metadata": {
    "collapsed": false,
    "ExecuteTime": {
     "start_time": "2023-04-23T18:23:36.279249Z",
     "end_time": "2023-04-23T18:23:36.292869Z"
    }
   }
  },
  {
   "cell_type": "code",
   "execution_count": 32,
   "outputs": [
    {
     "name": "stdout",
     "output_type": "stream",
     "text": [
      "Accuracy: 0.9913657770800628\n"
     ]
    }
   ],
   "source": [
    "from sklearn.metrics import  accuracy_score\n",
    "accuracy = accuracy_score(y_test, y_pred)\n",
    "print('Accuracy:', accuracy)"
   ],
   "metadata": {
    "collapsed": false,
    "ExecuteTime": {
     "start_time": "2023-04-23T18:23:37.994103Z",
     "end_time": "2023-04-23T18:23:38.015511Z"
    }
   }
  },
  {
   "cell_type": "code",
   "execution_count": 33,
   "outputs": [
    {
     "name": "stdout",
     "output_type": "stream",
     "text": [
      "size of the splits\n",
      "X_train:  (10189, 15)\n",
      "X_test:  (2548, 15)\n",
      "y_test:  2548\n",
      "y_pred:  2548\n"
     ]
    }
   ],
   "source": [
    "print(\"size of the splits\")\n",
    "print(\"X_train: \",  X_train.shape)\n",
    "print(\"X_test: \",  X_test.shape)\n",
    "print(\"y_test: \",  y_test.size)\n",
    "print(\"y_pred: \",  y_pred.size)"
   ],
   "metadata": {
    "collapsed": false,
    "ExecuteTime": {
     "start_time": "2023-04-23T18:23:43.383891Z",
     "end_time": "2023-04-23T18:23:43.390046Z"
    }
   }
  },
  {
   "cell_type": "code",
   "execution_count": 34,
   "outputs": [],
   "source": [
    "model.save('LLE_RNA_SNG.h5')"
   ],
   "metadata": {
    "collapsed": false,
    "ExecuteTime": {
     "start_time": "2023-04-23T18:23:44.283028Z",
     "end_time": "2023-04-23T18:23:44.314606Z"
    }
   }
  },
  {
   "cell_type": "code",
   "execution_count": null,
   "outputs": [],
   "source": [],
   "metadata": {
    "collapsed": false
   }
  }
 ],
 "metadata": {
  "kernelspec": {
   "display_name": "Python 3",
   "language": "python",
   "name": "python3"
  },
  "language_info": {
   "codemirror_mode": {
    "name": "ipython",
    "version": 2
   },
   "file_extension": ".py",
   "mimetype": "text/x-python",
   "name": "python",
   "nbconvert_exporter": "python",
   "pygments_lexer": "ipython2",
   "version": "2.7.6"
  }
 },
 "nbformat": 4,
 "nbformat_minor": 0
}
