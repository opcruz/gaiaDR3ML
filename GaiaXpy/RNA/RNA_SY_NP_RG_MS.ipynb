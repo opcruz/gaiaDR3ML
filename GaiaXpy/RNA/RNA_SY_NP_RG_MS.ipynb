{
 "cells": [
  {
   "cell_type": "code",
   "execution_count": 1,
   "outputs": [],
   "source": [
    "import pandas as pd\n",
    "import tensorflow as tf\n",
    "from sklearn.model_selection import train_test_split\n",
    "from sklearn.preprocessing import LabelEncoder\n",
    "import matplotlib.pyplot as plt\n",
    "\n",
    "# cargar los datos\n",
    "df = pd.read_csv('../../DATA/DR3/espectros_normalizados_SNGM.csv')\n",
    "\n",
    "# separar las características (X) y la etiqueta (y)\n",
    "X = df.drop('id', axis=1)\n",
    "y = df['id']\n",
    "\n",
    "# codificar la etiqueta (y)\n",
    "encoder = LabelEncoder()\n",
    "y = encoder.fit_transform(y)\n",
    "\n",
    "# dividir el conjunto de datos en entrenamiento y prueba\n",
    "X_train, X_test, y_train, y_test = train_test_split(X, y, test_size=0.2, random_state=1, stratify=y)\n"
   ],
   "metadata": {
    "collapsed": false,
    "ExecuteTime": {
     "start_time": "2023-04-18T12:10:54.760450Z",
     "end_time": "2023-04-18T12:11:01.117743Z"
    }
   }
  },
  {
   "cell_type": "code",
   "execution_count": 2,
   "outputs": [
    {
     "data": {
      "text/plain": "array([1, 2, 3, 4], dtype=int64)"
     },
     "execution_count": 2,
     "metadata": {},
     "output_type": "execute_result"
    }
   ],
   "source": [
    "df['id'].unique()"
   ],
   "metadata": {
    "collapsed": false,
    "ExecuteTime": {
     "start_time": "2023-04-18T12:11:04.908627Z",
     "end_time": "2023-04-18T12:11:04.962772Z"
    }
   }
  },
  {
   "cell_type": "code",
   "execution_count": 3,
   "outputs": [],
   "source": [
    "# crear el modelo\n",
    "model = tf.keras.models.Sequential([\n",
    "  tf.keras.layers.Dense(323, activation='relu'),\n",
    "  # tf.keras.layers.Dropout(0.4),\n",
    "  tf.keras.layers.Dense(128, activation='relu'),\n",
    "  # tf.keras.layers.Dropout(0.3),\n",
    "  tf.keras.layers.Dense(4, activation='softmax')\n",
    "])\n",
    "\n",
    "# compilar el modelo\n",
    "model.compile(optimizer='adam',\n",
    "              loss='sparse_categorical_crossentropy',\n",
    "              metrics=['accuracy'])\n",
    "\n"
   ],
   "metadata": {
    "collapsed": false,
    "ExecuteTime": {
     "start_time": "2023-04-18T12:11:06.746549Z",
     "end_time": "2023-04-18T12:11:10.139974Z"
    }
   }
  },
  {
   "cell_type": "code",
   "execution_count": 4,
   "outputs": [
    {
     "name": "stdout",
     "output_type": "stream",
     "text": [
      "Epoch 1/50\n",
      "619/619 [==============================] - 3s 3ms/step - loss: 0.2867 - accuracy: 0.9004 - val_loss: 0.2446 - val_accuracy: 0.9147\n",
      "Epoch 2/50\n",
      "619/619 [==============================] - 2s 3ms/step - loss: 0.2268 - accuracy: 0.9223 - val_loss: 0.2162 - val_accuracy: 0.9250\n",
      "Epoch 3/50\n",
      "619/619 [==============================] - 2s 3ms/step - loss: 0.1909 - accuracy: 0.9368 - val_loss: 0.1701 - val_accuracy: 0.9416\n",
      "Epoch 4/50\n",
      "619/619 [==============================] - 2s 3ms/step - loss: 0.1528 - accuracy: 0.9532 - val_loss: 0.1615 - val_accuracy: 0.9551\n",
      "Epoch 5/50\n",
      "619/619 [==============================] - 2s 2ms/step - loss: 0.1381 - accuracy: 0.9567 - val_loss: 0.1460 - val_accuracy: 0.9561\n",
      "Epoch 6/50\n",
      "619/619 [==============================] - 2s 3ms/step - loss: 0.1246 - accuracy: 0.9628 - val_loss: 0.1519 - val_accuracy: 0.9592\n",
      "Epoch 7/50\n",
      "619/619 [==============================] - 2s 3ms/step - loss: 0.1201 - accuracy: 0.9634 - val_loss: 0.1236 - val_accuracy: 0.9636\n",
      "Epoch 8/50\n",
      "619/619 [==============================] - 2s 3ms/step - loss: 0.1206 - accuracy: 0.9627 - val_loss: 0.1152 - val_accuracy: 0.9665\n",
      "Epoch 9/50\n",
      "619/619 [==============================] - 2s 3ms/step - loss: 0.1148 - accuracy: 0.9655 - val_loss: 0.1048 - val_accuracy: 0.9693\n",
      "Epoch 10/50\n",
      "619/619 [==============================] - 2s 3ms/step - loss: 0.1083 - accuracy: 0.9675 - val_loss: 0.1383 - val_accuracy: 0.9638\n",
      "Epoch 11/50\n",
      "619/619 [==============================] - 2s 3ms/step - loss: 0.1113 - accuracy: 0.9663 - val_loss: 0.1953 - val_accuracy: 0.9396\n",
      "Epoch 12/50\n",
      "619/619 [==============================] - 2s 3ms/step - loss: 0.1070 - accuracy: 0.9682 - val_loss: 0.1177 - val_accuracy: 0.9644\n",
      "Epoch 13/50\n",
      "619/619 [==============================] - 2s 3ms/step - loss: 0.1085 - accuracy: 0.9681 - val_loss: 0.1109 - val_accuracy: 0.9675\n",
      "Epoch 14/50\n",
      "619/619 [==============================] - 2s 3ms/step - loss: 0.1074 - accuracy: 0.9682 - val_loss: 0.1360 - val_accuracy: 0.9604\n",
      "Epoch 15/50\n",
      "619/619 [==============================] - 2s 3ms/step - loss: 0.1037 - accuracy: 0.9692 - val_loss: 0.1500 - val_accuracy: 0.9604\n",
      "Epoch 16/50\n",
      "619/619 [==============================] - 2s 3ms/step - loss: 0.1041 - accuracy: 0.9697 - val_loss: 0.1103 - val_accuracy: 0.9745\n",
      "Epoch 17/50\n",
      "619/619 [==============================] - 2s 3ms/step - loss: 0.1012 - accuracy: 0.9695 - val_loss: 0.1060 - val_accuracy: 0.9662\n",
      "Epoch 18/50\n",
      "619/619 [==============================] - 2s 3ms/step - loss: 0.0953 - accuracy: 0.9714 - val_loss: 0.0938 - val_accuracy: 0.9743\n",
      "Epoch 19/50\n",
      "619/619 [==============================] - 2s 4ms/step - loss: 0.0931 - accuracy: 0.9720 - val_loss: 0.0912 - val_accuracy: 0.9772\n",
      "Epoch 20/50\n",
      "619/619 [==============================] - 2s 3ms/step - loss: 0.0916 - accuracy: 0.9730 - val_loss: 0.1250 - val_accuracy: 0.9636\n",
      "Epoch 21/50\n",
      "619/619 [==============================] - 2s 3ms/step - loss: 0.0906 - accuracy: 0.9734 - val_loss: 0.0934 - val_accuracy: 0.9721\n",
      "Epoch 22/50\n",
      "619/619 [==============================] - 2s 3ms/step - loss: 0.0900 - accuracy: 0.9729 - val_loss: 0.1240 - val_accuracy: 0.9766\n",
      "Epoch 23/50\n",
      "619/619 [==============================] - 2s 3ms/step - loss: 0.0875 - accuracy: 0.9734 - val_loss: 0.0851 - val_accuracy: 0.9749\n",
      "Epoch 24/50\n",
      "619/619 [==============================] - 2s 3ms/step - loss: 0.0897 - accuracy: 0.9732 - val_loss: 0.0912 - val_accuracy: 0.9729\n",
      "Epoch 25/50\n",
      "619/619 [==============================] - 2s 3ms/step - loss: 0.0827 - accuracy: 0.9758 - val_loss: 0.0869 - val_accuracy: 0.9743\n",
      "Epoch 26/50\n",
      "619/619 [==============================] - 2s 3ms/step - loss: 0.0802 - accuracy: 0.9760 - val_loss: 0.0882 - val_accuracy: 0.9753\n",
      "Epoch 27/50\n",
      "619/619 [==============================] - 2s 3ms/step - loss: 0.0804 - accuracy: 0.9754 - val_loss: 0.0968 - val_accuracy: 0.9727\n",
      "Epoch 28/50\n",
      "619/619 [==============================] - 2s 3ms/step - loss: 0.0808 - accuracy: 0.9749 - val_loss: 0.1167 - val_accuracy: 0.9673\n",
      "Epoch 29/50\n",
      "619/619 [==============================] - 2s 3ms/step - loss: 0.0807 - accuracy: 0.9759 - val_loss: 0.1341 - val_accuracy: 0.9654\n",
      "Epoch 30/50\n",
      "619/619 [==============================] - 2s 3ms/step - loss: 0.0790 - accuracy: 0.9761 - val_loss: 0.0800 - val_accuracy: 0.9784\n",
      "Epoch 31/50\n",
      "619/619 [==============================] - 2s 2ms/step - loss: 0.0766 - accuracy: 0.9762 - val_loss: 0.0851 - val_accuracy: 0.9739\n",
      "Epoch 32/50\n",
      "619/619 [==============================] - 2s 3ms/step - loss: 0.0798 - accuracy: 0.9761 - val_loss: 0.1111 - val_accuracy: 0.9679\n",
      "Epoch 33/50\n",
      "619/619 [==============================] - 2s 3ms/step - loss: 0.0758 - accuracy: 0.9769 - val_loss: 0.0883 - val_accuracy: 0.9764\n",
      "Epoch 34/50\n",
      "619/619 [==============================] - 2s 3ms/step - loss: 0.0714 - accuracy: 0.9785 - val_loss: 0.1050 - val_accuracy: 0.9743\n",
      "Epoch 35/50\n",
      "619/619 [==============================] - 3s 4ms/step - loss: 0.0734 - accuracy: 0.9788 - val_loss: 0.0910 - val_accuracy: 0.9741\n",
      "Epoch 36/50\n",
      "619/619 [==============================] - 3s 4ms/step - loss: 0.0675 - accuracy: 0.9795 - val_loss: 0.0838 - val_accuracy: 0.9747\n",
      "Epoch 37/50\n",
      "619/619 [==============================] - 3s 5ms/step - loss: 0.0731 - accuracy: 0.9780 - val_loss: 0.1009 - val_accuracy: 0.9727\n",
      "Epoch 38/50\n",
      "619/619 [==============================] - 3s 5ms/step - loss: 0.0685 - accuracy: 0.9797 - val_loss: 0.0929 - val_accuracy: 0.9743\n",
      "Epoch 39/50\n",
      "619/619 [==============================] - 3s 5ms/step - loss: 0.0731 - accuracy: 0.9779 - val_loss: 0.0786 - val_accuracy: 0.9798\n",
      "Epoch 40/50\n",
      "619/619 [==============================] - 3s 5ms/step - loss: 0.0755 - accuracy: 0.9780 - val_loss: 0.0880 - val_accuracy: 0.9764\n",
      "Epoch 41/50\n",
      "619/619 [==============================] - 3s 5ms/step - loss: 0.0695 - accuracy: 0.9795 - val_loss: 0.0780 - val_accuracy: 0.9786\n",
      "Epoch 42/50\n",
      "619/619 [==============================] - 3s 5ms/step - loss: 0.0722 - accuracy: 0.9776 - val_loss: 0.1810 - val_accuracy: 0.9570\n",
      "Epoch 43/50\n",
      "619/619 [==============================] - 3s 5ms/step - loss: 0.0711 - accuracy: 0.9789 - val_loss: 0.0962 - val_accuracy: 0.9772\n",
      "Epoch 44/50\n",
      "619/619 [==============================] - 3s 5ms/step - loss: 0.0657 - accuracy: 0.9805 - val_loss: 0.0864 - val_accuracy: 0.9798\n",
      "Epoch 45/50\n",
      "619/619 [==============================] - 3s 5ms/step - loss: 0.0748 - accuracy: 0.9775 - val_loss: 0.1020 - val_accuracy: 0.9762\n",
      "Epoch 46/50\n",
      "619/619 [==============================] - 3s 6ms/step - loss: 0.0647 - accuracy: 0.9814 - val_loss: 0.1045 - val_accuracy: 0.9745\n",
      "Epoch 47/50\n",
      "619/619 [==============================] - 3s 6ms/step - loss: 0.0624 - accuracy: 0.9818 - val_loss: 0.0786 - val_accuracy: 0.9818\n",
      "Epoch 48/50\n",
      "619/619 [==============================] - 4s 6ms/step - loss: 0.0653 - accuracy: 0.9813 - val_loss: 0.0953 - val_accuracy: 0.9759\n",
      "Epoch 49/50\n",
      "619/619 [==============================] - 3s 5ms/step - loss: 0.0681 - accuracy: 0.9791 - val_loss: 0.0829 - val_accuracy: 0.9804\n",
      "Epoch 50/50\n",
      "619/619 [==============================] - 3s 5ms/step - loss: 0.0673 - accuracy: 0.9803 - val_loss: 0.0753 - val_accuracy: 0.9812\n"
     ]
    },
    {
     "data": {
      "text/plain": "50"
     },
     "execution_count": 4,
     "metadata": {},
     "output_type": "execute_result"
    }
   ],
   "source": [
    "# entrenar el modelo\n",
    "history = model.fit(X_train, y_train, epochs=50, batch_size=32, validation_data=(X_test, y_test))"
   ],
   "metadata": {
    "collapsed": false,
    "ExecuteTime": {
     "start_time": "2023-04-18T12:11:11.063778Z",
     "end_time": "2023-04-18T12:13:54.776459Z"
    }
   }
  },
  {
   "cell_type": "code",
   "execution_count": 5,
   "outputs": [
    {
     "data": {
      "text/plain": "<Figure size 640x480 with 1 Axes>",
      "image/png": "[encoded data removed]"
     },
     "metadata": {},
     "output_type": "display_data"
    }
   ],
   "source": [
    "# graficar la precisión de entrenamiento y prueba\n",
    "plt.plot(history.history['accuracy'], label='train')\n",
    "plt.plot(history.history['val_accuracy'], label='test')\n",
    "plt.title('Model Accuracy')\n",
    "plt.xlabel('Epoch')\n",
    "plt.ylabel('Accuracy')\n",
    "plt.legend()\n",
    "plt.show()\n"
   ],
   "metadata": {
    "collapsed": false,
    "ExecuteTime": {
     "start_time": "2023-04-18T12:13:57.659212Z",
     "end_time": "2023-04-18T12:13:57.821789Z"
    }
   }
  },
  {
   "cell_type": "code",
   "execution_count": 8,
   "outputs": [
    {
     "name": "stdout",
     "output_type": "stream",
     "text": [
      "155/155 [==============================] - 0s 1ms/step\n",
      "[[  29    3    6    1]\n",
      " [   0   58   17   10]\n",
      " [   0    5 2393   26]\n",
      " [   0    2   23 2375]]\n"
     ]
    }
   ],
   "source": [
    "import numpy as np\n",
    "from sklearn.metrics import confusion_matrix\n",
    "\n",
    "# predecir las probabilidades para los datos de prueba\n",
    "y_probs = model.predict(X_test)\n",
    "y_pred = np.argmax(y_probs, axis=-1)\n",
    "cm = confusion_matrix(y_test, y_pred)\n",
    "print(cm)\n"
   ],
   "metadata": {
    "collapsed": false,
    "ExecuteTime": {
     "start_time": "2023-04-18T12:14:01.805738Z",
     "end_time": "2023-04-18T12:14:02.318586Z"
    }
   }
  },
  {
   "cell_type": "code",
   "execution_count": 9,
   "outputs": [
    {
     "name": "stdout",
     "output_type": "stream",
     "text": [
      "              precision    recall  f1-score   support\n",
      "\n",
      "           0     1.0000    0.7436    0.8529        39\n",
      "           1     0.8529    0.6824    0.7582        85\n",
      "           2     0.9811    0.9872    0.9842      2424\n",
      "           3     0.9847    0.9896    0.9871      2400\n",
      "\n",
      "    accuracy                         0.9812      4948\n",
      "   macro avg     0.9547    0.8507    0.8956      4948\n",
      "weighted avg     0.9808    0.9812    0.9807      4948\n",
      "\n"
     ]
    }
   ],
   "source": [
    "from sklearn.metrics import classification_report\n",
    "report = classification_report(y_test, y_pred, digits=4)\n",
    "print(report)"
   ],
   "metadata": {
    "collapsed": false,
    "ExecuteTime": {
     "start_time": "2023-04-18T12:14:03.495315Z",
     "end_time": "2023-04-18T12:14:03.527699Z"
    }
   }
  },
  {
   "cell_type": "code",
   "execution_count": 10,
   "outputs": [
    {
     "name": "stdout",
     "output_type": "stream",
     "text": [
      "Accuracy: 0.9812045270816492\n"
     ]
    }
   ],
   "source": [
    "from sklearn.metrics import  accuracy_score\n",
    "accuracy = accuracy_score(y_test, y_pred)\n",
    "print('Accuracy:', accuracy)"
   ],
   "metadata": {
    "collapsed": false,
    "ExecuteTime": {
     "start_time": "2023-04-18T12:14:04.853888Z",
     "end_time": "2023-04-18T12:14:04.880366Z"
    }
   }
  },
  {
   "cell_type": "code",
   "execution_count": 12,
   "outputs": [
    {
     "name": "stdout",
     "output_type": "stream",
     "text": [
      "size of the splits\n",
      "X_train:  (19789, 343)\n",
      "X_test:  (4948, 343)\n",
      "y_test:  4948\n",
      "y_pred:  4948\n"
     ]
    }
   ],
   "source": [
    "print(\"size of the splits\")\n",
    "print(\"X_train: \",  X_train.shape)\n",
    "print(\"X_test: \",  X_test.shape)\n",
    "print(\"y_test: \",  y_test.size)\n",
    "print(\"y_pred: \",  y_pred.size)"
   ],
   "metadata": {
    "collapsed": false,
    "ExecuteTime": {
     "start_time": "2023-04-18T12:14:06.187170Z",
     "end_time": "2023-04-18T12:14:06.223173Z"
    }
   }
  },
  {
   "cell_type": "code",
   "execution_count": null,
   "outputs": [],
   "source": [],
   "metadata": {
    "collapsed": false
   }
  }
 ],
 "metadata": {
  "kernelspec": {
   "display_name": "Python 3",
   "language": "python",
   "name": "python3"
  },
  "language_info": {
   "codemirror_mode": {
    "name": "ipython",
    "version": 2
   },
   "file_extension": ".py",
   "mimetype": "text/x-python",
   "name": "python",
   "nbconvert_exporter": "python",
   "pygments_lexer": "ipython2",
   "version": "2.7.6"
  }
 },
 "nbformat": 4,
 "nbformat_minor": 0
}
