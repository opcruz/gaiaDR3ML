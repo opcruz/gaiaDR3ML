{
 "cells": [
  {
   "cell_type": "code",
   "execution_count": 8,
   "outputs": [],
   "source": [
    "import pandas as pd\n",
    "import tensorflow as tf\n",
    "from sklearn.model_selection import train_test_split\n",
    "from sklearn.preprocessing import LabelEncoder\n",
    "import matplotlib.pyplot as plt\n",
    "import os\n",
    "import tensorflow as tf\n",
    "from tensorflow.keras import layers, models\n",
    "from sklearn.utils import class_weight\n",
    "import numpy as np\n",
    "\n",
    "# cargar los datos\n",
    "# df = pd.read_csv(\"../../new/datasets/unbalanced_30000.csv\", header=None)\n",
    "# df = pd.read_csv(\"../../new/datasets/unbalanced_15000.csv\", header=None)\n",
    "df = pd.read_csv(\"../../new/datasets/unbalanced.csv\", header=None)\n",
    "\n",
    "# separar las características (X) y la etiqueta (y)\n",
    "X = df.drop(columns=343, axis=1)\n",
    "# y = df.iloc[343]\n",
    "y = df.iloc[:, 343]\n",
    "\n",
    "# codificar la etiqueta (y)\n",
    "encoder = LabelEncoder()\n",
    "y = encoder.fit_transform(y)\n",
    "\n",
    "# dividir el conjunto de datos en entrenamiento y prueba\n",
    "X_train, X_test, y_train, y_test = train_test_split(X, y, test_size=0.2, random_state=5, stratify=y)\n"
   ],
   "metadata": {
    "collapsed": false,
    "ExecuteTime": {
     "start_time": "2023-04-18T12:10:54.760450Z",
     "end_time": "2023-04-18T12:11:01.117743Z"
    }
   }
  },
  {
   "cell_type": "code",
   "execution_count": 8,
   "outputs": [],
   "source": [],
   "metadata": {
    "collapsed": false
   }
  },
  {
   "cell_type": "code",
   "execution_count": 33,
   "outputs": [],
   "source": [
    "# Crear un modelo simple\n",
    "model = models.Sequential([\n",
    "    tf.keras.layers.Dense(128, activation='relu'),\n",
    "    # tf.keras.layers.Dropout(0.2),\n",
    "    tf.keras.layers.Dense(64, activation='relu'),\n",
    "    # tf.keras.layers.Dropout(0.2),\n",
    "    tf.keras.layers.Dense(32, activation='relu'),\n",
    "    # tf.keras.layers.Dropout(0.2),\n",
    "    tf.keras.layers.Dense(3, activation='softmax')\n",
    "])\n",
    "\n",
    "model.compile(optimizer='adam',\n",
    "              loss='sparse_categorical_crossentropy',\n",
    "              metrics=['accuracy'])\n",
    "\n",
    "# Calcular los pesos de las clases\n",
    "class_weights = class_weight.compute_class_weight(class_weight='balanced', classes=np.unique(y_train), y=y_train)\n",
    "class_weights = dict(enumerate(class_weights))\n",
    "\n"
   ],
   "metadata": {
    "collapsed": false
   }
  },
  {
   "cell_type": "code",
   "execution_count": 34,
   "outputs": [
    {
     "data": {
      "text/plain": "{0: 3.271221532091097, 1: 1.1474219317356573, 2: 0.5486111111111112}"
     },
     "execution_count": 34,
     "metadata": {},
     "output_type": "execute_result"
    }
   ],
   "source": [
    "class_weights"
   ],
   "metadata": {
    "collapsed": false
   }
  },
  {
   "cell_type": "code",
   "execution_count": 35,
   "outputs": [
    {
     "name": "stdout",
     "output_type": "stream",
     "text": [
      "Epoch 1/300\n",
      "25/25 [==============================] - 1s 9ms/step - loss: 0.6627 - accuracy: 0.7911 - val_loss: 0.4258 - val_accuracy: 0.8329\n",
      "Epoch 2/300\n",
      "25/25 [==============================] - 0s 4ms/step - loss: 0.4693 - accuracy: 0.8380 - val_loss: 0.4541 - val_accuracy: 0.8228\n",
      "Epoch 3/300\n",
      "25/25 [==============================] - 0s 4ms/step - loss: 0.4230 - accuracy: 0.8456 - val_loss: 0.4384 - val_accuracy: 0.8304\n",
      "Epoch 4/300\n",
      "25/25 [==============================] - 0s 4ms/step - loss: 0.4125 - accuracy: 0.8690 - val_loss: 0.3888 - val_accuracy: 0.8506\n",
      "Epoch 5/300\n",
      "25/25 [==============================] - 0s 4ms/step - loss: 0.3678 - accuracy: 0.8848 - val_loss: 0.4243 - val_accuracy: 0.8405\n",
      "Epoch 6/300\n",
      "25/25 [==============================] - 0s 3ms/step - loss: 0.3471 - accuracy: 0.8924 - val_loss: 0.3490 - val_accuracy: 0.8684\n",
      "Epoch 7/300\n",
      "25/25 [==============================] - 0s 3ms/step - loss: 0.3419 - accuracy: 0.8867 - val_loss: 0.3527 - val_accuracy: 0.8709\n",
      "Epoch 8/300\n",
      "25/25 [==============================] - 0s 3ms/step - loss: 0.3167 - accuracy: 0.9070 - val_loss: 0.3611 - val_accuracy: 0.8734\n",
      "Epoch 9/300\n",
      "25/25 [==============================] - 0s 3ms/step - loss: 0.3177 - accuracy: 0.8987 - val_loss: 0.3777 - val_accuracy: 0.8658\n",
      "Epoch 10/300\n",
      "25/25 [==============================] - 0s 4ms/step - loss: 0.2961 - accuracy: 0.9196 - val_loss: 0.3949 - val_accuracy: 0.8734\n",
      "Epoch 11/300\n",
      "25/25 [==============================] - 0s 4ms/step - loss: 0.2828 - accuracy: 0.9165 - val_loss: 0.5016 - val_accuracy: 0.8354\n",
      "Epoch 12/300\n",
      "25/25 [==============================] - 0s 4ms/step - loss: 0.2817 - accuracy: 0.9222 - val_loss: 0.3272 - val_accuracy: 0.8911\n",
      "Epoch 13/300\n",
      "25/25 [==============================] - 0s 3ms/step - loss: 0.2493 - accuracy: 0.9278 - val_loss: 0.3434 - val_accuracy: 0.8785\n",
      "Epoch 14/300\n",
      "25/25 [==============================] - 0s 4ms/step - loss: 0.2516 - accuracy: 0.9272 - val_loss: 0.3234 - val_accuracy: 0.8886\n",
      "Epoch 15/300\n",
      "25/25 [==============================] - 0s 4ms/step - loss: 0.2332 - accuracy: 0.9316 - val_loss: 0.3398 - val_accuracy: 0.8785\n",
      "Epoch 16/300\n",
      "25/25 [==============================] - 0s 4ms/step - loss: 0.2327 - accuracy: 0.9348 - val_loss: 0.4115 - val_accuracy: 0.8608\n",
      "Epoch 17/300\n",
      "25/25 [==============================] - 0s 4ms/step - loss: 0.2501 - accuracy: 0.9272 - val_loss: 0.3393 - val_accuracy: 0.8911\n",
      "Epoch 18/300\n",
      "25/25 [==============================] - 0s 3ms/step - loss: 0.2699 - accuracy: 0.9316 - val_loss: 0.4767 - val_accuracy: 0.8430\n",
      "Epoch 19/300\n",
      "25/25 [==============================] - 0s 4ms/step - loss: 0.2357 - accuracy: 0.9342 - val_loss: 0.3251 - val_accuracy: 0.8861\n",
      "Epoch 20/300\n",
      "25/25 [==============================] - 0s 4ms/step - loss: 0.2160 - accuracy: 0.9399 - val_loss: 0.3149 - val_accuracy: 0.8987\n",
      "Epoch 21/300\n",
      "25/25 [==============================] - 0s 4ms/step - loss: 0.2317 - accuracy: 0.9266 - val_loss: 0.3287 - val_accuracy: 0.8785\n",
      "Epoch 22/300\n",
      "25/25 [==============================] - 0s 4ms/step - loss: 0.2721 - accuracy: 0.9203 - val_loss: 0.3092 - val_accuracy: 0.8987\n",
      "Epoch 23/300\n",
      "25/25 [==============================] - 0s 3ms/step - loss: 0.2279 - accuracy: 0.9348 - val_loss: 0.3223 - val_accuracy: 0.8911\n",
      "Epoch 24/300\n",
      "25/25 [==============================] - 0s 3ms/step - loss: 0.2239 - accuracy: 0.9373 - val_loss: 0.3501 - val_accuracy: 0.8810\n",
      "Epoch 25/300\n",
      "25/25 [==============================] - 0s 3ms/step - loss: 0.2231 - accuracy: 0.9316 - val_loss: 0.3382 - val_accuracy: 0.8861\n",
      "Epoch 26/300\n",
      "25/25 [==============================] - 0s 3ms/step - loss: 0.2102 - accuracy: 0.9424 - val_loss: 0.3584 - val_accuracy: 0.8861\n",
      "Epoch 27/300\n",
      "25/25 [==============================] - 0s 4ms/step - loss: 0.2084 - accuracy: 0.9399 - val_loss: 0.4438 - val_accuracy: 0.8608\n",
      "Epoch 28/300\n",
      "25/25 [==============================] - 0s 4ms/step - loss: 0.2085 - accuracy: 0.9392 - val_loss: 0.3269 - val_accuracy: 0.8835\n",
      "Epoch 29/300\n",
      "25/25 [==============================] - 0s 4ms/step - loss: 0.1909 - accuracy: 0.9392 - val_loss: 0.3413 - val_accuracy: 0.8911\n",
      "Epoch 30/300\n",
      "25/25 [==============================] - 0s 4ms/step - loss: 0.2011 - accuracy: 0.9424 - val_loss: 0.3357 - val_accuracy: 0.8835\n",
      "Epoch 31/300\n",
      "25/25 [==============================] - 0s 5ms/step - loss: 0.1942 - accuracy: 0.9418 - val_loss: 0.3567 - val_accuracy: 0.8861\n",
      "Epoch 32/300\n",
      "25/25 [==============================] - 0s 5ms/step - loss: 0.1963 - accuracy: 0.9405 - val_loss: 0.3906 - val_accuracy: 0.8633\n",
      "Epoch 33/300\n",
      "25/25 [==============================] - 0s 6ms/step - loss: 0.2106 - accuracy: 0.9437 - val_loss: 0.3192 - val_accuracy: 0.8962\n",
      "Epoch 34/300\n",
      "25/25 [==============================] - 0s 7ms/step - loss: 0.2065 - accuracy: 0.9386 - val_loss: 0.3560 - val_accuracy: 0.8861\n",
      "Epoch 35/300\n",
      "25/25 [==============================] - 0s 6ms/step - loss: 0.2193 - accuracy: 0.9373 - val_loss: 0.3907 - val_accuracy: 0.8633\n",
      "Epoch 36/300\n",
      "25/25 [==============================] - 0s 4ms/step - loss: 0.1872 - accuracy: 0.9424 - val_loss: 0.3415 - val_accuracy: 0.8861\n",
      "Epoch 37/300\n",
      "25/25 [==============================] - 0s 3ms/step - loss: 0.1987 - accuracy: 0.9399 - val_loss: 0.3343 - val_accuracy: 0.8810\n",
      "Epoch 38/300\n",
      "25/25 [==============================] - 0s 4ms/step - loss: 0.2198 - accuracy: 0.9361 - val_loss: 0.3487 - val_accuracy: 0.8911\n",
      "Epoch 39/300\n",
      "25/25 [==============================] - 0s 4ms/step - loss: 0.2044 - accuracy: 0.9430 - val_loss: 0.3899 - val_accuracy: 0.8734\n",
      "Epoch 40/300\n",
      "25/25 [==============================] - 0s 4ms/step - loss: 0.1987 - accuracy: 0.9430 - val_loss: 0.3243 - val_accuracy: 0.8835\n",
      "Epoch 41/300\n",
      "25/25 [==============================] - 0s 3ms/step - loss: 0.1906 - accuracy: 0.9392 - val_loss: 0.3388 - val_accuracy: 0.8937\n",
      "Epoch 42/300\n",
      "25/25 [==============================] - 0s 4ms/step - loss: 0.1878 - accuracy: 0.9449 - val_loss: 0.3100 - val_accuracy: 0.8835\n",
      "Epoch 43/300\n",
      "25/25 [==============================] - 0s 3ms/step - loss: 0.1943 - accuracy: 0.9475 - val_loss: 0.3832 - val_accuracy: 0.8835\n",
      "Epoch 44/300\n",
      "25/25 [==============================] - 0s 4ms/step - loss: 0.1810 - accuracy: 0.9430 - val_loss: 0.3542 - val_accuracy: 0.8886\n",
      "Epoch 45/300\n",
      "25/25 [==============================] - 0s 4ms/step - loss: 0.1862 - accuracy: 0.9475 - val_loss: 0.3380 - val_accuracy: 0.8911\n",
      "Epoch 46/300\n",
      "25/25 [==============================] - 0s 3ms/step - loss: 0.1963 - accuracy: 0.9456 - val_loss: 0.3280 - val_accuracy: 0.8962\n",
      "Epoch 47/300\n",
      "25/25 [==============================] - 0s 4ms/step - loss: 0.1886 - accuracy: 0.9475 - val_loss: 0.3311 - val_accuracy: 0.8861\n",
      "Epoch 48/300\n",
      "25/25 [==============================] - 0s 5ms/step - loss: 0.1814 - accuracy: 0.9418 - val_loss: 0.3432 - val_accuracy: 0.8886\n",
      "Epoch 49/300\n",
      "25/25 [==============================] - 0s 4ms/step - loss: 0.1925 - accuracy: 0.9430 - val_loss: 0.4226 - val_accuracy: 0.8835\n",
      "Epoch 50/300\n",
      "25/25 [==============================] - 0s 3ms/step - loss: 0.2003 - accuracy: 0.9386 - val_loss: 0.3231 - val_accuracy: 0.9038\n",
      "Epoch 51/300\n",
      "25/25 [==============================] - 0s 3ms/step - loss: 0.1971 - accuracy: 0.9475 - val_loss: 0.3392 - val_accuracy: 0.8962\n",
      "Epoch 52/300\n",
      "25/25 [==============================] - 0s 3ms/step - loss: 0.1894 - accuracy: 0.9487 - val_loss: 0.4100 - val_accuracy: 0.8785\n",
      "Epoch 53/300\n",
      "25/25 [==============================] - 0s 4ms/step - loss: 0.1709 - accuracy: 0.9462 - val_loss: 0.3256 - val_accuracy: 0.8911\n",
      "Epoch 54/300\n",
      "25/25 [==============================] - 0s 3ms/step - loss: 0.1699 - accuracy: 0.9475 - val_loss: 0.3516 - val_accuracy: 0.8886\n",
      "Epoch 55/300\n",
      "25/25 [==============================] - 0s 3ms/step - loss: 0.1744 - accuracy: 0.9506 - val_loss: 0.3617 - val_accuracy: 0.8835\n",
      "Epoch 56/300\n",
      "25/25 [==============================] - 0s 4ms/step - loss: 0.1686 - accuracy: 0.9494 - val_loss: 0.4072 - val_accuracy: 0.8759\n",
      "Epoch 57/300\n",
      "25/25 [==============================] - 0s 4ms/step - loss: 0.1989 - accuracy: 0.9405 - val_loss: 0.4167 - val_accuracy: 0.8658\n",
      "Epoch 58/300\n",
      "25/25 [==============================] - 0s 4ms/step - loss: 0.1802 - accuracy: 0.9437 - val_loss: 0.3127 - val_accuracy: 0.9013\n",
      "Epoch 59/300\n",
      "25/25 [==============================] - 0s 4ms/step - loss: 0.1657 - accuracy: 0.9481 - val_loss: 0.3542 - val_accuracy: 0.8886\n",
      "Epoch 60/300\n",
      "25/25 [==============================] - 0s 4ms/step - loss: 0.1640 - accuracy: 0.9487 - val_loss: 0.3262 - val_accuracy: 0.9038\n",
      "Epoch 61/300\n",
      "25/25 [==============================] - 0s 4ms/step - loss: 0.1815 - accuracy: 0.9487 - val_loss: 0.4044 - val_accuracy: 0.8759\n",
      "Epoch 62/300\n",
      "25/25 [==============================] - 0s 3ms/step - loss: 0.1730 - accuracy: 0.9405 - val_loss: 0.3659 - val_accuracy: 0.8886\n",
      "Epoch 63/300\n",
      "25/25 [==============================] - 0s 3ms/step - loss: 0.1660 - accuracy: 0.9532 - val_loss: 0.3046 - val_accuracy: 0.8987\n",
      "Epoch 64/300\n",
      "25/25 [==============================] - 0s 4ms/step - loss: 0.1721 - accuracy: 0.9481 - val_loss: 0.4092 - val_accuracy: 0.8709\n",
      "Epoch 65/300\n",
      "25/25 [==============================] - 0s 3ms/step - loss: 0.1640 - accuracy: 0.9525 - val_loss: 0.3903 - val_accuracy: 0.8810\n",
      "Epoch 66/300\n",
      "25/25 [==============================] - 0s 4ms/step - loss: 0.1603 - accuracy: 0.9532 - val_loss: 0.3571 - val_accuracy: 0.8911\n",
      "Epoch 67/300\n",
      "25/25 [==============================] - 0s 4ms/step - loss: 0.1596 - accuracy: 0.9475 - val_loss: 0.3490 - val_accuracy: 0.8886\n",
      "Epoch 68/300\n",
      "25/25 [==============================] - 0s 4ms/step - loss: 0.1636 - accuracy: 0.9506 - val_loss: 0.3546 - val_accuracy: 0.8937\n",
      "Epoch 69/300\n",
      "25/25 [==============================] - 0s 4ms/step - loss: 0.1607 - accuracy: 0.9532 - val_loss: 0.3516 - val_accuracy: 0.8886\n",
      "Epoch 70/300\n",
      "25/25 [==============================] - 0s 3ms/step - loss: 0.1715 - accuracy: 0.9494 - val_loss: 0.3527 - val_accuracy: 0.8911\n",
      "Epoch 71/300\n",
      "25/25 [==============================] - 0s 4ms/step - loss: 0.1663 - accuracy: 0.9468 - val_loss: 0.3174 - val_accuracy: 0.8987\n",
      "Epoch 72/300\n",
      "25/25 [==============================] - 0s 4ms/step - loss: 0.1708 - accuracy: 0.9500 - val_loss: 0.3480 - val_accuracy: 0.8861\n",
      "Epoch 73/300\n",
      "25/25 [==============================] - 0s 4ms/step - loss: 0.1572 - accuracy: 0.9551 - val_loss: 0.3279 - val_accuracy: 0.8937\n",
      "Epoch 74/300\n",
      "25/25 [==============================] - 0s 4ms/step - loss: 0.1584 - accuracy: 0.9538 - val_loss: 0.3882 - val_accuracy: 0.8911\n",
      "Epoch 75/300\n",
      "25/25 [==============================] - 0s 4ms/step - loss: 0.1560 - accuracy: 0.9563 - val_loss: 0.3301 - val_accuracy: 0.8911\n",
      "Epoch 76/300\n",
      "25/25 [==============================] - 0s 4ms/step - loss: 0.1749 - accuracy: 0.9456 - val_loss: 0.3373 - val_accuracy: 0.9013\n",
      "Epoch 77/300\n",
      "25/25 [==============================] - 0s 3ms/step - loss: 0.1587 - accuracy: 0.9582 - val_loss: 0.3698 - val_accuracy: 0.8886\n",
      "Epoch 78/300\n",
      "25/25 [==============================] - 0s 3ms/step - loss: 0.1574 - accuracy: 0.9513 - val_loss: 0.3921 - val_accuracy: 0.8835\n",
      "Epoch 79/300\n",
      "25/25 [==============================] - 0s 3ms/step - loss: 0.1569 - accuracy: 0.9506 - val_loss: 0.3326 - val_accuracy: 0.8962\n",
      "Epoch 80/300\n",
      "25/25 [==============================] - 0s 3ms/step - loss: 0.1857 - accuracy: 0.9456 - val_loss: 0.4021 - val_accuracy: 0.8759\n",
      "Epoch 81/300\n",
      "25/25 [==============================] - 0s 3ms/step - loss: 0.2368 - accuracy: 0.9405 - val_loss: 0.3362 - val_accuracy: 0.8962\n",
      "Epoch 82/300\n",
      "25/25 [==============================] - 0s 5ms/step - loss: 0.1615 - accuracy: 0.9551 - val_loss: 0.3548 - val_accuracy: 0.8987\n",
      "Epoch 83/300\n",
      "25/25 [==============================] - 0s 5ms/step - loss: 0.1629 - accuracy: 0.9462 - val_loss: 0.3571 - val_accuracy: 0.9089\n",
      "Epoch 84/300\n",
      "25/25 [==============================] - 0s 4ms/step - loss: 0.1632 - accuracy: 0.9563 - val_loss: 0.3733 - val_accuracy: 0.8785\n",
      "Epoch 85/300\n",
      "25/25 [==============================] - 0s 4ms/step - loss: 0.1572 - accuracy: 0.9532 - val_loss: 0.3704 - val_accuracy: 0.8861\n",
      "Epoch 86/300\n",
      "25/25 [==============================] - 0s 4ms/step - loss: 0.1534 - accuracy: 0.9538 - val_loss: 0.3881 - val_accuracy: 0.8835\n",
      "Epoch 87/300\n",
      "25/25 [==============================] - 0s 4ms/step - loss: 0.1469 - accuracy: 0.9576 - val_loss: 0.3696 - val_accuracy: 0.8861\n",
      "Epoch 88/300\n",
      "25/25 [==============================] - 0s 5ms/step - loss: 0.1440 - accuracy: 0.9551 - val_loss: 0.3307 - val_accuracy: 0.8987\n",
      "Epoch 89/300\n",
      "25/25 [==============================] - 0s 5ms/step - loss: 0.1403 - accuracy: 0.9570 - val_loss: 0.3542 - val_accuracy: 0.8886\n",
      "Epoch 90/300\n",
      "25/25 [==============================] - 0s 5ms/step - loss: 0.1435 - accuracy: 0.9576 - val_loss: 0.3290 - val_accuracy: 0.8987\n",
      "Epoch 91/300\n",
      "25/25 [==============================] - 0s 5ms/step - loss: 0.1604 - accuracy: 0.9525 - val_loss: 0.3440 - val_accuracy: 0.9038\n",
      "Epoch 92/300\n",
      "25/25 [==============================] - 0s 5ms/step - loss: 0.1484 - accuracy: 0.9582 - val_loss: 0.3571 - val_accuracy: 0.8962\n",
      "Epoch 93/300\n",
      "25/25 [==============================] - 0s 6ms/step - loss: 0.1576 - accuracy: 0.9538 - val_loss: 0.3689 - val_accuracy: 0.9063\n",
      "Epoch 94/300\n",
      "25/25 [==============================] - 0s 5ms/step - loss: 0.1481 - accuracy: 0.9538 - val_loss: 0.3595 - val_accuracy: 0.8987\n",
      "Epoch 95/300\n",
      "25/25 [==============================] - 0s 4ms/step - loss: 0.1436 - accuracy: 0.9582 - val_loss: 0.4271 - val_accuracy: 0.8785\n",
      "Epoch 96/300\n",
      "25/25 [==============================] - 0s 4ms/step - loss: 0.1446 - accuracy: 0.9551 - val_loss: 0.3663 - val_accuracy: 0.8835\n",
      "Epoch 97/300\n",
      "25/25 [==============================] - 0s 5ms/step - loss: 0.1647 - accuracy: 0.9532 - val_loss: 0.3785 - val_accuracy: 0.8886\n",
      "Epoch 98/300\n",
      "25/25 [==============================] - 0s 5ms/step - loss: 0.1603 - accuracy: 0.9525 - val_loss: 0.4137 - val_accuracy: 0.8810\n",
      "Epoch 99/300\n",
      "25/25 [==============================] - 0s 4ms/step - loss: 0.1627 - accuracy: 0.9513 - val_loss: 0.3920 - val_accuracy: 0.8937\n",
      "Epoch 100/300\n",
      "25/25 [==============================] - 0s 4ms/step - loss: 0.1417 - accuracy: 0.9576 - val_loss: 0.3523 - val_accuracy: 0.9038\n",
      "Epoch 101/300\n",
      "25/25 [==============================] - 0s 4ms/step - loss: 0.1528 - accuracy: 0.9538 - val_loss: 0.3462 - val_accuracy: 0.9013\n",
      "Epoch 102/300\n",
      "25/25 [==============================] - 0s 4ms/step - loss: 0.1409 - accuracy: 0.9551 - val_loss: 0.3608 - val_accuracy: 0.8937\n",
      "Epoch 103/300\n",
      "25/25 [==============================] - 0s 4ms/step - loss: 0.1504 - accuracy: 0.9500 - val_loss: 0.3362 - val_accuracy: 0.9038\n",
      "Epoch 104/300\n",
      "25/25 [==============================] - 0s 4ms/step - loss: 0.1424 - accuracy: 0.9525 - val_loss: 0.3337 - val_accuracy: 0.9013\n",
      "Epoch 105/300\n",
      "25/25 [==============================] - 0s 4ms/step - loss: 0.1424 - accuracy: 0.9563 - val_loss: 0.3545 - val_accuracy: 0.8835\n",
      "Epoch 106/300\n",
      "25/25 [==============================] - 0s 4ms/step - loss: 0.1442 - accuracy: 0.9570 - val_loss: 0.3480 - val_accuracy: 0.8937\n",
      "Epoch 107/300\n",
      "25/25 [==============================] - 0s 4ms/step - loss: 0.1315 - accuracy: 0.9658 - val_loss: 0.3571 - val_accuracy: 0.8987\n",
      "Epoch 108/300\n",
      "25/25 [==============================] - 0s 4ms/step - loss: 0.1363 - accuracy: 0.9620 - val_loss: 0.3902 - val_accuracy: 0.8962\n",
      "Epoch 109/300\n",
      "25/25 [==============================] - 0s 4ms/step - loss: 0.1344 - accuracy: 0.9639 - val_loss: 0.4319 - val_accuracy: 0.8709\n",
      "Epoch 110/300\n",
      "25/25 [==============================] - 0s 4ms/step - loss: 0.1417 - accuracy: 0.9551 - val_loss: 0.3757 - val_accuracy: 0.8962\n",
      "Epoch 111/300\n",
      "25/25 [==============================] - 0s 4ms/step - loss: 0.1403 - accuracy: 0.9563 - val_loss: 0.3480 - val_accuracy: 0.9063\n",
      "Epoch 112/300\n",
      "25/25 [==============================] - 0s 4ms/step - loss: 0.1562 - accuracy: 0.9576 - val_loss: 0.3462 - val_accuracy: 0.9139\n",
      "Epoch 113/300\n",
      "25/25 [==============================] - 0s 4ms/step - loss: 0.1814 - accuracy: 0.9392 - val_loss: 0.3761 - val_accuracy: 0.9038\n",
      "Epoch 114/300\n",
      "25/25 [==============================] - 0s 4ms/step - loss: 0.1433 - accuracy: 0.9646 - val_loss: 0.3672 - val_accuracy: 0.8886\n",
      "Epoch 115/300\n",
      "25/25 [==============================] - 0s 4ms/step - loss: 0.1376 - accuracy: 0.9589 - val_loss: 0.3624 - val_accuracy: 0.8987\n",
      "Epoch 116/300\n",
      "25/25 [==============================] - 0s 4ms/step - loss: 0.1553 - accuracy: 0.9551 - val_loss: 0.4315 - val_accuracy: 0.8962\n",
      "Epoch 117/300\n",
      "25/25 [==============================] - 0s 4ms/step - loss: 0.1463 - accuracy: 0.9538 - val_loss: 0.3847 - val_accuracy: 0.8962\n",
      "Epoch 118/300\n",
      "25/25 [==============================] - 0s 4ms/step - loss: 0.1310 - accuracy: 0.9639 - val_loss: 0.3360 - val_accuracy: 0.9089\n",
      "Epoch 119/300\n",
      "25/25 [==============================] - 0s 4ms/step - loss: 0.1343 - accuracy: 0.9551 - val_loss: 0.3615 - val_accuracy: 0.8987\n",
      "Epoch 120/300\n",
      "25/25 [==============================] - 0s 4ms/step - loss: 0.1337 - accuracy: 0.9576 - val_loss: 0.4071 - val_accuracy: 0.8835\n",
      "Epoch 121/300\n",
      "25/25 [==============================] - 0s 5ms/step - loss: 0.1289 - accuracy: 0.9589 - val_loss: 0.3732 - val_accuracy: 0.9038\n",
      "Epoch 122/300\n",
      "25/25 [==============================] - 0s 5ms/step - loss: 0.1642 - accuracy: 0.9506 - val_loss: 0.3591 - val_accuracy: 0.8962\n",
      "Epoch 123/300\n",
      "25/25 [==============================] - 0s 5ms/step - loss: 0.1398 - accuracy: 0.9576 - val_loss: 0.4481 - val_accuracy: 0.8861\n",
      "Epoch 124/300\n",
      "25/25 [==============================] - 0s 4ms/step - loss: 0.1368 - accuracy: 0.9614 - val_loss: 0.3958 - val_accuracy: 0.8987\n",
      "Epoch 125/300\n",
      "25/25 [==============================] - 0s 4ms/step - loss: 0.1253 - accuracy: 0.9646 - val_loss: 0.3461 - val_accuracy: 0.9063\n",
      "Epoch 126/300\n",
      "25/25 [==============================] - 0s 4ms/step - loss: 0.1259 - accuracy: 0.9658 - val_loss: 0.3639 - val_accuracy: 0.9038\n",
      "Epoch 127/300\n",
      "25/25 [==============================] - 0s 4ms/step - loss: 0.1221 - accuracy: 0.9639 - val_loss: 0.3997 - val_accuracy: 0.8911\n",
      "Epoch 128/300\n",
      "25/25 [==============================] - 0s 4ms/step - loss: 0.1349 - accuracy: 0.9601 - val_loss: 0.3869 - val_accuracy: 0.8962\n",
      "Epoch 129/300\n",
      "25/25 [==============================] - 0s 4ms/step - loss: 0.1572 - accuracy: 0.9570 - val_loss: 0.3915 - val_accuracy: 0.8987\n",
      "Epoch 130/300\n",
      "25/25 [==============================] - 0s 4ms/step - loss: 0.1375 - accuracy: 0.9614 - val_loss: 0.3662 - val_accuracy: 0.8937\n",
      "Epoch 131/300\n",
      "25/25 [==============================] - 0s 4ms/step - loss: 0.1294 - accuracy: 0.9639 - val_loss: 0.3979 - val_accuracy: 0.8810\n",
      "Epoch 132/300\n",
      "25/25 [==============================] - 0s 4ms/step - loss: 0.1280 - accuracy: 0.9595 - val_loss: 0.4159 - val_accuracy: 0.8987\n",
      "Epoch 133/300\n",
      "25/25 [==============================] - 0s 4ms/step - loss: 0.1260 - accuracy: 0.9614 - val_loss: 0.3596 - val_accuracy: 0.8962\n",
      "Epoch 134/300\n",
      "25/25 [==============================] - 0s 4ms/step - loss: 0.1167 - accuracy: 0.9652 - val_loss: 0.3507 - val_accuracy: 0.9114\n",
      "Epoch 135/300\n",
      "25/25 [==============================] - 0s 4ms/step - loss: 0.1179 - accuracy: 0.9671 - val_loss: 0.3539 - val_accuracy: 0.9038\n",
      "Epoch 136/300\n",
      "25/25 [==============================] - 0s 4ms/step - loss: 0.1164 - accuracy: 0.9671 - val_loss: 0.4271 - val_accuracy: 0.8785\n",
      "Epoch 137/300\n",
      "25/25 [==============================] - 0s 4ms/step - loss: 0.1226 - accuracy: 0.9658 - val_loss: 0.3619 - val_accuracy: 0.9089\n",
      "Epoch 138/300\n",
      "25/25 [==============================] - 0s 4ms/step - loss: 0.1362 - accuracy: 0.9582 - val_loss: 0.3547 - val_accuracy: 0.9063\n",
      "Epoch 139/300\n",
      "25/25 [==============================] - 0s 4ms/step - loss: 0.1243 - accuracy: 0.9639 - val_loss: 0.3890 - val_accuracy: 0.9013\n",
      "Epoch 140/300\n",
      "25/25 [==============================] - 0s 4ms/step - loss: 0.1224 - accuracy: 0.9620 - val_loss: 0.3554 - val_accuracy: 0.9114\n",
      "Epoch 141/300\n",
      "25/25 [==============================] - 0s 4ms/step - loss: 0.1191 - accuracy: 0.9684 - val_loss: 0.4060 - val_accuracy: 0.8987\n",
      "Epoch 142/300\n",
      "25/25 [==============================] - 0s 4ms/step - loss: 0.1136 - accuracy: 0.9665 - val_loss: 0.3902 - val_accuracy: 0.9013\n",
      "Epoch 143/300\n",
      "25/25 [==============================] - 0s 4ms/step - loss: 0.1160 - accuracy: 0.9696 - val_loss: 0.3499 - val_accuracy: 0.9089\n",
      "Epoch 144/300\n",
      "25/25 [==============================] - 0s 4ms/step - loss: 0.1217 - accuracy: 0.9652 - val_loss: 0.4114 - val_accuracy: 0.8911\n",
      "Epoch 145/300\n",
      "25/25 [==============================] - 0s 4ms/step - loss: 0.1119 - accuracy: 0.9722 - val_loss: 0.3410 - val_accuracy: 0.9089\n",
      "Epoch 146/300\n",
      "25/25 [==============================] - 0s 4ms/step - loss: 0.1172 - accuracy: 0.9684 - val_loss: 0.3712 - val_accuracy: 0.8911\n",
      "Epoch 147/300\n",
      "25/25 [==============================] - 0s 4ms/step - loss: 0.1226 - accuracy: 0.9639 - val_loss: 0.4200 - val_accuracy: 0.8886\n",
      "Epoch 148/300\n",
      "25/25 [==============================] - 0s 4ms/step - loss: 0.1141 - accuracy: 0.9646 - val_loss: 0.3702 - val_accuracy: 0.9139\n",
      "Epoch 149/300\n",
      "25/25 [==============================] - 0s 4ms/step - loss: 0.1081 - accuracy: 0.9722 - val_loss: 0.3589 - val_accuracy: 0.9089\n",
      "Epoch 150/300\n",
      "25/25 [==============================] - 0s 4ms/step - loss: 0.1475 - accuracy: 0.9538 - val_loss: 0.3741 - val_accuracy: 0.9063\n",
      "Epoch 151/300\n",
      "25/25 [==============================] - 0s 4ms/step - loss: 0.1460 - accuracy: 0.9633 - val_loss: 0.3730 - val_accuracy: 0.9089\n",
      "Epoch 152/300\n",
      "25/25 [==============================] - 0s 4ms/step - loss: 0.1163 - accuracy: 0.9639 - val_loss: 0.4212 - val_accuracy: 0.8911\n",
      "Epoch 153/300\n",
      "25/25 [==============================] - 0s 4ms/step - loss: 0.1130 - accuracy: 0.9671 - val_loss: 0.3767 - val_accuracy: 0.9063\n",
      "Epoch 154/300\n",
      "25/25 [==============================] - 0s 5ms/step - loss: 0.1112 - accuracy: 0.9677 - val_loss: 0.4039 - val_accuracy: 0.8987\n",
      "Epoch 155/300\n",
      "25/25 [==============================] - 0s 5ms/step - loss: 0.1075 - accuracy: 0.9696 - val_loss: 0.4002 - val_accuracy: 0.9063\n",
      "Epoch 156/300\n",
      "25/25 [==============================] - 0s 5ms/step - loss: 0.1071 - accuracy: 0.9703 - val_loss: 0.3859 - val_accuracy: 0.9114\n",
      "Epoch 157/300\n",
      "25/25 [==============================] - 0s 5ms/step - loss: 0.1057 - accuracy: 0.9722 - val_loss: 0.4564 - val_accuracy: 0.8582\n",
      "Epoch 158/300\n",
      "25/25 [==============================] - 0s 5ms/step - loss: 0.1158 - accuracy: 0.9646 - val_loss: 0.3830 - val_accuracy: 0.8962\n",
      "Epoch 159/300\n",
      "25/25 [==============================] - 0s 6ms/step - loss: 0.1160 - accuracy: 0.9627 - val_loss: 0.4439 - val_accuracy: 0.8886\n",
      "Epoch 160/300\n",
      "25/25 [==============================] - 0s 7ms/step - loss: 0.1409 - accuracy: 0.9576 - val_loss: 0.4853 - val_accuracy: 0.8861\n",
      "Epoch 161/300\n",
      "25/25 [==============================] - 0s 4ms/step - loss: 0.1371 - accuracy: 0.9608 - val_loss: 0.3733 - val_accuracy: 0.8987\n",
      "Epoch 162/300\n",
      "25/25 [==============================] - 0s 4ms/step - loss: 0.1197 - accuracy: 0.9677 - val_loss: 0.4624 - val_accuracy: 0.8709\n",
      "Epoch 163/300\n",
      "25/25 [==============================] - 0s 4ms/step - loss: 0.1283 - accuracy: 0.9576 - val_loss: 0.3714 - val_accuracy: 0.9063\n",
      "Epoch 164/300\n",
      "25/25 [==============================] - 0s 4ms/step - loss: 0.1360 - accuracy: 0.9601 - val_loss: 0.4682 - val_accuracy: 0.8911\n",
      "Epoch 165/300\n",
      "25/25 [==============================] - 0s 4ms/step - loss: 0.1229 - accuracy: 0.9620 - val_loss: 0.5201 - val_accuracy: 0.8785\n",
      "Epoch 166/300\n",
      "25/25 [==============================] - 0s 4ms/step - loss: 0.1303 - accuracy: 0.9608 - val_loss: 0.3957 - val_accuracy: 0.9063\n",
      "Epoch 167/300\n",
      "25/25 [==============================] - 0s 5ms/step - loss: 0.1068 - accuracy: 0.9703 - val_loss: 0.3562 - val_accuracy: 0.9139\n",
      "Epoch 168/300\n",
      "25/25 [==============================] - 0s 5ms/step - loss: 0.1721 - accuracy: 0.9551 - val_loss: 0.4608 - val_accuracy: 0.8785\n",
      "Epoch 169/300\n",
      "25/25 [==============================] - 0s 4ms/step - loss: 0.1986 - accuracy: 0.9405 - val_loss: 0.3981 - val_accuracy: 0.8937\n",
      "Epoch 170/300\n",
      "25/25 [==============================] - 0s 4ms/step - loss: 0.1260 - accuracy: 0.9671 - val_loss: 0.3990 - val_accuracy: 0.8987\n",
      "Epoch 171/300\n",
      "25/25 [==============================] - 0s 5ms/step - loss: 0.1275 - accuracy: 0.9608 - val_loss: 0.3731 - val_accuracy: 0.8937\n",
      "Epoch 172/300\n",
      "25/25 [==============================] - 0s 5ms/step - loss: 0.1233 - accuracy: 0.9639 - val_loss: 0.4274 - val_accuracy: 0.8886\n",
      "Epoch 173/300\n",
      "25/25 [==============================] - 0s 5ms/step - loss: 0.1159 - accuracy: 0.9658 - val_loss: 0.4124 - val_accuracy: 0.8987\n",
      "Epoch 174/300\n",
      "25/25 [==============================] - 0s 5ms/step - loss: 0.1002 - accuracy: 0.9696 - val_loss: 0.4393 - val_accuracy: 0.8911\n",
      "Epoch 175/300\n",
      "25/25 [==============================] - 0s 4ms/step - loss: 0.1072 - accuracy: 0.9722 - val_loss: 0.3834 - val_accuracy: 0.9089\n",
      "Epoch 176/300\n",
      "25/25 [==============================] - 0s 4ms/step - loss: 0.1125 - accuracy: 0.9658 - val_loss: 0.4014 - val_accuracy: 0.9013\n",
      "Epoch 177/300\n",
      "25/25 [==============================] - 0s 4ms/step - loss: 0.1025 - accuracy: 0.9690 - val_loss: 0.4424 - val_accuracy: 0.8987\n",
      "Epoch 178/300\n",
      "25/25 [==============================] - 0s 5ms/step - loss: 0.1153 - accuracy: 0.9703 - val_loss: 0.3950 - val_accuracy: 0.9038\n",
      "Epoch 179/300\n",
      "25/25 [==============================] - 0s 5ms/step - loss: 0.1002 - accuracy: 0.9690 - val_loss: 0.4113 - val_accuracy: 0.9038\n",
      "Epoch 180/300\n",
      "25/25 [==============================] - 0s 5ms/step - loss: 0.1021 - accuracy: 0.9728 - val_loss: 0.4000 - val_accuracy: 0.9089\n",
      "Epoch 181/300\n",
      "25/25 [==============================] - 0s 5ms/step - loss: 0.0966 - accuracy: 0.9753 - val_loss: 0.4405 - val_accuracy: 0.8987\n",
      "Epoch 182/300\n",
      "25/25 [==============================] - 0s 5ms/step - loss: 0.1264 - accuracy: 0.9639 - val_loss: 0.4632 - val_accuracy: 0.8886\n",
      "Epoch 183/300\n",
      "25/25 [==============================] - 0s 5ms/step - loss: 0.1338 - accuracy: 0.9627 - val_loss: 0.4208 - val_accuracy: 0.8684\n",
      "Epoch 184/300\n",
      "25/25 [==============================] - 0s 4ms/step - loss: 0.1185 - accuracy: 0.9646 - val_loss: 0.3910 - val_accuracy: 0.9038\n",
      "Epoch 185/300\n",
      "25/25 [==============================] - 0s 5ms/step - loss: 0.1034 - accuracy: 0.9684 - val_loss: 0.3636 - val_accuracy: 0.9038\n",
      "Epoch 186/300\n",
      "25/25 [==============================] - 0s 5ms/step - loss: 0.1125 - accuracy: 0.9614 - val_loss: 0.4214 - val_accuracy: 0.8987\n",
      "Epoch 187/300\n",
      "25/25 [==============================] - 0s 5ms/step - loss: 0.1274 - accuracy: 0.9614 - val_loss: 0.3864 - val_accuracy: 0.9013\n",
      "Epoch 188/300\n",
      "25/25 [==============================] - 0s 6ms/step - loss: 0.1977 - accuracy: 0.9462 - val_loss: 0.5979 - val_accuracy: 0.8684\n",
      "Epoch 189/300\n",
      "25/25 [==============================] - 0s 5ms/step - loss: 0.1282 - accuracy: 0.9665 - val_loss: 0.3980 - val_accuracy: 0.9063\n",
      "Epoch 190/300\n",
      "25/25 [==============================] - 0s 4ms/step - loss: 0.1079 - accuracy: 0.9709 - val_loss: 0.4325 - val_accuracy: 0.9063\n",
      "Epoch 191/300\n",
      "25/25 [==============================] - 0s 4ms/step - loss: 0.1132 - accuracy: 0.9620 - val_loss: 0.3909 - val_accuracy: 0.9013\n",
      "Epoch 192/300\n",
      "25/25 [==============================] - 0s 4ms/step - loss: 0.1044 - accuracy: 0.9677 - val_loss: 0.4406 - val_accuracy: 0.8962\n",
      "Epoch 193/300\n",
      "25/25 [==============================] - 0s 4ms/step - loss: 0.1014 - accuracy: 0.9734 - val_loss: 0.4181 - val_accuracy: 0.9215\n",
      "Epoch 194/300\n",
      "25/25 [==============================] - 0s 6ms/step - loss: 0.1110 - accuracy: 0.9722 - val_loss: 0.4123 - val_accuracy: 0.9038\n",
      "Epoch 195/300\n",
      "25/25 [==============================] - 0s 4ms/step - loss: 0.0993 - accuracy: 0.9715 - val_loss: 0.4009 - val_accuracy: 0.9139\n",
      "Epoch 196/300\n",
      "25/25 [==============================] - 0s 4ms/step - loss: 0.1026 - accuracy: 0.9715 - val_loss: 0.4634 - val_accuracy: 0.8886\n",
      "Epoch 197/300\n",
      "25/25 [==============================] - 0s 4ms/step - loss: 0.0959 - accuracy: 0.9722 - val_loss: 0.4380 - val_accuracy: 0.8759\n",
      "Epoch 198/300\n",
      "25/25 [==============================] - 0s 4ms/step - loss: 0.1017 - accuracy: 0.9722 - val_loss: 0.4345 - val_accuracy: 0.8962\n",
      "Epoch 199/300\n",
      "25/25 [==============================] - 0s 3ms/step - loss: 0.1644 - accuracy: 0.9557 - val_loss: 0.4259 - val_accuracy: 0.9038\n",
      "Epoch 200/300\n",
      "25/25 [==============================] - 0s 4ms/step - loss: 0.1463 - accuracy: 0.9570 - val_loss: 0.3740 - val_accuracy: 0.9089\n",
      "Epoch 201/300\n",
      "25/25 [==============================] - 0s 4ms/step - loss: 0.1272 - accuracy: 0.9677 - val_loss: 0.4717 - val_accuracy: 0.8810\n",
      "Epoch 202/300\n",
      "25/25 [==============================] - 0s 4ms/step - loss: 0.1017 - accuracy: 0.9728 - val_loss: 0.3959 - val_accuracy: 0.9114\n",
      "Epoch 203/300\n",
      "25/25 [==============================] - 0s 4ms/step - loss: 0.1072 - accuracy: 0.9677 - val_loss: 0.4507 - val_accuracy: 0.8886\n",
      "Epoch 204/300\n",
      "25/25 [==============================] - 0s 4ms/step - loss: 0.0985 - accuracy: 0.9677 - val_loss: 0.4361 - val_accuracy: 0.8962\n",
      "Epoch 205/300\n",
      "25/25 [==============================] - 0s 4ms/step - loss: 0.0928 - accuracy: 0.9703 - val_loss: 0.4204 - val_accuracy: 0.9038\n",
      "Epoch 206/300\n",
      "25/25 [==============================] - 0s 4ms/step - loss: 0.0891 - accuracy: 0.9772 - val_loss: 0.4339 - val_accuracy: 0.9038\n",
      "Epoch 207/300\n",
      "25/25 [==============================] - 0s 4ms/step - loss: 0.1054 - accuracy: 0.9677 - val_loss: 0.4092 - val_accuracy: 0.8987\n",
      "Epoch 208/300\n",
      "25/25 [==============================] - 0s 4ms/step - loss: 0.1236 - accuracy: 0.9633 - val_loss: 0.3974 - val_accuracy: 0.9063\n",
      "Epoch 209/300\n",
      "25/25 [==============================] - 0s 4ms/step - loss: 0.1207 - accuracy: 0.9620 - val_loss: 0.4889 - val_accuracy: 0.9013\n",
      "Epoch 210/300\n",
      "25/25 [==============================] - 0s 4ms/step - loss: 0.1188 - accuracy: 0.9627 - val_loss: 0.5585 - val_accuracy: 0.8684\n",
      "Epoch 211/300\n",
      "25/25 [==============================] - 0s 4ms/step - loss: 0.1097 - accuracy: 0.9690 - val_loss: 0.5184 - val_accuracy: 0.8861\n",
      "Epoch 212/300\n",
      "25/25 [==============================] - 0s 4ms/step - loss: 0.1069 - accuracy: 0.9709 - val_loss: 0.4722 - val_accuracy: 0.8987\n",
      "Epoch 213/300\n",
      "25/25 [==============================] - 0s 4ms/step - loss: 0.1014 - accuracy: 0.9703 - val_loss: 0.3989 - val_accuracy: 0.9089\n",
      "Epoch 214/300\n",
      "25/25 [==============================] - 0s 4ms/step - loss: 0.0988 - accuracy: 0.9709 - val_loss: 0.3818 - val_accuracy: 0.8861\n",
      "Epoch 215/300\n",
      "25/25 [==============================] - 0s 4ms/step - loss: 0.1148 - accuracy: 0.9627 - val_loss: 0.4117 - val_accuracy: 0.8987\n",
      "Epoch 216/300\n",
      "25/25 [==============================] - 0s 4ms/step - loss: 0.0924 - accuracy: 0.9734 - val_loss: 0.4199 - val_accuracy: 0.8987\n",
      "Epoch 217/300\n",
      "25/25 [==============================] - 0s 4ms/step - loss: 0.0893 - accuracy: 0.9741 - val_loss: 0.4799 - val_accuracy: 0.8861\n",
      "Epoch 218/300\n",
      "25/25 [==============================] - 0s 5ms/step - loss: 0.1078 - accuracy: 0.9658 - val_loss: 0.3871 - val_accuracy: 0.9063\n",
      "Epoch 219/300\n",
      "25/25 [==============================] - 0s 5ms/step - loss: 0.0920 - accuracy: 0.9722 - val_loss: 0.3968 - val_accuracy: 0.9089\n",
      "Epoch 220/300\n",
      "25/25 [==============================] - 0s 5ms/step - loss: 0.0946 - accuracy: 0.9741 - val_loss: 0.5465 - val_accuracy: 0.8582\n",
      "Epoch 221/300\n",
      "25/25 [==============================] - 0s 5ms/step - loss: 0.0945 - accuracy: 0.9722 - val_loss: 0.4389 - val_accuracy: 0.9038\n",
      "Epoch 222/300\n",
      "25/25 [==============================] - 0s 5ms/step - loss: 0.0937 - accuracy: 0.9677 - val_loss: 0.4439 - val_accuracy: 0.8911\n",
      "Epoch 223/300\n",
      "25/25 [==============================] - 0s 7ms/step - loss: 0.0969 - accuracy: 0.9690 - val_loss: 0.4880 - val_accuracy: 0.8962\n",
      "Epoch 224/300\n",
      "25/25 [==============================] - 0s 4ms/step - loss: 0.1014 - accuracy: 0.9671 - val_loss: 0.4094 - val_accuracy: 0.9038\n",
      "Epoch 225/300\n",
      "25/25 [==============================] - 0s 4ms/step - loss: 0.0911 - accuracy: 0.9747 - val_loss: 0.4361 - val_accuracy: 0.8987\n",
      "Epoch 226/300\n",
      "25/25 [==============================] - 0s 4ms/step - loss: 0.0940 - accuracy: 0.9696 - val_loss: 0.4588 - val_accuracy: 0.9063\n",
      "Epoch 227/300\n",
      "25/25 [==============================] - 0s 4ms/step - loss: 0.0849 - accuracy: 0.9734 - val_loss: 0.4518 - val_accuracy: 0.8962\n",
      "Epoch 228/300\n",
      "25/25 [==============================] - 0s 4ms/step - loss: 0.1056 - accuracy: 0.9677 - val_loss: 0.4515 - val_accuracy: 0.9013\n",
      "Epoch 229/300\n",
      "25/25 [==============================] - 0s 4ms/step - loss: 0.0965 - accuracy: 0.9722 - val_loss: 0.4321 - val_accuracy: 0.8911\n",
      "Epoch 230/300\n",
      "25/25 [==============================] - 0s 4ms/step - loss: 0.0935 - accuracy: 0.9766 - val_loss: 0.4637 - val_accuracy: 0.9089\n",
      "Epoch 231/300\n",
      "25/25 [==============================] - 0s 4ms/step - loss: 0.0966 - accuracy: 0.9734 - val_loss: 0.4917 - val_accuracy: 0.8987\n",
      "Epoch 232/300\n",
      "25/25 [==============================] - 0s 4ms/step - loss: 0.1002 - accuracy: 0.9703 - val_loss: 0.5185 - val_accuracy: 0.8937\n",
      "Epoch 233/300\n",
      "25/25 [==============================] - 0s 4ms/step - loss: 0.1060 - accuracy: 0.9709 - val_loss: 0.5682 - val_accuracy: 0.8861\n",
      "Epoch 234/300\n",
      "25/25 [==============================] - 0s 4ms/step - loss: 0.0972 - accuracy: 0.9677 - val_loss: 0.4348 - val_accuracy: 0.9038\n",
      "Epoch 235/300\n",
      "25/25 [==============================] - 0s 4ms/step - loss: 0.0965 - accuracy: 0.9722 - val_loss: 0.4561 - val_accuracy: 0.8962\n",
      "Epoch 236/300\n",
      "25/25 [==============================] - 0s 4ms/step - loss: 0.1054 - accuracy: 0.9671 - val_loss: 0.4466 - val_accuracy: 0.8937\n",
      "Epoch 237/300\n",
      "25/25 [==============================] - 0s 4ms/step - loss: 0.1059 - accuracy: 0.9665 - val_loss: 0.4740 - val_accuracy: 0.9013\n",
      "Epoch 238/300\n",
      "25/25 [==============================] - 0s 4ms/step - loss: 0.0921 - accuracy: 0.9722 - val_loss: 0.4516 - val_accuracy: 0.9139\n",
      "Epoch 239/300\n",
      "25/25 [==============================] - 0s 4ms/step - loss: 0.0888 - accuracy: 0.9766 - val_loss: 0.4740 - val_accuracy: 0.8937\n",
      "Epoch 240/300\n",
      "25/25 [==============================] - 0s 4ms/step - loss: 0.0925 - accuracy: 0.9728 - val_loss: 0.5390 - val_accuracy: 0.8937\n",
      "Epoch 241/300\n",
      "25/25 [==============================] - 0s 4ms/step - loss: 0.0859 - accuracy: 0.9665 - val_loss: 0.4753 - val_accuracy: 0.8911\n",
      "Epoch 242/300\n",
      "25/25 [==============================] - 0s 4ms/step - loss: 0.0838 - accuracy: 0.9728 - val_loss: 0.4449 - val_accuracy: 0.9063\n",
      "Epoch 243/300\n",
      "25/25 [==============================] - 0s 4ms/step - loss: 0.0929 - accuracy: 0.9703 - val_loss: 0.4868 - val_accuracy: 0.8962\n",
      "Epoch 244/300\n",
      "25/25 [==============================] - 0s 4ms/step - loss: 0.0923 - accuracy: 0.9722 - val_loss: 0.4365 - val_accuracy: 0.9241\n",
      "Epoch 245/300\n",
      "25/25 [==============================] - 0s 4ms/step - loss: 0.2341 - accuracy: 0.9335 - val_loss: 0.5160 - val_accuracy: 0.8962\n",
      "Epoch 246/300\n",
      "25/25 [==============================] - 0s 4ms/step - loss: 0.1520 - accuracy: 0.9563 - val_loss: 0.5006 - val_accuracy: 0.8886\n",
      "Epoch 247/300\n",
      "25/25 [==============================] - 0s 5ms/step - loss: 0.1478 - accuracy: 0.9589 - val_loss: 0.5153 - val_accuracy: 0.8987\n",
      "Epoch 248/300\n",
      "25/25 [==============================] - 0s 5ms/step - loss: 0.1141 - accuracy: 0.9658 - val_loss: 0.3999 - val_accuracy: 0.9165\n",
      "Epoch 249/300\n",
      "25/25 [==============================] - 0s 4ms/step - loss: 0.0999 - accuracy: 0.9671 - val_loss: 0.4446 - val_accuracy: 0.8962\n",
      "Epoch 250/300\n",
      "25/25 [==============================] - 0s 4ms/step - loss: 0.0842 - accuracy: 0.9734 - val_loss: 0.4128 - val_accuracy: 0.9089\n",
      "Epoch 251/300\n",
      "25/25 [==============================] - 0s 4ms/step - loss: 0.0918 - accuracy: 0.9677 - val_loss: 0.4156 - val_accuracy: 0.9038\n",
      "Epoch 252/300\n",
      "25/25 [==============================] - 0s 4ms/step - loss: 0.0883 - accuracy: 0.9715 - val_loss: 0.4360 - val_accuracy: 0.9114\n",
      "Epoch 253/300\n",
      "25/25 [==============================] - 0s 4ms/step - loss: 0.0835 - accuracy: 0.9747 - val_loss: 0.4835 - val_accuracy: 0.8810\n",
      "Epoch 254/300\n",
      "25/25 [==============================] - 0s 4ms/step - loss: 0.0803 - accuracy: 0.9753 - val_loss: 0.4274 - val_accuracy: 0.9114\n",
      "Epoch 255/300\n",
      "25/25 [==============================] - 0s 4ms/step - loss: 0.0778 - accuracy: 0.9747 - val_loss: 0.4033 - val_accuracy: 0.9089\n",
      "Epoch 256/300\n",
      "25/25 [==============================] - 0s 4ms/step - loss: 0.0762 - accuracy: 0.9791 - val_loss: 0.4767 - val_accuracy: 0.9013\n",
      "Epoch 257/300\n",
      "25/25 [==============================] - 0s 4ms/step - loss: 0.0730 - accuracy: 0.9759 - val_loss: 0.4851 - val_accuracy: 0.8962\n",
      "Epoch 258/300\n",
      "25/25 [==============================] - 0s 4ms/step - loss: 0.0815 - accuracy: 0.9753 - val_loss: 0.4643 - val_accuracy: 0.8962\n",
      "Epoch 259/300\n",
      "25/25 [==============================] - 0s 5ms/step - loss: 0.0887 - accuracy: 0.9709 - val_loss: 0.4749 - val_accuracy: 0.8886\n",
      "Epoch 260/300\n",
      "25/25 [==============================] - 0s 5ms/step - loss: 0.0786 - accuracy: 0.9791 - val_loss: 0.4402 - val_accuracy: 0.8987\n",
      "Epoch 261/300\n",
      "25/25 [==============================] - 0s 5ms/step - loss: 0.0737 - accuracy: 0.9766 - val_loss: 0.4455 - val_accuracy: 0.9114\n",
      "Epoch 262/300\n",
      "25/25 [==============================] - 0s 5ms/step - loss: 0.0876 - accuracy: 0.9753 - val_loss: 0.4896 - val_accuracy: 0.9038\n",
      "Epoch 263/300\n",
      "25/25 [==============================] - 0s 5ms/step - loss: 0.0824 - accuracy: 0.9766 - val_loss: 0.4814 - val_accuracy: 0.8987\n",
      "Epoch 264/300\n",
      "25/25 [==============================] - 0s 4ms/step - loss: 0.0771 - accuracy: 0.9797 - val_loss: 0.5053 - val_accuracy: 0.9038\n",
      "Epoch 265/300\n",
      "25/25 [==============================] - 0s 4ms/step - loss: 0.0867 - accuracy: 0.9753 - val_loss: 0.4740 - val_accuracy: 0.9013\n",
      "Epoch 266/300\n",
      "25/25 [==============================] - 0s 4ms/step - loss: 0.0755 - accuracy: 0.9753 - val_loss: 0.4432 - val_accuracy: 0.9063\n",
      "Epoch 267/300\n",
      "25/25 [==============================] - 0s 4ms/step - loss: 0.0733 - accuracy: 0.9791 - val_loss: 0.4428 - val_accuracy: 0.9013\n",
      "Epoch 268/300\n",
      "25/25 [==============================] - 0s 4ms/step - loss: 0.0835 - accuracy: 0.9741 - val_loss: 0.4365 - val_accuracy: 0.9114\n",
      "Epoch 269/300\n",
      "25/25 [==============================] - 0s 4ms/step - loss: 0.0784 - accuracy: 0.9734 - val_loss: 0.4961 - val_accuracy: 0.8937\n",
      "Epoch 270/300\n",
      "25/25 [==============================] - 0s 4ms/step - loss: 0.0765 - accuracy: 0.9772 - val_loss: 0.4682 - val_accuracy: 0.9089\n",
      "Epoch 271/300\n",
      "25/25 [==============================] - 0s 4ms/step - loss: 0.0689 - accuracy: 0.9791 - val_loss: 0.4834 - val_accuracy: 0.9038\n",
      "Epoch 272/300\n",
      "25/25 [==============================] - 0s 4ms/step - loss: 0.0713 - accuracy: 0.9823 - val_loss: 0.4732 - val_accuracy: 0.9063\n",
      "Epoch 273/300\n",
      "25/25 [==============================] - 0s 4ms/step - loss: 0.0902 - accuracy: 0.9722 - val_loss: 0.4514 - val_accuracy: 0.9089\n",
      "Epoch 274/300\n",
      "25/25 [==============================] - 0s 4ms/step - loss: 0.0830 - accuracy: 0.9753 - val_loss: 0.4973 - val_accuracy: 0.9013\n",
      "Epoch 275/300\n",
      "25/25 [==============================] - 0s 4ms/step - loss: 0.0804 - accuracy: 0.9747 - val_loss: 0.4376 - val_accuracy: 0.8937\n",
      "Epoch 276/300\n",
      "25/25 [==============================] - 0s 4ms/step - loss: 0.0824 - accuracy: 0.9728 - val_loss: 0.4883 - val_accuracy: 0.9038\n",
      "Epoch 277/300\n",
      "25/25 [==============================] - 0s 4ms/step - loss: 0.0995 - accuracy: 0.9665 - val_loss: 0.5198 - val_accuracy: 0.8785\n",
      "Epoch 278/300\n",
      "25/25 [==============================] - 0s 4ms/step - loss: 0.1037 - accuracy: 0.9671 - val_loss: 0.4566 - val_accuracy: 0.9038\n",
      "Epoch 279/300\n",
      "25/25 [==============================] - 0s 4ms/step - loss: 0.0816 - accuracy: 0.9759 - val_loss: 0.4757 - val_accuracy: 0.8962\n",
      "Epoch 280/300\n",
      "25/25 [==============================] - 0s 4ms/step - loss: 0.1124 - accuracy: 0.9722 - val_loss: 0.5915 - val_accuracy: 0.9013\n",
      "Epoch 281/300\n",
      "25/25 [==============================] - 0s 4ms/step - loss: 0.1117 - accuracy: 0.9671 - val_loss: 0.5277 - val_accuracy: 0.8962\n",
      "Epoch 282/300\n",
      "25/25 [==============================] - 0s 5ms/step - loss: 0.2011 - accuracy: 0.9525 - val_loss: 0.7471 - val_accuracy: 0.8937\n",
      "Epoch 283/300\n",
      "25/25 [==============================] - 0s 4ms/step - loss: 0.2013 - accuracy: 0.9487 - val_loss: 0.5137 - val_accuracy: 0.8835\n",
      "Epoch 284/300\n",
      "25/25 [==============================] - 0s 5ms/step - loss: 0.1723 - accuracy: 0.9608 - val_loss: 0.8639 - val_accuracy: 0.8405\n",
      "Epoch 285/300\n",
      "25/25 [==============================] - 0s 5ms/step - loss: 0.1272 - accuracy: 0.9620 - val_loss: 0.5566 - val_accuracy: 0.8861\n",
      "Epoch 286/300\n",
      "25/25 [==============================] - 0s 5ms/step - loss: 0.1006 - accuracy: 0.9709 - val_loss: 0.4438 - val_accuracy: 0.8987\n",
      "Epoch 287/300\n",
      "25/25 [==============================] - 0s 5ms/step - loss: 0.0840 - accuracy: 0.9728 - val_loss: 0.4255 - val_accuracy: 0.9063\n",
      "Epoch 288/300\n",
      "25/25 [==============================] - 0s 4ms/step - loss: 0.0836 - accuracy: 0.9734 - val_loss: 0.4854 - val_accuracy: 0.9063\n",
      "Epoch 289/300\n",
      "25/25 [==============================] - 0s 5ms/step - loss: 0.0735 - accuracy: 0.9772 - val_loss: 0.4527 - val_accuracy: 0.9089\n",
      "Epoch 290/300\n",
      "25/25 [==============================] - 0s 5ms/step - loss: 0.0703 - accuracy: 0.9785 - val_loss: 0.4486 - val_accuracy: 0.8987\n",
      "Epoch 291/300\n",
      "25/25 [==============================] - 0s 4ms/step - loss: 0.0728 - accuracy: 0.9810 - val_loss: 0.4728 - val_accuracy: 0.9063\n",
      "Epoch 292/300\n",
      "25/25 [==============================] - 0s 4ms/step - loss: 0.0716 - accuracy: 0.9772 - val_loss: 0.4380 - val_accuracy: 0.9165\n",
      "Epoch 293/300\n",
      "25/25 [==============================] - 0s 4ms/step - loss: 0.0692 - accuracy: 0.9747 - val_loss: 0.4687 - val_accuracy: 0.8911\n",
      "Epoch 294/300\n",
      "25/25 [==============================] - 0s 4ms/step - loss: 0.0716 - accuracy: 0.9778 - val_loss: 0.4704 - val_accuracy: 0.8962\n",
      "Epoch 295/300\n",
      "25/25 [==============================] - 0s 4ms/step - loss: 0.0759 - accuracy: 0.9778 - val_loss: 0.4701 - val_accuracy: 0.9063\n",
      "Epoch 296/300\n",
      "25/25 [==============================] - 0s 4ms/step - loss: 0.0792 - accuracy: 0.9741 - val_loss: 0.4937 - val_accuracy: 0.8886\n",
      "Epoch 297/300\n",
      "25/25 [==============================] - 0s 5ms/step - loss: 0.0737 - accuracy: 0.9785 - val_loss: 0.4722 - val_accuracy: 0.9013\n",
      "Epoch 298/300\n",
      "25/25 [==============================] - 0s 4ms/step - loss: 0.0849 - accuracy: 0.9715 - val_loss: 0.4868 - val_accuracy: 0.8987\n",
      "Epoch 299/300\n",
      "25/25 [==============================] - 0s 4ms/step - loss: 0.0809 - accuracy: 0.9734 - val_loss: 0.5152 - val_accuracy: 0.9013\n",
      "Epoch 300/300\n",
      "25/25 [==============================] - 0s 4ms/step - loss: 0.0800 - accuracy: 0.9747 - val_loss: 0.4517 - val_accuracy: 0.9114\n",
      "50/50 [==============================] - 0s 1ms/step - loss: 0.0569 - accuracy: 0.9835\n",
      "Loss: 0.05686948448419571, Accuracy: 0.9835442900657654\n"
     ]
    }
   ],
   "source": [
    "# Entrenar el modelo con la pérdida ponderada\n",
    "model.fit(X_train, y_train, epochs=300, batch_size=64, class_weight=class_weights, validation_data=(X_test, y_test))\n",
    "\n",
    "# Evaluar el modelo\n",
    "loss, accuracy = model.evaluate(X_train, y_train)\n",
    "print(f'Loss: {loss}, Accuracy: {accuracy}')"
   ],
   "metadata": {
    "collapsed": false
   }
  },
  {
   "cell_type": "code",
   "execution_count": 36,
   "outputs": [
    {
     "name": "stdout",
     "output_type": "stream",
     "text": [
      "13/13 [==============================] - 0s 1ms/step\n",
      "[[ 34   2   4]\n",
      " [  8  92  15]\n",
      " [  1   5 234]]\n"
     ]
    }
   ],
   "source": [
    "import numpy as np\n",
    "from sklearn.metrics import confusion_matrix\n",
    "\n",
    "# predecir las probabilidades para los datos de prueba\n",
    "y_probs = model.predict(X_test)\n",
    "y_pred = np.argmax(y_probs, axis=-1)\n",
    "cm = confusion_matrix(y_test, y_pred)\n",
    "print(cm)\n"
   ],
   "metadata": {
    "collapsed": false,
    "ExecuteTime": {
     "start_time": "2023-04-18T12:14:01.805738Z",
     "end_time": "2023-04-18T12:14:02.318586Z"
    }
   }
  },
  {
   "cell_type": "code",
   "execution_count": 37,
   "outputs": [
    {
     "name": "stdout",
     "output_type": "stream",
     "text": [
      "              precision    recall  f1-score   support\n",
      "\n",
      "           0     0.7907    0.8500    0.8193        40\n",
      "           1     0.9293    0.8000    0.8598       115\n",
      "           2     0.9249    0.9750    0.9493       240\n",
      "\n",
      "    accuracy                         0.9114       395\n",
      "   macro avg     0.8816    0.8750    0.8761       395\n",
      "weighted avg     0.9126    0.9114    0.9101       395\n",
      "\n"
     ]
    }
   ],
   "source": [
    "from sklearn.metrics import classification_report\n",
    "\n",
    "report = classification_report(y_test, y_pred, digits=4)\n",
    "print(report)"
   ],
   "metadata": {
    "collapsed": false,
    "ExecuteTime": {
     "start_time": "2023-04-18T12:14:03.495315Z",
     "end_time": "2023-04-18T12:14:03.527699Z"
    }
   }
  },
  {
   "cell_type": "code",
   "execution_count": 38,
   "outputs": [
    {
     "name": "stdout",
     "output_type": "stream",
     "text": [
      "Cohen's kappa:  0.8318126520681266\n"
     ]
    }
   ],
   "source": [
    "from sklearn.metrics import cohen_kappa_score, classification_report\n",
    "\n",
    "print(\"Cohen's kappa: \", cohen_kappa_score(y_test, y_pred))"
   ],
   "metadata": {
    "collapsed": false
   }
  },
  {
   "cell_type": "markdown",
   "source": [
    "# Save model"
   ],
   "metadata": {
    "collapsed": false
   }
  },
  {
   "cell_type": "code",
   "execution_count": 41,
   "outputs": [],
   "source": [
    "# Save the model to a single file\n",
    "model.save( './rna_unbalance_loss_weighted.keras', save_format='keras_v3')"
   ],
   "metadata": {
    "collapsed": false
   }
  },
  {
   "cell_type": "markdown",
   "source": [
    "# Suspected Symbiotic Stars v1"
   ],
   "metadata": {
    "collapsed": false
   }
  },
  {
   "cell_type": "code",
   "execution_count": 42,
   "outputs": [
    {
     "name": "stdout",
     "output_type": "stream",
     "text": [
      "1/1 [==============================] - 0s 17ms/step\n",
      "[[12  3  0]\n",
      " [ 0  0  0]\n",
      " [ 0  0  0]]\n"
     ]
    }
   ],
   "source": [
    "import numpy as np\n",
    "from sklearn.metrics import confusion_matrix\n",
    "\n",
    "df_sus_sy = pd.read_csv(\"../../new/candidate_symbiotic_stars_v1/normalized/Suspected_SY.csv\", header=None)\n",
    "\n",
    "# predecir las probabilidades para los datos de prueba\n",
    "y_probs = model.predict(df_sus_sy)\n",
    "y_pred = np.argmax(y_probs, axis=-1)\n",
    "cm = confusion_matrix([0 for _ in range(len(df_sus_sy))], y_pred, labels=[0, 1, 2])\n",
    "print(cm)"
   ],
   "metadata": {
    "collapsed": false
   }
  },
  {
   "cell_type": "code",
   "execution_count": 43,
   "outputs": [
    {
     "data": {
      "text/plain": "             source_id       0       1       2  label\n0  4687286621186701568  0.9994  0.0001  0.0005      0\n1  4651824725526390016  0.9998  0.0002  0.0000      0\n2  3321366590173335424  0.9758  0.0212  0.0030      0\n3  5410876219867043072  1.0000  0.0000  0.0000      0\n4  3575939163051304192  0.9910  0.0090  0.0000      0",
      "text/html": "<div>\n<style scoped>\n    .dataframe tbody tr th:only-of-type {\n        vertical-align: middle;\n    }\n\n    .dataframe tbody tr th {\n        vertical-align: top;\n    }\n\n    .dataframe thead th {\n        text-align: right;\n    }\n</style>\n<table border=\"1\" class=\"dataframe\">\n  <thead>\n    <tr style=\"text-align: right;\">\n      <th></th>\n      <th>source_id</th>\n      <th>0</th>\n      <th>1</th>\n      <th>2</th>\n      <th>label</th>\n    </tr>\n  </thead>\n  <tbody>\n    <tr>\n      <th>0</th>\n      <td>4687286621186701568</td>\n      <td>0.9994</td>\n      <td>0.0001</td>\n      <td>0.0005</td>\n      <td>0</td>\n    </tr>\n    <tr>\n      <th>1</th>\n      <td>4651824725526390016</td>\n      <td>0.9998</td>\n      <td>0.0002</td>\n      <td>0.0000</td>\n      <td>0</td>\n    </tr>\n    <tr>\n      <th>2</th>\n      <td>3321366590173335424</td>\n      <td>0.9758</td>\n      <td>0.0212</td>\n      <td>0.0030</td>\n      <td>0</td>\n    </tr>\n    <tr>\n      <th>3</th>\n      <td>5410876219867043072</td>\n      <td>1.0000</td>\n      <td>0.0000</td>\n      <td>0.0000</td>\n      <td>0</td>\n    </tr>\n    <tr>\n      <th>4</th>\n      <td>3575939163051304192</td>\n      <td>0.9910</td>\n      <td>0.0090</td>\n      <td>0.0000</td>\n      <td>0</td>\n    </tr>\n  </tbody>\n</table>\n</div>"
     },
     "execution_count": 43,
     "metadata": {},
     "output_type": "execute_result"
    }
   ],
   "source": [
    "df_sus_sy_normalized = pd.read_csv(\"../../new/candidate_symbiotic_stars_v1/calibrated_data/Suspected_SY.csv\")\n",
    "\n",
    "df5 = pd.DataFrame(y_probs)\n",
    "df5 = df5.round(4)\n",
    "df5['label'] = y_pred\n",
    "df5.insert(0, 'source_id', df_sus_sy_normalized['source_id'])\n",
    "df5.head(5)"
   ],
   "metadata": {
    "collapsed": false
   }
  },
  {
   "cell_type": "code",
   "execution_count": 44,
   "outputs": [
    {
     "data": {
      "text/plain": "    FIND_NAME        MAIN_ID         OTYPE   SP_TYPE  \\\n0    RAW 1691        LIN 521            C*         C   \n1  [BE74] 583     [BE74] 583  LongPeriodV*     G/Ke:   \n2     StHA 55  EM* StHA   55          Mira       NaN   \n3      ZZ CMi      V* ZZ CMi  LongPeriodV*  M6I-IIep   \n4  WRAY 16−51     WRAY 16-51  LongPeriodV*        M4   \n\n                        ID_Gaia  \\\n0  Gaia DR2 4687286621186701568   \n1  Gaia DR2 4651824725526390016   \n2  Gaia DR3 3321366590173335424   \n3  Gaia DR3 3155368612444708096   \n4  Gaia DR2 5410876219860836224   \n\n                                                 IDS  \\\n0  RAW 1691|LIN 521|2MASS J01183570-7242213|OGLE ...   \n1  2MASS J05265014-7106350|EROS2-star lm058-2n-25...   \n2  IRAS 05440+0642|ASAS J054642+0643.7|ASAS J0546...   \n3  BD+09  1633|AN  306.1934|DO  2156|GCRV  4915|G...   \n4  IRAS 09316-4621|AKARI-IRC-V1 J0933295-463450|D...   \n\n                                              OTYPES             Gaia DR3  \n0               C*|Em*|LP*|LP*|Em*|MIR|NIR|*|C*?|LP?  4687286621186701568  \n1                                   LP*|Em*|NIR|V*|*  4651824725526390016  \n2  Mi*|LP*|V*|LP*|SB*|LP*|MIR|V*|Em*|NIR|*|C*?|IR...  3321366590173335424  \n3                                LP*|NIR|V*|*|IR|LP?  3155368612444708096  \n4                            LP*|NIR|MIR|Em*|PN|*|IR  5410876219867043072  ",
      "text/html": "<div>\n<style scoped>\n    .dataframe tbody tr th:only-of-type {\n        vertical-align: middle;\n    }\n\n    .dataframe tbody tr th {\n        vertical-align: top;\n    }\n\n    .dataframe thead th {\n        text-align: right;\n    }\n</style>\n<table border=\"1\" class=\"dataframe\">\n  <thead>\n    <tr style=\"text-align: right;\">\n      <th></th>\n      <th>FIND_NAME</th>\n      <th>MAIN_ID</th>\n      <th>OTYPE</th>\n      <th>SP_TYPE</th>\n      <th>ID_Gaia</th>\n      <th>IDS</th>\n      <th>OTYPES</th>\n      <th>Gaia DR3</th>\n    </tr>\n  </thead>\n  <tbody>\n    <tr>\n      <th>0</th>\n      <td>RAW 1691</td>\n      <td>LIN 521</td>\n      <td>C*</td>\n      <td>C</td>\n      <td>Gaia DR2 4687286621186701568</td>\n      <td>RAW 1691|LIN 521|2MASS J01183570-7242213|OGLE ...</td>\n      <td>C*|Em*|LP*|LP*|Em*|MIR|NIR|*|C*?|LP?</td>\n      <td>4687286621186701568</td>\n    </tr>\n    <tr>\n      <th>1</th>\n      <td>[BE74] 583</td>\n      <td>[BE74] 583</td>\n      <td>LongPeriodV*</td>\n      <td>G/Ke:</td>\n      <td>Gaia DR2 4651824725526390016</td>\n      <td>2MASS J05265014-7106350|EROS2-star lm058-2n-25...</td>\n      <td>LP*|Em*|NIR|V*|*</td>\n      <td>4651824725526390016</td>\n    </tr>\n    <tr>\n      <th>2</th>\n      <td>StHA 55</td>\n      <td>EM* StHA   55</td>\n      <td>Mira</td>\n      <td>NaN</td>\n      <td>Gaia DR3 3321366590173335424</td>\n      <td>IRAS 05440+0642|ASAS J054642+0643.7|ASAS J0546...</td>\n      <td>Mi*|LP*|V*|LP*|SB*|LP*|MIR|V*|Em*|NIR|*|C*?|IR...</td>\n      <td>3321366590173335424</td>\n    </tr>\n    <tr>\n      <th>3</th>\n      <td>ZZ CMi</td>\n      <td>V* ZZ CMi</td>\n      <td>LongPeriodV*</td>\n      <td>M6I-IIep</td>\n      <td>Gaia DR3 3155368612444708096</td>\n      <td>BD+09  1633|AN  306.1934|DO  2156|GCRV  4915|G...</td>\n      <td>LP*|NIR|V*|*|IR|LP?</td>\n      <td>3155368612444708096</td>\n    </tr>\n    <tr>\n      <th>4</th>\n      <td>WRAY 16−51</td>\n      <td>WRAY 16-51</td>\n      <td>LongPeriodV*</td>\n      <td>M4</td>\n      <td>Gaia DR2 5410876219860836224</td>\n      <td>IRAS 09316-4621|AKARI-IRC-V1 J0933295-463450|D...</td>\n      <td>LP*|NIR|MIR|Em*|PN|*|IR</td>\n      <td>5410876219867043072</td>\n    </tr>\n  </tbody>\n</table>\n</div>"
     },
     "execution_count": 44,
     "metadata": {},
     "output_type": "execute_result"
    }
   ],
   "source": [
    "df6 = pd.read_csv('../../new/candidate_symbiotic_stars_v1/built_dataset/suspected_SY_dataset.csv')\n",
    "df6.head(5)"
   ],
   "metadata": {
    "collapsed": false
   }
  },
  {
   "cell_type": "code",
   "execution_count": 45,
   "outputs": [
    {
     "data": {
      "text/plain": "    FIND_NAME        MAIN_ID             Gaia DR3       0       1       2  \\\n0    RAW 1691        LIN 521  4687286621186701568  0.9994  0.0001  0.0005   \n1  [BE74] 583     [BE74] 583  4651824725526390016  0.9998  0.0002  0.0000   \n2     StHA 55  EM* StHA   55  3321366590173335424  0.9758  0.0212  0.0030   \n3  WRAY 16−51     WRAY 16-51  5410876219867043072  1.0000  0.0000  0.0000   \n4   NSV 05572      V* VX Crv  3575939163051304192  0.9910  0.0090  0.0000   \n\n   label  \n0      0  \n1      0  \n2      0  \n3      0  \n4      0  ",
      "text/html": "<div>\n<style scoped>\n    .dataframe tbody tr th:only-of-type {\n        vertical-align: middle;\n    }\n\n    .dataframe tbody tr th {\n        vertical-align: top;\n    }\n\n    .dataframe thead th {\n        text-align: right;\n    }\n</style>\n<table border=\"1\" class=\"dataframe\">\n  <thead>\n    <tr style=\"text-align: right;\">\n      <th></th>\n      <th>FIND_NAME</th>\n      <th>MAIN_ID</th>\n      <th>Gaia DR3</th>\n      <th>0</th>\n      <th>1</th>\n      <th>2</th>\n      <th>label</th>\n    </tr>\n  </thead>\n  <tbody>\n    <tr>\n      <th>0</th>\n      <td>RAW 1691</td>\n      <td>LIN 521</td>\n      <td>4687286621186701568</td>\n      <td>0.9994</td>\n      <td>0.0001</td>\n      <td>0.0005</td>\n      <td>0</td>\n    </tr>\n    <tr>\n      <th>1</th>\n      <td>[BE74] 583</td>\n      <td>[BE74] 583</td>\n      <td>4651824725526390016</td>\n      <td>0.9998</td>\n      <td>0.0002</td>\n      <td>0.0000</td>\n      <td>0</td>\n    </tr>\n    <tr>\n      <th>2</th>\n      <td>StHA 55</td>\n      <td>EM* StHA   55</td>\n      <td>3321366590173335424</td>\n      <td>0.9758</td>\n      <td>0.0212</td>\n      <td>0.0030</td>\n      <td>0</td>\n    </tr>\n    <tr>\n      <th>3</th>\n      <td>WRAY 16−51</td>\n      <td>WRAY 16-51</td>\n      <td>5410876219867043072</td>\n      <td>1.0000</td>\n      <td>0.0000</td>\n      <td>0.0000</td>\n      <td>0</td>\n    </tr>\n    <tr>\n      <th>4</th>\n      <td>NSV 05572</td>\n      <td>V* VX Crv</td>\n      <td>3575939163051304192</td>\n      <td>0.9910</td>\n      <td>0.0090</td>\n      <td>0.0000</td>\n      <td>0</td>\n    </tr>\n  </tbody>\n</table>\n</div>"
     },
     "execution_count": 45,
     "metadata": {},
     "output_type": "execute_result"
    }
   ],
   "source": [
    "# Filtro de data frames\n",
    "df_filtered = df6.merge(df5, left_on=['Gaia DR3'], right_on=['source_id'], how='inner', indicator=True)\n",
    "df_filtered = df_filtered[df_filtered['_merge'] == 'both']\n",
    "df_filtered = df_filtered.iloc[:, [0, 1, 7, 9, 10, 11, 12]]\n",
    "df_filtered.head(5)"
   ],
   "metadata": {
    "collapsed": false
   }
  },
  {
   "cell_type": "code",
   "execution_count": 33,
   "outputs": [],
   "source": [
    "out_name = 'rna_unbalanced.csv'\n",
    "out_dir = '../../new/candidate_symbiotic_stars_v1/output'\n",
    "if not os.path.exists(out_dir):\n",
    "    os.mkdir(out_dir)\n",
    "\n",
    "fullname = os.path.join(out_dir, out_name)\n",
    "df_filtered.to_csv(fullname, header=True, index=False)"
   ],
   "metadata": {
    "collapsed": false
   }
  },
  {
   "cell_type": "markdown",
   "source": [
    "# Suspected Symbiotic Stars v2"
   ],
   "metadata": {
    "collapsed": false
   }
  },
  {
   "cell_type": "code",
   "execution_count": 34,
   "outputs": [
    {
     "name": "stdout",
     "output_type": "stream",
     "text": [
      "1/1 [==============================] - 0s 16ms/step\n",
      "[[14  2  1]\n",
      " [ 0  0  0]\n",
      " [ 0  0  0]]\n"
     ]
    }
   ],
   "source": [
    "import numpy as np\n",
    "from sklearn.metrics import confusion_matrix\n",
    "\n",
    "df_sus_sy = pd.read_csv(\"../../new/candidate_symbiotic_stars_v2/normalized/Suspected_SY.csv\", header=None)\n",
    "\n",
    "# predecir las probabilidades para los datos de prueba\n",
    "y_probs = model.predict(df_sus_sy)\n",
    "y_pred = np.argmax(y_probs, axis=-1)\n",
    "cm = confusion_matrix([0 for _ in range(len(df_sus_sy))], y_pred, labels=[0, 1, 2])\n",
    "print(cm)"
   ],
   "metadata": {
    "collapsed": false
   }
  },
  {
   "cell_type": "code",
   "execution_count": 35,
   "outputs": [
    {
     "data": {
      "text/plain": "             source_id       0       1       2  label\n0  6204217186929931520  0.0228  0.9771  0.0000      1\n1  4061952680197028224  0.9027  0.0866  0.0107      0\n2   670455944074475008  0.5603  0.0777  0.3620      0\n3  4068755633500598272  0.0082  0.0626  0.9292      2\n4  2060829659152816768  0.0782  0.7818  0.1399      1",
      "text/html": "<div>\n<style scoped>\n    .dataframe tbody tr th:only-of-type {\n        vertical-align: middle;\n    }\n\n    .dataframe tbody tr th {\n        vertical-align: top;\n    }\n\n    .dataframe thead th {\n        text-align: right;\n    }\n</style>\n<table border=\"1\" class=\"dataframe\">\n  <thead>\n    <tr style=\"text-align: right;\">\n      <th></th>\n      <th>source_id</th>\n      <th>0</th>\n      <th>1</th>\n      <th>2</th>\n      <th>label</th>\n    </tr>\n  </thead>\n  <tbody>\n    <tr>\n      <th>0</th>\n      <td>6204217186929931520</td>\n      <td>0.0228</td>\n      <td>0.9771</td>\n      <td>0.0000</td>\n      <td>1</td>\n    </tr>\n    <tr>\n      <th>1</th>\n      <td>4061952680197028224</td>\n      <td>0.9027</td>\n      <td>0.0866</td>\n      <td>0.0107</td>\n      <td>0</td>\n    </tr>\n    <tr>\n      <th>2</th>\n      <td>670455944074475008</td>\n      <td>0.5603</td>\n      <td>0.0777</td>\n      <td>0.3620</td>\n      <td>0</td>\n    </tr>\n    <tr>\n      <th>3</th>\n      <td>4068755633500598272</td>\n      <td>0.0082</td>\n      <td>0.0626</td>\n      <td>0.9292</td>\n      <td>2</td>\n    </tr>\n    <tr>\n      <th>4</th>\n      <td>2060829659152816768</td>\n      <td>0.0782</td>\n      <td>0.7818</td>\n      <td>0.1399</td>\n      <td>1</td>\n    </tr>\n  </tbody>\n</table>\n</div>"
     },
     "execution_count": 35,
     "metadata": {},
     "output_type": "execute_result"
    }
   ],
   "source": [
    "df_sus_sy_normalized = pd.read_csv(\"../../new/candidate_symbiotic_stars_v2/calibrated_data/Suspected_SY.csv\")\n",
    "\n",
    "df5 = pd.DataFrame(y_probs)\n",
    "df5 = df5.round(4)\n",
    "df5['label'] = y_pred\n",
    "df5.insert(0, 'source_id', df_sus_sy_normalized['source_id'])\n",
    "df5.head(5)"
   ],
   "metadata": {
    "collapsed": false
   }
  },
  {
   "cell_type": "code",
   "execution_count": 36,
   "outputs": [
    {
     "data": {
      "text/plain": "                  FIND_NAME              MAIN_ID                   OTYPE  \\\n0                  V748 Cen          V* V748 Cen                  EclBin   \n1               WRAY 16-294          WRAY 16-294            LongPeriodV*   \n2    DASCH J075731.1+201735  ASAS J075731+2017.6            LongPeriodV*   \n3       ASAS J174600-2321.3  ASAS J174600-2321.3  LongPeriodV*_Candidate   \n4  IPHASJ201550.96+373004.2      IRAS 20140+3720  PlanetaryNeb_Candidate   \n\n  SP_TYPE                       ID_Gaia  \\\n0      Ae  Gaia DR3 6204217186929931520   \n1      K5  Gaia DR2 4061952680197028224   \n2   M0III   Gaia DR2 670455944074475008   \n3     F0I  Gaia DR2 4068755633500598272   \n4     NaN  Gaia DR2 2060829659152816768   \n\n                                                 IDS  \\\n0  CD-32 10517|ALS 18924|CRTS J145936.6-332503|CS...   \n1  2MASS J17391381-2538050|DENIS J173913.8-253805...   \n2  2MASS J07573112+2017347|ASAS J075731+2017.6|DA...   \n3  2MASS J17460018-2321163|ASAS J174600-2321.3|ER...   \n4  2MASS J20155096+3730042|AKARI-IRC-V1 J2015509+...   \n\n                         OTYPES             Gaia DR3  \n0          EB*|Ro*|NIR|V*|Em*|*  6204217186929931520  \n1  LP*|PN|NIR|Em*|*|C*?|ISM|LP?  4061952680197028224  \n2          SB*|LP*|NIR|V*|*|Opt   670455944074475008  \n3                  NIR|V*|*|LP?  4068755633500598272  \n4          NIR|*|C*?|IR|LP?|PN?  2060829659152816768  ",
      "text/html": "<div>\n<style scoped>\n    .dataframe tbody tr th:only-of-type {\n        vertical-align: middle;\n    }\n\n    .dataframe tbody tr th {\n        vertical-align: top;\n    }\n\n    .dataframe thead th {\n        text-align: right;\n    }\n</style>\n<table border=\"1\" class=\"dataframe\">\n  <thead>\n    <tr style=\"text-align: right;\">\n      <th></th>\n      <th>FIND_NAME</th>\n      <th>MAIN_ID</th>\n      <th>OTYPE</th>\n      <th>SP_TYPE</th>\n      <th>ID_Gaia</th>\n      <th>IDS</th>\n      <th>OTYPES</th>\n      <th>Gaia DR3</th>\n    </tr>\n  </thead>\n  <tbody>\n    <tr>\n      <th>0</th>\n      <td>V748 Cen</td>\n      <td>V* V748 Cen</td>\n      <td>EclBin</td>\n      <td>Ae</td>\n      <td>Gaia DR3 6204217186929931520</td>\n      <td>CD-32 10517|ALS 18924|CRTS J145936.6-332503|CS...</td>\n      <td>EB*|Ro*|NIR|V*|Em*|*</td>\n      <td>6204217186929931520</td>\n    </tr>\n    <tr>\n      <th>1</th>\n      <td>WRAY 16-294</td>\n      <td>WRAY 16-294</td>\n      <td>LongPeriodV*</td>\n      <td>K5</td>\n      <td>Gaia DR2 4061952680197028224</td>\n      <td>2MASS J17391381-2538050|DENIS J173913.8-253805...</td>\n      <td>LP*|PN|NIR|Em*|*|C*?|ISM|LP?</td>\n      <td>4061952680197028224</td>\n    </tr>\n    <tr>\n      <th>2</th>\n      <td>DASCH J075731.1+201735</td>\n      <td>ASAS J075731+2017.6</td>\n      <td>LongPeriodV*</td>\n      <td>M0III</td>\n      <td>Gaia DR2 670455944074475008</td>\n      <td>2MASS J07573112+2017347|ASAS J075731+2017.6|DA...</td>\n      <td>SB*|LP*|NIR|V*|*|Opt</td>\n      <td>670455944074475008</td>\n    </tr>\n    <tr>\n      <th>3</th>\n      <td>ASAS J174600-2321.3</td>\n      <td>ASAS J174600-2321.3</td>\n      <td>LongPeriodV*_Candidate</td>\n      <td>F0I</td>\n      <td>Gaia DR2 4068755633500598272</td>\n      <td>2MASS J17460018-2321163|ASAS J174600-2321.3|ER...</td>\n      <td>NIR|V*|*|LP?</td>\n      <td>4068755633500598272</td>\n    </tr>\n    <tr>\n      <th>4</th>\n      <td>IPHASJ201550.96+373004.2</td>\n      <td>IRAS 20140+3720</td>\n      <td>PlanetaryNeb_Candidate</td>\n      <td>NaN</td>\n      <td>Gaia DR2 2060829659152816768</td>\n      <td>2MASS J20155096+3730042|AKARI-IRC-V1 J2015509+...</td>\n      <td>NIR|*|C*?|IR|LP?|PN?</td>\n      <td>2060829659152816768</td>\n    </tr>\n  </tbody>\n</table>\n</div>"
     },
     "execution_count": 36,
     "metadata": {},
     "output_type": "execute_result"
    }
   ],
   "source": [
    "df6 = pd.read_csv('../../new/candidate_symbiotic_stars_v2/built_dataset/suspected_SY_dataset.csv')\n",
    "df6.head(5)"
   ],
   "metadata": {
    "collapsed": false
   }
  },
  {
   "cell_type": "code",
   "execution_count": 37,
   "outputs": [
    {
     "data": {
      "text/plain": "                  FIND_NAME              MAIN_ID             Gaia DR3       0  \\\n0                  V748 Cen          V* V748 Cen  6204217186929931520  0.0228   \n1               WRAY 16-294          WRAY 16-294  4061952680197028224  0.9027   \n2    DASCH J075731.1+201735  ASAS J075731+2017.6   670455944074475008  0.5603   \n3       ASAS J174600-2321.3  ASAS J174600-2321.3  4068755633500598272  0.0082   \n4  IPHASJ201550.96+373004.2      IRAS 20140+3720  2060829659152816768  0.0782   \n\n        1       2  label  \n0  0.9771  0.0000      1  \n1  0.0866  0.0107      0  \n2  0.0777  0.3620      0  \n3  0.0626  0.9292      2  \n4  0.7818  0.1399      1  ",
      "text/html": "<div>\n<style scoped>\n    .dataframe tbody tr th:only-of-type {\n        vertical-align: middle;\n    }\n\n    .dataframe tbody tr th {\n        vertical-align: top;\n    }\n\n    .dataframe thead th {\n        text-align: right;\n    }\n</style>\n<table border=\"1\" class=\"dataframe\">\n  <thead>\n    <tr style=\"text-align: right;\">\n      <th></th>\n      <th>FIND_NAME</th>\n      <th>MAIN_ID</th>\n      <th>Gaia DR3</th>\n      <th>0</th>\n      <th>1</th>\n      <th>2</th>\n      <th>label</th>\n    </tr>\n  </thead>\n  <tbody>\n    <tr>\n      <th>0</th>\n      <td>V748 Cen</td>\n      <td>V* V748 Cen</td>\n      <td>6204217186929931520</td>\n      <td>0.0228</td>\n      <td>0.9771</td>\n      <td>0.0000</td>\n      <td>1</td>\n    </tr>\n    <tr>\n      <th>1</th>\n      <td>WRAY 16-294</td>\n      <td>WRAY 16-294</td>\n      <td>4061952680197028224</td>\n      <td>0.9027</td>\n      <td>0.0866</td>\n      <td>0.0107</td>\n      <td>0</td>\n    </tr>\n    <tr>\n      <th>2</th>\n      <td>DASCH J075731.1+201735</td>\n      <td>ASAS J075731+2017.6</td>\n      <td>670455944074475008</td>\n      <td>0.5603</td>\n      <td>0.0777</td>\n      <td>0.3620</td>\n      <td>0</td>\n    </tr>\n    <tr>\n      <th>3</th>\n      <td>ASAS J174600-2321.3</td>\n      <td>ASAS J174600-2321.3</td>\n      <td>4068755633500598272</td>\n      <td>0.0082</td>\n      <td>0.0626</td>\n      <td>0.9292</td>\n      <td>2</td>\n    </tr>\n    <tr>\n      <th>4</th>\n      <td>IPHASJ201550.96+373004.2</td>\n      <td>IRAS 20140+3720</td>\n      <td>2060829659152816768</td>\n      <td>0.0782</td>\n      <td>0.7818</td>\n      <td>0.1399</td>\n      <td>1</td>\n    </tr>\n  </tbody>\n</table>\n</div>"
     },
     "execution_count": 37,
     "metadata": {},
     "output_type": "execute_result"
    }
   ],
   "source": [
    "# Filtro de data frames\n",
    "df_filtered = df6.merge(df5, left_on=['Gaia DR3'], right_on=['source_id'], how='inner', indicator=True)\n",
    "df_filtered = df_filtered[df_filtered['_merge'] == 'both']\n",
    "df_filtered = df_filtered.iloc[:, [0, 1, 7, 9, 10, 11, 12]]\n",
    "df_filtered.head(5)"
   ],
   "metadata": {
    "collapsed": false
   }
  },
  {
   "cell_type": "code",
   "execution_count": 38,
   "outputs": [],
   "source": [
    "out_name = 'rna_unbalanced.csv'\n",
    "out_dir = '../../new/candidate_symbiotic_stars_v2/output'\n",
    "if not os.path.exists(out_dir):\n",
    "    os.mkdir(out_dir)\n",
    "\n",
    "fullname = os.path.join(out_dir, out_name)\n",
    "df_filtered.to_csv(fullname, header=True, index=False)"
   ],
   "metadata": {
    "collapsed": false
   }
  },
  {
   "cell_type": "code",
   "execution_count": null,
   "outputs": [],
   "source": [],
   "metadata": {
    "collapsed": false
   }
  }
 ],
 "metadata": {
  "kernelspec": {
   "display_name": "Python 3",
   "language": "python",
   "name": "python3"
  },
  "language_info": {
   "codemirror_mode": {
    "name": "ipython",
    "version": 2
   },
   "file_extension": ".py",
   "mimetype": "text/x-python",
   "name": "python",
   "nbconvert_exporter": "python",
   "pygments_lexer": "ipython2",
   "version": "2.7.6"
  }
 },
 "nbformat": 4,
 "nbformat_minor": 0
}
