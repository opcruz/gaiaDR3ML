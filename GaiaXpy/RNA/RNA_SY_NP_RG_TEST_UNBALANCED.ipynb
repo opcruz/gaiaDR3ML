{
 "cells": [
  {
   "cell_type": "code",
   "execution_count": 1,
   "outputs": [],
   "source": [
    "import pandas as pd\n",
    "import tensorflow as tf\n",
    "from sklearn.model_selection import train_test_split\n",
    "from sklearn.preprocessing import LabelEncoder\n",
    "import matplotlib.pyplot as plt\n",
    "import os\n",
    "from tensorflow import keras\n",
    "\n",
    "# cargar los datos\n",
    "# df = pd.read_csv(\"../../new/datasets/unbalanced_30000.csv\", header=None)\n",
    "# df = pd.read_csv(\"../../new/datasets/unbalanced_15000.csv\", header=None)\n",
    "df = pd.read_csv(\"../../new/datasets/unbalanced.csv\", header=None)\n",
    "\n",
    "# separar las características (X) y la etiqueta (y)\n",
    "X = df.drop(columns=343, axis=1)\n",
    "# y = df.iloc[343]\n",
    "y = df.iloc[:, 343]\n",
    "\n",
    "# codificar la etiqueta (y)\n",
    "encoder = LabelEncoder()\n",
    "y = encoder.fit_transform(y)\n",
    "\n",
    "# dividir el conjunto de datos en entrenamiento y prueba\n",
    "X_train, X_test, y_train, y_test = train_test_split(X, y, test_size=0.2, random_state=5, stratify=y)\n"
   ],
   "metadata": {
    "collapsed": false,
    "ExecuteTime": {
     "start_time": "2023-04-18T12:10:54.760450Z",
     "end_time": "2023-04-18T12:11:01.117743Z"
    }
   }
  },
  {
   "cell_type": "code",
   "execution_count": 2,
   "outputs": [],
   "source": [
    "column_names = ['wl_' + str(i) for i in range(336, 1021, 2)]"
   ],
   "metadata": {
    "collapsed": false
   }
  },
  {
   "cell_type": "code",
   "execution_count": 3,
   "outputs": [],
   "source": [
    "X_test.columns = column_names"
   ],
   "metadata": {
    "collapsed": false
   }
  },
  {
   "cell_type": "code",
   "execution_count": 4,
   "outputs": [],
   "source": [
    "# X_test['class'] = y_test"
   ],
   "metadata": {
    "collapsed": false
   }
  },
  {
   "cell_type": "code",
   "execution_count": 5,
   "outputs": [],
   "source": [
    "# X_test.to_csv('./test_stars.csv', index= False)"
   ],
   "metadata": {
    "collapsed": false
   }
  },
  {
   "cell_type": "code",
   "execution_count": 6,
   "outputs": [
    {
     "data": {
      "text/plain": "array([2, 1, 1, 1, 0, 2, 2, 2, 1, 1, 2, 1, 1, 0, 1, 2, 2, 1, 2, 2, 1, 0,\n       2, 1, 0, 2, 2, 2, 1, 1, 2, 2, 2, 2, 2, 1, 2, 1, 2, 2, 2, 2, 2, 2,\n       2, 2, 2, 2, 2, 2, 2, 1, 2, 2, 2, 1, 2, 2, 2, 2, 0, 1, 2, 2, 2, 0,\n       0, 2, 2, 1, 1, 1, 1, 2, 2, 2, 1, 2, 2, 1, 2, 1, 1, 2, 2, 2, 2, 0,\n       0, 2, 2, 2, 2, 2, 2, 1, 2, 2, 1, 2, 1, 2, 1, 0, 0, 2, 2, 1, 2, 1,\n       0, 2, 1, 2, 1, 1, 2, 2, 2, 1, 2, 2, 1, 2, 2, 0, 2, 2, 2, 2, 2, 1,\n       2, 1, 2, 2, 2, 1, 2, 2, 0, 2, 2, 0, 1, 2, 2, 2, 1, 2, 2, 2, 2, 0,\n       2, 2, 1, 1, 2, 2, 2, 2, 1, 2, 2, 2, 2, 2, 2, 2, 1, 1, 1, 2, 1, 0,\n       2, 2, 2, 2, 0, 1, 0, 1, 1, 1, 2, 2, 2, 2, 2, 2, 1, 2, 2, 2, 1, 2,\n       2, 2, 2, 2, 2, 2, 1, 2, 2, 2, 1, 2, 2, 1, 2, 1, 1, 2, 2, 1, 1, 1,\n       0, 0, 2, 1, 2, 1, 2, 1, 1, 2, 2, 0, 2, 2, 2, 0, 1, 2, 1, 2, 2, 2,\n       1, 2, 1, 0, 2, 2, 2, 2, 1, 0, 2, 2, 2, 2, 1, 0, 2, 2, 1, 2, 1, 2,\n       1, 2, 1, 2, 1, 2, 0, 1, 2, 1, 2, 1, 0, 1, 0, 2, 2, 1, 2, 2, 0, 2,\n       2, 1, 1, 2, 2, 2, 1, 1, 1, 2, 1, 2, 1, 2, 2, 2, 2, 1, 2, 1, 2, 1,\n       2, 2, 2, 2, 2, 2, 2, 2, 2, 2, 2, 2, 0, 1, 2, 1, 2, 2, 2, 0, 1, 2,\n       2, 2, 2, 0, 2, 1, 2, 2, 1, 2, 2, 2, 2, 1, 0, 2, 1, 2, 0, 2, 1, 1,\n       1, 1, 0, 2, 1, 2, 2, 2, 0, 1, 1, 1, 2, 1, 2, 0, 1, 2, 2, 2, 2, 2,\n       1, 2, 2, 2, 1, 2, 0, 0, 2, 2, 2, 2, 1, 2, 2, 1, 2, 1, 2, 2, 2],\n      dtype=int64)"
     },
     "execution_count": 6,
     "metadata": {},
     "output_type": "execute_result"
    }
   ],
   "source": [
    "y_test"
   ],
   "metadata": {
    "collapsed": false
   }
  },
  {
   "cell_type": "markdown",
   "source": [
    "# Prueba 1"
   ],
   "metadata": {
    "collapsed": false
   }
  },
  {
   "cell_type": "code",
   "execution_count": 7,
   "outputs": [],
   "source": [
    "# crear el modelo\n",
    "model = tf.keras.models.Sequential([\n",
    "    tf.keras.layers.Dense(10, activation='relu'),\n",
    "    # tf.keras.layers.Dropout(0.2),\n",
    "    tf.keras.layers.Dense(10, activation='relu'),\n",
    "    # tf.keras.layers.Dropout(0.2),\n",
    "    # tf.keras.layers.Dense(30, activation='relu'),\n",
    "    # tf.keras.layers.Dropout(0.2),\n",
    "    tf.keras.layers.Dense(3, activation='softmax')\n",
    "])\n",
    "\n",
    "# compilar el modelo\n",
    "model.compile(optimizer='adam',\n",
    "              loss='sparse_categorical_crossentropy',\n",
    "              metrics=['accuracy'])\n"
   ],
   "metadata": {
    "collapsed": false,
    "ExecuteTime": {
     "start_time": "2023-04-18T12:11:06.746549Z",
     "end_time": "2023-04-18T12:11:10.139974Z"
    }
   }
  },
  {
   "cell_type": "code",
   "execution_count": 8,
   "outputs": [
    {
     "name": "stdout",
     "output_type": "stream",
     "text": [
      "Epoch 1/100\n",
      "50/50 [==============================] - 1s 6ms/step - loss: 0.6367 - accuracy: 0.7038 - val_loss: 0.5150 - val_accuracy: 0.8304\n",
      "Epoch 2/100\n",
      "50/50 [==============================] - 0s 2ms/step - loss: 0.4170 - accuracy: 0.8589 - val_loss: 0.4528 - val_accuracy: 0.8532\n",
      "Epoch 3/100\n",
      "50/50 [==============================] - 0s 2ms/step - loss: 0.3710 - accuracy: 0.8791 - val_loss: 0.4260 - val_accuracy: 0.8532\n",
      "Epoch 4/100\n",
      "50/50 [==============================] - 0s 2ms/step - loss: 0.3445 - accuracy: 0.8873 - val_loss: 0.3954 - val_accuracy: 0.8608\n",
      "Epoch 5/100\n",
      "50/50 [==============================] - 0s 2ms/step - loss: 0.3242 - accuracy: 0.8886 - val_loss: 0.4009 - val_accuracy: 0.8329\n",
      "Epoch 6/100\n",
      "50/50 [==============================] - 0s 2ms/step - loss: 0.3191 - accuracy: 0.8911 - val_loss: 0.3757 - val_accuracy: 0.8709\n",
      "Epoch 7/100\n",
      "50/50 [==============================] - 0s 2ms/step - loss: 0.3061 - accuracy: 0.9000 - val_loss: 0.3791 - val_accuracy: 0.8633\n",
      "Epoch 8/100\n",
      "50/50 [==============================] - 0s 2ms/step - loss: 0.2929 - accuracy: 0.9019 - val_loss: 0.3693 - val_accuracy: 0.8633\n",
      "Epoch 9/100\n",
      "50/50 [==============================] - 0s 2ms/step - loss: 0.2857 - accuracy: 0.9019 - val_loss: 0.3623 - val_accuracy: 0.8709\n",
      "Epoch 10/100\n",
      "50/50 [==============================] - 0s 2ms/step - loss: 0.2786 - accuracy: 0.9089 - val_loss: 0.3782 - val_accuracy: 0.8785\n",
      "Epoch 11/100\n",
      "50/50 [==============================] - 0s 2ms/step - loss: 0.2926 - accuracy: 0.9063 - val_loss: 0.4097 - val_accuracy: 0.8709\n",
      "Epoch 12/100\n",
      "50/50 [==============================] - 0s 2ms/step - loss: 0.2747 - accuracy: 0.9108 - val_loss: 0.3546 - val_accuracy: 0.8684\n",
      "Epoch 13/100\n",
      "50/50 [==============================] - 0s 2ms/step - loss: 0.2689 - accuracy: 0.9108 - val_loss: 0.3512 - val_accuracy: 0.8709\n",
      "Epoch 14/100\n",
      "50/50 [==============================] - 0s 2ms/step - loss: 0.2654 - accuracy: 0.9133 - val_loss: 0.3645 - val_accuracy: 0.8759\n",
      "Epoch 15/100\n",
      "50/50 [==============================] - 0s 2ms/step - loss: 0.2663 - accuracy: 0.9120 - val_loss: 0.3404 - val_accuracy: 0.8734\n",
      "Epoch 16/100\n",
      "50/50 [==============================] - 0s 2ms/step - loss: 0.2563 - accuracy: 0.9215 - val_loss: 0.3359 - val_accuracy: 0.8835\n",
      "Epoch 17/100\n",
      "50/50 [==============================] - 0s 2ms/step - loss: 0.2529 - accuracy: 0.9209 - val_loss: 0.3401 - val_accuracy: 0.8759\n",
      "Epoch 18/100\n",
      "50/50 [==============================] - 0s 2ms/step - loss: 0.2510 - accuracy: 0.9190 - val_loss: 0.3361 - val_accuracy: 0.8810\n",
      "Epoch 19/100\n",
      "50/50 [==============================] - 0s 2ms/step - loss: 0.2492 - accuracy: 0.9247 - val_loss: 0.3478 - val_accuracy: 0.8861\n",
      "Epoch 20/100\n",
      "50/50 [==============================] - 0s 2ms/step - loss: 0.2452 - accuracy: 0.9222 - val_loss: 0.3352 - val_accuracy: 0.8785\n",
      "Epoch 21/100\n",
      "50/50 [==============================] - 0s 2ms/step - loss: 0.2400 - accuracy: 0.9247 - val_loss: 0.3449 - val_accuracy: 0.8886\n",
      "Epoch 22/100\n",
      "50/50 [==============================] - 0s 2ms/step - loss: 0.2452 - accuracy: 0.9222 - val_loss: 0.3289 - val_accuracy: 0.8785\n",
      "Epoch 23/100\n",
      "50/50 [==============================] - 0s 2ms/step - loss: 0.2385 - accuracy: 0.9241 - val_loss: 0.3340 - val_accuracy: 0.8886\n",
      "Epoch 24/100\n",
      "50/50 [==============================] - 0s 2ms/step - loss: 0.2371 - accuracy: 0.9259 - val_loss: 0.3279 - val_accuracy: 0.8911\n",
      "Epoch 25/100\n",
      "50/50 [==============================] - 0s 2ms/step - loss: 0.2301 - accuracy: 0.9266 - val_loss: 0.3417 - val_accuracy: 0.8835\n",
      "Epoch 26/100\n",
      "50/50 [==============================] - 0s 2ms/step - loss: 0.2426 - accuracy: 0.9266 - val_loss: 0.3248 - val_accuracy: 0.8785\n",
      "Epoch 27/100\n",
      "50/50 [==============================] - 0s 2ms/step - loss: 0.2264 - accuracy: 0.9297 - val_loss: 0.3226 - val_accuracy: 0.8785\n",
      "Epoch 28/100\n",
      "50/50 [==============================] - 0s 2ms/step - loss: 0.2372 - accuracy: 0.9266 - val_loss: 0.3682 - val_accuracy: 0.8911\n",
      "Epoch 29/100\n",
      "50/50 [==============================] - 0s 2ms/step - loss: 0.2228 - accuracy: 0.9278 - val_loss: 0.3213 - val_accuracy: 0.8911\n",
      "Epoch 30/100\n",
      "50/50 [==============================] - 0s 2ms/step - loss: 0.2228 - accuracy: 0.9297 - val_loss: 0.3313 - val_accuracy: 0.8810\n",
      "Epoch 31/100\n",
      "50/50 [==============================] - 0s 2ms/step - loss: 0.2262 - accuracy: 0.9291 - val_loss: 0.3456 - val_accuracy: 0.8911\n",
      "Epoch 32/100\n",
      "50/50 [==============================] - 0s 2ms/step - loss: 0.2216 - accuracy: 0.9316 - val_loss: 0.3410 - val_accuracy: 0.8886\n",
      "Epoch 33/100\n",
      "50/50 [==============================] - 0s 2ms/step - loss: 0.2234 - accuracy: 0.9304 - val_loss: 0.3187 - val_accuracy: 0.8937\n",
      "Epoch 34/100\n",
      "50/50 [==============================] - 0s 2ms/step - loss: 0.2247 - accuracy: 0.9323 - val_loss: 0.3168 - val_accuracy: 0.8785\n",
      "Epoch 35/100\n",
      "50/50 [==============================] - 0s 2ms/step - loss: 0.2250 - accuracy: 0.9297 - val_loss: 0.3253 - val_accuracy: 0.8937\n",
      "Epoch 36/100\n",
      "50/50 [==============================] - 0s 2ms/step - loss: 0.2271 - accuracy: 0.9241 - val_loss: 0.3236 - val_accuracy: 0.8962\n",
      "Epoch 37/100\n",
      "50/50 [==============================] - 0s 3ms/step - loss: 0.2121 - accuracy: 0.9354 - val_loss: 0.3370 - val_accuracy: 0.8911\n",
      "Epoch 38/100\n",
      "50/50 [==============================] - 0s 2ms/step - loss: 0.2125 - accuracy: 0.9354 - val_loss: 0.3242 - val_accuracy: 0.8962\n",
      "Epoch 39/100\n",
      "50/50 [==============================] - 0s 2ms/step - loss: 0.2114 - accuracy: 0.9354 - val_loss: 0.3162 - val_accuracy: 0.8962\n",
      "Epoch 40/100\n",
      "50/50 [==============================] - 0s 2ms/step - loss: 0.2125 - accuracy: 0.9348 - val_loss: 0.3127 - val_accuracy: 0.8987\n",
      "Epoch 41/100\n",
      "50/50 [==============================] - 0s 3ms/step - loss: 0.2175 - accuracy: 0.9304 - val_loss: 0.3336 - val_accuracy: 0.8911\n",
      "Epoch 42/100\n",
      "50/50 [==============================] - 0s 2ms/step - loss: 0.2106 - accuracy: 0.9342 - val_loss: 0.3097 - val_accuracy: 0.8987\n",
      "Epoch 43/100\n",
      "50/50 [==============================] - 0s 2ms/step - loss: 0.2088 - accuracy: 0.9316 - val_loss: 0.3132 - val_accuracy: 0.8810\n",
      "Epoch 44/100\n",
      "50/50 [==============================] - 0s 2ms/step - loss: 0.2086 - accuracy: 0.9316 - val_loss: 0.3119 - val_accuracy: 0.8962\n",
      "Epoch 45/100\n",
      "50/50 [==============================] - 0s 2ms/step - loss: 0.2060 - accuracy: 0.9373 - val_loss: 0.3692 - val_accuracy: 0.8911\n",
      "Epoch 46/100\n",
      "50/50 [==============================] - 0s 2ms/step - loss: 0.2057 - accuracy: 0.9335 - val_loss: 0.3237 - val_accuracy: 0.8937\n",
      "Epoch 47/100\n",
      "50/50 [==============================] - 0s 2ms/step - loss: 0.2096 - accuracy: 0.9335 - val_loss: 0.3256 - val_accuracy: 0.8987\n",
      "Epoch 48/100\n",
      "50/50 [==============================] - 0s 2ms/step - loss: 0.2044 - accuracy: 0.9335 - val_loss: 0.3204 - val_accuracy: 0.8911\n",
      "Epoch 49/100\n",
      "50/50 [==============================] - 0s 2ms/step - loss: 0.2012 - accuracy: 0.9316 - val_loss: 0.3251 - val_accuracy: 0.8937\n",
      "Epoch 50/100\n",
      "50/50 [==============================] - 0s 3ms/step - loss: 0.2099 - accuracy: 0.9361 - val_loss: 0.3201 - val_accuracy: 0.8962\n",
      "Epoch 51/100\n",
      "50/50 [==============================] - 0s 2ms/step - loss: 0.2024 - accuracy: 0.9329 - val_loss: 0.3121 - val_accuracy: 0.8911\n",
      "Epoch 52/100\n",
      "50/50 [==============================] - 0s 2ms/step - loss: 0.1967 - accuracy: 0.9354 - val_loss: 0.3273 - val_accuracy: 0.8962\n",
      "Epoch 53/100\n",
      "50/50 [==============================] - 0s 2ms/step - loss: 0.2173 - accuracy: 0.9335 - val_loss: 0.3158 - val_accuracy: 0.8911\n",
      "Epoch 54/100\n",
      "50/50 [==============================] - 0s 2ms/step - loss: 0.2089 - accuracy: 0.9354 - val_loss: 0.3173 - val_accuracy: 0.8987\n",
      "Epoch 55/100\n",
      "50/50 [==============================] - 0s 2ms/step - loss: 0.2038 - accuracy: 0.9380 - val_loss: 0.3076 - val_accuracy: 0.8987\n",
      "Epoch 56/100\n",
      "50/50 [==============================] - 0s 2ms/step - loss: 0.1975 - accuracy: 0.9361 - val_loss: 0.3090 - val_accuracy: 0.8962\n",
      "Epoch 57/100\n",
      "50/50 [==============================] - 0s 2ms/step - loss: 0.2015 - accuracy: 0.9373 - val_loss: 0.3089 - val_accuracy: 0.8987\n",
      "Epoch 58/100\n",
      "50/50 [==============================] - 0s 2ms/step - loss: 0.1936 - accuracy: 0.9380 - val_loss: 0.3156 - val_accuracy: 0.8937\n",
      "Epoch 59/100\n",
      "50/50 [==============================] - 0s 2ms/step - loss: 0.1971 - accuracy: 0.9354 - val_loss: 0.3369 - val_accuracy: 0.8987\n",
      "Epoch 60/100\n",
      "50/50 [==============================] - 0s 2ms/step - loss: 0.1977 - accuracy: 0.9386 - val_loss: 0.3236 - val_accuracy: 0.8962\n",
      "Epoch 61/100\n",
      "50/50 [==============================] - 0s 2ms/step - loss: 0.1914 - accuracy: 0.9399 - val_loss: 0.3127 - val_accuracy: 0.9013\n",
      "Epoch 62/100\n",
      "50/50 [==============================] - 0s 2ms/step - loss: 0.2004 - accuracy: 0.9354 - val_loss: 0.3080 - val_accuracy: 0.8987\n",
      "Epoch 63/100\n",
      "50/50 [==============================] - 0s 2ms/step - loss: 0.1877 - accuracy: 0.9380 - val_loss: 0.3210 - val_accuracy: 0.8937\n",
      "Epoch 64/100\n",
      "50/50 [==============================] - 0s 2ms/step - loss: 0.1985 - accuracy: 0.9386 - val_loss: 0.3151 - val_accuracy: 0.8937\n",
      "Epoch 65/100\n",
      "50/50 [==============================] - 0s 2ms/step - loss: 0.1946 - accuracy: 0.9367 - val_loss: 0.3116 - val_accuracy: 0.8987\n",
      "Epoch 66/100\n",
      "50/50 [==============================] - 0s 2ms/step - loss: 0.1933 - accuracy: 0.9354 - val_loss: 0.3035 - val_accuracy: 0.8937\n",
      "Epoch 67/100\n",
      "50/50 [==============================] - 0s 2ms/step - loss: 0.1905 - accuracy: 0.9405 - val_loss: 0.3127 - val_accuracy: 0.8835\n",
      "Epoch 68/100\n",
      "50/50 [==============================] - 0s 2ms/step - loss: 0.1900 - accuracy: 0.9405 - val_loss: 0.3291 - val_accuracy: 0.8987\n",
      "Epoch 69/100\n",
      "50/50 [==============================] - 0s 2ms/step - loss: 0.1935 - accuracy: 0.9373 - val_loss: 0.3116 - val_accuracy: 0.8937\n",
      "Epoch 70/100\n",
      "50/50 [==============================] - 0s 2ms/step - loss: 0.1882 - accuracy: 0.9405 - val_loss: 0.3165 - val_accuracy: 0.8937\n",
      "Epoch 71/100\n",
      "50/50 [==============================] - 0s 2ms/step - loss: 0.1978 - accuracy: 0.9361 - val_loss: 0.3052 - val_accuracy: 0.8911\n",
      "Epoch 72/100\n",
      "50/50 [==============================] - 0s 2ms/step - loss: 0.1901 - accuracy: 0.9386 - val_loss: 0.3400 - val_accuracy: 0.8937\n",
      "Epoch 73/100\n",
      "50/50 [==============================] - 0s 2ms/step - loss: 0.1886 - accuracy: 0.9354 - val_loss: 0.3115 - val_accuracy: 0.8937\n",
      "Epoch 74/100\n",
      "50/50 [==============================] - 0s 2ms/step - loss: 0.1840 - accuracy: 0.9411 - val_loss: 0.3111 - val_accuracy: 0.8886\n",
      "Epoch 75/100\n",
      "50/50 [==============================] - 0s 2ms/step - loss: 0.1848 - accuracy: 0.9361 - val_loss: 0.3055 - val_accuracy: 0.8937\n",
      "Epoch 76/100\n",
      "50/50 [==============================] - 0s 2ms/step - loss: 0.1822 - accuracy: 0.9443 - val_loss: 0.3153 - val_accuracy: 0.8937\n",
      "Epoch 77/100\n",
      "50/50 [==============================] - 0s 2ms/step - loss: 0.1877 - accuracy: 0.9373 - val_loss: 0.3149 - val_accuracy: 0.9013\n",
      "Epoch 78/100\n",
      "50/50 [==============================] - 0s 2ms/step - loss: 0.1879 - accuracy: 0.9411 - val_loss: 0.3680 - val_accuracy: 0.8987\n",
      "Epoch 79/100\n",
      "50/50 [==============================] - 0s 2ms/step - loss: 0.1908 - accuracy: 0.9399 - val_loss: 0.3383 - val_accuracy: 0.9038\n",
      "Epoch 80/100\n",
      "50/50 [==============================] - 0s 2ms/step - loss: 0.1907 - accuracy: 0.9443 - val_loss: 0.3386 - val_accuracy: 0.8987\n",
      "Epoch 81/100\n",
      "50/50 [==============================] - 0s 2ms/step - loss: 0.1834 - accuracy: 0.9424 - val_loss: 0.3235 - val_accuracy: 0.8937\n",
      "Epoch 82/100\n",
      "50/50 [==============================] - 0s 2ms/step - loss: 0.1864 - accuracy: 0.9392 - val_loss: 0.3468 - val_accuracy: 0.9063\n",
      "Epoch 83/100\n",
      "50/50 [==============================] - 0s 2ms/step - loss: 0.1851 - accuracy: 0.9411 - val_loss: 0.3191 - val_accuracy: 0.8962\n",
      "Epoch 84/100\n",
      "50/50 [==============================] - 0s 2ms/step - loss: 0.1800 - accuracy: 0.9411 - val_loss: 0.3838 - val_accuracy: 0.8886\n",
      "Epoch 85/100\n",
      "50/50 [==============================] - 0s 2ms/step - loss: 0.1916 - accuracy: 0.9373 - val_loss: 0.3246 - val_accuracy: 0.8987\n",
      "Epoch 86/100\n",
      "50/50 [==============================] - 0s 2ms/step - loss: 0.1780 - accuracy: 0.9449 - val_loss: 0.3237 - val_accuracy: 0.9038\n",
      "Epoch 87/100\n",
      "50/50 [==============================] - 0s 2ms/step - loss: 0.1959 - accuracy: 0.9354 - val_loss: 0.3358 - val_accuracy: 0.8962\n",
      "Epoch 88/100\n",
      "50/50 [==============================] - 0s 2ms/step - loss: 0.1844 - accuracy: 0.9405 - val_loss: 0.3286 - val_accuracy: 0.9038\n",
      "Epoch 89/100\n",
      "50/50 [==============================] - 0s 2ms/step - loss: 0.1782 - accuracy: 0.9399 - val_loss: 0.3131 - val_accuracy: 0.9013\n",
      "Epoch 90/100\n",
      "50/50 [==============================] - 0s 2ms/step - loss: 0.1798 - accuracy: 0.9411 - val_loss: 0.3120 - val_accuracy: 0.8987\n",
      "Epoch 91/100\n",
      "50/50 [==============================] - 0s 2ms/step - loss: 0.1891 - accuracy: 0.9437 - val_loss: 0.3091 - val_accuracy: 0.9038\n",
      "Epoch 92/100\n",
      "50/50 [==============================] - 0s 2ms/step - loss: 0.1810 - accuracy: 0.9411 - val_loss: 0.3188 - val_accuracy: 0.9013\n",
      "Epoch 93/100\n",
      "50/50 [==============================] - 0s 2ms/step - loss: 0.1987 - accuracy: 0.9361 - val_loss: 0.3260 - val_accuracy: 0.8911\n",
      "Epoch 94/100\n",
      "50/50 [==============================] - 0s 2ms/step - loss: 0.1882 - accuracy: 0.9342 - val_loss: 0.3192 - val_accuracy: 0.8987\n",
      "Epoch 95/100\n",
      "50/50 [==============================] - 0s 2ms/step - loss: 0.1812 - accuracy: 0.9424 - val_loss: 0.3188 - val_accuracy: 0.8962\n",
      "Epoch 96/100\n",
      "50/50 [==============================] - 0s 2ms/step - loss: 0.1785 - accuracy: 0.9405 - val_loss: 0.3204 - val_accuracy: 0.8987\n",
      "Epoch 97/100\n",
      "50/50 [==============================] - 0s 2ms/step - loss: 0.1764 - accuracy: 0.9430 - val_loss: 0.3385 - val_accuracy: 0.9063\n",
      "Epoch 98/100\n",
      "50/50 [==============================] - 0s 2ms/step - loss: 0.1747 - accuracy: 0.9443 - val_loss: 0.3391 - val_accuracy: 0.8987\n",
      "Epoch 99/100\n",
      "50/50 [==============================] - 0s 2ms/step - loss: 0.1852 - accuracy: 0.9418 - val_loss: 0.3597 - val_accuracy: 0.8987\n",
      "Epoch 100/100\n",
      "50/50 [==============================] - 0s 2ms/step - loss: 0.1762 - accuracy: 0.9462 - val_loss: 0.3471 - val_accuracy: 0.8962\n"
     ]
    }
   ],
   "source": [
    "# entrenar el modelo\n",
    "history = model.fit(X_train, y_train, epochs=100, batch_size=32, validation_data=(X_test, y_test))\n"
   ],
   "metadata": {
    "collapsed": false,
    "ExecuteTime": {
     "start_time": "2023-04-18T12:11:11.063778Z",
     "end_time": "2023-04-18T12:13:54.776459Z"
    }
   }
  },
  {
   "cell_type": "markdown",
   "source": [
    "# Classify all Red Giants"
   ],
   "metadata": {
    "collapsed": false
   }
  },
  {
   "cell_type": "code",
   "execution_count": 9,
   "outputs": [
    {
     "name": "stdout",
     "output_type": "stream",
     "text": [
      "2161/2161 [==============================] - 2s 861us/step\n",
      "[[    0     0     0]\n",
      " [    0     0     0]\n",
      " [   70   585 68491]]\n"
     ]
    }
   ],
   "source": [
    "df_rg = df = pd.read_csv(\"../../new/normalized/RG.csv\", header=None)\n",
    "\n",
    "import numpy as np\n",
    "from sklearn.metrics import confusion_matrix\n",
    "\n",
    "# predecir las probabilidades para los datos de prueba\n",
    "y_probs = model.predict(df_rg)\n",
    "y_pred = np.argmax(y_probs, axis=-1)\n",
    "cm = confusion_matrix([2 for _ in range(69146)], y_pred)\n",
    "print(cm)\n"
   ],
   "metadata": {
    "collapsed": false
   }
  },
  {
   "cell_type": "code",
   "execution_count": 10,
   "outputs": [
    {
     "name": "stdout",
     "output_type": "stream",
     "text": [
      "13/13 [==============================] - 0s 1ms/step\n",
      "[[ 32   2   6]\n",
      " [  6  88  21]\n",
      " [  1   5 234]]\n"
     ]
    }
   ],
   "source": [
    "import numpy as np\n",
    "from sklearn.metrics import confusion_matrix\n",
    "\n",
    "# predecir las probabilidades para los datos de prueba\n",
    "y_probs = model.predict(X_test)\n",
    "y_pred = np.argmax(y_probs, axis=-1)\n",
    "cm = confusion_matrix(y_test, y_pred)\n",
    "print(cm)\n"
   ],
   "metadata": {
    "collapsed": false,
    "ExecuteTime": {
     "start_time": "2023-04-18T12:14:01.805738Z",
     "end_time": "2023-04-18T12:14:02.318586Z"
    }
   }
  },
  {
   "cell_type": "code",
   "execution_count": 12,
   "outputs": [
    {
     "name": "stdout",
     "output_type": "stream",
     "text": [
      "              precision    recall  f1-score   support\n",
      "\n",
      "           0     0.8205    0.8000    0.8101        40\n",
      "           1     0.9263    0.7652    0.8381       115\n",
      "           2     0.8966    0.9750    0.9341       240\n",
      "\n",
      "    accuracy                         0.8962       395\n",
      "   macro avg     0.8811    0.8467    0.8608       395\n",
      "weighted avg     0.8975    0.8962    0.8936       395\n",
      "\n"
     ]
    }
   ],
   "source": [
    "from sklearn.metrics import classification_report\n",
    "\n",
    "report = classification_report(y_test, y_pred, digits=4)\n",
    "print(report)"
   ],
   "metadata": {
    "collapsed": false,
    "ExecuteTime": {
     "start_time": "2023-04-18T12:14:03.495315Z",
     "end_time": "2023-04-18T12:14:03.527699Z"
    }
   }
  },
  {
   "cell_type": "code",
   "execution_count": 13,
   "outputs": [
    {
     "name": "stdout",
     "output_type": "stream",
     "text": [
      "Cohen's kappa:  0.799814585908529\n"
     ]
    }
   ],
   "source": [
    "from sklearn.metrics import cohen_kappa_score, classification_report\n",
    "\n",
    "print(\"Cohen's kappa: \", cohen_kappa_score(y_test, y_pred))"
   ],
   "metadata": {
    "collapsed": false
   }
  },
  {
   "cell_type": "markdown",
   "source": [
    "# Save model"
   ],
   "metadata": {
    "collapsed": false
   }
  },
  {
   "cell_type": "code",
   "execution_count": 14,
   "outputs": [],
   "source": [
    "# Save the model to a single file\n",
    "model.save( './rna_unbalance_test1.keras', save_format='keras_v3')"
   ],
   "metadata": {
    "collapsed": false
   }
  },
  {
   "cell_type": "markdown",
   "source": [
    "# Prueba 2"
   ],
   "metadata": {
    "collapsed": false
   }
  },
  {
   "cell_type": "code",
   "execution_count": 15,
   "outputs": [
    {
     "name": "stdout",
     "output_type": "stream",
     "text": [
      "Epoch 1/100\n",
      "50/50 [==============================] - 1s 6ms/step - loss: 0.6514 - accuracy: 0.7544 - val_loss: 0.5284 - val_accuracy: 0.8253\n",
      "Epoch 2/100\n",
      "50/50 [==============================] - 0s 2ms/step - loss: 0.4202 - accuracy: 0.8627 - val_loss: 0.4310 - val_accuracy: 0.8405\n",
      "Epoch 3/100\n",
      "50/50 [==============================] - 0s 3ms/step - loss: 0.3526 - accuracy: 0.8772 - val_loss: 0.4033 - val_accuracy: 0.8557\n",
      "Epoch 4/100\n",
      "50/50 [==============================] - 0s 2ms/step - loss: 0.3332 - accuracy: 0.8854 - val_loss: 0.3986 - val_accuracy: 0.8658\n",
      "Epoch 5/100\n",
      "50/50 [==============================] - 0s 2ms/step - loss: 0.3107 - accuracy: 0.8918 - val_loss: 0.3827 - val_accuracy: 0.8481\n",
      "Epoch 6/100\n",
      "50/50 [==============================] - 0s 2ms/step - loss: 0.3006 - accuracy: 0.9038 - val_loss: 0.3720 - val_accuracy: 0.8608\n",
      "Epoch 7/100\n",
      "50/50 [==============================] - 0s 2ms/step - loss: 0.2907 - accuracy: 0.9038 - val_loss: 0.3637 - val_accuracy: 0.8658\n",
      "Epoch 8/100\n",
      "50/50 [==============================] - 0s 2ms/step - loss: 0.2804 - accuracy: 0.9025 - val_loss: 0.3560 - val_accuracy: 0.8734\n",
      "Epoch 9/100\n",
      "50/50 [==============================] - 0s 2ms/step - loss: 0.2653 - accuracy: 0.9190 - val_loss: 0.3628 - val_accuracy: 0.8481\n",
      "Epoch 10/100\n",
      "50/50 [==============================] - 0s 2ms/step - loss: 0.2575 - accuracy: 0.9209 - val_loss: 0.3364 - val_accuracy: 0.8709\n",
      "Epoch 11/100\n",
      "50/50 [==============================] - 0s 2ms/step - loss: 0.2558 - accuracy: 0.9209 - val_loss: 0.3305 - val_accuracy: 0.8810\n",
      "Epoch 12/100\n",
      "50/50 [==============================] - 0s 2ms/step - loss: 0.2497 - accuracy: 0.9222 - val_loss: 0.3466 - val_accuracy: 0.8759\n",
      "Epoch 13/100\n",
      "50/50 [==============================] - 0s 2ms/step - loss: 0.2605 - accuracy: 0.9203 - val_loss: 0.3277 - val_accuracy: 0.8759\n",
      "Epoch 14/100\n",
      "50/50 [==============================] - 0s 2ms/step - loss: 0.2353 - accuracy: 0.9259 - val_loss: 0.3210 - val_accuracy: 0.8734\n",
      "Epoch 15/100\n",
      "50/50 [==============================] - 0s 2ms/step - loss: 0.2365 - accuracy: 0.9272 - val_loss: 0.3328 - val_accuracy: 0.8734\n",
      "Epoch 16/100\n",
      "50/50 [==============================] - 0s 2ms/step - loss: 0.2321 - accuracy: 0.9285 - val_loss: 0.3175 - val_accuracy: 0.8886\n",
      "Epoch 17/100\n",
      "50/50 [==============================] - 0s 2ms/step - loss: 0.2287 - accuracy: 0.9323 - val_loss: 0.3433 - val_accuracy: 0.8785\n",
      "Epoch 18/100\n",
      "50/50 [==============================] - 0s 2ms/step - loss: 0.2181 - accuracy: 0.9310 - val_loss: 0.3369 - val_accuracy: 0.8835\n",
      "Epoch 19/100\n",
      "50/50 [==============================] - 0s 2ms/step - loss: 0.2193 - accuracy: 0.9316 - val_loss: 0.3063 - val_accuracy: 0.8911\n",
      "Epoch 20/100\n",
      "50/50 [==============================] - 0s 2ms/step - loss: 0.2221 - accuracy: 0.9310 - val_loss: 0.3013 - val_accuracy: 0.8911\n",
      "Epoch 21/100\n",
      "50/50 [==============================] - 0s 2ms/step - loss: 0.2176 - accuracy: 0.9310 - val_loss: 0.3177 - val_accuracy: 0.8886\n",
      "Epoch 22/100\n",
      "50/50 [==============================] - 0s 2ms/step - loss: 0.2096 - accuracy: 0.9386 - val_loss: 0.2976 - val_accuracy: 0.8962\n",
      "Epoch 23/100\n",
      "50/50 [==============================] - 0s 2ms/step - loss: 0.2121 - accuracy: 0.9335 - val_loss: 0.2956 - val_accuracy: 0.8861\n",
      "Epoch 24/100\n",
      "50/50 [==============================] - 0s 2ms/step - loss: 0.2131 - accuracy: 0.9316 - val_loss: 0.2913 - val_accuracy: 0.8886\n",
      "Epoch 25/100\n",
      "50/50 [==============================] - 0s 2ms/step - loss: 0.2035 - accuracy: 0.9399 - val_loss: 0.2902 - val_accuracy: 0.8937\n",
      "Epoch 26/100\n",
      "50/50 [==============================] - 0s 2ms/step - loss: 0.2142 - accuracy: 0.9323 - val_loss: 0.3123 - val_accuracy: 0.8937\n",
      "Epoch 27/100\n",
      "50/50 [==============================] - 0s 2ms/step - loss: 0.1974 - accuracy: 0.9342 - val_loss: 0.3150 - val_accuracy: 0.8886\n",
      "Epoch 28/100\n",
      "50/50 [==============================] - 0s 3ms/step - loss: 0.2014 - accuracy: 0.9380 - val_loss: 0.2890 - val_accuracy: 0.8987\n",
      "Epoch 29/100\n",
      "50/50 [==============================] - 0s 3ms/step - loss: 0.1999 - accuracy: 0.9342 - val_loss: 0.3062 - val_accuracy: 0.8861\n",
      "Epoch 30/100\n",
      "50/50 [==============================] - 0s 2ms/step - loss: 0.2028 - accuracy: 0.9367 - val_loss: 0.2871 - val_accuracy: 0.8911\n",
      "Epoch 31/100\n",
      "50/50 [==============================] - 0s 2ms/step - loss: 0.1936 - accuracy: 0.9392 - val_loss: 0.2949 - val_accuracy: 0.8962\n",
      "Epoch 32/100\n",
      "50/50 [==============================] - 0s 2ms/step - loss: 0.1907 - accuracy: 0.9399 - val_loss: 0.3155 - val_accuracy: 0.8861\n",
      "Epoch 33/100\n",
      "50/50 [==============================] - 0s 2ms/step - loss: 0.1939 - accuracy: 0.9418 - val_loss: 0.3248 - val_accuracy: 0.8987\n",
      "Epoch 34/100\n",
      "50/50 [==============================] - 0s 2ms/step - loss: 0.1938 - accuracy: 0.9367 - val_loss: 0.3014 - val_accuracy: 0.8962\n",
      "Epoch 35/100\n",
      "50/50 [==============================] - 0s 2ms/step - loss: 0.1916 - accuracy: 0.9392 - val_loss: 0.3001 - val_accuracy: 0.8810\n",
      "Epoch 36/100\n",
      "50/50 [==============================] - 0s 2ms/step - loss: 0.1898 - accuracy: 0.9399 - val_loss: 0.2915 - val_accuracy: 0.8937\n",
      "Epoch 37/100\n",
      "50/50 [==============================] - 0s 2ms/step - loss: 0.1866 - accuracy: 0.9405 - val_loss: 0.3284 - val_accuracy: 0.8987\n",
      "Epoch 38/100\n",
      "50/50 [==============================] - 0s 2ms/step - loss: 0.2028 - accuracy: 0.9361 - val_loss: 0.3044 - val_accuracy: 0.8886\n",
      "Epoch 39/100\n",
      "50/50 [==============================] - 0s 2ms/step - loss: 0.1911 - accuracy: 0.9361 - val_loss: 0.2980 - val_accuracy: 0.8962\n",
      "Epoch 40/100\n",
      "50/50 [==============================] - 0s 2ms/step - loss: 0.1825 - accuracy: 0.9405 - val_loss: 0.2980 - val_accuracy: 0.8810\n",
      "Epoch 41/100\n",
      "50/50 [==============================] - 0s 2ms/step - loss: 0.1954 - accuracy: 0.9361 - val_loss: 0.2968 - val_accuracy: 0.8937\n",
      "Epoch 42/100\n",
      "50/50 [==============================] - 0s 2ms/step - loss: 0.1826 - accuracy: 0.9392 - val_loss: 0.2984 - val_accuracy: 0.8962\n",
      "Epoch 43/100\n",
      "50/50 [==============================] - 0s 2ms/step - loss: 0.1918 - accuracy: 0.9373 - val_loss: 0.2878 - val_accuracy: 0.8937\n",
      "Epoch 44/100\n",
      "50/50 [==============================] - 0s 2ms/step - loss: 0.1865 - accuracy: 0.9386 - val_loss: 0.2835 - val_accuracy: 0.8987\n",
      "Epoch 45/100\n",
      "50/50 [==============================] - 0s 2ms/step - loss: 0.1823 - accuracy: 0.9367 - val_loss: 0.2896 - val_accuracy: 0.9038\n",
      "Epoch 46/100\n",
      "50/50 [==============================] - 0s 2ms/step - loss: 0.1782 - accuracy: 0.9462 - val_loss: 0.2843 - val_accuracy: 0.8987\n",
      "Epoch 47/100\n",
      "50/50 [==============================] - 0s 2ms/step - loss: 0.1881 - accuracy: 0.9342 - val_loss: 0.3000 - val_accuracy: 0.8937\n",
      "Epoch 48/100\n",
      "50/50 [==============================] - 0s 2ms/step - loss: 0.1807 - accuracy: 0.9411 - val_loss: 0.3021 - val_accuracy: 0.8861\n",
      "Epoch 49/100\n",
      "50/50 [==============================] - 0s 2ms/step - loss: 0.1835 - accuracy: 0.9424 - val_loss: 0.2950 - val_accuracy: 0.8886\n",
      "Epoch 50/100\n",
      "50/50 [==============================] - 0s 2ms/step - loss: 0.1838 - accuracy: 0.9443 - val_loss: 0.3281 - val_accuracy: 0.8987\n",
      "Epoch 51/100\n",
      "50/50 [==============================] - 0s 2ms/step - loss: 0.1819 - accuracy: 0.9392 - val_loss: 0.2971 - val_accuracy: 0.8911\n",
      "Epoch 52/100\n",
      "50/50 [==============================] - 0s 2ms/step - loss: 0.1806 - accuracy: 0.9411 - val_loss: 0.2995 - val_accuracy: 0.8861\n",
      "Epoch 53/100\n",
      "50/50 [==============================] - 0s 2ms/step - loss: 0.1787 - accuracy: 0.9443 - val_loss: 0.2958 - val_accuracy: 0.8886\n",
      "Epoch 54/100\n",
      "50/50 [==============================] - 0s 2ms/step - loss: 0.1826 - accuracy: 0.9424 - val_loss: 0.3034 - val_accuracy: 0.8886\n",
      "Epoch 55/100\n",
      "50/50 [==============================] - 0s 2ms/step - loss: 0.1846 - accuracy: 0.9405 - val_loss: 0.3033 - val_accuracy: 0.9063\n",
      "Epoch 56/100\n",
      "50/50 [==============================] - 0s 2ms/step - loss: 0.1790 - accuracy: 0.9399 - val_loss: 0.2928 - val_accuracy: 0.8962\n",
      "Epoch 57/100\n",
      "50/50 [==============================] - 0s 2ms/step - loss: 0.1769 - accuracy: 0.9405 - val_loss: 0.3369 - val_accuracy: 0.8987\n",
      "Epoch 58/100\n",
      "50/50 [==============================] - 0s 2ms/step - loss: 0.1781 - accuracy: 0.9418 - val_loss: 0.2915 - val_accuracy: 0.9038\n",
      "Epoch 59/100\n",
      "50/50 [==============================] - 0s 2ms/step - loss: 0.1811 - accuracy: 0.9418 - val_loss: 0.3004 - val_accuracy: 0.8911\n",
      "Epoch 60/100\n",
      "50/50 [==============================] - 0s 2ms/step - loss: 0.1817 - accuracy: 0.9367 - val_loss: 0.3002 - val_accuracy: 0.9063\n",
      "Epoch 61/100\n",
      "50/50 [==============================] - 0s 2ms/step - loss: 0.1788 - accuracy: 0.9424 - val_loss: 0.3005 - val_accuracy: 0.9038\n",
      "Epoch 62/100\n",
      "50/50 [==============================] - 0s 2ms/step - loss: 0.1733 - accuracy: 0.9418 - val_loss: 0.3095 - val_accuracy: 0.8987\n",
      "Epoch 63/100\n",
      "50/50 [==============================] - 0s 2ms/step - loss: 0.1791 - accuracy: 0.9418 - val_loss: 0.2912 - val_accuracy: 0.8937\n",
      "Epoch 64/100\n",
      "50/50 [==============================] - 0s 2ms/step - loss: 0.1689 - accuracy: 0.9418 - val_loss: 0.3090 - val_accuracy: 0.8886\n",
      "Epoch 65/100\n",
      "50/50 [==============================] - 0s 2ms/step - loss: 0.1693 - accuracy: 0.9449 - val_loss: 0.3013 - val_accuracy: 0.9038\n",
      "Epoch 66/100\n",
      "50/50 [==============================] - 0s 2ms/step - loss: 0.1681 - accuracy: 0.9475 - val_loss: 0.2885 - val_accuracy: 0.9013\n",
      "Epoch 67/100\n",
      "50/50 [==============================] - 0s 2ms/step - loss: 0.1672 - accuracy: 0.9443 - val_loss: 0.2987 - val_accuracy: 0.8987\n",
      "Epoch 68/100\n",
      "50/50 [==============================] - 0s 2ms/step - loss: 0.1747 - accuracy: 0.9418 - val_loss: 0.2985 - val_accuracy: 0.8987\n",
      "Epoch 69/100\n",
      "50/50 [==============================] - 0s 2ms/step - loss: 0.1767 - accuracy: 0.9418 - val_loss: 0.3169 - val_accuracy: 0.9013\n",
      "Epoch 70/100\n",
      "50/50 [==============================] - 0s 2ms/step - loss: 0.1669 - accuracy: 0.9443 - val_loss: 0.2873 - val_accuracy: 0.9013\n",
      "Epoch 71/100\n",
      "50/50 [==============================] - 0s 2ms/step - loss: 0.1742 - accuracy: 0.9462 - val_loss: 0.2986 - val_accuracy: 0.8962\n",
      "Epoch 72/100\n",
      "50/50 [==============================] - 0s 2ms/step - loss: 0.1656 - accuracy: 0.9418 - val_loss: 0.3436 - val_accuracy: 0.8962\n",
      "Epoch 73/100\n",
      "50/50 [==============================] - 0s 2ms/step - loss: 0.1796 - accuracy: 0.9449 - val_loss: 0.2936 - val_accuracy: 0.8987\n",
      "Epoch 74/100\n",
      "50/50 [==============================] - 0s 2ms/step - loss: 0.1632 - accuracy: 0.9487 - val_loss: 0.2902 - val_accuracy: 0.8962\n",
      "Epoch 75/100\n",
      "50/50 [==============================] - 0s 2ms/step - loss: 0.1638 - accuracy: 0.9430 - val_loss: 0.2948 - val_accuracy: 0.8987\n",
      "Epoch 76/100\n",
      "50/50 [==============================] - 0s 2ms/step - loss: 0.1650 - accuracy: 0.9437 - val_loss: 0.2887 - val_accuracy: 0.8886\n",
      "Epoch 77/100\n",
      "50/50 [==============================] - 0s 2ms/step - loss: 0.1666 - accuracy: 0.9456 - val_loss: 0.2957 - val_accuracy: 0.8937\n",
      "Epoch 78/100\n",
      "50/50 [==============================] - 0s 2ms/step - loss: 0.1735 - accuracy: 0.9462 - val_loss: 0.3122 - val_accuracy: 0.8987\n",
      "Epoch 79/100\n",
      "50/50 [==============================] - 0s 2ms/step - loss: 0.1817 - accuracy: 0.9418 - val_loss: 0.3063 - val_accuracy: 0.8987\n",
      "Epoch 80/100\n",
      "50/50 [==============================] - 0s 2ms/step - loss: 0.1729 - accuracy: 0.9456 - val_loss: 0.3090 - val_accuracy: 0.8987\n",
      "Epoch 81/100\n",
      "50/50 [==============================] - 0s 3ms/step - loss: 0.1634 - accuracy: 0.9494 - val_loss: 0.2901 - val_accuracy: 0.8987\n",
      "Epoch 82/100\n",
      "50/50 [==============================] - 0s 2ms/step - loss: 0.1668 - accuracy: 0.9481 - val_loss: 0.3164 - val_accuracy: 0.9038\n",
      "Epoch 83/100\n",
      "50/50 [==============================] - 0s 2ms/step - loss: 0.1660 - accuracy: 0.9456 - val_loss: 0.3119 - val_accuracy: 0.9063\n",
      "Epoch 84/100\n",
      "50/50 [==============================] - 0s 2ms/step - loss: 0.1755 - accuracy: 0.9430 - val_loss: 0.2935 - val_accuracy: 0.8937\n",
      "Epoch 85/100\n",
      "50/50 [==============================] - 0s 2ms/step - loss: 0.1701 - accuracy: 0.9449 - val_loss: 0.3300 - val_accuracy: 0.9013\n",
      "Epoch 86/100\n",
      "50/50 [==============================] - 0s 2ms/step - loss: 0.1650 - accuracy: 0.9456 - val_loss: 0.3130 - val_accuracy: 0.8911\n",
      "Epoch 87/100\n",
      "50/50 [==============================] - 0s 2ms/step - loss: 0.1624 - accuracy: 0.9443 - val_loss: 0.3094 - val_accuracy: 0.9013\n",
      "Epoch 88/100\n",
      "50/50 [==============================] - 0s 2ms/step - loss: 0.1561 - accuracy: 0.9513 - val_loss: 0.2966 - val_accuracy: 0.8987\n",
      "Epoch 89/100\n",
      "50/50 [==============================] - 0s 2ms/step - loss: 0.1597 - accuracy: 0.9487 - val_loss: 0.3228 - val_accuracy: 0.8937\n",
      "Epoch 90/100\n",
      "50/50 [==============================] - 0s 3ms/step - loss: 0.1656 - accuracy: 0.9462 - val_loss: 0.3290 - val_accuracy: 0.8962\n",
      "Epoch 91/100\n",
      "50/50 [==============================] - 0s 2ms/step - loss: 0.1612 - accuracy: 0.9468 - val_loss: 0.3053 - val_accuracy: 0.9013\n",
      "Epoch 92/100\n",
      "50/50 [==============================] - 0s 2ms/step - loss: 0.1717 - accuracy: 0.9449 - val_loss: 0.3101 - val_accuracy: 0.9038\n",
      "Epoch 93/100\n",
      "50/50 [==============================] - 0s 2ms/step - loss: 0.1782 - accuracy: 0.9449 - val_loss: 0.3101 - val_accuracy: 0.8911\n",
      "Epoch 94/100\n",
      "50/50 [==============================] - 0s 2ms/step - loss: 0.1607 - accuracy: 0.9456 - val_loss: 0.3166 - val_accuracy: 0.9013\n",
      "Epoch 95/100\n",
      "50/50 [==============================] - 0s 2ms/step - loss: 0.1690 - accuracy: 0.9405 - val_loss: 0.3338 - val_accuracy: 0.8987\n",
      "Epoch 96/100\n",
      "50/50 [==============================] - 0s 2ms/step - loss: 0.1551 - accuracy: 0.9500 - val_loss: 0.2897 - val_accuracy: 0.8886\n",
      "Epoch 97/100\n",
      "50/50 [==============================] - 0s 2ms/step - loss: 0.1646 - accuracy: 0.9475 - val_loss: 0.3122 - val_accuracy: 0.8886\n",
      "Epoch 98/100\n",
      "50/50 [==============================] - 0s 3ms/step - loss: 0.1702 - accuracy: 0.9424 - val_loss: 0.2832 - val_accuracy: 0.9038\n",
      "Epoch 99/100\n",
      "50/50 [==============================] - 0s 3ms/step - loss: 0.1528 - accuracy: 0.9500 - val_loss: 0.2861 - val_accuracy: 0.8962\n",
      "Epoch 100/100\n",
      "50/50 [==============================] - 0s 2ms/step - loss: 0.1500 - accuracy: 0.9519 - val_loss: 0.2753 - val_accuracy: 0.8962\n"
     ]
    }
   ],
   "source": [
    "# crear el modelo\n",
    "model = tf.keras.models.Sequential([\n",
    "    tf.keras.layers.Dense(20, activation='relu'),\n",
    "    # tf.keras.layers.Dropout(0.2),\n",
    "    tf.keras.layers.Dense(20, activation='relu'),\n",
    "    # tf.keras.layers.Dropout(0.2),\n",
    "    # tf.keras.layers.Dense(30, activation='relu'),\n",
    "    # tf.keras.layers.Dropout(0.2),\n",
    "    tf.keras.layers.Dense(3, activation='softmax')\n",
    "])\n",
    "\n",
    "# compilar el modelo\n",
    "model.compile(optimizer='adam',\n",
    "              loss='sparse_categorical_crossentropy',\n",
    "              metrics=['accuracy'])\n",
    "\n",
    "# entrenar el modelo\n",
    "history = model.fit(X_train, y_train, epochs=100, batch_size=32, validation_data=(X_test, y_test))\n"
   ],
   "metadata": {
    "collapsed": false
   }
  },
  {
   "cell_type": "code",
   "execution_count": 16,
   "outputs": [
    {
     "name": "stdout",
     "output_type": "stream",
     "text": [
      "13/13 [==============================] - 0s 1ms/step\n",
      "[[ 35   2   3]\n",
      " [  6  91  18]\n",
      " [  2  10 228]]\n"
     ]
    }
   ],
   "source": [
    "import numpy as np\n",
    "from sklearn.metrics import confusion_matrix\n",
    "\n",
    "# predecir las probabilidades para los datos de prueba\n",
    "y_probs = model.predict(X_test)\n",
    "y_pred = np.argmax(y_probs, axis=-1)\n",
    "cm = confusion_matrix(y_test, y_pred)\n",
    "print(cm)\n"
   ],
   "metadata": {
    "collapsed": false
   }
  },
  {
   "cell_type": "code",
   "execution_count": 17,
   "outputs": [
    {
     "name": "stdout",
     "output_type": "stream",
     "text": [
      "              precision    recall  f1-score   support\n",
      "\n",
      "           0     0.8140    0.8750    0.8434        40\n",
      "           1     0.8835    0.7913    0.8349       115\n",
      "           2     0.9157    0.9500    0.9325       240\n",
      "\n",
      "    accuracy                         0.8962       395\n",
      "   macro avg     0.8710    0.8721    0.8703       395\n",
      "weighted avg     0.8960    0.8962    0.8951       395\n",
      "\n"
     ]
    }
   ],
   "source": [
    "from sklearn.metrics import classification_report\n",
    "\n",
    "report = classification_report(y_test, y_pred, digits=4)\n",
    "print(report)"
   ],
   "metadata": {
    "collapsed": false
   }
  },
  {
   "cell_type": "code",
   "execution_count": 18,
   "outputs": [],
   "source": [
    "# Save the model to a single file\n",
    "model.save( './rna_unbalance_test2.keras', save_format='keras_v3')"
   ],
   "metadata": {
    "collapsed": false
   }
  },
  {
   "cell_type": "markdown",
   "source": [
    "# Prueba 3"
   ],
   "metadata": {
    "collapsed": false
   }
  },
  {
   "cell_type": "code",
   "execution_count": 20,
   "outputs": [
    {
     "name": "stdout",
     "output_type": "stream",
     "text": [
      "Epoch 1/100\n",
      "50/50 [==============================] - 1s 6ms/step - loss: 0.5754 - accuracy: 0.7785 - val_loss: 0.4636 - val_accuracy: 0.8177\n",
      "Epoch 2/100\n",
      "50/50 [==============================] - 0s 2ms/step - loss: 0.3820 - accuracy: 0.8608 - val_loss: 0.4253 - val_accuracy: 0.8532\n",
      "Epoch 3/100\n",
      "50/50 [==============================] - 0s 2ms/step - loss: 0.3546 - accuracy: 0.8715 - val_loss: 0.4165 - val_accuracy: 0.8557\n",
      "Epoch 4/100\n",
      "50/50 [==============================] - 0s 2ms/step - loss: 0.3366 - accuracy: 0.8829 - val_loss: 0.4097 - val_accuracy: 0.8405\n",
      "Epoch 5/100\n",
      "50/50 [==============================] - 0s 2ms/step - loss: 0.3283 - accuracy: 0.8886 - val_loss: 0.3837 - val_accuracy: 0.8734\n",
      "Epoch 6/100\n",
      "50/50 [==============================] - 0s 2ms/step - loss: 0.3184 - accuracy: 0.8905 - val_loss: 0.3807 - val_accuracy: 0.8430\n",
      "Epoch 7/100\n",
      "50/50 [==============================] - 0s 2ms/step - loss: 0.3015 - accuracy: 0.9006 - val_loss: 0.3875 - val_accuracy: 0.8658\n",
      "Epoch 8/100\n",
      "50/50 [==============================] - 0s 2ms/step - loss: 0.3053 - accuracy: 0.8987 - val_loss: 0.3949 - val_accuracy: 0.8380\n",
      "Epoch 9/100\n",
      "50/50 [==============================] - 0s 2ms/step - loss: 0.2814 - accuracy: 0.9051 - val_loss: 0.3588 - val_accuracy: 0.8608\n",
      "Epoch 10/100\n",
      "50/50 [==============================] - 0s 2ms/step - loss: 0.2796 - accuracy: 0.9038 - val_loss: 0.3521 - val_accuracy: 0.8658\n",
      "Epoch 11/100\n",
      "50/50 [==============================] - 0s 2ms/step - loss: 0.2746 - accuracy: 0.9133 - val_loss: 0.3528 - val_accuracy: 0.8684\n",
      "Epoch 12/100\n",
      "50/50 [==============================] - 0s 3ms/step - loss: 0.2700 - accuracy: 0.9101 - val_loss: 0.3395 - val_accuracy: 0.8709\n",
      "Epoch 13/100\n",
      "50/50 [==============================] - 0s 2ms/step - loss: 0.2664 - accuracy: 0.9158 - val_loss: 0.3734 - val_accuracy: 0.8582\n",
      "Epoch 14/100\n",
      "50/50 [==============================] - 0s 2ms/step - loss: 0.2605 - accuracy: 0.9190 - val_loss: 0.3548 - val_accuracy: 0.8608\n",
      "Epoch 15/100\n",
      "50/50 [==============================] - 0s 2ms/step - loss: 0.2580 - accuracy: 0.9165 - val_loss: 0.3332 - val_accuracy: 0.8759\n",
      "Epoch 16/100\n",
      "50/50 [==============================] - 0s 2ms/step - loss: 0.2500 - accuracy: 0.9228 - val_loss: 0.3404 - val_accuracy: 0.8684\n",
      "Epoch 17/100\n",
      "50/50 [==============================] - 0s 2ms/step - loss: 0.2496 - accuracy: 0.9171 - val_loss: 0.3261 - val_accuracy: 0.8734\n",
      "Epoch 18/100\n",
      "50/50 [==============================] - 0s 2ms/step - loss: 0.2422 - accuracy: 0.9222 - val_loss: 0.3348 - val_accuracy: 0.8684\n",
      "Epoch 19/100\n",
      "50/50 [==============================] - 0s 2ms/step - loss: 0.2402 - accuracy: 0.9234 - val_loss: 0.3219 - val_accuracy: 0.8759\n",
      "Epoch 20/100\n",
      "50/50 [==============================] - 0s 2ms/step - loss: 0.2370 - accuracy: 0.9247 - val_loss: 0.3187 - val_accuracy: 0.8810\n",
      "Epoch 21/100\n",
      "50/50 [==============================] - 0s 2ms/step - loss: 0.2383 - accuracy: 0.9253 - val_loss: 0.3230 - val_accuracy: 0.8785\n",
      "Epoch 22/100\n",
      "50/50 [==============================] - 0s 2ms/step - loss: 0.2349 - accuracy: 0.9272 - val_loss: 0.3217 - val_accuracy: 0.8785\n",
      "Epoch 23/100\n",
      "50/50 [==============================] - 0s 2ms/step - loss: 0.2336 - accuracy: 0.9272 - val_loss: 0.3125 - val_accuracy: 0.8785\n",
      "Epoch 24/100\n",
      "50/50 [==============================] - 0s 2ms/step - loss: 0.2263 - accuracy: 0.9259 - val_loss: 0.3188 - val_accuracy: 0.8709\n",
      "Epoch 25/100\n",
      "50/50 [==============================] - 0s 2ms/step - loss: 0.2319 - accuracy: 0.9241 - val_loss: 0.3522 - val_accuracy: 0.8759\n",
      "Epoch 26/100\n",
      "50/50 [==============================] - 0s 2ms/step - loss: 0.2266 - accuracy: 0.9304 - val_loss: 0.3180 - val_accuracy: 0.8810\n",
      "Epoch 27/100\n",
      "50/50 [==============================] - 0s 2ms/step - loss: 0.2259 - accuracy: 0.9310 - val_loss: 0.3384 - val_accuracy: 0.8835\n",
      "Epoch 28/100\n",
      "50/50 [==============================] - 0s 2ms/step - loss: 0.2225 - accuracy: 0.9291 - val_loss: 0.3112 - val_accuracy: 0.8734\n",
      "Epoch 29/100\n",
      "50/50 [==============================] - 0s 2ms/step - loss: 0.2200 - accuracy: 0.9329 - val_loss: 0.3085 - val_accuracy: 0.8835\n",
      "Epoch 30/100\n",
      "50/50 [==============================] - 0s 2ms/step - loss: 0.2140 - accuracy: 0.9342 - val_loss: 0.3158 - val_accuracy: 0.8835\n",
      "Epoch 31/100\n",
      "50/50 [==============================] - 0s 2ms/step - loss: 0.2115 - accuracy: 0.9329 - val_loss: 0.3010 - val_accuracy: 0.8785\n",
      "Epoch 32/100\n",
      "50/50 [==============================] - 0s 2ms/step - loss: 0.2157 - accuracy: 0.9335 - val_loss: 0.3139 - val_accuracy: 0.8861\n",
      "Epoch 33/100\n",
      "50/50 [==============================] - 0s 2ms/step - loss: 0.2177 - accuracy: 0.9304 - val_loss: 0.3145 - val_accuracy: 0.8785\n",
      "Epoch 34/100\n",
      "50/50 [==============================] - 0s 2ms/step - loss: 0.2164 - accuracy: 0.9310 - val_loss: 0.3068 - val_accuracy: 0.8810\n",
      "Epoch 35/100\n",
      "50/50 [==============================] - 0s 2ms/step - loss: 0.2095 - accuracy: 0.9361 - val_loss: 0.3005 - val_accuracy: 0.8810\n",
      "Epoch 36/100\n",
      "50/50 [==============================] - 0s 2ms/step - loss: 0.2120 - accuracy: 0.9342 - val_loss: 0.2969 - val_accuracy: 0.8835\n",
      "Epoch 37/100\n",
      "50/50 [==============================] - 0s 2ms/step - loss: 0.2056 - accuracy: 0.9373 - val_loss: 0.3045 - val_accuracy: 0.8861\n",
      "Epoch 38/100\n",
      "50/50 [==============================] - 0s 2ms/step - loss: 0.2066 - accuracy: 0.9329 - val_loss: 0.2969 - val_accuracy: 0.8835\n",
      "Epoch 39/100\n",
      "50/50 [==============================] - 0s 2ms/step - loss: 0.2102 - accuracy: 0.9291 - val_loss: 0.3186 - val_accuracy: 0.8886\n",
      "Epoch 40/100\n",
      "50/50 [==============================] - 0s 3ms/step - loss: 0.2055 - accuracy: 0.9373 - val_loss: 0.3024 - val_accuracy: 0.8886\n",
      "Epoch 41/100\n",
      "50/50 [==============================] - 0s 2ms/step - loss: 0.2036 - accuracy: 0.9361 - val_loss: 0.2963 - val_accuracy: 0.8861\n",
      "Epoch 42/100\n",
      "50/50 [==============================] - 0s 2ms/step - loss: 0.2036 - accuracy: 0.9354 - val_loss: 0.2974 - val_accuracy: 0.8937\n",
      "Epoch 43/100\n",
      "50/50 [==============================] - 0s 2ms/step - loss: 0.2041 - accuracy: 0.9373 - val_loss: 0.2960 - val_accuracy: 0.8886\n",
      "Epoch 44/100\n",
      "50/50 [==============================] - 0s 2ms/step - loss: 0.2013 - accuracy: 0.9386 - val_loss: 0.3062 - val_accuracy: 0.8759\n",
      "Epoch 45/100\n",
      "50/50 [==============================] - 0s 2ms/step - loss: 0.2040 - accuracy: 0.9335 - val_loss: 0.2982 - val_accuracy: 0.8861\n",
      "Epoch 46/100\n",
      "50/50 [==============================] - 0s 2ms/step - loss: 0.1940 - accuracy: 0.9386 - val_loss: 0.3514 - val_accuracy: 0.8861\n",
      "Epoch 47/100\n",
      "50/50 [==============================] - 0s 2ms/step - loss: 0.1977 - accuracy: 0.9373 - val_loss: 0.3115 - val_accuracy: 0.8734\n",
      "Epoch 48/100\n",
      "50/50 [==============================] - 0s 2ms/step - loss: 0.2052 - accuracy: 0.9348 - val_loss: 0.3168 - val_accuracy: 0.8861\n",
      "Epoch 49/100\n",
      "50/50 [==============================] - 0s 2ms/step - loss: 0.1993 - accuracy: 0.9399 - val_loss: 0.2972 - val_accuracy: 0.8911\n",
      "Epoch 50/100\n",
      "50/50 [==============================] - 0s 2ms/step - loss: 0.1923 - accuracy: 0.9380 - val_loss: 0.2952 - val_accuracy: 0.8785\n",
      "Epoch 51/100\n",
      "50/50 [==============================] - 0s 2ms/step - loss: 0.1972 - accuracy: 0.9335 - val_loss: 0.3017 - val_accuracy: 0.8785\n",
      "Epoch 52/100\n",
      "50/50 [==============================] - 0s 2ms/step - loss: 0.1961 - accuracy: 0.9361 - val_loss: 0.3089 - val_accuracy: 0.8911\n",
      "Epoch 53/100\n",
      "50/50 [==============================] - 0s 2ms/step - loss: 0.2062 - accuracy: 0.9361 - val_loss: 0.3309 - val_accuracy: 0.8911\n",
      "Epoch 54/100\n",
      "50/50 [==============================] - 0s 2ms/step - loss: 0.1972 - accuracy: 0.9310 - val_loss: 0.3153 - val_accuracy: 0.8886\n",
      "Epoch 55/100\n",
      "50/50 [==============================] - 0s 2ms/step - loss: 0.1914 - accuracy: 0.9399 - val_loss: 0.2987 - val_accuracy: 0.8937\n",
      "Epoch 56/100\n",
      "50/50 [==============================] - 0s 2ms/step - loss: 0.1870 - accuracy: 0.9405 - val_loss: 0.3081 - val_accuracy: 0.8886\n",
      "Epoch 57/100\n",
      "50/50 [==============================] - 0s 2ms/step - loss: 0.2019 - accuracy: 0.9399 - val_loss: 0.3037 - val_accuracy: 0.8861\n",
      "Epoch 58/100\n",
      "50/50 [==============================] - 0s 2ms/step - loss: 0.1866 - accuracy: 0.9411 - val_loss: 0.2902 - val_accuracy: 0.8911\n",
      "Epoch 59/100\n",
      "50/50 [==============================] - 0s 2ms/step - loss: 0.1830 - accuracy: 0.9424 - val_loss: 0.3373 - val_accuracy: 0.8937\n",
      "Epoch 60/100\n",
      "50/50 [==============================] - 0s 2ms/step - loss: 0.1896 - accuracy: 0.9437 - val_loss: 0.2939 - val_accuracy: 0.8785\n",
      "Epoch 61/100\n",
      "50/50 [==============================] - 0s 2ms/step - loss: 0.1881 - accuracy: 0.9386 - val_loss: 0.3174 - val_accuracy: 0.8962\n",
      "Epoch 62/100\n",
      "50/50 [==============================] - 0s 2ms/step - loss: 0.1912 - accuracy: 0.9342 - val_loss: 0.3111 - val_accuracy: 0.8886\n",
      "Epoch 63/100\n",
      "50/50 [==============================] - 0s 2ms/step - loss: 0.1991 - accuracy: 0.9405 - val_loss: 0.3026 - val_accuracy: 0.8861\n",
      "Epoch 64/100\n",
      "50/50 [==============================] - 0s 2ms/step - loss: 0.1800 - accuracy: 0.9405 - val_loss: 0.2938 - val_accuracy: 0.8886\n",
      "Epoch 65/100\n",
      "50/50 [==============================] - 0s 2ms/step - loss: 0.1899 - accuracy: 0.9342 - val_loss: 0.2940 - val_accuracy: 0.8886\n",
      "Epoch 66/100\n",
      "50/50 [==============================] - 0s 2ms/step - loss: 0.1829 - accuracy: 0.9418 - val_loss: 0.2978 - val_accuracy: 0.8911\n",
      "Epoch 67/100\n",
      "50/50 [==============================] - 0s 2ms/step - loss: 0.1888 - accuracy: 0.9399 - val_loss: 0.3089 - val_accuracy: 0.8785\n",
      "Epoch 68/100\n",
      "50/50 [==============================] - 0s 2ms/step - loss: 0.1871 - accuracy: 0.9411 - val_loss: 0.2985 - val_accuracy: 0.8785\n",
      "Epoch 69/100\n",
      "50/50 [==============================] - 0s 2ms/step - loss: 0.1812 - accuracy: 0.9449 - val_loss: 0.2896 - val_accuracy: 0.8835\n",
      "Epoch 70/100\n",
      "50/50 [==============================] - 0s 2ms/step - loss: 0.1923 - accuracy: 0.9386 - val_loss: 0.2950 - val_accuracy: 0.8911\n",
      "Epoch 71/100\n",
      "50/50 [==============================] - 0s 2ms/step - loss: 0.1795 - accuracy: 0.9424 - val_loss: 0.2892 - val_accuracy: 0.8886\n",
      "Epoch 72/100\n",
      "50/50 [==============================] - 0s 2ms/step - loss: 0.1814 - accuracy: 0.9411 - val_loss: 0.2906 - val_accuracy: 0.8861\n",
      "Epoch 73/100\n",
      "50/50 [==============================] - 0s 2ms/step - loss: 0.1862 - accuracy: 0.9437 - val_loss: 0.2969 - val_accuracy: 0.8835\n",
      "Epoch 74/100\n",
      "50/50 [==============================] - 0s 2ms/step - loss: 0.1777 - accuracy: 0.9411 - val_loss: 0.3290 - val_accuracy: 0.8962\n",
      "Epoch 75/100\n",
      "50/50 [==============================] - 0s 2ms/step - loss: 0.1809 - accuracy: 0.9437 - val_loss: 0.2907 - val_accuracy: 0.8886\n",
      "Epoch 76/100\n",
      "50/50 [==============================] - 0s 2ms/step - loss: 0.1734 - accuracy: 0.9481 - val_loss: 0.3017 - val_accuracy: 0.8861\n",
      "Epoch 77/100\n",
      "50/50 [==============================] - 0s 2ms/step - loss: 0.1833 - accuracy: 0.9418 - val_loss: 0.2894 - val_accuracy: 0.8835\n",
      "Epoch 78/100\n",
      "50/50 [==============================] - 0s 2ms/step - loss: 0.1859 - accuracy: 0.9437 - val_loss: 0.3331 - val_accuracy: 0.8962\n",
      "Epoch 79/100\n",
      "50/50 [==============================] - 0s 2ms/step - loss: 0.1776 - accuracy: 0.9437 - val_loss: 0.3383 - val_accuracy: 0.8962\n",
      "Epoch 80/100\n",
      "50/50 [==============================] - 0s 2ms/step - loss: 0.1734 - accuracy: 0.9468 - val_loss: 0.3123 - val_accuracy: 0.8937\n",
      "Epoch 81/100\n",
      "50/50 [==============================] - 0s 2ms/step - loss: 0.1707 - accuracy: 0.9468 - val_loss: 0.3090 - val_accuracy: 0.8937\n",
      "Epoch 82/100\n",
      "50/50 [==============================] - 0s 2ms/step - loss: 0.1733 - accuracy: 0.9494 - val_loss: 0.2954 - val_accuracy: 0.8886\n",
      "Epoch 83/100\n",
      "50/50 [==============================] - 0s 2ms/step - loss: 0.1702 - accuracy: 0.9443 - val_loss: 0.2977 - val_accuracy: 0.8861\n",
      "Epoch 84/100\n",
      "50/50 [==============================] - 0s 2ms/step - loss: 0.1819 - accuracy: 0.9424 - val_loss: 0.3147 - val_accuracy: 0.8835\n",
      "Epoch 85/100\n",
      "50/50 [==============================] - 0s 2ms/step - loss: 0.1731 - accuracy: 0.9462 - val_loss: 0.2906 - val_accuracy: 0.8861\n",
      "Epoch 86/100\n",
      "50/50 [==============================] - 0s 2ms/step - loss: 0.1705 - accuracy: 0.9468 - val_loss: 0.2878 - val_accuracy: 0.8861\n",
      "Epoch 87/100\n",
      "50/50 [==============================] - 0s 2ms/step - loss: 0.1647 - accuracy: 0.9487 - val_loss: 0.3110 - val_accuracy: 0.8937\n",
      "Epoch 88/100\n",
      "50/50 [==============================] - 0s 2ms/step - loss: 0.1813 - accuracy: 0.9437 - val_loss: 0.3084 - val_accuracy: 0.8937\n",
      "Epoch 89/100\n",
      "50/50 [==============================] - 0s 2ms/step - loss: 0.1672 - accuracy: 0.9462 - val_loss: 0.2901 - val_accuracy: 0.8835\n",
      "Epoch 90/100\n",
      "50/50 [==============================] - 0s 2ms/step - loss: 0.1675 - accuracy: 0.9500 - val_loss: 0.2889 - val_accuracy: 0.8962\n",
      "Epoch 91/100\n",
      "50/50 [==============================] - 0s 2ms/step - loss: 0.1742 - accuracy: 0.9443 - val_loss: 0.2894 - val_accuracy: 0.8861\n",
      "Epoch 92/100\n",
      "50/50 [==============================] - 0s 2ms/step - loss: 0.1647 - accuracy: 0.9475 - val_loss: 0.3036 - val_accuracy: 0.8911\n",
      "Epoch 93/100\n",
      "50/50 [==============================] - 0s 2ms/step - loss: 0.1662 - accuracy: 0.9475 - val_loss: 0.2864 - val_accuracy: 0.8835\n",
      "Epoch 94/100\n",
      "50/50 [==============================] - 0s 2ms/step - loss: 0.1674 - accuracy: 0.9468 - val_loss: 0.3005 - val_accuracy: 0.8861\n",
      "Epoch 95/100\n",
      "50/50 [==============================] - 0s 2ms/step - loss: 0.1667 - accuracy: 0.9449 - val_loss: 0.3030 - val_accuracy: 0.8835\n",
      "Epoch 96/100\n",
      "50/50 [==============================] - 0s 2ms/step - loss: 0.1674 - accuracy: 0.9462 - val_loss: 0.2951 - val_accuracy: 0.8911\n",
      "Epoch 97/100\n",
      "50/50 [==============================] - 0s 2ms/step - loss: 0.1648 - accuracy: 0.9481 - val_loss: 0.3038 - val_accuracy: 0.8911\n",
      "Epoch 98/100\n",
      "50/50 [==============================] - 0s 2ms/step - loss: 0.1681 - accuracy: 0.9462 - val_loss: 0.2864 - val_accuracy: 0.8835\n",
      "Epoch 99/100\n",
      "50/50 [==============================] - 0s 2ms/step - loss: 0.1685 - accuracy: 0.9481 - val_loss: 0.2830 - val_accuracy: 0.8861\n",
      "Epoch 100/100\n",
      "50/50 [==============================] - 0s 2ms/step - loss: 0.1690 - accuracy: 0.9449 - val_loss: 0.2898 - val_accuracy: 0.8886\n"
     ]
    }
   ],
   "source": [
    "# crear el modelo\n",
    "model = tf.keras.models.Sequential([\n",
    "    tf.keras.layers.Dense(20, activation='relu'),\n",
    "    # tf.keras.layers.Dropout(0.2),\n",
    "    # tf.keras.layers.Dense(20, activation='relu'),\n",
    "    # tf.keras.layers.Dropout(0.2),\n",
    "    # tf.keras.layers.Dense(30, activation='relu'),\n",
    "    # tf.keras.layers.Dropout(0.2),\n",
    "    tf.keras.layers.Dense(3, activation='softmax')\n",
    "])\n",
    "\n",
    "# compilar el modelo\n",
    "model.compile(optimizer='adam',\n",
    "              loss='sparse_categorical_crossentropy',\n",
    "              metrics=['accuracy'])\n",
    "\n",
    "# entrenar el modelo\n",
    "history = model.fit(X_train, y_train, epochs=100, batch_size=32, validation_data=(X_test, y_test))\n"
   ],
   "metadata": {
    "collapsed": false
   }
  },
  {
   "cell_type": "code",
   "execution_count": 21,
   "outputs": [
    {
     "name": "stdout",
     "output_type": "stream",
     "text": [
      "13/13 [==============================] - 0s 1ms/step\n",
      "[[ 34   2   4]\n",
      " [  4  91  20]\n",
      " [  2  12 226]]\n"
     ]
    }
   ],
   "source": [
    "\n",
    "import numpy as np\n",
    "from sklearn.metrics import confusion_matrix\n",
    "\n",
    "# predecir las probabilidades para los datos de prueba\n",
    "y_probs = model.predict(X_test)\n",
    "y_pred = np.argmax(y_probs, axis=-1)\n",
    "cm = confusion_matrix(y_test, y_pred)\n",
    "print(cm)"
   ],
   "metadata": {
    "collapsed": false
   }
  },
  {
   "cell_type": "code",
   "execution_count": 22,
   "outputs": [
    {
     "name": "stdout",
     "output_type": "stream",
     "text": [
      "              precision    recall  f1-score   support\n",
      "\n",
      "           0     0.8500    0.8500    0.8500        40\n",
      "           1     0.8667    0.7913    0.8273       115\n",
      "           2     0.9040    0.9417    0.9224       240\n",
      "\n",
      "    accuracy                         0.8886       395\n",
      "   macro avg     0.8736    0.8610    0.8666       395\n",
      "weighted avg     0.8877    0.8886    0.8874       395\n",
      "\n"
     ]
    }
   ],
   "source": [
    "from sklearn.metrics import classification_report\n",
    "\n",
    "report = classification_report(y_test, y_pred, digits=4)\n",
    "print(report)"
   ],
   "metadata": {
    "collapsed": false
   }
  },
  {
   "cell_type": "code",
   "execution_count": 23,
   "outputs": [],
   "source": [
    "# Save the model to a single file\n",
    "model.save( './rna_unbalance_test3.keras', save_format='keras_v3')"
   ],
   "metadata": {
    "collapsed": false
   }
  },
  {
   "cell_type": "markdown",
   "source": [
    "# Prueba 4"
   ],
   "metadata": {
    "collapsed": false
   }
  },
  {
   "cell_type": "code",
   "execution_count": 24,
   "outputs": [
    {
     "name": "stdout",
     "output_type": "stream",
     "text": [
      "Epoch 1/100\n",
      "50/50 [==============================] - 1s 6ms/step - loss: 0.6012 - accuracy: 0.7601 - val_loss: 0.4932 - val_accuracy: 0.8152\n",
      "Epoch 2/100\n",
      "50/50 [==============================] - 0s 2ms/step - loss: 0.4028 - accuracy: 0.8608 - val_loss: 0.4311 - val_accuracy: 0.8582\n",
      "Epoch 3/100\n",
      "50/50 [==============================] - 0s 2ms/step - loss: 0.3595 - accuracy: 0.8791 - val_loss: 0.4145 - val_accuracy: 0.8684\n",
      "Epoch 4/100\n",
      "50/50 [==============================] - 0s 2ms/step - loss: 0.3345 - accuracy: 0.8842 - val_loss: 0.3933 - val_accuracy: 0.8658\n",
      "Epoch 5/100\n",
      "50/50 [==============================] - 0s 2ms/step - loss: 0.3185 - accuracy: 0.8905 - val_loss: 0.3802 - val_accuracy: 0.8633\n",
      "Epoch 6/100\n",
      "50/50 [==============================] - 0s 2ms/step - loss: 0.3049 - accuracy: 0.8949 - val_loss: 0.3747 - val_accuracy: 0.8658\n",
      "Epoch 7/100\n",
      "50/50 [==============================] - 0s 2ms/step - loss: 0.2969 - accuracy: 0.8987 - val_loss: 0.3760 - val_accuracy: 0.8734\n",
      "Epoch 8/100\n",
      "50/50 [==============================] - 0s 2ms/step - loss: 0.2927 - accuracy: 0.9019 - val_loss: 0.3649 - val_accuracy: 0.8759\n",
      "Epoch 9/100\n",
      "50/50 [==============================] - 0s 2ms/step - loss: 0.2826 - accuracy: 0.9051 - val_loss: 0.3606 - val_accuracy: 0.8709\n",
      "Epoch 10/100\n",
      "50/50 [==============================] - 0s 2ms/step - loss: 0.2797 - accuracy: 0.9082 - val_loss: 0.3539 - val_accuracy: 0.8734\n",
      "Epoch 11/100\n",
      "50/50 [==============================] - 0s 2ms/step - loss: 0.2704 - accuracy: 0.9101 - val_loss: 0.3674 - val_accuracy: 0.8658\n",
      "Epoch 12/100\n",
      "50/50 [==============================] - 0s 2ms/step - loss: 0.2688 - accuracy: 0.9089 - val_loss: 0.3497 - val_accuracy: 0.8658\n",
      "Epoch 13/100\n",
      "50/50 [==============================] - 0s 2ms/step - loss: 0.2629 - accuracy: 0.9184 - val_loss: 0.3435 - val_accuracy: 0.8709\n",
      "Epoch 14/100\n",
      "50/50 [==============================] - 0s 2ms/step - loss: 0.2605 - accuracy: 0.9158 - val_loss: 0.3453 - val_accuracy: 0.8759\n",
      "Epoch 15/100\n",
      "50/50 [==============================] - 0s 2ms/step - loss: 0.2587 - accuracy: 0.9127 - val_loss: 0.3510 - val_accuracy: 0.8633\n",
      "Epoch 16/100\n",
      "50/50 [==============================] - 0s 2ms/step - loss: 0.2554 - accuracy: 0.9171 - val_loss: 0.3339 - val_accuracy: 0.8785\n",
      "Epoch 17/100\n",
      "50/50 [==============================] - 0s 2ms/step - loss: 0.2464 - accuracy: 0.9190 - val_loss: 0.3497 - val_accuracy: 0.8709\n",
      "Epoch 18/100\n",
      "50/50 [==============================] - 0s 2ms/step - loss: 0.2519 - accuracy: 0.9165 - val_loss: 0.3477 - val_accuracy: 0.8785\n",
      "Epoch 19/100\n",
      "50/50 [==============================] - 0s 2ms/step - loss: 0.2497 - accuracy: 0.9171 - val_loss: 0.3465 - val_accuracy: 0.8759\n",
      "Epoch 20/100\n",
      "50/50 [==============================] - 0s 2ms/step - loss: 0.2484 - accuracy: 0.9177 - val_loss: 0.3331 - val_accuracy: 0.8861\n",
      "Epoch 21/100\n",
      "50/50 [==============================] - 0s 2ms/step - loss: 0.2517 - accuracy: 0.9146 - val_loss: 0.3335 - val_accuracy: 0.8785\n",
      "Epoch 22/100\n",
      "50/50 [==============================] - 0s 2ms/step - loss: 0.2372 - accuracy: 0.9241 - val_loss: 0.3262 - val_accuracy: 0.8709\n",
      "Epoch 23/100\n",
      "50/50 [==============================] - 0s 2ms/step - loss: 0.2386 - accuracy: 0.9234 - val_loss: 0.3379 - val_accuracy: 0.8785\n",
      "Epoch 24/100\n",
      "50/50 [==============================] - 0s 2ms/step - loss: 0.2326 - accuracy: 0.9266 - val_loss: 0.3239 - val_accuracy: 0.8861\n",
      "Epoch 25/100\n",
      "50/50 [==============================] - 0s 2ms/step - loss: 0.2307 - accuracy: 0.9247 - val_loss: 0.3191 - val_accuracy: 0.8810\n",
      "Epoch 26/100\n",
      "50/50 [==============================] - 0s 2ms/step - loss: 0.2320 - accuracy: 0.9241 - val_loss: 0.3211 - val_accuracy: 0.8810\n",
      "Epoch 27/100\n",
      "50/50 [==============================] - 0s 2ms/step - loss: 0.2260 - accuracy: 0.9266 - val_loss: 0.3308 - val_accuracy: 0.8684\n",
      "Epoch 28/100\n",
      "50/50 [==============================] - 0s 2ms/step - loss: 0.2260 - accuracy: 0.9228 - val_loss: 0.3213 - val_accuracy: 0.8861\n",
      "Epoch 29/100\n",
      "50/50 [==============================] - 0s 2ms/step - loss: 0.2238 - accuracy: 0.9266 - val_loss: 0.3277 - val_accuracy: 0.8861\n",
      "Epoch 30/100\n",
      "50/50 [==============================] - 0s 2ms/step - loss: 0.2208 - accuracy: 0.9272 - val_loss: 0.3241 - val_accuracy: 0.8911\n",
      "Epoch 31/100\n",
      "50/50 [==============================] - 0s 2ms/step - loss: 0.2195 - accuracy: 0.9297 - val_loss: 0.3297 - val_accuracy: 0.8861\n",
      "Epoch 32/100\n",
      "50/50 [==============================] - 0s 2ms/step - loss: 0.2230 - accuracy: 0.9272 - val_loss: 0.3170 - val_accuracy: 0.8886\n",
      "Epoch 33/100\n",
      "50/50 [==============================] - 0s 2ms/step - loss: 0.2163 - accuracy: 0.9323 - val_loss: 0.3121 - val_accuracy: 0.8911\n",
      "Epoch 34/100\n",
      "50/50 [==============================] - 0s 2ms/step - loss: 0.2198 - accuracy: 0.9278 - val_loss: 0.3218 - val_accuracy: 0.8835\n",
      "Epoch 35/100\n",
      "50/50 [==============================] - 0s 2ms/step - loss: 0.2112 - accuracy: 0.9329 - val_loss: 0.3102 - val_accuracy: 0.8911\n",
      "Epoch 36/100\n",
      "50/50 [==============================] - 0s 2ms/step - loss: 0.2152 - accuracy: 0.9285 - val_loss: 0.3085 - val_accuracy: 0.8785\n",
      "Epoch 37/100\n",
      "50/50 [==============================] - 0s 2ms/step - loss: 0.2117 - accuracy: 0.9297 - val_loss: 0.3120 - val_accuracy: 0.8911\n",
      "Epoch 38/100\n",
      "50/50 [==============================] - 0s 2ms/step - loss: 0.2066 - accuracy: 0.9310 - val_loss: 0.3049 - val_accuracy: 0.8861\n",
      "Epoch 39/100\n",
      "50/50 [==============================] - 0s 2ms/step - loss: 0.2103 - accuracy: 0.9342 - val_loss: 0.3109 - val_accuracy: 0.8886\n",
      "Epoch 40/100\n",
      "50/50 [==============================] - 0s 2ms/step - loss: 0.2114 - accuracy: 0.9310 - val_loss: 0.3242 - val_accuracy: 0.8835\n",
      "Epoch 41/100\n",
      "50/50 [==============================] - 0s 2ms/step - loss: 0.2093 - accuracy: 0.9323 - val_loss: 0.3104 - val_accuracy: 0.8861\n",
      "Epoch 42/100\n",
      "50/50 [==============================] - 0s 2ms/step - loss: 0.2037 - accuracy: 0.9316 - val_loss: 0.3093 - val_accuracy: 0.8911\n",
      "Epoch 43/100\n",
      "50/50 [==============================] - 0s 2ms/step - loss: 0.2042 - accuracy: 0.9335 - val_loss: 0.3053 - val_accuracy: 0.8886\n",
      "Epoch 44/100\n",
      "50/50 [==============================] - 0s 2ms/step - loss: 0.2022 - accuracy: 0.9259 - val_loss: 0.3127 - val_accuracy: 0.8861\n",
      "Epoch 45/100\n",
      "50/50 [==============================] - 0s 2ms/step - loss: 0.2032 - accuracy: 0.9335 - val_loss: 0.2981 - val_accuracy: 0.8937\n",
      "Epoch 46/100\n",
      "50/50 [==============================] - 0s 2ms/step - loss: 0.2012 - accuracy: 0.9348 - val_loss: 0.3058 - val_accuracy: 0.8937\n",
      "Epoch 47/100\n",
      "50/50 [==============================] - 0s 2ms/step - loss: 0.2041 - accuracy: 0.9316 - val_loss: 0.2976 - val_accuracy: 0.8937\n",
      "Epoch 48/100\n",
      "50/50 [==============================] - 0s 2ms/step - loss: 0.2005 - accuracy: 0.9380 - val_loss: 0.3075 - val_accuracy: 0.8987\n",
      "Epoch 49/100\n",
      "50/50 [==============================] - 0s 2ms/step - loss: 0.2024 - accuracy: 0.9297 - val_loss: 0.3033 - val_accuracy: 0.9013\n",
      "Epoch 50/100\n",
      "50/50 [==============================] - 0s 2ms/step - loss: 0.2003 - accuracy: 0.9335 - val_loss: 0.2957 - val_accuracy: 0.8937\n",
      "Epoch 51/100\n",
      "50/50 [==============================] - 0s 2ms/step - loss: 0.1968 - accuracy: 0.9348 - val_loss: 0.2959 - val_accuracy: 0.8987\n",
      "Epoch 52/100\n",
      "50/50 [==============================] - 0s 2ms/step - loss: 0.1996 - accuracy: 0.9367 - val_loss: 0.3233 - val_accuracy: 0.8987\n",
      "Epoch 53/100\n",
      "50/50 [==============================] - 0s 2ms/step - loss: 0.1994 - accuracy: 0.9342 - val_loss: 0.3095 - val_accuracy: 0.8937\n",
      "Epoch 54/100\n",
      "50/50 [==============================] - 0s 2ms/step - loss: 0.1980 - accuracy: 0.9335 - val_loss: 0.3023 - val_accuracy: 0.9013\n",
      "Epoch 55/100\n",
      "50/50 [==============================] - 0s 2ms/step - loss: 0.1972 - accuracy: 0.9335 - val_loss: 0.2967 - val_accuracy: 0.8987\n",
      "Epoch 56/100\n",
      "50/50 [==============================] - 0s 2ms/step - loss: 0.2018 - accuracy: 0.9380 - val_loss: 0.2952 - val_accuracy: 0.8987\n",
      "Epoch 57/100\n",
      "50/50 [==============================] - 0s 2ms/step - loss: 0.2015 - accuracy: 0.9304 - val_loss: 0.3077 - val_accuracy: 0.9013\n",
      "Epoch 58/100\n",
      "50/50 [==============================] - 0s 2ms/step - loss: 0.1947 - accuracy: 0.9392 - val_loss: 0.3058 - val_accuracy: 0.9013\n",
      "Epoch 59/100\n",
      "50/50 [==============================] - 0s 2ms/step - loss: 0.1904 - accuracy: 0.9392 - val_loss: 0.3056 - val_accuracy: 0.8962\n",
      "Epoch 60/100\n",
      "50/50 [==============================] - 0s 2ms/step - loss: 0.1926 - accuracy: 0.9386 - val_loss: 0.3257 - val_accuracy: 0.8937\n",
      "Epoch 61/100\n",
      "50/50 [==============================] - 0s 2ms/step - loss: 0.1998 - accuracy: 0.9367 - val_loss: 0.3083 - val_accuracy: 0.8861\n",
      "Epoch 62/100\n",
      "50/50 [==============================] - 0s 2ms/step - loss: 0.1966 - accuracy: 0.9380 - val_loss: 0.3097 - val_accuracy: 0.9013\n",
      "Epoch 63/100\n",
      "50/50 [==============================] - 0s 2ms/step - loss: 0.1954 - accuracy: 0.9361 - val_loss: 0.3043 - val_accuracy: 0.9038\n",
      "Epoch 64/100\n",
      "50/50 [==============================] - 0s 2ms/step - loss: 0.1897 - accuracy: 0.9386 - val_loss: 0.3076 - val_accuracy: 0.8987\n",
      "Epoch 65/100\n",
      "50/50 [==============================] - 0s 2ms/step - loss: 0.1883 - accuracy: 0.9361 - val_loss: 0.3051 - val_accuracy: 0.8987\n",
      "Epoch 66/100\n",
      "50/50 [==============================] - 0s 2ms/step - loss: 0.1933 - accuracy: 0.9373 - val_loss: 0.2973 - val_accuracy: 0.8886\n",
      "Epoch 67/100\n",
      "50/50 [==============================] - 0s 2ms/step - loss: 0.1911 - accuracy: 0.9386 - val_loss: 0.3089 - val_accuracy: 0.9013\n",
      "Epoch 68/100\n",
      "50/50 [==============================] - 0s 2ms/step - loss: 0.1989 - accuracy: 0.9367 - val_loss: 0.3097 - val_accuracy: 0.8987\n",
      "Epoch 69/100\n",
      "50/50 [==============================] - 0s 2ms/step - loss: 0.1936 - accuracy: 0.9386 - val_loss: 0.2956 - val_accuracy: 0.8937\n",
      "Epoch 70/100\n",
      "50/50 [==============================] - 0s 2ms/step - loss: 0.1854 - accuracy: 0.9373 - val_loss: 0.2899 - val_accuracy: 0.8937\n",
      "Epoch 71/100\n",
      "50/50 [==============================] - 0s 2ms/step - loss: 0.1867 - accuracy: 0.9437 - val_loss: 0.3016 - val_accuracy: 0.8987\n",
      "Epoch 72/100\n",
      "50/50 [==============================] - 0s 2ms/step - loss: 0.1856 - accuracy: 0.9418 - val_loss: 0.2985 - val_accuracy: 0.8886\n",
      "Epoch 73/100\n",
      "50/50 [==============================] - 0s 2ms/step - loss: 0.1846 - accuracy: 0.9373 - val_loss: 0.2973 - val_accuracy: 0.8886\n",
      "Epoch 74/100\n",
      "50/50 [==============================] - 0s 2ms/step - loss: 0.1867 - accuracy: 0.9399 - val_loss: 0.2920 - val_accuracy: 0.8937\n",
      "Epoch 75/100\n",
      "50/50 [==============================] - 0s 2ms/step - loss: 0.1832 - accuracy: 0.9405 - val_loss: 0.2985 - val_accuracy: 0.8911\n",
      "Epoch 76/100\n",
      "50/50 [==============================] - 0s 2ms/step - loss: 0.1829 - accuracy: 0.9392 - val_loss: 0.3021 - val_accuracy: 0.8911\n",
      "Epoch 77/100\n",
      "50/50 [==============================] - 0s 2ms/step - loss: 0.1855 - accuracy: 0.9411 - val_loss: 0.3020 - val_accuracy: 0.8962\n",
      "Epoch 78/100\n",
      "50/50 [==============================] - 0s 2ms/step - loss: 0.1826 - accuracy: 0.9405 - val_loss: 0.2962 - val_accuracy: 0.8937\n",
      "Epoch 79/100\n",
      "50/50 [==============================] - 0s 2ms/step - loss: 0.1831 - accuracy: 0.9418 - val_loss: 0.3297 - val_accuracy: 0.8987\n",
      "Epoch 80/100\n",
      "50/50 [==============================] - 0s 2ms/step - loss: 0.1905 - accuracy: 0.9373 - val_loss: 0.3385 - val_accuracy: 0.8911\n",
      "Epoch 81/100\n",
      "50/50 [==============================] - 0s 2ms/step - loss: 0.1874 - accuracy: 0.9392 - val_loss: 0.2905 - val_accuracy: 0.8962\n",
      "Epoch 82/100\n",
      "50/50 [==============================] - 0s 2ms/step - loss: 0.1825 - accuracy: 0.9424 - val_loss: 0.2871 - val_accuracy: 0.8962\n",
      "Epoch 83/100\n",
      "50/50 [==============================] - 0s 2ms/step - loss: 0.1835 - accuracy: 0.9386 - val_loss: 0.3013 - val_accuracy: 0.8835\n",
      "Epoch 84/100\n",
      "50/50 [==============================] - 0s 2ms/step - loss: 0.1790 - accuracy: 0.9411 - val_loss: 0.2983 - val_accuracy: 0.8911\n",
      "Epoch 85/100\n",
      "50/50 [==============================] - 0s 2ms/step - loss: 0.1846 - accuracy: 0.9386 - val_loss: 0.3163 - val_accuracy: 0.8937\n",
      "Epoch 86/100\n",
      "50/50 [==============================] - 0s 2ms/step - loss: 0.1851 - accuracy: 0.9392 - val_loss: 0.3027 - val_accuracy: 0.8937\n",
      "Epoch 87/100\n",
      "50/50 [==============================] - 0s 2ms/step - loss: 0.1806 - accuracy: 0.9418 - val_loss: 0.3018 - val_accuracy: 0.8911\n",
      "Epoch 88/100\n",
      "50/50 [==============================] - 0s 2ms/step - loss: 0.1783 - accuracy: 0.9418 - val_loss: 0.2930 - val_accuracy: 0.8886\n",
      "Epoch 89/100\n",
      "50/50 [==============================] - 0s 2ms/step - loss: 0.1850 - accuracy: 0.9424 - val_loss: 0.2980 - val_accuracy: 0.8911\n",
      "Epoch 90/100\n",
      "50/50 [==============================] - 0s 2ms/step - loss: 0.1784 - accuracy: 0.9424 - val_loss: 0.2939 - val_accuracy: 0.8911\n",
      "Epoch 91/100\n",
      "50/50 [==============================] - 0s 2ms/step - loss: 0.1809 - accuracy: 0.9405 - val_loss: 0.3060 - val_accuracy: 0.8810\n",
      "Epoch 92/100\n",
      "50/50 [==============================] - 0s 2ms/step - loss: 0.1851 - accuracy: 0.9411 - val_loss: 0.3120 - val_accuracy: 0.8861\n",
      "Epoch 93/100\n",
      "50/50 [==============================] - 0s 2ms/step - loss: 0.1785 - accuracy: 0.9430 - val_loss: 0.3001 - val_accuracy: 0.8911\n",
      "Epoch 94/100\n",
      "50/50 [==============================] - 0s 2ms/step - loss: 0.1793 - accuracy: 0.9443 - val_loss: 0.3002 - val_accuracy: 0.8937\n",
      "Epoch 95/100\n",
      "50/50 [==============================] - 0s 2ms/step - loss: 0.1782 - accuracy: 0.9430 - val_loss: 0.2947 - val_accuracy: 0.8937\n",
      "Epoch 96/100\n",
      "50/50 [==============================] - 0s 2ms/step - loss: 0.1765 - accuracy: 0.9424 - val_loss: 0.2956 - val_accuracy: 0.8886\n",
      "Epoch 97/100\n",
      "50/50 [==============================] - 0s 2ms/step - loss: 0.1753 - accuracy: 0.9418 - val_loss: 0.2891 - val_accuracy: 0.8962\n",
      "Epoch 98/100\n",
      "50/50 [==============================] - 0s 2ms/step - loss: 0.1787 - accuracy: 0.9380 - val_loss: 0.2871 - val_accuracy: 0.8937\n",
      "Epoch 99/100\n",
      "50/50 [==============================] - 0s 2ms/step - loss: 0.1806 - accuracy: 0.9437 - val_loss: 0.2930 - val_accuracy: 0.8861\n",
      "Epoch 100/100\n",
      "50/50 [==============================] - 0s 2ms/step - loss: 0.1786 - accuracy: 0.9449 - val_loss: 0.3102 - val_accuracy: 0.8962\n"
     ]
    }
   ],
   "source": [
    "# crear el modelo\n",
    "model = tf.keras.models.Sequential([\n",
    "    tf.keras.layers.Dense(10, activation='relu'),\n",
    "    # tf.keras.layers.Dropout(0.2),\n",
    "    # tf.keras.layers.Dense(20, activation='relu'),\n",
    "    # tf.keras.layers.Dropout(0.2),\n",
    "    # tf.keras.layers.Dense(30, activation='relu'),\n",
    "    # tf.keras.layers.Dropout(0.2),\n",
    "    tf.keras.layers.Dense(3, activation='softmax')\n",
    "])\n",
    "\n",
    "# compilar el modelo\n",
    "model.compile(optimizer='adam',\n",
    "              loss='sparse_categorical_crossentropy',\n",
    "              metrics=['accuracy'])\n",
    "\n",
    "# entrenar el modelo\n",
    "history = model.fit(X_train, y_train, epochs=100, batch_size=32, validation_data=(X_test, y_test))"
   ],
   "metadata": {
    "collapsed": false
   }
  },
  {
   "cell_type": "code",
   "execution_count": 25,
   "outputs": [
    {
     "name": "stdout",
     "output_type": "stream",
     "text": [
      "13/13 [==============================] - 0s 1ms/step\n",
      "[[ 32   2   6]\n",
      " [  4  91  20]\n",
      " [  1   8 231]]\n"
     ]
    }
   ],
   "source": [
    "\n",
    "import numpy as np\n",
    "from sklearn.metrics import confusion_matrix\n",
    "\n",
    "# predecir las probabilidades para los datos de prueba\n",
    "y_probs = model.predict(X_test)\n",
    "y_pred = np.argmax(y_probs, axis=-1)\n",
    "cm = confusion_matrix(y_test, y_pred)\n",
    "print(cm)"
   ],
   "metadata": {
    "collapsed": false
   }
  },
  {
   "cell_type": "code",
   "execution_count": 26,
   "outputs": [
    {
     "name": "stdout",
     "output_type": "stream",
     "text": [
      "              precision    recall  f1-score   support\n",
      "\n",
      "           0     0.8649    0.8000    0.8312        40\n",
      "           1     0.9010    0.7913    0.8426       115\n",
      "           2     0.8988    0.9625    0.9296       240\n",
      "\n",
      "    accuracy                         0.8962       395\n",
      "   macro avg     0.8882    0.8513    0.8678       395\n",
      "weighted avg     0.8960    0.8962    0.8943       395\n",
      "\n"
     ]
    }
   ],
   "source": [
    "from sklearn.metrics import classification_report\n",
    "\n",
    "report = classification_report(y_test, y_pred, digits=4)\n",
    "print(report)"
   ],
   "metadata": {
    "collapsed": false
   }
  },
  {
   "cell_type": "code",
   "execution_count": 27,
   "outputs": [],
   "source": [
    "# Save the model to a single file\n",
    "model.save( './rna_unbalance_test4.keras', save_format='keras_v3')"
   ],
   "metadata": {
    "collapsed": false
   }
  },
  {
   "cell_type": "markdown",
   "source": [],
   "metadata": {
    "collapsed": false
   }
  }
 ],
 "metadata": {
  "kernelspec": {
   "display_name": "Python 3",
   "language": "python",
   "name": "python3"
  },
  "language_info": {
   "codemirror_mode": {
    "name": "ipython",
    "version": 2
   },
   "file_extension": ".py",
   "mimetype": "text/x-python",
   "name": "python",
   "nbconvert_exporter": "python",
   "pygments_lexer": "ipython2",
   "version": "2.7.6"
  }
 },
 "nbformat": 4,
 "nbformat_minor": 0
}
