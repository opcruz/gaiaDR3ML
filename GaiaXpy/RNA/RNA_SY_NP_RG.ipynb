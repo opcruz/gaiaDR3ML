{
 "cells": [
  {
   "cell_type": "code",
   "execution_count": 4,
   "outputs": [],
   "source": [
    "import pandas as pd\n",
    "import tensorflow as tf\n",
    "from sklearn.model_selection import train_test_split\n",
    "from sklearn.preprocessing import LabelEncoder\n",
    "import matplotlib.pyplot as plt\n",
    "import os\n",
    "\n",
    "# cargar los datos\n",
    "# df = pd.read_csv(\"../../new/datasets/unbalanced_30000.csv\", header=None)\n",
    "# df = pd.read_csv(\"../../new/datasets/unbalanced_15000.csv\", header=None)\n",
    "df = pd.read_csv(\"../../new/datasets/unbalanced.csv\", header=None)\n",
    "\n",
    "# separar las características (X) y la etiqueta (y)\n",
    "X = df.drop(columns=343, axis=1)\n",
    "# y = df.iloc[343]\n",
    "y = df.iloc[:, 343]\n",
    "\n",
    "# codificar la etiqueta (y)\n",
    "encoder = LabelEncoder()\n",
    "y = encoder.fit_transform(y)\n",
    "\n",
    "# dividir el conjunto de datos en entrenamiento y prueba\n",
    "X_train, X_test, y_train, y_test = train_test_split(X, y, test_size=0.2, random_state=5, stratify=y)\n"
   ],
   "metadata": {
    "collapsed": false,
    "ExecuteTime": {
     "start_time": "2023-04-18T12:10:54.760450Z",
     "end_time": "2023-04-18T12:11:01.117743Z"
    }
   }
  },
  {
   "cell_type": "code",
   "execution_count": 5,
   "outputs": [],
   "source": [
    "column_names = ['wl_' + str(i) for i in range(336, 1021, 2)]"
   ],
   "metadata": {
    "collapsed": false
   }
  },
  {
   "cell_type": "code",
   "execution_count": 3,
   "outputs": [],
   "source": [
    "X_test.columns = column_names"
   ],
   "metadata": {
    "collapsed": false
   }
  },
  {
   "cell_type": "code",
   "execution_count": 21,
   "outputs": [],
   "source": [
    "X_test['class'] = y_test"
   ],
   "metadata": {
    "collapsed": false
   }
  },
  {
   "cell_type": "code",
   "execution_count": 27,
   "outputs": [],
   "source": [
    "X_test.to_csv('./test_stars.csv', index= False)"
   ],
   "metadata": {
    "collapsed": false
   }
  },
  {
   "cell_type": "code",
   "execution_count": 4,
   "outputs": [
    {
     "data": {
      "text/plain": "array([2, 1, 1, 1, 0, 2, 2, 2, 1, 1, 2, 1, 1, 0, 1, 2, 2, 1, 2, 2, 1, 0,\n       2, 1, 0, 2, 2, 2, 1, 1, 2, 2, 2, 2, 2, 1, 2, 1, 2, 2, 2, 2, 2, 2,\n       2, 2, 2, 2, 2, 2, 2, 1, 2, 2, 2, 1, 2, 2, 2, 2, 0, 1, 2, 2, 2, 0,\n       0, 2, 2, 1, 1, 1, 1, 2, 2, 2, 1, 2, 2, 1, 2, 1, 1, 2, 2, 2, 2, 0,\n       0, 2, 2, 2, 2, 2, 2, 1, 2, 2, 1, 2, 1, 2, 1, 0, 0, 2, 2, 1, 2, 1,\n       0, 2, 1, 2, 1, 1, 2, 2, 2, 1, 2, 2, 1, 2, 2, 0, 2, 2, 2, 2, 2, 1,\n       2, 1, 2, 2, 2, 1, 2, 2, 0, 2, 2, 0, 1, 2, 2, 2, 1, 2, 2, 2, 2, 0,\n       2, 2, 1, 1, 2, 2, 2, 2, 1, 2, 2, 2, 2, 2, 2, 2, 1, 1, 1, 2, 1, 0,\n       2, 2, 2, 2, 0, 1, 0, 1, 1, 1, 2, 2, 2, 2, 2, 2, 1, 2, 2, 2, 1, 2,\n       2, 2, 2, 2, 2, 2, 1, 2, 2, 2, 1, 2, 2, 1, 2, 1, 1, 2, 2, 1, 1, 1,\n       0, 0, 2, 1, 2, 1, 2, 1, 1, 2, 2, 0, 2, 2, 2, 0, 1, 2, 1, 2, 2, 2,\n       1, 2, 1, 0, 2, 2, 2, 2, 1, 0, 2, 2, 2, 2, 1, 0, 2, 2, 1, 2, 1, 2,\n       1, 2, 1, 2, 1, 2, 0, 1, 2, 1, 2, 1, 0, 1, 0, 2, 2, 1, 2, 2, 0, 2,\n       2, 1, 1, 2, 2, 2, 1, 1, 1, 2, 1, 2, 1, 2, 2, 2, 2, 1, 2, 1, 2, 1,\n       2, 2, 2, 2, 2, 2, 2, 2, 2, 2, 2, 2, 0, 1, 2, 1, 2, 2, 2, 0, 1, 2,\n       2, 2, 2, 0, 2, 1, 2, 2, 1, 2, 2, 2, 2, 1, 0, 2, 1, 2, 0, 2, 1, 1,\n       1, 1, 0, 2, 1, 2, 2, 2, 0, 1, 1, 1, 2, 1, 2, 0, 1, 2, 2, 2, 2, 2,\n       1, 2, 2, 2, 1, 2, 0, 0, 2, 2, 2, 2, 1, 2, 2, 1, 2, 1, 2, 2, 2],\n      dtype=int64)"
     },
     "execution_count": 4,
     "metadata": {},
     "output_type": "execute_result"
    }
   ],
   "source": [
    "y_test"
   ],
   "metadata": {
    "collapsed": false
   }
  },
  {
   "cell_type": "code",
   "execution_count": 9,
   "outputs": [],
   "source": [
    "# crear el modelo\n",
    "model = tf.keras.models.Sequential([\n",
    "    tf.keras.layers.Dense(30, activation='relu'),\n",
    "    tf.keras.layers.Dropout(0.2),\n",
    "    tf.keras.layers.Dense(30, activation='relu'),\n",
    "    tf.keras.layers.Dropout(0.2),\n",
    "    tf.keras.layers.Dense(30, activation='relu'),\n",
    "    tf.keras.layers.Dropout(0.2),\n",
    "    tf.keras.layers.Dense(3, activation='softmax')\n",
    "])\n",
    "\n",
    "# compilar el modelo\n",
    "model.compile(optimizer='adam',\n",
    "              loss='sparse_categorical_crossentropy',\n",
    "              metrics=['accuracy'])"
   ],
   "metadata": {
    "collapsed": false,
    "ExecuteTime": {
     "start_time": "2023-04-18T12:11:06.746549Z",
     "end_time": "2023-04-18T12:11:10.139974Z"
    }
   }
  },
  {
   "cell_type": "code",
   "execution_count": 10,
   "outputs": [
    {
     "name": "stdout",
     "output_type": "stream",
     "text": [
      "Epoch 1/100\n",
      "50/50 [==============================] - 2s 5ms/step - loss: 0.7606 - accuracy: 0.6266 - val_loss: 0.6190 - val_accuracy: 0.7443\n",
      "Epoch 2/100\n",
      "50/50 [==============================] - 0s 2ms/step - loss: 0.5399 - accuracy: 0.8089 - val_loss: 0.4513 - val_accuracy: 0.8532\n",
      "Epoch 3/100\n",
      "50/50 [==============================] - 0s 2ms/step - loss: 0.4374 - accuracy: 0.8576 - val_loss: 0.4226 - val_accuracy: 0.8506\n",
      "Epoch 4/100\n",
      "50/50 [==============================] - 0s 2ms/step - loss: 0.4081 - accuracy: 0.8608 - val_loss: 0.4193 - val_accuracy: 0.8582\n",
      "Epoch 5/100\n",
      "50/50 [==============================] - 0s 3ms/step - loss: 0.3884 - accuracy: 0.8690 - val_loss: 0.3968 - val_accuracy: 0.8430\n",
      "Epoch 6/100\n",
      "50/50 [==============================] - 0s 3ms/step - loss: 0.3573 - accuracy: 0.8829 - val_loss: 0.3913 - val_accuracy: 0.8684\n",
      "Epoch 7/100\n",
      "50/50 [==============================] - 0s 3ms/step - loss: 0.3530 - accuracy: 0.8854 - val_loss: 0.3940 - val_accuracy: 0.8532\n",
      "Epoch 8/100\n",
      "50/50 [==============================] - 0s 3ms/step - loss: 0.3463 - accuracy: 0.8880 - val_loss: 0.3670 - val_accuracy: 0.8532\n",
      "Epoch 9/100\n",
      "50/50 [==============================] - 0s 2ms/step - loss: 0.3213 - accuracy: 0.8962 - val_loss: 0.3683 - val_accuracy: 0.8582\n",
      "Epoch 10/100\n",
      "50/50 [==============================] - 0s 3ms/step - loss: 0.3117 - accuracy: 0.8981 - val_loss: 0.3810 - val_accuracy: 0.8658\n",
      "Epoch 11/100\n",
      "50/50 [==============================] - 0s 3ms/step - loss: 0.3093 - accuracy: 0.9076 - val_loss: 0.3589 - val_accuracy: 0.8608\n",
      "Epoch 12/100\n",
      "50/50 [==============================] - 0s 3ms/step - loss: 0.3083 - accuracy: 0.8956 - val_loss: 0.3729 - val_accuracy: 0.8734\n",
      "Epoch 13/100\n",
      "50/50 [==============================] - 0s 3ms/step - loss: 0.2906 - accuracy: 0.9152 - val_loss: 0.3294 - val_accuracy: 0.8785\n",
      "Epoch 14/100\n",
      "50/50 [==============================] - 0s 3ms/step - loss: 0.2963 - accuracy: 0.9057 - val_loss: 0.3680 - val_accuracy: 0.8633\n",
      "Epoch 15/100\n",
      "50/50 [==============================] - 0s 2ms/step - loss: 0.3126 - accuracy: 0.9044 - val_loss: 0.3379 - val_accuracy: 0.8709\n",
      "Epoch 16/100\n",
      "50/50 [==============================] - 0s 2ms/step - loss: 0.2688 - accuracy: 0.9165 - val_loss: 0.3261 - val_accuracy: 0.8861\n",
      "Epoch 17/100\n",
      "50/50 [==============================] - 0s 3ms/step - loss: 0.2679 - accuracy: 0.9158 - val_loss: 0.3337 - val_accuracy: 0.8785\n",
      "Epoch 18/100\n",
      "50/50 [==============================] - 0s 3ms/step - loss: 0.2696 - accuracy: 0.9152 - val_loss: 0.3199 - val_accuracy: 0.8886\n",
      "Epoch 19/100\n",
      "50/50 [==============================] - 0s 3ms/step - loss: 0.2689 - accuracy: 0.9165 - val_loss: 0.3510 - val_accuracy: 0.8709\n",
      "Epoch 20/100\n",
      "50/50 [==============================] - 0s 2ms/step - loss: 0.2628 - accuracy: 0.9190 - val_loss: 0.3139 - val_accuracy: 0.8886\n",
      "Epoch 21/100\n",
      "50/50 [==============================] - 0s 3ms/step - loss: 0.2661 - accuracy: 0.9184 - val_loss: 0.3240 - val_accuracy: 0.8937\n",
      "Epoch 22/100\n",
      "50/50 [==============================] - 0s 3ms/step - loss: 0.2665 - accuracy: 0.9222 - val_loss: 0.3227 - val_accuracy: 0.8886\n",
      "Epoch 23/100\n",
      "50/50 [==============================] - 0s 2ms/step - loss: 0.2555 - accuracy: 0.9247 - val_loss: 0.3191 - val_accuracy: 0.8861\n",
      "Epoch 24/100\n",
      "50/50 [==============================] - 0s 2ms/step - loss: 0.2550 - accuracy: 0.9209 - val_loss: 0.2999 - val_accuracy: 0.9063\n",
      "Epoch 25/100\n",
      "50/50 [==============================] - 0s 3ms/step - loss: 0.2448 - accuracy: 0.9222 - val_loss: 0.3306 - val_accuracy: 0.8785\n",
      "Epoch 26/100\n",
      "50/50 [==============================] - 0s 3ms/step - loss: 0.2578 - accuracy: 0.9171 - val_loss: 0.3285 - val_accuracy: 0.8911\n",
      "Epoch 27/100\n",
      "50/50 [==============================] - 0s 3ms/step - loss: 0.2507 - accuracy: 0.9222 - val_loss: 0.3034 - val_accuracy: 0.8962\n",
      "Epoch 28/100\n",
      "50/50 [==============================] - 0s 3ms/step - loss: 0.2409 - accuracy: 0.9342 - val_loss: 0.3551 - val_accuracy: 0.8835\n",
      "Epoch 29/100\n",
      "50/50 [==============================] - 0s 3ms/step - loss: 0.2531 - accuracy: 0.9259 - val_loss: 0.3157 - val_accuracy: 0.9013\n",
      "Epoch 30/100\n",
      "50/50 [==============================] - 0s 2ms/step - loss: 0.2530 - accuracy: 0.9215 - val_loss: 0.3345 - val_accuracy: 0.8785\n",
      "Epoch 31/100\n",
      "50/50 [==============================] - 0s 2ms/step - loss: 0.2601 - accuracy: 0.9177 - val_loss: 0.3119 - val_accuracy: 0.8886\n",
      "Epoch 32/100\n",
      "50/50 [==============================] - 0s 3ms/step - loss: 0.2680 - accuracy: 0.9190 - val_loss: 0.3273 - val_accuracy: 0.8810\n",
      "Epoch 33/100\n",
      "50/50 [==============================] - 0s 3ms/step - loss: 0.2504 - accuracy: 0.9215 - val_loss: 0.3199 - val_accuracy: 0.8962\n",
      "Epoch 34/100\n",
      "50/50 [==============================] - 0s 3ms/step - loss: 0.2361 - accuracy: 0.9285 - val_loss: 0.3154 - val_accuracy: 0.9038\n",
      "Epoch 35/100\n",
      "50/50 [==============================] - 0s 2ms/step - loss: 0.2387 - accuracy: 0.9234 - val_loss: 0.3020 - val_accuracy: 0.9114\n",
      "Epoch 36/100\n",
      "50/50 [==============================] - 0s 3ms/step - loss: 0.2144 - accuracy: 0.9316 - val_loss: 0.3343 - val_accuracy: 0.9013\n",
      "Epoch 37/100\n",
      "50/50 [==============================] - 0s 3ms/step - loss: 0.2439 - accuracy: 0.9247 - val_loss: 0.3143 - val_accuracy: 0.9114\n",
      "Epoch 38/100\n",
      "50/50 [==============================] - 0s 3ms/step - loss: 0.2255 - accuracy: 0.9291 - val_loss: 0.3003 - val_accuracy: 0.9013\n",
      "Epoch 39/100\n",
      "50/50 [==============================] - 0s 2ms/step - loss: 0.2386 - accuracy: 0.9209 - val_loss: 0.3136 - val_accuracy: 0.8911\n",
      "Epoch 40/100\n",
      "50/50 [==============================] - 0s 3ms/step - loss: 0.2478 - accuracy: 0.9272 - val_loss: 0.3269 - val_accuracy: 0.8937\n",
      "Epoch 41/100\n",
      "50/50 [==============================] - 0s 3ms/step - loss: 0.2257 - accuracy: 0.9310 - val_loss: 0.3333 - val_accuracy: 0.8835\n",
      "Epoch 42/100\n",
      "50/50 [==============================] - 0s 2ms/step - loss: 0.2215 - accuracy: 0.9316 - val_loss: 0.3161 - val_accuracy: 0.9038\n",
      "Epoch 43/100\n",
      "50/50 [==============================] - 0s 3ms/step - loss: 0.2166 - accuracy: 0.9342 - val_loss: 0.3354 - val_accuracy: 0.9038\n",
      "Epoch 44/100\n",
      "50/50 [==============================] - 0s 3ms/step - loss: 0.2444 - accuracy: 0.9241 - val_loss: 0.3340 - val_accuracy: 0.8987\n",
      "Epoch 45/100\n",
      "50/50 [==============================] - 0s 3ms/step - loss: 0.2335 - accuracy: 0.9304 - val_loss: 0.3048 - val_accuracy: 0.9038\n",
      "Epoch 46/100\n",
      "50/50 [==============================] - 0s 3ms/step - loss: 0.2262 - accuracy: 0.9247 - val_loss: 0.3072 - val_accuracy: 0.8962\n",
      "Epoch 47/100\n",
      "50/50 [==============================] - 0s 3ms/step - loss: 0.2285 - accuracy: 0.9241 - val_loss: 0.3211 - val_accuracy: 0.8987\n",
      "Epoch 48/100\n",
      "50/50 [==============================] - 0s 2ms/step - loss: 0.2450 - accuracy: 0.9196 - val_loss: 0.3188 - val_accuracy: 0.8962\n",
      "Epoch 49/100\n",
      "50/50 [==============================] - 0s 3ms/step - loss: 0.2392 - accuracy: 0.9196 - val_loss: 0.3134 - val_accuracy: 0.9063\n",
      "Epoch 50/100\n",
      "50/50 [==============================] - 0s 3ms/step - loss: 0.2161 - accuracy: 0.9285 - val_loss: 0.3282 - val_accuracy: 0.9013\n",
      "Epoch 51/100\n",
      "50/50 [==============================] - 0s 2ms/step - loss: 0.2314 - accuracy: 0.9272 - val_loss: 0.3584 - val_accuracy: 0.8861\n",
      "Epoch 52/100\n",
      "50/50 [==============================] - 0s 3ms/step - loss: 0.2475 - accuracy: 0.9234 - val_loss: 0.3065 - val_accuracy: 0.8987\n",
      "Epoch 53/100\n",
      "50/50 [==============================] - 0s 2ms/step - loss: 0.2136 - accuracy: 0.9354 - val_loss: 0.2973 - val_accuracy: 0.9114\n",
      "Epoch 54/100\n",
      "50/50 [==============================] - 0s 2ms/step - loss: 0.2337 - accuracy: 0.9278 - val_loss: 0.3154 - val_accuracy: 0.8962\n",
      "Epoch 55/100\n",
      "50/50 [==============================] - 0s 2ms/step - loss: 0.2372 - accuracy: 0.9234 - val_loss: 0.3318 - val_accuracy: 0.8962\n",
      "Epoch 56/100\n",
      "50/50 [==============================] - 0s 2ms/step - loss: 0.2332 - accuracy: 0.9203 - val_loss: 0.3206 - val_accuracy: 0.9038\n",
      "Epoch 57/100\n",
      "50/50 [==============================] - 0s 3ms/step - loss: 0.2321 - accuracy: 0.9259 - val_loss: 0.3068 - val_accuracy: 0.8987\n",
      "Epoch 58/100\n",
      "50/50 [==============================] - 0s 2ms/step - loss: 0.2142 - accuracy: 0.9285 - val_loss: 0.3119 - val_accuracy: 0.8987\n",
      "Epoch 59/100\n",
      "50/50 [==============================] - 0s 3ms/step - loss: 0.2240 - accuracy: 0.9266 - val_loss: 0.3084 - val_accuracy: 0.9013\n",
      "Epoch 60/100\n",
      "50/50 [==============================] - 0s 2ms/step - loss: 0.2198 - accuracy: 0.9253 - val_loss: 0.3234 - val_accuracy: 0.9063\n",
      "Epoch 61/100\n",
      "50/50 [==============================] - 0s 3ms/step - loss: 0.2116 - accuracy: 0.9342 - val_loss: 0.3392 - val_accuracy: 0.8962\n",
      "Epoch 62/100\n",
      "50/50 [==============================] - 0s 2ms/step - loss: 0.2122 - accuracy: 0.9342 - val_loss: 0.3277 - val_accuracy: 0.8886\n",
      "Epoch 63/100\n",
      "50/50 [==============================] - 0s 2ms/step - loss: 0.2141 - accuracy: 0.9291 - val_loss: 0.3129 - val_accuracy: 0.9038\n",
      "Epoch 64/100\n",
      "50/50 [==============================] - 0s 2ms/step - loss: 0.2031 - accuracy: 0.9329 - val_loss: 0.3272 - val_accuracy: 0.9013\n",
      "Epoch 65/100\n",
      "50/50 [==============================] - 0s 3ms/step - loss: 0.2079 - accuracy: 0.9285 - val_loss: 0.3137 - val_accuracy: 0.9013\n",
      "Epoch 66/100\n",
      "50/50 [==============================] - 0s 2ms/step - loss: 0.2088 - accuracy: 0.9361 - val_loss: 0.3175 - val_accuracy: 0.9038\n",
      "Epoch 67/100\n",
      "50/50 [==============================] - 0s 2ms/step - loss: 0.2129 - accuracy: 0.9342 - val_loss: 0.3266 - val_accuracy: 0.9063\n",
      "Epoch 68/100\n",
      "50/50 [==============================] - 0s 3ms/step - loss: 0.2050 - accuracy: 0.9329 - val_loss: 0.3378 - val_accuracy: 0.9013\n",
      "Epoch 69/100\n",
      "50/50 [==============================] - 0s 2ms/step - loss: 0.2120 - accuracy: 0.9323 - val_loss: 0.3048 - val_accuracy: 0.9013\n",
      "Epoch 70/100\n",
      "50/50 [==============================] - 0s 3ms/step - loss: 0.2167 - accuracy: 0.9272 - val_loss: 0.3239 - val_accuracy: 0.8911\n",
      "Epoch 71/100\n",
      "50/50 [==============================] - 0s 3ms/step - loss: 0.2085 - accuracy: 0.9367 - val_loss: 0.3095 - val_accuracy: 0.8962\n",
      "Epoch 72/100\n",
      "50/50 [==============================] - 0s 2ms/step - loss: 0.1997 - accuracy: 0.9342 - val_loss: 0.3120 - val_accuracy: 0.9114\n",
      "Epoch 73/100\n",
      "50/50 [==============================] - 0s 2ms/step - loss: 0.2135 - accuracy: 0.9316 - val_loss: 0.3104 - val_accuracy: 0.9013\n",
      "Epoch 74/100\n",
      "50/50 [==============================] - 0s 3ms/step - loss: 0.2049 - accuracy: 0.9342 - val_loss: 0.3185 - val_accuracy: 0.9013\n",
      "Epoch 75/100\n",
      "50/50 [==============================] - 0s 2ms/step - loss: 0.2027 - accuracy: 0.9323 - val_loss: 0.3129 - val_accuracy: 0.9038\n",
      "Epoch 76/100\n",
      "50/50 [==============================] - 0s 2ms/step - loss: 0.2049 - accuracy: 0.9329 - val_loss: 0.3174 - val_accuracy: 0.8987\n",
      "Epoch 77/100\n",
      "50/50 [==============================] - 0s 2ms/step - loss: 0.2469 - accuracy: 0.9177 - val_loss: 0.3234 - val_accuracy: 0.9013\n",
      "Epoch 78/100\n",
      "50/50 [==============================] - 0s 2ms/step - loss: 0.2297 - accuracy: 0.9285 - val_loss: 0.3364 - val_accuracy: 0.8911\n",
      "Epoch 79/100\n",
      "50/50 [==============================] - 0s 2ms/step - loss: 0.2158 - accuracy: 0.9241 - val_loss: 0.3167 - val_accuracy: 0.8987\n",
      "Epoch 80/100\n",
      "50/50 [==============================] - 0s 2ms/step - loss: 0.1978 - accuracy: 0.9367 - val_loss: 0.3030 - val_accuracy: 0.9063\n",
      "Epoch 81/100\n",
      "50/50 [==============================] - 0s 3ms/step - loss: 0.2121 - accuracy: 0.9342 - val_loss: 0.3055 - val_accuracy: 0.9013\n",
      "Epoch 82/100\n",
      "50/50 [==============================] - 0s 3ms/step - loss: 0.2270 - accuracy: 0.9335 - val_loss: 0.3013 - val_accuracy: 0.8987\n",
      "Epoch 83/100\n",
      "50/50 [==============================] - 0s 2ms/step - loss: 0.2007 - accuracy: 0.9367 - val_loss: 0.3291 - val_accuracy: 0.9038\n",
      "Epoch 84/100\n",
      "50/50 [==============================] - 0s 2ms/step - loss: 0.2097 - accuracy: 0.9380 - val_loss: 0.3040 - val_accuracy: 0.9013\n",
      "Epoch 85/100\n",
      "50/50 [==============================] - 0s 2ms/step - loss: 0.2003 - accuracy: 0.9367 - val_loss: 0.3082 - val_accuracy: 0.9063\n",
      "Epoch 86/100\n",
      "50/50 [==============================] - 0s 2ms/step - loss: 0.1984 - accuracy: 0.9354 - val_loss: 0.3111 - val_accuracy: 0.8962\n",
      "Epoch 87/100\n",
      "50/50 [==============================] - 0s 2ms/step - loss: 0.2125 - accuracy: 0.9399 - val_loss: 0.3285 - val_accuracy: 0.9013\n",
      "Epoch 88/100\n",
      "50/50 [==============================] - 0s 2ms/step - loss: 0.2056 - accuracy: 0.9354 - val_loss: 0.3299 - val_accuracy: 0.8987\n",
      "Epoch 89/100\n",
      "50/50 [==============================] - 0s 3ms/step - loss: 0.1954 - accuracy: 0.9367 - val_loss: 0.3017 - val_accuracy: 0.9013\n",
      "Epoch 90/100\n",
      "50/50 [==============================] - 0s 3ms/step - loss: 0.2123 - accuracy: 0.9361 - val_loss: 0.3119 - val_accuracy: 0.8987\n",
      "Epoch 91/100\n",
      "50/50 [==============================] - 0s 3ms/step - loss: 0.1901 - accuracy: 0.9430 - val_loss: 0.3112 - val_accuracy: 0.9013\n",
      "Epoch 92/100\n",
      "50/50 [==============================] - 0s 3ms/step - loss: 0.1851 - accuracy: 0.9405 - val_loss: 0.3324 - val_accuracy: 0.8987\n",
      "Epoch 93/100\n",
      "50/50 [==============================] - 0s 3ms/step - loss: 0.2088 - accuracy: 0.9278 - val_loss: 0.3247 - val_accuracy: 0.9013\n",
      "Epoch 94/100\n",
      "50/50 [==============================] - 0s 3ms/step - loss: 0.2116 - accuracy: 0.9297 - val_loss: 0.3289 - val_accuracy: 0.9013\n",
      "Epoch 95/100\n",
      "50/50 [==============================] - 0s 2ms/step - loss: 0.2048 - accuracy: 0.9373 - val_loss: 0.3181 - val_accuracy: 0.8937\n",
      "Epoch 96/100\n",
      "50/50 [==============================] - 0s 2ms/step - loss: 0.2083 - accuracy: 0.9310 - val_loss: 0.3471 - val_accuracy: 0.8835\n",
      "Epoch 97/100\n",
      "50/50 [==============================] - 0s 2ms/step - loss: 0.2232 - accuracy: 0.9285 - val_loss: 0.3195 - val_accuracy: 0.8937\n",
      "Epoch 98/100\n",
      "50/50 [==============================] - 0s 2ms/step - loss: 0.2034 - accuracy: 0.9348 - val_loss: 0.3301 - val_accuracy: 0.8987\n",
      "Epoch 99/100\n",
      "50/50 [==============================] - 0s 3ms/step - loss: 0.1955 - accuracy: 0.9399 - val_loss: 0.3079 - val_accuracy: 0.9114\n",
      "Epoch 100/100\n",
      "50/50 [==============================] - 0s 2ms/step - loss: 0.2040 - accuracy: 0.9342 - val_loss: 0.2996 - val_accuracy: 0.9063\n"
     ]
    }
   ],
   "source": [
    "# entrenar el modelo\n",
    "history = model.fit(X_train, y_train, epochs=100, batch_size=32, validation_data=(X_test, y_test))\n"
   ],
   "metadata": {
    "collapsed": false,
    "ExecuteTime": {
     "start_time": "2023-04-18T12:11:11.063778Z",
     "end_time": "2023-04-18T12:13:54.776459Z"
    }
   }
  },
  {
   "cell_type": "code",
   "execution_count": 12,
   "outputs": [
    {
     "data": {
      "text/plain": "<Figure size 640x480 with 1 Axes>",
      "image/png": "[encoded data removed]"
     },
     "metadata": {},
     "output_type": "display_data"
    }
   ],
   "source": [
    "# graficar la precisión de entrenamiento y prueba\n",
    "plt.plot(history.history['accuracy'], label='train')\n",
    "plt.plot(history.history['val_accuracy'], label='test')\n",
    "plt.title('Model Accuracy')\n",
    "plt.xlabel('Epoch')\n",
    "plt.ylabel('Accuracy')\n",
    "plt.legend()\n",
    "plt.show()\n"
   ],
   "metadata": {
    "collapsed": false,
    "ExecuteTime": {
     "start_time": "2023-04-18T12:13:57.659212Z",
     "end_time": "2023-04-18T12:13:57.821789Z"
    }
   }
  },
  {
   "cell_type": "markdown",
   "source": [
    "# Classify all Red Giants"
   ],
   "metadata": {
    "collapsed": false
   }
  },
  {
   "cell_type": "code",
   "execution_count": 13,
   "outputs": [
    {
     "name": "stdout",
     "output_type": "stream",
     "text": [
      "2161/2161 [==============================] - 2s 772us/step\n",
      "[[    0     0     0]\n",
      " [    0     0     0]\n",
      " [  336  1059 67751]]\n"
     ]
    }
   ],
   "source": [
    "df_rg = df = pd.read_csv(\"../../new/normalized/RG.csv\", header=None)\n",
    "\n",
    "import numpy as np\n",
    "from sklearn.metrics import confusion_matrix\n",
    "\n",
    "# predecir las probabilidades para los datos de prueba\n",
    "y_probs = model.predict(df_rg)\n",
    "y_pred = np.argmax(y_probs, axis=-1)\n",
    "cm = confusion_matrix([2 for _ in range(69146)], y_pred)\n",
    "print(cm)\n"
   ],
   "metadata": {
    "collapsed": false
   }
  },
  {
   "cell_type": "code",
   "execution_count": 14,
   "outputs": [
    {
     "name": "stdout",
     "output_type": "stream",
     "text": [
      "13/13 [==============================] - 0s 1ms/step\n",
      "[[ 33   3   4]\n",
      " [  6  92  17]\n",
      " [  1   6 233]]\n"
     ]
    }
   ],
   "source": [
    "import numpy as np\n",
    "from sklearn.metrics import confusion_matrix\n",
    "\n",
    "# predecir las probabilidades para los datos de prueba\n",
    "y_probs = model.predict(X_test)\n",
    "y_pred = np.argmax(y_probs, axis=-1)\n",
    "cm = confusion_matrix(y_test, y_pred)\n",
    "print(cm)\n"
   ],
   "metadata": {
    "collapsed": false,
    "ExecuteTime": {
     "start_time": "2023-04-18T12:14:01.805738Z",
     "end_time": "2023-04-18T12:14:02.318586Z"
    }
   }
  },
  {
   "cell_type": "code",
   "execution_count": 15,
   "outputs": [
    {
     "name": "stdout",
     "output_type": "stream",
     "text": [
      "              precision    recall  f1-score   support\n",
      "\n",
      "           0     0.8250    0.8250    0.8250        40\n",
      "           1     0.9109    0.8000    0.8519       115\n",
      "           2     0.9173    0.9708    0.9433       240\n",
      "\n",
      "    accuracy                         0.9063       395\n",
      "   macro avg     0.8844    0.8653    0.8734       395\n",
      "weighted avg     0.9061    0.9063    0.9047       395\n",
      "\n"
     ]
    }
   ],
   "source": [
    "from sklearn.metrics import classification_report\n",
    "\n",
    "report = classification_report(y_test, y_pred, digits=4)\n",
    "print(report)"
   ],
   "metadata": {
    "collapsed": false,
    "ExecuteTime": {
     "start_time": "2023-04-18T12:14:03.495315Z",
     "end_time": "2023-04-18T12:14:03.527699Z"
    }
   }
  },
  {
   "cell_type": "code",
   "execution_count": 16,
   "outputs": [
    {
     "name": "stdout",
     "output_type": "stream",
     "text": [
      "Accuracy: 0.9063291139240506\n"
     ]
    }
   ],
   "source": [
    "from sklearn.metrics import accuracy_score\n",
    "\n",
    "accuracy = accuracy_score(y_test, y_pred)\n",
    "print('Accuracy:', accuracy)"
   ],
   "metadata": {
    "collapsed": false,
    "ExecuteTime": {
     "start_time": "2023-04-18T12:14:04.853888Z",
     "end_time": "2023-04-18T12:14:04.880366Z"
    }
   }
  },
  {
   "cell_type": "code",
   "execution_count": 17,
   "outputs": [
    {
     "name": "stdout",
     "output_type": "stream",
     "text": [
      "Cohen's kappa:  0.8214416615760538\n"
     ]
    }
   ],
   "source": [
    "from sklearn.metrics import cohen_kappa_score, classification_report\n",
    "\n",
    "print(\"Cohen's kappa: \", cohen_kappa_score(y_test, y_pred))"
   ],
   "metadata": {
    "collapsed": false
   }
  },
  {
   "cell_type": "code",
   "execution_count": 18,
   "outputs": [
    {
     "name": "stdout",
     "output_type": "stream",
     "text": [
      "size of the splits\n",
      "X_train:  (1580, 343)\n",
      "X_test:  (395, 343)\n",
      "y_test:  395\n",
      "y_pred:  395\n"
     ]
    }
   ],
   "source": [
    "print(\"size of the splits\")\n",
    "print(\"X_train: \", X_train.shape)\n",
    "print(\"X_test: \", X_test.shape)\n",
    "print(\"y_test: \", y_test.size)\n",
    "print(\"y_pred: \", y_pred.size)"
   ],
   "metadata": {
    "collapsed": false,
    "ExecuteTime": {
     "start_time": "2023-04-18T12:14:06.187170Z",
     "end_time": "2023-04-18T12:14:06.223173Z"
    }
   }
  },
  {
   "cell_type": "markdown",
   "source": [
    "# Save model"
   ],
   "metadata": {
    "collapsed": false
   }
  },
  {
   "cell_type": "code",
   "execution_count": 13,
   "outputs": [],
   "source": [
    "# Save the model to a single file\n",
    "model.save( './rna_unbalance.keras', save_format='keras_v3')"
   ],
   "metadata": {
    "collapsed": false
   }
  },
  {
   "cell_type": "markdown",
   "source": [
    "# Suspected Symbiotic Stars v1"
   ],
   "metadata": {
    "collapsed": false
   }
  },
  {
   "cell_type": "code",
   "execution_count": 29,
   "outputs": [
    {
     "name": "stdout",
     "output_type": "stream",
     "text": [
      "1/1 [==============================] - 0s 26ms/step\n",
      "[[13  1  1]\n",
      " [ 0  0  0]\n",
      " [ 0  0  0]]\n"
     ]
    }
   ],
   "source": [
    "import numpy as np\n",
    "from sklearn.metrics import confusion_matrix\n",
    "\n",
    "df_sus_sy = pd.read_csv(\"../../new/candidate_symbiotic_stars_v1/normalized/Suspected_SY.csv\", header=None)\n",
    "\n",
    "# predecir las probabilidades para los datos de prueba\n",
    "y_probs = model.predict(df_sus_sy)\n",
    "y_pred = np.argmax(y_probs, axis=-1)\n",
    "cm = confusion_matrix([0 for _ in range(len(df_sus_sy))], y_pred, labels=[0, 1, 2])\n",
    "print(cm)"
   ],
   "metadata": {
    "collapsed": false
   }
  },
  {
   "cell_type": "code",
   "execution_count": 30,
   "outputs": [
    {
     "data": {
      "text/plain": "             source_id       0       1       2  label\n0  4687286621186701568  0.8211  0.1205  0.0584      0\n1  4651824725526390016  0.5211  0.4222  0.0568      0\n2  3321366590173335424  0.4454  0.2368  0.3178      0\n3  5410876219867043072  0.9901  0.0098  0.0001      0\n4  3575939163051304192  0.9876  0.0123  0.0001      0",
      "text/html": "<div>\n<style scoped>\n    .dataframe tbody tr th:only-of-type {\n        vertical-align: middle;\n    }\n\n    .dataframe tbody tr th {\n        vertical-align: top;\n    }\n\n    .dataframe thead th {\n        text-align: right;\n    }\n</style>\n<table border=\"1\" class=\"dataframe\">\n  <thead>\n    <tr style=\"text-align: right;\">\n      <th></th>\n      <th>source_id</th>\n      <th>0</th>\n      <th>1</th>\n      <th>2</th>\n      <th>label</th>\n    </tr>\n  </thead>\n  <tbody>\n    <tr>\n      <th>0</th>\n      <td>4687286621186701568</td>\n      <td>0.8211</td>\n      <td>0.1205</td>\n      <td>0.0584</td>\n      <td>0</td>\n    </tr>\n    <tr>\n      <th>1</th>\n      <td>4651824725526390016</td>\n      <td>0.5211</td>\n      <td>0.4222</td>\n      <td>0.0568</td>\n      <td>0</td>\n    </tr>\n    <tr>\n      <th>2</th>\n      <td>3321366590173335424</td>\n      <td>0.4454</td>\n      <td>0.2368</td>\n      <td>0.3178</td>\n      <td>0</td>\n    </tr>\n    <tr>\n      <th>3</th>\n      <td>5410876219867043072</td>\n      <td>0.9901</td>\n      <td>0.0098</td>\n      <td>0.0001</td>\n      <td>0</td>\n    </tr>\n    <tr>\n      <th>4</th>\n      <td>3575939163051304192</td>\n      <td>0.9876</td>\n      <td>0.0123</td>\n      <td>0.0001</td>\n      <td>0</td>\n    </tr>\n  </tbody>\n</table>\n</div>"
     },
     "execution_count": 30,
     "metadata": {},
     "output_type": "execute_result"
    }
   ],
   "source": [
    "df_sus_sy_normalized = pd.read_csv(\"../../new/candidate_symbiotic_stars_v1/calibrated_data/Suspected_SY.csv\")\n",
    "\n",
    "df5 = pd.DataFrame(y_probs)\n",
    "df5 = df5.round(4)\n",
    "df5['label'] = y_pred\n",
    "df5.insert(0, 'source_id', df_sus_sy_normalized['source_id'])\n",
    "df5.head(5)"
   ],
   "metadata": {
    "collapsed": false
   }
  },
  {
   "cell_type": "code",
   "execution_count": 31,
   "outputs": [
    {
     "data": {
      "text/plain": "    FIND_NAME        MAIN_ID         OTYPE   SP_TYPE  \\\n0    RAW 1691        LIN 521            C*         C   \n1  [BE74] 583     [BE74] 583  LongPeriodV*     G/Ke:   \n2     StHA 55  EM* StHA   55          Mira       NaN   \n3      ZZ CMi      V* ZZ CMi  LongPeriodV*  M6I-IIep   \n4  WRAY 16−51     WRAY 16-51  LongPeriodV*        M4   \n\n                        ID_Gaia  \\\n0  Gaia DR2 4687286621186701568   \n1  Gaia DR2 4651824725526390016   \n2  Gaia DR3 3321366590173335424   \n3  Gaia DR3 3155368612444708096   \n4  Gaia DR2 5410876219860836224   \n\n                                                 IDS  \\\n0  RAW 1691|LIN 521|2MASS J01183570-7242213|OGLE ...   \n1  2MASS J05265014-7106350|EROS2-star lm058-2n-25...   \n2  IRAS 05440+0642|ASAS J054642+0643.7|ASAS J0546...   \n3  BD+09  1633|AN  306.1934|DO  2156|GCRV  4915|G...   \n4  IRAS 09316-4621|AKARI-IRC-V1 J0933295-463450|D...   \n\n                                              OTYPES             Gaia DR3  \n0               C*|Em*|LP*|LP*|Em*|MIR|NIR|*|C*?|LP?  4687286621186701568  \n1                                   LP*|Em*|NIR|V*|*  4651824725526390016  \n2  Mi*|LP*|V*|LP*|SB*|LP*|MIR|V*|Em*|NIR|*|C*?|IR...  3321366590173335424  \n3                                LP*|NIR|V*|*|IR|LP?  3155368612444708096  \n4                            LP*|NIR|MIR|Em*|PN|*|IR  5410876219867043072  ",
      "text/html": "<div>\n<style scoped>\n    .dataframe tbody tr th:only-of-type {\n        vertical-align: middle;\n    }\n\n    .dataframe tbody tr th {\n        vertical-align: top;\n    }\n\n    .dataframe thead th {\n        text-align: right;\n    }\n</style>\n<table border=\"1\" class=\"dataframe\">\n  <thead>\n    <tr style=\"text-align: right;\">\n      <th></th>\n      <th>FIND_NAME</th>\n      <th>MAIN_ID</th>\n      <th>OTYPE</th>\n      <th>SP_TYPE</th>\n      <th>ID_Gaia</th>\n      <th>IDS</th>\n      <th>OTYPES</th>\n      <th>Gaia DR3</th>\n    </tr>\n  </thead>\n  <tbody>\n    <tr>\n      <th>0</th>\n      <td>RAW 1691</td>\n      <td>LIN 521</td>\n      <td>C*</td>\n      <td>C</td>\n      <td>Gaia DR2 4687286621186701568</td>\n      <td>RAW 1691|LIN 521|2MASS J01183570-7242213|OGLE ...</td>\n      <td>C*|Em*|LP*|LP*|Em*|MIR|NIR|*|C*?|LP?</td>\n      <td>4687286621186701568</td>\n    </tr>\n    <tr>\n      <th>1</th>\n      <td>[BE74] 583</td>\n      <td>[BE74] 583</td>\n      <td>LongPeriodV*</td>\n      <td>G/Ke:</td>\n      <td>Gaia DR2 4651824725526390016</td>\n      <td>2MASS J05265014-7106350|EROS2-star lm058-2n-25...</td>\n      <td>LP*|Em*|NIR|V*|*</td>\n      <td>4651824725526390016</td>\n    </tr>\n    <tr>\n      <th>2</th>\n      <td>StHA 55</td>\n      <td>EM* StHA   55</td>\n      <td>Mira</td>\n      <td>NaN</td>\n      <td>Gaia DR3 3321366590173335424</td>\n      <td>IRAS 05440+0642|ASAS J054642+0643.7|ASAS J0546...</td>\n      <td>Mi*|LP*|V*|LP*|SB*|LP*|MIR|V*|Em*|NIR|*|C*?|IR...</td>\n      <td>3321366590173335424</td>\n    </tr>\n    <tr>\n      <th>3</th>\n      <td>ZZ CMi</td>\n      <td>V* ZZ CMi</td>\n      <td>LongPeriodV*</td>\n      <td>M6I-IIep</td>\n      <td>Gaia DR3 3155368612444708096</td>\n      <td>BD+09  1633|AN  306.1934|DO  2156|GCRV  4915|G...</td>\n      <td>LP*|NIR|V*|*|IR|LP?</td>\n      <td>3155368612444708096</td>\n    </tr>\n    <tr>\n      <th>4</th>\n      <td>WRAY 16−51</td>\n      <td>WRAY 16-51</td>\n      <td>LongPeriodV*</td>\n      <td>M4</td>\n      <td>Gaia DR2 5410876219860836224</td>\n      <td>IRAS 09316-4621|AKARI-IRC-V1 J0933295-463450|D...</td>\n      <td>LP*|NIR|MIR|Em*|PN|*|IR</td>\n      <td>5410876219867043072</td>\n    </tr>\n  </tbody>\n</table>\n</div>"
     },
     "execution_count": 31,
     "metadata": {},
     "output_type": "execute_result"
    }
   ],
   "source": [
    "df6 = pd.read_csv('../../new/candidate_symbiotic_stars_v1/built_dataset/suspected_SY_dataset.csv')\n",
    "df6.head(5)"
   ],
   "metadata": {
    "collapsed": false
   }
  },
  {
   "cell_type": "code",
   "execution_count": 32,
   "outputs": [
    {
     "data": {
      "text/plain": "    FIND_NAME        MAIN_ID             Gaia DR3       0       1       2  \\\n0    RAW 1691        LIN 521  4687286621186701568  0.8211  0.1205  0.0584   \n1  [BE74] 583     [BE74] 583  4651824725526390016  0.5211  0.4222  0.0568   \n2     StHA 55  EM* StHA   55  3321366590173335424  0.4454  0.2368  0.3178   \n3  WRAY 16−51     WRAY 16-51  5410876219867043072  0.9901  0.0098  0.0001   \n4   NSV 05572      V* VX Crv  3575939163051304192  0.9876  0.0123  0.0001   \n\n   label  \n0      0  \n1      0  \n2      0  \n3      0  \n4      0  ",
      "text/html": "<div>\n<style scoped>\n    .dataframe tbody tr th:only-of-type {\n        vertical-align: middle;\n    }\n\n    .dataframe tbody tr th {\n        vertical-align: top;\n    }\n\n    .dataframe thead th {\n        text-align: right;\n    }\n</style>\n<table border=\"1\" class=\"dataframe\">\n  <thead>\n    <tr style=\"text-align: right;\">\n      <th></th>\n      <th>FIND_NAME</th>\n      <th>MAIN_ID</th>\n      <th>Gaia DR3</th>\n      <th>0</th>\n      <th>1</th>\n      <th>2</th>\n      <th>label</th>\n    </tr>\n  </thead>\n  <tbody>\n    <tr>\n      <th>0</th>\n      <td>RAW 1691</td>\n      <td>LIN 521</td>\n      <td>4687286621186701568</td>\n      <td>0.8211</td>\n      <td>0.1205</td>\n      <td>0.0584</td>\n      <td>0</td>\n    </tr>\n    <tr>\n      <th>1</th>\n      <td>[BE74] 583</td>\n      <td>[BE74] 583</td>\n      <td>4651824725526390016</td>\n      <td>0.5211</td>\n      <td>0.4222</td>\n      <td>0.0568</td>\n      <td>0</td>\n    </tr>\n    <tr>\n      <th>2</th>\n      <td>StHA 55</td>\n      <td>EM* StHA   55</td>\n      <td>3321366590173335424</td>\n      <td>0.4454</td>\n      <td>0.2368</td>\n      <td>0.3178</td>\n      <td>0</td>\n    </tr>\n    <tr>\n      <th>3</th>\n      <td>WRAY 16−51</td>\n      <td>WRAY 16-51</td>\n      <td>5410876219867043072</td>\n      <td>0.9901</td>\n      <td>0.0098</td>\n      <td>0.0001</td>\n      <td>0</td>\n    </tr>\n    <tr>\n      <th>4</th>\n      <td>NSV 05572</td>\n      <td>V* VX Crv</td>\n      <td>3575939163051304192</td>\n      <td>0.9876</td>\n      <td>0.0123</td>\n      <td>0.0001</td>\n      <td>0</td>\n    </tr>\n  </tbody>\n</table>\n</div>"
     },
     "execution_count": 32,
     "metadata": {},
     "output_type": "execute_result"
    }
   ],
   "source": [
    "# Filtro de data frames\n",
    "df_filtered = df6.merge(df5, left_on=['Gaia DR3'], right_on=['source_id'], how='inner', indicator=True)\n",
    "df_filtered = df_filtered[df_filtered['_merge'] == 'both']\n",
    "df_filtered = df_filtered.iloc[:, [0, 1, 7, 9, 10, 11, 12]]\n",
    "df_filtered.head(5)"
   ],
   "metadata": {
    "collapsed": false
   }
  },
  {
   "cell_type": "code",
   "execution_count": 33,
   "outputs": [],
   "source": [
    "out_name = 'rna_unbalanced.csv'\n",
    "out_dir = '../../new/candidate_symbiotic_stars_v1/output'\n",
    "if not os.path.exists(out_dir):\n",
    "    os.mkdir(out_dir)\n",
    "\n",
    "fullname = os.path.join(out_dir, out_name)\n",
    "df_filtered.to_csv(fullname, header=True, index=False)"
   ],
   "metadata": {
    "collapsed": false
   }
  },
  {
   "cell_type": "markdown",
   "source": [
    "# Suspected Symbiotic Stars v2"
   ],
   "metadata": {
    "collapsed": false
   }
  },
  {
   "cell_type": "code",
   "execution_count": 34,
   "outputs": [
    {
     "name": "stdout",
     "output_type": "stream",
     "text": [
      "1/1 [==============================] - 0s 16ms/step\n",
      "[[14  2  1]\n",
      " [ 0  0  0]\n",
      " [ 0  0  0]]\n"
     ]
    }
   ],
   "source": [
    "import numpy as np\n",
    "from sklearn.metrics import confusion_matrix\n",
    "\n",
    "df_sus_sy = pd.read_csv(\"../../new/candidate_symbiotic_stars_v2/normalized/Suspected_SY.csv\", header=None)\n",
    "\n",
    "# predecir las probabilidades para los datos de prueba\n",
    "y_probs = model.predict(df_sus_sy)\n",
    "y_pred = np.argmax(y_probs, axis=-1)\n",
    "cm = confusion_matrix([0 for _ in range(len(df_sus_sy))], y_pred, labels=[0, 1, 2])\n",
    "print(cm)"
   ],
   "metadata": {
    "collapsed": false
   }
  },
  {
   "cell_type": "code",
   "execution_count": 35,
   "outputs": [
    {
     "data": {
      "text/plain": "             source_id       0       1       2  label\n0  6204217186929931520  0.0228  0.9771  0.0000      1\n1  4061952680197028224  0.9027  0.0866  0.0107      0\n2   670455944074475008  0.5603  0.0777  0.3620      0\n3  4068755633500598272  0.0082  0.0626  0.9292      2\n4  2060829659152816768  0.0782  0.7818  0.1399      1",
      "text/html": "<div>\n<style scoped>\n    .dataframe tbody tr th:only-of-type {\n        vertical-align: middle;\n    }\n\n    .dataframe tbody tr th {\n        vertical-align: top;\n    }\n\n    .dataframe thead th {\n        text-align: right;\n    }\n</style>\n<table border=\"1\" class=\"dataframe\">\n  <thead>\n    <tr style=\"text-align: right;\">\n      <th></th>\n      <th>source_id</th>\n      <th>0</th>\n      <th>1</th>\n      <th>2</th>\n      <th>label</th>\n    </tr>\n  </thead>\n  <tbody>\n    <tr>\n      <th>0</th>\n      <td>6204217186929931520</td>\n      <td>0.0228</td>\n      <td>0.9771</td>\n      <td>0.0000</td>\n      <td>1</td>\n    </tr>\n    <tr>\n      <th>1</th>\n      <td>4061952680197028224</td>\n      <td>0.9027</td>\n      <td>0.0866</td>\n      <td>0.0107</td>\n      <td>0</td>\n    </tr>\n    <tr>\n      <th>2</th>\n      <td>670455944074475008</td>\n      <td>0.5603</td>\n      <td>0.0777</td>\n      <td>0.3620</td>\n      <td>0</td>\n    </tr>\n    <tr>\n      <th>3</th>\n      <td>4068755633500598272</td>\n      <td>0.0082</td>\n      <td>0.0626</td>\n      <td>0.9292</td>\n      <td>2</td>\n    </tr>\n    <tr>\n      <th>4</th>\n      <td>2060829659152816768</td>\n      <td>0.0782</td>\n      <td>0.7818</td>\n      <td>0.1399</td>\n      <td>1</td>\n    </tr>\n  </tbody>\n</table>\n</div>"
     },
     "execution_count": 35,
     "metadata": {},
     "output_type": "execute_result"
    }
   ],
   "source": [
    "df_sus_sy_normalized = pd.read_csv(\"../../new/candidate_symbiotic_stars_v2/calibrated_data/Suspected_SY.csv\")\n",
    "\n",
    "df5 = pd.DataFrame(y_probs)\n",
    "df5 = df5.round(4)\n",
    "df5['label'] = y_pred\n",
    "df5.insert(0, 'source_id', df_sus_sy_normalized['source_id'])\n",
    "df5.head(5)"
   ],
   "metadata": {
    "collapsed": false
   }
  },
  {
   "cell_type": "code",
   "execution_count": 36,
   "outputs": [
    {
     "data": {
      "text/plain": "                  FIND_NAME              MAIN_ID                   OTYPE  \\\n0                  V748 Cen          V* V748 Cen                  EclBin   \n1               WRAY 16-294          WRAY 16-294            LongPeriodV*   \n2    DASCH J075731.1+201735  ASAS J075731+2017.6            LongPeriodV*   \n3       ASAS J174600-2321.3  ASAS J174600-2321.3  LongPeriodV*_Candidate   \n4  IPHASJ201550.96+373004.2      IRAS 20140+3720  PlanetaryNeb_Candidate   \n\n  SP_TYPE                       ID_Gaia  \\\n0      Ae  Gaia DR3 6204217186929931520   \n1      K5  Gaia DR2 4061952680197028224   \n2   M0III   Gaia DR2 670455944074475008   \n3     F0I  Gaia DR2 4068755633500598272   \n4     NaN  Gaia DR2 2060829659152816768   \n\n                                                 IDS  \\\n0  CD-32 10517|ALS 18924|CRTS J145936.6-332503|CS...   \n1  2MASS J17391381-2538050|DENIS J173913.8-253805...   \n2  2MASS J07573112+2017347|ASAS J075731+2017.6|DA...   \n3  2MASS J17460018-2321163|ASAS J174600-2321.3|ER...   \n4  2MASS J20155096+3730042|AKARI-IRC-V1 J2015509+...   \n\n                         OTYPES             Gaia DR3  \n0          EB*|Ro*|NIR|V*|Em*|*  6204217186929931520  \n1  LP*|PN|NIR|Em*|*|C*?|ISM|LP?  4061952680197028224  \n2          SB*|LP*|NIR|V*|*|Opt   670455944074475008  \n3                  NIR|V*|*|LP?  4068755633500598272  \n4          NIR|*|C*?|IR|LP?|PN?  2060829659152816768  ",
      "text/html": "<div>\n<style scoped>\n    .dataframe tbody tr th:only-of-type {\n        vertical-align: middle;\n    }\n\n    .dataframe tbody tr th {\n        vertical-align: top;\n    }\n\n    .dataframe thead th {\n        text-align: right;\n    }\n</style>\n<table border=\"1\" class=\"dataframe\">\n  <thead>\n    <tr style=\"text-align: right;\">\n      <th></th>\n      <th>FIND_NAME</th>\n      <th>MAIN_ID</th>\n      <th>OTYPE</th>\n      <th>SP_TYPE</th>\n      <th>ID_Gaia</th>\n      <th>IDS</th>\n      <th>OTYPES</th>\n      <th>Gaia DR3</th>\n    </tr>\n  </thead>\n  <tbody>\n    <tr>\n      <th>0</th>\n      <td>V748 Cen</td>\n      <td>V* V748 Cen</td>\n      <td>EclBin</td>\n      <td>Ae</td>\n      <td>Gaia DR3 6204217186929931520</td>\n      <td>CD-32 10517|ALS 18924|CRTS J145936.6-332503|CS...</td>\n      <td>EB*|Ro*|NIR|V*|Em*|*</td>\n      <td>6204217186929931520</td>\n    </tr>\n    <tr>\n      <th>1</th>\n      <td>WRAY 16-294</td>\n      <td>WRAY 16-294</td>\n      <td>LongPeriodV*</td>\n      <td>K5</td>\n      <td>Gaia DR2 4061952680197028224</td>\n      <td>2MASS J17391381-2538050|DENIS J173913.8-253805...</td>\n      <td>LP*|PN|NIR|Em*|*|C*?|ISM|LP?</td>\n      <td>4061952680197028224</td>\n    </tr>\n    <tr>\n      <th>2</th>\n      <td>DASCH J075731.1+201735</td>\n      <td>ASAS J075731+2017.6</td>\n      <td>LongPeriodV*</td>\n      <td>M0III</td>\n      <td>Gaia DR2 670455944074475008</td>\n      <td>2MASS J07573112+2017347|ASAS J075731+2017.6|DA...</td>\n      <td>SB*|LP*|NIR|V*|*|Opt</td>\n      <td>670455944074475008</td>\n    </tr>\n    <tr>\n      <th>3</th>\n      <td>ASAS J174600-2321.3</td>\n      <td>ASAS J174600-2321.3</td>\n      <td>LongPeriodV*_Candidate</td>\n      <td>F0I</td>\n      <td>Gaia DR2 4068755633500598272</td>\n      <td>2MASS J17460018-2321163|ASAS J174600-2321.3|ER...</td>\n      <td>NIR|V*|*|LP?</td>\n      <td>4068755633500598272</td>\n    </tr>\n    <tr>\n      <th>4</th>\n      <td>IPHASJ201550.96+373004.2</td>\n      <td>IRAS 20140+3720</td>\n      <td>PlanetaryNeb_Candidate</td>\n      <td>NaN</td>\n      <td>Gaia DR2 2060829659152816768</td>\n      <td>2MASS J20155096+3730042|AKARI-IRC-V1 J2015509+...</td>\n      <td>NIR|*|C*?|IR|LP?|PN?</td>\n      <td>2060829659152816768</td>\n    </tr>\n  </tbody>\n</table>\n</div>"
     },
     "execution_count": 36,
     "metadata": {},
     "output_type": "execute_result"
    }
   ],
   "source": [
    "df6 = pd.read_csv('../../new/candidate_symbiotic_stars_v2/built_dataset/suspected_SY_dataset.csv')\n",
    "df6.head(5)"
   ],
   "metadata": {
    "collapsed": false
   }
  },
  {
   "cell_type": "code",
   "execution_count": 37,
   "outputs": [
    {
     "data": {
      "text/plain": "                  FIND_NAME              MAIN_ID             Gaia DR3       0  \\\n0                  V748 Cen          V* V748 Cen  6204217186929931520  0.0228   \n1               WRAY 16-294          WRAY 16-294  4061952680197028224  0.9027   \n2    DASCH J075731.1+201735  ASAS J075731+2017.6   670455944074475008  0.5603   \n3       ASAS J174600-2321.3  ASAS J174600-2321.3  4068755633500598272  0.0082   \n4  IPHASJ201550.96+373004.2      IRAS 20140+3720  2060829659152816768  0.0782   \n\n        1       2  label  \n0  0.9771  0.0000      1  \n1  0.0866  0.0107      0  \n2  0.0777  0.3620      0  \n3  0.0626  0.9292      2  \n4  0.7818  0.1399      1  ",
      "text/html": "<div>\n<style scoped>\n    .dataframe tbody tr th:only-of-type {\n        vertical-align: middle;\n    }\n\n    .dataframe tbody tr th {\n        vertical-align: top;\n    }\n\n    .dataframe thead th {\n        text-align: right;\n    }\n</style>\n<table border=\"1\" class=\"dataframe\">\n  <thead>\n    <tr style=\"text-align: right;\">\n      <th></th>\n      <th>FIND_NAME</th>\n      <th>MAIN_ID</th>\n      <th>Gaia DR3</th>\n      <th>0</th>\n      <th>1</th>\n      <th>2</th>\n      <th>label</th>\n    </tr>\n  </thead>\n  <tbody>\n    <tr>\n      <th>0</th>\n      <td>V748 Cen</td>\n      <td>V* V748 Cen</td>\n      <td>6204217186929931520</td>\n      <td>0.0228</td>\n      <td>0.9771</td>\n      <td>0.0000</td>\n      <td>1</td>\n    </tr>\n    <tr>\n      <th>1</th>\n      <td>WRAY 16-294</td>\n      <td>WRAY 16-294</td>\n      <td>4061952680197028224</td>\n      <td>0.9027</td>\n      <td>0.0866</td>\n      <td>0.0107</td>\n      <td>0</td>\n    </tr>\n    <tr>\n      <th>2</th>\n      <td>DASCH J075731.1+201735</td>\n      <td>ASAS J075731+2017.6</td>\n      <td>670455944074475008</td>\n      <td>0.5603</td>\n      <td>0.0777</td>\n      <td>0.3620</td>\n      <td>0</td>\n    </tr>\n    <tr>\n      <th>3</th>\n      <td>ASAS J174600-2321.3</td>\n      <td>ASAS J174600-2321.3</td>\n      <td>4068755633500598272</td>\n      <td>0.0082</td>\n      <td>0.0626</td>\n      <td>0.9292</td>\n      <td>2</td>\n    </tr>\n    <tr>\n      <th>4</th>\n      <td>IPHASJ201550.96+373004.2</td>\n      <td>IRAS 20140+3720</td>\n      <td>2060829659152816768</td>\n      <td>0.0782</td>\n      <td>0.7818</td>\n      <td>0.1399</td>\n      <td>1</td>\n    </tr>\n  </tbody>\n</table>\n</div>"
     },
     "execution_count": 37,
     "metadata": {},
     "output_type": "execute_result"
    }
   ],
   "source": [
    "# Filtro de data frames\n",
    "df_filtered = df6.merge(df5, left_on=['Gaia DR3'], right_on=['source_id'], how='inner', indicator=True)\n",
    "df_filtered = df_filtered[df_filtered['_merge'] == 'both']\n",
    "df_filtered = df_filtered.iloc[:, [0, 1, 7, 9, 10, 11, 12]]\n",
    "df_filtered.head(5)"
   ],
   "metadata": {
    "collapsed": false
   }
  },
  {
   "cell_type": "code",
   "execution_count": 38,
   "outputs": [],
   "source": [
    "out_name = 'rna_unbalanced.csv'\n",
    "out_dir = '../../new/candidate_symbiotic_stars_v2/output'\n",
    "if not os.path.exists(out_dir):\n",
    "    os.mkdir(out_dir)\n",
    "\n",
    "fullname = os.path.join(out_dir, out_name)\n",
    "df_filtered.to_csv(fullname, header=True, index=False)"
   ],
   "metadata": {
    "collapsed": false
   }
  },
  {
   "cell_type": "code",
   "execution_count": null,
   "outputs": [],
   "source": [],
   "metadata": {
    "collapsed": false
   }
  }
 ],
 "metadata": {
  "kernelspec": {
   "display_name": "Python 3",
   "language": "python",
   "name": "python3"
  },
  "language_info": {
   "codemirror_mode": {
    "name": "ipython",
    "version": 2
   },
   "file_extension": ".py",
   "mimetype": "text/x-python",
   "name": "python",
   "nbconvert_exporter": "python",
   "pygments_lexer": "ipython2",
   "version": "2.7.6"
  }
 },
 "nbformat": 4,
 "nbformat_minor": 0
}
