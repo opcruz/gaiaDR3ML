{
 "cells": [
  {
   "cell_type": "code",
   "execution_count": 1,
   "outputs": [],
   "source": [
    "import pandas as pd\n",
    "import tensorflow as tf\n",
    "from sklearn.model_selection import train_test_split\n",
    "from sklearn.preprocessing import LabelEncoder\n",
    "import matplotlib.pyplot as plt\n",
    "\n",
    "# cargar los datos\n",
    "df = pd.read_csv('espectros_SNG.csv')\n",
    "\n",
    "# separar las características (X) y la etiqueta (y)\n",
    "X = df.drop('id', axis=1)\n",
    "y = df['id']\n",
    "\n",
    "# codificar la etiqueta (y)\n",
    "encoder = LabelEncoder()\n",
    "y = encoder.fit_transform(y)\n",
    "\n",
    "# dividir el conjunto de datos en entrenamiento y prueba\n",
    "X_train, X_test, y_train, y_test = train_test_split(X, y, test_size=0.2, random_state=1)\n"
   ],
   "metadata": {
    "collapsed": false,
    "ExecuteTime": {
     "start_time": "2023-04-18T12:10:54.760450Z",
     "end_time": "2023-04-18T12:11:01.117743Z"
    }
   }
  },
  {
   "cell_type": "code",
   "execution_count": 2,
   "outputs": [
    {
     "data": {
      "text/plain": "array([2, 3, 1], dtype=int64)"
     },
     "execution_count": 2,
     "metadata": {},
     "output_type": "execute_result"
    }
   ],
   "source": [
    "df['id'].unique()"
   ],
   "metadata": {
    "collapsed": false,
    "ExecuteTime": {
     "start_time": "2023-04-18T12:11:04.908627Z",
     "end_time": "2023-04-18T12:11:04.962772Z"
    }
   }
  },
  {
   "cell_type": "code",
   "execution_count": 2,
   "outputs": [],
   "source": [],
   "metadata": {
    "collapsed": false,
    "ExecuteTime": {
     "start_time": "2023-04-18T12:11:05.975194Z",
     "end_time": "2023-04-18T12:11:05.992192Z"
    }
   }
  },
  {
   "cell_type": "code",
   "execution_count": 3,
   "outputs": [],
   "source": [
    "# crear el modelo\n",
    "model = tf.keras.models.Sequential([\n",
    "  tf.keras.layers.Dense(64, activation='relu'),\n",
    "  tf.keras.layers.Dropout(0.4),\n",
    "  tf.keras.layers.Dense(32, activation='relu'),\n",
    "  tf.keras.layers.Dropout(0.3),\n",
    "  tf.keras.layers.Dense(3, activation='softmax')\n",
    "])\n",
    "\n",
    "# compilar el modelo\n",
    "model.compile(optimizer='adam',\n",
    "              loss='sparse_categorical_crossentropy',\n",
    "              metrics=['accuracy'])\n",
    "\n"
   ],
   "metadata": {
    "collapsed": false,
    "ExecuteTime": {
     "start_time": "2023-04-18T12:11:06.746549Z",
     "end_time": "2023-04-18T12:11:10.139974Z"
    }
   }
  },
  {
   "cell_type": "code",
   "execution_count": 4,
   "outputs": [
    {
     "name": "stdout",
     "output_type": "stream",
     "text": [
      "Epoch 1/50\n",
      "319/319 [==============================] - 8s 13ms/step - loss: 0.1612 - accuracy: 0.9585 - val_loss: 0.1041 - val_accuracy: 0.9721\n",
      "Epoch 2/50\n",
      "319/319 [==============================] - 3s 8ms/step - loss: 0.1102 - accuracy: 0.9742 - val_loss: 0.0826 - val_accuracy: 0.9737\n",
      "Epoch 3/50\n",
      "319/319 [==============================] - 2s 7ms/step - loss: 0.1032 - accuracy: 0.9743 - val_loss: 0.0748 - val_accuracy: 0.9761\n",
      "Epoch 4/50\n",
      "319/319 [==============================] - 3s 9ms/step - loss: 0.0981 - accuracy: 0.9775 - val_loss: 0.0700 - val_accuracy: 0.9768\n",
      "Epoch 5/50\n",
      "319/319 [==============================] - 2s 8ms/step - loss: 0.0922 - accuracy: 0.9777 - val_loss: 0.0773 - val_accuracy: 0.9788\n",
      "Epoch 6/50\n",
      "319/319 [==============================] - 3s 10ms/step - loss: 0.0911 - accuracy: 0.9796 - val_loss: 0.0595 - val_accuracy: 0.9855\n",
      "Epoch 7/50\n",
      "319/319 [==============================] - 2s 8ms/step - loss: 0.0865 - accuracy: 0.9803 - val_loss: 0.0634 - val_accuracy: 0.9804\n",
      "Epoch 8/50\n",
      "319/319 [==============================] - 3s 9ms/step - loss: 0.0819 - accuracy: 0.9813 - val_loss: 0.0596 - val_accuracy: 0.9855\n",
      "Epoch 9/50\n",
      "319/319 [==============================] - 3s 10ms/step - loss: 0.0819 - accuracy: 0.9813 - val_loss: 0.0528 - val_accuracy: 0.9870\n",
      "Epoch 10/50\n",
      "319/319 [==============================] - 3s 8ms/step - loss: 0.0783 - accuracy: 0.9813 - val_loss: 0.0544 - val_accuracy: 0.9859\n",
      "Epoch 11/50\n",
      "319/319 [==============================] - 3s 8ms/step - loss: 0.0805 - accuracy: 0.9826 - val_loss: 0.0668 - val_accuracy: 0.9827\n",
      "Epoch 12/50\n",
      "319/319 [==============================] - 3s 10ms/step - loss: 0.0772 - accuracy: 0.9817 - val_loss: 0.0484 - val_accuracy: 0.9867\n",
      "Epoch 13/50\n",
      "319/319 [==============================] - 3s 9ms/step - loss: 0.0763 - accuracy: 0.9819 - val_loss: 0.0526 - val_accuracy: 0.9874\n",
      "Epoch 14/50\n",
      "319/319 [==============================] - 3s 9ms/step - loss: 0.0740 - accuracy: 0.9847 - val_loss: 0.0568 - val_accuracy: 0.9863\n",
      "Epoch 15/50\n",
      "319/319 [==============================] - 3s 9ms/step - loss: 0.0766 - accuracy: 0.9831 - val_loss: 0.0488 - val_accuracy: 0.9874\n",
      "Epoch 16/50\n",
      "319/319 [==============================] - 3s 9ms/step - loss: 0.0732 - accuracy: 0.9837 - val_loss: 0.0522 - val_accuracy: 0.9867\n",
      "Epoch 17/50\n",
      "319/319 [==============================] - 3s 10ms/step - loss: 0.0710 - accuracy: 0.9843 - val_loss: 0.0485 - val_accuracy: 0.9874\n",
      "Epoch 18/50\n",
      "319/319 [==============================] - 3s 10ms/step - loss: 0.0687 - accuracy: 0.9847 - val_loss: 0.0522 - val_accuracy: 0.9870\n",
      "Epoch 19/50\n",
      "319/319 [==============================] - 3s 10ms/step - loss: 0.0679 - accuracy: 0.9850 - val_loss: 0.0611 - val_accuracy: 0.9867\n",
      "Epoch 20/50\n",
      "319/319 [==============================] - 3s 9ms/step - loss: 0.0687 - accuracy: 0.9841 - val_loss: 0.0447 - val_accuracy: 0.9874\n",
      "Epoch 21/50\n",
      "319/319 [==============================] - 3s 10ms/step - loss: 0.0749 - accuracy: 0.9832 - val_loss: 0.0481 - val_accuracy: 0.9878\n",
      "Epoch 22/50\n",
      "319/319 [==============================] - 3s 9ms/step - loss: 0.0708 - accuracy: 0.9841 - val_loss: 0.0453 - val_accuracy: 0.9878\n",
      "Epoch 23/50\n",
      "319/319 [==============================] - 4s 11ms/step - loss: 0.0718 - accuracy: 0.9839 - val_loss: 0.0477 - val_accuracy: 0.9882\n",
      "Epoch 24/50\n",
      "319/319 [==============================] - 3s 10ms/step - loss: 0.0699 - accuracy: 0.9838 - val_loss: 0.0518 - val_accuracy: 0.9874\n",
      "Epoch 25/50\n",
      "319/319 [==============================] - 3s 10ms/step - loss: 0.0737 - accuracy: 0.9829 - val_loss: 0.0477 - val_accuracy: 0.9878\n",
      "Epoch 26/50\n",
      "319/319 [==============================] - 3s 9ms/step - loss: 0.0684 - accuracy: 0.9852 - val_loss: 0.0524 - val_accuracy: 0.9878\n",
      "Epoch 27/50\n",
      "319/319 [==============================] - 3s 9ms/step - loss: 0.0705 - accuracy: 0.9841 - val_loss: 0.0509 - val_accuracy: 0.9878\n",
      "Epoch 28/50\n",
      "319/319 [==============================] - 3s 9ms/step - loss: 0.0688 - accuracy: 0.9851 - val_loss: 0.0501 - val_accuracy: 0.9870\n",
      "Epoch 29/50\n",
      "319/319 [==============================] - 3s 11ms/step - loss: 0.0681 - accuracy: 0.9842 - val_loss: 0.0445 - val_accuracy: 0.9890\n",
      "Epoch 30/50\n",
      "319/319 [==============================] - 4s 12ms/step - loss: 0.0696 - accuracy: 0.9843 - val_loss: 0.0508 - val_accuracy: 0.9886\n",
      "Epoch 31/50\n",
      "319/319 [==============================] - 3s 10ms/step - loss: 0.0655 - accuracy: 0.9852 - val_loss: 0.0497 - val_accuracy: 0.9874\n",
      "Epoch 32/50\n",
      "319/319 [==============================] - 3s 8ms/step - loss: 0.0678 - accuracy: 0.9850 - val_loss: 0.0456 - val_accuracy: 0.9874\n",
      "Epoch 33/50\n",
      "319/319 [==============================] - 3s 10ms/step - loss: 0.0697 - accuracy: 0.9843 - val_loss: 0.0506 - val_accuracy: 0.9867\n",
      "Epoch 34/50\n",
      "319/319 [==============================] - 3s 10ms/step - loss: 0.0636 - accuracy: 0.9847 - val_loss: 0.0508 - val_accuracy: 0.9870\n",
      "Epoch 35/50\n",
      "319/319 [==============================] - 3s 10ms/step - loss: 0.0655 - accuracy: 0.9856 - val_loss: 0.0499 - val_accuracy: 0.9878\n",
      "Epoch 36/50\n",
      "319/319 [==============================] - 3s 11ms/step - loss: 0.0636 - accuracy: 0.9856 - val_loss: 0.0545 - val_accuracy: 0.9874\n",
      "Epoch 37/50\n",
      "319/319 [==============================] - 4s 12ms/step - loss: 0.0609 - accuracy: 0.9855 - val_loss: 0.0488 - val_accuracy: 0.9874\n",
      "Epoch 38/50\n",
      "319/319 [==============================] - 4s 12ms/step - loss: 0.0641 - accuracy: 0.9857 - val_loss: 0.0560 - val_accuracy: 0.9874\n",
      "Epoch 39/50\n",
      "319/319 [==============================] - 3s 11ms/step - loss: 0.0607 - accuracy: 0.9861 - val_loss: 0.0456 - val_accuracy: 0.9874\n",
      "Epoch 40/50\n",
      "319/319 [==============================] - 3s 10ms/step - loss: 0.0632 - accuracy: 0.9864 - val_loss: 0.0547 - val_accuracy: 0.9870\n",
      "Epoch 41/50\n",
      "319/319 [==============================] - 3s 10ms/step - loss: 0.0654 - accuracy: 0.9858 - val_loss: 0.0519 - val_accuracy: 0.9874\n",
      "Epoch 42/50\n",
      "319/319 [==============================] - 3s 11ms/step - loss: 0.0647 - accuracy: 0.9853 - val_loss: 0.0556 - val_accuracy: 0.9874\n",
      "Epoch 43/50\n",
      "319/319 [==============================] - 3s 9ms/step - loss: 0.0643 - accuracy: 0.9851 - val_loss: 0.0479 - val_accuracy: 0.9878\n",
      "Epoch 44/50\n",
      "319/319 [==============================] - 3s 11ms/step - loss: 0.0659 - accuracy: 0.9846 - val_loss: 0.0540 - val_accuracy: 0.9870\n",
      "Epoch 45/50\n",
      "319/319 [==============================] - 4s 11ms/step - loss: 0.0654 - accuracy: 0.9848 - val_loss: 0.0504 - val_accuracy: 0.9878\n",
      "Epoch 46/50\n",
      "319/319 [==============================] - 3s 11ms/step - loss: 0.0620 - accuracy: 0.9859 - val_loss: 0.0462 - val_accuracy: 0.9874\n",
      "Epoch 47/50\n",
      "319/319 [==============================] - 4s 12ms/step - loss: 0.0613 - accuracy: 0.9860 - val_loss: 0.0556 - val_accuracy: 0.9874\n",
      "Epoch 48/50\n",
      "319/319 [==============================] - 3s 11ms/step - loss: 0.0623 - accuracy: 0.9856 - val_loss: 0.0516 - val_accuracy: 0.9878\n",
      "Epoch 49/50\n",
      "319/319 [==============================] - 4s 12ms/step - loss: 0.0594 - accuracy: 0.9855 - val_loss: 0.0462 - val_accuracy: 0.9886\n",
      "Epoch 50/50\n",
      "319/319 [==============================] - 4s 11ms/step - loss: 0.0599 - accuracy: 0.9866 - val_loss: 0.0480 - val_accuracy: 0.9870\n"
     ]
    }
   ],
   "source": [
    "# entrenar el modelo\n",
    "history = model.fit(X_train, y_train, epochs=50, batch_size=32, validation_data=(X_test, y_test))\n"
   ],
   "metadata": {
    "collapsed": false,
    "ExecuteTime": {
     "start_time": "2023-04-18T12:11:11.063778Z",
     "end_time": "2023-04-18T12:13:54.776459Z"
    }
   }
  },
  {
   "cell_type": "code",
   "execution_count": 6,
   "outputs": [
    {
     "data": {
      "text/plain": "<Figure size 640x480 with 1 Axes>",
      "image/png": "[encoded data removed]"
     },
     "metadata": {},
     "output_type": "display_data"
    }
   ],
   "source": [
    "# graficar la precisión de entrenamiento y prueba\n",
    "plt.plot(history.history['accuracy'], label='train')\n",
    "plt.plot(history.history['val_accuracy'], label='test')\n",
    "plt.title('Model Accuracy')\n",
    "plt.xlabel('Epoch')\n",
    "plt.ylabel('Accuracy')\n",
    "plt.legend()\n",
    "plt.show()\n"
   ],
   "metadata": {
    "collapsed": false,
    "ExecuteTime": {
     "start_time": "2023-04-18T12:13:57.659212Z",
     "end_time": "2023-04-18T12:13:57.821789Z"
    }
   }
  },
  {
   "cell_type": "code",
   "execution_count": 7,
   "outputs": [
    {
     "name": "stdout",
     "output_type": "stream",
     "text": [
      "nombres_etiquetas\n",
      "Planetary Nebulae    1.0\n",
      "Red Giants           2.0\n",
      "Symbiotics           0.0\n",
      "Name: codificado, dtype: float64\n"
     ]
    }
   ],
   "source": [
    "y=df['id']\n",
    "import pandas as pd\n",
    "from sklearn.preprocessing import LabelEncoder\n",
    "\n",
    "df = pd.DataFrame(y)\n",
    "encoder = LabelEncoder()\n",
    "df['codificado'] = encoder.fit_transform(df['id'])\n",
    "\n",
    "nombres_etiquetas = encoder.classes_\n",
    "nuevos_nombres = ['Symbiotics', 'Planetary Nebulae', 'Red Giants']\n",
    "nombres_etiquetas_dict = {nombres_etiquetas[i]: nuevos_nombres[i] for i in range(len(nombres_etiquetas))}\n",
    "df['nombres_etiquetas'] = df['id'].map(nombres_etiquetas_dict)\n",
    "\n",
    "df_agrupado = df.groupby('nombres_etiquetas')['codificado'].mean()\n",
    "print(df_agrupado)"
   ],
   "metadata": {
    "collapsed": false,
    "ExecuteTime": {
     "start_time": "2023-04-18T12:13:59.728459Z",
     "end_time": "2023-04-18T12:13:59.754634Z"
    }
   }
  },
  {
   "cell_type": "code",
   "execution_count": 8,
   "outputs": [
    {
     "name": "stdout",
     "output_type": "stream",
     "text": [
      "80/80 [==============================] - 0s 3ms/step\n",
      "[[  30    2    8]\n",
      " [   5   74   16]\n",
      " [   0    2 2411]]\n"
     ]
    }
   ],
   "source": [
    "import numpy as np\n",
    "from sklearn.metrics import confusion_matrix\n",
    "\n",
    "# predecir las probabilidades para los datos de prueba\n",
    "y_probs = model.predict(X_test)\n",
    "y_pred = np.argmax(y_probs, axis=-1)\n",
    "cm = confusion_matrix(y_test, y_pred)\n",
    "print(cm)\n"
   ],
   "metadata": {
    "collapsed": false,
    "ExecuteTime": {
     "start_time": "2023-04-18T12:14:01.805738Z",
     "end_time": "2023-04-18T12:14:02.318586Z"
    }
   }
  },
  {
   "cell_type": "code",
   "execution_count": 9,
   "outputs": [
    {
     "name": "stdout",
     "output_type": "stream",
     "text": [
      "              precision    recall  f1-score   support\n",
      "\n",
      "           0     0.8571    0.7500    0.8000        40\n",
      "           1     0.9487    0.7789    0.8555        95\n",
      "           2     0.9901    0.9992    0.9946      2413\n",
      "\n",
      "    accuracy                         0.9870      2548\n",
      "   macro avg     0.9320    0.8427    0.8834      2548\n",
      "weighted avg     0.9865    0.9870    0.9864      2548\n",
      "\n"
     ]
    }
   ],
   "source": [
    "from sklearn.metrics import classification_report\n",
    "report = classification_report(y_test, y_pred, digits=4)\n",
    "print(report)"
   ],
   "metadata": {
    "collapsed": false,
    "ExecuteTime": {
     "start_time": "2023-04-18T12:14:03.495315Z",
     "end_time": "2023-04-18T12:14:03.527699Z"
    }
   }
  },
  {
   "cell_type": "code",
   "execution_count": 10,
   "outputs": [
    {
     "name": "stdout",
     "output_type": "stream",
     "text": [
      "Accuracy: 0.9870486656200942\n"
     ]
    }
   ],
   "source": [
    "from sklearn.metrics import  accuracy_score\n",
    "accuracy = accuracy_score(y_test, y_pred)\n",
    "print('Accuracy:', accuracy)"
   ],
   "metadata": {
    "collapsed": false,
    "ExecuteTime": {
     "start_time": "2023-04-18T12:14:04.853888Z",
     "end_time": "2023-04-18T12:14:04.880366Z"
    }
   }
  },
  {
   "cell_type": "code",
   "execution_count": 11,
   "outputs": [
    {
     "name": "stdout",
     "output_type": "stream",
     "text": [
      "size of the splits\n",
      "X_train:  (10189, 343)\n",
      "X_test:  (2548, 343)\n",
      "y_test:  2548\n",
      "y_pred:  2548\n"
     ]
    }
   ],
   "source": [
    "print(\"size of the splits\")\n",
    "print(\"X_train: \",  X_train.shape)\n",
    "print(\"X_test: \",  X_test.shape)\n",
    "print(\"y_test: \",  y_test.size)\n",
    "print(\"y_pred: \",  y_pred.size)"
   ],
   "metadata": {
    "collapsed": false,
    "ExecuteTime": {
     "start_time": "2023-04-18T12:14:06.187170Z",
     "end_time": "2023-04-18T12:14:06.223173Z"
    }
   }
  },
  {
   "cell_type": "code",
   "execution_count": null,
   "outputs": [],
   "source": [],
   "metadata": {
    "collapsed": false
   }
  }
 ],
 "metadata": {
  "kernelspec": {
   "display_name": "Python 3",
   "language": "python",
   "name": "python3"
  },
  "language_info": {
   "codemirror_mode": {
    "name": "ipython",
    "version": 2
   },
   "file_extension": ".py",
   "mimetype": "text/x-python",
   "name": "python",
   "nbconvert_exporter": "python",
   "pygments_lexer": "ipython2",
   "version": "2.7.6"
  }
 },
 "nbformat": 4,
 "nbformat_minor": 0
}
