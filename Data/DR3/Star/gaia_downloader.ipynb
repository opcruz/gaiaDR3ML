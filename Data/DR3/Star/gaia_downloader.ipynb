{
 "cells": [
  {
   "cell_type": "code",
   "execution_count": 2,
   "outputs": [],
   "source": [
    "import os\n",
    "import zipfile\n",
    "import pandas as pd\n",
    "from astroquery.gaia import Gaia"
   ],
   "metadata": {
    "collapsed": false
   }
  },
  {
   "cell_type": "code",
   "execution_count": 3,
   "outputs": [],
   "source": [
    "spectral_types = ['O', 'B', 'A', 'F', 'G', 'K', 'M']"
   ],
   "metadata": {
    "collapsed": false
   }
  },
  {
   "cell_type": "code",
   "execution_count": 4,
   "outputs": [
    {
     "name": "stderr",
     "output_type": "stream",
     "text": [
      "ERROR: Path C:\\Users\\orest\\DATA\\test\\gaiaDR3ML\\Data\\DR3\\Star\\O already exist [astroquery.gaia.core]\n",
      "WARNING: OverflowError converting to IntType in column Gaia DR3, reverting to String. [astropy.io.ascii.core]\n",
      "WARNING: OverflowError converting to IntType in column source_id, reverting to String. [astropy.io.ascii.core]\n",
      "WARNING: OverflowError converting to IntType in column solution_id, reverting to String. [astropy.io.ascii.core]\n",
      "ERROR: Path C:\\Users\\orest\\DATA\\test\\gaiaDR3ML\\Data\\DR3\\Star\\B already exist [astroquery.gaia.core]\n"
     ]
    },
    {
     "name": "stdout",
     "output_type": "stream",
     "text": [
      "finish O\n"
     ]
    },
    {
     "name": "stderr",
     "output_type": "stream",
     "text": [
      "WARNING: OverflowError converting to IntType in column Gaia DR3, reverting to String. [astropy.io.ascii.core]\n",
      "WARNING: OverflowError converting to IntType in column source_id, reverting to String. [astropy.io.ascii.core]\n",
      "WARNING: OverflowError converting to IntType in column solution_id, reverting to String. [astropy.io.ascii.core]\n"
     ]
    },
    {
     "name": "stdout",
     "output_type": "stream",
     "text": [
      "finish B\n"
     ]
    },
    {
     "name": "stderr",
     "output_type": "stream",
     "text": [
      "ERROR: Path C:\\Users\\orest\\DATA\\test\\gaiaDR3ML\\Data\\DR3\\Star\\A already exist [astroquery.gaia.core]\n",
      "WARNING: OverflowError converting to IntType in column Gaia DR3, reverting to String. [astropy.io.ascii.core]\n",
      "WARNING: OverflowError converting to IntType in column source_id, reverting to String. [astropy.io.ascii.core]\n",
      "WARNING: OverflowError converting to IntType in column solution_id, reverting to String. [astropy.io.ascii.core]\n"
     ]
    },
    {
     "name": "stdout",
     "output_type": "stream",
     "text": [
      "finish A\n"
     ]
    },
    {
     "name": "stderr",
     "output_type": "stream",
     "text": [
      "ERROR: Path C:\\Users\\orest\\DATA\\test\\gaiaDR3ML\\Data\\DR3\\Star\\F already exist [astroquery.gaia.core]\n",
      "WARNING: OverflowError converting to IntType in column Gaia DR3, reverting to String. [astropy.io.ascii.core]\n",
      "WARNING: OverflowError converting to IntType in column source_id, reverting to String. [astropy.io.ascii.core]\n",
      "WARNING: OverflowError converting to IntType in column solution_id, reverting to String. [astropy.io.ascii.core]\n"
     ]
    },
    {
     "name": "stdout",
     "output_type": "stream",
     "text": [
      "finish F\n"
     ]
    },
    {
     "name": "stderr",
     "output_type": "stream",
     "text": [
      "ERROR: Path C:\\Users\\orest\\DATA\\test\\gaiaDR3ML\\Data\\DR3\\Star\\G already exist [astroquery.gaia.core]\n",
      "WARNING: OverflowError converting to IntType in column Gaia DR3, reverting to String. [astropy.io.ascii.core]\n",
      "WARNING: OverflowError converting to IntType in column source_id, reverting to String. [astropy.io.ascii.core]\n",
      "WARNING: OverflowError converting to IntType in column solution_id, reverting to String. [astropy.io.ascii.core]\n"
     ]
    },
    {
     "name": "stdout",
     "output_type": "stream",
     "text": [
      "finish G\n"
     ]
    },
    {
     "name": "stderr",
     "output_type": "stream",
     "text": [
      "ERROR: Path C:\\Users\\orest\\DATA\\test\\gaiaDR3ML\\Data\\DR3\\Star\\K already exist [astroquery.gaia.core]\n",
      "WARNING: OverflowError converting to IntType in column Gaia DR3, reverting to String. [astropy.io.ascii.core]\n",
      "WARNING: OverflowError converting to IntType in column source_id, reverting to String. [astropy.io.ascii.core]\n",
      "WARNING: OverflowError converting to IntType in column solution_id, reverting to String. [astropy.io.ascii.core]\n"
     ]
    },
    {
     "name": "stdout",
     "output_type": "stream",
     "text": [
      "finish K\n"
     ]
    },
    {
     "name": "stderr",
     "output_type": "stream",
     "text": [
      "ERROR: Path C:\\Users\\orest\\DATA\\test\\gaiaDR3ML\\Data\\DR3\\Star\\M already exist [astroquery.gaia.core]\n",
      "WARNING: OverflowError converting to IntType in column Gaia DR3, reverting to String. [astropy.io.ascii.core]\n",
      "WARNING: OverflowError converting to IntType in column source_id, reverting to String. [astropy.io.ascii.core]\n",
      "WARNING: OverflowError converting to IntType in column solution_id, reverting to String. [astropy.io.ascii.core]\n"
     ]
    },
    {
     "name": "stdout",
     "output_type": "stream",
     "text": [
      "finish M\n"
     ]
    }
   ],
   "source": [
    "for spectral in spectral_types:\n",
    "    path = \"./{0}/data.csv\".format(spectral)\n",
    "    df1 = pd.read_csv(path)\n",
    "    # max 5000\n",
    "    limit = min(len(df1), 5000)\n",
    "    df1 = df1.sample(limit)\n",
    "    ids = df1['Gaia DR3'].astype(str).values\n",
    "    output_path = \"./{0}/XP_CONTINUOUS_COMBINED.zip\".format(spectral)\n",
    "    Gaia.load_data(\n",
    "        ids=ids,\n",
    "        format='csv',\n",
    "        data_release='Gaia DR3',\n",
    "        data_structure='COMBINED',\n",
    "        retrieval_type='XP_CONTINUOUS',\n",
    "        output_file=output_path,\n",
    "        overwrite_output_file=True,\n",
    "        verbose=False\n",
    "    )\n",
    "    with zipfile.ZipFile(output_path, 'r') as zip_ref:\n",
    "        zip_ref.extractall('./{0}'.format(spectral))\n",
    "    os.remove(output_path)\n",
    "    print(\"finish\", spectral)"
   ],
   "metadata": {
    "collapsed": false
   }
  },
  {
   "cell_type": "code",
   "execution_count": null,
   "outputs": [],
   "source": [],
   "metadata": {
    "collapsed": false
   }
  }
 ],
 "metadata": {
  "kernelspec": {
   "display_name": "Python 3",
   "language": "python",
   "name": "python3"
  },
  "language_info": {
   "codemirror_mode": {
    "name": "ipython",
    "version": 2
   },
   "file_extension": ".py",
   "mimetype": "text/x-python",
   "name": "python",
   "nbconvert_exporter": "python",
   "pygments_lexer": "ipython2",
   "version": "2.7.6"
  }
 },
 "nbformat": 4,
 "nbformat_minor": 0
}
