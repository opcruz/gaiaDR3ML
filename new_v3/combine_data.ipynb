{
 "cells": [
  {
   "cell_type": "code",
   "execution_count": 2,
   "outputs": [],
   "source": [
    "import numpy as np\n",
    "import pandas as pd\n",
    "import os\n",
    "import math"
   ],
   "metadata": {
    "collapsed": false
   }
  },
  {
   "cell_type": "code",
   "execution_count": 3,
   "outputs": [],
   "source": [
    "stars_files = [\n",
    "    (\"./normalized/SY.csv\", 1, \"SY\"),\n",
    "    (\"./normalized/NP.csv\", 2, \"NP\"),\n",
    "    (\"./normalized/RG.csv\", 3, \"RG\")\n",
    "]"
   ],
   "metadata": {
    "collapsed": false
   }
  },
  {
   "cell_type": "markdown",
   "source": [
    "## Create Unbalanced Data (1500)"
   ],
   "metadata": {
    "collapsed": false
   }
  },
  {
   "cell_type": "code",
   "execution_count": 9,
   "outputs": [],
   "source": [
    "out_dir = './datasets'\n",
    "if not os.path.exists(out_dir):\n",
    "    os.mkdir(out_dir)\n",
    "\n",
    "limit = 1500\n",
    "result = []\n",
    "for file in stars_files:\n",
    "    df1 = pd.read_csv(file[0])\n",
    "    size = min(len(df1), limit)\n",
    "    sample = df1.sample(size, random_state=10)\n",
    "    remaining = df1.drop(sample.index)\n",
    "    sample = sample.assign(id=file[1])\n",
    "    result.append(sample)\n",
    "    fullname = os.path.join(out_dir, file[2] + \"-unbalanced-1500.csv\")\n",
    "    if len(remaining) > 0:\n",
    "        remaining.to_csv(fullname, header=True, index=False)\n",
    "\n",
    "df_result = pd.concat(result)\n",
    "\n",
    "fullname = os.path.join(out_dir, \"unbalanced-1500.csv\")\n",
    "df_result.to_csv(fullname, header=True, index=False)"
   ],
   "metadata": {
    "collapsed": false
   }
  },
  {
   "cell_type": "markdown",
   "source": [
    "## Create Balanced Data"
   ],
   "metadata": {
    "collapsed": false
   }
  },
  {
   "cell_type": "code",
   "execution_count": 10,
   "outputs": [],
   "source": [
    "limit = 1000"
   ],
   "metadata": {
    "collapsed": false
   }
  },
  {
   "cell_type": "code",
   "execution_count": 11,
   "outputs": [],
   "source": [
    "def normalize(spectra):\n",
    "    min1 = min(spectra)\n",
    "    max1 = max(spectra)\n",
    "    # Normalizar los espectros al rango de 0 a 1\n",
    "    return (spectra - min1) / (max1 - min1)"
   ],
   "metadata": {
    "collapsed": false
   }
  },
  {
   "cell_type": "code",
   "execution_count": 12,
   "outputs": [],
   "source": [
    "noises = [\n",
    "    np.random.normal(loc=0.0, scale=0.01, size=343),\n",
    "    np.random.normal(loc=0.0, scale=0.02, size=343),\n",
    "    np.random.normal(loc=0.0, scale=0.03, size=343),\n",
    "    np.random.normal(loc=0.0, scale=0.04, size=343),\n",
    "    np.random.normal(loc=0.0, scale=0.05, size=343)\n",
    "]"
   ],
   "metadata": {
    "collapsed": false
   }
  },
  {
   "cell_type": "code",
   "execution_count": 13,
   "outputs": [],
   "source": [
    "def add_noise(df2, size):\n",
    "    result = []\n",
    "    cant = math.ceil((size / len(df2))) - 1\n",
    "    for index, row in df2.iterrows():\n",
    "        result.append(row)\n",
    "        for i in range(0, cant):\n",
    "            result.append(normalize(row + noises[i]))\n",
    "\n",
    "    return pd.DataFrame(result)"
   ],
   "metadata": {
    "collapsed": false
   }
  },
  {
   "cell_type": "code",
   "execution_count": null,
   "outputs": [],
   "source": [
    "stars_files = [\n",
    "    (\"./normalized/SY.csv\", 1, \"SY\"),\n",
    "    (\"./normalized/NP.csv\", 2, \"NP\"),\n",
    "    (\"./datasets/RG-unbalanced-1500.csv\", 3, \"RG\")\n",
    "]"
   ],
   "metadata": {
    "collapsed": false
   }
  },
  {
   "cell_type": "code",
   "execution_count": 14,
   "outputs": [
    {
     "name": "stderr",
     "output_type": "stream",
     "text": [
      "C:\\Users\\orest\\AppData\\Local\\Temp\\ipykernel_4412\\3687296169.py:7: DtypeWarning: Columns (0) have mixed types. Specify dtype option on import or set low_memory=False.\n",
      "  df1 = pd.read_csv(file[0], header=None)\n"
     ]
    }
   ],
   "source": [
    "out_dir = './datasets'\n",
    "if not os.path.exists(out_dir):\n",
    "    os.mkdir(out_dir)\n",
    "\n",
    "result = []\n",
    "for file in stars_files:\n",
    "    df1 = pd.read_csv(file[0], header=None)\n",
    "    df1 = df1.drop(df1.columns[0], axis=1)\n",
    "    if len(df1) < limit:\n",
    "        df1 = add_noise(df1, limit)\n",
    "\n",
    "    sample = df1.sample(limit, random_state=10)\n",
    "    # remaining = df1.drop(sample.index)\n",
    "    sample = sample.assign(id=file[1])\n",
    "    # fullname = os.path.join(out_dir, file[2] + \"-unbalanced-1500.csv\")\n",
    "    # if len(remaining) > 0:\n",
    "    #     remaining.to_csv(fullname, header=True, index=False)\n",
    "\n",
    "    result.append(sample)\n",
    "\n",
    "df_result = pd.concat(result)\n",
    "fullname = os.path.join(out_dir, \"balanced-1000.csv\")\n",
    "df_result.to_csv(fullname, header=True, index=False)"
   ],
   "metadata": {
    "collapsed": false
   }
  },
  {
   "cell_type": "code",
   "execution_count": null,
   "outputs": [],
   "source": [],
   "metadata": {
    "collapsed": false
   }
  }
 ],
 "metadata": {
  "kernelspec": {
   "display_name": "Python 3",
   "language": "python",
   "name": "python3"
  },
  "language_info": {
   "codemirror_mode": {
    "name": "ipython",
    "version": 2
   },
   "file_extension": ".py",
   "mimetype": "text/x-python",
   "name": "python",
   "nbconvert_exporter": "python",
   "pygments_lexer": "ipython2",
   "version": "2.7.6"
  }
 },
 "nbformat": 4,
 "nbformat_minor": 0
}
