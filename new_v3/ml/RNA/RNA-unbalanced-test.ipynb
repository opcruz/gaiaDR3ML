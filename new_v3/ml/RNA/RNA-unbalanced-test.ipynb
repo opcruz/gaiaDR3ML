{
 "cells": [
  {
   "cell_type": "code",
   "execution_count": 2,
   "outputs": [],
   "source": [
    "import pandas as pd\n",
    "import tensorflow as tf\n",
    "import os"
   ],
   "metadata": {
    "collapsed": false
   }
  },
  {
   "cell_type": "markdown",
   "source": [
    "# Load the model"
   ],
   "metadata": {
    "collapsed": false
   }
  },
  {
   "cell_type": "code",
   "execution_count": 3,
   "outputs": [],
   "source": [
    "model = tf.keras.models.load_model('./rna_unbalance.keras')"
   ],
   "metadata": {
    "collapsed": false
   }
  },
  {
   "cell_type": "markdown",
   "source": [
    "# Classify all Remaining Red Giants"
   ],
   "metadata": {
    "collapsed": false
   }
  },
  {
   "cell_type": "code",
   "execution_count": 5,
   "outputs": [
    {
     "name": "stdout",
     "output_type": "stream",
     "text": [
      "2114/2114 [==============================] - 3s 1ms/step\n",
      "[[    0     0     0]\n",
      " [    0     0     0]\n",
      " [  251  1013 66382]]\n"
     ]
    }
   ],
   "source": [
    "df_rg = pd.read_csv(\"../../datasets/RG-unbalanced-1500.csv\")\n",
    "df_rg = df_rg.drop(df_rg.columns[0], axis=1)\n",
    "\n",
    "import numpy as np\n",
    "from sklearn.metrics import confusion_matrix\n",
    "\n",
    "# predecir las probabilidades para los datos de prueba\n",
    "y_probs = model.predict(df_rg)\n",
    "y_pred = np.argmax(y_probs, axis=-1)\n",
    "cm = confusion_matrix([2 for _ in range(len(y_pred))], y_pred)\n",
    "print(cm)"
   ],
   "metadata": {
    "collapsed": false
   }
  },
  {
   "cell_type": "markdown",
   "source": [
    "## Classify  Planetary Nebulae Candidates"
   ],
   "metadata": {
    "collapsed": false
   }
  },
  {
   "cell_type": "code",
   "execution_count": 5,
   "outputs": [
    {
     "name": "stdout",
     "output_type": "stream",
     "text": [
      "5/5 [==============================] - 0s 2ms/step\n",
      "[[ 0  0  0]\n",
      " [14 86 46]\n",
      " [ 0  0  0]]\n"
     ]
    }
   ],
   "source": [
    "df_pn_can = pd.read_csv(\"../../datasets/NP_Candidate.csv\")\n",
    "df_pn_can = df_pn_can.drop(df_pn_can.columns[0], axis=1)\n",
    "\n",
    "import numpy as np\n",
    "from sklearn.metrics import confusion_matrix\n",
    "\n",
    "# predecir las probabilidades para los datos de prueba\n",
    "y_probs = model.predict(df_pn_can)\n",
    "y_pred = np.argmax(y_probs, axis=-1)\n",
    "cm = confusion_matrix([1 for _ in range(len(y_pred))], y_pred)\n",
    "print(cm)"
   ],
   "metadata": {
    "collapsed": false
   }
  },
  {
   "cell_type": "code",
   "execution_count": 7,
   "outputs": [],
   "source": [
    "df_pn_can = pd.read_csv(\"../../datasets/NP_Candidate.csv\")\n",
    "df_pn_can.insert(0, 'label', y_pred)\n",
    "df_pn_can.to_csv('./np-candidate.csv', index=False)"
   ],
   "metadata": {
    "collapsed": false
   }
  },
  {
   "cell_type": "markdown",
   "source": [
    "# Suspected Symbiotic Stars v1"
   ],
   "metadata": {
    "collapsed": false
   }
  },
  {
   "cell_type": "code",
   "execution_count": 7,
   "outputs": [
    {
     "name": "stdout",
     "output_type": "stream",
     "text": [
      "1/1 [==============================] - 0s 24ms/step\n",
      "[[14  1  0]\n",
      " [ 0  0  0]\n",
      " [ 0  0  0]]\n"
     ]
    }
   ],
   "source": [
    "import numpy as np\n",
    "from sklearn.metrics import confusion_matrix\n",
    "\n",
    "df_sus_sy = pd.read_csv(\"../../../new/candidate_symbiotic_stars_v1/normalized/Suspected_SY.csv\", header=None)\n",
    "\n",
    "# predecir las probabilidades para los datos de prueba\n",
    "y_probs = model.predict(df_sus_sy)\n",
    "y_pred = np.argmax(y_probs, axis=-1)\n",
    "cm = confusion_matrix([0 for _ in range(len(df_sus_sy))], y_pred, labels=[0, 1, 2])\n",
    "print(cm)"
   ],
   "metadata": {
    "collapsed": false
   }
  },
  {
   "cell_type": "code",
   "execution_count": 8,
   "outputs": [
    {
     "data": {
      "text/plain": "              source_id       0       1       2  label\n0   4687286621186701568  0.9918  0.0079  0.0003      0\n1   4651824725526390016  0.9778  0.0221  0.0000      0\n2   3321366590173335424  0.8583  0.0870  0.0548      0\n3   5410876219867043072  0.9997  0.0003  0.0000      0\n4   3575939163051304192  0.9941  0.0059  0.0000      0\n5   5799841957262188928  0.8371  0.1629  0.0000      0\n6   6204217186929931520  0.7493  0.2507  0.0000      0\n7   5981389610704878336  0.9936  0.0064  0.0000      0\n8   4571810378118789760  0.8106  0.0239  0.1655      0\n9   5979217486808094720  0.9744  0.0252  0.0004      0\n10  4061952680197028224  0.9728  0.0270  0.0002      0\n11  4178943599222583808  0.0000  0.6425  0.3575      1\n12  4038647942747847936  0.9961  0.0039  0.0000      0\n13  2022999316661190272  0.9378  0.0550  0.0073      0\n14  2013433148849034368  0.8861  0.0698  0.0441      0",
      "text/html": "<div>\n<style scoped>\n    .dataframe tbody tr th:only-of-type {\n        vertical-align: middle;\n    }\n\n    .dataframe tbody tr th {\n        vertical-align: top;\n    }\n\n    .dataframe thead th {\n        text-align: right;\n    }\n</style>\n<table border=\"1\" class=\"dataframe\">\n  <thead>\n    <tr style=\"text-align: right;\">\n      <th></th>\n      <th>source_id</th>\n      <th>0</th>\n      <th>1</th>\n      <th>2</th>\n      <th>label</th>\n    </tr>\n  </thead>\n  <tbody>\n    <tr>\n      <th>0</th>\n      <td>4687286621186701568</td>\n      <td>0.9918</td>\n      <td>0.0079</td>\n      <td>0.0003</td>\n      <td>0</td>\n    </tr>\n    <tr>\n      <th>1</th>\n      <td>4651824725526390016</td>\n      <td>0.9778</td>\n      <td>0.0221</td>\n      <td>0.0000</td>\n      <td>0</td>\n    </tr>\n    <tr>\n      <th>2</th>\n      <td>3321366590173335424</td>\n      <td>0.8583</td>\n      <td>0.0870</td>\n      <td>0.0548</td>\n      <td>0</td>\n    </tr>\n    <tr>\n      <th>3</th>\n      <td>5410876219867043072</td>\n      <td>0.9997</td>\n      <td>0.0003</td>\n      <td>0.0000</td>\n      <td>0</td>\n    </tr>\n    <tr>\n      <th>4</th>\n      <td>3575939163051304192</td>\n      <td>0.9941</td>\n      <td>0.0059</td>\n      <td>0.0000</td>\n      <td>0</td>\n    </tr>\n    <tr>\n      <th>5</th>\n      <td>5799841957262188928</td>\n      <td>0.8371</td>\n      <td>0.1629</td>\n      <td>0.0000</td>\n      <td>0</td>\n    </tr>\n    <tr>\n      <th>6</th>\n      <td>6204217186929931520</td>\n      <td>0.7493</td>\n      <td>0.2507</td>\n      <td>0.0000</td>\n      <td>0</td>\n    </tr>\n    <tr>\n      <th>7</th>\n      <td>5981389610704878336</td>\n      <td>0.9936</td>\n      <td>0.0064</td>\n      <td>0.0000</td>\n      <td>0</td>\n    </tr>\n    <tr>\n      <th>8</th>\n      <td>4571810378118789760</td>\n      <td>0.8106</td>\n      <td>0.0239</td>\n      <td>0.1655</td>\n      <td>0</td>\n    </tr>\n    <tr>\n      <th>9</th>\n      <td>5979217486808094720</td>\n      <td>0.9744</td>\n      <td>0.0252</td>\n      <td>0.0004</td>\n      <td>0</td>\n    </tr>\n    <tr>\n      <th>10</th>\n      <td>4061952680197028224</td>\n      <td>0.9728</td>\n      <td>0.0270</td>\n      <td>0.0002</td>\n      <td>0</td>\n    </tr>\n    <tr>\n      <th>11</th>\n      <td>4178943599222583808</td>\n      <td>0.0000</td>\n      <td>0.6425</td>\n      <td>0.3575</td>\n      <td>1</td>\n    </tr>\n    <tr>\n      <th>12</th>\n      <td>4038647942747847936</td>\n      <td>0.9961</td>\n      <td>0.0039</td>\n      <td>0.0000</td>\n      <td>0</td>\n    </tr>\n    <tr>\n      <th>13</th>\n      <td>2022999316661190272</td>\n      <td>0.9378</td>\n      <td>0.0550</td>\n      <td>0.0073</td>\n      <td>0</td>\n    </tr>\n    <tr>\n      <th>14</th>\n      <td>2013433148849034368</td>\n      <td>0.8861</td>\n      <td>0.0698</td>\n      <td>0.0441</td>\n      <td>0</td>\n    </tr>\n  </tbody>\n</table>\n</div>"
     },
     "execution_count": 8,
     "metadata": {},
     "output_type": "execute_result"
    }
   ],
   "source": [
    "df_sus_sy_normalized = pd.read_csv(\"../../../new/candidate_symbiotic_stars_v1/calibrated_data/Suspected_SY.csv\")\n",
    "\n",
    "df5 = pd.DataFrame(y_probs)\n",
    "df5 = df5.round(4)\n",
    "df5['label'] = y_pred\n",
    "df5.insert(0, 'source_id', df_sus_sy_normalized['source_id'])\n",
    "df5"
   ],
   "metadata": {
    "collapsed": false
   }
  },
  {
   "cell_type": "code",
   "execution_count": 9,
   "outputs": [
    {
     "data": {
      "text/plain": "      FIND_NAME        MAIN_ID         OTYPE   SP_TYPE  \\\n0      RAW 1691        LIN 521            C*         C   \n1    [BE74] 583     [BE74] 583  LongPeriodV*     G/Ke:   \n2       StHA 55  EM* StHA   55          Mira       NaN   \n3        ZZ CMi      V* ZZ CMi  LongPeriodV*  M6I-IIep   \n4    WRAY 16−51     WRAY 16-51  LongPeriodV*        M4   \n5     NSV 05572      V* VX Crv          Mira     M9III   \n6        AE Cir      V* AE Cir        RCrBV*       NaN   \n7      V748 Cen    V* V748 Cen        EclBin        Ae   \n8      V345 Nor    V* V345 Nor          Mira    O-rich   \n9      V934 Her    V* V934 Her  LongPeriodV*     M2III   \n10   Hen 3−1383      THA 10-15       EmLine*       M3e   \n11  WRAY 16−294    WRAY 16-294  LongPeriodV*        K5   \n12       DT Ser      V* DT Ser          Star   F8III-V   \n13     V618 Sgr    V* V618 Sgr        RCrBV*        Me   \n14     V335 Vul    EM* AS  356            C*        Ce   \n15     V627 Cas    EM* AS  501  LongPeriodV*  M2II-III   \n\n                         ID_Gaia  \\\n0   Gaia DR2 4687286621186701568   \n1   Gaia DR2 4651824725526390016   \n2   Gaia DR3 3321366590173335424   \n3   Gaia DR3 3155368612444708096   \n4   Gaia DR2 5410876219860836224   \n5   Gaia DR3 3575939163051304192   \n6   Gaia DR3 5799841957262188928   \n7   Gaia DR3 6204217186929931520   \n8   Gaia DR3 5981389610704878336   \n9   Gaia DR3 4571810378118789760   \n10  Gaia DR2 5979217486808094720   \n11  Gaia DR2 4061952680197028224   \n12  Gaia DR3 4178943599222583808   \n13  Gaia DR3 4038647942747847936   \n14  Gaia DR3 2022999316661190272   \n15  Gaia DR3 2013433148849034368   \n\n                                                  IDS  \\\n0   RAW 1691|LIN 521|2MASS J01183570-7242213|OGLE ...   \n1   2MASS J05265014-7106350|EROS2-star lm058-2n-25...   \n2   IRAS 05440+0642|ASAS J054642+0643.7|ASAS J0546...   \n3   BD+09  1633|AN  306.1934|DO  2156|GCRV  4915|G...   \n4   IRAS 09316-4621|AKARI-IRC-V1 J0933295-463450|D...   \n5   NSV  5572|ASAS J122152-1353.2|ATO J185.4686-13...   \n6   SV* HV  5112|GSC2 S21330229737|Hen 3-1025|2MAS...   \n7   CD-32 10517|ALS 18924|CRTS J145936.6-332503|CS...   \n8   NSV  7429|BAaDE ad3a-22685|IRAS 16030-5156|2MA...   \n9   HD 154791|2A 1704+241|3A 1703+241|AG+24 1704|A...   \n10  Hen 3-1383|GSC 07366-01210|IRAS 17172-3306|IRA...   \n11  2MASS J17391381-2538050|DENIS J173913.8-253805...   \n12  GSC 05096-01722|IRAS 17592-0126|2MASS J1801522...   \n13  SV* HV  7203|AN  313.1933|2MASS J18075721-3629...   \n14  C* 2728|ASAS J192314+2427.7|Case  452|CGCS 425...   \n15  HIP 113373|EM* AS  501|EM* VES  949|GEN# +6.20...   \n\n                                               OTYPES             Gaia DR3  \n0                C*|Em*|LP*|LP*|Em*|MIR|NIR|*|C*?|LP?  4687286621186701568  \n1                                    LP*|Em*|NIR|V*|*  4651824725526390016  \n2   Mi*|LP*|V*|LP*|SB*|LP*|MIR|V*|Em*|NIR|*|C*?|IR...  3321366590173335424  \n3                                 LP*|NIR|V*|*|IR|LP?  3155368612444708096  \n4                             LP*|NIR|MIR|Em*|PN|*|IR  5410876219867043072  \n5            LP*|Mi*|Mi*|AB*|LP*|NIR|V*|MIR|*|Mi?|Opt  3575939163051304192  \n6                        pA*|CV*|Sy*|V*|RC*|Em*|NIR|*  5799841957262188928  \n7                                EB*|Ro*|NIR|V*|Em*|*  6204217186929931520  \n8             Mas|Mi*|Mi*|AB*|Mas|V*|NIR|*|IR|LP?|V*?  5981389610704878336  \n9                 LP*|LXB|LXB|V*|NIR|*|IR|Opt|X|X|gam  4571810378118789760  \n10                                   NIR|MIR|Em*|*|IR  5979217486808094720  \n11                       LP*|PN|NIR|Em*|*|C*?|ISM|LP?  4061952680197028224  \n12                              MIR|NIR|V*|*|*|IR|pA?  4178943599222583808  \n13                               pA*|LP*|NIR|RC*|V*|*  4038647942747847936  \n14  C*|Mi*|LP*|LP*|LP*|LP*|V*|EmO|NIR|MIR|C*|Em*|*...  2022999316661190272  \n15  LP*|LP*|LP*|EmO|Em*|Mas|MIR|NIR|V*|*|IR|LP?|LP...  2013433148849034368  ",
      "text/html": "<div>\n<style scoped>\n    .dataframe tbody tr th:only-of-type {\n        vertical-align: middle;\n    }\n\n    .dataframe tbody tr th {\n        vertical-align: top;\n    }\n\n    .dataframe thead th {\n        text-align: right;\n    }\n</style>\n<table border=\"1\" class=\"dataframe\">\n  <thead>\n    <tr style=\"text-align: right;\">\n      <th></th>\n      <th>FIND_NAME</th>\n      <th>MAIN_ID</th>\n      <th>OTYPE</th>\n      <th>SP_TYPE</th>\n      <th>ID_Gaia</th>\n      <th>IDS</th>\n      <th>OTYPES</th>\n      <th>Gaia DR3</th>\n    </tr>\n  </thead>\n  <tbody>\n    <tr>\n      <th>0</th>\n      <td>RAW 1691</td>\n      <td>LIN 521</td>\n      <td>C*</td>\n      <td>C</td>\n      <td>Gaia DR2 4687286621186701568</td>\n      <td>RAW 1691|LIN 521|2MASS J01183570-7242213|OGLE ...</td>\n      <td>C*|Em*|LP*|LP*|Em*|MIR|NIR|*|C*?|LP?</td>\n      <td>4687286621186701568</td>\n    </tr>\n    <tr>\n      <th>1</th>\n      <td>[BE74] 583</td>\n      <td>[BE74] 583</td>\n      <td>LongPeriodV*</td>\n      <td>G/Ke:</td>\n      <td>Gaia DR2 4651824725526390016</td>\n      <td>2MASS J05265014-7106350|EROS2-star lm058-2n-25...</td>\n      <td>LP*|Em*|NIR|V*|*</td>\n      <td>4651824725526390016</td>\n    </tr>\n    <tr>\n      <th>2</th>\n      <td>StHA 55</td>\n      <td>EM* StHA   55</td>\n      <td>Mira</td>\n      <td>NaN</td>\n      <td>Gaia DR3 3321366590173335424</td>\n      <td>IRAS 05440+0642|ASAS J054642+0643.7|ASAS J0546...</td>\n      <td>Mi*|LP*|V*|LP*|SB*|LP*|MIR|V*|Em*|NIR|*|C*?|IR...</td>\n      <td>3321366590173335424</td>\n    </tr>\n    <tr>\n      <th>3</th>\n      <td>ZZ CMi</td>\n      <td>V* ZZ CMi</td>\n      <td>LongPeriodV*</td>\n      <td>M6I-IIep</td>\n      <td>Gaia DR3 3155368612444708096</td>\n      <td>BD+09  1633|AN  306.1934|DO  2156|GCRV  4915|G...</td>\n      <td>LP*|NIR|V*|*|IR|LP?</td>\n      <td>3155368612444708096</td>\n    </tr>\n    <tr>\n      <th>4</th>\n      <td>WRAY 16−51</td>\n      <td>WRAY 16-51</td>\n      <td>LongPeriodV*</td>\n      <td>M4</td>\n      <td>Gaia DR2 5410876219860836224</td>\n      <td>IRAS 09316-4621|AKARI-IRC-V1 J0933295-463450|D...</td>\n      <td>LP*|NIR|MIR|Em*|PN|*|IR</td>\n      <td>5410876219867043072</td>\n    </tr>\n    <tr>\n      <th>5</th>\n      <td>NSV 05572</td>\n      <td>V* VX Crv</td>\n      <td>Mira</td>\n      <td>M9III</td>\n      <td>Gaia DR3 3575939163051304192</td>\n      <td>NSV  5572|ASAS J122152-1353.2|ATO J185.4686-13...</td>\n      <td>LP*|Mi*|Mi*|AB*|LP*|NIR|V*|MIR|*|Mi?|Opt</td>\n      <td>3575939163051304192</td>\n    </tr>\n    <tr>\n      <th>6</th>\n      <td>AE Cir</td>\n      <td>V* AE Cir</td>\n      <td>RCrBV*</td>\n      <td>NaN</td>\n      <td>Gaia DR3 5799841957262188928</td>\n      <td>SV* HV  5112|GSC2 S21330229737|Hen 3-1025|2MAS...</td>\n      <td>pA*|CV*|Sy*|V*|RC*|Em*|NIR|*</td>\n      <td>5799841957262188928</td>\n    </tr>\n    <tr>\n      <th>7</th>\n      <td>V748 Cen</td>\n      <td>V* V748 Cen</td>\n      <td>EclBin</td>\n      <td>Ae</td>\n      <td>Gaia DR3 6204217186929931520</td>\n      <td>CD-32 10517|ALS 18924|CRTS J145936.6-332503|CS...</td>\n      <td>EB*|Ro*|NIR|V*|Em*|*</td>\n      <td>6204217186929931520</td>\n    </tr>\n    <tr>\n      <th>8</th>\n      <td>V345 Nor</td>\n      <td>V* V345 Nor</td>\n      <td>Mira</td>\n      <td>O-rich</td>\n      <td>Gaia DR3 5981389610704878336</td>\n      <td>NSV  7429|BAaDE ad3a-22685|IRAS 16030-5156|2MA...</td>\n      <td>Mas|Mi*|Mi*|AB*|Mas|V*|NIR|*|IR|LP?|V*?</td>\n      <td>5981389610704878336</td>\n    </tr>\n    <tr>\n      <th>9</th>\n      <td>V934 Her</td>\n      <td>V* V934 Her</td>\n      <td>LongPeriodV*</td>\n      <td>M2III</td>\n      <td>Gaia DR3 4571810378118789760</td>\n      <td>HD 154791|2A 1704+241|3A 1703+241|AG+24 1704|A...</td>\n      <td>LP*|LXB|LXB|V*|NIR|*|IR|Opt|X|X|gam</td>\n      <td>4571810378118789760</td>\n    </tr>\n    <tr>\n      <th>10</th>\n      <td>Hen 3−1383</td>\n      <td>THA 10-15</td>\n      <td>EmLine*</td>\n      <td>M3e</td>\n      <td>Gaia DR2 5979217486808094720</td>\n      <td>Hen 3-1383|GSC 07366-01210|IRAS 17172-3306|IRA...</td>\n      <td>NIR|MIR|Em*|*|IR</td>\n      <td>5979217486808094720</td>\n    </tr>\n    <tr>\n      <th>11</th>\n      <td>WRAY 16−294</td>\n      <td>WRAY 16-294</td>\n      <td>LongPeriodV*</td>\n      <td>K5</td>\n      <td>Gaia DR2 4061952680197028224</td>\n      <td>2MASS J17391381-2538050|DENIS J173913.8-253805...</td>\n      <td>LP*|PN|NIR|Em*|*|C*?|ISM|LP?</td>\n      <td>4061952680197028224</td>\n    </tr>\n    <tr>\n      <th>12</th>\n      <td>DT Ser</td>\n      <td>V* DT Ser</td>\n      <td>Star</td>\n      <td>F8III-V</td>\n      <td>Gaia DR3 4178943599222583808</td>\n      <td>GSC 05096-01722|IRAS 17592-0126|2MASS J1801522...</td>\n      <td>MIR|NIR|V*|*|*|IR|pA?</td>\n      <td>4178943599222583808</td>\n    </tr>\n    <tr>\n      <th>13</th>\n      <td>V618 Sgr</td>\n      <td>V* V618 Sgr</td>\n      <td>RCrBV*</td>\n      <td>Me</td>\n      <td>Gaia DR3 4038647942747847936</td>\n      <td>SV* HV  7203|AN  313.1933|2MASS J18075721-3629...</td>\n      <td>pA*|LP*|NIR|RC*|V*|*</td>\n      <td>4038647942747847936</td>\n    </tr>\n    <tr>\n      <th>14</th>\n      <td>V335 Vul</td>\n      <td>EM* AS  356</td>\n      <td>C*</td>\n      <td>Ce</td>\n      <td>Gaia DR3 2022999316661190272</td>\n      <td>C* 2728|ASAS J192314+2427.7|Case  452|CGCS 425...</td>\n      <td>C*|Mi*|LP*|LP*|LP*|LP*|V*|EmO|NIR|MIR|C*|Em*|*...</td>\n      <td>2022999316661190272</td>\n    </tr>\n    <tr>\n      <th>15</th>\n      <td>V627 Cas</td>\n      <td>EM* AS  501</td>\n      <td>LongPeriodV*</td>\n      <td>M2II-III</td>\n      <td>Gaia DR3 2013433148849034368</td>\n      <td>HIP 113373|EM* AS  501|EM* VES  949|GEN# +6.20...</td>\n      <td>LP*|LP*|LP*|EmO|Em*|Mas|MIR|NIR|V*|*|IR|LP?|LP...</td>\n      <td>2013433148849034368</td>\n    </tr>\n  </tbody>\n</table>\n</div>"
     },
     "execution_count": 9,
     "metadata": {},
     "output_type": "execute_result"
    }
   ],
   "source": [
    "df6 = pd.read_csv('../../../new/candidate_symbiotic_stars_v1/built_dataset/suspected_SY_dataset.csv')\n",
    "df6"
   ],
   "metadata": {
    "collapsed": false
   }
  },
  {
   "cell_type": "code",
   "execution_count": 10,
   "outputs": [
    {
     "data": {
      "text/plain": "      FIND_NAME        MAIN_ID             Gaia DR3       0       1       2  \\\n0      RAW 1691        LIN 521  4687286621186701568  0.9918  0.0079  0.0003   \n1    [BE74] 583     [BE74] 583  4651824725526390016  0.9778  0.0221  0.0000   \n2       StHA 55  EM* StHA   55  3321366590173335424  0.8583  0.0870  0.0548   \n3    WRAY 16−51     WRAY 16-51  5410876219867043072  0.9997  0.0003  0.0000   \n4     NSV 05572      V* VX Crv  3575939163051304192  0.9941  0.0059  0.0000   \n5        AE Cir      V* AE Cir  5799841957262188928  0.8371  0.1629  0.0000   \n6      V748 Cen    V* V748 Cen  6204217186929931520  0.7493  0.2507  0.0000   \n7      V345 Nor    V* V345 Nor  5981389610704878336  0.9936  0.0064  0.0000   \n8      V934 Her    V* V934 Her  4571810378118789760  0.8106  0.0239  0.1655   \n9    Hen 3−1383      THA 10-15  5979217486808094720  0.9744  0.0252  0.0004   \n10  WRAY 16−294    WRAY 16-294  4061952680197028224  0.9728  0.0270  0.0002   \n11       DT Ser      V* DT Ser  4178943599222583808  0.0000  0.6425  0.3575   \n12     V618 Sgr    V* V618 Sgr  4038647942747847936  0.9961  0.0039  0.0000   \n13     V335 Vul    EM* AS  356  2022999316661190272  0.9378  0.0550  0.0073   \n14     V627 Cas    EM* AS  501  2013433148849034368  0.8861  0.0698  0.0441   \n\n    label  \n0       0  \n1       0  \n2       0  \n3       0  \n4       0  \n5       0  \n6       0  \n7       0  \n8       0  \n9       0  \n10      0  \n11      1  \n12      0  \n13      0  \n14      0  ",
      "text/html": "<div>\n<style scoped>\n    .dataframe tbody tr th:only-of-type {\n        vertical-align: middle;\n    }\n\n    .dataframe tbody tr th {\n        vertical-align: top;\n    }\n\n    .dataframe thead th {\n        text-align: right;\n    }\n</style>\n<table border=\"1\" class=\"dataframe\">\n  <thead>\n    <tr style=\"text-align: right;\">\n      <th></th>\n      <th>FIND_NAME</th>\n      <th>MAIN_ID</th>\n      <th>Gaia DR3</th>\n      <th>0</th>\n      <th>1</th>\n      <th>2</th>\n      <th>label</th>\n    </tr>\n  </thead>\n  <tbody>\n    <tr>\n      <th>0</th>\n      <td>RAW 1691</td>\n      <td>LIN 521</td>\n      <td>4687286621186701568</td>\n      <td>0.9918</td>\n      <td>0.0079</td>\n      <td>0.0003</td>\n      <td>0</td>\n    </tr>\n    <tr>\n      <th>1</th>\n      <td>[BE74] 583</td>\n      <td>[BE74] 583</td>\n      <td>4651824725526390016</td>\n      <td>0.9778</td>\n      <td>0.0221</td>\n      <td>0.0000</td>\n      <td>0</td>\n    </tr>\n    <tr>\n      <th>2</th>\n      <td>StHA 55</td>\n      <td>EM* StHA   55</td>\n      <td>3321366590173335424</td>\n      <td>0.8583</td>\n      <td>0.0870</td>\n      <td>0.0548</td>\n      <td>0</td>\n    </tr>\n    <tr>\n      <th>3</th>\n      <td>WRAY 16−51</td>\n      <td>WRAY 16-51</td>\n      <td>5410876219867043072</td>\n      <td>0.9997</td>\n      <td>0.0003</td>\n      <td>0.0000</td>\n      <td>0</td>\n    </tr>\n    <tr>\n      <th>4</th>\n      <td>NSV 05572</td>\n      <td>V* VX Crv</td>\n      <td>3575939163051304192</td>\n      <td>0.9941</td>\n      <td>0.0059</td>\n      <td>0.0000</td>\n      <td>0</td>\n    </tr>\n    <tr>\n      <th>5</th>\n      <td>AE Cir</td>\n      <td>V* AE Cir</td>\n      <td>5799841957262188928</td>\n      <td>0.8371</td>\n      <td>0.1629</td>\n      <td>0.0000</td>\n      <td>0</td>\n    </tr>\n    <tr>\n      <th>6</th>\n      <td>V748 Cen</td>\n      <td>V* V748 Cen</td>\n      <td>6204217186929931520</td>\n      <td>0.7493</td>\n      <td>0.2507</td>\n      <td>0.0000</td>\n      <td>0</td>\n    </tr>\n    <tr>\n      <th>7</th>\n      <td>V345 Nor</td>\n      <td>V* V345 Nor</td>\n      <td>5981389610704878336</td>\n      <td>0.9936</td>\n      <td>0.0064</td>\n      <td>0.0000</td>\n      <td>0</td>\n    </tr>\n    <tr>\n      <th>8</th>\n      <td>V934 Her</td>\n      <td>V* V934 Her</td>\n      <td>4571810378118789760</td>\n      <td>0.8106</td>\n      <td>0.0239</td>\n      <td>0.1655</td>\n      <td>0</td>\n    </tr>\n    <tr>\n      <th>9</th>\n      <td>Hen 3−1383</td>\n      <td>THA 10-15</td>\n      <td>5979217486808094720</td>\n      <td>0.9744</td>\n      <td>0.0252</td>\n      <td>0.0004</td>\n      <td>0</td>\n    </tr>\n    <tr>\n      <th>10</th>\n      <td>WRAY 16−294</td>\n      <td>WRAY 16-294</td>\n      <td>4061952680197028224</td>\n      <td>0.9728</td>\n      <td>0.0270</td>\n      <td>0.0002</td>\n      <td>0</td>\n    </tr>\n    <tr>\n      <th>11</th>\n      <td>DT Ser</td>\n      <td>V* DT Ser</td>\n      <td>4178943599222583808</td>\n      <td>0.0000</td>\n      <td>0.6425</td>\n      <td>0.3575</td>\n      <td>1</td>\n    </tr>\n    <tr>\n      <th>12</th>\n      <td>V618 Sgr</td>\n      <td>V* V618 Sgr</td>\n      <td>4038647942747847936</td>\n      <td>0.9961</td>\n      <td>0.0039</td>\n      <td>0.0000</td>\n      <td>0</td>\n    </tr>\n    <tr>\n      <th>13</th>\n      <td>V335 Vul</td>\n      <td>EM* AS  356</td>\n      <td>2022999316661190272</td>\n      <td>0.9378</td>\n      <td>0.0550</td>\n      <td>0.0073</td>\n      <td>0</td>\n    </tr>\n    <tr>\n      <th>14</th>\n      <td>V627 Cas</td>\n      <td>EM* AS  501</td>\n      <td>2013433148849034368</td>\n      <td>0.8861</td>\n      <td>0.0698</td>\n      <td>0.0441</td>\n      <td>0</td>\n    </tr>\n  </tbody>\n</table>\n</div>"
     },
     "execution_count": 10,
     "metadata": {},
     "output_type": "execute_result"
    }
   ],
   "source": [
    "# Filtro de data frames\n",
    "df_filtered = df6.merge(df5, left_on=['Gaia DR3'], right_on=['source_id'], how='inner', indicator=True)\n",
    "df_filtered = df_filtered[df_filtered['_merge'] == 'both']\n",
    "df_filtered = df_filtered.iloc[:, [0, 1, 7, 9, 10, 11, 12]]\n",
    "df_filtered"
   ],
   "metadata": {
    "collapsed": false
   }
  },
  {
   "cell_type": "code",
   "execution_count": 14,
   "outputs": [],
   "source": [
    "out_name = 'rna_unbalanced.csv'\n",
    "out_dir = '../../../new/candidate_symbiotic_stars_v1/output'\n",
    "if not os.path.exists(out_dir):\n",
    "    os.mkdir(out_dir)\n",
    "\n",
    "fullname = os.path.join(out_dir, out_name)\n",
    "df_filtered.to_csv(fullname, header=True, index=False)"
   ],
   "metadata": {
    "collapsed": false
   }
  },
  {
   "cell_type": "markdown",
   "source": [
    "# Suspected Symbiotic Stars v2"
   ],
   "metadata": {
    "collapsed": false
   }
  },
  {
   "cell_type": "code",
   "execution_count": 17,
   "outputs": [
    {
     "name": "stdout",
     "output_type": "stream",
     "text": [
      "1/1 [==============================] - 0s 21ms/step\n",
      "[[14  2  1]\n",
      " [ 0  0  0]\n",
      " [ 0  0  0]]\n"
     ]
    }
   ],
   "source": [
    "import numpy as np\n",
    "from sklearn.metrics import confusion_matrix\n",
    "\n",
    "df_sus_sy = pd.read_csv(\"../../../new/candidate_symbiotic_stars_v2/normalized/Suspected_SY.csv\", header=None)\n",
    "\n",
    "# predecir las probabilidades para los datos de prueba\n",
    "y_probs = model.predict(df_sus_sy)\n",
    "y_pred = np.argmax(y_probs, axis=-1)\n",
    "cm = confusion_matrix([0 for _ in range(len(df_sus_sy))], y_pred, labels=[0, 1, 2])\n",
    "print(cm)"
   ],
   "metadata": {
    "collapsed": false
   }
  },
  {
   "cell_type": "code",
   "execution_count": 20,
   "outputs": [
    {
     "data": {
      "text/plain": "              source_id       0       1       2  label\n0   6204217186929931520  0.0395  0.9605  0.0000      1\n1   4061952680197028224  0.9050  0.0802  0.0148      0\n2    670455944074475008  0.6006  0.0688  0.3306      0\n3   4068755633500598272  0.0359  0.0675  0.8966      2\n4   2060829659152816768  0.1874  0.8111  0.0015      1\n5   2061069597507185792  0.8199  0.1785  0.0017      0\n6   2056853691965982720  0.8237  0.1762  0.0001      0\n7   2166560763171926656  0.9218  0.0666  0.0116      0\n8   2199020614163298688  0.8879  0.1121  0.0000      0\n9   2207583404553554944  0.9017  0.0981  0.0003      0\n10  4056399699798000896  0.8015  0.1253  0.0733      0\n11  4056614345105863040  0.9379  0.0497  0.0124      0\n12  4059477915655995136  0.9658  0.0286  0.0056      0\n13  4065437955878489856  0.7448  0.0783  0.1770      0\n14  4065368033805697024  0.9669  0.0287  0.0044      0\n15  4066214520316895360  0.8491  0.1132  0.0376      0\n16  5852529218799852288  0.9926  0.0074  0.0000      0",
      "text/html": "<div>\n<style scoped>\n    .dataframe tbody tr th:only-of-type {\n        vertical-align: middle;\n    }\n\n    .dataframe tbody tr th {\n        vertical-align: top;\n    }\n\n    .dataframe thead th {\n        text-align: right;\n    }\n</style>\n<table border=\"1\" class=\"dataframe\">\n  <thead>\n    <tr style=\"text-align: right;\">\n      <th></th>\n      <th>source_id</th>\n      <th>0</th>\n      <th>1</th>\n      <th>2</th>\n      <th>label</th>\n    </tr>\n  </thead>\n  <tbody>\n    <tr>\n      <th>0</th>\n      <td>6204217186929931520</td>\n      <td>0.0395</td>\n      <td>0.9605</td>\n      <td>0.0000</td>\n      <td>1</td>\n    </tr>\n    <tr>\n      <th>1</th>\n      <td>4061952680197028224</td>\n      <td>0.9050</td>\n      <td>0.0802</td>\n      <td>0.0148</td>\n      <td>0</td>\n    </tr>\n    <tr>\n      <th>2</th>\n      <td>670455944074475008</td>\n      <td>0.6006</td>\n      <td>0.0688</td>\n      <td>0.3306</td>\n      <td>0</td>\n    </tr>\n    <tr>\n      <th>3</th>\n      <td>4068755633500598272</td>\n      <td>0.0359</td>\n      <td>0.0675</td>\n      <td>0.8966</td>\n      <td>2</td>\n    </tr>\n    <tr>\n      <th>4</th>\n      <td>2060829659152816768</td>\n      <td>0.1874</td>\n      <td>0.8111</td>\n      <td>0.0015</td>\n      <td>1</td>\n    </tr>\n    <tr>\n      <th>5</th>\n      <td>2061069597507185792</td>\n      <td>0.8199</td>\n      <td>0.1785</td>\n      <td>0.0017</td>\n      <td>0</td>\n    </tr>\n    <tr>\n      <th>6</th>\n      <td>2056853691965982720</td>\n      <td>0.8237</td>\n      <td>0.1762</td>\n      <td>0.0001</td>\n      <td>0</td>\n    </tr>\n    <tr>\n      <th>7</th>\n      <td>2166560763171926656</td>\n      <td>0.9218</td>\n      <td>0.0666</td>\n      <td>0.0116</td>\n      <td>0</td>\n    </tr>\n    <tr>\n      <th>8</th>\n      <td>2199020614163298688</td>\n      <td>0.8879</td>\n      <td>0.1121</td>\n      <td>0.0000</td>\n      <td>0</td>\n    </tr>\n    <tr>\n      <th>9</th>\n      <td>2207583404553554944</td>\n      <td>0.9017</td>\n      <td>0.0981</td>\n      <td>0.0003</td>\n      <td>0</td>\n    </tr>\n    <tr>\n      <th>10</th>\n      <td>4056399699798000896</td>\n      <td>0.8015</td>\n      <td>0.1253</td>\n      <td>0.0733</td>\n      <td>0</td>\n    </tr>\n    <tr>\n      <th>11</th>\n      <td>4056614345105863040</td>\n      <td>0.9379</td>\n      <td>0.0497</td>\n      <td>0.0124</td>\n      <td>0</td>\n    </tr>\n    <tr>\n      <th>12</th>\n      <td>4059477915655995136</td>\n      <td>0.9658</td>\n      <td>0.0286</td>\n      <td>0.0056</td>\n      <td>0</td>\n    </tr>\n    <tr>\n      <th>13</th>\n      <td>4065437955878489856</td>\n      <td>0.7448</td>\n      <td>0.0783</td>\n      <td>0.1770</td>\n      <td>0</td>\n    </tr>\n    <tr>\n      <th>14</th>\n      <td>4065368033805697024</td>\n      <td>0.9669</td>\n      <td>0.0287</td>\n      <td>0.0044</td>\n      <td>0</td>\n    </tr>\n    <tr>\n      <th>15</th>\n      <td>4066214520316895360</td>\n      <td>0.8491</td>\n      <td>0.1132</td>\n      <td>0.0376</td>\n      <td>0</td>\n    </tr>\n    <tr>\n      <th>16</th>\n      <td>5852529218799852288</td>\n      <td>0.9926</td>\n      <td>0.0074</td>\n      <td>0.0000</td>\n      <td>0</td>\n    </tr>\n  </tbody>\n</table>\n</div>"
     },
     "execution_count": 20,
     "metadata": {},
     "output_type": "execute_result"
    }
   ],
   "source": [
    "df_sus_sy_normalized = pd.read_csv(\"../../../new/candidate_symbiotic_stars_v2/calibrated_data/Suspected_SY.csv\")\n",
    "\n",
    "df5 = pd.DataFrame(y_probs)\n",
    "df5 = df5.round(4)\n",
    "df5['label'] = y_pred\n",
    "df5.insert(0, 'source_id', df_sus_sy_normalized['source_id'])\n",
    "df5"
   ],
   "metadata": {
    "collapsed": false
   }
  },
  {
   "cell_type": "code",
   "execution_count": 22,
   "outputs": [
    {
     "data": {
      "text/plain": "                     FIND_NAME                   MAIN_ID  \\\n0                     V748 Cen               V* V748 Cen   \n1                  WRAY 16-294               WRAY 16-294   \n2       DASCH J075731.1+201735       ASAS J075731+2017.6   \n3          ASAS J174600-2321.3       ASAS J174600-2321.3   \n4     IPHASJ201550.96+373004.2           IRAS 20140+3720   \n5     IPHASJ202058.52+380949.8           IRAS 20191+3800   \n6     IPHASJ202947.93+355926.5           IRAS 20278+3549   \n7     IPHASJ204713.69+463517.5              EM* UHA   23   \n8     IPHASJ215628.47+571445.5              HBHA 5704-02   \n9     IPHASJ231735.92+634506.4           IRAS 23154+6328   \n10    IPHASJ203413.39+410157.9              [CPR2002] B7   \n11    IPHASJ191017.43+065258.1           IRAS 19078+0647   \n12  VPHASDR2J175320.4-295327.4                    SS 326   \n13  VPHASDR2J175346.2-284826.6   2MASS J17534619-2848266   \n14  VPHASDR2J172830.6-292124.5   2MASS J17283059-2921245   \n15  VPHASDR2J181154.5-243536.2   2MASS J18115453-2435360   \n16  VPHASDR2J181333.6-245225.0  VPHAS J181333.6-245225.0   \n17  VPHASDR2J181123.2-241430.0              [KW2003]  95   \n18  VPHASDR2J141301.4-653320.1              WRAY 15-1180   \n19  VPHASDR2J165421.0-404248.0  VPHAS J165421.0-404248.0   \n\n                     OTYPE SP_TYPE                       ID_Gaia  \\\n0                   EclBin      Ae  Gaia DR3 6204217186929931520   \n1             LongPeriodV*      K5  Gaia DR2 4061952680197028224   \n2             LongPeriodV*   M0III   Gaia DR2 670455944074475008   \n3   LongPeriodV*_Candidate     F0I  Gaia DR2 4068755633500598272   \n4   PlanetaryNeb_Candidate     NaN  Gaia DR2 2060829659152816768   \n5   PlanetaryNeb_Candidate     NaN  Gaia DR2 2061069597507185792   \n6                      YSO      B2  Gaia DR2 2056853691965982720   \n7                  EmLine*    K/Me  Gaia DR2 2166560758862873600   \n8                  EmLine*     NaN  Gaia DR2 2199020614163298688   \n9                  EmLine*     NaN  Gaia DR2 2207583404553554944   \n10                     YSO     NaN  Gaia DR2 2067762904595539584   \n11                     YSO     NaN  Gaia DR2 4306306181461925888   \n12            LongPeriodV*     NaN  Gaia DR3 4056399699798000896   \n13  LongPeriodV*_Candidate     NaN  Gaia DR3 4056614345105863040   \n14  LongPeriodV*_Candidate     NaN  Gaia DR2 4059477915655995136   \n15  LongPeriodV*_Candidate     NaN  Gaia DR2 4065437955878489856   \n16            LongPeriodV*     NaN  Gaia DR3 4065368033805697024   \n17                 EmLine*     NaN  Gaia DR2 4066214520316895360   \n18            LongPeriodV*     NaN  Gaia DR2 5852529218799852288   \n19           YSO_Candidate     NaN                           NaN   \n\n                                                  IDS  \\\n0   CD-32 10517|ALS 18924|CRTS J145936.6-332503|CS...   \n1   2MASS J17391381-2538050|DENIS J173913.8-253805...   \n2   2MASS J07573112+2017347|ASAS J075731+2017.6|DA...   \n3   2MASS J17460018-2321163|ASAS J174600-2321.3|ER...   \n4   2MASS J20155096+3730042|AKARI-IRC-V1 J2015509+...   \n5   2MASS J20205852+3809498|AKARI-IRC-V1 J2020585+...   \n6   UCAC2  44376724|HBHA 3704-06|IPHAS J202947.93+...   \n7   EM* UHA   23|ATO J311.8070+46.5881|HBHA 4703-3...   \n8   2MASS J21562847+5714454|HBHA 5704-02|IPHAS J21...   \n9   2MASS J23173591+6345064|HBHA 6207-18|IPHAS J23...   \n10  2MASS J20341338+4101578|IPHAS J203413.39+41015...   \n11  2MASS J19101743+0652579|AKARI-IRC-V1 J1910174+...   \n12  OGLE BLG-ELL-9909|OGLE BUL-SC3 327739|SS 326|V...   \n13  2MASS J17534619-2848266|VPHAS J175346.2-284826...   \n14  2MASS J17283059-2921245|TIC 89479014|VPHAS J17...   \n15  2MASS J18115453-2435360|TIC 377345544|VPHAS J1...   \n16  VPHAS J181333.6-245225.0|[KW2003]  98|Gaia DR3...   \n17  2MASS J18112322-2414299|TIC 249402294|VPHAS J1...   \n18  2MASS J14130135-6533200|UCAC4 123-118322|VPHAS...   \n19                           VPHAS J165421.0-404248.0   \n\n                          OTYPES             Gaia DR3  \n0           EB*|Ro*|NIR|V*|Em*|*  6204217186929931520  \n1   LP*|PN|NIR|Em*|*|C*?|ISM|LP?  4061952680197028224  \n2           SB*|LP*|NIR|V*|*|Opt   670455944074475008  \n3                   NIR|V*|*|LP?  4068755633500598272  \n4           NIR|*|C*?|IR|LP?|PN?  2060829659152816768  \n5                   NIR|*|IR|PN?  2061069597507185792  \n6       Y*O|MIR|NIR|smm|Em*|*|IR  2056853691965982720  \n7     V*|Em*|NIR|V*|*|IR|Opt|PN?  2166560763171926656  \n8                      NIR|Em*|*  2199020614163298688  \n9               Em*|NIR|Em*|*|IR  2207583404553554944  \n10                 Y*O|NIR|*|PN?  2067762904595539584  \n11          Y*O|NIR|MIR|*|IR|PN?  4306306181461925888  \n12         El*|LP*|Em*|EB*|*|C*?  4056399699798000896  \n13                 NIR|*|C*?|LP?  4056614345105863040  \n14                 NIR|Em*|*|LP?  4059477915655995136  \n15             NIR|Em*|*|C*?|LP?  4065437955878489856  \n16                     LP*|Em*|*  4065368033805697024  \n17                     NIR|Em*|*  4066214520316895360  \n18         LP*|NIR|MIR|Em*|*|LP?  5852529218799852288  \n19                         *|Y*?  5969681117519736192  ",
      "text/html": "<div>\n<style scoped>\n    .dataframe tbody tr th:only-of-type {\n        vertical-align: middle;\n    }\n\n    .dataframe tbody tr th {\n        vertical-align: top;\n    }\n\n    .dataframe thead th {\n        text-align: right;\n    }\n</style>\n<table border=\"1\" class=\"dataframe\">\n  <thead>\n    <tr style=\"text-align: right;\">\n      <th></th>\n      <th>FIND_NAME</th>\n      <th>MAIN_ID</th>\n      <th>OTYPE</th>\n      <th>SP_TYPE</th>\n      <th>ID_Gaia</th>\n      <th>IDS</th>\n      <th>OTYPES</th>\n      <th>Gaia DR3</th>\n    </tr>\n  </thead>\n  <tbody>\n    <tr>\n      <th>0</th>\n      <td>V748 Cen</td>\n      <td>V* V748 Cen</td>\n      <td>EclBin</td>\n      <td>Ae</td>\n      <td>Gaia DR3 6204217186929931520</td>\n      <td>CD-32 10517|ALS 18924|CRTS J145936.6-332503|CS...</td>\n      <td>EB*|Ro*|NIR|V*|Em*|*</td>\n      <td>6204217186929931520</td>\n    </tr>\n    <tr>\n      <th>1</th>\n      <td>WRAY 16-294</td>\n      <td>WRAY 16-294</td>\n      <td>LongPeriodV*</td>\n      <td>K5</td>\n      <td>Gaia DR2 4061952680197028224</td>\n      <td>2MASS J17391381-2538050|DENIS J173913.8-253805...</td>\n      <td>LP*|PN|NIR|Em*|*|C*?|ISM|LP?</td>\n      <td>4061952680197028224</td>\n    </tr>\n    <tr>\n      <th>2</th>\n      <td>DASCH J075731.1+201735</td>\n      <td>ASAS J075731+2017.6</td>\n      <td>LongPeriodV*</td>\n      <td>M0III</td>\n      <td>Gaia DR2 670455944074475008</td>\n      <td>2MASS J07573112+2017347|ASAS J075731+2017.6|DA...</td>\n      <td>SB*|LP*|NIR|V*|*|Opt</td>\n      <td>670455944074475008</td>\n    </tr>\n    <tr>\n      <th>3</th>\n      <td>ASAS J174600-2321.3</td>\n      <td>ASAS J174600-2321.3</td>\n      <td>LongPeriodV*_Candidate</td>\n      <td>F0I</td>\n      <td>Gaia DR2 4068755633500598272</td>\n      <td>2MASS J17460018-2321163|ASAS J174600-2321.3|ER...</td>\n      <td>NIR|V*|*|LP?</td>\n      <td>4068755633500598272</td>\n    </tr>\n    <tr>\n      <th>4</th>\n      <td>IPHASJ201550.96+373004.2</td>\n      <td>IRAS 20140+3720</td>\n      <td>PlanetaryNeb_Candidate</td>\n      <td>NaN</td>\n      <td>Gaia DR2 2060829659152816768</td>\n      <td>2MASS J20155096+3730042|AKARI-IRC-V1 J2015509+...</td>\n      <td>NIR|*|C*?|IR|LP?|PN?</td>\n      <td>2060829659152816768</td>\n    </tr>\n    <tr>\n      <th>5</th>\n      <td>IPHASJ202058.52+380949.8</td>\n      <td>IRAS 20191+3800</td>\n      <td>PlanetaryNeb_Candidate</td>\n      <td>NaN</td>\n      <td>Gaia DR2 2061069597507185792</td>\n      <td>2MASS J20205852+3809498|AKARI-IRC-V1 J2020585+...</td>\n      <td>NIR|*|IR|PN?</td>\n      <td>2061069597507185792</td>\n    </tr>\n    <tr>\n      <th>6</th>\n      <td>IPHASJ202947.93+355926.5</td>\n      <td>IRAS 20278+3549</td>\n      <td>YSO</td>\n      <td>B2</td>\n      <td>Gaia DR2 2056853691965982720</td>\n      <td>UCAC2  44376724|HBHA 3704-06|IPHAS J202947.93+...</td>\n      <td>Y*O|MIR|NIR|smm|Em*|*|IR</td>\n      <td>2056853691965982720</td>\n    </tr>\n    <tr>\n      <th>7</th>\n      <td>IPHASJ204713.69+463517.5</td>\n      <td>EM* UHA   23</td>\n      <td>EmLine*</td>\n      <td>K/Me</td>\n      <td>Gaia DR2 2166560758862873600</td>\n      <td>EM* UHA   23|ATO J311.8070+46.5881|HBHA 4703-3...</td>\n      <td>V*|Em*|NIR|V*|*|IR|Opt|PN?</td>\n      <td>2166560763171926656</td>\n    </tr>\n    <tr>\n      <th>8</th>\n      <td>IPHASJ215628.47+571445.5</td>\n      <td>HBHA 5704-02</td>\n      <td>EmLine*</td>\n      <td>NaN</td>\n      <td>Gaia DR2 2199020614163298688</td>\n      <td>2MASS J21562847+5714454|HBHA 5704-02|IPHAS J21...</td>\n      <td>NIR|Em*|*</td>\n      <td>2199020614163298688</td>\n    </tr>\n    <tr>\n      <th>9</th>\n      <td>IPHASJ231735.92+634506.4</td>\n      <td>IRAS 23154+6328</td>\n      <td>EmLine*</td>\n      <td>NaN</td>\n      <td>Gaia DR2 2207583404553554944</td>\n      <td>2MASS J23173591+6345064|HBHA 6207-18|IPHAS J23...</td>\n      <td>Em*|NIR|Em*|*|IR</td>\n      <td>2207583404553554944</td>\n    </tr>\n    <tr>\n      <th>10</th>\n      <td>IPHASJ203413.39+410157.9</td>\n      <td>[CPR2002] B7</td>\n      <td>YSO</td>\n      <td>NaN</td>\n      <td>Gaia DR2 2067762904595539584</td>\n      <td>2MASS J20341338+4101578|IPHAS J203413.39+41015...</td>\n      <td>Y*O|NIR|*|PN?</td>\n      <td>2067762904595539584</td>\n    </tr>\n    <tr>\n      <th>11</th>\n      <td>IPHASJ191017.43+065258.1</td>\n      <td>IRAS 19078+0647</td>\n      <td>YSO</td>\n      <td>NaN</td>\n      <td>Gaia DR2 4306306181461925888</td>\n      <td>2MASS J19101743+0652579|AKARI-IRC-V1 J1910174+...</td>\n      <td>Y*O|NIR|MIR|*|IR|PN?</td>\n      <td>4306306181461925888</td>\n    </tr>\n    <tr>\n      <th>12</th>\n      <td>VPHASDR2J175320.4-295327.4</td>\n      <td>SS 326</td>\n      <td>LongPeriodV*</td>\n      <td>NaN</td>\n      <td>Gaia DR3 4056399699798000896</td>\n      <td>OGLE BLG-ELL-9909|OGLE BUL-SC3 327739|SS 326|V...</td>\n      <td>El*|LP*|Em*|EB*|*|C*?</td>\n      <td>4056399699798000896</td>\n    </tr>\n    <tr>\n      <th>13</th>\n      <td>VPHASDR2J175346.2-284826.6</td>\n      <td>2MASS J17534619-2848266</td>\n      <td>LongPeriodV*_Candidate</td>\n      <td>NaN</td>\n      <td>Gaia DR3 4056614345105863040</td>\n      <td>2MASS J17534619-2848266|VPHAS J175346.2-284826...</td>\n      <td>NIR|*|C*?|LP?</td>\n      <td>4056614345105863040</td>\n    </tr>\n    <tr>\n      <th>14</th>\n      <td>VPHASDR2J172830.6-292124.5</td>\n      <td>2MASS J17283059-2921245</td>\n      <td>LongPeriodV*_Candidate</td>\n      <td>NaN</td>\n      <td>Gaia DR2 4059477915655995136</td>\n      <td>2MASS J17283059-2921245|TIC 89479014|VPHAS J17...</td>\n      <td>NIR|Em*|*|LP?</td>\n      <td>4059477915655995136</td>\n    </tr>\n    <tr>\n      <th>15</th>\n      <td>VPHASDR2J181154.5-243536.2</td>\n      <td>2MASS J18115453-2435360</td>\n      <td>LongPeriodV*_Candidate</td>\n      <td>NaN</td>\n      <td>Gaia DR2 4065437955878489856</td>\n      <td>2MASS J18115453-2435360|TIC 377345544|VPHAS J1...</td>\n      <td>NIR|Em*|*|C*?|LP?</td>\n      <td>4065437955878489856</td>\n    </tr>\n    <tr>\n      <th>16</th>\n      <td>VPHASDR2J181333.6-245225.0</td>\n      <td>VPHAS J181333.6-245225.0</td>\n      <td>LongPeriodV*</td>\n      <td>NaN</td>\n      <td>Gaia DR3 4065368033805697024</td>\n      <td>VPHAS J181333.6-245225.0|[KW2003]  98|Gaia DR3...</td>\n      <td>LP*|Em*|*</td>\n      <td>4065368033805697024</td>\n    </tr>\n    <tr>\n      <th>17</th>\n      <td>VPHASDR2J181123.2-241430.0</td>\n      <td>[KW2003]  95</td>\n      <td>EmLine*</td>\n      <td>NaN</td>\n      <td>Gaia DR2 4066214520316895360</td>\n      <td>2MASS J18112322-2414299|TIC 249402294|VPHAS J1...</td>\n      <td>NIR|Em*|*</td>\n      <td>4066214520316895360</td>\n    </tr>\n    <tr>\n      <th>18</th>\n      <td>VPHASDR2J141301.4-653320.1</td>\n      <td>WRAY 15-1180</td>\n      <td>LongPeriodV*</td>\n      <td>NaN</td>\n      <td>Gaia DR2 5852529218799852288</td>\n      <td>2MASS J14130135-6533200|UCAC4 123-118322|VPHAS...</td>\n      <td>LP*|NIR|MIR|Em*|*|LP?</td>\n      <td>5852529218799852288</td>\n    </tr>\n    <tr>\n      <th>19</th>\n      <td>VPHASDR2J165421.0-404248.0</td>\n      <td>VPHAS J165421.0-404248.0</td>\n      <td>YSO_Candidate</td>\n      <td>NaN</td>\n      <td>NaN</td>\n      <td>VPHAS J165421.0-404248.0</td>\n      <td>*|Y*?</td>\n      <td>5969681117519736192</td>\n    </tr>\n  </tbody>\n</table>\n</div>"
     },
     "execution_count": 22,
     "metadata": {},
     "output_type": "execute_result"
    }
   ],
   "source": [
    "df6 = pd.read_csv('../../../new/candidate_symbiotic_stars_v2/built_dataset/suspected_SY_dataset.csv')\n",
    "df6"
   ],
   "metadata": {
    "collapsed": false
   }
  },
  {
   "cell_type": "code",
   "execution_count": 23,
   "outputs": [
    {
     "data": {
      "text/plain": "                     FIND_NAME                   MAIN_ID             Gaia DR3  \\\n0                     V748 Cen               V* V748 Cen  6204217186929931520   \n1                  WRAY 16-294               WRAY 16-294  4061952680197028224   \n2       DASCH J075731.1+201735       ASAS J075731+2017.6   670455944074475008   \n3          ASAS J174600-2321.3       ASAS J174600-2321.3  4068755633500598272   \n4     IPHASJ201550.96+373004.2           IRAS 20140+3720  2060829659152816768   \n5     IPHASJ202058.52+380949.8           IRAS 20191+3800  2061069597507185792   \n6     IPHASJ202947.93+355926.5           IRAS 20278+3549  2056853691965982720   \n7     IPHASJ204713.69+463517.5              EM* UHA   23  2166560763171926656   \n8     IPHASJ215628.47+571445.5              HBHA 5704-02  2199020614163298688   \n9     IPHASJ231735.92+634506.4           IRAS 23154+6328  2207583404553554944   \n10  VPHASDR2J175320.4-295327.4                    SS 326  4056399699798000896   \n11  VPHASDR2J175346.2-284826.6   2MASS J17534619-2848266  4056614345105863040   \n12  VPHASDR2J172830.6-292124.5   2MASS J17283059-2921245  4059477915655995136   \n13  VPHASDR2J181154.5-243536.2   2MASS J18115453-2435360  4065437955878489856   \n14  VPHASDR2J181333.6-245225.0  VPHAS J181333.6-245225.0  4065368033805697024   \n15  VPHASDR2J181123.2-241430.0              [KW2003]  95  4066214520316895360   \n16  VPHASDR2J141301.4-653320.1              WRAY 15-1180  5852529218799852288   \n\n         0       1       2  label  \n0   0.0395  0.9605  0.0000      1  \n1   0.9050  0.0802  0.0148      0  \n2   0.6006  0.0688  0.3306      0  \n3   0.0359  0.0675  0.8966      2  \n4   0.1874  0.8111  0.0015      1  \n5   0.8199  0.1785  0.0017      0  \n6   0.8237  0.1762  0.0001      0  \n7   0.9218  0.0666  0.0116      0  \n8   0.8879  0.1121  0.0000      0  \n9   0.9017  0.0981  0.0003      0  \n10  0.8015  0.1253  0.0733      0  \n11  0.9379  0.0497  0.0124      0  \n12  0.9658  0.0286  0.0056      0  \n13  0.7448  0.0783  0.1770      0  \n14  0.9669  0.0287  0.0044      0  \n15  0.8491  0.1132  0.0376      0  \n16  0.9926  0.0074  0.0000      0  ",
      "text/html": "<div>\n<style scoped>\n    .dataframe tbody tr th:only-of-type {\n        vertical-align: middle;\n    }\n\n    .dataframe tbody tr th {\n        vertical-align: top;\n    }\n\n    .dataframe thead th {\n        text-align: right;\n    }\n</style>\n<table border=\"1\" class=\"dataframe\">\n  <thead>\n    <tr style=\"text-align: right;\">\n      <th></th>\n      <th>FIND_NAME</th>\n      <th>MAIN_ID</th>\n      <th>Gaia DR3</th>\n      <th>0</th>\n      <th>1</th>\n      <th>2</th>\n      <th>label</th>\n    </tr>\n  </thead>\n  <tbody>\n    <tr>\n      <th>0</th>\n      <td>V748 Cen</td>\n      <td>V* V748 Cen</td>\n      <td>6204217186929931520</td>\n      <td>0.0395</td>\n      <td>0.9605</td>\n      <td>0.0000</td>\n      <td>1</td>\n    </tr>\n    <tr>\n      <th>1</th>\n      <td>WRAY 16-294</td>\n      <td>WRAY 16-294</td>\n      <td>4061952680197028224</td>\n      <td>0.9050</td>\n      <td>0.0802</td>\n      <td>0.0148</td>\n      <td>0</td>\n    </tr>\n    <tr>\n      <th>2</th>\n      <td>DASCH J075731.1+201735</td>\n      <td>ASAS J075731+2017.6</td>\n      <td>670455944074475008</td>\n      <td>0.6006</td>\n      <td>0.0688</td>\n      <td>0.3306</td>\n      <td>0</td>\n    </tr>\n    <tr>\n      <th>3</th>\n      <td>ASAS J174600-2321.3</td>\n      <td>ASAS J174600-2321.3</td>\n      <td>4068755633500598272</td>\n      <td>0.0359</td>\n      <td>0.0675</td>\n      <td>0.8966</td>\n      <td>2</td>\n    </tr>\n    <tr>\n      <th>4</th>\n      <td>IPHASJ201550.96+373004.2</td>\n      <td>IRAS 20140+3720</td>\n      <td>2060829659152816768</td>\n      <td>0.1874</td>\n      <td>0.8111</td>\n      <td>0.0015</td>\n      <td>1</td>\n    </tr>\n    <tr>\n      <th>5</th>\n      <td>IPHASJ202058.52+380949.8</td>\n      <td>IRAS 20191+3800</td>\n      <td>2061069597507185792</td>\n      <td>0.8199</td>\n      <td>0.1785</td>\n      <td>0.0017</td>\n      <td>0</td>\n    </tr>\n    <tr>\n      <th>6</th>\n      <td>IPHASJ202947.93+355926.5</td>\n      <td>IRAS 20278+3549</td>\n      <td>2056853691965982720</td>\n      <td>0.8237</td>\n      <td>0.1762</td>\n      <td>0.0001</td>\n      <td>0</td>\n    </tr>\n    <tr>\n      <th>7</th>\n      <td>IPHASJ204713.69+463517.5</td>\n      <td>EM* UHA   23</td>\n      <td>2166560763171926656</td>\n      <td>0.9218</td>\n      <td>0.0666</td>\n      <td>0.0116</td>\n      <td>0</td>\n    </tr>\n    <tr>\n      <th>8</th>\n      <td>IPHASJ215628.47+571445.5</td>\n      <td>HBHA 5704-02</td>\n      <td>2199020614163298688</td>\n      <td>0.8879</td>\n      <td>0.1121</td>\n      <td>0.0000</td>\n      <td>0</td>\n    </tr>\n    <tr>\n      <th>9</th>\n      <td>IPHASJ231735.92+634506.4</td>\n      <td>IRAS 23154+6328</td>\n      <td>2207583404553554944</td>\n      <td>0.9017</td>\n      <td>0.0981</td>\n      <td>0.0003</td>\n      <td>0</td>\n    </tr>\n    <tr>\n      <th>10</th>\n      <td>VPHASDR2J175320.4-295327.4</td>\n      <td>SS 326</td>\n      <td>4056399699798000896</td>\n      <td>0.8015</td>\n      <td>0.1253</td>\n      <td>0.0733</td>\n      <td>0</td>\n    </tr>\n    <tr>\n      <th>11</th>\n      <td>VPHASDR2J175346.2-284826.6</td>\n      <td>2MASS J17534619-2848266</td>\n      <td>4056614345105863040</td>\n      <td>0.9379</td>\n      <td>0.0497</td>\n      <td>0.0124</td>\n      <td>0</td>\n    </tr>\n    <tr>\n      <th>12</th>\n      <td>VPHASDR2J172830.6-292124.5</td>\n      <td>2MASS J17283059-2921245</td>\n      <td>4059477915655995136</td>\n      <td>0.9658</td>\n      <td>0.0286</td>\n      <td>0.0056</td>\n      <td>0</td>\n    </tr>\n    <tr>\n      <th>13</th>\n      <td>VPHASDR2J181154.5-243536.2</td>\n      <td>2MASS J18115453-2435360</td>\n      <td>4065437955878489856</td>\n      <td>0.7448</td>\n      <td>0.0783</td>\n      <td>0.1770</td>\n      <td>0</td>\n    </tr>\n    <tr>\n      <th>14</th>\n      <td>VPHASDR2J181333.6-245225.0</td>\n      <td>VPHAS J181333.6-245225.0</td>\n      <td>4065368033805697024</td>\n      <td>0.9669</td>\n      <td>0.0287</td>\n      <td>0.0044</td>\n      <td>0</td>\n    </tr>\n    <tr>\n      <th>15</th>\n      <td>VPHASDR2J181123.2-241430.0</td>\n      <td>[KW2003]  95</td>\n      <td>4066214520316895360</td>\n      <td>0.8491</td>\n      <td>0.1132</td>\n      <td>0.0376</td>\n      <td>0</td>\n    </tr>\n    <tr>\n      <th>16</th>\n      <td>VPHASDR2J141301.4-653320.1</td>\n      <td>WRAY 15-1180</td>\n      <td>5852529218799852288</td>\n      <td>0.9926</td>\n      <td>0.0074</td>\n      <td>0.0000</td>\n      <td>0</td>\n    </tr>\n  </tbody>\n</table>\n</div>"
     },
     "execution_count": 23,
     "metadata": {},
     "output_type": "execute_result"
    }
   ],
   "source": [
    "# Filtro de data frames\n",
    "df_filtered = df6.merge(df5, left_on=['Gaia DR3'], right_on=['source_id'], how='inner', indicator=True)\n",
    "df_filtered = df_filtered[df_filtered['_merge'] == 'both']\n",
    "df_filtered = df_filtered.iloc[:, [0, 1, 7, 9, 10, 11, 12]]\n",
    "df_filtered"
   ],
   "metadata": {
    "collapsed": false
   }
  },
  {
   "cell_type": "code",
   "execution_count": 24,
   "outputs": [],
   "source": [
    "out_name = 'rna_unbalanced.csv'\n",
    "out_dir = '../../../new/candidate_symbiotic_stars_v2/output'\n",
    "if not os.path.exists(out_dir):\n",
    "    os.mkdir(out_dir)\n",
    "\n",
    "fullname = os.path.join(out_dir, out_name)\n",
    "df_filtered.to_csv(fullname, header=True, index=False)"
   ],
   "metadata": {
    "collapsed": false
   }
  },
  {
   "cell_type": "code",
   "execution_count": null,
   "outputs": [],
   "source": [],
   "metadata": {
    "collapsed": false
   }
  }
 ],
 "metadata": {
  "kernelspec": {
   "display_name": "Python 3",
   "language": "python",
   "name": "python3"
  },
  "language_info": {
   "codemirror_mode": {
    "name": "ipython",
    "version": 2
   },
   "file_extension": ".py",
   "mimetype": "text/x-python",
   "name": "python",
   "nbconvert_exporter": "python",
   "pygments_lexer": "ipython2",
   "version": "2.7.6"
  }
 },
 "nbformat": 4,
 "nbformat_minor": 0
}
